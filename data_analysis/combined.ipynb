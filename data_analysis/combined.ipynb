{
 "cells": [
  {
   "cell_type": "markdown",
   "metadata": {},
   "source": [
    "# Comparison of rent and sale prices"
   ]
  },
  {
   "cell_type": "markdown",
   "metadata": {},
   "source": [
    "## 0) Imports"
   ]
  },
  {
   "cell_type": "code",
   "execution_count": 1,
   "metadata": {},
   "outputs": [
    {
     "data": {
      "application/javascript": [
       "\n",
       "            setTimeout(function() {\n",
       "                var nbb_cell_id = 1;\n",
       "                var nbb_unformatted_code = \"%load_ext nb_black\\nimport numpy as np\\n\\nfrom matplotlib import pyplot as plt\\n\\n%matplotlib inline\\nplt.rcParams[\\\"figure.figsize\\\"] = (15, 10)\\n\\nimport pandas as pd\\n\\npd.set_option(\\\"display.precision\\\", 4)\";\n",
       "                var nbb_formatted_code = \"%load_ext nb_black\\nimport numpy as np\\n\\nfrom matplotlib import pyplot as plt\\n\\n%matplotlib inline\\nplt.rcParams[\\\"figure.figsize\\\"] = (15, 10)\\n\\nimport pandas as pd\\n\\npd.set_option(\\\"display.precision\\\", 4)\";\n",
       "                var nbb_cells = Jupyter.notebook.get_cells();\n",
       "                for (var i = 0; i < nbb_cells.length; ++i) {\n",
       "                    if (nbb_cells[i].input_prompt_number == nbb_cell_id) {\n",
       "                        if (nbb_cells[i].get_text() == nbb_unformatted_code) {\n",
       "                             nbb_cells[i].set_text(nbb_formatted_code);\n",
       "                        }\n",
       "                        break;\n",
       "                    }\n",
       "                }\n",
       "            }, 500);\n",
       "            "
      ],
      "text/plain": [
       "<IPython.core.display.Javascript object>"
      ]
     },
     "metadata": {},
     "output_type": "display_data"
    }
   ],
   "source": [
    "%load_ext nb_black\n",
    "import numpy as np\n",
    "\n",
    "from matplotlib import pyplot as plt\n",
    "\n",
    "%matplotlib inline\n",
    "plt.rcParams[\"figure.figsize\"] = (15, 10)\n",
    "\n",
    "import pandas as pd\n",
    "\n",
    "pd.set_option(\"display.precision\", 4)"
   ]
  },
  {
   "cell_type": "markdown",
   "metadata": {},
   "source": [
    "## 1) Data cleaning"
   ]
  },
  {
   "cell_type": "markdown",
   "metadata": {},
   "source": [
    "#### load data:"
   ]
  },
  {
   "cell_type": "code",
   "execution_count": 2,
   "metadata": {},
   "outputs": [
    {
     "data": {
      "application/javascript": [
       "\n",
       "            setTimeout(function() {\n",
       "                var nbb_cell_id = 2;\n",
       "                var nbb_unformatted_code = \"date = \\\"2020-04-13\\\"\\nrent_filepath = f\\\"../data/mieten{date}.csv\\\"\\nsale_filepath = f\\\"../data/kaufen{date}.csv\\\"\\nrent_df = pd.read_csv(rent_filepath, sep=\\\";\\\", low_memory=False)\\nsale_df = pd.read_csv(sale_filepath, sep=\\\";\\\", low_memory=False)\";\n",
       "                var nbb_formatted_code = \"date = \\\"2020-04-13\\\"\\nrent_filepath = f\\\"../data/mieten{date}.csv\\\"\\nsale_filepath = f\\\"../data/kaufen{date}.csv\\\"\\nrent_df = pd.read_csv(rent_filepath, sep=\\\";\\\", low_memory=False)\\nsale_df = pd.read_csv(sale_filepath, sep=\\\";\\\", low_memory=False)\";\n",
       "                var nbb_cells = Jupyter.notebook.get_cells();\n",
       "                for (var i = 0; i < nbb_cells.length; ++i) {\n",
       "                    if (nbb_cells[i].input_prompt_number == nbb_cell_id) {\n",
       "                        if (nbb_cells[i].get_text() == nbb_unformatted_code) {\n",
       "                             nbb_cells[i].set_text(nbb_formatted_code);\n",
       "                        }\n",
       "                        break;\n",
       "                    }\n",
       "                }\n",
       "            }, 500);\n",
       "            "
      ],
      "text/plain": [
       "<IPython.core.display.Javascript object>"
      ]
     },
     "metadata": {},
     "output_type": "display_data"
    }
   ],
   "source": [
    "date = \"2020-04-13\"\n",
    "rent_filepath = f\"../data/mieten{date}.csv\"\n",
    "sale_filepath = f\"../data/kaufen{date}.csv\"\n",
    "rent_df = pd.read_csv(rent_filepath, sep=\";\", low_memory=False)\n",
    "sale_df = pd.read_csv(sale_filepath, sep=\";\", low_memory=False)"
   ]
  },
  {
   "cell_type": "markdown",
   "metadata": {},
   "source": [
    "#### remove duplicates:"
   ]
  },
  {
   "cell_type": "code",
   "execution_count": 3,
   "metadata": {},
   "outputs": [
    {
     "data": {
      "application/javascript": [
       "\n",
       "            setTimeout(function() {\n",
       "                var nbb_cell_id = 3;\n",
       "                var nbb_unformatted_code = \"rent_df = rent_df.drop_duplicates(subset=\\\"obj_scoutId\\\")\\nsale_df = sale_df.drop_duplicates(subset=\\\"obj_scoutId\\\")\";\n",
       "                var nbb_formatted_code = \"rent_df = rent_df.drop_duplicates(subset=\\\"obj_scoutId\\\")\\nsale_df = sale_df.drop_duplicates(subset=\\\"obj_scoutId\\\")\";\n",
       "                var nbb_cells = Jupyter.notebook.get_cells();\n",
       "                for (var i = 0; i < nbb_cells.length; ++i) {\n",
       "                    if (nbb_cells[i].input_prompt_number == nbb_cell_id) {\n",
       "                        if (nbb_cells[i].get_text() == nbb_unformatted_code) {\n",
       "                             nbb_cells[i].set_text(nbb_formatted_code);\n",
       "                        }\n",
       "                        break;\n",
       "                    }\n",
       "                }\n",
       "            }, 500);\n",
       "            "
      ],
      "text/plain": [
       "<IPython.core.display.Javascript object>"
      ]
     },
     "metadata": {},
     "output_type": "display_data"
    }
   ],
   "source": [
    "rent_df = rent_df.drop_duplicates(subset=\"obj_scoutId\")\n",
    "sale_df = sale_df.drop_duplicates(subset=\"obj_scoutId\")"
   ]
  },
  {
   "cell_type": "markdown",
   "metadata": {},
   "source": [
    "#### remove columns with missing values:"
   ]
  },
  {
   "cell_type": "code",
   "execution_count": 4,
   "metadata": {},
   "outputs": [
    {
     "data": {
      "application/javascript": [
       "\n",
       "            setTimeout(function() {\n",
       "                var nbb_cell_id = 4;\n",
       "                var nbb_unformatted_code = \"rent_df = rent_df[rent_df.columns[~rent_df.isnull().any()]]\\nsale_df = sale_df[sale_df.columns[~sale_df.isnull().any()]]\";\n",
       "                var nbb_formatted_code = \"rent_df = rent_df[rent_df.columns[~rent_df.isnull().any()]]\\nsale_df = sale_df[sale_df.columns[~sale_df.isnull().any()]]\";\n",
       "                var nbb_cells = Jupyter.notebook.get_cells();\n",
       "                for (var i = 0; i < nbb_cells.length; ++i) {\n",
       "                    if (nbb_cells[i].input_prompt_number == nbb_cell_id) {\n",
       "                        if (nbb_cells[i].get_text() == nbb_unformatted_code) {\n",
       "                             nbb_cells[i].set_text(nbb_formatted_code);\n",
       "                        }\n",
       "                        break;\n",
       "                    }\n",
       "                }\n",
       "            }, 500);\n",
       "            "
      ],
      "text/plain": [
       "<IPython.core.display.Javascript object>"
      ]
     },
     "metadata": {},
     "output_type": "display_data"
    }
   ],
   "source": [
    "rent_df = rent_df[rent_df.columns[~rent_df.isnull().any()]]\n",
    "sale_df = sale_df[sale_df.columns[~sale_df.isnull().any()]]"
   ]
  },
  {
   "cell_type": "markdown",
   "metadata": {},
   "source": [
    "## 2) Feature engineering"
   ]
  },
  {
   "cell_type": "markdown",
   "metadata": {},
   "source": [
    "#### add relative prices:"
   ]
  },
  {
   "cell_type": "code",
   "execution_count": 5,
   "metadata": {
    "scrolled": true
   },
   "outputs": [
    {
     "data": {
      "application/javascript": [
       "\n",
       "            setTimeout(function() {\n",
       "                var nbb_cell_id = 5;\n",
       "                var nbb_unformatted_code = \"rent_df[\\\"rent_m2\\\"] = rent_df[\\\"obj_baseRent\\\"] / rent_df[\\\"obj_livingSpace\\\"]\\nrent_df[\\\"link\\\"] = \\\"https://www.immobilienscout24.de/expose/\\\" + rent_df[\\n    \\\"obj_scoutId\\\"\\n].astype(str)\\n\\nsale_df[\\\"price_m2\\\"] = sale_df[\\\"obj_purchasePrice\\\"] / sale_df[\\\"obj_livingSpace\\\"]\\nsale_df[\\\"link\\\"] = \\\"https://www.immobilienscout24.de/expose/\\\" + sale_df[\\n    \\\"obj_scoutId\\\"\\n].astype(str)\";\n",
       "                var nbb_formatted_code = \"rent_df[\\\"rent_m2\\\"] = rent_df[\\\"obj_baseRent\\\"] / rent_df[\\\"obj_livingSpace\\\"]\\nrent_df[\\\"link\\\"] = \\\"https://www.immobilienscout24.de/expose/\\\" + rent_df[\\n    \\\"obj_scoutId\\\"\\n].astype(str)\\n\\nsale_df[\\\"price_m2\\\"] = sale_df[\\\"obj_purchasePrice\\\"] / sale_df[\\\"obj_livingSpace\\\"]\\nsale_df[\\\"link\\\"] = \\\"https://www.immobilienscout24.de/expose/\\\" + sale_df[\\n    \\\"obj_scoutId\\\"\\n].astype(str)\";\n",
       "                var nbb_cells = Jupyter.notebook.get_cells();\n",
       "                for (var i = 0; i < nbb_cells.length; ++i) {\n",
       "                    if (nbb_cells[i].input_prompt_number == nbb_cell_id) {\n",
       "                        if (nbb_cells[i].get_text() == nbb_unformatted_code) {\n",
       "                             nbb_cells[i].set_text(nbb_formatted_code);\n",
       "                        }\n",
       "                        break;\n",
       "                    }\n",
       "                }\n",
       "            }, 500);\n",
       "            "
      ],
      "text/plain": [
       "<IPython.core.display.Javascript object>"
      ]
     },
     "metadata": {},
     "output_type": "display_data"
    }
   ],
   "source": [
    "rent_df[\"rent_m2\"] = rent_df[\"obj_baseRent\"] / rent_df[\"obj_livingSpace\"]\n",
    "rent_df[\"link\"] = \"https://www.immobilienscout24.de/expose/\" + rent_df[\n",
    "    \"obj_scoutId\"\n",
    "].astype(str)\n",
    "\n",
    "sale_df[\"price_m2\"] = sale_df[\"obj_purchasePrice\"] / sale_df[\"obj_livingSpace\"]\n",
    "sale_df[\"link\"] = \"https://www.immobilienscout24.de/expose/\" + sale_df[\n",
    "    \"obj_scoutId\"\n",
    "].astype(str)"
   ]
  },
  {
   "cell_type": "markdown",
   "metadata": {},
   "source": [
    "#### add median rents for zip and kreis"
   ]
  },
  {
   "cell_type": "code",
   "execution_count": 6,
   "metadata": {},
   "outputs": [
    {
     "data": {
      "application/javascript": [
       "\n",
       "            setTimeout(function() {\n",
       "                var nbb_cell_id = 6;\n",
       "                var nbb_unformatted_code = \"g = rent_df.groupby(\\\"obj_zipCode\\\")[\\\"rent_m2\\\"].median()\\ng.name = \\\"rent_m2_zip\\\"\\nrent_df = rent_df.join(g, on=\\\"obj_zipCode\\\").copy()\\n\\ng = rent_df.groupby(\\\"obj_regio2\\\")[\\\"rent_m2\\\"].median()\\ng.name = \\\"rent_m2_kreis\\\"\\nrent_df = rent_df.join(g, on=\\\"obj_regio2\\\").copy()\";\n",
       "                var nbb_formatted_code = \"g = rent_df.groupby(\\\"obj_zipCode\\\")[\\\"rent_m2\\\"].median()\\ng.name = \\\"rent_m2_zip\\\"\\nrent_df = rent_df.join(g, on=\\\"obj_zipCode\\\").copy()\\n\\ng = rent_df.groupby(\\\"obj_regio2\\\")[\\\"rent_m2\\\"].median()\\ng.name = \\\"rent_m2_kreis\\\"\\nrent_df = rent_df.join(g, on=\\\"obj_regio2\\\").copy()\";\n",
       "                var nbb_cells = Jupyter.notebook.get_cells();\n",
       "                for (var i = 0; i < nbb_cells.length; ++i) {\n",
       "                    if (nbb_cells[i].input_prompt_number == nbb_cell_id) {\n",
       "                        if (nbb_cells[i].get_text() == nbb_unformatted_code) {\n",
       "                             nbb_cells[i].set_text(nbb_formatted_code);\n",
       "                        }\n",
       "                        break;\n",
       "                    }\n",
       "                }\n",
       "            }, 500);\n",
       "            "
      ],
      "text/plain": [
       "<IPython.core.display.Javascript object>"
      ]
     },
     "metadata": {},
     "output_type": "display_data"
    }
   ],
   "source": [
    "g = rent_df.groupby(\"obj_zipCode\")[\"rent_m2\"].median()\n",
    "g.name = \"rent_m2_zip\"\n",
    "rent_df = rent_df.join(g, on=\"obj_zipCode\").copy()\n",
    "\n",
    "g = rent_df.groupby(\"obj_regio2\")[\"rent_m2\"].median()\n",
    "g.name = \"rent_m2_kreis\"\n",
    "rent_df = rent_df.join(g, on=\"obj_regio2\").copy()"
   ]
  },
  {
   "cell_type": "markdown",
   "metadata": {},
   "source": [
    "#### add median prices for zip and kreis"
   ]
  },
  {
   "cell_type": "code",
   "execution_count": 7,
   "metadata": {},
   "outputs": [
    {
     "data": {
      "application/javascript": [
       "\n",
       "            setTimeout(function() {\n",
       "                var nbb_cell_id = 7;\n",
       "                var nbb_unformatted_code = \"g = sale_df.groupby(\\\"obj_zipCode\\\")[\\\"price_m2\\\"].median()\\ng.name = \\\"price_m2_zip\\\"\\nsale_df = sale_df.join(g, on=\\\"obj_zipCode\\\").copy()\\n\\ng = sale_df.groupby(\\\"obj_regio2\\\")[\\\"price_m2\\\"].median()\\ng.name = \\\"price_m2_kreis\\\"\\nsale_df = sale_df.join(g, on=\\\"obj_regio2\\\").copy()\";\n",
       "                var nbb_formatted_code = \"g = sale_df.groupby(\\\"obj_zipCode\\\")[\\\"price_m2\\\"].median()\\ng.name = \\\"price_m2_zip\\\"\\nsale_df = sale_df.join(g, on=\\\"obj_zipCode\\\").copy()\\n\\ng = sale_df.groupby(\\\"obj_regio2\\\")[\\\"price_m2\\\"].median()\\ng.name = \\\"price_m2_kreis\\\"\\nsale_df = sale_df.join(g, on=\\\"obj_regio2\\\").copy()\";\n",
       "                var nbb_cells = Jupyter.notebook.get_cells();\n",
       "                for (var i = 0; i < nbb_cells.length; ++i) {\n",
       "                    if (nbb_cells[i].input_prompt_number == nbb_cell_id) {\n",
       "                        if (nbb_cells[i].get_text() == nbb_unformatted_code) {\n",
       "                             nbb_cells[i].set_text(nbb_formatted_code);\n",
       "                        }\n",
       "                        break;\n",
       "                    }\n",
       "                }\n",
       "            }, 500);\n",
       "            "
      ],
      "text/plain": [
       "<IPython.core.display.Javascript object>"
      ]
     },
     "metadata": {},
     "output_type": "display_data"
    }
   ],
   "source": [
    "g = sale_df.groupby(\"obj_zipCode\")[\"price_m2\"].median()\n",
    "g.name = \"price_m2_zip\"\n",
    "sale_df = sale_df.join(g, on=\"obj_zipCode\").copy()\n",
    "\n",
    "g = sale_df.groupby(\"obj_regio2\")[\"price_m2\"].median()\n",
    "g.name = \"price_m2_kreis\"\n",
    "sale_df = sale_df.join(g, on=\"obj_regio2\").copy()"
   ]
  },
  {
   "cell_type": "markdown",
   "metadata": {},
   "source": [
    "#### add return of investment based on median prices for zip"
   ]
  },
  {
   "cell_type": "code",
   "execution_count": 8,
   "metadata": {},
   "outputs": [
    {
     "data": {
      "application/javascript": [
       "\n",
       "            setTimeout(function() {\n",
       "                var nbb_cell_id = 8;\n",
       "                var nbb_unformatted_code = \"g = rent_df.groupby(\\\"obj_zipCode\\\")[\\\"rent_m2\\\"].median()\\ng.name = \\\"rent_m2_zip\\\"\\nsale_df = sale_df.join(g, on=\\\"obj_zipCode\\\").copy()\\n\\nsale_df[\\\"yearly_ROI\\\"] = sale_df[\\\"rent_m2_zip\\\"] * 12 / sale_df[\\\"price_m2\\\"]\";\n",
       "                var nbb_formatted_code = \"g = rent_df.groupby(\\\"obj_zipCode\\\")[\\\"rent_m2\\\"].median()\\ng.name = \\\"rent_m2_zip\\\"\\nsale_df = sale_df.join(g, on=\\\"obj_zipCode\\\").copy()\\n\\nsale_df[\\\"yearly_ROI\\\"] = sale_df[\\\"rent_m2_zip\\\"] * 12 / sale_df[\\\"price_m2\\\"]\";\n",
       "                var nbb_cells = Jupyter.notebook.get_cells();\n",
       "                for (var i = 0; i < nbb_cells.length; ++i) {\n",
       "                    if (nbb_cells[i].input_prompt_number == nbb_cell_id) {\n",
       "                        if (nbb_cells[i].get_text() == nbb_unformatted_code) {\n",
       "                             nbb_cells[i].set_text(nbb_formatted_code);\n",
       "                        }\n",
       "                        break;\n",
       "                    }\n",
       "                }\n",
       "            }, 500);\n",
       "            "
      ],
      "text/plain": [
       "<IPython.core.display.Javascript object>"
      ]
     },
     "metadata": {},
     "output_type": "display_data"
    }
   ],
   "source": [
    "g = rent_df.groupby(\"obj_zipCode\")[\"rent_m2\"].median()\n",
    "g.name = \"rent_m2_zip\"\n",
    "sale_df = sale_df.join(g, on=\"obj_zipCode\").copy()\n",
    "\n",
    "sale_df[\"yearly_ROI\"] = sale_df[\"rent_m2_zip\"] * 12 / sale_df[\"price_m2\"]"
   ]
  },
  {
   "cell_type": "markdown",
   "metadata": {},
   "source": [
    "#### group median rents and prices into new dataframe:"
   ]
  },
  {
   "cell_type": "code",
   "execution_count": 9,
   "metadata": {},
   "outputs": [
    {
     "data": {
      "application/javascript": [
       "\n",
       "            setTimeout(function() {\n",
       "                var nbb_cell_id = 9;\n",
       "                var nbb_unformatted_code = \"group = \\\"obj_zipCode\\\"\\nmin_count = 10\\nrent_feature = \\\"rent_m2\\\"\\n\\nrent_group = rent_df.groupby(group)\\nrent_filt = rent_group[rent_feature].agg([\\\"median\\\", \\\"count\\\"])[\\\"count\\\"] >= min_count\\nrent_group_df = rent_group[rent_feature].agg([\\\"median\\\", \\\"count\\\"])[rent_filt]\\n\\nsale_group = sale_df.groupby(group)\\nsale_filt = sale_group[\\\"price_m2\\\"].agg([\\\"median\\\", \\\"count\\\"])[\\\"count\\\"] >= min_count\\nsale_group_df = sale_group[\\\"price_m2\\\"].agg([\\\"median\\\", \\\"count\\\"])[sale_filt]\";\n",
       "                var nbb_formatted_code = \"group = \\\"obj_zipCode\\\"\\nmin_count = 10\\nrent_feature = \\\"rent_m2\\\"\\n\\nrent_group = rent_df.groupby(group)\\nrent_filt = rent_group[rent_feature].agg([\\\"median\\\", \\\"count\\\"])[\\\"count\\\"] >= min_count\\nrent_group_df = rent_group[rent_feature].agg([\\\"median\\\", \\\"count\\\"])[rent_filt]\\n\\nsale_group = sale_df.groupby(group)\\nsale_filt = sale_group[\\\"price_m2\\\"].agg([\\\"median\\\", \\\"count\\\"])[\\\"count\\\"] >= min_count\\nsale_group_df = sale_group[\\\"price_m2\\\"].agg([\\\"median\\\", \\\"count\\\"])[sale_filt]\";\n",
       "                var nbb_cells = Jupyter.notebook.get_cells();\n",
       "                for (var i = 0; i < nbb_cells.length; ++i) {\n",
       "                    if (nbb_cells[i].input_prompt_number == nbb_cell_id) {\n",
       "                        if (nbb_cells[i].get_text() == nbb_unformatted_code) {\n",
       "                             nbb_cells[i].set_text(nbb_formatted_code);\n",
       "                        }\n",
       "                        break;\n",
       "                    }\n",
       "                }\n",
       "            }, 500);\n",
       "            "
      ],
      "text/plain": [
       "<IPython.core.display.Javascript object>"
      ]
     },
     "metadata": {},
     "output_type": "display_data"
    }
   ],
   "source": [
    "group = \"obj_zipCode\"\n",
    "min_count = 10\n",
    "rent_feature = \"rent_m2\"\n",
    "\n",
    "rent_group = rent_df.groupby(group)\n",
    "rent_filt = rent_group[rent_feature].agg([\"median\", \"count\"])[\"count\"] >= min_count\n",
    "rent_group_df = rent_group[rent_feature].agg([\"median\", \"count\"])[rent_filt]\n",
    "\n",
    "sale_group = sale_df.groupby(group)\n",
    "sale_filt = sale_group[\"price_m2\"].agg([\"median\", \"count\"])[\"count\"] >= min_count\n",
    "sale_group_df = sale_group[\"price_m2\"].agg([\"median\", \"count\"])[sale_filt]"
   ]
  },
  {
   "cell_type": "markdown",
   "metadata": {},
   "source": [
    "#### combine rent and sale into new dataframe:"
   ]
  },
  {
   "cell_type": "code",
   "execution_count": 10,
   "metadata": {},
   "outputs": [
    {
     "data": {
      "application/javascript": [
       "\n",
       "            setTimeout(function() {\n",
       "                var nbb_cell_id = 10;\n",
       "                var nbb_unformatted_code = \"combined_df = pd.concat(\\n    [\\n        rent_group_df[\\\"median\\\"],\\n        rent_group_df[\\\"count\\\"],\\n        sale_group_df[\\\"median\\\"],\\n        sale_group_df[\\\"count\\\"],\\n    ],\\n    axis=1,\\n    keys=[\\n        \\\"median_rent_m2\\\",\\n        \\\"rent_count\\\",\\n        \\\"median_price_m2\\\",\\n        \\\"sale_count\\\",\\n    ],\\n).copy()\\ncombined_df = combined_df.dropna()\";\n",
       "                var nbb_formatted_code = \"combined_df = pd.concat(\\n    [\\n        rent_group_df[\\\"median\\\"],\\n        rent_group_df[\\\"count\\\"],\\n        sale_group_df[\\\"median\\\"],\\n        sale_group_df[\\\"count\\\"],\\n    ],\\n    axis=1,\\n    keys=[\\\"median_rent_m2\\\", \\\"rent_count\\\", \\\"median_price_m2\\\", \\\"sale_count\\\",],\\n).copy()\\ncombined_df = combined_df.dropna()\";\n",
       "                var nbb_cells = Jupyter.notebook.get_cells();\n",
       "                for (var i = 0; i < nbb_cells.length; ++i) {\n",
       "                    if (nbb_cells[i].input_prompt_number == nbb_cell_id) {\n",
       "                        if (nbb_cells[i].get_text() == nbb_unformatted_code) {\n",
       "                             nbb_cells[i].set_text(nbb_formatted_code);\n",
       "                        }\n",
       "                        break;\n",
       "                    }\n",
       "                }\n",
       "            }, 500);\n",
       "            "
      ],
      "text/plain": [
       "<IPython.core.display.Javascript object>"
      ]
     },
     "metadata": {},
     "output_type": "display_data"
    }
   ],
   "source": [
    "combined_df = pd.concat(\n",
    "    [\n",
    "        rent_group_df[\"median\"],\n",
    "        rent_group_df[\"count\"],\n",
    "        sale_group_df[\"median\"],\n",
    "        sale_group_df[\"count\"],\n",
    "    ],\n",
    "    axis=1,\n",
    "    keys=[\"median_rent_m2\", \"rent_count\", \"median_price_m2\", \"sale_count\",],\n",
    ").copy()\n",
    "combined_df = combined_df.dropna()"
   ]
  },
  {
   "cell_type": "markdown",
   "metadata": {},
   "source": [
    "#### compute median return of investment ratios:"
   ]
  },
  {
   "cell_type": "code",
   "execution_count": 11,
   "metadata": {},
   "outputs": [
    {
     "data": {
      "application/javascript": [
       "\n",
       "            setTimeout(function() {\n",
       "                var nbb_cell_id = 11;\n",
       "                var nbb_unformatted_code = \"combined_feature = \\\"median_yearly_ROI\\\"\\ncombined_df[combined_feature] = (\\n    combined_df[\\\"median_rent_m2\\\"]\\n    * 12\\n    / (combined_df[\\\"median_price_m2\\\"])\\n)\\n\\ncombined_feature = \\\"median_price_in_rents\\\"\\ncombined_df[combined_feature] = combined_df[\\\"median_price_m2\\\"] / (\\n    combined_df[\\\"median_rent_m2\\\"] * 12\\n)\";\n",
       "                var nbb_formatted_code = \"combined_feature = \\\"median_yearly_ROI\\\"\\ncombined_df[combined_feature] = (\\n    combined_df[\\\"median_rent_m2\\\"] * 12 / (combined_df[\\\"median_price_m2\\\"])\\n)\\n\\ncombined_feature = \\\"median_price_in_rents\\\"\\ncombined_df[combined_feature] = combined_df[\\\"median_price_m2\\\"] / (\\n    combined_df[\\\"median_rent_m2\\\"] * 12\\n)\";\n",
       "                var nbb_cells = Jupyter.notebook.get_cells();\n",
       "                for (var i = 0; i < nbb_cells.length; ++i) {\n",
       "                    if (nbb_cells[i].input_prompt_number == nbb_cell_id) {\n",
       "                        if (nbb_cells[i].get_text() == nbb_unformatted_code) {\n",
       "                             nbb_cells[i].set_text(nbb_formatted_code);\n",
       "                        }\n",
       "                        break;\n",
       "                    }\n",
       "                }\n",
       "            }, 500);\n",
       "            "
      ],
      "text/plain": [
       "<IPython.core.display.Javascript object>"
      ]
     },
     "metadata": {},
     "output_type": "display_data"
    }
   ],
   "source": [
    "combined_feature = \"median_yearly_ROI\"\n",
    "combined_df[combined_feature] = (\n",
    "    combined_df[\"median_rent_m2\"] * 12 / (combined_df[\"median_price_m2\"])\n",
    ")\n",
    "\n",
    "combined_feature = \"median_price_in_rents\"\n",
    "combined_df[combined_feature] = combined_df[\"median_price_m2\"] / (\n",
    "    combined_df[\"median_rent_m2\"] * 12\n",
    ")"
   ]
  },
  {
   "cell_type": "markdown",
   "metadata": {},
   "source": [
    "#### select features:"
   ]
  },
  {
   "cell_type": "code",
   "execution_count": 12,
   "metadata": {},
   "outputs": [
    {
     "data": {
      "application/javascript": [
       "\n",
       "            setTimeout(function() {\n",
       "                var nbb_cell_id = 12;\n",
       "                var nbb_unformatted_code = \"rent_select_columns = [\\n    \\\"rent_m2\\\",\\n    \\\"rent_m2_zip\\\",\\n    \\\"rent_m2_kreis\\\",\\n    \\\"obj_baseRent\\\",\\n    \\\"obj_livingSpace\\\",\\n    \\\"obj_noRooms\\\",\\n    \\\"obj_zipCode\\\",\\n    \\\"obj_regio2\\\",\\n    \\\"link\\\",\\n]\\nrent_select_df = rent_df[rent_select_columns].copy()\\n\\nsale_select_columns = [\\n    \\\"yearly_ROI\\\",\\n    \\\"rent_m2_zip\\\",\\n    \\\"price_m2\\\",\\n    \\\"price_m2_zip\\\",\\n    \\\"price_m2_kreis\\\",\\n    \\\"obj_purchasePrice\\\",\\n    \\\"obj_livingSpace\\\",\\n    \\\"obj_noRooms\\\",\\n    \\\"obj_zipCode\\\",\\n    \\\"obj_regio2\\\",\\n    \\\"link\\\",\\n]\\nsale_select_df = sale_df[sale_select_columns].copy()\";\n",
       "                var nbb_formatted_code = \"rent_select_columns = [\\n    \\\"rent_m2\\\",\\n    \\\"rent_m2_zip\\\",\\n    \\\"rent_m2_kreis\\\",\\n    \\\"obj_baseRent\\\",\\n    \\\"obj_livingSpace\\\",\\n    \\\"obj_noRooms\\\",\\n    \\\"obj_zipCode\\\",\\n    \\\"obj_regio2\\\",\\n    \\\"link\\\",\\n]\\nrent_select_df = rent_df[rent_select_columns].copy()\\n\\nsale_select_columns = [\\n    \\\"yearly_ROI\\\",\\n    \\\"rent_m2_zip\\\",\\n    \\\"price_m2\\\",\\n    \\\"price_m2_zip\\\",\\n    \\\"price_m2_kreis\\\",\\n    \\\"obj_purchasePrice\\\",\\n    \\\"obj_livingSpace\\\",\\n    \\\"obj_noRooms\\\",\\n    \\\"obj_zipCode\\\",\\n    \\\"obj_regio2\\\",\\n    \\\"link\\\",\\n]\\nsale_select_df = sale_df[sale_select_columns].copy()\";\n",
       "                var nbb_cells = Jupyter.notebook.get_cells();\n",
       "                for (var i = 0; i < nbb_cells.length; ++i) {\n",
       "                    if (nbb_cells[i].input_prompt_number == nbb_cell_id) {\n",
       "                        if (nbb_cells[i].get_text() == nbb_unformatted_code) {\n",
       "                             nbb_cells[i].set_text(nbb_formatted_code);\n",
       "                        }\n",
       "                        break;\n",
       "                    }\n",
       "                }\n",
       "            }, 500);\n",
       "            "
      ],
      "text/plain": [
       "<IPython.core.display.Javascript object>"
      ]
     },
     "metadata": {},
     "output_type": "display_data"
    }
   ],
   "source": [
    "rent_select_columns = [\n",
    "    \"rent_m2\",\n",
    "    \"rent_m2_zip\",\n",
    "    \"rent_m2_kreis\",\n",
    "    \"obj_baseRent\",\n",
    "    \"obj_livingSpace\",\n",
    "    \"obj_noRooms\",\n",
    "    \"obj_zipCode\",\n",
    "    \"obj_regio2\",\n",
    "    \"link\",\n",
    "]\n",
    "rent_select_df = rent_df[rent_select_columns].copy()\n",
    "\n",
    "sale_select_columns = [\n",
    "    \"yearly_ROI\",\n",
    "    \"rent_m2_zip\",\n",
    "    \"price_m2\",\n",
    "    \"price_m2_zip\",\n",
    "    \"price_m2_kreis\",\n",
    "    \"obj_purchasePrice\",\n",
    "    \"obj_livingSpace\",\n",
    "    \"obj_noRooms\",\n",
    "    \"obj_zipCode\",\n",
    "    \"obj_regio2\",\n",
    "    \"link\",\n",
    "]\n",
    "sale_select_df = sale_df[sale_select_columns].copy()"
   ]
  },
  {
   "cell_type": "markdown",
   "metadata": {},
   "source": [
    "## 3) Results"
   ]
  },
  {
   "cell_type": "code",
   "execution_count": 13,
   "metadata": {},
   "outputs": [
    {
     "data": {
      "text/html": [
       "<div>\n",
       "<style scoped>\n",
       "    .dataframe tbody tr th:only-of-type {\n",
       "        vertical-align: middle;\n",
       "    }\n",
       "\n",
       "    .dataframe tbody tr th {\n",
       "        vertical-align: top;\n",
       "    }\n",
       "\n",
       "    .dataframe thead th {\n",
       "        text-align: right;\n",
       "    }\n",
       "</style>\n",
       "<table border=\"1\" class=\"dataframe\">\n",
       "  <thead>\n",
       "    <tr style=\"text-align: right;\">\n",
       "      <th></th>\n",
       "      <th>median_rent_m2</th>\n",
       "      <th>rent_count</th>\n",
       "      <th>median_price_m2</th>\n",
       "      <th>sale_count</th>\n",
       "      <th>median_yearly_ROI</th>\n",
       "      <th>median_price_in_rents</th>\n",
       "    </tr>\n",
       "    <tr>\n",
       "      <th>obj_zipCode</th>\n",
       "      <th></th>\n",
       "      <th></th>\n",
       "      <th></th>\n",
       "      <th></th>\n",
       "      <th></th>\n",
       "      <th></th>\n",
       "    </tr>\n",
       "  </thead>\n",
       "  <tbody>\n",
       "    <tr>\n",
       "      <th>47169</th>\n",
       "      <td>6.1978</td>\n",
       "      <td>75.0</td>\n",
       "      <td>142.2333</td>\n",
       "      <td>19.0</td>\n",
       "      <td>0.5229</td>\n",
       "      <td>1.9124</td>\n",
       "    </tr>\n",
       "    <tr>\n",
       "      <th>38700</th>\n",
       "      <td>6.7241</td>\n",
       "      <td>12.0</td>\n",
       "      <td>653.0612</td>\n",
       "      <td>19.0</td>\n",
       "      <td>0.1236</td>\n",
       "      <td>8.0935</td>\n",
       "    </tr>\n",
       "    <tr>\n",
       "      <th>6667</th>\n",
       "      <td>5.1015</td>\n",
       "      <td>183.0</td>\n",
       "      <td>574.4681</td>\n",
       "      <td>17.0</td>\n",
       "      <td>0.1066</td>\n",
       "      <td>9.3839</td>\n",
       "    </tr>\n",
       "    <tr>\n",
       "      <th>8393</th>\n",
       "      <td>4.9833</td>\n",
       "      <td>56.0</td>\n",
       "      <td>601.2951</td>\n",
       "      <td>13.0</td>\n",
       "      <td>0.0995</td>\n",
       "      <td>10.0551</td>\n",
       "    </tr>\n",
       "    <tr>\n",
       "      <th>8468</th>\n",
       "      <td>4.5455</td>\n",
       "      <td>103.0</td>\n",
       "      <td>565.7143</td>\n",
       "      <td>11.0</td>\n",
       "      <td>0.0964</td>\n",
       "      <td>10.3714</td>\n",
       "    </tr>\n",
       "    <tr>\n",
       "      <th>...</th>\n",
       "      <td>...</td>\n",
       "      <td>...</td>\n",
       "      <td>...</td>\n",
       "      <td>...</td>\n",
       "      <td>...</td>\n",
       "      <td>...</td>\n",
       "    </tr>\n",
       "    <tr>\n",
       "      <th>18556</th>\n",
       "      <td>5.5625</td>\n",
       "      <td>12.0</td>\n",
       "      <td>3134.7580</td>\n",
       "      <td>12.0</td>\n",
       "      <td>0.0213</td>\n",
       "      <td>46.9627</td>\n",
       "    </tr>\n",
       "    <tr>\n",
       "      <th>60327</th>\n",
       "      <td>18.3294</td>\n",
       "      <td>35.0</td>\n",
       "      <td>10450.7268</td>\n",
       "      <td>22.0</td>\n",
       "      <td>0.0210</td>\n",
       "      <td>47.5134</td>\n",
       "    </tr>\n",
       "    <tr>\n",
       "      <th>20149</th>\n",
       "      <td>22.1010</td>\n",
       "      <td>16.0</td>\n",
       "      <td>12964.5447</td>\n",
       "      <td>12.0</td>\n",
       "      <td>0.0205</td>\n",
       "      <td>48.8838</td>\n",
       "    </tr>\n",
       "    <tr>\n",
       "      <th>81679</th>\n",
       "      <td>25.1235</td>\n",
       "      <td>10.0</td>\n",
       "      <td>17453.4005</td>\n",
       "      <td>12.0</td>\n",
       "      <td>0.0173</td>\n",
       "      <td>57.8920</td>\n",
       "    </tr>\n",
       "    <tr>\n",
       "      <th>83700</th>\n",
       "      <td>16.7417</td>\n",
       "      <td>13.0</td>\n",
       "      <td>12161.5385</td>\n",
       "      <td>33.0</td>\n",
       "      <td>0.0165</td>\n",
       "      <td>60.5353</td>\n",
       "    </tr>\n",
       "  </tbody>\n",
       "</table>\n",
       "<p>837 rows × 6 columns</p>\n",
       "</div>"
      ],
      "text/plain": [
       "             median_rent_m2  rent_count  median_price_m2  sale_count  \\\n",
       "obj_zipCode                                                            \n",
       "47169                6.1978        75.0         142.2333        19.0   \n",
       "38700                6.7241        12.0         653.0612        19.0   \n",
       "6667                 5.1015       183.0         574.4681        17.0   \n",
       "8393                 4.9833        56.0         601.2951        13.0   \n",
       "8468                 4.5455       103.0         565.7143        11.0   \n",
       "...                     ...         ...              ...         ...   \n",
       "18556                5.5625        12.0        3134.7580        12.0   \n",
       "60327               18.3294        35.0       10450.7268        22.0   \n",
       "20149               22.1010        16.0       12964.5447        12.0   \n",
       "81679               25.1235        10.0       17453.4005        12.0   \n",
       "83700               16.7417        13.0       12161.5385        33.0   \n",
       "\n",
       "             median_yearly_ROI  median_price_in_rents  \n",
       "obj_zipCode                                            \n",
       "47169                   0.5229                 1.9124  \n",
       "38700                   0.1236                 8.0935  \n",
       "6667                    0.1066                 9.3839  \n",
       "8393                    0.0995                10.0551  \n",
       "8468                    0.0964                10.3714  \n",
       "...                        ...                    ...  \n",
       "18556                   0.0213                46.9627  \n",
       "60327                   0.0210                47.5134  \n",
       "20149                   0.0205                48.8838  \n",
       "81679                   0.0173                57.8920  \n",
       "83700                   0.0165                60.5353  \n",
       "\n",
       "[837 rows x 6 columns]"
      ]
     },
     "execution_count": 13,
     "metadata": {},
     "output_type": "execute_result"
    },
    {
     "data": {
      "application/javascript": [
       "\n",
       "            setTimeout(function() {\n",
       "                var nbb_cell_id = 13;\n",
       "                var nbb_unformatted_code = \"combined_df = combined_df.sort_values(\\\"median_yearly_ROI\\\", ascending=False)\\ncombined_df\";\n",
       "                var nbb_formatted_code = \"combined_df = combined_df.sort_values(\\\"median_yearly_ROI\\\", ascending=False)\\ncombined_df\";\n",
       "                var nbb_cells = Jupyter.notebook.get_cells();\n",
       "                for (var i = 0; i < nbb_cells.length; ++i) {\n",
       "                    if (nbb_cells[i].input_prompt_number == nbb_cell_id) {\n",
       "                        if (nbb_cells[i].get_text() == nbb_unformatted_code) {\n",
       "                             nbb_cells[i].set_text(nbb_formatted_code);\n",
       "                        }\n",
       "                        break;\n",
       "                    }\n",
       "                }\n",
       "            }, 500);\n",
       "            "
      ],
      "text/plain": [
       "<IPython.core.display.Javascript object>"
      ]
     },
     "metadata": {},
     "output_type": "display_data"
    }
   ],
   "source": [
    "combined_df = combined_df.sort_values(\"median_yearly_ROI\", ascending=False)\n",
    "combined_df"
   ]
  },
  {
   "cell_type": "markdown",
   "metadata": {},
   "source": [
    "#### apartments for rent:"
   ]
  },
  {
   "cell_type": "code",
   "execution_count": 17,
   "metadata": {},
   "outputs": [
    {
     "data": {
      "text/html": [
       "<div>\n",
       "<style scoped>\n",
       "    .dataframe tbody tr th:only-of-type {\n",
       "        vertical-align: middle;\n",
       "    }\n",
       "\n",
       "    .dataframe tbody tr th {\n",
       "        vertical-align: top;\n",
       "    }\n",
       "\n",
       "    .dataframe thead th {\n",
       "        text-align: right;\n",
       "    }\n",
       "</style>\n",
       "<table border=\"1\" class=\"dataframe\">\n",
       "  <thead>\n",
       "    <tr style=\"text-align: right;\">\n",
       "      <th></th>\n",
       "      <th>rent_m2</th>\n",
       "      <th>rent_m2_zip</th>\n",
       "      <th>rent_m2_kreis</th>\n",
       "      <th>obj_baseRent</th>\n",
       "      <th>obj_livingSpace</th>\n",
       "      <th>obj_noRooms</th>\n",
       "      <th>obj_zipCode</th>\n",
       "      <th>obj_regio2</th>\n",
       "      <th>link</th>\n",
       "    </tr>\n",
       "  </thead>\n",
       "  <tbody>\n",
       "    <tr>\n",
       "      <th>87123</th>\n",
       "      <td>11.6667</td>\n",
       "      <td>13.7778</td>\n",
       "      <td>11.6026</td>\n",
       "      <td>700.0</td>\n",
       "      <td>60.00</td>\n",
       "      <td>2.0</td>\n",
       "      <td>72074</td>\n",
       "      <td>Tübingen_Kreis</td>\n",
       "      <td>https://www.immobilienscout24.de/expose/79889378</td>\n",
       "    </tr>\n",
       "    <tr>\n",
       "      <th>35384</th>\n",
       "      <td>12.5000</td>\n",
       "      <td>13.7778</td>\n",
       "      <td>11.6026</td>\n",
       "      <td>900.0</td>\n",
       "      <td>72.00</td>\n",
       "      <td>2.0</td>\n",
       "      <td>72074</td>\n",
       "      <td>Tübingen_Kreis</td>\n",
       "      <td>https://www.immobilienscout24.de/expose/117139032</td>\n",
       "    </tr>\n",
       "    <tr>\n",
       "      <th>40751</th>\n",
       "      <td>13.4932</td>\n",
       "      <td>13.7778</td>\n",
       "      <td>11.6026</td>\n",
       "      <td>985.0</td>\n",
       "      <td>73.00</td>\n",
       "      <td>3.0</td>\n",
       "      <td>72074</td>\n",
       "      <td>Tübingen_Kreis</td>\n",
       "      <td>https://www.immobilienscout24.de/expose/117026980</td>\n",
       "    </tr>\n",
       "    <tr>\n",
       "      <th>28458</th>\n",
       "      <td>13.5474</td>\n",
       "      <td>13.7778</td>\n",
       "      <td>11.6026</td>\n",
       "      <td>865.0</td>\n",
       "      <td>63.85</td>\n",
       "      <td>2.0</td>\n",
       "      <td>72074</td>\n",
       "      <td>Tübingen_Kreis</td>\n",
       "      <td>https://www.immobilienscout24.de/expose/117067170</td>\n",
       "    </tr>\n",
       "    <tr>\n",
       "      <th>88506</th>\n",
       "      <td>13.6364</td>\n",
       "      <td>13.7778</td>\n",
       "      <td>11.6026</td>\n",
       "      <td>300.0</td>\n",
       "      <td>22.00</td>\n",
       "      <td>1.0</td>\n",
       "      <td>72074</td>\n",
       "      <td>Tübingen_Kreis</td>\n",
       "      <td>https://www.immobilienscout24.de/expose/65446426</td>\n",
       "    </tr>\n",
       "    <tr>\n",
       "      <th>85294</th>\n",
       "      <td>13.7778</td>\n",
       "      <td>13.7778</td>\n",
       "      <td>11.6026</td>\n",
       "      <td>620.0</td>\n",
       "      <td>45.00</td>\n",
       "      <td>2.0</td>\n",
       "      <td>72074</td>\n",
       "      <td>Tübingen_Kreis</td>\n",
       "      <td>https://www.immobilienscout24.de/expose/90113522</td>\n",
       "    </tr>\n",
       "    <tr>\n",
       "      <th>7955</th>\n",
       "      <td>15.5738</td>\n",
       "      <td>13.7778</td>\n",
       "      <td>11.6026</td>\n",
       "      <td>475.0</td>\n",
       "      <td>30.50</td>\n",
       "      <td>1.5</td>\n",
       "      <td>72074</td>\n",
       "      <td>Tübingen_Kreis</td>\n",
       "      <td>https://www.immobilienscout24.de/expose/94758279</td>\n",
       "    </tr>\n",
       "    <tr>\n",
       "      <th>81904</th>\n",
       "      <td>15.7895</td>\n",
       "      <td>13.7778</td>\n",
       "      <td>11.6026</td>\n",
       "      <td>300.0</td>\n",
       "      <td>19.00</td>\n",
       "      <td>1.0</td>\n",
       "      <td>72074</td>\n",
       "      <td>Tübingen_Kreis</td>\n",
       "      <td>https://www.immobilienscout24.de/expose/104538924</td>\n",
       "    </tr>\n",
       "    <tr>\n",
       "      <th>87849</th>\n",
       "      <td>19.6209</td>\n",
       "      <td>13.7778</td>\n",
       "      <td>11.6026</td>\n",
       "      <td>590.0</td>\n",
       "      <td>30.07</td>\n",
       "      <td>1.0</td>\n",
       "      <td>72074</td>\n",
       "      <td>Tübingen_Kreis</td>\n",
       "      <td>https://www.immobilienscout24.de/expose/73109515</td>\n",
       "    </tr>\n",
       "    <tr>\n",
       "      <th>58579</th>\n",
       "      <td>20.6503</td>\n",
       "      <td>13.7778</td>\n",
       "      <td>11.6026</td>\n",
       "      <td>470.0</td>\n",
       "      <td>22.76</td>\n",
       "      <td>1.0</td>\n",
       "      <td>72074</td>\n",
       "      <td>Tübingen_Kreis</td>\n",
       "      <td>https://www.immobilienscout24.de/expose/116058550</td>\n",
       "    </tr>\n",
       "    <tr>\n",
       "      <th>56104</th>\n",
       "      <td>31.8182</td>\n",
       "      <td>13.7778</td>\n",
       "      <td>11.6026</td>\n",
       "      <td>350.0</td>\n",
       "      <td>11.00</td>\n",
       "      <td>1.0</td>\n",
       "      <td>72074</td>\n",
       "      <td>Tübingen_Kreis</td>\n",
       "      <td>https://www.immobilienscout24.de/expose/116358365</td>\n",
       "    </tr>\n",
       "  </tbody>\n",
       "</table>\n",
       "</div>"
      ],
      "text/plain": [
       "       rent_m2  rent_m2_zip  rent_m2_kreis  obj_baseRent  obj_livingSpace  \\\n",
       "87123  11.6667      13.7778        11.6026         700.0            60.00   \n",
       "35384  12.5000      13.7778        11.6026         900.0            72.00   \n",
       "40751  13.4932      13.7778        11.6026         985.0            73.00   \n",
       "28458  13.5474      13.7778        11.6026         865.0            63.85   \n",
       "88506  13.6364      13.7778        11.6026         300.0            22.00   \n",
       "85294  13.7778      13.7778        11.6026         620.0            45.00   \n",
       "7955   15.5738      13.7778        11.6026         475.0            30.50   \n",
       "81904  15.7895      13.7778        11.6026         300.0            19.00   \n",
       "87849  19.6209      13.7778        11.6026         590.0            30.07   \n",
       "58579  20.6503      13.7778        11.6026         470.0            22.76   \n",
       "56104  31.8182      13.7778        11.6026         350.0            11.00   \n",
       "\n",
       "       obj_noRooms  obj_zipCode      obj_regio2  \\\n",
       "87123          2.0        72074  Tübingen_Kreis   \n",
       "35384          2.0        72074  Tübingen_Kreis   \n",
       "40751          3.0        72074  Tübingen_Kreis   \n",
       "28458          2.0        72074  Tübingen_Kreis   \n",
       "88506          1.0        72074  Tübingen_Kreis   \n",
       "85294          2.0        72074  Tübingen_Kreis   \n",
       "7955           1.5        72074  Tübingen_Kreis   \n",
       "81904          1.0        72074  Tübingen_Kreis   \n",
       "87849          1.0        72074  Tübingen_Kreis   \n",
       "58579          1.0        72074  Tübingen_Kreis   \n",
       "56104          1.0        72074  Tübingen_Kreis   \n",
       "\n",
       "                                                    link  \n",
       "87123   https://www.immobilienscout24.de/expose/79889378  \n",
       "35384  https://www.immobilienscout24.de/expose/117139032  \n",
       "40751  https://www.immobilienscout24.de/expose/117026980  \n",
       "28458  https://www.immobilienscout24.de/expose/117067170  \n",
       "88506   https://www.immobilienscout24.de/expose/65446426  \n",
       "85294   https://www.immobilienscout24.de/expose/90113522  \n",
       "7955    https://www.immobilienscout24.de/expose/94758279  \n",
       "81904  https://www.immobilienscout24.de/expose/104538924  \n",
       "87849   https://www.immobilienscout24.de/expose/73109515  \n",
       "58579  https://www.immobilienscout24.de/expose/116058550  \n",
       "56104  https://www.immobilienscout24.de/expose/116358365  "
      ]
     },
     "execution_count": 17,
     "metadata": {},
     "output_type": "execute_result"
    },
    {
     "data": {
      "application/javascript": [
       "\n",
       "            setTimeout(function() {\n",
       "                var nbb_cell_id = 17;\n",
       "                var nbb_unformatted_code = \"rent_filt_col = \\\"obj_zipCode\\\"\\nrent_filt_arg = 72074\\nrent_filt_ord = \\\"rent_per_m2\\\"\\n\\nrent_filt = rent_select_df[rent_filt_col] == rent_filt_arg\\nrent_select_df[rent_filt].sort_values(\\\"rent_m2\\\").head(20)\";\n",
       "                var nbb_formatted_code = \"rent_filt_col = \\\"obj_zipCode\\\"\\nrent_filt_arg = 72074\\nrent_filt_ord = \\\"rent_per_m2\\\"\\n\\nrent_filt = rent_select_df[rent_filt_col] == rent_filt_arg\\nrent_select_df[rent_filt].sort_values(\\\"rent_m2\\\").head(20)\";\n",
       "                var nbb_cells = Jupyter.notebook.get_cells();\n",
       "                for (var i = 0; i < nbb_cells.length; ++i) {\n",
       "                    if (nbb_cells[i].input_prompt_number == nbb_cell_id) {\n",
       "                        if (nbb_cells[i].get_text() == nbb_unformatted_code) {\n",
       "                             nbb_cells[i].set_text(nbb_formatted_code);\n",
       "                        }\n",
       "                        break;\n",
       "                    }\n",
       "                }\n",
       "            }, 500);\n",
       "            "
      ],
      "text/plain": [
       "<IPython.core.display.Javascript object>"
      ]
     },
     "metadata": {},
     "output_type": "display_data"
    }
   ],
   "source": [
    "rent_filt_col = \"obj_zipCode\"\n",
    "rent_filt_arg = 72074\n",
    "rent_filt_ord = \"rent_per_m2\"\n",
    "\n",
    "rent_filt = rent_select_df[rent_filt_col] == rent_filt_arg\n",
    "rent_select_df[rent_filt].sort_values(\"rent_m2\").head(20)"
   ]
  },
  {
   "cell_type": "markdown",
   "metadata": {},
   "source": [
    "#### apartments for sale:"
   ]
  },
  {
   "cell_type": "code",
   "execution_count": 16,
   "metadata": {},
   "outputs": [
    {
     "data": {
      "text/html": [
       "<div>\n",
       "<style scoped>\n",
       "    .dataframe tbody tr th:only-of-type {\n",
       "        vertical-align: middle;\n",
       "    }\n",
       "\n",
       "    .dataframe tbody tr th {\n",
       "        vertical-align: top;\n",
       "    }\n",
       "\n",
       "    .dataframe thead th {\n",
       "        text-align: right;\n",
       "    }\n",
       "</style>\n",
       "<table border=\"1\" class=\"dataframe\">\n",
       "  <thead>\n",
       "    <tr style=\"text-align: right;\">\n",
       "      <th></th>\n",
       "      <th>yearly_ROI</th>\n",
       "      <th>rent_m2_zip</th>\n",
       "      <th>price_m2</th>\n",
       "      <th>price_m2_zip</th>\n",
       "      <th>price_m2_kreis</th>\n",
       "      <th>obj_purchasePrice</th>\n",
       "      <th>obj_livingSpace</th>\n",
       "      <th>obj_noRooms</th>\n",
       "      <th>obj_zipCode</th>\n",
       "      <th>obj_regio2</th>\n",
       "      <th>link</th>\n",
       "    </tr>\n",
       "  </thead>\n",
       "  <tbody>\n",
       "    <tr>\n",
       "      <th>6315</th>\n",
       "      <td>0.7403</td>\n",
       "      <td>6.1962</td>\n",
       "      <td>100.4367</td>\n",
       "      <td>1096.2963</td>\n",
       "      <td>1264.2602</td>\n",
       "      <td>69000.0</td>\n",
       "      <td>687.00</td>\n",
       "      <td>3.0</td>\n",
       "      <td>47137</td>\n",
       "      <td>Duisburg</td>\n",
       "      <td>https://www.immobilienscout24.de/expose/117056421</td>\n",
       "    </tr>\n",
       "    <tr>\n",
       "      <th>19358</th>\n",
       "      <td>0.6991</td>\n",
       "      <td>6.1978</td>\n",
       "      <td>106.3830</td>\n",
       "      <td>142.2333</td>\n",
       "      <td>1264.2602</td>\n",
       "      <td>10000.0</td>\n",
       "      <td>94.00</td>\n",
       "      <td>4.0</td>\n",
       "      <td>47169</td>\n",
       "      <td>Duisburg</td>\n",
       "      <td>https://www.immobilienscout24.de/expose/117056597</td>\n",
       "    </tr>\n",
       "    <tr>\n",
       "      <th>19360</th>\n",
       "      <td>0.6991</td>\n",
       "      <td>6.1978</td>\n",
       "      <td>106.3830</td>\n",
       "      <td>142.2333</td>\n",
       "      <td>1264.2602</td>\n",
       "      <td>10000.0</td>\n",
       "      <td>94.00</td>\n",
       "      <td>4.0</td>\n",
       "      <td>47169</td>\n",
       "      <td>Duisburg</td>\n",
       "      <td>https://www.immobilienscout24.de/expose/117056598</td>\n",
       "    </tr>\n",
       "    <tr>\n",
       "      <th>19365</th>\n",
       "      <td>0.6952</td>\n",
       "      <td>6.1978</td>\n",
       "      <td>106.9767</td>\n",
       "      <td>142.2333</td>\n",
       "      <td>1264.2602</td>\n",
       "      <td>4600.0</td>\n",
       "      <td>43.00</td>\n",
       "      <td>1.0</td>\n",
       "      <td>47169</td>\n",
       "      <td>Duisburg</td>\n",
       "      <td>https://www.immobilienscout24.de/expose/117056600</td>\n",
       "    </tr>\n",
       "    <tr>\n",
       "      <th>19374</th>\n",
       "      <td>0.6895</td>\n",
       "      <td>6.1978</td>\n",
       "      <td>107.8652</td>\n",
       "      <td>142.2333</td>\n",
       "      <td>1264.2602</td>\n",
       "      <td>9600.0</td>\n",
       "      <td>89.00</td>\n",
       "      <td>4.0</td>\n",
       "      <td>47169</td>\n",
       "      <td>Duisburg</td>\n",
       "      <td>https://www.immobilienscout24.de/expose/117056589</td>\n",
       "    </tr>\n",
       "    <tr>\n",
       "      <th>19376</th>\n",
       "      <td>0.6893</td>\n",
       "      <td>6.1978</td>\n",
       "      <td>107.8947</td>\n",
       "      <td>142.2333</td>\n",
       "      <td>1264.2602</td>\n",
       "      <td>4100.0</td>\n",
       "      <td>38.00</td>\n",
       "      <td>1.0</td>\n",
       "      <td>47169</td>\n",
       "      <td>Duisburg</td>\n",
       "      <td>https://www.immobilienscout24.de/expose/117056599</td>\n",
       "    </tr>\n",
       "    <tr>\n",
       "      <th>19368</th>\n",
       "      <td>0.6454</td>\n",
       "      <td>6.1978</td>\n",
       "      <td>115.2381</td>\n",
       "      <td>142.2333</td>\n",
       "      <td>1264.2602</td>\n",
       "      <td>12100.0</td>\n",
       "      <td>105.00</td>\n",
       "      <td>5.0</td>\n",
       "      <td>47169</td>\n",
       "      <td>Duisburg</td>\n",
       "      <td>https://www.immobilienscout24.de/expose/117056593</td>\n",
       "    </tr>\n",
       "    <tr>\n",
       "      <th>19375</th>\n",
       "      <td>0.6454</td>\n",
       "      <td>6.1978</td>\n",
       "      <td>115.2381</td>\n",
       "      <td>142.2333</td>\n",
       "      <td>1264.2602</td>\n",
       "      <td>12100.0</td>\n",
       "      <td>105.00</td>\n",
       "      <td>5.0</td>\n",
       "      <td>47169</td>\n",
       "      <td>Duisburg</td>\n",
       "      <td>https://www.immobilienscout24.de/expose/117056590</td>\n",
       "    </tr>\n",
       "    <tr>\n",
       "      <th>6202</th>\n",
       "      <td>0.5235</td>\n",
       "      <td>6.1978</td>\n",
       "      <td>142.0611</td>\n",
       "      <td>142.2333</td>\n",
       "      <td>1264.2602</td>\n",
       "      <td>18100.0</td>\n",
       "      <td>127.41</td>\n",
       "      <td>5.0</td>\n",
       "      <td>47169</td>\n",
       "      <td>Duisburg</td>\n",
       "      <td>https://www.immobilienscout24.de/expose/117056344</td>\n",
       "    </tr>\n",
       "    <tr>\n",
       "      <th>6200</th>\n",
       "      <td>0.5229</td>\n",
       "      <td>6.1978</td>\n",
       "      <td>142.2239</td>\n",
       "      <td>142.2333</td>\n",
       "      <td>1264.2602</td>\n",
       "      <td>7700.0</td>\n",
       "      <td>54.14</td>\n",
       "      <td>2.0</td>\n",
       "      <td>47169</td>\n",
       "      <td>Duisburg</td>\n",
       "      <td>https://www.immobilienscout24.de/expose/117056348</td>\n",
       "    </tr>\n",
       "    <tr>\n",
       "      <th>6203</th>\n",
       "      <td>0.5229</td>\n",
       "      <td>6.1978</td>\n",
       "      <td>142.2333</td>\n",
       "      <td>142.2333</td>\n",
       "      <td>1264.2602</td>\n",
       "      <td>11400.0</td>\n",
       "      <td>80.15</td>\n",
       "      <td>5.0</td>\n",
       "      <td>47169</td>\n",
       "      <td>Duisburg</td>\n",
       "      <td>https://www.immobilienscout24.de/expose/117056350</td>\n",
       "    </tr>\n",
       "    <tr>\n",
       "      <th>6201</th>\n",
       "      <td>0.5228</td>\n",
       "      <td>6.1978</td>\n",
       "      <td>142.2604</td>\n",
       "      <td>142.2333</td>\n",
       "      <td>1264.2602</td>\n",
       "      <td>12600.0</td>\n",
       "      <td>88.57</td>\n",
       "      <td>3.0</td>\n",
       "      <td>47169</td>\n",
       "      <td>Duisburg</td>\n",
       "      <td>https://www.immobilienscout24.de/expose/117056347</td>\n",
       "    </tr>\n",
       "    <tr>\n",
       "      <th>6209</th>\n",
       "      <td>0.5218</td>\n",
       "      <td>6.1978</td>\n",
       "      <td>142.5385</td>\n",
       "      <td>142.2333</td>\n",
       "      <td>1264.2602</td>\n",
       "      <td>14700.0</td>\n",
       "      <td>103.13</td>\n",
       "      <td>4.0</td>\n",
       "      <td>47169</td>\n",
       "      <td>Duisburg</td>\n",
       "      <td>https://www.immobilienscout24.de/expose/117056346</td>\n",
       "    </tr>\n",
       "    <tr>\n",
       "      <th>6205</th>\n",
       "      <td>0.5217</td>\n",
       "      <td>6.1978</td>\n",
       "      <td>142.5547</td>\n",
       "      <td>142.2333</td>\n",
       "      <td>1264.2602</td>\n",
       "      <td>10100.0</td>\n",
       "      <td>70.85</td>\n",
       "      <td>3.0</td>\n",
       "      <td>47169</td>\n",
       "      <td>Duisburg</td>\n",
       "      <td>https://www.immobilienscout24.de/expose/117056349</td>\n",
       "    </tr>\n",
       "    <tr>\n",
       "      <th>19387</th>\n",
       "      <td>0.3476</td>\n",
       "      <td>6.1978</td>\n",
       "      <td>213.9785</td>\n",
       "      <td>142.2333</td>\n",
       "      <td>1264.2602</td>\n",
       "      <td>19900.0</td>\n",
       "      <td>93.00</td>\n",
       "      <td>4.0</td>\n",
       "      <td>47169</td>\n",
       "      <td>Duisburg</td>\n",
       "      <td>https://www.immobilienscout24.de/expose/117056594</td>\n",
       "    </tr>\n",
       "    <tr>\n",
       "      <th>6228</th>\n",
       "      <td>0.3236</td>\n",
       "      <td>6.0997</td>\n",
       "      <td>226.1905</td>\n",
       "      <td>1163.4199</td>\n",
       "      <td>1264.2602</td>\n",
       "      <td>19000.0</td>\n",
       "      <td>84.00</td>\n",
       "      <td>3.0</td>\n",
       "      <td>47198</td>\n",
       "      <td>Duisburg</td>\n",
       "      <td>https://www.immobilienscout24.de/expose/117056215</td>\n",
       "    </tr>\n",
       "    <tr>\n",
       "      <th>27482</th>\n",
       "      <td>0.2280</td>\n",
       "      <td>6.1978</td>\n",
       "      <td>326.2295</td>\n",
       "      <td>142.2333</td>\n",
       "      <td>1264.2602</td>\n",
       "      <td>19900.0</td>\n",
       "      <td>61.00</td>\n",
       "      <td>2.0</td>\n",
       "      <td>47169</td>\n",
       "      <td>Duisburg</td>\n",
       "      <td>https://www.immobilienscout24.de/expose/116053299</td>\n",
       "    </tr>\n",
       "    <tr>\n",
       "      <th>27474</th>\n",
       "      <td>0.2280</td>\n",
       "      <td>6.1978</td>\n",
       "      <td>326.2295</td>\n",
       "      <td>142.2333</td>\n",
       "      <td>1264.2602</td>\n",
       "      <td>19900.0</td>\n",
       "      <td>61.00</td>\n",
       "      <td>2.0</td>\n",
       "      <td>47169</td>\n",
       "      <td>Duisburg</td>\n",
       "      <td>https://www.immobilienscout24.de/expose/116052821</td>\n",
       "    </tr>\n",
       "    <tr>\n",
       "      <th>6230</th>\n",
       "      <td>0.2244</td>\n",
       "      <td>5.5687</td>\n",
       "      <td>297.7273</td>\n",
       "      <td>1348.3333</td>\n",
       "      <td>1264.2602</td>\n",
       "      <td>13100.0</td>\n",
       "      <td>44.00</td>\n",
       "      <td>2.0</td>\n",
       "      <td>47139</td>\n",
       "      <td>Duisburg</td>\n",
       "      <td>https://www.immobilienscout24.de/expose/117056255</td>\n",
       "    </tr>\n",
       "    <tr>\n",
       "      <th>6238</th>\n",
       "      <td>0.2166</td>\n",
       "      <td>6.0997</td>\n",
       "      <td>338.0000</td>\n",
       "      <td>1163.4199</td>\n",
       "      <td>1264.2602</td>\n",
       "      <td>16900.0</td>\n",
       "      <td>50.00</td>\n",
       "      <td>2.0</td>\n",
       "      <td>47198</td>\n",
       "      <td>Duisburg</td>\n",
       "      <td>https://www.immobilienscout24.de/expose/117056144</td>\n",
       "    </tr>\n",
       "  </tbody>\n",
       "</table>\n",
       "</div>"
      ],
      "text/plain": [
       "       yearly_ROI  rent_m2_zip  price_m2  price_m2_zip  price_m2_kreis  \\\n",
       "6315       0.7403       6.1962  100.4367     1096.2963       1264.2602   \n",
       "19358      0.6991       6.1978  106.3830      142.2333       1264.2602   \n",
       "19360      0.6991       6.1978  106.3830      142.2333       1264.2602   \n",
       "19365      0.6952       6.1978  106.9767      142.2333       1264.2602   \n",
       "19374      0.6895       6.1978  107.8652      142.2333       1264.2602   \n",
       "19376      0.6893       6.1978  107.8947      142.2333       1264.2602   \n",
       "19368      0.6454       6.1978  115.2381      142.2333       1264.2602   \n",
       "19375      0.6454       6.1978  115.2381      142.2333       1264.2602   \n",
       "6202       0.5235       6.1978  142.0611      142.2333       1264.2602   \n",
       "6200       0.5229       6.1978  142.2239      142.2333       1264.2602   \n",
       "6203       0.5229       6.1978  142.2333      142.2333       1264.2602   \n",
       "6201       0.5228       6.1978  142.2604      142.2333       1264.2602   \n",
       "6209       0.5218       6.1978  142.5385      142.2333       1264.2602   \n",
       "6205       0.5217       6.1978  142.5547      142.2333       1264.2602   \n",
       "19387      0.3476       6.1978  213.9785      142.2333       1264.2602   \n",
       "6228       0.3236       6.0997  226.1905     1163.4199       1264.2602   \n",
       "27482      0.2280       6.1978  326.2295      142.2333       1264.2602   \n",
       "27474      0.2280       6.1978  326.2295      142.2333       1264.2602   \n",
       "6230       0.2244       5.5687  297.7273     1348.3333       1264.2602   \n",
       "6238       0.2166       6.0997  338.0000     1163.4199       1264.2602   \n",
       "\n",
       "       obj_purchasePrice  obj_livingSpace  obj_noRooms  obj_zipCode  \\\n",
       "6315             69000.0           687.00          3.0        47137   \n",
       "19358            10000.0            94.00          4.0        47169   \n",
       "19360            10000.0            94.00          4.0        47169   \n",
       "19365             4600.0            43.00          1.0        47169   \n",
       "19374             9600.0            89.00          4.0        47169   \n",
       "19376             4100.0            38.00          1.0        47169   \n",
       "19368            12100.0           105.00          5.0        47169   \n",
       "19375            12100.0           105.00          5.0        47169   \n",
       "6202             18100.0           127.41          5.0        47169   \n",
       "6200              7700.0            54.14          2.0        47169   \n",
       "6203             11400.0            80.15          5.0        47169   \n",
       "6201             12600.0            88.57          3.0        47169   \n",
       "6209             14700.0           103.13          4.0        47169   \n",
       "6205             10100.0            70.85          3.0        47169   \n",
       "19387            19900.0            93.00          4.0        47169   \n",
       "6228             19000.0            84.00          3.0        47198   \n",
       "27482            19900.0            61.00          2.0        47169   \n",
       "27474            19900.0            61.00          2.0        47169   \n",
       "6230             13100.0            44.00          2.0        47139   \n",
       "6238             16900.0            50.00          2.0        47198   \n",
       "\n",
       "      obj_regio2                                               link  \n",
       "6315    Duisburg  https://www.immobilienscout24.de/expose/117056421  \n",
       "19358   Duisburg  https://www.immobilienscout24.de/expose/117056597  \n",
       "19360   Duisburg  https://www.immobilienscout24.de/expose/117056598  \n",
       "19365   Duisburg  https://www.immobilienscout24.de/expose/117056600  \n",
       "19374   Duisburg  https://www.immobilienscout24.de/expose/117056589  \n",
       "19376   Duisburg  https://www.immobilienscout24.de/expose/117056599  \n",
       "19368   Duisburg  https://www.immobilienscout24.de/expose/117056593  \n",
       "19375   Duisburg  https://www.immobilienscout24.de/expose/117056590  \n",
       "6202    Duisburg  https://www.immobilienscout24.de/expose/117056344  \n",
       "6200    Duisburg  https://www.immobilienscout24.de/expose/117056348  \n",
       "6203    Duisburg  https://www.immobilienscout24.de/expose/117056350  \n",
       "6201    Duisburg  https://www.immobilienscout24.de/expose/117056347  \n",
       "6209    Duisburg  https://www.immobilienscout24.de/expose/117056346  \n",
       "6205    Duisburg  https://www.immobilienscout24.de/expose/117056349  \n",
       "19387   Duisburg  https://www.immobilienscout24.de/expose/117056594  \n",
       "6228    Duisburg  https://www.immobilienscout24.de/expose/117056215  \n",
       "27482   Duisburg  https://www.immobilienscout24.de/expose/116053299  \n",
       "27474   Duisburg  https://www.immobilienscout24.de/expose/116052821  \n",
       "6230    Duisburg  https://www.immobilienscout24.de/expose/117056255  \n",
       "6238    Duisburg  https://www.immobilienscout24.de/expose/117056144  "
      ]
     },
     "execution_count": 16,
     "metadata": {},
     "output_type": "execute_result"
    },
    {
     "data": {
      "application/javascript": [
       "\n",
       "            setTimeout(function() {\n",
       "                var nbb_cell_id = 16;\n",
       "                var nbb_unformatted_code = \"sale_filt_col = \\\"obj_regio2\\\"  # \\\"obj_zipCode\\\"\\nsale_filt_arg = \\\"Duisburg\\\"\\nsale_filt_ord = \\\"yearly_ROI\\\"\\n\\nsale_filt = sale_select_df[sale_filt_col] == sale_filt_arg\\nsale_select_df[sale_filt].sort_values(\\\"yearly_ROI\\\", ascending=False).head(20)\";\n",
       "                var nbb_formatted_code = \"sale_filt_col = \\\"obj_regio2\\\"  # \\\"obj_zipCode\\\"\\nsale_filt_arg = \\\"Duisburg\\\"\\nsale_filt_ord = \\\"yearly_ROI\\\"\\n\\nsale_filt = sale_select_df[sale_filt_col] == sale_filt_arg\\nsale_select_df[sale_filt].sort_values(\\\"yearly_ROI\\\", ascending=False).head(20)\";\n",
       "                var nbb_cells = Jupyter.notebook.get_cells();\n",
       "                for (var i = 0; i < nbb_cells.length; ++i) {\n",
       "                    if (nbb_cells[i].input_prompt_number == nbb_cell_id) {\n",
       "                        if (nbb_cells[i].get_text() == nbb_unformatted_code) {\n",
       "                             nbb_cells[i].set_text(nbb_formatted_code);\n",
       "                        }\n",
       "                        break;\n",
       "                    }\n",
       "                }\n",
       "            }, 500);\n",
       "            "
      ],
      "text/plain": [
       "<IPython.core.display.Javascript object>"
      ]
     },
     "metadata": {},
     "output_type": "display_data"
    }
   ],
   "source": [
    "sale_filt_col = \"obj_regio2\"  # \"obj_zipCode\"\n",
    "sale_filt_arg = \"Duisburg\"\n",
    "sale_filt_ord = \"yearly_ROI\"\n",
    "\n",
    "sale_filt = sale_select_df[sale_filt_col] == sale_filt_arg\n",
    "sale_select_df[sale_filt].sort_values(\"yearly_ROI\", ascending=False).head(20)"
   ]
  }
 ],
 "metadata": {
  "file_extension": ".py",
  "kernelspec": {
   "display_name": "Python 3.7.4 64-bit ('code-XMyLcZ05': virtualenv)",
   "language": "python",
   "name": "python37464bitcodexmylcz05virtualenv1c92419505f543d4ab1a2d5f6eb10a13"
  },
  "language_info": {
   "codemirror_mode": {
    "name": "ipython",
    "version": 3
   },
   "file_extension": ".py",
   "mimetype": "text/x-python",
   "name": "python",
   "nbconvert_exporter": "python",
   "pygments_lexer": "ipython3",
   "version": "3.7.4"
  },
  "mimetype": "text/x-python",
  "name": "python",
  "npconvert_exporter": "python",
  "pygments_lexer": "ipython3",
  "version": 3
 },
 "nbformat": 4,
 "nbformat_minor": 2
}
