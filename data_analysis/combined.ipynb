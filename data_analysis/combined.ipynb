{
 "cells": [
  {
   "cell_type": "markdown",
   "metadata": {},
   "source": [
    "# Comparison of rent and sale prices"
   ]
  },
  {
   "cell_type": "markdown",
   "metadata": {},
   "source": [
    "## 0) Imports"
   ]
  },
  {
   "cell_type": "code",
   "execution_count": 1,
   "metadata": {},
   "outputs": [
    {
     "data": {
      "application/javascript": [
       "\n",
       "            setTimeout(function() {\n",
       "                var nbb_cell_id = 1;\n",
       "                var nbb_unformatted_code = \"import numpy as np\\nfrom matplotlib import pyplot as plt\\nimport pandas as pd\\nimport glob\\n\\n%load_ext nb_black\\n%matplotlib inline\\n\\nplt.rcParams[\\\"figure.figsize\\\"] = (15, 10)\\npd.set_option(\\\"display.precision\\\", 2)\";\n",
       "                var nbb_formatted_code = \"import numpy as np\\nfrom matplotlib import pyplot as plt\\nimport pandas as pd\\nimport glob\\n\\n%load_ext nb_black\\n%matplotlib inline\\n\\nplt.rcParams[\\\"figure.figsize\\\"] = (15, 10)\\npd.set_option(\\\"display.precision\\\", 2)\";\n",
       "                var nbb_cells = Jupyter.notebook.get_cells();\n",
       "                for (var i = 0; i < nbb_cells.length; ++i) {\n",
       "                    if (nbb_cells[i].input_prompt_number == nbb_cell_id) {\n",
       "                        if (nbb_cells[i].get_text() == nbb_unformatted_code) {\n",
       "                             nbb_cells[i].set_text(nbb_formatted_code);\n",
       "                        }\n",
       "                        break;\n",
       "                    }\n",
       "                }\n",
       "            }, 500);\n",
       "            "
      ],
      "text/plain": [
       "<IPython.core.display.Javascript object>"
      ]
     },
     "metadata": {},
     "output_type": "display_data"
    }
   ],
   "source": [
    "import numpy as np\n",
    "from matplotlib import pyplot as plt\n",
    "import pandas as pd\n",
    "import glob\n",
    "\n",
    "%load_ext nb_black\n",
    "%matplotlib inline\n",
    "\n",
    "plt.rcParams[\"figure.figsize\"] = (15, 10)\n",
    "pd.set_option(\"display.precision\", 2)"
   ]
  },
  {
   "cell_type": "markdown",
   "metadata": {},
   "source": [
    "## 1) Data cleaning"
   ]
  },
  {
   "cell_type": "markdown",
   "metadata": {},
   "source": [
    "#### load data:"
   ]
  },
  {
   "cell_type": "code",
   "execution_count": 2,
   "metadata": {},
   "outputs": [
    {
     "data": {
      "application/javascript": [
       "\n",
       "            setTimeout(function() {\n",
       "                var nbb_cell_id = 2;\n",
       "                var nbb_unformatted_code = \"rent_filepath = sorted(glob.glob(\\\"../data/mieten*\\\"))[-1]\\nsale_filepath = sorted(glob.glob(\\\"../data/kaufen*\\\"))[-1]\\nrent_df = pd.read_csv(rent_filepath, sep=\\\";\\\", low_memory=False)\\nsale_df = pd.read_csv(sale_filepath, sep=\\\";\\\", low_memory=False)\";\n",
       "                var nbb_formatted_code = \"rent_filepath = sorted(glob.glob(\\\"../data/mieten*\\\"))[-1]\\nsale_filepath = sorted(glob.glob(\\\"../data/kaufen*\\\"))[-1]\\nrent_df = pd.read_csv(rent_filepath, sep=\\\";\\\", low_memory=False)\\nsale_df = pd.read_csv(sale_filepath, sep=\\\";\\\", low_memory=False)\";\n",
       "                var nbb_cells = Jupyter.notebook.get_cells();\n",
       "                for (var i = 0; i < nbb_cells.length; ++i) {\n",
       "                    if (nbb_cells[i].input_prompt_number == nbb_cell_id) {\n",
       "                        if (nbb_cells[i].get_text() == nbb_unformatted_code) {\n",
       "                             nbb_cells[i].set_text(nbb_formatted_code);\n",
       "                        }\n",
       "                        break;\n",
       "                    }\n",
       "                }\n",
       "            }, 500);\n",
       "            "
      ],
      "text/plain": [
       "<IPython.core.display.Javascript object>"
      ]
     },
     "metadata": {},
     "output_type": "display_data"
    }
   ],
   "source": [
    "rent_filepath = sorted(glob.glob(\"../data/mieten*\"))[-1]\n",
    "sale_filepath = sorted(glob.glob(\"../data/kaufen*\"))[-1]\n",
    "rent_df = pd.read_csv(rent_filepath, sep=\";\", low_memory=False)\n",
    "sale_df = pd.read_csv(sale_filepath, sep=\";\", low_memory=False)"
   ]
  },
  {
   "cell_type": "markdown",
   "metadata": {},
   "source": [
    "#### remove unnecessary prefixes:"
   ]
  },
  {
   "cell_type": "code",
   "execution_count": 3,
   "metadata": {},
   "outputs": [
    {
     "data": {
      "application/javascript": [
       "\n",
       "            setTimeout(function() {\n",
       "                var nbb_cell_id = 3;\n",
       "                var nbb_unformatted_code = \"rent_df.columns = [\\n    x.replace(\\\"obj_\\\", \\\"\\\").replace(\\\"ga_\\\", \\\"\\\").replace(\\\"geo_\\\", \\\"\\\")\\n    for x in rent_df.columns\\n]\\nsale_df.columns = [\\n    x.replace(\\\"obj_\\\", \\\"\\\").replace(\\\"ga_\\\", \\\"\\\").replace(\\\"geo_\\\", \\\"\\\")\\n    for x in sale_df.columns\\n]\";\n",
       "                var nbb_formatted_code = \"rent_df.columns = [\\n    x.replace(\\\"obj_\\\", \\\"\\\").replace(\\\"ga_\\\", \\\"\\\").replace(\\\"geo_\\\", \\\"\\\")\\n    for x in rent_df.columns\\n]\\nsale_df.columns = [\\n    x.replace(\\\"obj_\\\", \\\"\\\").replace(\\\"ga_\\\", \\\"\\\").replace(\\\"geo_\\\", \\\"\\\")\\n    for x in sale_df.columns\\n]\";\n",
       "                var nbb_cells = Jupyter.notebook.get_cells();\n",
       "                for (var i = 0; i < nbb_cells.length; ++i) {\n",
       "                    if (nbb_cells[i].input_prompt_number == nbb_cell_id) {\n",
       "                        if (nbb_cells[i].get_text() == nbb_unformatted_code) {\n",
       "                             nbb_cells[i].set_text(nbb_formatted_code);\n",
       "                        }\n",
       "                        break;\n",
       "                    }\n",
       "                }\n",
       "            }, 500);\n",
       "            "
      ],
      "text/plain": [
       "<IPython.core.display.Javascript object>"
      ]
     },
     "metadata": {},
     "output_type": "display_data"
    }
   ],
   "source": [
    "rent_df.columns = [\n",
    "    x.replace(\"obj_\", \"\").replace(\"ga_\", \"\").replace(\"geo_\", \"\")\n",
    "    for x in rent_df.columns\n",
    "]\n",
    "sale_df.columns = [\n",
    "    x.replace(\"obj_\", \"\").replace(\"ga_\", \"\").replace(\"geo_\", \"\")\n",
    "    for x in sale_df.columns\n",
    "]"
   ]
  },
  {
   "cell_type": "markdown",
   "metadata": {},
   "source": [
    "#### remove duplicates:"
   ]
  },
  {
   "cell_type": "code",
   "execution_count": 4,
   "metadata": {},
   "outputs": [
    {
     "data": {
      "application/javascript": [
       "\n",
       "            setTimeout(function() {\n",
       "                var nbb_cell_id = 4;\n",
       "                var nbb_unformatted_code = \"rent_df = rent_df.drop_duplicates(subset=\\\"scoutId\\\")\\nsale_df = sale_df.drop_duplicates(subset=\\\"scoutId\\\")\";\n",
       "                var nbb_formatted_code = \"rent_df = rent_df.drop_duplicates(subset=\\\"scoutId\\\")\\nsale_df = sale_df.drop_duplicates(subset=\\\"scoutId\\\")\";\n",
       "                var nbb_cells = Jupyter.notebook.get_cells();\n",
       "                for (var i = 0; i < nbb_cells.length; ++i) {\n",
       "                    if (nbb_cells[i].input_prompt_number == nbb_cell_id) {\n",
       "                        if (nbb_cells[i].get_text() == nbb_unformatted_code) {\n",
       "                             nbb_cells[i].set_text(nbb_formatted_code);\n",
       "                        }\n",
       "                        break;\n",
       "                    }\n",
       "                }\n",
       "            }, 500);\n",
       "            "
      ],
      "text/plain": [
       "<IPython.core.display.Javascript object>"
      ]
     },
     "metadata": {},
     "output_type": "display_data"
    }
   ],
   "source": [
    "rent_df = rent_df.drop_duplicates(subset=\"scoutId\")\n",
    "sale_df = sale_df.drop_duplicates(subset=\"scoutId\")"
   ]
  },
  {
   "cell_type": "markdown",
   "metadata": {},
   "source": [
    "#### remove columns with missing values:"
   ]
  },
  {
   "cell_type": "code",
   "execution_count": 5,
   "metadata": {},
   "outputs": [
    {
     "data": {
      "application/javascript": [
       "\n",
       "            setTimeout(function() {\n",
       "                var nbb_cell_id = 5;\n",
       "                var nbb_unformatted_code = \"rent_df = rent_df[rent_df.columns[~rent_df.isnull().any()]]\\nsale_df = sale_df[sale_df.columns[~sale_df.isnull().any()]]\";\n",
       "                var nbb_formatted_code = \"rent_df = rent_df[rent_df.columns[~rent_df.isnull().any()]]\\nsale_df = sale_df[sale_df.columns[~sale_df.isnull().any()]]\";\n",
       "                var nbb_cells = Jupyter.notebook.get_cells();\n",
       "                for (var i = 0; i < nbb_cells.length; ++i) {\n",
       "                    if (nbb_cells[i].input_prompt_number == nbb_cell_id) {\n",
       "                        if (nbb_cells[i].get_text() == nbb_unformatted_code) {\n",
       "                             nbb_cells[i].set_text(nbb_formatted_code);\n",
       "                        }\n",
       "                        break;\n",
       "                    }\n",
       "                }\n",
       "            }, 500);\n",
       "            "
      ],
      "text/plain": [
       "<IPython.core.display.Javascript object>"
      ]
     },
     "metadata": {},
     "output_type": "display_data"
    }
   ],
   "source": [
    "rent_df = rent_df[rent_df.columns[~rent_df.isnull().any()]]\n",
    "sale_df = sale_df[sale_df.columns[~sale_df.isnull().any()]]"
   ]
  },
  {
   "cell_type": "markdown",
   "metadata": {},
   "source": [
    "## 2) Feature engineering"
   ]
  },
  {
   "cell_type": "markdown",
   "metadata": {},
   "source": [
    "#### add links:"
   ]
  },
  {
   "cell_type": "code",
   "execution_count": 6,
   "metadata": {},
   "outputs": [
    {
     "data": {
      "application/javascript": [
       "\n",
       "            setTimeout(function() {\n",
       "                var nbb_cell_id = 6;\n",
       "                var nbb_unformatted_code = \"rent_df[\\\"link\\\"] = \\\"https://www.immobilienscout24.de/expose/\\\" + rent_df[\\n    \\\"scoutId\\\"\\n].astype(str)\\nsale_df[\\\"link\\\"] = \\\"https://www.immobilienscout24.de/expose/\\\" + sale_df[\\n    \\\"scoutId\\\"\\n].astype(str)\";\n",
       "                var nbb_formatted_code = \"rent_df[\\\"link\\\"] = \\\"https://www.immobilienscout24.de/expose/\\\" + rent_df[\\n    \\\"scoutId\\\"\\n].astype(str)\\nsale_df[\\\"link\\\"] = \\\"https://www.immobilienscout24.de/expose/\\\" + sale_df[\\n    \\\"scoutId\\\"\\n].astype(str)\";\n",
       "                var nbb_cells = Jupyter.notebook.get_cells();\n",
       "                for (var i = 0; i < nbb_cells.length; ++i) {\n",
       "                    if (nbb_cells[i].input_prompt_number == nbb_cell_id) {\n",
       "                        if (nbb_cells[i].get_text() == nbb_unformatted_code) {\n",
       "                             nbb_cells[i].set_text(nbb_formatted_code);\n",
       "                        }\n",
       "                        break;\n",
       "                    }\n",
       "                }\n",
       "            }, 500);\n",
       "            "
      ],
      "text/plain": [
       "<IPython.core.display.Javascript object>"
      ]
     },
     "metadata": {},
     "output_type": "display_data"
    }
   ],
   "source": [
    "rent_df[\"link\"] = \"https://www.immobilienscout24.de/expose/\" + rent_df[\n",
    "    \"scoutId\"\n",
    "].astype(str)\n",
    "sale_df[\"link\"] = \"https://www.immobilienscout24.de/expose/\" + sale_df[\n",
    "    \"scoutId\"\n",
    "].astype(str)"
   ]
  },
  {
   "cell_type": "markdown",
   "metadata": {},
   "source": [
    "#### add relative prices:"
   ]
  },
  {
   "cell_type": "code",
   "execution_count": 7,
   "metadata": {
    "scrolled": true
   },
   "outputs": [
    {
     "data": {
      "application/javascript": [
       "\n",
       "            setTimeout(function() {\n",
       "                var nbb_cell_id = 7;\n",
       "                var nbb_unformatted_code = \"rent_df[\\\"rent_m2\\\"] = rent_df[\\\"baseRent\\\"] / rent_df[\\\"livingSpace\\\"]\\nsale_df[\\\"price_m2\\\"] = sale_df[\\\"purchasePrice\\\"] / sale_df[\\\"livingSpace\\\"]\";\n",
       "                var nbb_formatted_code = \"rent_df[\\\"rent_m2\\\"] = rent_df[\\\"baseRent\\\"] / rent_df[\\\"livingSpace\\\"]\\nsale_df[\\\"price_m2\\\"] = sale_df[\\\"purchasePrice\\\"] / sale_df[\\\"livingSpace\\\"]\";\n",
       "                var nbb_cells = Jupyter.notebook.get_cells();\n",
       "                for (var i = 0; i < nbb_cells.length; ++i) {\n",
       "                    if (nbb_cells[i].input_prompt_number == nbb_cell_id) {\n",
       "                        if (nbb_cells[i].get_text() == nbb_unformatted_code) {\n",
       "                             nbb_cells[i].set_text(nbb_formatted_code);\n",
       "                        }\n",
       "                        break;\n",
       "                    }\n",
       "                }\n",
       "            }, 500);\n",
       "            "
      ],
      "text/plain": [
       "<IPython.core.display.Javascript object>"
      ]
     },
     "metadata": {},
     "output_type": "display_data"
    }
   ],
   "source": [
    "rent_df[\"rent_m2\"] = rent_df[\"baseRent\"] / rent_df[\"livingSpace\"]\n",
    "sale_df[\"price_m2\"] = sale_df[\"purchasePrice\"] / sale_df[\"livingSpace\"]"
   ]
  },
  {
   "cell_type": "markdown",
   "metadata": {},
   "source": [
    "#### add return of investment based on median rents for zipCode"
   ]
  },
  {
   "cell_type": "code",
   "execution_count": 8,
   "metadata": {},
   "outputs": [
    {
     "data": {
      "application/javascript": [
       "\n",
       "            setTimeout(function() {\n",
       "                var nbb_cell_id = 8;\n",
       "                var nbb_unformatted_code = \"g = rent_df.groupby(\\\"zipCode\\\")[\\\"rent_m2\\\"].median()\\ng.name = \\\"rent_m2_zipCode\\\"\\nsale_df = sale_df.join(g, on=\\\"zipCode\\\").copy()\\n\\nsale_df[\\\"yearly_ROI\\\"] = sale_df[\\\"rent_m2_zipCode\\\"] * 12 / sale_df[\\\"price_m2\\\"]\";\n",
       "                var nbb_formatted_code = \"g = rent_df.groupby(\\\"zipCode\\\")[\\\"rent_m2\\\"].median()\\ng.name = \\\"rent_m2_zipCode\\\"\\nsale_df = sale_df.join(g, on=\\\"zipCode\\\").copy()\\n\\nsale_df[\\\"yearly_ROI\\\"] = sale_df[\\\"rent_m2_zipCode\\\"] * 12 / sale_df[\\\"price_m2\\\"]\";\n",
       "                var nbb_cells = Jupyter.notebook.get_cells();\n",
       "                for (var i = 0; i < nbb_cells.length; ++i) {\n",
       "                    if (nbb_cells[i].input_prompt_number == nbb_cell_id) {\n",
       "                        if (nbb_cells[i].get_text() == nbb_unformatted_code) {\n",
       "                             nbb_cells[i].set_text(nbb_formatted_code);\n",
       "                        }\n",
       "                        break;\n",
       "                    }\n",
       "                }\n",
       "            }, 500);\n",
       "            "
      ],
      "text/plain": [
       "<IPython.core.display.Javascript object>"
      ]
     },
     "metadata": {},
     "output_type": "display_data"
    }
   ],
   "source": [
    "g = rent_df.groupby(\"zipCode\")[\"rent_m2\"].median()\n",
    "g.name = \"rent_m2_zipCode\"\n",
    "sale_df = sale_df.join(g, on=\"zipCode\").copy()\n",
    "\n",
    "sale_df[\"yearly_ROI\"] = sale_df[\"rent_m2_zipCode\"] * 12 / sale_df[\"price_m2\"]"
   ]
  },
  {
   "cell_type": "markdown",
   "metadata": {},
   "source": [
    "#### add combined dataframe with median rents and prices:"
   ]
  },
  {
   "cell_type": "code",
   "execution_count": 9,
   "metadata": {},
   "outputs": [
    {
     "data": {
      "application/javascript": [
       "\n",
       "            setTimeout(function() {\n",
       "                var nbb_cell_id = 9;\n",
       "                var nbb_unformatted_code = \"group = \\\"zipCode\\\"\\n\\ncombined_df = pd.concat(\\n    [\\n        rent_df.groupby(group)[\\\"rent_m2\\\"].median(),\\n        rent_df.groupby(group)[\\\"rent_m2\\\"].size(),\\n        sale_df.groupby(group)[\\\"price_m2\\\"].median(),\\n        sale_df.groupby(group)[\\\"price_m2\\\"].size(),\\n        sale_df.groupby(group)[\\\"yearly_ROI\\\"].median(),\\n    ],\\n    axis=1,\\n    keys=[\\n        \\\"median_rent_m2\\\",\\n        \\\"num_rent\\\",\\n        \\\"median_price_m2\\\",\\n        \\\"num_sale\\\",\\n        \\\"median_yearly_ROI\\\",\\n    ],\\n).copy()\\n\\ncombined_df = combined_df.dropna()\";\n",
       "                var nbb_formatted_code = \"group = \\\"zipCode\\\"\\n\\ncombined_df = pd.concat(\\n    [\\n        rent_df.groupby(group)[\\\"rent_m2\\\"].median(),\\n        rent_df.groupby(group)[\\\"rent_m2\\\"].size(),\\n        sale_df.groupby(group)[\\\"price_m2\\\"].median(),\\n        sale_df.groupby(group)[\\\"price_m2\\\"].size(),\\n        sale_df.groupby(group)[\\\"yearly_ROI\\\"].median(),\\n    ],\\n    axis=1,\\n    keys=[\\n        \\\"median_rent_m2\\\",\\n        \\\"num_rent\\\",\\n        \\\"median_price_m2\\\",\\n        \\\"num_sale\\\",\\n        \\\"median_yearly_ROI\\\",\\n    ],\\n).copy()\\n\\ncombined_df = combined_df.dropna()\";\n",
       "                var nbb_cells = Jupyter.notebook.get_cells();\n",
       "                for (var i = 0; i < nbb_cells.length; ++i) {\n",
       "                    if (nbb_cells[i].input_prompt_number == nbb_cell_id) {\n",
       "                        if (nbb_cells[i].get_text() == nbb_unformatted_code) {\n",
       "                             nbb_cells[i].set_text(nbb_formatted_code);\n",
       "                        }\n",
       "                        break;\n",
       "                    }\n",
       "                }\n",
       "            }, 500);\n",
       "            "
      ],
      "text/plain": [
       "<IPython.core.display.Javascript object>"
      ]
     },
     "metadata": {},
     "output_type": "display_data"
    }
   ],
   "source": [
    "group = \"zipCode\"\n",
    "\n",
    "combined_df = pd.concat(\n",
    "    [\n",
    "        rent_df.groupby(group)[\"rent_m2\"].median(),\n",
    "        rent_df.groupby(group)[\"rent_m2\"].size(),\n",
    "        sale_df.groupby(group)[\"price_m2\"].median(),\n",
    "        sale_df.groupby(group)[\"price_m2\"].size(),\n",
    "        sale_df.groupby(group)[\"yearly_ROI\"].median(),\n",
    "    ],\n",
    "    axis=1,\n",
    "    keys=[\n",
    "        \"median_rent_m2\",\n",
    "        \"num_rent\",\n",
    "        \"median_price_m2\",\n",
    "        \"num_sale\",\n",
    "        \"median_yearly_ROI\",\n",
    "    ],\n",
    ").copy()\n",
    "\n",
    "combined_df = combined_df.dropna()"
   ]
  },
  {
   "cell_type": "markdown",
   "metadata": {},
   "source": [
    "#### select features:"
   ]
  },
  {
   "cell_type": "code",
   "execution_count": 10,
   "metadata": {},
   "outputs": [
    {
     "data": {
      "application/javascript": [
       "\n",
       "            setTimeout(function() {\n",
       "                var nbb_cell_id = 10;\n",
       "                var nbb_unformatted_code = \"rent_select_columns = [\\n    \\\"rent_m2\\\",\\n    \\\"baseRent\\\",\\n    \\\"livingSpace\\\",\\n    \\\"noRooms\\\",\\n    \\\"zipCode\\\",\\n    \\\"regio2\\\",\\n    \\\"link\\\",\\n]\\nrent_select_df = rent_df[rent_select_columns].copy()\\n\\nsale_select_columns = [\\n    \\\"yearly_ROI\\\",\\n    \\\"price_m2\\\",\\n    \\\"purchasePrice\\\",\\n    \\\"livingSpace\\\",\\n    \\\"noRooms\\\",\\n    \\\"zipCode\\\",\\n    \\\"regio2\\\",\\n    \\\"link\\\",\\n]\\nsale_select_df = sale_df[sale_select_columns].copy()\";\n",
       "                var nbb_formatted_code = \"rent_select_columns = [\\n    \\\"rent_m2\\\",\\n    \\\"baseRent\\\",\\n    \\\"livingSpace\\\",\\n    \\\"noRooms\\\",\\n    \\\"zipCode\\\",\\n    \\\"regio2\\\",\\n    \\\"link\\\",\\n]\\nrent_select_df = rent_df[rent_select_columns].copy()\\n\\nsale_select_columns = [\\n    \\\"yearly_ROI\\\",\\n    \\\"price_m2\\\",\\n    \\\"purchasePrice\\\",\\n    \\\"livingSpace\\\",\\n    \\\"noRooms\\\",\\n    \\\"zipCode\\\",\\n    \\\"regio2\\\",\\n    \\\"link\\\",\\n]\\nsale_select_df = sale_df[sale_select_columns].copy()\";\n",
       "                var nbb_cells = Jupyter.notebook.get_cells();\n",
       "                for (var i = 0; i < nbb_cells.length; ++i) {\n",
       "                    if (nbb_cells[i].input_prompt_number == nbb_cell_id) {\n",
       "                        if (nbb_cells[i].get_text() == nbb_unformatted_code) {\n",
       "                             nbb_cells[i].set_text(nbb_formatted_code);\n",
       "                        }\n",
       "                        break;\n",
       "                    }\n",
       "                }\n",
       "            }, 500);\n",
       "            "
      ],
      "text/plain": [
       "<IPython.core.display.Javascript object>"
      ]
     },
     "metadata": {},
     "output_type": "display_data"
    }
   ],
   "source": [
    "rent_select_columns = [\n",
    "    \"rent_m2\",\n",
    "    \"baseRent\",\n",
    "    \"livingSpace\",\n",
    "    \"noRooms\",\n",
    "    \"zipCode\",\n",
    "    \"regio2\",\n",
    "    \"link\",\n",
    "]\n",
    "rent_select_df = rent_df[rent_select_columns].copy()\n",
    "\n",
    "sale_select_columns = [\n",
    "    \"yearly_ROI\",\n",
    "    \"price_m2\",\n",
    "    \"purchasePrice\",\n",
    "    \"livingSpace\",\n",
    "    \"noRooms\",\n",
    "    \"zipCode\",\n",
    "    \"regio2\",\n",
    "    \"link\",\n",
    "]\n",
    "sale_select_df = sale_df[sale_select_columns].copy()"
   ]
  },
  {
   "cell_type": "markdown",
   "metadata": {},
   "source": [
    "## 3) Results"
   ]
  },
  {
   "cell_type": "markdown",
   "metadata": {},
   "source": [
    "#### group overview:"
   ]
  },
  {
   "cell_type": "code",
   "execution_count": 11,
   "metadata": {},
   "outputs": [
    {
     "data": {
      "text/html": [
       "<div>\n",
       "<style scoped>\n",
       "    .dataframe tbody tr th:only-of-type {\n",
       "        vertical-align: middle;\n",
       "    }\n",
       "\n",
       "    .dataframe tbody tr th {\n",
       "        vertical-align: top;\n",
       "    }\n",
       "\n",
       "    .dataframe thead th {\n",
       "        text-align: right;\n",
       "    }\n",
       "</style>\n",
       "<table border=\"1\" class=\"dataframe\">\n",
       "  <thead>\n",
       "    <tr style=\"text-align: right;\">\n",
       "      <th></th>\n",
       "      <th>median_rent_m2</th>\n",
       "      <th>num_rent</th>\n",
       "      <th>median_price_m2</th>\n",
       "      <th>num_sale</th>\n",
       "      <th>median_yearly_ROI</th>\n",
       "    </tr>\n",
       "    <tr>\n",
       "      <th>zipCode</th>\n",
       "      <th></th>\n",
       "      <th></th>\n",
       "      <th></th>\n",
       "      <th></th>\n",
       "      <th></th>\n",
       "    </tr>\n",
       "  </thead>\n",
       "  <tbody>\n",
       "    <tr>\n",
       "      <th>4639</th>\n",
       "      <td>4.66</td>\n",
       "      <td>10.0</td>\n",
       "      <td>25.40</td>\n",
       "      <td>8.0</td>\n",
       "      <td>2.20</td>\n",
       "    </tr>\n",
       "    <tr>\n",
       "      <th>47169</th>\n",
       "      <td>6.20</td>\n",
       "      <td>79.0</td>\n",
       "      <td>142.25</td>\n",
       "      <td>20.0</td>\n",
       "      <td>0.52</td>\n",
       "    </tr>\n",
       "    <tr>\n",
       "      <th>6369</th>\n",
       "      <td>4.50</td>\n",
       "      <td>8.0</td>\n",
       "      <td>406.88</td>\n",
       "      <td>10.0</td>\n",
       "      <td>0.13</td>\n",
       "    </tr>\n",
       "    <tr>\n",
       "      <th>38700</th>\n",
       "      <td>6.41</td>\n",
       "      <td>16.0</td>\n",
       "      <td>663.27</td>\n",
       "      <td>20.0</td>\n",
       "      <td>0.12</td>\n",
       "    </tr>\n",
       "    <tr>\n",
       "      <th>38644</th>\n",
       "      <td>6.36</td>\n",
       "      <td>8.0</td>\n",
       "      <td>710.53</td>\n",
       "      <td>17.0</td>\n",
       "      <td>0.11</td>\n",
       "    </tr>\n",
       "    <tr>\n",
       "      <th>...</th>\n",
       "      <td>...</td>\n",
       "      <td>...</td>\n",
       "      <td>...</td>\n",
       "      <td>...</td>\n",
       "      <td>...</td>\n",
       "    </tr>\n",
       "    <tr>\n",
       "      <th>83700</th>\n",
       "      <td>16.04</td>\n",
       "      <td>16.0</td>\n",
       "      <td>12426.92</td>\n",
       "      <td>28.0</td>\n",
       "      <td>0.02</td>\n",
       "    </tr>\n",
       "    <tr>\n",
       "      <th>82418</th>\n",
       "      <td>10.79</td>\n",
       "      <td>9.0</td>\n",
       "      <td>8465.59</td>\n",
       "      <td>10.0</td>\n",
       "      <td>0.02</td>\n",
       "    </tr>\n",
       "    <tr>\n",
       "      <th>7589</th>\n",
       "      <td>5.00</td>\n",
       "      <td>8.0</td>\n",
       "      <td>3933.01</td>\n",
       "      <td>14.0</td>\n",
       "      <td>0.02</td>\n",
       "    </tr>\n",
       "    <tr>\n",
       "      <th>28757</th>\n",
       "      <td>5.31</td>\n",
       "      <td>14.0</td>\n",
       "      <td>4472.42</td>\n",
       "      <td>8.0</td>\n",
       "      <td>0.01</td>\n",
       "    </tr>\n",
       "    <tr>\n",
       "      <th>80539</th>\n",
       "      <td>25.05</td>\n",
       "      <td>9.0</td>\n",
       "      <td>22134.15</td>\n",
       "      <td>6.0</td>\n",
       "      <td>0.01</td>\n",
       "    </tr>\n",
       "  </tbody>\n",
       "</table>\n",
       "<p>1608 rows × 5 columns</p>\n",
       "</div>"
      ],
      "text/plain": [
       "         median_rent_m2  num_rent  median_price_m2  num_sale  \\\n",
       "zipCode                                                        \n",
       "4639               4.66      10.0            25.40       8.0   \n",
       "47169              6.20      79.0           142.25      20.0   \n",
       "6369               4.50       8.0           406.88      10.0   \n",
       "38700              6.41      16.0           663.27      20.0   \n",
       "38644              6.36       8.0           710.53      17.0   \n",
       "...                 ...       ...              ...       ...   \n",
       "83700             16.04      16.0         12426.92      28.0   \n",
       "82418             10.79       9.0          8465.59      10.0   \n",
       "7589               5.00       8.0          3933.01      14.0   \n",
       "28757              5.31      14.0          4472.42       8.0   \n",
       "80539             25.05       9.0         22134.15       6.0   \n",
       "\n",
       "         median_yearly_ROI  \n",
       "zipCode                     \n",
       "4639                  2.20  \n",
       "47169                 0.52  \n",
       "6369                  0.13  \n",
       "38700                 0.12  \n",
       "38644                 0.11  \n",
       "...                    ...  \n",
       "83700                 0.02  \n",
       "82418                 0.02  \n",
       "7589                  0.02  \n",
       "28757                 0.01  \n",
       "80539                 0.01  \n",
       "\n",
       "[1608 rows x 5 columns]"
      ]
     },
     "execution_count": 11,
     "metadata": {},
     "output_type": "execute_result"
    },
    {
     "data": {
      "application/javascript": [
       "\n",
       "            setTimeout(function() {\n",
       "                var nbb_cell_id = 11;\n",
       "                var nbb_unformatted_code = \"min_num = 5\\ncombined_filt_ord = \\\"median_yearly_ROI\\\"\\n\\ncombined_filt = (combined_df[\\\"num_rent\\\"] > min_num) & (\\n    combined_df[\\\"num_sale\\\"] > min_num\\n)\\ncombined_df[combined_filt].sort_values(combined_filt_ord, ascending=False)\";\n",
       "                var nbb_formatted_code = \"min_num = 5\\ncombined_filt_ord = \\\"median_yearly_ROI\\\"\\n\\ncombined_filt = (combined_df[\\\"num_rent\\\"] > min_num) & (\\n    combined_df[\\\"num_sale\\\"] > min_num\\n)\\ncombined_df[combined_filt].sort_values(combined_filt_ord, ascending=False)\";\n",
       "                var nbb_cells = Jupyter.notebook.get_cells();\n",
       "                for (var i = 0; i < nbb_cells.length; ++i) {\n",
       "                    if (nbb_cells[i].input_prompt_number == nbb_cell_id) {\n",
       "                        if (nbb_cells[i].get_text() == nbb_unformatted_code) {\n",
       "                             nbb_cells[i].set_text(nbb_formatted_code);\n",
       "                        }\n",
       "                        break;\n",
       "                    }\n",
       "                }\n",
       "            }, 500);\n",
       "            "
      ],
      "text/plain": [
       "<IPython.core.display.Javascript object>"
      ]
     },
     "metadata": {},
     "output_type": "display_data"
    }
   ],
   "source": [
    "min_num = 5\n",
    "combined_filt_ord = \"median_yearly_ROI\"\n",
    "\n",
    "combined_filt = (combined_df[\"num_rent\"] > min_num) & (\n",
    "    combined_df[\"num_sale\"] > min_num\n",
    ")\n",
    "combined_df[combined_filt].sort_values(combined_filt_ord, ascending=False)"
   ]
  },
  {
   "cell_type": "markdown",
   "metadata": {},
   "source": [
    "#### group single:"
   ]
  },
  {
   "cell_type": "code",
   "execution_count": 12,
   "metadata": {},
   "outputs": [
    {
     "data": {
      "text/plain": [
       "median_rent_m2         15.32\n",
       "num_rent               13.00\n",
       "median_price_m2      4736.84\n",
       "num_sale                5.00\n",
       "median_yearly_ROI       0.04\n",
       "Name: 72074, dtype: float64"
      ]
     },
     "execution_count": 12,
     "metadata": {},
     "output_type": "execute_result"
    },
    {
     "data": {
      "application/javascript": [
       "\n",
       "            setTimeout(function() {\n",
       "                var nbb_cell_id = 12;\n",
       "                var nbb_unformatted_code = \"combined_arg = 72074\\ncombined_df.loc[combined_arg]\";\n",
       "                var nbb_formatted_code = \"combined_arg = 72074\\ncombined_df.loc[combined_arg]\";\n",
       "                var nbb_cells = Jupyter.notebook.get_cells();\n",
       "                for (var i = 0; i < nbb_cells.length; ++i) {\n",
       "                    if (nbb_cells[i].input_prompt_number == nbb_cell_id) {\n",
       "                        if (nbb_cells[i].get_text() == nbb_unformatted_code) {\n",
       "                             nbb_cells[i].set_text(nbb_formatted_code);\n",
       "                        }\n",
       "                        break;\n",
       "                    }\n",
       "                }\n",
       "            }, 500);\n",
       "            "
      ],
      "text/plain": [
       "<IPython.core.display.Javascript object>"
      ]
     },
     "metadata": {},
     "output_type": "display_data"
    }
   ],
   "source": [
    "combined_arg = 72074\n",
    "combined_df.loc[combined_arg]"
   ]
  },
  {
   "cell_type": "markdown",
   "metadata": {},
   "source": [
    "#### apartments for rent:"
   ]
  },
  {
   "cell_type": "code",
   "execution_count": 13,
   "metadata": {},
   "outputs": [
    {
     "data": {
      "text/html": [
       "<div>\n",
       "<style scoped>\n",
       "    .dataframe tbody tr th:only-of-type {\n",
       "        vertical-align: middle;\n",
       "    }\n",
       "\n",
       "    .dataframe tbody tr th {\n",
       "        vertical-align: top;\n",
       "    }\n",
       "\n",
       "    .dataframe thead th {\n",
       "        text-align: right;\n",
       "    }\n",
       "</style>\n",
       "<table border=\"1\" class=\"dataframe\">\n",
       "  <thead>\n",
       "    <tr style=\"text-align: right;\">\n",
       "      <th></th>\n",
       "      <th>rent_m2</th>\n",
       "      <th>baseRent</th>\n",
       "      <th>livingSpace</th>\n",
       "      <th>noRooms</th>\n",
       "      <th>zipCode</th>\n",
       "      <th>regio2</th>\n",
       "      <th>link</th>\n",
       "    </tr>\n",
       "  </thead>\n",
       "  <tbody>\n",
       "    <tr>\n",
       "      <th>41628</th>\n",
       "      <td>12.50</td>\n",
       "      <td>900.0</td>\n",
       "      <td>72.00</td>\n",
       "      <td>2.0</td>\n",
       "      <td>72074</td>\n",
       "      <td>Tübingen_Kreis</td>\n",
       "      <td>https://www.immobilienscout24.de/expose/117139032</td>\n",
       "    </tr>\n",
       "    <tr>\n",
       "      <th>45614</th>\n",
       "      <td>13.49</td>\n",
       "      <td>985.0</td>\n",
       "      <td>73.00</td>\n",
       "      <td>3.0</td>\n",
       "      <td>72074</td>\n",
       "      <td>Tübingen_Kreis</td>\n",
       "      <td>https://www.immobilienscout24.de/expose/117026980</td>\n",
       "    </tr>\n",
       "    <tr>\n",
       "      <th>25107</th>\n",
       "      <td>13.55</td>\n",
       "      <td>865.0</td>\n",
       "      <td>63.85</td>\n",
       "      <td>2.0</td>\n",
       "      <td>72074</td>\n",
       "      <td>Tübingen_Kreis</td>\n",
       "      <td>https://www.immobilienscout24.de/expose/117067170</td>\n",
       "    </tr>\n",
       "    <tr>\n",
       "      <th>91096</th>\n",
       "      <td>13.64</td>\n",
       "      <td>300.0</td>\n",
       "      <td>22.00</td>\n",
       "      <td>1.0</td>\n",
       "      <td>72074</td>\n",
       "      <td>Tübingen_Kreis</td>\n",
       "      <td>https://www.immobilienscout24.de/expose/65446426</td>\n",
       "    </tr>\n",
       "    <tr>\n",
       "      <th>87752</th>\n",
       "      <td>13.78</td>\n",
       "      <td>620.0</td>\n",
       "      <td>45.00</td>\n",
       "      <td>2.0</td>\n",
       "      <td>72074</td>\n",
       "      <td>Tübingen_Kreis</td>\n",
       "      <td>https://www.immobilienscout24.de/expose/90113522</td>\n",
       "    </tr>\n",
       "    <tr>\n",
       "      <th>47727</th>\n",
       "      <td>14.29</td>\n",
       "      <td>400.0</td>\n",
       "      <td>28.00</td>\n",
       "      <td>1.0</td>\n",
       "      <td>72074</td>\n",
       "      <td>Tübingen_Kreis</td>\n",
       "      <td>https://www.immobilienscout24.de/expose/116987357</td>\n",
       "    </tr>\n",
       "    <tr>\n",
       "      <th>6413</th>\n",
       "      <td>15.32</td>\n",
       "      <td>950.0</td>\n",
       "      <td>62.00</td>\n",
       "      <td>2.0</td>\n",
       "      <td>72074</td>\n",
       "      <td>Tübingen_Kreis</td>\n",
       "      <td>https://www.immobilienscout24.de/expose/117408623</td>\n",
       "    </tr>\n",
       "    <tr>\n",
       "      <th>41795</th>\n",
       "      <td>15.56</td>\n",
       "      <td>560.0</td>\n",
       "      <td>36.00</td>\n",
       "      <td>1.5</td>\n",
       "      <td>72074</td>\n",
       "      <td>Tübingen_Kreis</td>\n",
       "      <td>https://www.immobilienscout24.de/expose/117129297</td>\n",
       "    </tr>\n",
       "    <tr>\n",
       "      <th>4157</th>\n",
       "      <td>15.57</td>\n",
       "      <td>475.0</td>\n",
       "      <td>30.50</td>\n",
       "      <td>1.5</td>\n",
       "      <td>72074</td>\n",
       "      <td>Tübingen_Kreis</td>\n",
       "      <td>https://www.immobilienscout24.de/expose/94758279</td>\n",
       "    </tr>\n",
       "    <tr>\n",
       "      <th>84196</th>\n",
       "      <td>15.79</td>\n",
       "      <td>300.0</td>\n",
       "      <td>19.00</td>\n",
       "      <td>1.0</td>\n",
       "      <td>72074</td>\n",
       "      <td>Tübingen_Kreis</td>\n",
       "      <td>https://www.immobilienscout24.de/expose/104538924</td>\n",
       "    </tr>\n",
       "    <tr>\n",
       "      <th>90429</th>\n",
       "      <td>19.62</td>\n",
       "      <td>590.0</td>\n",
       "      <td>30.07</td>\n",
       "      <td>1.0</td>\n",
       "      <td>72074</td>\n",
       "      <td>Tübingen_Kreis</td>\n",
       "      <td>https://www.immobilienscout24.de/expose/73109515</td>\n",
       "    </tr>\n",
       "    <tr>\n",
       "      <th>61189</th>\n",
       "      <td>20.65</td>\n",
       "      <td>470.0</td>\n",
       "      <td>22.76</td>\n",
       "      <td>1.0</td>\n",
       "      <td>72074</td>\n",
       "      <td>Tübingen_Kreis</td>\n",
       "      <td>https://www.immobilienscout24.de/expose/116058550</td>\n",
       "    </tr>\n",
       "    <tr>\n",
       "      <th>58853</th>\n",
       "      <td>31.82</td>\n",
       "      <td>350.0</td>\n",
       "      <td>11.00</td>\n",
       "      <td>1.0</td>\n",
       "      <td>72074</td>\n",
       "      <td>Tübingen_Kreis</td>\n",
       "      <td>https://www.immobilienscout24.de/expose/116358365</td>\n",
       "    </tr>\n",
       "  </tbody>\n",
       "</table>\n",
       "</div>"
      ],
      "text/plain": [
       "       rent_m2  baseRent  livingSpace  noRooms  zipCode          regio2  \\\n",
       "41628    12.50     900.0        72.00      2.0    72074  Tübingen_Kreis   \n",
       "45614    13.49     985.0        73.00      3.0    72074  Tübingen_Kreis   \n",
       "25107    13.55     865.0        63.85      2.0    72074  Tübingen_Kreis   \n",
       "91096    13.64     300.0        22.00      1.0    72074  Tübingen_Kreis   \n",
       "87752    13.78     620.0        45.00      2.0    72074  Tübingen_Kreis   \n",
       "47727    14.29     400.0        28.00      1.0    72074  Tübingen_Kreis   \n",
       "6413     15.32     950.0        62.00      2.0    72074  Tübingen_Kreis   \n",
       "41795    15.56     560.0        36.00      1.5    72074  Tübingen_Kreis   \n",
       "4157     15.57     475.0        30.50      1.5    72074  Tübingen_Kreis   \n",
       "84196    15.79     300.0        19.00      1.0    72074  Tübingen_Kreis   \n",
       "90429    19.62     590.0        30.07      1.0    72074  Tübingen_Kreis   \n",
       "61189    20.65     470.0        22.76      1.0    72074  Tübingen_Kreis   \n",
       "58853    31.82     350.0        11.00      1.0    72074  Tübingen_Kreis   \n",
       "\n",
       "                                                    link  \n",
       "41628  https://www.immobilienscout24.de/expose/117139032  \n",
       "45614  https://www.immobilienscout24.de/expose/117026980  \n",
       "25107  https://www.immobilienscout24.de/expose/117067170  \n",
       "91096   https://www.immobilienscout24.de/expose/65446426  \n",
       "87752   https://www.immobilienscout24.de/expose/90113522  \n",
       "47727  https://www.immobilienscout24.de/expose/116987357  \n",
       "6413   https://www.immobilienscout24.de/expose/117408623  \n",
       "41795  https://www.immobilienscout24.de/expose/117129297  \n",
       "4157    https://www.immobilienscout24.de/expose/94758279  \n",
       "84196  https://www.immobilienscout24.de/expose/104538924  \n",
       "90429   https://www.immobilienscout24.de/expose/73109515  \n",
       "61189  https://www.immobilienscout24.de/expose/116058550  \n",
       "58853  https://www.immobilienscout24.de/expose/116358365  "
      ]
     },
     "execution_count": 13,
     "metadata": {},
     "output_type": "execute_result"
    },
    {
     "data": {
      "application/javascript": [
       "\n",
       "            setTimeout(function() {\n",
       "                var nbb_cell_id = 13;\n",
       "                var nbb_unformatted_code = \"rent_filt_col = \\\"zipCode\\\"\\nrent_filt_arg = [72074]\\nrent_filt_ord = \\\"rent_per_m2\\\"\\n\\nrent_filt = rent_select_df[rent_filt_col].isin(rent_filt_arg)\\nrent_select_df[rent_filt].sort_values(\\\"rent_m2\\\").head(20)\";\n",
       "                var nbb_formatted_code = \"rent_filt_col = \\\"zipCode\\\"\\nrent_filt_arg = [72074]\\nrent_filt_ord = \\\"rent_per_m2\\\"\\n\\nrent_filt = rent_select_df[rent_filt_col].isin(rent_filt_arg)\\nrent_select_df[rent_filt].sort_values(\\\"rent_m2\\\").head(20)\";\n",
       "                var nbb_cells = Jupyter.notebook.get_cells();\n",
       "                for (var i = 0; i < nbb_cells.length; ++i) {\n",
       "                    if (nbb_cells[i].input_prompt_number == nbb_cell_id) {\n",
       "                        if (nbb_cells[i].get_text() == nbb_unformatted_code) {\n",
       "                             nbb_cells[i].set_text(nbb_formatted_code);\n",
       "                        }\n",
       "                        break;\n",
       "                    }\n",
       "                }\n",
       "            }, 500);\n",
       "            "
      ],
      "text/plain": [
       "<IPython.core.display.Javascript object>"
      ]
     },
     "metadata": {},
     "output_type": "display_data"
    }
   ],
   "source": [
    "rent_filt_col = \"zipCode\"\n",
    "rent_filt_arg = [72074]\n",
    "rent_filt_ord = \"rent_per_m2\"\n",
    "\n",
    "rent_filt = rent_select_df[rent_filt_col].isin(rent_filt_arg)\n",
    "rent_select_df[rent_filt].sort_values(\"rent_m2\").head(20)"
   ]
  },
  {
   "cell_type": "markdown",
   "metadata": {},
   "source": [
    "#### apartments for sale:"
   ]
  },
  {
   "cell_type": "code",
   "execution_count": 14,
   "metadata": {},
   "outputs": [
    {
     "data": {
      "text/html": [
       "<div>\n",
       "<style scoped>\n",
       "    .dataframe tbody tr th:only-of-type {\n",
       "        vertical-align: middle;\n",
       "    }\n",
       "\n",
       "    .dataframe tbody tr th {\n",
       "        vertical-align: top;\n",
       "    }\n",
       "\n",
       "    .dataframe thead th {\n",
       "        text-align: right;\n",
       "    }\n",
       "</style>\n",
       "<table border=\"1\" class=\"dataframe\">\n",
       "  <thead>\n",
       "    <tr style=\"text-align: right;\">\n",
       "      <th></th>\n",
       "      <th>yearly_ROI</th>\n",
       "      <th>price_m2</th>\n",
       "      <th>purchasePrice</th>\n",
       "      <th>livingSpace</th>\n",
       "      <th>noRooms</th>\n",
       "      <th>zipCode</th>\n",
       "      <th>regio2</th>\n",
       "      <th>link</th>\n",
       "    </tr>\n",
       "  </thead>\n",
       "  <tbody>\n",
       "    <tr>\n",
       "      <th>23874</th>\n",
       "      <td>0.06</td>\n",
       "      <td>3266.67</td>\n",
       "      <td>245000.0</td>\n",
       "      <td>75.0</td>\n",
       "      <td>3.0</td>\n",
       "      <td>72074</td>\n",
       "      <td>Tübingen_Kreis</td>\n",
       "      <td>https://www.immobilienscout24.de/expose/117116996</td>\n",
       "    </tr>\n",
       "    <tr>\n",
       "      <th>13553</th>\n",
       "      <td>0.04</td>\n",
       "      <td>4614.86</td>\n",
       "      <td>341500.0</td>\n",
       "      <td>74.0</td>\n",
       "      <td>3.0</td>\n",
       "      <td>72074</td>\n",
       "      <td>Tübingen_Kreis</td>\n",
       "      <td>https://www.immobilienscout24.de/expose/116920085</td>\n",
       "    </tr>\n",
       "    <tr>\n",
       "      <th>4100</th>\n",
       "      <td>0.04</td>\n",
       "      <td>4736.84</td>\n",
       "      <td>360000.0</td>\n",
       "      <td>76.0</td>\n",
       "      <td>3.0</td>\n",
       "      <td>72074</td>\n",
       "      <td>Tübingen_Kreis</td>\n",
       "      <td>https://www.immobilienscout24.de/expose/116571440</td>\n",
       "    </tr>\n",
       "    <tr>\n",
       "      <th>11077</th>\n",
       "      <td>0.04</td>\n",
       "      <td>5148.39</td>\n",
       "      <td>798000.0</td>\n",
       "      <td>155.0</td>\n",
       "      <td>4.0</td>\n",
       "      <td>72074</td>\n",
       "      <td>Tübingen_Kreis</td>\n",
       "      <td>https://www.immobilienscout24.de/expose/117501062</td>\n",
       "    </tr>\n",
       "    <tr>\n",
       "      <th>11177</th>\n",
       "      <td>0.03</td>\n",
       "      <td>5572.73</td>\n",
       "      <td>613000.0</td>\n",
       "      <td>110.0</td>\n",
       "      <td>3.5</td>\n",
       "      <td>72074</td>\n",
       "      <td>Tübingen_Kreis</td>\n",
       "      <td>https://www.immobilienscout24.de/expose/117071241</td>\n",
       "    </tr>\n",
       "  </tbody>\n",
       "</table>\n",
       "</div>"
      ],
      "text/plain": [
       "       yearly_ROI  price_m2  purchasePrice  livingSpace  noRooms  zipCode  \\\n",
       "23874        0.06   3266.67       245000.0         75.0      3.0    72074   \n",
       "13553        0.04   4614.86       341500.0         74.0      3.0    72074   \n",
       "4100         0.04   4736.84       360000.0         76.0      3.0    72074   \n",
       "11077        0.04   5148.39       798000.0        155.0      4.0    72074   \n",
       "11177        0.03   5572.73       613000.0        110.0      3.5    72074   \n",
       "\n",
       "               regio2                                               link  \n",
       "23874  Tübingen_Kreis  https://www.immobilienscout24.de/expose/117116996  \n",
       "13553  Tübingen_Kreis  https://www.immobilienscout24.de/expose/116920085  \n",
       "4100   Tübingen_Kreis  https://www.immobilienscout24.de/expose/116571440  \n",
       "11077  Tübingen_Kreis  https://www.immobilienscout24.de/expose/117501062  \n",
       "11177  Tübingen_Kreis  https://www.immobilienscout24.de/expose/117071241  "
      ]
     },
     "execution_count": 14,
     "metadata": {},
     "output_type": "execute_result"
    },
    {
     "data": {
      "application/javascript": [
       "\n",
       "            setTimeout(function() {\n",
       "                var nbb_cell_id = 14;\n",
       "                var nbb_unformatted_code = \"sale_filt_col = \\\"zipCode\\\"\\nsale_filt_arg = [72074]\\nsale_filt_ord = \\\"yearly_ROI\\\"\\n\\nsale_filt = sale_select_df[sale_filt_col].isin(sale_filt_arg)\\nsale_select_df[sale_filt].sort_values(\\\"yearly_ROI\\\", ascending=False).head(50)\";\n",
       "                var nbb_formatted_code = \"sale_filt_col = \\\"zipCode\\\"\\nsale_filt_arg = [72074]\\nsale_filt_ord = \\\"yearly_ROI\\\"\\n\\nsale_filt = sale_select_df[sale_filt_col].isin(sale_filt_arg)\\nsale_select_df[sale_filt].sort_values(\\\"yearly_ROI\\\", ascending=False).head(50)\";\n",
       "                var nbb_cells = Jupyter.notebook.get_cells();\n",
       "                for (var i = 0; i < nbb_cells.length; ++i) {\n",
       "                    if (nbb_cells[i].input_prompt_number == nbb_cell_id) {\n",
       "                        if (nbb_cells[i].get_text() == nbb_unformatted_code) {\n",
       "                             nbb_cells[i].set_text(nbb_formatted_code);\n",
       "                        }\n",
       "                        break;\n",
       "                    }\n",
       "                }\n",
       "            }, 500);\n",
       "            "
      ],
      "text/plain": [
       "<IPython.core.display.Javascript object>"
      ]
     },
     "metadata": {},
     "output_type": "display_data"
    }
   ],
   "source": [
    "sale_filt_col = \"zipCode\"\n",
    "sale_filt_arg = [72074]\n",
    "sale_filt_ord = \"yearly_ROI\"\n",
    "\n",
    "sale_filt = sale_select_df[sale_filt_col].isin(sale_filt_arg)\n",
    "sale_select_df[sale_filt].sort_values(\"yearly_ROI\", ascending=False).head(50)"
   ]
  }
 ],
 "metadata": {
  "file_extension": ".py",
  "kernelspec": {
   "display_name": "Python 3",
   "language": "python",
   "name": "python3"
  },
  "language_info": {
   "codemirror_mode": {
    "name": "ipython",
    "version": 3
   },
   "file_extension": ".py",
   "mimetype": "text/x-python",
   "name": "python",
   "nbconvert_exporter": "python",
   "pygments_lexer": "ipython3",
   "version": "3.7.4"
  },
  "mimetype": "text/x-python",
  "name": "python",
  "npconvert_exporter": "python",
  "pygments_lexer": "ipython3",
  "version": 3
 },
 "nbformat": 4,
 "nbformat_minor": 2
}
