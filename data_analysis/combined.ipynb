{
 "cells": [
  {
   "cell_type": "markdown",
   "metadata": {},
   "source": [
    "# Comparison of rent and sale prices"
   ]
  },
  {
   "cell_type": "markdown",
   "metadata": {},
   "source": [
    "## 0) Imports"
   ]
  },
  {
   "cell_type": "code",
   "execution_count": 1,
   "metadata": {},
   "outputs": [
    {
     "data": {
      "application/javascript": [
       "\n",
       "            setTimeout(function() {\n",
       "                var nbb_cell_id = 1;\n",
       "                var nbb_unformatted_code = \"%load_ext nb_black\\nimport numpy as np\\n\\nfrom matplotlib import pyplot as plt\\n\\n%matplotlib inline\\nplt.rcParams[\\\"figure.figsize\\\"] = (15, 10)\\n\\nimport pandas as pd\\n\\npd.set_option(\\\"display.precision\\\", 2)\";\n",
       "                var nbb_formatted_code = \"%load_ext nb_black\\nimport numpy as np\\n\\nfrom matplotlib import pyplot as plt\\n\\n%matplotlib inline\\nplt.rcParams[\\\"figure.figsize\\\"] = (15, 10)\\n\\nimport pandas as pd\\n\\npd.set_option(\\\"display.precision\\\", 2)\";\n",
       "                var nbb_cells = Jupyter.notebook.get_cells();\n",
       "                for (var i = 0; i < nbb_cells.length; ++i) {\n",
       "                    if (nbb_cells[i].input_prompt_number == nbb_cell_id) {\n",
       "                        if (nbb_cells[i].get_text() == nbb_unformatted_code) {\n",
       "                             nbb_cells[i].set_text(nbb_formatted_code);\n",
       "                        }\n",
       "                        break;\n",
       "                    }\n",
       "                }\n",
       "            }, 500);\n",
       "            "
      ],
      "text/plain": [
       "<IPython.core.display.Javascript object>"
      ]
     },
     "metadata": {},
     "output_type": "display_data"
    }
   ],
   "source": [
    "%load_ext nb_black\n",
    "import numpy as np\n",
    "\n",
    "from matplotlib import pyplot as plt\n",
    "\n",
    "%matplotlib inline\n",
    "plt.rcParams[\"figure.figsize\"] = (15, 10)\n",
    "\n",
    "import pandas as pd\n",
    "\n",
    "pd.set_option(\"display.precision\", 2)"
   ]
  },
  {
   "cell_type": "markdown",
   "metadata": {},
   "source": [
    "## 1) Data cleaning"
   ]
  },
  {
   "cell_type": "markdown",
   "metadata": {},
   "source": [
    "#### load data:"
   ]
  },
  {
   "cell_type": "code",
   "execution_count": 3,
   "metadata": {},
   "outputs": [
    {
     "ename": "FileNotFoundError",
     "evalue": "[Errno 2] File ../data/kaufen2020-04-13.csv does not exist: '../data/kaufen2020-04-13.csv'",
     "output_type": "error",
     "traceback": [
      "\u001b[1;31m---------------------------------------------------------------------------\u001b[0m",
      "\u001b[1;31mFileNotFoundError\u001b[0m                         Traceback (most recent call last)",
      "\u001b[1;32m<ipython-input-3-e4fa23d8186d>\u001b[0m in \u001b[0;36m<module>\u001b[1;34m\u001b[0m\n\u001b[0;32m      3\u001b[0m \u001b[0msale_filepath\u001b[0m \u001b[1;33m=\u001b[0m \u001b[1;34mf\"../data/kaufen{date}.csv\"\u001b[0m\u001b[1;33m\u001b[0m\u001b[1;33m\u001b[0m\u001b[0m\n\u001b[0;32m      4\u001b[0m \u001b[0mrent_df\u001b[0m \u001b[1;33m=\u001b[0m \u001b[0mpd\u001b[0m\u001b[1;33m.\u001b[0m\u001b[0mread_csv\u001b[0m\u001b[1;33m(\u001b[0m\u001b[0mrent_filepath\u001b[0m\u001b[1;33m,\u001b[0m \u001b[0msep\u001b[0m\u001b[1;33m=\u001b[0m\u001b[1;34m\";\"\u001b[0m\u001b[1;33m,\u001b[0m \u001b[0mlow_memory\u001b[0m\u001b[1;33m=\u001b[0m\u001b[1;32mFalse\u001b[0m\u001b[1;33m)\u001b[0m\u001b[1;33m\u001b[0m\u001b[1;33m\u001b[0m\u001b[0m\n\u001b[1;32m----> 5\u001b[1;33m \u001b[0msale_df\u001b[0m \u001b[1;33m=\u001b[0m \u001b[0mpd\u001b[0m\u001b[1;33m.\u001b[0m\u001b[0mread_csv\u001b[0m\u001b[1;33m(\u001b[0m\u001b[0msale_filepath\u001b[0m\u001b[1;33m,\u001b[0m \u001b[0msep\u001b[0m\u001b[1;33m=\u001b[0m\u001b[1;34m\";\"\u001b[0m\u001b[1;33m,\u001b[0m \u001b[0mlow_memory\u001b[0m\u001b[1;33m=\u001b[0m\u001b[1;32mFalse\u001b[0m\u001b[1;33m)\u001b[0m\u001b[1;33m\u001b[0m\u001b[1;33m\u001b[0m\u001b[0m\n\u001b[0m",
      "\u001b[1;32mc:\\users\\maximilian\\.virtualenvs\\immodata-y_1kz2e9\\lib\\site-packages\\pandas\\io\\parsers.py\u001b[0m in \u001b[0;36mparser_f\u001b[1;34m(filepath_or_buffer, sep, delimiter, header, names, index_col, usecols, squeeze, prefix, mangle_dupe_cols, dtype, engine, converters, true_values, false_values, skipinitialspace, skiprows, skipfooter, nrows, na_values, keep_default_na, na_filter, verbose, skip_blank_lines, parse_dates, infer_datetime_format, keep_date_col, date_parser, dayfirst, cache_dates, iterator, chunksize, compression, thousands, decimal, lineterminator, quotechar, quoting, doublequote, escapechar, comment, encoding, dialect, error_bad_lines, warn_bad_lines, delim_whitespace, low_memory, memory_map, float_precision)\u001b[0m\n\u001b[0;32m    674\u001b[0m         )\n\u001b[0;32m    675\u001b[0m \u001b[1;33m\u001b[0m\u001b[0m\n\u001b[1;32m--> 676\u001b[1;33m         \u001b[1;32mreturn\u001b[0m \u001b[0m_read\u001b[0m\u001b[1;33m(\u001b[0m\u001b[0mfilepath_or_buffer\u001b[0m\u001b[1;33m,\u001b[0m \u001b[0mkwds\u001b[0m\u001b[1;33m)\u001b[0m\u001b[1;33m\u001b[0m\u001b[1;33m\u001b[0m\u001b[0m\n\u001b[0m\u001b[0;32m    677\u001b[0m \u001b[1;33m\u001b[0m\u001b[0m\n\u001b[0;32m    678\u001b[0m     \u001b[0mparser_f\u001b[0m\u001b[1;33m.\u001b[0m\u001b[0m__name__\u001b[0m \u001b[1;33m=\u001b[0m \u001b[0mname\u001b[0m\u001b[1;33m\u001b[0m\u001b[1;33m\u001b[0m\u001b[0m\n",
      "\u001b[1;32mc:\\users\\maximilian\\.virtualenvs\\immodata-y_1kz2e9\\lib\\site-packages\\pandas\\io\\parsers.py\u001b[0m in \u001b[0;36m_read\u001b[1;34m(filepath_or_buffer, kwds)\u001b[0m\n\u001b[0;32m    446\u001b[0m \u001b[1;33m\u001b[0m\u001b[0m\n\u001b[0;32m    447\u001b[0m     \u001b[1;31m# Create the parser.\u001b[0m\u001b[1;33m\u001b[0m\u001b[1;33m\u001b[0m\u001b[1;33m\u001b[0m\u001b[0m\n\u001b[1;32m--> 448\u001b[1;33m     \u001b[0mparser\u001b[0m \u001b[1;33m=\u001b[0m \u001b[0mTextFileReader\u001b[0m\u001b[1;33m(\u001b[0m\u001b[0mfp_or_buf\u001b[0m\u001b[1;33m,\u001b[0m \u001b[1;33m**\u001b[0m\u001b[0mkwds\u001b[0m\u001b[1;33m)\u001b[0m\u001b[1;33m\u001b[0m\u001b[1;33m\u001b[0m\u001b[0m\n\u001b[0m\u001b[0;32m    449\u001b[0m \u001b[1;33m\u001b[0m\u001b[0m\n\u001b[0;32m    450\u001b[0m     \u001b[1;32mif\u001b[0m \u001b[0mchunksize\u001b[0m \u001b[1;32mor\u001b[0m \u001b[0miterator\u001b[0m\u001b[1;33m:\u001b[0m\u001b[1;33m\u001b[0m\u001b[1;33m\u001b[0m\u001b[0m\n",
      "\u001b[1;32mc:\\users\\maximilian\\.virtualenvs\\immodata-y_1kz2e9\\lib\\site-packages\\pandas\\io\\parsers.py\u001b[0m in \u001b[0;36m__init__\u001b[1;34m(self, f, engine, **kwds)\u001b[0m\n\u001b[0;32m    878\u001b[0m             \u001b[0mself\u001b[0m\u001b[1;33m.\u001b[0m\u001b[0moptions\u001b[0m\u001b[1;33m[\u001b[0m\u001b[1;34m\"has_index_names\"\u001b[0m\u001b[1;33m]\u001b[0m \u001b[1;33m=\u001b[0m \u001b[0mkwds\u001b[0m\u001b[1;33m[\u001b[0m\u001b[1;34m\"has_index_names\"\u001b[0m\u001b[1;33m]\u001b[0m\u001b[1;33m\u001b[0m\u001b[1;33m\u001b[0m\u001b[0m\n\u001b[0;32m    879\u001b[0m \u001b[1;33m\u001b[0m\u001b[0m\n\u001b[1;32m--> 880\u001b[1;33m         \u001b[0mself\u001b[0m\u001b[1;33m.\u001b[0m\u001b[0m_make_engine\u001b[0m\u001b[1;33m(\u001b[0m\u001b[0mself\u001b[0m\u001b[1;33m.\u001b[0m\u001b[0mengine\u001b[0m\u001b[1;33m)\u001b[0m\u001b[1;33m\u001b[0m\u001b[1;33m\u001b[0m\u001b[0m\n\u001b[0m\u001b[0;32m    881\u001b[0m \u001b[1;33m\u001b[0m\u001b[0m\n\u001b[0;32m    882\u001b[0m     \u001b[1;32mdef\u001b[0m \u001b[0mclose\u001b[0m\u001b[1;33m(\u001b[0m\u001b[0mself\u001b[0m\u001b[1;33m)\u001b[0m\u001b[1;33m:\u001b[0m\u001b[1;33m\u001b[0m\u001b[1;33m\u001b[0m\u001b[0m\n",
      "\u001b[1;32mc:\\users\\maximilian\\.virtualenvs\\immodata-y_1kz2e9\\lib\\site-packages\\pandas\\io\\parsers.py\u001b[0m in \u001b[0;36m_make_engine\u001b[1;34m(self, engine)\u001b[0m\n\u001b[0;32m   1112\u001b[0m     \u001b[1;32mdef\u001b[0m \u001b[0m_make_engine\u001b[0m\u001b[1;33m(\u001b[0m\u001b[0mself\u001b[0m\u001b[1;33m,\u001b[0m \u001b[0mengine\u001b[0m\u001b[1;33m=\u001b[0m\u001b[1;34m\"c\"\u001b[0m\u001b[1;33m)\u001b[0m\u001b[1;33m:\u001b[0m\u001b[1;33m\u001b[0m\u001b[1;33m\u001b[0m\u001b[0m\n\u001b[0;32m   1113\u001b[0m         \u001b[1;32mif\u001b[0m \u001b[0mengine\u001b[0m \u001b[1;33m==\u001b[0m \u001b[1;34m\"c\"\u001b[0m\u001b[1;33m:\u001b[0m\u001b[1;33m\u001b[0m\u001b[1;33m\u001b[0m\u001b[0m\n\u001b[1;32m-> 1114\u001b[1;33m             \u001b[0mself\u001b[0m\u001b[1;33m.\u001b[0m\u001b[0m_engine\u001b[0m \u001b[1;33m=\u001b[0m \u001b[0mCParserWrapper\u001b[0m\u001b[1;33m(\u001b[0m\u001b[0mself\u001b[0m\u001b[1;33m.\u001b[0m\u001b[0mf\u001b[0m\u001b[1;33m,\u001b[0m \u001b[1;33m**\u001b[0m\u001b[0mself\u001b[0m\u001b[1;33m.\u001b[0m\u001b[0moptions\u001b[0m\u001b[1;33m)\u001b[0m\u001b[1;33m\u001b[0m\u001b[1;33m\u001b[0m\u001b[0m\n\u001b[0m\u001b[0;32m   1115\u001b[0m         \u001b[1;32melse\u001b[0m\u001b[1;33m:\u001b[0m\u001b[1;33m\u001b[0m\u001b[1;33m\u001b[0m\u001b[0m\n\u001b[0;32m   1116\u001b[0m             \u001b[1;32mif\u001b[0m \u001b[0mengine\u001b[0m \u001b[1;33m==\u001b[0m \u001b[1;34m\"python\"\u001b[0m\u001b[1;33m:\u001b[0m\u001b[1;33m\u001b[0m\u001b[1;33m\u001b[0m\u001b[0m\n",
      "\u001b[1;32mc:\\users\\maximilian\\.virtualenvs\\immodata-y_1kz2e9\\lib\\site-packages\\pandas\\io\\parsers.py\u001b[0m in \u001b[0;36m__init__\u001b[1;34m(self, src, **kwds)\u001b[0m\n\u001b[0;32m   1889\u001b[0m         \u001b[0mkwds\u001b[0m\u001b[1;33m[\u001b[0m\u001b[1;34m\"usecols\"\u001b[0m\u001b[1;33m]\u001b[0m \u001b[1;33m=\u001b[0m \u001b[0mself\u001b[0m\u001b[1;33m.\u001b[0m\u001b[0musecols\u001b[0m\u001b[1;33m\u001b[0m\u001b[1;33m\u001b[0m\u001b[0m\n\u001b[0;32m   1890\u001b[0m \u001b[1;33m\u001b[0m\u001b[0m\n\u001b[1;32m-> 1891\u001b[1;33m         \u001b[0mself\u001b[0m\u001b[1;33m.\u001b[0m\u001b[0m_reader\u001b[0m \u001b[1;33m=\u001b[0m \u001b[0mparsers\u001b[0m\u001b[1;33m.\u001b[0m\u001b[0mTextReader\u001b[0m\u001b[1;33m(\u001b[0m\u001b[0msrc\u001b[0m\u001b[1;33m,\u001b[0m \u001b[1;33m**\u001b[0m\u001b[0mkwds\u001b[0m\u001b[1;33m)\u001b[0m\u001b[1;33m\u001b[0m\u001b[1;33m\u001b[0m\u001b[0m\n\u001b[0m\u001b[0;32m   1892\u001b[0m         \u001b[0mself\u001b[0m\u001b[1;33m.\u001b[0m\u001b[0munnamed_cols\u001b[0m \u001b[1;33m=\u001b[0m \u001b[0mself\u001b[0m\u001b[1;33m.\u001b[0m\u001b[0m_reader\u001b[0m\u001b[1;33m.\u001b[0m\u001b[0munnamed_cols\u001b[0m\u001b[1;33m\u001b[0m\u001b[1;33m\u001b[0m\u001b[0m\n\u001b[0;32m   1893\u001b[0m \u001b[1;33m\u001b[0m\u001b[0m\n",
      "\u001b[1;32mpandas\\_libs\\parsers.pyx\u001b[0m in \u001b[0;36mpandas._libs.parsers.TextReader.__cinit__\u001b[1;34m()\u001b[0m\n",
      "\u001b[1;32mpandas\\_libs\\parsers.pyx\u001b[0m in \u001b[0;36mpandas._libs.parsers.TextReader._setup_parser_source\u001b[1;34m()\u001b[0m\n",
      "\u001b[1;31mFileNotFoundError\u001b[0m: [Errno 2] File ../data/kaufen2020-04-13.csv does not exist: '../data/kaufen2020-04-13.csv'"
     ]
    },
    {
     "data": {
      "application/javascript": [
       "\n",
       "            setTimeout(function() {\n",
       "                var nbb_cell_id = 3;\n",
       "                var nbb_unformatted_code = \"date = \\\"2020-04-13\\\"\\nrent_filepath = f\\\"../data/mieten{date}.csv\\\"\\nsale_filepath = f\\\"../data/kaufen{date}.csv\\\"\\nrent_df = pd.read_csv(rent_filepath, sep=\\\";\\\", low_memory=False)\\nsale_df = pd.read_csv(sale_filepath, sep=\\\";\\\", low_memory=False)\";\n",
       "                var nbb_formatted_code = \"date = \\\"2020-04-13\\\"\\nrent_filepath = f\\\"../data/mieten{date}.csv\\\"\\nsale_filepath = f\\\"../data/kaufen{date}.csv\\\"\\nrent_df = pd.read_csv(rent_filepath, sep=\\\";\\\", low_memory=False)\\nsale_df = pd.read_csv(sale_filepath, sep=\\\";\\\", low_memory=False)\";\n",
       "                var nbb_cells = Jupyter.notebook.get_cells();\n",
       "                for (var i = 0; i < nbb_cells.length; ++i) {\n",
       "                    if (nbb_cells[i].input_prompt_number == nbb_cell_id) {\n",
       "                        if (nbb_cells[i].get_text() == nbb_unformatted_code) {\n",
       "                             nbb_cells[i].set_text(nbb_formatted_code);\n",
       "                        }\n",
       "                        break;\n",
       "                    }\n",
       "                }\n",
       "            }, 500);\n",
       "            "
      ],
      "text/plain": [
       "<IPython.core.display.Javascript object>"
      ]
     },
     "metadata": {},
     "output_type": "display_data"
    }
   ],
   "source": [
    "date = \"2020-04-13\"\n",
    "rent_filepath = f\"../data/mieten{date}.csv\"\n",
    "sale_filepath = f\"../data/kaufen{date}.csv\"\n",
    "rent_df = pd.read_csv(rent_filepath, sep=\";\", low_memory=False)\n",
    "sale_df = pd.read_csv(sale_filepath, sep=\";\", low_memory=False)"
   ]
  },
  {
   "cell_type": "markdown",
   "metadata": {},
   "source": [
    "#### remove unnecessary prefixes:"
   ]
  },
  {
   "cell_type": "code",
   "execution_count": null,
   "metadata": {},
   "outputs": [],
   "source": [
    "rent_df.columns = [\n",
    "    x.replace(\"obj_\", \"\").replace(\"ga_\", \"\").replace(\"geo_\", \"\")\n",
    "    for x in rent_df.columns\n",
    "]\n",
    "sale_df.columns = [\n",
    "    x.replace(\"obj_\", \"\").replace(\"ga_\", \"\").replace(\"geo_\", \"\")\n",
    "    for x in sale_df.columns\n",
    "]"
   ]
  },
  {
   "cell_type": "markdown",
   "metadata": {},
   "source": [
    "#### remove duplicates:"
   ]
  },
  {
   "cell_type": "code",
   "execution_count": null,
   "metadata": {},
   "outputs": [],
   "source": [
    "rent_df = rent_df.drop_duplicates(subset=\"scoutId\")\n",
    "sale_df = sale_df.drop_duplicates(subset=\"scoutId\")"
   ]
  },
  {
   "cell_type": "markdown",
   "metadata": {},
   "source": [
    "#### remove columns with missing values:"
   ]
  },
  {
   "cell_type": "code",
   "execution_count": null,
   "metadata": {},
   "outputs": [],
   "source": [
    "rent_df = rent_df[rent_df.columns[~rent_df.isnull().any()]]\n",
    "sale_df = sale_df[sale_df.columns[~sale_df.isnull().any()]]"
   ]
  },
  {
   "cell_type": "markdown",
   "metadata": {},
   "source": [
    "#### remove rows with unwanted features"
   ]
  },
  {
   "cell_type": "code",
   "execution_count": null,
   "metadata": {},
   "outputs": [],
   "source": []
  },
  {
   "cell_type": "markdown",
   "metadata": {},
   "source": [
    "## 2) Feature engineering"
   ]
  },
  {
   "cell_type": "markdown",
   "metadata": {},
   "source": [
    "#### add relative prices:"
   ]
  },
  {
   "cell_type": "code",
   "execution_count": null,
   "metadata": {
    "scrolled": true
   },
   "outputs": [],
   "source": [
    "rent_df[\"rent_m2\"] = rent_df[\"baseRent\"] / rent_df[\"livingSpace\"]\n",
    "rent_df[\"link\"] = \"https://www.immobilienscout24.de/expose/\" + rent_df[\n",
    "    \"scoutId\"\n",
    "].astype(str)\n",
    "\n",
    "sale_df[\"price_m2\"] = sale_df[\"purchasePrice\"] / sale_df[\"livingSpace\"]\n",
    "sale_df[\"link\"] = \"https://www.immobilienscout24.de/expose/\" + sale_df[\n",
    "    \"scoutId\"\n",
    "].astype(str)"
   ]
  },
  {
   "cell_type": "markdown",
   "metadata": {},
   "source": [
    "#### add median rents for zip and kreis"
   ]
  },
  {
   "cell_type": "code",
   "execution_count": null,
   "metadata": {},
   "outputs": [],
   "source": [
    "g = rent_df.groupby(\"zipCode\")[\"rent_m2\"].median()\n",
    "g.name = \"rent_m2_zip\"\n",
    "rent_df = rent_df.join(g, on=\"zipCode\").copy()\n",
    "\n",
    "g = rent_df.groupby(\"regio2\")[\"rent_m2\"].median()\n",
    "g.name = \"rent_m2_kreis\"\n",
    "rent_df = rent_df.join(g, on=\"regio2\").copy()"
   ]
  },
  {
   "cell_type": "markdown",
   "metadata": {},
   "source": [
    "#### add median prices for zip and kreis"
   ]
  },
  {
   "cell_type": "code",
   "execution_count": null,
   "metadata": {},
   "outputs": [],
   "source": [
    "g = sale_df.groupby(\"zipCode\")[\"price_m2\"].median()\n",
    "g.name = \"price_m2_zip\"\n",
    "sale_df = sale_df.join(g, on=\"zipCode\").copy()\n",
    "\n",
    "g = sale_df.groupby(\"regio2\")[\"price_m2\"].median()\n",
    "g.name = \"price_m2_kreis\"\n",
    "sale_df = sale_df.join(g, on=\"regio2\").copy()"
   ]
  },
  {
   "cell_type": "markdown",
   "metadata": {},
   "source": [
    "#### add return of investment based on median prices for zip"
   ]
  },
  {
   "cell_type": "code",
   "execution_count": null,
   "metadata": {},
   "outputs": [],
   "source": [
    "g = rent_df.groupby(\"zipCode\")[\"rent_m2\"].median()\n",
    "g.name = \"rent_m2_zip\"\n",
    "sale_df = sale_df.join(g, on=\"zipCode\").copy()\n",
    "\n",
    "sale_df[\"yearly_ROI\"] = sale_df[\"rent_m2_zip\"] * 12 / sale_df[\"price_m2\"]"
   ]
  },
  {
   "cell_type": "markdown",
   "metadata": {},
   "source": [
    "#### group median rents and prices into new dataframe:"
   ]
  },
  {
   "cell_type": "code",
   "execution_count": null,
   "metadata": {},
   "outputs": [],
   "source": [
    "group = \"zipCode\"\n",
    "min_count = 10\n",
    "\n",
    "rent_group = rent_df.groupby(group)\n",
    "rent_filt = rent_group[\"rent_m2\"].agg([\"median\", \"count\"])[\"count\"] >= min_count\n",
    "rent_group_df = rent_group[\"rent_m2\"].agg([\"median\", \"count\"])[rent_filt]\n",
    "\n",
    "sale_group = sale_df.groupby(group)\n",
    "sale_filt = sale_group[\"price_m2\"].agg([\"median\", \"count\"])[\"count\"] >= min_count\n",
    "sale_group_df = sale_group[\"price_m2\"].agg([\"median\", \"count\"])[sale_filt]\n",
    "\n",
    "combined_df = pd.concat(\n",
    "    [\n",
    "        rent_group_df[\"median\"],\n",
    "        rent_group_df[\"count\"],\n",
    "        sale_group_df[\"median\"],\n",
    "        sale_group_df[\"count\"],\n",
    "    ],\n",
    "    axis=1,\n",
    "    keys=[\"median_rent_m2\", \"rent_count\", \"median_price_m2\", \"sale_count\",],\n",
    ").copy()\n",
    "combined_df = combined_df.dropna()"
   ]
  },
  {
   "cell_type": "markdown",
   "metadata": {},
   "source": [
    "#### compute median return of investment ratios:"
   ]
  },
  {
   "cell_type": "code",
   "execution_count": null,
   "metadata": {},
   "outputs": [],
   "source": [
    "combined_feature = \"median_yearly_ROI\"\n",
    "combined_df[combined_feature] = (\n",
    "    combined_df[\"median_rent_m2\"] * 12 / (combined_df[\"median_price_m2\"])\n",
    ")"
   ]
  },
  {
   "cell_type": "markdown",
   "metadata": {},
   "source": [
    "#### select features:"
   ]
  },
  {
   "cell_type": "code",
   "execution_count": null,
   "metadata": {},
   "outputs": [],
   "source": [
    "rent_select_columns = [\n",
    "    \"rent_m2\",\n",
    "    \"rent_m2_zip\",\n",
    "    \"rent_m2_kreis\",\n",
    "    \"baseRent\",\n",
    "    \"livingSpace\",\n",
    "    \"noRooms\",\n",
    "    \"zipCode\",\n",
    "    \"regio2\",\n",
    "    \"link\",\n",
    "]\n",
    "rent_select_df = rent_df[rent_select_columns].copy()\n",
    "\n",
    "sale_select_columns = [\n",
    "    \"yearly_ROI\",\n",
    "    \"rent_m2_zip\",\n",
    "    \"price_m2\",\n",
    "    \"price_m2_zip\",\n",
    "    \"price_m2_kreis\",\n",
    "    \"purchasePrice\",\n",
    "    \"livingSpace\",\n",
    "    \"noRooms\",\n",
    "    \"zipCode\",\n",
    "    \"regio2\",\n",
    "    \"link\",\n",
    "]\n",
    "sale_select_df = sale_df[sale_select_columns].copy()"
   ]
  },
  {
   "cell_type": "markdown",
   "metadata": {},
   "source": [
    "## 3) Results"
   ]
  },
  {
   "cell_type": "code",
   "execution_count": null,
   "metadata": {},
   "outputs": [],
   "source": [
    "combined_df = combined_df.sort_values(\"median_yearly_ROI\", ascending=False)\n",
    "combined_df"
   ]
  },
  {
   "cell_type": "markdown",
   "metadata": {},
   "source": [
    "#### apartments for rent:"
   ]
  },
  {
   "cell_type": "code",
   "execution_count": null,
   "metadata": {},
   "outputs": [],
   "source": [
    "rent_filt_col = \"zipCode\"\n",
    "rent_filt_arg = 1069\n",
    "rent_filt_ord = \"rent_per_m2\"\n",
    "\n",
    "rent_filt = rent_select_df[rent_filt_col] == rent_filt_arg\n",
    "rent_select_df[rent_filt].sort_values(\"rent_m2\").head(20)"
   ]
  },
  {
   "cell_type": "markdown",
   "metadata": {},
   "source": [
    "#### apartments for sale:"
   ]
  },
  {
   "cell_type": "code",
   "execution_count": 15,
   "metadata": {},
   "outputs": [
    {
     "data": {
      "text/html": [
       "<div>\n",
       "<style scoped>\n",
       "    .dataframe tbody tr th:only-of-type {\n",
       "        vertical-align: middle;\n",
       "    }\n",
       "\n",
       "    .dataframe tbody tr th {\n",
       "        vertical-align: top;\n",
       "    }\n",
       "\n",
       "    .dataframe thead th {\n",
       "        text-align: right;\n",
       "    }\n",
       "</style>\n",
       "<table border=\"1\" class=\"dataframe\">\n",
       "  <thead>\n",
       "    <tr style=\"text-align: right;\">\n",
       "      <th></th>\n",
       "      <th>yearly_ROI</th>\n",
       "      <th>rent_m2_zip</th>\n",
       "      <th>price_m2</th>\n",
       "      <th>price_m2_zip</th>\n",
       "      <th>price_m2_kreis</th>\n",
       "      <th>purchasePrice</th>\n",
       "      <th>livingSpace</th>\n",
       "      <th>noRooms</th>\n",
       "      <th>zipCode</th>\n",
       "      <th>regio2</th>\n",
       "      <th>link</th>\n",
       "    </tr>\n",
       "  </thead>\n",
       "  <tbody>\n",
       "    <tr>\n",
       "      <th>19360</th>\n",
       "      <td>0.70</td>\n",
       "      <td>6.2</td>\n",
       "      <td>106.38</td>\n",
       "      <td>142.23</td>\n",
       "      <td>1264.26</td>\n",
       "      <td>10000.0</td>\n",
       "      <td>94.00</td>\n",
       "      <td>4.0</td>\n",
       "      <td>47169</td>\n",
       "      <td>Duisburg</td>\n",
       "      <td>https://www.immobilienscout24.de/expose/117056598</td>\n",
       "    </tr>\n",
       "    <tr>\n",
       "      <th>19358</th>\n",
       "      <td>0.70</td>\n",
       "      <td>6.2</td>\n",
       "      <td>106.38</td>\n",
       "      <td>142.23</td>\n",
       "      <td>1264.26</td>\n",
       "      <td>10000.0</td>\n",
       "      <td>94.00</td>\n",
       "      <td>4.0</td>\n",
       "      <td>47169</td>\n",
       "      <td>Duisburg</td>\n",
       "      <td>https://www.immobilienscout24.de/expose/117056597</td>\n",
       "    </tr>\n",
       "    <tr>\n",
       "      <th>19365</th>\n",
       "      <td>0.70</td>\n",
       "      <td>6.2</td>\n",
       "      <td>106.98</td>\n",
       "      <td>142.23</td>\n",
       "      <td>1264.26</td>\n",
       "      <td>4600.0</td>\n",
       "      <td>43.00</td>\n",
       "      <td>1.0</td>\n",
       "      <td>47169</td>\n",
       "      <td>Duisburg</td>\n",
       "      <td>https://www.immobilienscout24.de/expose/117056600</td>\n",
       "    </tr>\n",
       "    <tr>\n",
       "      <th>19374</th>\n",
       "      <td>0.69</td>\n",
       "      <td>6.2</td>\n",
       "      <td>107.87</td>\n",
       "      <td>142.23</td>\n",
       "      <td>1264.26</td>\n",
       "      <td>9600.0</td>\n",
       "      <td>89.00</td>\n",
       "      <td>4.0</td>\n",
       "      <td>47169</td>\n",
       "      <td>Duisburg</td>\n",
       "      <td>https://www.immobilienscout24.de/expose/117056589</td>\n",
       "    </tr>\n",
       "    <tr>\n",
       "      <th>19376</th>\n",
       "      <td>0.69</td>\n",
       "      <td>6.2</td>\n",
       "      <td>107.89</td>\n",
       "      <td>142.23</td>\n",
       "      <td>1264.26</td>\n",
       "      <td>4100.0</td>\n",
       "      <td>38.00</td>\n",
       "      <td>1.0</td>\n",
       "      <td>47169</td>\n",
       "      <td>Duisburg</td>\n",
       "      <td>https://www.immobilienscout24.de/expose/117056599</td>\n",
       "    </tr>\n",
       "    <tr>\n",
       "      <th>19375</th>\n",
       "      <td>0.65</td>\n",
       "      <td>6.2</td>\n",
       "      <td>115.24</td>\n",
       "      <td>142.23</td>\n",
       "      <td>1264.26</td>\n",
       "      <td>12100.0</td>\n",
       "      <td>105.00</td>\n",
       "      <td>5.0</td>\n",
       "      <td>47169</td>\n",
       "      <td>Duisburg</td>\n",
       "      <td>https://www.immobilienscout24.de/expose/117056590</td>\n",
       "    </tr>\n",
       "    <tr>\n",
       "      <th>19368</th>\n",
       "      <td>0.65</td>\n",
       "      <td>6.2</td>\n",
       "      <td>115.24</td>\n",
       "      <td>142.23</td>\n",
       "      <td>1264.26</td>\n",
       "      <td>12100.0</td>\n",
       "      <td>105.00</td>\n",
       "      <td>5.0</td>\n",
       "      <td>47169</td>\n",
       "      <td>Duisburg</td>\n",
       "      <td>https://www.immobilienscout24.de/expose/117056593</td>\n",
       "    </tr>\n",
       "    <tr>\n",
       "      <th>6202</th>\n",
       "      <td>0.52</td>\n",
       "      <td>6.2</td>\n",
       "      <td>142.06</td>\n",
       "      <td>142.23</td>\n",
       "      <td>1264.26</td>\n",
       "      <td>18100.0</td>\n",
       "      <td>127.41</td>\n",
       "      <td>5.0</td>\n",
       "      <td>47169</td>\n",
       "      <td>Duisburg</td>\n",
       "      <td>https://www.immobilienscout24.de/expose/117056344</td>\n",
       "    </tr>\n",
       "    <tr>\n",
       "      <th>6200</th>\n",
       "      <td>0.52</td>\n",
       "      <td>6.2</td>\n",
       "      <td>142.22</td>\n",
       "      <td>142.23</td>\n",
       "      <td>1264.26</td>\n",
       "      <td>7700.0</td>\n",
       "      <td>54.14</td>\n",
       "      <td>2.0</td>\n",
       "      <td>47169</td>\n",
       "      <td>Duisburg</td>\n",
       "      <td>https://www.immobilienscout24.de/expose/117056348</td>\n",
       "    </tr>\n",
       "    <tr>\n",
       "      <th>6203</th>\n",
       "      <td>0.52</td>\n",
       "      <td>6.2</td>\n",
       "      <td>142.23</td>\n",
       "      <td>142.23</td>\n",
       "      <td>1264.26</td>\n",
       "      <td>11400.0</td>\n",
       "      <td>80.15</td>\n",
       "      <td>5.0</td>\n",
       "      <td>47169</td>\n",
       "      <td>Duisburg</td>\n",
       "      <td>https://www.immobilienscout24.de/expose/117056350</td>\n",
       "    </tr>\n",
       "    <tr>\n",
       "      <th>6201</th>\n",
       "      <td>0.52</td>\n",
       "      <td>6.2</td>\n",
       "      <td>142.26</td>\n",
       "      <td>142.23</td>\n",
       "      <td>1264.26</td>\n",
       "      <td>12600.0</td>\n",
       "      <td>88.57</td>\n",
       "      <td>3.0</td>\n",
       "      <td>47169</td>\n",
       "      <td>Duisburg</td>\n",
       "      <td>https://www.immobilienscout24.de/expose/117056347</td>\n",
       "    </tr>\n",
       "    <tr>\n",
       "      <th>6209</th>\n",
       "      <td>0.52</td>\n",
       "      <td>6.2</td>\n",
       "      <td>142.54</td>\n",
       "      <td>142.23</td>\n",
       "      <td>1264.26</td>\n",
       "      <td>14700.0</td>\n",
       "      <td>103.13</td>\n",
       "      <td>4.0</td>\n",
       "      <td>47169</td>\n",
       "      <td>Duisburg</td>\n",
       "      <td>https://www.immobilienscout24.de/expose/117056346</td>\n",
       "    </tr>\n",
       "    <tr>\n",
       "      <th>6205</th>\n",
       "      <td>0.52</td>\n",
       "      <td>6.2</td>\n",
       "      <td>142.55</td>\n",
       "      <td>142.23</td>\n",
       "      <td>1264.26</td>\n",
       "      <td>10100.0</td>\n",
       "      <td>70.85</td>\n",
       "      <td>3.0</td>\n",
       "      <td>47169</td>\n",
       "      <td>Duisburg</td>\n",
       "      <td>https://www.immobilienscout24.de/expose/117056349</td>\n",
       "    </tr>\n",
       "    <tr>\n",
       "      <th>19387</th>\n",
       "      <td>0.35</td>\n",
       "      <td>6.2</td>\n",
       "      <td>213.98</td>\n",
       "      <td>142.23</td>\n",
       "      <td>1264.26</td>\n",
       "      <td>19900.0</td>\n",
       "      <td>93.00</td>\n",
       "      <td>4.0</td>\n",
       "      <td>47169</td>\n",
       "      <td>Duisburg</td>\n",
       "      <td>https://www.immobilienscout24.de/expose/117056594</td>\n",
       "    </tr>\n",
       "    <tr>\n",
       "      <th>27474</th>\n",
       "      <td>0.23</td>\n",
       "      <td>6.2</td>\n",
       "      <td>326.23</td>\n",
       "      <td>142.23</td>\n",
       "      <td>1264.26</td>\n",
       "      <td>19900.0</td>\n",
       "      <td>61.00</td>\n",
       "      <td>2.0</td>\n",
       "      <td>47169</td>\n",
       "      <td>Duisburg</td>\n",
       "      <td>https://www.immobilienscout24.de/expose/116052821</td>\n",
       "    </tr>\n",
       "    <tr>\n",
       "      <th>27482</th>\n",
       "      <td>0.23</td>\n",
       "      <td>6.2</td>\n",
       "      <td>326.23</td>\n",
       "      <td>142.23</td>\n",
       "      <td>1264.26</td>\n",
       "      <td>19900.0</td>\n",
       "      <td>61.00</td>\n",
       "      <td>2.0</td>\n",
       "      <td>47169</td>\n",
       "      <td>Duisburg</td>\n",
       "      <td>https://www.immobilienscout24.de/expose/116053299</td>\n",
       "    </tr>\n",
       "    <tr>\n",
       "      <th>8523</th>\n",
       "      <td>0.15</td>\n",
       "      <td>6.2</td>\n",
       "      <td>500.00</td>\n",
       "      <td>142.23</td>\n",
       "      <td>1264.26</td>\n",
       "      <td>29000.0</td>\n",
       "      <td>58.00</td>\n",
       "      <td>2.0</td>\n",
       "      <td>47169</td>\n",
       "      <td>Duisburg</td>\n",
       "      <td>https://www.immobilienscout24.de/expose/117150632</td>\n",
       "    </tr>\n",
       "    <tr>\n",
       "      <th>25192</th>\n",
       "      <td>0.10</td>\n",
       "      <td>6.2</td>\n",
       "      <td>719.70</td>\n",
       "      <td>142.23</td>\n",
       "      <td>1264.26</td>\n",
       "      <td>47500.0</td>\n",
       "      <td>66.00</td>\n",
       "      <td>3.5</td>\n",
       "      <td>47169</td>\n",
       "      <td>Duisburg</td>\n",
       "      <td>https://www.immobilienscout24.de/expose/116734037</td>\n",
       "    </tr>\n",
       "    <tr>\n",
       "      <th>26221</th>\n",
       "      <td>0.06</td>\n",
       "      <td>6.2</td>\n",
       "      <td>1157.89</td>\n",
       "      <td>142.23</td>\n",
       "      <td>1264.26</td>\n",
       "      <td>110000.0</td>\n",
       "      <td>95.00</td>\n",
       "      <td>5.0</td>\n",
       "      <td>47169</td>\n",
       "      <td>Duisburg</td>\n",
       "      <td>https://www.immobilienscout24.de/expose/116451277</td>\n",
       "    </tr>\n",
       "  </tbody>\n",
       "</table>\n",
       "</div>"
      ],
      "text/plain": [
       "       yearly_ROI  rent_m2_zip  price_m2  price_m2_zip  price_m2_kreis  \\\n",
       "19360        0.70          6.2    106.38        142.23         1264.26   \n",
       "19358        0.70          6.2    106.38        142.23         1264.26   \n",
       "19365        0.70          6.2    106.98        142.23         1264.26   \n",
       "19374        0.69          6.2    107.87        142.23         1264.26   \n",
       "19376        0.69          6.2    107.89        142.23         1264.26   \n",
       "19375        0.65          6.2    115.24        142.23         1264.26   \n",
       "19368        0.65          6.2    115.24        142.23         1264.26   \n",
       "6202         0.52          6.2    142.06        142.23         1264.26   \n",
       "6200         0.52          6.2    142.22        142.23         1264.26   \n",
       "6203         0.52          6.2    142.23        142.23         1264.26   \n",
       "6201         0.52          6.2    142.26        142.23         1264.26   \n",
       "6209         0.52          6.2    142.54        142.23         1264.26   \n",
       "6205         0.52          6.2    142.55        142.23         1264.26   \n",
       "19387        0.35          6.2    213.98        142.23         1264.26   \n",
       "27474        0.23          6.2    326.23        142.23         1264.26   \n",
       "27482        0.23          6.2    326.23        142.23         1264.26   \n",
       "8523         0.15          6.2    500.00        142.23         1264.26   \n",
       "25192        0.10          6.2    719.70        142.23         1264.26   \n",
       "26221        0.06          6.2   1157.89        142.23         1264.26   \n",
       "\n",
       "       purchasePrice  livingSpace  noRooms  zipCode    regio2  \\\n",
       "19360        10000.0        94.00      4.0    47169  Duisburg   \n",
       "19358        10000.0        94.00      4.0    47169  Duisburg   \n",
       "19365         4600.0        43.00      1.0    47169  Duisburg   \n",
       "19374         9600.0        89.00      4.0    47169  Duisburg   \n",
       "19376         4100.0        38.00      1.0    47169  Duisburg   \n",
       "19375        12100.0       105.00      5.0    47169  Duisburg   \n",
       "19368        12100.0       105.00      5.0    47169  Duisburg   \n",
       "6202         18100.0       127.41      5.0    47169  Duisburg   \n",
       "6200          7700.0        54.14      2.0    47169  Duisburg   \n",
       "6203         11400.0        80.15      5.0    47169  Duisburg   \n",
       "6201         12600.0        88.57      3.0    47169  Duisburg   \n",
       "6209         14700.0       103.13      4.0    47169  Duisburg   \n",
       "6205         10100.0        70.85      3.0    47169  Duisburg   \n",
       "19387        19900.0        93.00      4.0    47169  Duisburg   \n",
       "27474        19900.0        61.00      2.0    47169  Duisburg   \n",
       "27482        19900.0        61.00      2.0    47169  Duisburg   \n",
       "8523         29000.0        58.00      2.0    47169  Duisburg   \n",
       "25192        47500.0        66.00      3.5    47169  Duisburg   \n",
       "26221       110000.0        95.00      5.0    47169  Duisburg   \n",
       "\n",
       "                                                    link  \n",
       "19360  https://www.immobilienscout24.de/expose/117056598  \n",
       "19358  https://www.immobilienscout24.de/expose/117056597  \n",
       "19365  https://www.immobilienscout24.de/expose/117056600  \n",
       "19374  https://www.immobilienscout24.de/expose/117056589  \n",
       "19376  https://www.immobilienscout24.de/expose/117056599  \n",
       "19375  https://www.immobilienscout24.de/expose/117056590  \n",
       "19368  https://www.immobilienscout24.de/expose/117056593  \n",
       "6202   https://www.immobilienscout24.de/expose/117056344  \n",
       "6200   https://www.immobilienscout24.de/expose/117056348  \n",
       "6203   https://www.immobilienscout24.de/expose/117056350  \n",
       "6201   https://www.immobilienscout24.de/expose/117056347  \n",
       "6209   https://www.immobilienscout24.de/expose/117056346  \n",
       "6205   https://www.immobilienscout24.de/expose/117056349  \n",
       "19387  https://www.immobilienscout24.de/expose/117056594  \n",
       "27474  https://www.immobilienscout24.de/expose/116052821  \n",
       "27482  https://www.immobilienscout24.de/expose/116053299  \n",
       "8523   https://www.immobilienscout24.de/expose/117150632  \n",
       "25192  https://www.immobilienscout24.de/expose/116734037  \n",
       "26221  https://www.immobilienscout24.de/expose/116451277  "
      ]
     },
     "execution_count": 15,
     "metadata": {},
     "output_type": "execute_result"
    },
    {
     "data": {
      "application/javascript": [
       "\n",
       "            setTimeout(function() {\n",
       "                var nbb_cell_id = 15;\n",
       "                var nbb_unformatted_code = \"sale_filt_col = \\\"zipCode\\\"  # \\\"obj_zipCode\\\"\\nsale_filt_arg = 47169  # \\\"Duisburg\\\"\\nsale_filt_ord = \\\"yearly_ROI\\\"\\n\\nsale_filt = sale_select_df[sale_filt_col] == sale_filt_arg\\nsale_select_df[sale_filt].sort_values(\\\"yearly_ROI\\\", ascending=False).head(50)\";\n",
       "                var nbb_formatted_code = \"sale_filt_col = \\\"zipCode\\\"  # \\\"obj_zipCode\\\"\\nsale_filt_arg = 47169  # \\\"Duisburg\\\"\\nsale_filt_ord = \\\"yearly_ROI\\\"\\n\\nsale_filt = sale_select_df[sale_filt_col] == sale_filt_arg\\nsale_select_df[sale_filt].sort_values(\\\"yearly_ROI\\\", ascending=False).head(50)\";\n",
       "                var nbb_cells = Jupyter.notebook.get_cells();\n",
       "                for (var i = 0; i < nbb_cells.length; ++i) {\n",
       "                    if (nbb_cells[i].input_prompt_number == nbb_cell_id) {\n",
       "                        if (nbb_cells[i].get_text() == nbb_unformatted_code) {\n",
       "                             nbb_cells[i].set_text(nbb_formatted_code);\n",
       "                        }\n",
       "                        break;\n",
       "                    }\n",
       "                }\n",
       "            }, 500);\n",
       "            "
      ],
      "text/plain": [
       "<IPython.core.display.Javascript object>"
      ]
     },
     "metadata": {},
     "output_type": "display_data"
    }
   ],
   "source": [
    "sale_filt_col = \"zipCode\"  # \"obj_zipCode\"\n",
    "sale_filt_arg = 47169  # \"Duisburg\"\n",
    "sale_filt_ord = \"yearly_ROI\"\n",
    "\n",
    "sale_filt = sale_select_df[sale_filt_col] == sale_filt_arg\n",
    "sale_select_df[sale_filt].sort_values(\"yearly_ROI\", ascending=False).head(50)"
   ]
  },
  {
   "cell_type": "code",
   "execution_count": 16,
   "metadata": {},
   "outputs": [
    {
     "data": {
      "text/plain": [
       "timestamp                                             2020-04-13 03:58:40.571308\n",
       "regio1                                                       Nordrhein_Westfalen\n",
       "cId                                                                     10545277\n",
       "newlyConst                                                                     n\n",
       "balcony                                                                        n\n",
       "picturecount                                                                   4\n",
       "scoutId                                                                116053299\n",
       "hasKitchen                                                                     n\n",
       "bln                                                          Nordrhein_Westfalen\n",
       "cellar                                                                         y\n",
       "purchasePriceRange                                                             1\n",
       "houseNumber                                                                   18\n",
       "livingSpace                                                                   61\n",
       "krs                                                                     Duisburg\n",
       "zipCode                                                                    47169\n",
       "condition                                                     need_of_renovation\n",
       "interiorQual                                                              simple\n",
       "cd_cxp_historicallisting                                                   False\n",
       "parkingSpace                                                      no_information\n",
       "street                                                    Gillhausenstra&szlig;e\n",
       "lift                                                                           n\n",
       "streetPlain                                                     Gillhausenstraße\n",
       "typeOfFlat                                                             apartment\n",
       "plz                                                                        47169\n",
       "noRooms                                                                        2\n",
       "assistedLiving                                                                 n\n",
       "ityp                                                                    2,active\n",
       "land                                                                 Deutschland\n",
       "cd_via                                                                  standard\n",
       "immotype                                                            wohnung_kauf\n",
       "rented                                                                         y\n",
       "cwId                                                                001.10545277\n",
       "purchasePrice                                                              2e+04\n",
       "cd_application_requirements                                             profile0\n",
       "noRoomsRange                                                                   2\n",
       "cd_maillead_default_shown                                                   True\n",
       "garden                                                                         n\n",
       "barrierFree                                                                    n\n",
       "international                                                                  n\n",
       "regio3                                                                   Marxloh\n",
       "objectnumber                                                           202001061\n",
       "livingSpaceRange                                                               3\n",
       "regio2                                                                  Duisburg\n",
       "price_m2                                                                 3.3e+02\n",
       "link                           https://www.immobilienscout24.de/expose/116053299\n",
       "price_m2_zip                                                             1.4e+02\n",
       "price_m2_kreis                                                           1.3e+03\n",
       "rent_m2_zip                                                                  6.2\n",
       "yearly_ROI                                                                  0.23\n",
       "Name: 27482, dtype: object"
      ]
     },
     "execution_count": 16,
     "metadata": {},
     "output_type": "execute_result"
    },
    {
     "data": {
      "application/javascript": [
       "\n",
       "            setTimeout(function() {\n",
       "                var nbb_cell_id = 16;\n",
       "                var nbb_unformatted_code = \"sale_df.loc[27482]\";\n",
       "                var nbb_formatted_code = \"sale_df.loc[27482]\";\n",
       "                var nbb_cells = Jupyter.notebook.get_cells();\n",
       "                for (var i = 0; i < nbb_cells.length; ++i) {\n",
       "                    if (nbb_cells[i].input_prompt_number == nbb_cell_id) {\n",
       "                        if (nbb_cells[i].get_text() == nbb_unformatted_code) {\n",
       "                             nbb_cells[i].set_text(nbb_formatted_code);\n",
       "                        }\n",
       "                        break;\n",
       "                    }\n",
       "                }\n",
       "            }, 500);\n",
       "            "
      ],
      "text/plain": [
       "<IPython.core.display.Javascript object>"
      ]
     },
     "metadata": {},
     "output_type": "display_data"
    }
   ],
   "source": [
    "sale_df.loc[27482]"
   ]
  },
  {
   "cell_type": "code",
   "execution_count": 17,
   "metadata": {},
   "outputs": [
    {
     "data": {
      "text/plain": [
       "timestamp                                             2020-04-13 03:48:48.758580\n",
       "regio1                                                       Nordrhein_Westfalen\n",
       "cId                                                                     15375545\n",
       "newlyConst                                                                     n\n",
       "balcony                                                                        y\n",
       "picturecount                                                                   8\n",
       "scoutId                                                                116451277\n",
       "hasKitchen                                                                     n\n",
       "bln                                                          Nordrhein_Westfalen\n",
       "cellar                                                                         y\n",
       "purchasePriceRange                                                             3\n",
       "houseNumber                                                       no_information\n",
       "livingSpace                                                                   95\n",
       "krs                                                                     Duisburg\n",
       "zipCode                                                                    47169\n",
       "condition                                                         no_information\n",
       "interiorQual                                                              normal\n",
       "cd_cxp_historicallisting                                                   False\n",
       "parkingSpace                                                      no_information\n",
       "street                                                            no_information\n",
       "lift                                                                           n\n",
       "streetPlain                                                       no_information\n",
       "typeOfFlat                                                             apartment\n",
       "plz                                                                        47169\n",
       "noRooms                                                                        5\n",
       "assistedLiving                                                                 n\n",
       "ityp                                                                    2,active\n",
       "land                                                                 Deutschland\n",
       "cd_via                                                                  standard\n",
       "immotype                                                            wohnung_kauf\n",
       "rented                                                                         y\n",
       "cwId                                                             002.01000626281\n",
       "purchasePrice                                                            1.1e+05\n",
       "cd_application_requirements                                             profile0\n",
       "noRoomsRange                                                                   5\n",
       "cd_maillead_default_shown                                                   True\n",
       "garden                                                                         y\n",
       "barrierFree                                                                    n\n",
       "international                                                                  n\n",
       "regio3                                                                   Marxloh\n",
       "objectnumber                                                           116451277\n",
       "livingSpaceRange                                                               4\n",
       "regio2                                                                  Duisburg\n",
       "price_m2                                                                 1.2e+03\n",
       "link                           https://www.immobilienscout24.de/expose/116451277\n",
       "price_m2_zip                                                             1.4e+02\n",
       "price_m2_kreis                                                           1.3e+03\n",
       "rent_m2_zip                                                                  6.2\n",
       "yearly_ROI                                                                 0.064\n",
       "Name: 26221, dtype: object"
      ]
     },
     "execution_count": 17,
     "metadata": {},
     "output_type": "execute_result"
    },
    {
     "data": {
      "application/javascript": [
       "\n",
       "            setTimeout(function() {\n",
       "                var nbb_cell_id = 17;\n",
       "                var nbb_unformatted_code = \"sale_df.loc[26221]\";\n",
       "                var nbb_formatted_code = \"sale_df.loc[26221]\";\n",
       "                var nbb_cells = Jupyter.notebook.get_cells();\n",
       "                for (var i = 0; i < nbb_cells.length; ++i) {\n",
       "                    if (nbb_cells[i].input_prompt_number == nbb_cell_id) {\n",
       "                        if (nbb_cells[i].get_text() == nbb_unformatted_code) {\n",
       "                             nbb_cells[i].set_text(nbb_formatted_code);\n",
       "                        }\n",
       "                        break;\n",
       "                    }\n",
       "                }\n",
       "            }, 500);\n",
       "            "
      ],
      "text/plain": [
       "<IPython.core.display.Javascript object>"
      ]
     },
     "metadata": {},
     "output_type": "display_data"
    }
   ],
   "source": [
    "sale_df.loc[26221]"
   ]
  },
  {
   "cell_type": "code",
   "execution_count": null,
   "metadata": {},
   "outputs": [],
   "source": []
  }
 ],
 "metadata": {
  "file_extension": ".py",
  "kernelspec": {
   "display_name": "Python 3",
   "language": "python",
   "name": "python3"
  },
  "language_info": {
   "codemirror_mode": {
    "name": "ipython",
    "version": 3
   },
   "file_extension": ".py",
   "mimetype": "text/x-python",
   "name": "python",
   "nbconvert_exporter": "python",
   "pygments_lexer": "ipython3",
   "version": "3.8.2"
  },
  "mimetype": "text/x-python",
  "name": "python",
  "npconvert_exporter": "python",
  "pygments_lexer": "ipython3",
  "version": 3
 },
 "nbformat": 4,
 "nbformat_minor": 2
}
