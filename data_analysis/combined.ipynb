{
 "cells": [
  {
   "cell_type": "markdown",
   "metadata": {},
   "source": [
    "# Comparison of rent and sale prices"
   ]
  },
  {
   "cell_type": "code",
   "execution_count": 1,
   "metadata": {},
   "outputs": [
    {
     "data": {
      "application/javascript": [
       "\n",
       "            setTimeout(function() {\n",
       "                var nbb_cell_id = 1;\n",
       "                var nbb_unformatted_code = \"%load_ext nb_black\\n\\nfrom matplotlib import pyplot as plt\\n\\n%matplotlib inline\\nplt.rcParams[\\\"figure.figsize\\\"] = (15, 10)\\n\\nimport pandas as pd\\n\\npd.set_option(\\\"display.precision\\\", 4)\";\n",
       "                var nbb_formatted_code = \"%load_ext nb_black\\n\\nfrom matplotlib import pyplot as plt\\n\\n%matplotlib inline\\nplt.rcParams[\\\"figure.figsize\\\"] = (15, 10)\\n\\nimport pandas as pd\\n\\npd.set_option(\\\"display.precision\\\", 4)\";\n",
       "                var nbb_cells = Jupyter.notebook.get_cells();\n",
       "                for (var i = 0; i < nbb_cells.length; ++i) {\n",
       "                    if (nbb_cells[i].input_prompt_number == nbb_cell_id) {\n",
       "                        if (nbb_cells[i].get_text() == nbb_unformatted_code) {\n",
       "                             nbb_cells[i].set_text(nbb_formatted_code);\n",
       "                        }\n",
       "                        break;\n",
       "                    }\n",
       "                }\n",
       "            }, 500);\n",
       "            "
      ],
      "text/plain": [
       "<IPython.core.display.Javascript object>"
      ]
     },
     "metadata": {},
     "output_type": "display_data"
    }
   ],
   "source": [
    "%load_ext nb_black\n",
    "\n",
    "from matplotlib import pyplot as plt\n",
    "\n",
    "%matplotlib inline\n",
    "plt.rcParams[\"figure.figsize\"] = (15, 10)\n",
    "\n",
    "import pandas as pd\n",
    "\n",
    "pd.set_option(\"display.precision\", 4)"
   ]
  },
  {
   "cell_type": "markdown",
   "metadata": {},
   "source": [
    "## 1) Data cleaning"
   ]
  },
  {
   "cell_type": "code",
   "execution_count": 2,
   "metadata": {},
   "outputs": [
    {
     "data": {
      "application/javascript": [
       "\n",
       "            setTimeout(function() {\n",
       "                var nbb_cell_id = 2;\n",
       "                var nbb_unformatted_code = \"date = \\\"2020-04-10\\\"\\nrent_filepath = f\\\"../data/mieten{date}.csv\\\"\\nsale_filepath = f\\\"../data/kaufen{date}.csv\\\"\\nrent_df = pd.read_csv(rent_filepath, sep=\\\";\\\", low_memory=False)\\nsale_df = pd.read_csv(sale_filepath, sep=\\\";\\\", low_memory=False)\\npd.set_option(\\\"display.max_columns\\\", max(rent_df.shape[1], sale_df.shape[1]))\";\n",
       "                var nbb_formatted_code = \"date = \\\"2020-04-10\\\"\\nrent_filepath = f\\\"../data/mieten{date}.csv\\\"\\nsale_filepath = f\\\"../data/kaufen{date}.csv\\\"\\nrent_df = pd.read_csv(rent_filepath, sep=\\\";\\\", low_memory=False)\\nsale_df = pd.read_csv(sale_filepath, sep=\\\";\\\", low_memory=False)\\npd.set_option(\\\"display.max_columns\\\", max(rent_df.shape[1], sale_df.shape[1]))\";\n",
       "                var nbb_cells = Jupyter.notebook.get_cells();\n",
       "                for (var i = 0; i < nbb_cells.length; ++i) {\n",
       "                    if (nbb_cells[i].input_prompt_number == nbb_cell_id) {\n",
       "                        if (nbb_cells[i].get_text() == nbb_unformatted_code) {\n",
       "                             nbb_cells[i].set_text(nbb_formatted_code);\n",
       "                        }\n",
       "                        break;\n",
       "                    }\n",
       "                }\n",
       "            }, 500);\n",
       "            "
      ],
      "text/plain": [
       "<IPython.core.display.Javascript object>"
      ]
     },
     "metadata": {},
     "output_type": "display_data"
    }
   ],
   "source": [
    "date = \"2020-04-10\"\n",
    "rent_filepath = f\"../data/mieten{date}.csv\"\n",
    "sale_filepath = f\"../data/kaufen{date}.csv\"\n",
    "rent_df = pd.read_csv(rent_filepath, sep=\";\", low_memory=False)\n",
    "sale_df = pd.read_csv(sale_filepath, sep=\";\", low_memory=False)\n",
    "pd.set_option(\"display.max_columns\", max(rent_df.shape[1], sale_df.shape[1]))"
   ]
  },
  {
   "cell_type": "markdown",
   "metadata": {},
   "source": [
    "###### remove duplicates:"
   ]
  },
  {
   "cell_type": "code",
   "execution_count": 3,
   "metadata": {},
   "outputs": [
    {
     "data": {
      "application/javascript": [
       "\n",
       "            setTimeout(function() {\n",
       "                var nbb_cell_id = 3;\n",
       "                var nbb_unformatted_code = \"rent_df = rent_df.drop_duplicates(subset=\\\"obj_scoutId\\\")\\nsale_df = sale_df.drop_duplicates(subset=\\\"obj_scoutId\\\")\";\n",
       "                var nbb_formatted_code = \"rent_df = rent_df.drop_duplicates(subset=\\\"obj_scoutId\\\")\\nsale_df = sale_df.drop_duplicates(subset=\\\"obj_scoutId\\\")\";\n",
       "                var nbb_cells = Jupyter.notebook.get_cells();\n",
       "                for (var i = 0; i < nbb_cells.length; ++i) {\n",
       "                    if (nbb_cells[i].input_prompt_number == nbb_cell_id) {\n",
       "                        if (nbb_cells[i].get_text() == nbb_unformatted_code) {\n",
       "                             nbb_cells[i].set_text(nbb_formatted_code);\n",
       "                        }\n",
       "                        break;\n",
       "                    }\n",
       "                }\n",
       "            }, 500);\n",
       "            "
      ],
      "text/plain": [
       "<IPython.core.display.Javascript object>"
      ]
     },
     "metadata": {},
     "output_type": "display_data"
    }
   ],
   "source": [
    "rent_df = rent_df.drop_duplicates(subset=\"obj_scoutId\")\n",
    "sale_df = sale_df.drop_duplicates(subset=\"obj_scoutId\")"
   ]
  },
  {
   "cell_type": "markdown",
   "metadata": {},
   "source": [
    "###### remove columns with missing values:"
   ]
  },
  {
   "cell_type": "code",
   "execution_count": 4,
   "metadata": {},
   "outputs": [
    {
     "data": {
      "application/javascript": [
       "\n",
       "            setTimeout(function() {\n",
       "                var nbb_cell_id = 4;\n",
       "                var nbb_unformatted_code = \"rent_df = rent_df[rent_df.columns[~rent_df.isnull().any()]]\\nsale_df = sale_df[sale_df.columns[~sale_df.isnull().any()]]\";\n",
       "                var nbb_formatted_code = \"rent_df = rent_df[rent_df.columns[~rent_df.isnull().any()]]\\nsale_df = sale_df[sale_df.columns[~sale_df.isnull().any()]]\";\n",
       "                var nbb_cells = Jupyter.notebook.get_cells();\n",
       "                for (var i = 0; i < nbb_cells.length; ++i) {\n",
       "                    if (nbb_cells[i].input_prompt_number == nbb_cell_id) {\n",
       "                        if (nbb_cells[i].get_text() == nbb_unformatted_code) {\n",
       "                             nbb_cells[i].set_text(nbb_formatted_code);\n",
       "                        }\n",
       "                        break;\n",
       "                    }\n",
       "                }\n",
       "            }, 500);\n",
       "            "
      ],
      "text/plain": [
       "<IPython.core.display.Javascript object>"
      ]
     },
     "metadata": {},
     "output_type": "display_data"
    }
   ],
   "source": [
    "rent_df = rent_df[rent_df.columns[~rent_df.isnull().any()]]\n",
    "sale_df = sale_df[sale_df.columns[~sale_df.isnull().any()]]"
   ]
  },
  {
   "cell_type": "markdown",
   "metadata": {},
   "source": [
    "## 2) Feature engineering"
   ]
  },
  {
   "cell_type": "markdown",
   "metadata": {},
   "source": [
    "###### add features:"
   ]
  },
  {
   "cell_type": "code",
   "execution_count": 35,
   "metadata": {
    "scrolled": true
   },
   "outputs": [
    {
     "data": {
      "application/javascript": [
       "\n",
       "            setTimeout(function() {\n",
       "                var nbb_cell_id = 35;\n",
       "                var nbb_unformatted_code = \"rent_df[\\\"rent_per_m2\\\"] = rent_df[\\\"obj_baseRent\\\"] / rent_df[\\\"obj_livingSpace\\\"]\\n\\nrent_df[\\\"links\\\"] = \\\"https://www.immobilienscout24.de/expose/\\\" + rent_df[\\\"obj_scoutId\\\"].astype(str)\\n\\nsale_df[\\\"salesprice_per_m2\\\"] = sale_df[\\\"obj_purchasePrice\\\"] / sale_df[\\\"obj_livingSpace\\\"]\\n\\nsale_df[\\\"links\\\"] = \\\"https://www.immobilienscout24.de/expose/\\\" + sale_df[\\\"obj_scoutId\\\"].astype(str)\";\n",
       "                var nbb_formatted_code = \"rent_df[\\\"rent_per_m2\\\"] = rent_df[\\\"obj_baseRent\\\"] / rent_df[\\\"obj_livingSpace\\\"]\\n\\nrent_df[\\\"links\\\"] = \\\"https://www.immobilienscout24.de/expose/\\\" + rent_df[\\n    \\\"obj_scoutId\\\"\\n].astype(str)\\n\\nsale_df[\\\"salesprice_per_m2\\\"] = sale_df[\\\"obj_purchasePrice\\\"] / sale_df[\\\"obj_livingSpace\\\"]\\n\\nsale_df[\\\"links\\\"] = \\\"https://www.immobilienscout24.de/expose/\\\" + sale_df[\\n    \\\"obj_scoutId\\\"\\n].astype(str)\";\n",
       "                var nbb_cells = Jupyter.notebook.get_cells();\n",
       "                for (var i = 0; i < nbb_cells.length; ++i) {\n",
       "                    if (nbb_cells[i].input_prompt_number == nbb_cell_id) {\n",
       "                        if (nbb_cells[i].get_text() == nbb_unformatted_code) {\n",
       "                             nbb_cells[i].set_text(nbb_formatted_code);\n",
       "                        }\n",
       "                        break;\n",
       "                    }\n",
       "                }\n",
       "            }, 500);\n",
       "            "
      ],
      "text/plain": [
       "<IPython.core.display.Javascript object>"
      ]
     },
     "metadata": {},
     "output_type": "display_data"
    }
   ],
   "source": [
    "rent_df[\"rent_per_m2\"] = rent_df[\"obj_baseRent\"] / rent_df[\"obj_livingSpace\"]\n",
    "\n",
    "rent_df[\"links\"] = \"https://www.immobilienscout24.de/expose/\" + rent_df[\n",
    "    \"obj_scoutId\"\n",
    "].astype(str)\n",
    "\n",
    "sale_df[\"salesprice_per_m2\"] = sale_df[\"obj_purchasePrice\"] / sale_df[\"obj_livingSpace\"]\n",
    "\n",
    "sale_df[\"links\"] = \"https://www.immobilienscout24.de/expose/\" + sale_df[\n",
    "    \"obj_scoutId\"\n",
    "].astype(str)"
   ]
  },
  {
   "cell_type": "markdown",
   "metadata": {},
   "source": [
    "###### select features:"
   ]
  },
  {
   "cell_type": "code",
   "execution_count": 5,
   "metadata": {},
   "outputs": [
    {
     "data": {
      "application/javascript": [
       "\n",
       "            setTimeout(function() {\n",
       "                var nbb_cell_id = 5;\n",
       "                var nbb_unformatted_code = \"rent_select_columns = [\\n    \\\"obj_scoutId\\\",\\n    \\\"obj_baseRent\\\",\\n    \\\"obj_livingSpace\\\",\\n    \\\"obj_noRooms\\\",\\n    \\\"obj_zipCode\\\",\\n    \\\"obj_regio1\\\",\\n    \\\"obj_regio2\\\",\\n    \\\"obj_regio3\\\",\\n]\\nrent_select_df = rent_df[rent_select_columns].copy()\\n\\nsale_select_columns = [\\n    \\\"obj_scoutId\\\",\\n    \\\"obj_purchasePrice\\\",\\n    \\\"obj_livingSpace\\\",\\n    \\\"obj_noRooms\\\",\\n    \\\"obj_zipCode\\\",\\n    \\\"obj_regio1\\\",\\n    \\\"obj_regio2\\\",\\n    \\\"obj_regio3\\\",\\n]\\nsale_select_df = sale_df[sale_select_columns].copy()\";\n",
       "                var nbb_formatted_code = \"rent_select_columns = [\\n    \\\"obj_scoutId\\\",\\n    \\\"obj_baseRent\\\",\\n    \\\"obj_livingSpace\\\",\\n    \\\"obj_noRooms\\\",\\n    \\\"obj_zipCode\\\",\\n    \\\"obj_regio1\\\",\\n    \\\"obj_regio2\\\",\\n    \\\"obj_regio3\\\",\\n]\\nrent_select_df = rent_df[rent_select_columns].copy()\\n\\nsale_select_columns = [\\n    \\\"obj_scoutId\\\",\\n    \\\"obj_purchasePrice\\\",\\n    \\\"obj_livingSpace\\\",\\n    \\\"obj_noRooms\\\",\\n    \\\"obj_zipCode\\\",\\n    \\\"obj_regio1\\\",\\n    \\\"obj_regio2\\\",\\n    \\\"obj_regio3\\\",\\n]\\nsale_select_df = sale_df[sale_select_columns].copy()\";\n",
       "                var nbb_cells = Jupyter.notebook.get_cells();\n",
       "                for (var i = 0; i < nbb_cells.length; ++i) {\n",
       "                    if (nbb_cells[i].input_prompt_number == nbb_cell_id) {\n",
       "                        if (nbb_cells[i].get_text() == nbb_unformatted_code) {\n",
       "                             nbb_cells[i].set_text(nbb_formatted_code);\n",
       "                        }\n",
       "                        break;\n",
       "                    }\n",
       "                }\n",
       "            }, 500);\n",
       "            "
      ],
      "text/plain": [
       "<IPython.core.display.Javascript object>"
      ]
     },
     "metadata": {},
     "output_type": "display_data"
    }
   ],
   "source": [
    "rent_select_columns = [\n",
    "    \"links\",\n",
    "    \"obj_baseRent\",\n",
    "    \"obj_livingSpace\",\n",
    "    \"obj_noRooms\",\n",
    "    \"obj_zipCode\",\n",
    "    \"obj_regio1\",\n",
    "    \"obj_regio2\",\n",
    "    \"obj_regio3\",\n",
    "]\n",
    "rent_select_df = rent_df[rent_select_columns].copy()\n",
    "\n",
    "sale_select_columns = [\n",
    "    \"links\",\n",
    "    \"obj_purchasePrice\",\n",
    "    \"obj_livingSpace\",\n",
    "    \"obj_noRooms\",\n",
    "    \"obj_zipCode\",\n",
    "    \"obj_regio1\",\n",
    "    \"obj_regio2\",\n",
    "    \"obj_regio3\",\n",
    "]\n",
    "sale_select_df = sale_df[sale_select_columns].copy()"
   ]
  },
  {
   "cell_type": "markdown",
   "metadata": {},
   "source": [
    "###### group and combine rent and sale into new dataframe"
   ]
  },
  {
   "cell_type": "code",
   "execution_count": 25,
   "metadata": {},
   "outputs": [
    {
     "data": {
      "application/javascript": [
       "\n",
       "            setTimeout(function() {\n",
       "                var nbb_cell_id = 25;\n",
       "                var nbb_unformatted_code = \"group = \\\"obj_regio3\\\"\\nmin_count = 3\\naggregate = \\\"median\\\"\\nrent_feature = \\\"rent_per_m2\\\"\\nsale_feature = \\\"salesprice_per_m2\\\"\\n\\nrent_group = rent_select_df.groupby(group)\\nrent_filt = rent_group[rent_feature].agg([aggregate, \\\"count\\\"])[\\\"count\\\"] >= min_count\\nrent_group_df = rent_group[rent_feature].agg([aggregate, \\\"count\\\"])[rent_filt]\\n\\nsale_group = sale_select_df.groupby(group)\\nsale_filt = sale_group[sale_feature].agg([aggregate, \\\"count\\\"])[\\\"count\\\"] >= min_count\\nsale_group_df = sale_group[sale_feature].agg([aggregate, \\\"count\\\"])[sale_filt]\\n\\ncombined_df = pd.concat(\\n    [\\n        rent_group_df[aggregate],\\n        rent_group_df[\\\"count\\\"],\\n        sale_group_df[aggregate],\\n        sale_group_df[\\\"count\\\"],\\n    ],\\n    axis=1,\\n    keys=[rent_feature, \\\"rent_count\\\", sale_feature, \\\"sale_count\\\",],\\n).copy()\";\n",
       "                var nbb_formatted_code = \"group = \\\"obj_regio3\\\"\\nmin_count = 3\\naggregate = \\\"median\\\"\\nrent_feature = \\\"rent_per_m2\\\"\\nsale_feature = \\\"salesprice_per_m2\\\"\\n\\nrent_group = rent_select_df.groupby(group)\\nrent_filt = rent_group[rent_feature].agg([aggregate, \\\"count\\\"])[\\\"count\\\"] >= min_count\\nrent_group_df = rent_group[rent_feature].agg([aggregate, \\\"count\\\"])[rent_filt]\\n\\nsale_group = sale_select_df.groupby(group)\\nsale_filt = sale_group[sale_feature].agg([aggregate, \\\"count\\\"])[\\\"count\\\"] >= min_count\\nsale_group_df = sale_group[sale_feature].agg([aggregate, \\\"count\\\"])[sale_filt]\\n\\ncombined_df = pd.concat(\\n    [\\n        rent_group_df[aggregate],\\n        rent_group_df[\\\"count\\\"],\\n        sale_group_df[aggregate],\\n        sale_group_df[\\\"count\\\"],\\n    ],\\n    axis=1,\\n    keys=[rent_feature, \\\"rent_count\\\", sale_feature, \\\"sale_count\\\",],\\n).copy()\";\n",
       "                var nbb_cells = Jupyter.notebook.get_cells();\n",
       "                for (var i = 0; i < nbb_cells.length; ++i) {\n",
       "                    if (nbb_cells[i].input_prompt_number == nbb_cell_id) {\n",
       "                        if (nbb_cells[i].get_text() == nbb_unformatted_code) {\n",
       "                             nbb_cells[i].set_text(nbb_formatted_code);\n",
       "                        }\n",
       "                        break;\n",
       "                    }\n",
       "                }\n",
       "            }, 500);\n",
       "            "
      ],
      "text/plain": [
       "<IPython.core.display.Javascript object>"
      ]
     },
     "metadata": {},
     "output_type": "display_data"
    }
   ],
   "source": [
    "group = \"obj_regio3\"\n",
    "min_count = 3\n",
    "aggregate = \"median\"\n",
    "rent_feature = \"rent_per_m2\"\n",
    "sale_feature = \"salesprice_per_m2\"\n",
    "\n",
    "rent_group = rent_select_df.groupby(group)\n",
    "rent_filt = rent_group[rent_feature].agg([aggregate, \"count\"])[\"count\"] >= min_count\n",
    "rent_group_df = rent_group[rent_feature].agg([aggregate, \"count\"])[rent_filt]\n",
    "\n",
    "sale_group = sale_select_df.groupby(group)\n",
    "sale_filt = sale_group[sale_feature].agg([aggregate, \"count\"])[\"count\"] >= min_count\n",
    "sale_group_df = sale_group[sale_feature].agg([aggregate, \"count\"])[sale_filt]\n",
    "\n",
    "combined_df = pd.concat(\n",
    "    [\n",
    "        rent_group_df[aggregate],\n",
    "        rent_group_df[\"count\"],\n",
    "        sale_group_df[aggregate],\n",
    "        sale_group_df[\"count\"],\n",
    "    ],\n",
    "    axis=1,\n",
    "    keys=[rent_feature, \"rent_count\", sale_feature, \"sale_count\",],\n",
    ").copy()"
   ]
  },
  {
   "cell_type": "markdown",
   "metadata": {},
   "source": [
    "###### remove rows with missing values:"
   ]
  },
  {
   "cell_type": "code",
   "execution_count": 26,
   "metadata": {},
   "outputs": [
    {
     "data": {
      "application/javascript": [
       "\n",
       "            setTimeout(function() {\n",
       "                var nbb_cell_id = 26;\n",
       "                var nbb_unformatted_code = \"combined_df = combined_df.dropna()\";\n",
       "                var nbb_formatted_code = \"combined_df = combined_df.dropna()\";\n",
       "                var nbb_cells = Jupyter.notebook.get_cells();\n",
       "                for (var i = 0; i < nbb_cells.length; ++i) {\n",
       "                    if (nbb_cells[i].input_prompt_number == nbb_cell_id) {\n",
       "                        if (nbb_cells[i].get_text() == nbb_unformatted_code) {\n",
       "                             nbb_cells[i].set_text(nbb_formatted_code);\n",
       "                        }\n",
       "                        break;\n",
       "                    }\n",
       "                }\n",
       "            }, 500);\n",
       "            "
      ],
      "text/plain": [
       "<IPython.core.display.Javascript object>"
      ]
     },
     "metadata": {},
     "output_type": "display_data"
    }
   ],
   "source": [
    "combined_df = combined_df.dropna()"
   ]
  },
  {
   "cell_type": "markdown",
   "metadata": {},
   "source": [
    "###### yearly rent to salesprice ratios:"
   ]
  },
  {
   "cell_type": "code",
   "execution_count": 27,
   "metadata": {},
   "outputs": [
    {
     "data": {
      "application/javascript": [
       "\n",
       "            setTimeout(function() {\n",
       "                var nbb_cell_id = 27;\n",
       "                var nbb_unformatted_code = \"combined_feature = \\\"yearly_ROI\\\"\\ncombined_df[combined_feature] = (\\n    combined_df[rent_feature] * 12 / (combined_df[sale_feature])\\n)\\ncombined_feature = \\\"salesprice_in_rents\\\"\\ncombined_df[combined_feature] = combined_df[sale_feature] / (\\n    combined_df[rent_feature] * 12\\n)\";\n",
       "                var nbb_formatted_code = \"combined_feature = \\\"yearly_ROI\\\"\\ncombined_df[combined_feature] = (\\n    combined_df[rent_feature] * 12 / (combined_df[sale_feature])\\n)\\ncombined_feature = \\\"salesprice_in_rents\\\"\\ncombined_df[combined_feature] = combined_df[sale_feature] / (\\n    combined_df[rent_feature] * 12\\n)\";\n",
       "                var nbb_cells = Jupyter.notebook.get_cells();\n",
       "                for (var i = 0; i < nbb_cells.length; ++i) {\n",
       "                    if (nbb_cells[i].input_prompt_number == nbb_cell_id) {\n",
       "                        if (nbb_cells[i].get_text() == nbb_unformatted_code) {\n",
       "                             nbb_cells[i].set_text(nbb_formatted_code);\n",
       "                        }\n",
       "                        break;\n",
       "                    }\n",
       "                }\n",
       "            }, 500);\n",
       "            "
      ],
      "text/plain": [
       "<IPython.core.display.Javascript object>"
      ]
     },
     "metadata": {},
     "output_type": "display_data"
    }
   ],
   "source": [
    "combined_feature = \"yearly_ROI\"\n",
    "combined_df[combined_feature] = (\n",
    "    combined_df[rent_feature] * 12 / (combined_df[sale_feature])\n",
    ")\n",
    "combined_feature = \"salesprice_in_rents\"\n",
    "combined_df[combined_feature] = combined_df[sale_feature] / (\n",
    "    combined_df[rent_feature] * 12\n",
    ")"
   ]
  },
  {
   "cell_type": "markdown",
   "metadata": {},
   "source": [
    "## 3) Results"
   ]
  },
  {
   "cell_type": "code",
   "execution_count": 28,
   "metadata": {},
   "outputs": [
    {
     "data": {
      "text/html": [
       "<div>\n",
       "<style scoped>\n",
       "    .dataframe tbody tr th:only-of-type {\n",
       "        vertical-align: middle;\n",
       "    }\n",
       "\n",
       "    .dataframe tbody tr th {\n",
       "        vertical-align: top;\n",
       "    }\n",
       "\n",
       "    .dataframe thead th {\n",
       "        text-align: right;\n",
       "    }\n",
       "</style>\n",
       "<table border=\"1\" class=\"dataframe\">\n",
       "  <thead>\n",
       "    <tr style=\"text-align: right;\">\n",
       "      <th></th>\n",
       "      <th>rent_per_m2</th>\n",
       "      <th>rent_count</th>\n",
       "      <th>salesprice_per_m2</th>\n",
       "      <th>sale_count</th>\n",
       "      <th>yearly_ROI</th>\n",
       "      <th>salesprice_in_rents</th>\n",
       "    </tr>\n",
       "  </thead>\n",
       "  <tbody>\n",
       "    <tr>\n",
       "      <th>Gößnitz</th>\n",
       "      <td>4.5446</td>\n",
       "      <td>10.0</td>\n",
       "      <td>25.3984</td>\n",
       "      <td>8.0</td>\n",
       "      <td>2.1472</td>\n",
       "      <td>0.4657</td>\n",
       "    </tr>\n",
       "    <tr>\n",
       "      <th>Marxloh</th>\n",
       "      <td>6.0000</td>\n",
       "      <td>43.0</td>\n",
       "      <td>142.2239</td>\n",
       "      <td>17.0</td>\n",
       "      <td>0.5062</td>\n",
       "      <td>1.9753</td>\n",
       "    </tr>\n",
       "    <tr>\n",
       "      <th>Greiz</th>\n",
       "      <td>4.9606</td>\n",
       "      <td>50.0</td>\n",
       "      <td>155.3672</td>\n",
       "      <td>3.0</td>\n",
       "      <td>0.3831</td>\n",
       "      <td>2.6100</td>\n",
       "    </tr>\n",
       "    <tr>\n",
       "      <th>Dürrröhrsdorf_Dittersbach</th>\n",
       "      <td>5.1154</td>\n",
       "      <td>5.0</td>\n",
       "      <td>296.1347</td>\n",
       "      <td>3.0</td>\n",
       "      <td>0.2073</td>\n",
       "      <td>4.8242</td>\n",
       "    </tr>\n",
       "    <tr>\n",
       "      <th>Frohburg</th>\n",
       "      <td>5.4879</td>\n",
       "      <td>9.0</td>\n",
       "      <td>320.7834</td>\n",
       "      <td>3.0</td>\n",
       "      <td>0.2053</td>\n",
       "      <td>4.8710</td>\n",
       "    </tr>\n",
       "    <tr>\n",
       "      <th>...</th>\n",
       "      <td>...</td>\n",
       "      <td>...</td>\n",
       "      <td>...</td>\n",
       "      <td>...</td>\n",
       "      <td>...</td>\n",
       "      <td>...</td>\n",
       "    </tr>\n",
       "    <tr>\n",
       "      <th>Nordhorn</th>\n",
       "      <td>6.7950</td>\n",
       "      <td>8.0</td>\n",
       "      <td>1654.1540</td>\n",
       "      <td>4.0</td>\n",
       "      <td>0.0493</td>\n",
       "      <td>20.2863</td>\n",
       "    </tr>\n",
       "    <tr>\n",
       "      <th>Bad_Liebenzell</th>\n",
       "      <td>9.3684</td>\n",
       "      <td>5.0</td>\n",
       "      <td>2281.1739</td>\n",
       "      <td>4.0</td>\n",
       "      <td>0.0493</td>\n",
       "      <td>20.2913</td>\n",
       "    </tr>\n",
       "    <tr>\n",
       "      <th>Finthen</th>\n",
       "      <td>12.3159</td>\n",
       "      <td>12.0</td>\n",
       "      <td>3000.0000</td>\n",
       "      <td>9.0</td>\n",
       "      <td>0.0493</td>\n",
       "      <td>20.2989</td>\n",
       "    </tr>\n",
       "    <tr>\n",
       "      <th>Schinkel</th>\n",
       "      <td>8.0000</td>\n",
       "      <td>9.0</td>\n",
       "      <td>1948.9479</td>\n",
       "      <td>6.0</td>\n",
       "      <td>0.0493</td>\n",
       "      <td>20.3015</td>\n",
       "    </tr>\n",
       "    <tr>\n",
       "      <th>Uetersen</th>\n",
       "      <td>8.0370</td>\n",
       "      <td>21.0</td>\n",
       "      <td>1958.5898</td>\n",
       "      <td>9.0</td>\n",
       "      <td>0.0492</td>\n",
       "      <td>20.3080</td>\n",
       "    </tr>\n",
       "  </tbody>\n",
       "</table>\n",
       "<p>500 rows × 6 columns</p>\n",
       "</div>"
      ],
      "text/plain": [
       "                           rent_per_m2  rent_count  salesprice_per_m2  \\\n",
       "Gößnitz                         4.5446        10.0            25.3984   \n",
       "Marxloh                         6.0000        43.0           142.2239   \n",
       "Greiz                           4.9606        50.0           155.3672   \n",
       "Dürrröhrsdorf_Dittersbach       5.1154         5.0           296.1347   \n",
       "Frohburg                        5.4879         9.0           320.7834   \n",
       "...                                ...         ...                ...   \n",
       "Nordhorn                        6.7950         8.0          1654.1540   \n",
       "Bad_Liebenzell                  9.3684         5.0          2281.1739   \n",
       "Finthen                        12.3159        12.0          3000.0000   \n",
       "Schinkel                        8.0000         9.0          1948.9479   \n",
       "Uetersen                        8.0370        21.0          1958.5898   \n",
       "\n",
       "                           sale_count  yearly_ROI  salesprice_in_rents  \n",
       "Gößnitz                           8.0      2.1472               0.4657  \n",
       "Marxloh                          17.0      0.5062               1.9753  \n",
       "Greiz                             3.0      0.3831               2.6100  \n",
       "Dürrröhrsdorf_Dittersbach         3.0      0.2073               4.8242  \n",
       "Frohburg                          3.0      0.2053               4.8710  \n",
       "...                               ...         ...                  ...  \n",
       "Nordhorn                          4.0      0.0493              20.2863  \n",
       "Bad_Liebenzell                    4.0      0.0493              20.2913  \n",
       "Finthen                           9.0      0.0493              20.2989  \n",
       "Schinkel                          6.0      0.0493              20.3015  \n",
       "Uetersen                          9.0      0.0492              20.3080  \n",
       "\n",
       "[500 rows x 6 columns]"
      ]
     },
     "execution_count": 28,
     "metadata": {},
     "output_type": "execute_result"
    },
    {
     "data": {
      "application/javascript": [
       "\n",
       "            setTimeout(function() {\n",
       "                var nbb_cell_id = 28;\n",
       "                var nbb_unformatted_code = \"combined_df = combined_df.sort_values(\\\"yearly_ROI\\\", ascending=False)\\ncombined_df.head(500)\";\n",
       "                var nbb_formatted_code = \"combined_df = combined_df.sort_values(\\\"yearly_ROI\\\", ascending=False)\\ncombined_df.head(500)\";\n",
       "                var nbb_cells = Jupyter.notebook.get_cells();\n",
       "                for (var i = 0; i < nbb_cells.length; ++i) {\n",
       "                    if (nbb_cells[i].input_prompt_number == nbb_cell_id) {\n",
       "                        if (nbb_cells[i].get_text() == nbb_unformatted_code) {\n",
       "                             nbb_cells[i].set_text(nbb_formatted_code);\n",
       "                        }\n",
       "                        break;\n",
       "                    }\n",
       "                }\n",
       "            }, 500);\n",
       "            "
      ],
      "text/plain": [
       "<IPython.core.display.Javascript object>"
      ]
     },
     "metadata": {},
     "output_type": "display_data"
    }
   ],
   "source": [
    "combined_df = combined_df.sort_values(\"yearly_ROI\", ascending=False)\n",
    "combined_df.head(500)"
   ]
  },
  {
   "cell_type": "code",
   "execution_count": 33,
   "metadata": {},
   "outputs": [
    {
     "data": {
      "text/html": [
       "<div>\n",
       "<style scoped>\n",
       "    .dataframe tbody tr th:only-of-type {\n",
       "        vertical-align: middle;\n",
       "    }\n",
       "\n",
       "    .dataframe tbody tr th {\n",
       "        vertical-align: top;\n",
       "    }\n",
       "\n",
       "    .dataframe thead th {\n",
       "        text-align: right;\n",
       "    }\n",
       "</style>\n",
       "<table border=\"1\" class=\"dataframe\">\n",
       "  <thead>\n",
       "    <tr style=\"text-align: right;\">\n",
       "      <th></th>\n",
       "      <th>obj_scoutId</th>\n",
       "      <th>obj_baseRent</th>\n",
       "      <th>obj_livingSpace</th>\n",
       "      <th>obj_noRooms</th>\n",
       "      <th>obj_zipCode</th>\n",
       "      <th>obj_regio1</th>\n",
       "      <th>obj_regio2</th>\n",
       "      <th>obj_regio3</th>\n",
       "      <th>rent_per_m2</th>\n",
       "    </tr>\n",
       "  </thead>\n",
       "  <tbody>\n",
       "    <tr>\n",
       "      <th>22609</th>\n",
       "      <td>117067170</td>\n",
       "      <td>865.0</td>\n",
       "      <td>63.85</td>\n",
       "      <td>2.0</td>\n",
       "      <td>72074</td>\n",
       "      <td>Baden_Württemberg</td>\n",
       "      <td>Tübingen_Kreis</td>\n",
       "      <td>Tübingen</td>\n",
       "      <td>13.5474</td>\n",
       "    </tr>\n",
       "    <tr>\n",
       "      <th>27573</th>\n",
       "      <td>94758279</td>\n",
       "      <td>475.0</td>\n",
       "      <td>30.50</td>\n",
       "      <td>1.5</td>\n",
       "      <td>72074</td>\n",
       "      <td>Baden_Württemberg</td>\n",
       "      <td>Tübingen_Kreis</td>\n",
       "      <td>Tübingen</td>\n",
       "      <td>15.5738</td>\n",
       "    </tr>\n",
       "    <tr>\n",
       "      <th>34325</th>\n",
       "      <td>117139032</td>\n",
       "      <td>900.0</td>\n",
       "      <td>72.00</td>\n",
       "      <td>2.0</td>\n",
       "      <td>72074</td>\n",
       "      <td>Baden_Württemberg</td>\n",
       "      <td>Tübingen_Kreis</td>\n",
       "      <td>Tübingen</td>\n",
       "      <td>12.5000</td>\n",
       "    </tr>\n",
       "    <tr>\n",
       "      <th>40930</th>\n",
       "      <td>117015876</td>\n",
       "      <td>400.0</td>\n",
       "      <td>21.00</td>\n",
       "      <td>1.0</td>\n",
       "      <td>72074</td>\n",
       "      <td>Baden_Württemberg</td>\n",
       "      <td>Tübingen_Kreis</td>\n",
       "      <td>Tübingen</td>\n",
       "      <td>19.0476</td>\n",
       "    </tr>\n",
       "    <tr>\n",
       "      <th>55948</th>\n",
       "      <td>116358365</td>\n",
       "      <td>350.0</td>\n",
       "      <td>11.00</td>\n",
       "      <td>1.0</td>\n",
       "      <td>72074</td>\n",
       "      <td>Baden_Württemberg</td>\n",
       "      <td>Tübingen_Kreis</td>\n",
       "      <td>Tübingen</td>\n",
       "      <td>31.8182</td>\n",
       "    </tr>\n",
       "    <tr>\n",
       "      <th>58453</th>\n",
       "      <td>116058550</td>\n",
       "      <td>470.0</td>\n",
       "      <td>22.76</td>\n",
       "      <td>1.0</td>\n",
       "      <td>72074</td>\n",
       "      <td>Baden_Württemberg</td>\n",
       "      <td>Tübingen_Kreis</td>\n",
       "      <td>Tübingen</td>\n",
       "      <td>20.6503</td>\n",
       "    </tr>\n",
       "    <tr>\n",
       "      <th>81669</th>\n",
       "      <td>104538924</td>\n",
       "      <td>300.0</td>\n",
       "      <td>19.00</td>\n",
       "      <td>1.0</td>\n",
       "      <td>72074</td>\n",
       "      <td>Baden_Württemberg</td>\n",
       "      <td>Tübingen_Kreis</td>\n",
       "      <td>Tübingen</td>\n",
       "      <td>15.7895</td>\n",
       "    </tr>\n",
       "    <tr>\n",
       "      <th>85029</th>\n",
       "      <td>90113522</td>\n",
       "      <td>620.0</td>\n",
       "      <td>45.00</td>\n",
       "      <td>2.0</td>\n",
       "      <td>72074</td>\n",
       "      <td>Baden_Württemberg</td>\n",
       "      <td>Tübingen_Kreis</td>\n",
       "      <td>Tübingen</td>\n",
       "      <td>13.7778</td>\n",
       "    </tr>\n",
       "  </tbody>\n",
       "</table>\n",
       "</div>"
      ],
      "text/plain": [
       "       obj_scoutId  obj_baseRent  obj_livingSpace  obj_noRooms  obj_zipCode  \\\n",
       "22609    117067170         865.0            63.85          2.0        72074   \n",
       "27573     94758279         475.0            30.50          1.5        72074   \n",
       "34325    117139032         900.0            72.00          2.0        72074   \n",
       "40930    117015876         400.0            21.00          1.0        72074   \n",
       "55948    116358365         350.0            11.00          1.0        72074   \n",
       "58453    116058550         470.0            22.76          1.0        72074   \n",
       "81669    104538924         300.0            19.00          1.0        72074   \n",
       "85029     90113522         620.0            45.00          2.0        72074   \n",
       "\n",
       "              obj_regio1      obj_regio2 obj_regio3  rent_per_m2  \n",
       "22609  Baden_Württemberg  Tübingen_Kreis   Tübingen      13.5474  \n",
       "27573  Baden_Württemberg  Tübingen_Kreis   Tübingen      15.5738  \n",
       "34325  Baden_Württemberg  Tübingen_Kreis   Tübingen      12.5000  \n",
       "40930  Baden_Württemberg  Tübingen_Kreis   Tübingen      19.0476  \n",
       "55948  Baden_Württemberg  Tübingen_Kreis   Tübingen      31.8182  \n",
       "58453  Baden_Württemberg  Tübingen_Kreis   Tübingen      20.6503  \n",
       "81669  Baden_Württemberg  Tübingen_Kreis   Tübingen      15.7895  \n",
       "85029  Baden_Württemberg  Tübingen_Kreis   Tübingen      13.7778  "
      ]
     },
     "execution_count": 33,
     "metadata": {},
     "output_type": "execute_result"
    },
    {
     "data": {
      "application/javascript": [
       "\n",
       "            setTimeout(function() {\n",
       "                var nbb_cell_id = 33;\n",
       "                var nbb_unformatted_code = \"rent_filt_col = \\\"obj_zipCode\\\"\\nrent_filt_arg = 72074\\n\\nrent_filt = (rent_select_df[rent_filt_col] == rent_filt_arg)\\nrent_select_df[rent_filt]\";\n",
       "                var nbb_formatted_code = \"rent_filt_col = \\\"obj_zipCode\\\"\\nrent_filt_arg = 72074\\n\\nrent_filt = rent_select_df[rent_filt_col] == rent_filt_arg\\nrent_select_df[rent_filt]\";\n",
       "                var nbb_cells = Jupyter.notebook.get_cells();\n",
       "                for (var i = 0; i < nbb_cells.length; ++i) {\n",
       "                    if (nbb_cells[i].input_prompt_number == nbb_cell_id) {\n",
       "                        if (nbb_cells[i].get_text() == nbb_unformatted_code) {\n",
       "                             nbb_cells[i].set_text(nbb_formatted_code);\n",
       "                        }\n",
       "                        break;\n",
       "                    }\n",
       "                }\n",
       "            }, 500);\n",
       "            "
      ],
      "text/plain": [
       "<IPython.core.display.Javascript object>"
      ]
     },
     "metadata": {},
     "output_type": "display_data"
    }
   ],
   "source": [
    "rent_filt_col = \"obj_zipCode\"\n",
    "rent_filt_arg = 72074\n",
    "\n",
    "rent_filt = rent_select_df[rent_filt_col] == rent_filt_arg\n",
    "rent_select_df[rent_filt]"
   ]
  },
  {
   "cell_type": "code",
   "execution_count": null,
   "metadata": {},
   "outputs": [],
   "source": []
  }
 ],
 "metadata": {
  "file_extension": ".py",
  "kernelspec": {
   "display_name": "Python 3.7.4 64-bit ('code-XMyLcZ05': virtualenv)",
   "language": "python",
   "name": "python37464bitcodexmylcz05virtualenv1c92419505f543d4ab1a2d5f6eb10a13"
  },
  "language_info": {
   "codemirror_mode": {
    "name": "ipython",
    "version": 3
   },
   "file_extension": ".py",
   "mimetype": "text/x-python",
   "name": "python",
   "nbconvert_exporter": "python",
   "pygments_lexer": "ipython3",
   "version": "3.7.4"
  },
  "mimetype": "text/x-python",
  "name": "python",
  "npconvert_exporter": "python",
  "pygments_lexer": "ipython3",
  "version": 3
 },
 "nbformat": 4,
 "nbformat_minor": 2
}
