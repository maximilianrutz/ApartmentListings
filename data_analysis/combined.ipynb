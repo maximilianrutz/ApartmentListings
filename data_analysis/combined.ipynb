{
 "cells": [
  {
   "cell_type": "markdown",
   "metadata": {},
   "source": [
    "# Comparison of rent and sale prices"
   ]
  },
  {
   "cell_type": "markdown",
   "metadata": {},
   "source": [
    "## 0) Imports"
   ]
  },
  {
   "cell_type": "code",
   "execution_count": 1,
   "metadata": {},
   "outputs": [
    {
     "data": {
      "application/javascript": [
       "\n",
       "            setTimeout(function() {\n",
       "                var nbb_cell_id = 1;\n",
       "                var nbb_unformatted_code = \"import numpy as np\\nfrom matplotlib import pyplot as plt\\nimport pandas as pd\\nfrom sklearn.cluster import KMeans\\nimport glob\\n\\n%load_ext nb_black\\n%matplotlib inline\\n\\nplt.rcParams[\\\"figure.figsize\\\"] = (15, 10)\\npd.set_option(\\\"display.precision\\\", 2)\";\n",
       "                var nbb_formatted_code = \"import numpy as np\\nfrom matplotlib import pyplot as plt\\nimport pandas as pd\\nfrom sklearn.cluster import KMeans\\nimport glob\\n\\n%load_ext nb_black\\n%matplotlib inline\\n\\nplt.rcParams[\\\"figure.figsize\\\"] = (15, 10)\\npd.set_option(\\\"display.precision\\\", 2)\";\n",
       "                var nbb_cells = Jupyter.notebook.get_cells();\n",
       "                for (var i = 0; i < nbb_cells.length; ++i) {\n",
       "                    if (nbb_cells[i].input_prompt_number == nbb_cell_id) {\n",
       "                        if (nbb_cells[i].get_text() == nbb_unformatted_code) {\n",
       "                             nbb_cells[i].set_text(nbb_formatted_code);\n",
       "                        }\n",
       "                        break;\n",
       "                    }\n",
       "                }\n",
       "            }, 500);\n",
       "            "
      ],
      "text/plain": [
       "<IPython.core.display.Javascript object>"
      ]
     },
     "metadata": {},
     "output_type": "display_data"
    }
   ],
   "source": [
    "import numpy as np\n",
    "from matplotlib import pyplot as plt\n",
    "import pandas as pd\n",
    "from sklearn.cluster import KMeans\n",
    "import glob\n",
    "\n",
    "%load_ext nb_black\n",
    "%matplotlib inline\n",
    "\n",
    "plt.rcParams[\"figure.figsize\"] = (15, 10)\n",
    "pd.set_option(\"display.precision\", 2)"
   ]
  },
  {
   "cell_type": "markdown",
   "metadata": {},
   "source": [
    "## 1) Data Engineering"
   ]
  },
  {
   "cell_type": "markdown",
   "metadata": {},
   "source": [
    "### 1.0) Data cleaning"
   ]
  },
  {
   "cell_type": "markdown",
   "metadata": {},
   "source": [
    "#### load data:"
   ]
  },
  {
   "cell_type": "code",
   "execution_count": 2,
   "metadata": {},
   "outputs": [
    {
     "data": {
      "application/javascript": [
       "\n",
       "            setTimeout(function() {\n",
       "                var nbb_cell_id = 2;\n",
       "                var nbb_unformatted_code = \"rent_filepath = sorted(glob.glob(\\\"../data/mieten*\\\"))[-1]\\nsale_filepath = sorted(glob.glob(\\\"../data/kaufen*\\\"))[-1]\\nrent_df = pd.read_csv(rent_filepath, sep=\\\";\\\", low_memory=False)\\nsale_df = pd.read_csv(sale_filepath, sep=\\\";\\\", low_memory=False)\";\n",
       "                var nbb_formatted_code = \"rent_filepath = sorted(glob.glob(\\\"../data/mieten*\\\"))[-1]\\nsale_filepath = sorted(glob.glob(\\\"../data/kaufen*\\\"))[-1]\\nrent_df = pd.read_csv(rent_filepath, sep=\\\";\\\", low_memory=False)\\nsale_df = pd.read_csv(sale_filepath, sep=\\\";\\\", low_memory=False)\";\n",
       "                var nbb_cells = Jupyter.notebook.get_cells();\n",
       "                for (var i = 0; i < nbb_cells.length; ++i) {\n",
       "                    if (nbb_cells[i].input_prompt_number == nbb_cell_id) {\n",
       "                        if (nbb_cells[i].get_text() == nbb_unformatted_code) {\n",
       "                             nbb_cells[i].set_text(nbb_formatted_code);\n",
       "                        }\n",
       "                        break;\n",
       "                    }\n",
       "                }\n",
       "            }, 500);\n",
       "            "
      ],
      "text/plain": [
       "<IPython.core.display.Javascript object>"
      ]
     },
     "metadata": {},
     "output_type": "display_data"
    }
   ],
   "source": [
    "rent_filepath = sorted(glob.glob(\"../data/mieten*\"))[-1]\n",
    "sale_filepath = sorted(glob.glob(\"../data/kaufen*\"))[-1]\n",
    "rent_df = pd.read_csv(rent_filepath, sep=\";\", low_memory=False)\n",
    "sale_df = pd.read_csv(sale_filepath, sep=\";\", low_memory=False)"
   ]
  },
  {
   "cell_type": "markdown",
   "metadata": {},
   "source": [
    "#### remove unnecessary prefixes:"
   ]
  },
  {
   "cell_type": "code",
   "execution_count": 3,
   "metadata": {},
   "outputs": [
    {
     "data": {
      "application/javascript": [
       "\n",
       "            setTimeout(function() {\n",
       "                var nbb_cell_id = 3;\n",
       "                var nbb_unformatted_code = \"rent_df.columns = [\\n    x.replace(\\\"obj_\\\", \\\"\\\").replace(\\\"ga_\\\", \\\"\\\").replace(\\\"geo_\\\", \\\"\\\")\\n    for x in rent_df.columns\\n]\\nsale_df.columns = [\\n    x.replace(\\\"obj_\\\", \\\"\\\").replace(\\\"ga_\\\", \\\"\\\").replace(\\\"geo_\\\", \\\"\\\")\\n    for x in sale_df.columns\\n]\";\n",
       "                var nbb_formatted_code = \"rent_df.columns = [\\n    x.replace(\\\"obj_\\\", \\\"\\\").replace(\\\"ga_\\\", \\\"\\\").replace(\\\"geo_\\\", \\\"\\\")\\n    for x in rent_df.columns\\n]\\nsale_df.columns = [\\n    x.replace(\\\"obj_\\\", \\\"\\\").replace(\\\"ga_\\\", \\\"\\\").replace(\\\"geo_\\\", \\\"\\\")\\n    for x in sale_df.columns\\n]\";\n",
       "                var nbb_cells = Jupyter.notebook.get_cells();\n",
       "                for (var i = 0; i < nbb_cells.length; ++i) {\n",
       "                    if (nbb_cells[i].input_prompt_number == nbb_cell_id) {\n",
       "                        if (nbb_cells[i].get_text() == nbb_unformatted_code) {\n",
       "                             nbb_cells[i].set_text(nbb_formatted_code);\n",
       "                        }\n",
       "                        break;\n",
       "                    }\n",
       "                }\n",
       "            }, 500);\n",
       "            "
      ],
      "text/plain": [
       "<IPython.core.display.Javascript object>"
      ]
     },
     "metadata": {},
     "output_type": "display_data"
    }
   ],
   "source": [
    "rent_df.columns = [\n",
    "    x.replace(\"obj_\", \"\").replace(\"ga_\", \"\").replace(\"geo_\", \"\")\n",
    "    for x in rent_df.columns\n",
    "]\n",
    "sale_df.columns = [\n",
    "    x.replace(\"obj_\", \"\").replace(\"ga_\", \"\").replace(\"geo_\", \"\")\n",
    "    for x in sale_df.columns\n",
    "]"
   ]
  },
  {
   "cell_type": "markdown",
   "metadata": {},
   "source": [
    "#### remove duplicates:"
   ]
  },
  {
   "cell_type": "code",
   "execution_count": 4,
   "metadata": {},
   "outputs": [
    {
     "data": {
      "application/javascript": [
       "\n",
       "            setTimeout(function() {\n",
       "                var nbb_cell_id = 4;\n",
       "                var nbb_unformatted_code = \"rent_df = rent_df.drop_duplicates(subset=\\\"scoutId\\\")\\nsale_df = sale_df.drop_duplicates(subset=\\\"scoutId\\\")\";\n",
       "                var nbb_formatted_code = \"rent_df = rent_df.drop_duplicates(subset=\\\"scoutId\\\")\\nsale_df = sale_df.drop_duplicates(subset=\\\"scoutId\\\")\";\n",
       "                var nbb_cells = Jupyter.notebook.get_cells();\n",
       "                for (var i = 0; i < nbb_cells.length; ++i) {\n",
       "                    if (nbb_cells[i].input_prompt_number == nbb_cell_id) {\n",
       "                        if (nbb_cells[i].get_text() == nbb_unformatted_code) {\n",
       "                             nbb_cells[i].set_text(nbb_formatted_code);\n",
       "                        }\n",
       "                        break;\n",
       "                    }\n",
       "                }\n",
       "            }, 500);\n",
       "            "
      ],
      "text/plain": [
       "<IPython.core.display.Javascript object>"
      ]
     },
     "metadata": {},
     "output_type": "display_data"
    }
   ],
   "source": [
    "rent_df = rent_df.drop_duplicates(subset=\"scoutId\")\n",
    "sale_df = sale_df.drop_duplicates(subset=\"scoutId\")"
   ]
  },
  {
   "cell_type": "markdown",
   "metadata": {},
   "source": [
    "#### remove columns with missing values:"
   ]
  },
  {
   "cell_type": "code",
   "execution_count": 5,
   "metadata": {},
   "outputs": [
    {
     "data": {
      "application/javascript": [
       "\n",
       "            setTimeout(function() {\n",
       "                var nbb_cell_id = 5;\n",
       "                var nbb_unformatted_code = \"rent_df = rent_df[rent_df.columns[~rent_df.isnull().any()]]\\nsale_df = sale_df[sale_df.columns[~sale_df.isnull().any()]]\";\n",
       "                var nbb_formatted_code = \"rent_df = rent_df[rent_df.columns[~rent_df.isnull().any()]]\\nsale_df = sale_df[sale_df.columns[~sale_df.isnull().any()]]\";\n",
       "                var nbb_cells = Jupyter.notebook.get_cells();\n",
       "                for (var i = 0; i < nbb_cells.length; ++i) {\n",
       "                    if (nbb_cells[i].input_prompt_number == nbb_cell_id) {\n",
       "                        if (nbb_cells[i].get_text() == nbb_unformatted_code) {\n",
       "                             nbb_cells[i].set_text(nbb_formatted_code);\n",
       "                        }\n",
       "                        break;\n",
       "                    }\n",
       "                }\n",
       "            }, 500);\n",
       "            "
      ],
      "text/plain": [
       "<IPython.core.display.Javascript object>"
      ]
     },
     "metadata": {},
     "output_type": "display_data"
    }
   ],
   "source": [
    "rent_df = rent_df[rent_df.columns[~rent_df.isnull().any()]]\n",
    "sale_df = sale_df[sale_df.columns[~sale_df.isnull().any()]]"
   ]
  },
  {
   "cell_type": "markdown",
   "metadata": {},
   "source": [
    "### 1.1) Feature engineering"
   ]
  },
  {
   "cell_type": "markdown",
   "metadata": {},
   "source": [
    "#### add links:"
   ]
  },
  {
   "cell_type": "code",
   "execution_count": 6,
   "metadata": {},
   "outputs": [
    {
     "data": {
      "application/javascript": [
       "\n",
       "            setTimeout(function() {\n",
       "                var nbb_cell_id = 6;\n",
       "                var nbb_unformatted_code = \"rent_df[\\\"link\\\"] = \\\"https://www.immobilienscout24.de/expose/\\\" + rent_df[\\n    \\\"scoutId\\\"\\n].astype(str)\\nsale_df[\\\"link\\\"] = \\\"https://www.immobilienscout24.de/expose/\\\" + sale_df[\\n    \\\"scoutId\\\"\\n].astype(str)\";\n",
       "                var nbb_formatted_code = \"rent_df[\\\"link\\\"] = \\\"https://www.immobilienscout24.de/expose/\\\" + rent_df[\\n    \\\"scoutId\\\"\\n].astype(str)\\nsale_df[\\\"link\\\"] = \\\"https://www.immobilienscout24.de/expose/\\\" + sale_df[\\n    \\\"scoutId\\\"\\n].astype(str)\";\n",
       "                var nbb_cells = Jupyter.notebook.get_cells();\n",
       "                for (var i = 0; i < nbb_cells.length; ++i) {\n",
       "                    if (nbb_cells[i].input_prompt_number == nbb_cell_id) {\n",
       "                        if (nbb_cells[i].get_text() == nbb_unformatted_code) {\n",
       "                             nbb_cells[i].set_text(nbb_formatted_code);\n",
       "                        }\n",
       "                        break;\n",
       "                    }\n",
       "                }\n",
       "            }, 500);\n",
       "            "
      ],
      "text/plain": [
       "<IPython.core.display.Javascript object>"
      ]
     },
     "metadata": {},
     "output_type": "display_data"
    }
   ],
   "source": [
    "rent_df[\"link\"] = \"https://www.immobilienscout24.de/expose/\" + rent_df[\n",
    "    \"scoutId\"\n",
    "].astype(str)\n",
    "sale_df[\"link\"] = \"https://www.immobilienscout24.de/expose/\" + sale_df[\n",
    "    \"scoutId\"\n",
    "].astype(str)"
   ]
  },
  {
   "cell_type": "markdown",
   "metadata": {},
   "source": [
    "#### add relative prices:"
   ]
  },
  {
   "cell_type": "code",
   "execution_count": 7,
   "metadata": {
    "scrolled": true
   },
   "outputs": [
    {
     "data": {
      "application/javascript": [
       "\n",
       "            setTimeout(function() {\n",
       "                var nbb_cell_id = 7;\n",
       "                var nbb_unformatted_code = \"rent_df[\\\"rent_m2\\\"] = rent_df[\\\"baseRent\\\"] / rent_df[\\\"livingSpace\\\"]\\nsale_df[\\\"price_m2\\\"] = sale_df[\\\"purchasePrice\\\"] / sale_df[\\\"livingSpace\\\"]\";\n",
       "                var nbb_formatted_code = \"rent_df[\\\"rent_m2\\\"] = rent_df[\\\"baseRent\\\"] / rent_df[\\\"livingSpace\\\"]\\nsale_df[\\\"price_m2\\\"] = sale_df[\\\"purchasePrice\\\"] / sale_df[\\\"livingSpace\\\"]\";\n",
       "                var nbb_cells = Jupyter.notebook.get_cells();\n",
       "                for (var i = 0; i < nbb_cells.length; ++i) {\n",
       "                    if (nbb_cells[i].input_prompt_number == nbb_cell_id) {\n",
       "                        if (nbb_cells[i].get_text() == nbb_unformatted_code) {\n",
       "                             nbb_cells[i].set_text(nbb_formatted_code);\n",
       "                        }\n",
       "                        break;\n",
       "                    }\n",
       "                }\n",
       "            }, 500);\n",
       "            "
      ],
      "text/plain": [
       "<IPython.core.display.Javascript object>"
      ]
     },
     "metadata": {},
     "output_type": "display_data"
    }
   ],
   "source": [
    "rent_df[\"rent_m2\"] = rent_df[\"baseRent\"] / rent_df[\"livingSpace\"]\n",
    "sale_df[\"price_m2\"] = sale_df[\"purchasePrice\"] / sale_df[\"livingSpace\"]"
   ]
  },
  {
   "cell_type": "markdown",
   "metadata": {},
   "source": [
    "#### add return of investment based on median rents for zipCode"
   ]
  },
  {
   "cell_type": "code",
   "execution_count": 8,
   "metadata": {},
   "outputs": [
    {
     "data": {
      "application/javascript": [
       "\n",
       "            setTimeout(function() {\n",
       "                var nbb_cell_id = 8;\n",
       "                var nbb_unformatted_code = \"g = rent_df.groupby(\\\"zipCode\\\")[\\\"rent_m2\\\"].median()\\ng.name = \\\"rent_m2_zipCode\\\"\\nsale_df = sale_df.join(g, on=\\\"zipCode\\\").copy()\\n\\nsale_df[\\\"yearly_ROI\\\"] = sale_df[\\\"rent_m2_zipCode\\\"] * 12 / sale_df[\\\"price_m2\\\"]\";\n",
       "                var nbb_formatted_code = \"g = rent_df.groupby(\\\"zipCode\\\")[\\\"rent_m2\\\"].median()\\ng.name = \\\"rent_m2_zipCode\\\"\\nsale_df = sale_df.join(g, on=\\\"zipCode\\\").copy()\\n\\nsale_df[\\\"yearly_ROI\\\"] = sale_df[\\\"rent_m2_zipCode\\\"] * 12 / sale_df[\\\"price_m2\\\"]\";\n",
       "                var nbb_cells = Jupyter.notebook.get_cells();\n",
       "                for (var i = 0; i < nbb_cells.length; ++i) {\n",
       "                    if (nbb_cells[i].input_prompt_number == nbb_cell_id) {\n",
       "                        if (nbb_cells[i].get_text() == nbb_unformatted_code) {\n",
       "                             nbb_cells[i].set_text(nbb_formatted_code);\n",
       "                        }\n",
       "                        break;\n",
       "                    }\n",
       "                }\n",
       "            }, 500);\n",
       "            "
      ],
      "text/plain": [
       "<IPython.core.display.Javascript object>"
      ]
     },
     "metadata": {},
     "output_type": "display_data"
    }
   ],
   "source": [
    "g = rent_df.groupby(\"zipCode\")[\"rent_m2\"].median()\n",
    "g.name = \"rent_m2_zipCode\"\n",
    "sale_df = sale_df.join(g, on=\"zipCode\").copy()\n",
    "\n",
    "sale_df[\"yearly_ROI\"] = sale_df[\"rent_m2_zipCode\"] * 12 / sale_df[\"price_m2\"]"
   ]
  },
  {
   "cell_type": "markdown",
   "metadata": {},
   "source": [
    "#### add combined dataframe with median rents and prices:"
   ]
  },
  {
   "cell_type": "code",
   "execution_count": 9,
   "metadata": {},
   "outputs": [
    {
     "data": {
      "application/javascript": [
       "\n",
       "            setTimeout(function() {\n",
       "                var nbb_cell_id = 9;\n",
       "                var nbb_unformatted_code = \"group = \\\"zipCode\\\"\\n\\ncombined_df = pd.concat(\\n    [\\n        rent_df.groupby(group)[\\\"rent_m2\\\"].median(),\\n        rent_df.groupby(group)[\\\"rent_m2\\\"].size(),\\n        sale_df.groupby(group)[\\\"price_m2\\\"].median(),\\n        sale_df.groupby(group)[\\\"price_m2\\\"].size(),\\n        sale_df.groupby(group)[\\\"yearly_ROI\\\"].median(),\\n    ],\\n    axis=1,\\n    keys=[\\n        \\\"median_rent_m2\\\",\\n        \\\"num_rent\\\",\\n        \\\"median_price_m2\\\",\\n        \\\"num_sale\\\",\\n        \\\"median_yearly_ROI\\\",\\n    ],\\n).copy()\\n\\ncombined_df = combined_df.replace([np.inf, -np.inf], np.nan)\\ncombined_df = combined_df.dropna()\";\n",
       "                var nbb_formatted_code = \"group = \\\"zipCode\\\"\\n\\ncombined_df = pd.concat(\\n    [\\n        rent_df.groupby(group)[\\\"rent_m2\\\"].median(),\\n        rent_df.groupby(group)[\\\"rent_m2\\\"].size(),\\n        sale_df.groupby(group)[\\\"price_m2\\\"].median(),\\n        sale_df.groupby(group)[\\\"price_m2\\\"].size(),\\n        sale_df.groupby(group)[\\\"yearly_ROI\\\"].median(),\\n    ],\\n    axis=1,\\n    keys=[\\n        \\\"median_rent_m2\\\",\\n        \\\"num_rent\\\",\\n        \\\"median_price_m2\\\",\\n        \\\"num_sale\\\",\\n        \\\"median_yearly_ROI\\\",\\n    ],\\n).copy()\\n\\ncombined_df = combined_df.replace([np.inf, -np.inf], np.nan)\\ncombined_df = combined_df.dropna()\";\n",
       "                var nbb_cells = Jupyter.notebook.get_cells();\n",
       "                for (var i = 0; i < nbb_cells.length; ++i) {\n",
       "                    if (nbb_cells[i].input_prompt_number == nbb_cell_id) {\n",
       "                        if (nbb_cells[i].get_text() == nbb_unformatted_code) {\n",
       "                             nbb_cells[i].set_text(nbb_formatted_code);\n",
       "                        }\n",
       "                        break;\n",
       "                    }\n",
       "                }\n",
       "            }, 500);\n",
       "            "
      ],
      "text/plain": [
       "<IPython.core.display.Javascript object>"
      ]
     },
     "metadata": {},
     "output_type": "display_data"
    }
   ],
   "source": [
    "group = \"zipCode\"\n",
    "\n",
    "combined_df = pd.concat(\n",
    "    [\n",
    "        rent_df.groupby(group)[\"rent_m2\"].median(),\n",
    "        rent_df.groupby(group)[\"rent_m2\"].size(),\n",
    "        sale_df.groupby(group)[\"price_m2\"].median(),\n",
    "        sale_df.groupby(group)[\"price_m2\"].size(),\n",
    "        sale_df.groupby(group)[\"yearly_ROI\"].median(),\n",
    "    ],\n",
    "    axis=1,\n",
    "    keys=[\n",
    "        \"median_rent_m2\",\n",
    "        \"num_rent\",\n",
    "        \"median_price_m2\",\n",
    "        \"num_sale\",\n",
    "        \"median_yearly_ROI\",\n",
    "    ],\n",
    ").copy()\n",
    "\n",
    "combined_df = combined_df.replace([np.inf, -np.inf], np.nan)\n",
    "combined_df = combined_df.dropna()"
   ]
  },
  {
   "cell_type": "markdown",
   "metadata": {},
   "source": [
    "#### select features:"
   ]
  },
  {
   "cell_type": "code",
   "execution_count": 10,
   "metadata": {},
   "outputs": [
    {
     "data": {
      "application/javascript": [
       "\n",
       "            setTimeout(function() {\n",
       "                var nbb_cell_id = 10;\n",
       "                var nbb_unformatted_code = \"rent_select_columns = [\\n    \\\"rent_m2\\\",\\n    \\\"baseRent\\\",\\n    \\\"livingSpace\\\",\\n    \\\"noRooms\\\",\\n    \\\"zipCode\\\",\\n    \\\"regio2\\\",\\n    \\\"link\\\",\\n]\\nrent_select_df = rent_df[rent_select_columns].copy()\\n\\nsale_select_columns = [\\n    \\\"yearly_ROI\\\",\\n    \\\"price_m2\\\",\\n    \\\"purchasePrice\\\",\\n    \\\"livingSpace\\\",\\n    \\\"noRooms\\\",\\n    \\\"zipCode\\\",\\n    \\\"regio2\\\",\\n    \\\"link\\\",\\n]\\nsale_select_df = sale_df[sale_select_columns].copy()\";\n",
       "                var nbb_formatted_code = \"rent_select_columns = [\\n    \\\"rent_m2\\\",\\n    \\\"baseRent\\\",\\n    \\\"livingSpace\\\",\\n    \\\"noRooms\\\",\\n    \\\"zipCode\\\",\\n    \\\"regio2\\\",\\n    \\\"link\\\",\\n]\\nrent_select_df = rent_df[rent_select_columns].copy()\\n\\nsale_select_columns = [\\n    \\\"yearly_ROI\\\",\\n    \\\"price_m2\\\",\\n    \\\"purchasePrice\\\",\\n    \\\"livingSpace\\\",\\n    \\\"noRooms\\\",\\n    \\\"zipCode\\\",\\n    \\\"regio2\\\",\\n    \\\"link\\\",\\n]\\nsale_select_df = sale_df[sale_select_columns].copy()\";\n",
       "                var nbb_cells = Jupyter.notebook.get_cells();\n",
       "                for (var i = 0; i < nbb_cells.length; ++i) {\n",
       "                    if (nbb_cells[i].input_prompt_number == nbb_cell_id) {\n",
       "                        if (nbb_cells[i].get_text() == nbb_unformatted_code) {\n",
       "                             nbb_cells[i].set_text(nbb_formatted_code);\n",
       "                        }\n",
       "                        break;\n",
       "                    }\n",
       "                }\n",
       "            }, 500);\n",
       "            "
      ],
      "text/plain": [
       "<IPython.core.display.Javascript object>"
      ]
     },
     "metadata": {},
     "output_type": "display_data"
    }
   ],
   "source": [
    "rent_select_columns = [\n",
    "    \"rent_m2\",\n",
    "    \"baseRent\",\n",
    "    \"livingSpace\",\n",
    "    \"noRooms\",\n",
    "    \"zipCode\",\n",
    "    \"regio2\",\n",
    "    \"link\",\n",
    "]\n",
    "rent_select_df = rent_df[rent_select_columns].copy()\n",
    "\n",
    "sale_select_columns = [\n",
    "    \"yearly_ROI\",\n",
    "    \"price_m2\",\n",
    "    \"purchasePrice\",\n",
    "    \"livingSpace\",\n",
    "    \"noRooms\",\n",
    "    \"zipCode\",\n",
    "    \"regio2\",\n",
    "    \"link\",\n",
    "]\n",
    "sale_select_df = sale_df[sale_select_columns].copy()"
   ]
  },
  {
   "cell_type": "markdown",
   "metadata": {},
   "source": [
    "## 2) Results"
   ]
  },
  {
   "cell_type": "markdown",
   "metadata": {},
   "source": [
    "### 2.0) Apartments by region"
   ]
  },
  {
   "cell_type": "markdown",
   "metadata": {},
   "source": [
    "#### regions overview:"
   ]
  },
  {
   "cell_type": "code",
   "execution_count": 19,
   "metadata": {},
   "outputs": [
    {
     "data": {
      "text/html": [
       "<div>\n",
       "<style scoped>\n",
       "    .dataframe tbody tr th:only-of-type {\n",
       "        vertical-align: middle;\n",
       "    }\n",
       "\n",
       "    .dataframe tbody tr th {\n",
       "        vertical-align: top;\n",
       "    }\n",
       "\n",
       "    .dataframe thead th {\n",
       "        text-align: right;\n",
       "    }\n",
       "</style>\n",
       "<table border=\"1\" class=\"dataframe\">\n",
       "  <thead>\n",
       "    <tr style=\"text-align: right;\">\n",
       "      <th></th>\n",
       "      <th>median_rent_m2</th>\n",
       "      <th>num_rent</th>\n",
       "      <th>median_price_m2</th>\n",
       "      <th>num_sale</th>\n",
       "      <th>median_yearly_ROI</th>\n",
       "    </tr>\n",
       "    <tr>\n",
       "      <th>zipCode</th>\n",
       "      <th></th>\n",
       "      <th></th>\n",
       "      <th></th>\n",
       "      <th></th>\n",
       "      <th></th>\n",
       "    </tr>\n",
       "  </thead>\n",
       "  <tbody>\n",
       "    <tr>\n",
       "      <th>4639</th>\n",
       "      <td>4.69</td>\n",
       "      <td>13.0</td>\n",
       "      <td>25.37</td>\n",
       "      <td>7.0</td>\n",
       "      <td>2.22</td>\n",
       "    </tr>\n",
       "    <tr>\n",
       "      <th>47169</th>\n",
       "      <td>6.22</td>\n",
       "      <td>80.0</td>\n",
       "      <td>142.26</td>\n",
       "      <td>21.0</td>\n",
       "      <td>0.52</td>\n",
       "    </tr>\n",
       "    <tr>\n",
       "      <th>7973</th>\n",
       "      <td>4.98</td>\n",
       "      <td>67.0</td>\n",
       "      <td>155.37</td>\n",
       "      <td>3.0</td>\n",
       "      <td>0.38</td>\n",
       "    </tr>\n",
       "    <tr>\n",
       "      <th>6648</th>\n",
       "      <td>5.39</td>\n",
       "      <td>3.0</td>\n",
       "      <td>553.79</td>\n",
       "      <td>2.0</td>\n",
       "      <td>0.37</td>\n",
       "    </tr>\n",
       "    <tr>\n",
       "      <th>6749</th>\n",
       "      <td>5.51</td>\n",
       "      <td>133.0</td>\n",
       "      <td>464.14</td>\n",
       "      <td>2.0</td>\n",
       "      <td>0.24</td>\n",
       "    </tr>\n",
       "    <tr>\n",
       "      <th>...</th>\n",
       "      <td>...</td>\n",
       "      <td>...</td>\n",
       "      <td>...</td>\n",
       "      <td>...</td>\n",
       "      <td>...</td>\n",
       "    </tr>\n",
       "    <tr>\n",
       "      <th>7589</th>\n",
       "      <td>5.00</td>\n",
       "      <td>8.0</td>\n",
       "      <td>3968.10</td>\n",
       "      <td>11.0</td>\n",
       "      <td>0.02</td>\n",
       "    </tr>\n",
       "    <tr>\n",
       "      <th>20354</th>\n",
       "      <td>18.01</td>\n",
       "      <td>3.0</td>\n",
       "      <td>14608.70</td>\n",
       "      <td>3.0</td>\n",
       "      <td>0.01</td>\n",
       "    </tr>\n",
       "    <tr>\n",
       "      <th>40212</th>\n",
       "      <td>11.52</td>\n",
       "      <td>2.0</td>\n",
       "      <td>10499.04</td>\n",
       "      <td>2.0</td>\n",
       "      <td>0.01</td>\n",
       "    </tr>\n",
       "    <tr>\n",
       "      <th>80539</th>\n",
       "      <td>27.27</td>\n",
       "      <td>11.0</td>\n",
       "      <td>25000.00</td>\n",
       "      <td>7.0</td>\n",
       "      <td>0.01</td>\n",
       "    </tr>\n",
       "    <tr>\n",
       "      <th>82340</th>\n",
       "      <td>15.71</td>\n",
       "      <td>4.0</td>\n",
       "      <td>16492.16</td>\n",
       "      <td>2.0</td>\n",
       "      <td>0.01</td>\n",
       "    </tr>\n",
       "  </tbody>\n",
       "</table>\n",
       "<p>3201 rows × 5 columns</p>\n",
       "</div>"
      ],
      "text/plain": [
       "         median_rent_m2  num_rent  median_price_m2  num_sale  \\\n",
       "zipCode                                                        \n",
       "4639               4.69      13.0            25.37       7.0   \n",
       "47169              6.22      80.0           142.26      21.0   \n",
       "7973               4.98      67.0           155.37       3.0   \n",
       "6648               5.39       3.0           553.79       2.0   \n",
       "6749               5.51     133.0           464.14       2.0   \n",
       "...                 ...       ...              ...       ...   \n",
       "7589               5.00       8.0          3968.10      11.0   \n",
       "20354             18.01       3.0         14608.70       3.0   \n",
       "40212             11.52       2.0         10499.04       2.0   \n",
       "80539             27.27      11.0         25000.00       7.0   \n",
       "82340             15.71       4.0         16492.16       2.0   \n",
       "\n",
       "         median_yearly_ROI  \n",
       "zipCode                     \n",
       "4639                  2.22  \n",
       "47169                 0.52  \n",
       "7973                  0.38  \n",
       "6648                  0.37  \n",
       "6749                  0.24  \n",
       "...                    ...  \n",
       "7589                  0.02  \n",
       "20354                 0.01  \n",
       "40212                 0.01  \n",
       "80539                 0.01  \n",
       "82340                 0.01  \n",
       "\n",
       "[3201 rows x 5 columns]"
      ]
     },
     "execution_count": 19,
     "metadata": {},
     "output_type": "execute_result"
    },
    {
     "data": {
      "application/javascript": [
       "\n",
       "            setTimeout(function() {\n",
       "                var nbb_cell_id = 19;\n",
       "                var nbb_unformatted_code = \"min_num = 1\\ncombined_filt_ord = \\\"median_yearly_ROI\\\"\\n\\ncombined_filt = (combined_df[\\\"num_rent\\\"] > min_num) & (\\n    combined_df[\\\"num_sale\\\"] > min_num\\n)\\ncombined_df[combined_filt].sort_values(combined_filt_ord, ascending=False)\";\n",
       "                var nbb_formatted_code = \"min_num = 1\\ncombined_filt_ord = \\\"median_yearly_ROI\\\"\\n\\ncombined_filt = (combined_df[\\\"num_rent\\\"] > min_num) & (\\n    combined_df[\\\"num_sale\\\"] > min_num\\n)\\ncombined_df[combined_filt].sort_values(combined_filt_ord, ascending=False)\";\n",
       "                var nbb_cells = Jupyter.notebook.get_cells();\n",
       "                for (var i = 0; i < nbb_cells.length; ++i) {\n",
       "                    if (nbb_cells[i].input_prompt_number == nbb_cell_id) {\n",
       "                        if (nbb_cells[i].get_text() == nbb_unformatted_code) {\n",
       "                             nbb_cells[i].set_text(nbb_formatted_code);\n",
       "                        }\n",
       "                        break;\n",
       "                    }\n",
       "                }\n",
       "            }, 500);\n",
       "            "
      ],
      "text/plain": [
       "<IPython.core.display.Javascript object>"
      ]
     },
     "metadata": {},
     "output_type": "display_data"
    }
   ],
   "source": [
    "min_num = 1\n",
    "combined_filt_ord = \"median_yearly_ROI\"\n",
    "\n",
    "combined_filt = (combined_df[\"num_rent\"] > min_num) & (\n",
    "    combined_df[\"num_sale\"] > min_num\n",
    ")\n",
    "combined_df[combined_filt].sort_values(combined_filt_ord, ascending=False)"
   ]
  },
  {
   "cell_type": "markdown",
   "metadata": {},
   "source": [
    "#### single region:"
   ]
  },
  {
   "cell_type": "code",
   "execution_count": 12,
   "metadata": {},
   "outputs": [
    {
     "data": {
      "text/plain": [
       "median_rent_m2        4.69\n",
       "num_rent             13.00\n",
       "median_price_m2      25.37\n",
       "num_sale              7.00\n",
       "median_yearly_ROI     2.22\n",
       "Name: 4639, dtype: float64"
      ]
     },
     "execution_count": 12,
     "metadata": {},
     "output_type": "execute_result"
    },
    {
     "data": {
      "application/javascript": [
       "\n",
       "            setTimeout(function() {\n",
       "                var nbb_cell_id = 12;\n",
       "                var nbb_unformatted_code = \"combined_arg = 4639\\ncombined_df.loc[combined_arg]\";\n",
       "                var nbb_formatted_code = \"combined_arg = 4639\\ncombined_df.loc[combined_arg]\";\n",
       "                var nbb_cells = Jupyter.notebook.get_cells();\n",
       "                for (var i = 0; i < nbb_cells.length; ++i) {\n",
       "                    if (nbb_cells[i].input_prompt_number == nbb_cell_id) {\n",
       "                        if (nbb_cells[i].get_text() == nbb_unformatted_code) {\n",
       "                             nbb_cells[i].set_text(nbb_formatted_code);\n",
       "                        }\n",
       "                        break;\n",
       "                    }\n",
       "                }\n",
       "            }, 500);\n",
       "            "
      ],
      "text/plain": [
       "<IPython.core.display.Javascript object>"
      ]
     },
     "metadata": {},
     "output_type": "display_data"
    }
   ],
   "source": [
    "combined_arg = 4639\n",
    "combined_df.loc[combined_arg]"
   ]
  },
  {
   "cell_type": "markdown",
   "metadata": {},
   "source": [
    "### 2.1) Apartments for rent"
   ]
  },
  {
   "cell_type": "code",
   "execution_count": 34,
   "metadata": {},
   "outputs": [
    {
     "data": {
      "text/html": [
       "<div>\n",
       "<style scoped>\n",
       "    .dataframe tbody tr th:only-of-type {\n",
       "        vertical-align: middle;\n",
       "    }\n",
       "\n",
       "    .dataframe tbody tr th {\n",
       "        vertical-align: top;\n",
       "    }\n",
       "\n",
       "    .dataframe thead th {\n",
       "        text-align: right;\n",
       "    }\n",
       "</style>\n",
       "<table border=\"1\" class=\"dataframe\">\n",
       "  <thead>\n",
       "    <tr style=\"text-align: right;\">\n",
       "      <th></th>\n",
       "      <th>rent_m2</th>\n",
       "      <th>baseRent</th>\n",
       "      <th>livingSpace</th>\n",
       "      <th>noRooms</th>\n",
       "      <th>zipCode</th>\n",
       "      <th>regio2</th>\n",
       "      <th>link</th>\n",
       "    </tr>\n",
       "  </thead>\n",
       "  <tbody>\n",
       "    <tr>\n",
       "      <th>7819</th>\n",
       "      <td>7.01</td>\n",
       "      <td>467.50</td>\n",
       "      <td>66.72</td>\n",
       "      <td>2.0</td>\n",
       "      <td>12489</td>\n",
       "      <td>Berlin</td>\n",
       "      <td>https://www.immobilienscout24.de/expose/109208094</td>\n",
       "    </tr>\n",
       "    <tr>\n",
       "      <th>24532</th>\n",
       "      <td>9.50</td>\n",
       "      <td>715.00</td>\n",
       "      <td>75.28</td>\n",
       "      <td>2.0</td>\n",
       "      <td>12489</td>\n",
       "      <td>Berlin</td>\n",
       "      <td>https://www.immobilienscout24.de/expose/104916496</td>\n",
       "    </tr>\n",
       "    <tr>\n",
       "      <th>57716</th>\n",
       "      <td>9.69</td>\n",
       "      <td>1599.00</td>\n",
       "      <td>165.10</td>\n",
       "      <td>4.0</td>\n",
       "      <td>12489</td>\n",
       "      <td>Berlin</td>\n",
       "      <td>https://www.immobilienscout24.de/expose/116956183</td>\n",
       "    </tr>\n",
       "    <tr>\n",
       "      <th>2403</th>\n",
       "      <td>10.38</td>\n",
       "      <td>1399.00</td>\n",
       "      <td>134.75</td>\n",
       "      <td>4.0</td>\n",
       "      <td>12489</td>\n",
       "      <td>Berlin</td>\n",
       "      <td>https://www.immobilienscout24.de/expose/116959624</td>\n",
       "    </tr>\n",
       "    <tr>\n",
       "      <th>59602</th>\n",
       "      <td>11.22</td>\n",
       "      <td>717.97</td>\n",
       "      <td>63.99</td>\n",
       "      <td>2.0</td>\n",
       "      <td>12489</td>\n",
       "      <td>Berlin</td>\n",
       "      <td>https://www.immobilienscout24.de/expose/116869830</td>\n",
       "    </tr>\n",
       "    <tr>\n",
       "      <th>78002</th>\n",
       "      <td>11.93</td>\n",
       "      <td>674.37</td>\n",
       "      <td>56.53</td>\n",
       "      <td>2.0</td>\n",
       "      <td>12489</td>\n",
       "      <td>Berlin</td>\n",
       "      <td>https://www.immobilienscout24.de/expose/114726475</td>\n",
       "    </tr>\n",
       "    <tr>\n",
       "      <th>73530</th>\n",
       "      <td>11.99</td>\n",
       "      <td>1149.00</td>\n",
       "      <td>95.86</td>\n",
       "      <td>3.0</td>\n",
       "      <td>12489</td>\n",
       "      <td>Berlin</td>\n",
       "      <td>https://www.immobilienscout24.de/expose/115452919</td>\n",
       "    </tr>\n",
       "    <tr>\n",
       "      <th>81965</th>\n",
       "      <td>12.51</td>\n",
       "      <td>825.00</td>\n",
       "      <td>65.96</td>\n",
       "      <td>2.0</td>\n",
       "      <td>12489</td>\n",
       "      <td>Berlin</td>\n",
       "      <td>https://www.immobilienscout24.de/expose/113471229</td>\n",
       "    </tr>\n",
       "    <tr>\n",
       "      <th>63122</th>\n",
       "      <td>13.09</td>\n",
       "      <td>1279.88</td>\n",
       "      <td>97.81</td>\n",
       "      <td>3.0</td>\n",
       "      <td>12489</td>\n",
       "      <td>Berlin</td>\n",
       "      <td>https://www.immobilienscout24.de/expose/116604623</td>\n",
       "    </tr>\n",
       "    <tr>\n",
       "      <th>84905</th>\n",
       "      <td>13.50</td>\n",
       "      <td>1699.00</td>\n",
       "      <td>125.86</td>\n",
       "      <td>4.0</td>\n",
       "      <td>12489</td>\n",
       "      <td>Berlin</td>\n",
       "      <td>https://www.immobilienscout24.de/expose/111513335</td>\n",
       "    </tr>\n",
       "    <tr>\n",
       "      <th>9001</th>\n",
       "      <td>13.82</td>\n",
       "      <td>939.00</td>\n",
       "      <td>67.95</td>\n",
       "      <td>2.0</td>\n",
       "      <td>12489</td>\n",
       "      <td>Berlin</td>\n",
       "      <td>https://www.immobilienscout24.de/expose/117068199</td>\n",
       "    </tr>\n",
       "    <tr>\n",
       "      <th>67150</th>\n",
       "      <td>14.70</td>\n",
       "      <td>609.02</td>\n",
       "      <td>41.43</td>\n",
       "      <td>1.0</td>\n",
       "      <td>12489</td>\n",
       "      <td>Berlin</td>\n",
       "      <td>https://www.immobilienscout24.de/expose/116170828</td>\n",
       "    </tr>\n",
       "    <tr>\n",
       "      <th>66556</th>\n",
       "      <td>17.11</td>\n",
       "      <td>650.00</td>\n",
       "      <td>38.00</td>\n",
       "      <td>1.0</td>\n",
       "      <td>12489</td>\n",
       "      <td>Berlin</td>\n",
       "      <td>https://www.immobilienscout24.de/expose/116242551</td>\n",
       "    </tr>\n",
       "    <tr>\n",
       "      <th>69378</th>\n",
       "      <td>19.00</td>\n",
       "      <td>1278.70</td>\n",
       "      <td>67.30</td>\n",
       "      <td>2.0</td>\n",
       "      <td>12489</td>\n",
       "      <td>Berlin</td>\n",
       "      <td>https://www.immobilienscout24.de/expose/115919073</td>\n",
       "    </tr>\n",
       "    <tr>\n",
       "      <th>74169</th>\n",
       "      <td>19.00</td>\n",
       "      <td>912.00</td>\n",
       "      <td>48.00</td>\n",
       "      <td>2.0</td>\n",
       "      <td>12489</td>\n",
       "      <td>Berlin</td>\n",
       "      <td>https://www.immobilienscout24.de/expose/115400920</td>\n",
       "    </tr>\n",
       "    <tr>\n",
       "      <th>87622</th>\n",
       "      <td>20.50</td>\n",
       "      <td>492.00</td>\n",
       "      <td>24.00</td>\n",
       "      <td>1.0</td>\n",
       "      <td>12489</td>\n",
       "      <td>Berlin</td>\n",
       "      <td>https://www.immobilienscout24.de/expose/108659735</td>\n",
       "    </tr>\n",
       "  </tbody>\n",
       "</table>\n",
       "</div>"
      ],
      "text/plain": [
       "       rent_m2  baseRent  livingSpace  noRooms  zipCode  regio2  \\\n",
       "7819      7.01    467.50        66.72      2.0    12489  Berlin   \n",
       "24532     9.50    715.00        75.28      2.0    12489  Berlin   \n",
       "57716     9.69   1599.00       165.10      4.0    12489  Berlin   \n",
       "2403     10.38   1399.00       134.75      4.0    12489  Berlin   \n",
       "59602    11.22    717.97        63.99      2.0    12489  Berlin   \n",
       "78002    11.93    674.37        56.53      2.0    12489  Berlin   \n",
       "73530    11.99   1149.00        95.86      3.0    12489  Berlin   \n",
       "81965    12.51    825.00        65.96      2.0    12489  Berlin   \n",
       "63122    13.09   1279.88        97.81      3.0    12489  Berlin   \n",
       "84905    13.50   1699.00       125.86      4.0    12489  Berlin   \n",
       "9001     13.82    939.00        67.95      2.0    12489  Berlin   \n",
       "67150    14.70    609.02        41.43      1.0    12489  Berlin   \n",
       "66556    17.11    650.00        38.00      1.0    12489  Berlin   \n",
       "69378    19.00   1278.70        67.30      2.0    12489  Berlin   \n",
       "74169    19.00    912.00        48.00      2.0    12489  Berlin   \n",
       "87622    20.50    492.00        24.00      1.0    12489  Berlin   \n",
       "\n",
       "                                                    link  \n",
       "7819   https://www.immobilienscout24.de/expose/109208094  \n",
       "24532  https://www.immobilienscout24.de/expose/104916496  \n",
       "57716  https://www.immobilienscout24.de/expose/116956183  \n",
       "2403   https://www.immobilienscout24.de/expose/116959624  \n",
       "59602  https://www.immobilienscout24.de/expose/116869830  \n",
       "78002  https://www.immobilienscout24.de/expose/114726475  \n",
       "73530  https://www.immobilienscout24.de/expose/115452919  \n",
       "81965  https://www.immobilienscout24.de/expose/113471229  \n",
       "63122  https://www.immobilienscout24.de/expose/116604623  \n",
       "84905  https://www.immobilienscout24.de/expose/111513335  \n",
       "9001   https://www.immobilienscout24.de/expose/117068199  \n",
       "67150  https://www.immobilienscout24.de/expose/116170828  \n",
       "66556  https://www.immobilienscout24.de/expose/116242551  \n",
       "69378  https://www.immobilienscout24.de/expose/115919073  \n",
       "74169  https://www.immobilienscout24.de/expose/115400920  \n",
       "87622  https://www.immobilienscout24.de/expose/108659735  "
      ]
     },
     "execution_count": 34,
     "metadata": {},
     "output_type": "execute_result"
    },
    {
     "data": {
      "application/javascript": [
       "\n",
       "            setTimeout(function() {\n",
       "                var nbb_cell_id = 34;\n",
       "                var nbb_unformatted_code = \"rent_filt_col = \\\"zipCode\\\"\\nrent_filt_arg = [12489]\\nrent_ord = \\\"rent_m2\\\"\\n\\nrent_filt = rent_select_df[rent_filt_col].isin(rent_filt_arg)\\nrent_select_df[rent_filt].sort_values(rent_ord).head(20)\";\n",
       "                var nbb_formatted_code = \"rent_filt_col = \\\"zipCode\\\"\\nrent_filt_arg = [12489]\\nrent_ord = \\\"rent_m2\\\"\\n\\nrent_filt = rent_select_df[rent_filt_col].isin(rent_filt_arg)\\nrent_select_df[rent_filt].sort_values(rent_ord).head(20)\";\n",
       "                var nbb_cells = Jupyter.notebook.get_cells();\n",
       "                for (var i = 0; i < nbb_cells.length; ++i) {\n",
       "                    if (nbb_cells[i].input_prompt_number == nbb_cell_id) {\n",
       "                        if (nbb_cells[i].get_text() == nbb_unformatted_code) {\n",
       "                             nbb_cells[i].set_text(nbb_formatted_code);\n",
       "                        }\n",
       "                        break;\n",
       "                    }\n",
       "                }\n",
       "            }, 500);\n",
       "            "
      ],
      "text/plain": [
       "<IPython.core.display.Javascript object>"
      ]
     },
     "metadata": {},
     "output_type": "display_data"
    }
   ],
   "source": [
    "rent_filt_col = \"zipCode\"\n",
    "rent_filt_arg = [12489]\n",
    "rent_ord = \"rent_m2\"\n",
    "\n",
    "rent_filt = rent_select_df[rent_filt_col].isin(rent_filt_arg)\n",
    "rent_select_df[rent_filt].sort_values(rent_ord).head(20)"
   ]
  },
  {
   "cell_type": "markdown",
   "metadata": {},
   "source": [
    "### 2.2) Apartments for sale"
   ]
  },
  {
   "cell_type": "code",
   "execution_count": 35,
   "metadata": {
    "scrolled": false
   },
   "outputs": [
    {
     "data": {
      "text/html": [
       "<div>\n",
       "<style scoped>\n",
       "    .dataframe tbody tr th:only-of-type {\n",
       "        vertical-align: middle;\n",
       "    }\n",
       "\n",
       "    .dataframe tbody tr th {\n",
       "        vertical-align: top;\n",
       "    }\n",
       "\n",
       "    .dataframe thead th {\n",
       "        text-align: right;\n",
       "    }\n",
       "</style>\n",
       "<table border=\"1\" class=\"dataframe\">\n",
       "  <thead>\n",
       "    <tr style=\"text-align: right;\">\n",
       "      <th></th>\n",
       "      <th>yearly_ROI</th>\n",
       "      <th>price_m2</th>\n",
       "      <th>purchasePrice</th>\n",
       "      <th>livingSpace</th>\n",
       "      <th>noRooms</th>\n",
       "      <th>zipCode</th>\n",
       "      <th>regio2</th>\n",
       "      <th>link</th>\n",
       "    </tr>\n",
       "  </thead>\n",
       "  <tbody>\n",
       "    <tr>\n",
       "      <th>11252</th>\n",
       "      <td>0.06</td>\n",
       "      <td>2369.34</td>\n",
       "      <td>170000.0</td>\n",
       "      <td>71.75</td>\n",
       "      <td>3.0</td>\n",
       "      <td>12489</td>\n",
       "      <td>Berlin</td>\n",
       "      <td>https://www.immobilienscout24.de/expose/114960018</td>\n",
       "    </tr>\n",
       "    <tr>\n",
       "      <th>31683</th>\n",
       "      <td>0.06</td>\n",
       "      <td>2395.29</td>\n",
       "      <td>175000.0</td>\n",
       "      <td>73.06</td>\n",
       "      <td>3.0</td>\n",
       "      <td>12489</td>\n",
       "      <td>Berlin</td>\n",
       "      <td>https://www.immobilienscout24.de/expose/114881500</td>\n",
       "    </tr>\n",
       "    <tr>\n",
       "      <th>26452</th>\n",
       "      <td>0.06</td>\n",
       "      <td>2638.52</td>\n",
       "      <td>150000.0</td>\n",
       "      <td>56.85</td>\n",
       "      <td>2.0</td>\n",
       "      <td>12489</td>\n",
       "      <td>Berlin</td>\n",
       "      <td>https://www.immobilienscout24.de/expose/116870264</td>\n",
       "    </tr>\n",
       "    <tr>\n",
       "      <th>12728</th>\n",
       "      <td>0.06</td>\n",
       "      <td>2659.05</td>\n",
       "      <td>135000.0</td>\n",
       "      <td>50.77</td>\n",
       "      <td>2.0</td>\n",
       "      <td>12489</td>\n",
       "      <td>Berlin</td>\n",
       "      <td>https://www.immobilienscout24.de/expose/117648770</td>\n",
       "    </tr>\n",
       "    <tr>\n",
       "      <th>11250</th>\n",
       "      <td>0.05</td>\n",
       "      <td>3000.00</td>\n",
       "      <td>130500.0</td>\n",
       "      <td>43.50</td>\n",
       "      <td>2.0</td>\n",
       "      <td>12489</td>\n",
       "      <td>Berlin</td>\n",
       "      <td>https://www.immobilienscout24.de/expose/114954791</td>\n",
       "    </tr>\n",
       "    <tr>\n",
       "      <th>26440</th>\n",
       "      <td>0.05</td>\n",
       "      <td>3014.18</td>\n",
       "      <td>170000.0</td>\n",
       "      <td>56.40</td>\n",
       "      <td>2.0</td>\n",
       "      <td>12489</td>\n",
       "      <td>Berlin</td>\n",
       "      <td>https://www.immobilienscout24.de/expose/116870259</td>\n",
       "    </tr>\n",
       "    <tr>\n",
       "      <th>3268</th>\n",
       "      <td>0.05</td>\n",
       "      <td>3124.54</td>\n",
       "      <td>213000.0</td>\n",
       "      <td>68.17</td>\n",
       "      <td>3.0</td>\n",
       "      <td>12489</td>\n",
       "      <td>Berlin</td>\n",
       "      <td>https://www.immobilienscout24.de/expose/113564857</td>\n",
       "    </tr>\n",
       "    <tr>\n",
       "      <th>22947</th>\n",
       "      <td>0.05</td>\n",
       "      <td>3249.21</td>\n",
       "      <td>215000.0</td>\n",
       "      <td>66.17</td>\n",
       "      <td>3.0</td>\n",
       "      <td>12489</td>\n",
       "      <td>Berlin</td>\n",
       "      <td>https://www.immobilienscout24.de/expose/117538579</td>\n",
       "    </tr>\n",
       "    <tr>\n",
       "      <th>3137</th>\n",
       "      <td>0.05</td>\n",
       "      <td>3383.12</td>\n",
       "      <td>265000.0</td>\n",
       "      <td>78.33</td>\n",
       "      <td>3.0</td>\n",
       "      <td>12489</td>\n",
       "      <td>Berlin</td>\n",
       "      <td>https://www.immobilienscout24.de/expose/116924411</td>\n",
       "    </tr>\n",
       "    <tr>\n",
       "      <th>14729</th>\n",
       "      <td>0.04</td>\n",
       "      <td>4090.91</td>\n",
       "      <td>225000.0</td>\n",
       "      <td>55.00</td>\n",
       "      <td>2.0</td>\n",
       "      <td>12489</td>\n",
       "      <td>Berlin</td>\n",
       "      <td>https://www.immobilienscout24.de/expose/117614342</td>\n",
       "    </tr>\n",
       "    <tr>\n",
       "      <th>18101</th>\n",
       "      <td>0.04</td>\n",
       "      <td>4098.15</td>\n",
       "      <td>157000.0</td>\n",
       "      <td>38.31</td>\n",
       "      <td>2.0</td>\n",
       "      <td>12489</td>\n",
       "      <td>Berlin</td>\n",
       "      <td>https://www.immobilienscout24.de/expose/113864679</td>\n",
       "    </tr>\n",
       "    <tr>\n",
       "      <th>17714</th>\n",
       "      <td>0.03</td>\n",
       "      <td>5355.00</td>\n",
       "      <td>518578.0</td>\n",
       "      <td>96.84</td>\n",
       "      <td>4.0</td>\n",
       "      <td>12489</td>\n",
       "      <td>Berlin</td>\n",
       "      <td>https://www.immobilienscout24.de/expose/117099907</td>\n",
       "    </tr>\n",
       "    <tr>\n",
       "      <th>901</th>\n",
       "      <td>0.03</td>\n",
       "      <td>5673.21</td>\n",
       "      <td>367000.0</td>\n",
       "      <td>64.69</td>\n",
       "      <td>3.0</td>\n",
       "      <td>12489</td>\n",
       "      <td>Berlin</td>\n",
       "      <td>https://www.immobilienscout24.de/expose/114934358</td>\n",
       "    </tr>\n",
       "    <tr>\n",
       "      <th>17695</th>\n",
       "      <td>0.03</td>\n",
       "      <td>5775.00</td>\n",
       "      <td>407946.0</td>\n",
       "      <td>70.64</td>\n",
       "      <td>3.0</td>\n",
       "      <td>12489</td>\n",
       "      <td>Berlin</td>\n",
       "      <td>https://www.immobilienscout24.de/expose/117100231</td>\n",
       "    </tr>\n",
       "    <tr>\n",
       "      <th>1047</th>\n",
       "      <td>0.03</td>\n",
       "      <td>5797.57</td>\n",
       "      <td>539000.0</td>\n",
       "      <td>92.97</td>\n",
       "      <td>4.0</td>\n",
       "      <td>12489</td>\n",
       "      <td>Berlin</td>\n",
       "      <td>https://www.immobilienscout24.de/expose/111987004</td>\n",
       "    </tr>\n",
       "    <tr>\n",
       "      <th>708</th>\n",
       "      <td>0.03</td>\n",
       "      <td>5814.29</td>\n",
       "      <td>139950.0</td>\n",
       "      <td>24.07</td>\n",
       "      <td>1.0</td>\n",
       "      <td>12489</td>\n",
       "      <td>Berlin</td>\n",
       "      <td>https://www.immobilienscout24.de/expose/116023048</td>\n",
       "    </tr>\n",
       "    <tr>\n",
       "      <th>905</th>\n",
       "      <td>0.03</td>\n",
       "      <td>5858.71</td>\n",
       "      <td>379000.0</td>\n",
       "      <td>64.69</td>\n",
       "      <td>3.0</td>\n",
       "      <td>12489</td>\n",
       "      <td>Berlin</td>\n",
       "      <td>https://www.immobilienscout24.de/expose/114934221</td>\n",
       "    </tr>\n",
       "    <tr>\n",
       "      <th>689</th>\n",
       "      <td>0.03</td>\n",
       "      <td>6056.97</td>\n",
       "      <td>176500.0</td>\n",
       "      <td>29.14</td>\n",
       "      <td>1.0</td>\n",
       "      <td>12489</td>\n",
       "      <td>Berlin</td>\n",
       "      <td>https://www.immobilienscout24.de/expose/116023051</td>\n",
       "    </tr>\n",
       "  </tbody>\n",
       "</table>\n",
       "</div>"
      ],
      "text/plain": [
       "       yearly_ROI  price_m2  purchasePrice  livingSpace  noRooms  zipCode  \\\n",
       "11252        0.06   2369.34       170000.0        71.75      3.0    12489   \n",
       "31683        0.06   2395.29       175000.0        73.06      3.0    12489   \n",
       "26452        0.06   2638.52       150000.0        56.85      2.0    12489   \n",
       "12728        0.06   2659.05       135000.0        50.77      2.0    12489   \n",
       "11250        0.05   3000.00       130500.0        43.50      2.0    12489   \n",
       "26440        0.05   3014.18       170000.0        56.40      2.0    12489   \n",
       "3268         0.05   3124.54       213000.0        68.17      3.0    12489   \n",
       "22947        0.05   3249.21       215000.0        66.17      3.0    12489   \n",
       "3137         0.05   3383.12       265000.0        78.33      3.0    12489   \n",
       "14729        0.04   4090.91       225000.0        55.00      2.0    12489   \n",
       "18101        0.04   4098.15       157000.0        38.31      2.0    12489   \n",
       "17714        0.03   5355.00       518578.0        96.84      4.0    12489   \n",
       "901          0.03   5673.21       367000.0        64.69      3.0    12489   \n",
       "17695        0.03   5775.00       407946.0        70.64      3.0    12489   \n",
       "1047         0.03   5797.57       539000.0        92.97      4.0    12489   \n",
       "708          0.03   5814.29       139950.0        24.07      1.0    12489   \n",
       "905          0.03   5858.71       379000.0        64.69      3.0    12489   \n",
       "689          0.03   6056.97       176500.0        29.14      1.0    12489   \n",
       "\n",
       "       regio2                                               link  \n",
       "11252  Berlin  https://www.immobilienscout24.de/expose/114960018  \n",
       "31683  Berlin  https://www.immobilienscout24.de/expose/114881500  \n",
       "26452  Berlin  https://www.immobilienscout24.de/expose/116870264  \n",
       "12728  Berlin  https://www.immobilienscout24.de/expose/117648770  \n",
       "11250  Berlin  https://www.immobilienscout24.de/expose/114954791  \n",
       "26440  Berlin  https://www.immobilienscout24.de/expose/116870259  \n",
       "3268   Berlin  https://www.immobilienscout24.de/expose/113564857  \n",
       "22947  Berlin  https://www.immobilienscout24.de/expose/117538579  \n",
       "3137   Berlin  https://www.immobilienscout24.de/expose/116924411  \n",
       "14729  Berlin  https://www.immobilienscout24.de/expose/117614342  \n",
       "18101  Berlin  https://www.immobilienscout24.de/expose/113864679  \n",
       "17714  Berlin  https://www.immobilienscout24.de/expose/117099907  \n",
       "901    Berlin  https://www.immobilienscout24.de/expose/114934358  \n",
       "17695  Berlin  https://www.immobilienscout24.de/expose/117100231  \n",
       "1047   Berlin  https://www.immobilienscout24.de/expose/111987004  \n",
       "708    Berlin  https://www.immobilienscout24.de/expose/116023048  \n",
       "905    Berlin  https://www.immobilienscout24.de/expose/114934221  \n",
       "689    Berlin  https://www.immobilienscout24.de/expose/116023051  "
      ]
     },
     "execution_count": 35,
     "metadata": {},
     "output_type": "execute_result"
    },
    {
     "data": {
      "application/javascript": [
       "\n",
       "            setTimeout(function() {\n",
       "                var nbb_cell_id = 35;\n",
       "                var nbb_unformatted_code = \"sale_filt_col = \\\"zipCode\\\"\\nsale_filt_arg = [12489]\\nsale_ord = \\\"yearly_ROI\\\"\\n\\nsale_filt = sale_select_df[sale_filt_col].isin(sale_filt_arg)\\nsale_select_df[sale_filt].sort_values(sale_ord, ascending=False).head(50)\";\n",
       "                var nbb_formatted_code = \"sale_filt_col = \\\"zipCode\\\"\\nsale_filt_arg = [12489]\\nsale_ord = \\\"yearly_ROI\\\"\\n\\nsale_filt = sale_select_df[sale_filt_col].isin(sale_filt_arg)\\nsale_select_df[sale_filt].sort_values(sale_ord, ascending=False).head(50)\";\n",
       "                var nbb_cells = Jupyter.notebook.get_cells();\n",
       "                for (var i = 0; i < nbb_cells.length; ++i) {\n",
       "                    if (nbb_cells[i].input_prompt_number == nbb_cell_id) {\n",
       "                        if (nbb_cells[i].get_text() == nbb_unformatted_code) {\n",
       "                             nbb_cells[i].set_text(nbb_formatted_code);\n",
       "                        }\n",
       "                        break;\n",
       "                    }\n",
       "                }\n",
       "            }, 500);\n",
       "            "
      ],
      "text/plain": [
       "<IPython.core.display.Javascript object>"
      ]
     },
     "metadata": {},
     "output_type": "display_data"
    }
   ],
   "source": [
    "sale_filt_col = \"zipCode\"\n",
    "sale_filt_arg = [12489]\n",
    "sale_ord = \"yearly_ROI\"\n",
    "\n",
    "sale_filt = sale_select_df[sale_filt_col].isin(sale_filt_arg)\n",
    "sale_select_df[sale_filt].sort_values(sale_ord, ascending=False).head(50)"
   ]
  }
 ],
 "metadata": {
  "file_extension": ".py",
  "kernelspec": {
   "display_name": "Python 3",
   "language": "python",
   "name": "python3"
  },
  "language_info": {
   "codemirror_mode": {
    "name": "ipython",
    "version": 3
   },
   "file_extension": ".py",
   "mimetype": "text/x-python",
   "name": "python",
   "nbconvert_exporter": "python",
   "pygments_lexer": "ipython3",
   "version": "3.7.4"
  },
  "mimetype": "text/x-python",
  "name": "python",
  "npconvert_exporter": "python",
  "pygments_lexer": "ipython3",
  "version": 3
 },
 "nbformat": 4,
 "nbformat_minor": 2
}
