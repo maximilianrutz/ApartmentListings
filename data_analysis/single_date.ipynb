{
 "cells": [
  {
   "cell_type": "markdown",
   "metadata": {},
   "source": [
    "# <center>German apartment listings</center>"
   ]
  },
  {
   "cell_type": "markdown",
   "metadata": {},
   "source": [
    "## 0) Imports"
   ]
  },
  {
   "cell_type": "code",
   "execution_count": 1,
   "metadata": {},
   "outputs": [
    {
     "name": "stderr",
     "output_type": "stream",
     "text": [
      "Matplotlib is building the font cache; this may take a moment.\n"
     ]
    },
    {
     "data": {
      "application/javascript": [
       "\n",
       "            setTimeout(function() {\n",
       "                var nbb_cell_id = 1;\n",
       "                var nbb_unformatted_code = \"import numpy as np\\nfrom matplotlib import pyplot as plt\\nimport pandas as pd\\nfrom timeit import default_timer as timer\\n\\nimport glob\\nfrom scipy import stats\\nfrom sklearn.model_selection import train_test_split\\nfrom sklearn.covariance import EllipticEnvelope\\nfrom sklearn.neighbors import LocalOutlierFactor\\nfrom sklearn.ensemble import IsolationForest\\n\\nimport dataprocessing as dproc\\n\\n%load_ext nb_black\\n%matplotlib inline\\n\\nplt.rcParams[\\\"figure.dpi\\\"] = 130\\npd.set_option(\\\"display.precision\\\", 2)\\npd.set_option(\\\"display.max_columns\\\", None)\";\n",
       "                var nbb_formatted_code = \"import numpy as np\\nfrom matplotlib import pyplot as plt\\nimport pandas as pd\\nfrom timeit import default_timer as timer\\n\\nimport glob\\nfrom scipy import stats\\nfrom sklearn.model_selection import train_test_split\\nfrom sklearn.covariance import EllipticEnvelope\\nfrom sklearn.neighbors import LocalOutlierFactor\\nfrom sklearn.ensemble import IsolationForest\\n\\nimport dataprocessing as dproc\\n\\n%load_ext nb_black\\n%matplotlib inline\\n\\nplt.rcParams[\\\"figure.dpi\\\"] = 130\\npd.set_option(\\\"display.precision\\\", 2)\\npd.set_option(\\\"display.max_columns\\\", None)\";\n",
       "                var nbb_cells = Jupyter.notebook.get_cells();\n",
       "                for (var i = 0; i < nbb_cells.length; ++i) {\n",
       "                    if (nbb_cells[i].input_prompt_number == nbb_cell_id) {\n",
       "                        if (nbb_cells[i].get_text() == nbb_unformatted_code) {\n",
       "                             nbb_cells[i].set_text(nbb_formatted_code);\n",
       "                        }\n",
       "                        break;\n",
       "                    }\n",
       "                }\n",
       "            }, 500);\n",
       "            "
      ],
      "text/plain": [
       "<IPython.core.display.Javascript object>"
      ]
     },
     "metadata": {},
     "output_type": "display_data"
    }
   ],
   "source": [
    "import numpy as np\n",
    "from matplotlib import pyplot as plt\n",
    "import pandas as pd\n",
    "from timeit import default_timer as timer\n",
    "\n",
    "import glob\n",
    "from scipy import stats\n",
    "from sklearn.model_selection import train_test_split\n",
    "from sklearn.covariance import EllipticEnvelope\n",
    "from sklearn.neighbors import LocalOutlierFactor\n",
    "from sklearn.ensemble import IsolationForest\n",
    "\n",
    "import dataprocessing as dproc\n",
    "\n",
    "%load_ext nb_black\n",
    "%matplotlib inline\n",
    "\n",
    "plt.rcParams[\"figure.dpi\"] = 130\n",
    "pd.set_option(\"display.precision\", 2)\n",
    "pd.set_option(\"display.max_columns\", None)"
   ]
  },
  {
   "cell_type": "markdown",
   "metadata": {},
   "source": [
    "## 1) Data Preprocessing"
   ]
  },
  {
   "cell_type": "markdown",
   "metadata": {},
   "source": [
    "#### find dates:"
   ]
  },
  {
   "cell_type": "code",
   "execution_count": 2,
   "metadata": {},
   "outputs": [
    {
     "data": {
      "application/javascript": [
       "\n",
       "            setTimeout(function() {\n",
       "                var nbb_cell_id = 2;\n",
       "                var nbb_unformatted_code = \"dates = sorted(\\n    [\\n        s[s.find(\\\"mieten\\\") + len(\\\"mieten\\\") : s.rfind(\\\".csv\\\")]\\n        for s in glob.glob(\\\"../data/mieten*\\\")\\n    ]\\n)\";\n",
       "                var nbb_formatted_code = \"dates = sorted(\\n    [\\n        s[s.find(\\\"mieten\\\") + len(\\\"mieten\\\") : s.rfind(\\\".csv\\\")]\\n        for s in glob.glob(\\\"../data/mieten*\\\")\\n    ]\\n)\";\n",
       "                var nbb_cells = Jupyter.notebook.get_cells();\n",
       "                for (var i = 0; i < nbb_cells.length; ++i) {\n",
       "                    if (nbb_cells[i].input_prompt_number == nbb_cell_id) {\n",
       "                        if (nbb_cells[i].get_text() == nbb_unformatted_code) {\n",
       "                             nbb_cells[i].set_text(nbb_formatted_code);\n",
       "                        }\n",
       "                        break;\n",
       "                    }\n",
       "                }\n",
       "            }, 500);\n",
       "            "
      ],
      "text/plain": [
       "<IPython.core.display.Javascript object>"
      ]
     },
     "metadata": {},
     "output_type": "display_data"
    }
   ],
   "source": [
    "dates = sorted(\n",
    "    [\n",
    "        s[s.find(\"mieten\") + len(\"mieten\") : s.rfind(\".csv\")]\n",
    "        for s in glob.glob(\"../data/mieten*\")\n",
    "    ]\n",
    ")"
   ]
  },
  {
   "cell_type": "markdown",
   "metadata": {},
   "source": [
    "#### load data:"
   ]
  },
  {
   "cell_type": "code",
   "execution_count": 3,
   "metadata": {},
   "outputs": [
    {
     "data": {
      "application/javascript": [
       "\n",
       "            setTimeout(function() {\n",
       "                var nbb_cell_id = 3;\n",
       "                var nbb_unformatted_code = \"rent_df = dproc.create_rent_df(dates[-1])\\nsale_df = dproc.create_sale_df(dates[-1])\";\n",
       "                var nbb_formatted_code = \"rent_df = dproc.create_rent_df(dates[-1])\\nsale_df = dproc.create_sale_df(dates[-1])\";\n",
       "                var nbb_cells = Jupyter.notebook.get_cells();\n",
       "                for (var i = 0; i < nbb_cells.length; ++i) {\n",
       "                    if (nbb_cells[i].input_prompt_number == nbb_cell_id) {\n",
       "                        if (nbb_cells[i].get_text() == nbb_unformatted_code) {\n",
       "                             nbb_cells[i].set_text(nbb_formatted_code);\n",
       "                        }\n",
       "                        break;\n",
       "                    }\n",
       "                }\n",
       "            }, 500);\n",
       "            "
      ],
      "text/plain": [
       "<IPython.core.display.Javascript object>"
      ]
     },
     "metadata": {},
     "output_type": "display_data"
    }
   ],
   "source": [
    "rent_df = dproc.create_rent_df(dates[-1])\n",
    "sale_df = dproc.create_sale_df(dates[-1])"
   ]
  },
  {
   "cell_type": "markdown",
   "metadata": {},
   "source": [
    "#### add links:"
   ]
  },
  {
   "cell_type": "code",
   "execution_count": 4,
   "metadata": {},
   "outputs": [
    {
     "data": {
      "application/javascript": [
       "\n",
       "            setTimeout(function() {\n",
       "                var nbb_cell_id = 4;\n",
       "                var nbb_unformatted_code = \"rent_df[\\\"link\\\"] = \\\"https://www.immobilienscout24.de/expose/\\\" + rent_df[\\n    \\\"scoutId\\\"\\n].astype(str)\\nsale_df[\\\"link\\\"] = \\\"https://www.immobilienscout24.de/expose/\\\" + sale_df[\\n    \\\"scoutId\\\"\\n].astype(str)\";\n",
       "                var nbb_formatted_code = \"rent_df[\\\"link\\\"] = \\\"https://www.immobilienscout24.de/expose/\\\" + rent_df[\\n    \\\"scoutId\\\"\\n].astype(str)\\nsale_df[\\\"link\\\"] = \\\"https://www.immobilienscout24.de/expose/\\\" + sale_df[\\n    \\\"scoutId\\\"\\n].astype(str)\";\n",
       "                var nbb_cells = Jupyter.notebook.get_cells();\n",
       "                for (var i = 0; i < nbb_cells.length; ++i) {\n",
       "                    if (nbb_cells[i].input_prompt_number == nbb_cell_id) {\n",
       "                        if (nbb_cells[i].get_text() == nbb_unformatted_code) {\n",
       "                             nbb_cells[i].set_text(nbb_formatted_code);\n",
       "                        }\n",
       "                        break;\n",
       "                    }\n",
       "                }\n",
       "            }, 500);\n",
       "            "
      ],
      "text/plain": [
       "<IPython.core.display.Javascript object>"
      ]
     },
     "metadata": {},
     "output_type": "display_data"
    }
   ],
   "source": [
    "rent_df[\"link\"] = \"https://www.immobilienscout24.de/expose/\" + rent_df[\n",
    "    \"scoutId\"\n",
    "].astype(str)\n",
    "sale_df[\"link\"] = \"https://www.immobilienscout24.de/expose/\" + sale_df[\n",
    "    \"scoutId\"\n",
    "].astype(str)"
   ]
  },
  {
   "cell_type": "markdown",
   "metadata": {},
   "source": [
    "#### select features:"
   ]
  },
  {
   "cell_type": "code",
   "execution_count": 5,
   "metadata": {},
   "outputs": [
    {
     "data": {
      "application/javascript": [
       "\n",
       "            setTimeout(function() {\n",
       "                var nbb_cell_id = 5;\n",
       "                var nbb_unformatted_code = \"rent_columns = [\\n    \\\"rent_m2\\\",\\n    \\\"baseRent\\\",\\n    \\\"livingSpace\\\",\\n    \\\"noRooms\\\",\\n    \\\"zipCode\\\",\\n    \\\"regio2\\\",\\n    \\\"link\\\",\\n]\\nrent_df = rent_df[rent_columns].copy()\\n\\nsale_columns = [\\n    \\\"price_m2\\\",\\n    \\\"purchasePrice\\\",\\n    \\\"livingSpace\\\",\\n    \\\"noRooms\\\",\\n    \\\"zipCode\\\",\\n    \\\"regio2\\\",\\n    \\\"link\\\",\\n]\\nsale_df = sale_df[sale_columns].copy()\";\n",
       "                var nbb_formatted_code = \"rent_columns = [\\n    \\\"rent_m2\\\",\\n    \\\"baseRent\\\",\\n    \\\"livingSpace\\\",\\n    \\\"noRooms\\\",\\n    \\\"zipCode\\\",\\n    \\\"regio2\\\",\\n    \\\"link\\\",\\n]\\nrent_df = rent_df[rent_columns].copy()\\n\\nsale_columns = [\\n    \\\"price_m2\\\",\\n    \\\"purchasePrice\\\",\\n    \\\"livingSpace\\\",\\n    \\\"noRooms\\\",\\n    \\\"zipCode\\\",\\n    \\\"regio2\\\",\\n    \\\"link\\\",\\n]\\nsale_df = sale_df[sale_columns].copy()\";\n",
       "                var nbb_cells = Jupyter.notebook.get_cells();\n",
       "                for (var i = 0; i < nbb_cells.length; ++i) {\n",
       "                    if (nbb_cells[i].input_prompt_number == nbb_cell_id) {\n",
       "                        if (nbb_cells[i].get_text() == nbb_unformatted_code) {\n",
       "                             nbb_cells[i].set_text(nbb_formatted_code);\n",
       "                        }\n",
       "                        break;\n",
       "                    }\n",
       "                }\n",
       "            }, 500);\n",
       "            "
      ],
      "text/plain": [
       "<IPython.core.display.Javascript object>"
      ]
     },
     "metadata": {},
     "output_type": "display_data"
    }
   ],
   "source": [
    "rent_columns = [\n",
    "    \"rent_m2\",\n",
    "    \"baseRent\",\n",
    "    \"livingSpace\",\n",
    "    \"noRooms\",\n",
    "    \"zipCode\",\n",
    "    \"regio2\",\n",
    "    \"link\",\n",
    "]\n",
    "rent_df = rent_df[rent_columns].copy()\n",
    "\n",
    "sale_columns = [\n",
    "    \"price_m2\",\n",
    "    \"purchasePrice\",\n",
    "    \"livingSpace\",\n",
    "    \"noRooms\",\n",
    "    \"zipCode\",\n",
    "    \"regio2\",\n",
    "    \"link\",\n",
    "]\n",
    "sale_df = sale_df[sale_columns].copy()"
   ]
  },
  {
   "cell_type": "markdown",
   "metadata": {},
   "source": [
    "#### add return of investment based on median rents for zipCode"
   ]
  },
  {
   "cell_type": "code",
   "execution_count": 6,
   "metadata": {},
   "outputs": [
    {
     "data": {
      "application/javascript": [
       "\n",
       "            setTimeout(function() {\n",
       "                var nbb_cell_id = 6;\n",
       "                var nbb_unformatted_code = \"g = rent_df.groupby(\\\"zipCode\\\")[\\\"rent_m2\\\"].median()\\ng.name = \\\"rent_m2_zC\\\"\\nrent_m2_zipCode = sale_df.join(g, on=\\\"zipCode\\\").copy()[\\\"rent_m2_zC\\\"]\\nsale_df.insert(\\n    loc=sale_df.columns.get_loc(\\\"zipCode\\\") + 1,\\n    column=\\\"rent_m2_zC\\\",\\n    value=rent_m2_zipCode,\\n)\\n\\nyearly_ROI = sale_df[\\\"rent_m2_zC\\\"] * 12 / sale_df[\\\"price_m2\\\"]\\nsale_df.insert(loc=0, column=\\\"yearly_roi\\\", value=yearly_ROI)\";\n",
       "                var nbb_formatted_code = \"g = rent_df.groupby(\\\"zipCode\\\")[\\\"rent_m2\\\"].median()\\ng.name = \\\"rent_m2_zC\\\"\\nrent_m2_zipCode = sale_df.join(g, on=\\\"zipCode\\\").copy()[\\\"rent_m2_zC\\\"]\\nsale_df.insert(\\n    loc=sale_df.columns.get_loc(\\\"zipCode\\\") + 1,\\n    column=\\\"rent_m2_zC\\\",\\n    value=rent_m2_zipCode,\\n)\\n\\nyearly_ROI = sale_df[\\\"rent_m2_zC\\\"] * 12 / sale_df[\\\"price_m2\\\"]\\nsale_df.insert(loc=0, column=\\\"yearly_roi\\\", value=yearly_ROI)\";\n",
       "                var nbb_cells = Jupyter.notebook.get_cells();\n",
       "                for (var i = 0; i < nbb_cells.length; ++i) {\n",
       "                    if (nbb_cells[i].input_prompt_number == nbb_cell_id) {\n",
       "                        if (nbb_cells[i].get_text() == nbb_unformatted_code) {\n",
       "                             nbb_cells[i].set_text(nbb_formatted_code);\n",
       "                        }\n",
       "                        break;\n",
       "                    }\n",
       "                }\n",
       "            }, 500);\n",
       "            "
      ],
      "text/plain": [
       "<IPython.core.display.Javascript object>"
      ]
     },
     "metadata": {},
     "output_type": "display_data"
    }
   ],
   "source": [
    "g = rent_df.groupby(\"zipCode\")[\"rent_m2\"].median()\n",
    "g.name = \"rent_m2_zC\"\n",
    "rent_m2_zipCode = sale_df.join(g, on=\"zipCode\").copy()[\"rent_m2_zC\"]\n",
    "sale_df.insert(\n",
    "    loc=sale_df.columns.get_loc(\"zipCode\") + 1,\n",
    "    column=\"rent_m2_zC\",\n",
    "    value=rent_m2_zipCode,\n",
    ")\n",
    "\n",
    "yearly_ROI = sale_df[\"rent_m2_zC\"] * 12 / sale_df[\"price_m2\"]\n",
    "sale_df.insert(loc=0, column=\"yearly_roi\", value=yearly_ROI)"
   ]
  },
  {
   "cell_type": "markdown",
   "metadata": {},
   "source": [
    "#### remove nans, infs and zeros:"
   ]
  },
  {
   "cell_type": "code",
   "execution_count": 7,
   "metadata": {},
   "outputs": [
    {
     "data": {
      "application/javascript": [
       "\n",
       "            setTimeout(function() {\n",
       "                var nbb_cell_id = 7;\n",
       "                var nbb_unformatted_code = \"allowed_nan_percentage_cols = 1\\n\\nrent_df = dproc.remove_nan_inf(rent_df, allowed_nan_percentage_cols)\\nsale_df = dproc.remove_nan_inf(sale_df, allowed_nan_percentage_cols)\\n\\nrent_df = rent_df[(rent_df[\\\"baseRent\\\"] != 0)]\\nsale_df = sale_df[(sale_df[\\\"purchasePrice\\\"] != 0)]\";\n",
       "                var nbb_formatted_code = \"allowed_nan_percentage_cols = 1\\n\\nrent_df = dproc.remove_nan_inf(rent_df, allowed_nan_percentage_cols)\\nsale_df = dproc.remove_nan_inf(sale_df, allowed_nan_percentage_cols)\\n\\nrent_df = rent_df[(rent_df[\\\"baseRent\\\"] != 0)]\\nsale_df = sale_df[(sale_df[\\\"purchasePrice\\\"] != 0)]\";\n",
       "                var nbb_cells = Jupyter.notebook.get_cells();\n",
       "                for (var i = 0; i < nbb_cells.length; ++i) {\n",
       "                    if (nbb_cells[i].input_prompt_number == nbb_cell_id) {\n",
       "                        if (nbb_cells[i].get_text() == nbb_unformatted_code) {\n",
       "                             nbb_cells[i].set_text(nbb_formatted_code);\n",
       "                        }\n",
       "                        break;\n",
       "                    }\n",
       "                }\n",
       "            }, 500);\n",
       "            "
      ],
      "text/plain": [
       "<IPython.core.display.Javascript object>"
      ]
     },
     "metadata": {},
     "output_type": "display_data"
    }
   ],
   "source": [
    "allowed_nan_percentage_cols = 1\n",
    "\n",
    "rent_df = dproc.remove_nan_inf(rent_df, allowed_nan_percentage_cols)\n",
    "sale_df = dproc.remove_nan_inf(sale_df, allowed_nan_percentage_cols)\n",
    "\n",
    "rent_df = rent_df[(rent_df[\"baseRent\"] != 0)]\n",
    "sale_df = sale_df[(sale_df[\"purchasePrice\"] != 0)]"
   ]
  },
  {
   "cell_type": "markdown",
   "metadata": {},
   "source": [
    "#### add combined dataframe with median rents and prices:"
   ]
  },
  {
   "cell_type": "code",
   "execution_count": 8,
   "metadata": {},
   "outputs": [
    {
     "data": {
      "application/javascript": [
       "\n",
       "            setTimeout(function() {\n",
       "                var nbb_cell_id = 8;\n",
       "                var nbb_unformatted_code = \"group = \\\"zipCode\\\"\\n\\ncombined_df = pd.concat(\\n    [\\n        rent_df.groupby(group)[\\\"rent_m2\\\"].median(),\\n        rent_df.groupby(group)[\\\"rent_m2\\\"].size(),\\n        sale_df.groupby(group)[\\\"price_m2\\\"].median(),\\n        sale_df.groupby(group)[\\\"price_m2\\\"].size(),\\n        sale_df.groupby(group)[\\\"yearly_roi\\\"].median(),\\n    ],\\n    axis=1,\\n    keys=[\\n        \\\"median_rent_m2\\\",\\n        \\\"num_rent\\\",\\n        \\\"median_price_m2\\\",\\n        \\\"num_sale\\\",\\n        \\\"median_yearly_roi\\\",\\n    ],\\n).copy()\\n\\ncombined_df = combined_df.replace([np.inf, -np.inf], np.nan)\\ncombined_df = combined_df.dropna()\";\n",
       "                var nbb_formatted_code = \"group = \\\"zipCode\\\"\\n\\ncombined_df = pd.concat(\\n    [\\n        rent_df.groupby(group)[\\\"rent_m2\\\"].median(),\\n        rent_df.groupby(group)[\\\"rent_m2\\\"].size(),\\n        sale_df.groupby(group)[\\\"price_m2\\\"].median(),\\n        sale_df.groupby(group)[\\\"price_m2\\\"].size(),\\n        sale_df.groupby(group)[\\\"yearly_roi\\\"].median(),\\n    ],\\n    axis=1,\\n    keys=[\\n        \\\"median_rent_m2\\\",\\n        \\\"num_rent\\\",\\n        \\\"median_price_m2\\\",\\n        \\\"num_sale\\\",\\n        \\\"median_yearly_roi\\\",\\n    ],\\n).copy()\\n\\ncombined_df = combined_df.replace([np.inf, -np.inf], np.nan)\\ncombined_df = combined_df.dropna()\";\n",
       "                var nbb_cells = Jupyter.notebook.get_cells();\n",
       "                for (var i = 0; i < nbb_cells.length; ++i) {\n",
       "                    if (nbb_cells[i].input_prompt_number == nbb_cell_id) {\n",
       "                        if (nbb_cells[i].get_text() == nbb_unformatted_code) {\n",
       "                             nbb_cells[i].set_text(nbb_formatted_code);\n",
       "                        }\n",
       "                        break;\n",
       "                    }\n",
       "                }\n",
       "            }, 500);\n",
       "            "
      ],
      "text/plain": [
       "<IPython.core.display.Javascript object>"
      ]
     },
     "metadata": {},
     "output_type": "display_data"
    }
   ],
   "source": [
    "group = \"zipCode\"\n",
    "\n",
    "combined_df = pd.concat(\n",
    "    [\n",
    "        rent_df.groupby(group)[\"rent_m2\"].median(),\n",
    "        rent_df.groupby(group)[\"rent_m2\"].size(),\n",
    "        sale_df.groupby(group)[\"price_m2\"].median(),\n",
    "        sale_df.groupby(group)[\"price_m2\"].size(),\n",
    "        sale_df.groupby(group)[\"yearly_roi\"].median(),\n",
    "    ],\n",
    "    axis=1,\n",
    "    keys=[\n",
    "        \"median_rent_m2\",\n",
    "        \"num_rent\",\n",
    "        \"median_price_m2\",\n",
    "        \"num_sale\",\n",
    "        \"median_yearly_roi\",\n",
    "    ],\n",
    ").copy()\n",
    "\n",
    "combined_df = combined_df.replace([np.inf, -np.inf], np.nan)\n",
    "combined_df = combined_df.dropna()"
   ]
  },
  {
   "cell_type": "markdown",
   "metadata": {},
   "source": [
    "## 2) Outlier detection apartments for sale"
   ]
  },
  {
   "cell_type": "markdown",
   "metadata": {},
   "source": [
    "### 2.1) Normalize the data"
   ]
  },
  {
   "cell_type": "markdown",
   "metadata": {},
   "source": [
    "#### Distribution of living space and prices:"
   ]
  },
  {
   "cell_type": "code",
   "execution_count": 9,
   "metadata": {},
   "outputs": [
    {
     "data": {
      "image/png": "[encoded data removed]",
      "text/plain": [
       "<Figure size 910x325 with 2 Axes>"
      ]
     },
     "metadata": {
      "needs_background": "light"
     },
     "output_type": "display_data"
    },
    {
     "data": {
      "application/javascript": [
       "\n",
       "            setTimeout(function() {\n",
       "                var nbb_cell_id = 9;\n",
       "                var nbb_unformatted_code = \"sale_df[[\\\"livingSpace\\\", \\\"purchasePrice\\\"]][\\n    (sale_df[\\\"purchasePrice\\\"] < 1e6) & (sale_df[\\\"livingSpace\\\"] < 500)\\n].hist(bins=100, figsize=(7, 2.5))\\npass\";\n",
       "                var nbb_formatted_code = \"sale_df[[\\\"livingSpace\\\", \\\"purchasePrice\\\"]][\\n    (sale_df[\\\"purchasePrice\\\"] < 1e6) & (sale_df[\\\"livingSpace\\\"] < 500)\\n].hist(bins=100, figsize=(7, 2.5))\\npass\";\n",
       "                var nbb_cells = Jupyter.notebook.get_cells();\n",
       "                for (var i = 0; i < nbb_cells.length; ++i) {\n",
       "                    if (nbb_cells[i].input_prompt_number == nbb_cell_id) {\n",
       "                        if (nbb_cells[i].get_text() == nbb_unformatted_code) {\n",
       "                             nbb_cells[i].set_text(nbb_formatted_code);\n",
       "                        }\n",
       "                        break;\n",
       "                    }\n",
       "                }\n",
       "            }, 500);\n",
       "            "
      ],
      "text/plain": [
       "<IPython.core.display.Javascript object>"
      ]
     },
     "metadata": {},
     "output_type": "display_data"
    }
   ],
   "source": [
    "sale_df[[\"livingSpace\", \"purchasePrice\"]][\n",
    "    (sale_df[\"purchasePrice\"] < 1e6) & (sale_df[\"livingSpace\"] < 500)\n",
    "].hist(bins=100, figsize=(7, 2.5))\n",
    "pass"
   ]
  },
  {
   "cell_type": "markdown",
   "metadata": {},
   "source": [
    "#### Boxcox transformation:"
   ]
  },
  {
   "cell_type": "code",
   "execution_count": 10,
   "metadata": {
    "scrolled": true
   },
   "outputs": [
    {
     "name": "stdout",
     "output_type": "stream",
     "text": [
      "Boxcox parameters\n",
      "livingSpace: lambda = -0.09\n",
      "purchasePrice: lambda = 0.09\n"
     ]
    },
    {
     "data": {
      "image/png": "[encoded data removed]",
      "text/plain": [
       "<Figure size 1040x260 with 2 Axes>"
      ]
     },
     "metadata": {
      "needs_background": "light"
     },
     "output_type": "display_data"
    },
    {
     "data": {
      "application/javascript": [
       "\n",
       "            setTimeout(function() {\n",
       "                var nbb_cell_id = 10;\n",
       "                var nbb_unformatted_code = \"x_space, lambda_space = stats.boxcox(sale_df[\\\"livingSpace\\\"])\\nx_price, lambda_price = stats.boxcox(sale_df[\\\"purchasePrice\\\"])\\nX_sale = pd.DataFrame({\\\"livingSpace\\\": x_space, \\\"purchasePrice\\\": x_price})\\nX_sale.hist(bins=50, figsize=(8, 2))\\nprint(\\n    f\\\"Boxcox parameters\\\\nlivingSpace: lambda = {lambda_space:.2f}\\\\npurchasePrice: lambda = {lambda_price:.2f}\\\"\\n)\";\n",
       "                var nbb_formatted_code = \"x_space, lambda_space = stats.boxcox(sale_df[\\\"livingSpace\\\"])\\nx_price, lambda_price = stats.boxcox(sale_df[\\\"purchasePrice\\\"])\\nX_sale = pd.DataFrame({\\\"livingSpace\\\": x_space, \\\"purchasePrice\\\": x_price})\\nX_sale.hist(bins=50, figsize=(8, 2))\\nprint(\\n    f\\\"Boxcox parameters\\\\nlivingSpace: lambda = {lambda_space:.2f}\\\\npurchasePrice: lambda = {lambda_price:.2f}\\\"\\n)\";\n",
       "                var nbb_cells = Jupyter.notebook.get_cells();\n",
       "                for (var i = 0; i < nbb_cells.length; ++i) {\n",
       "                    if (nbb_cells[i].input_prompt_number == nbb_cell_id) {\n",
       "                        if (nbb_cells[i].get_text() == nbb_unformatted_code) {\n",
       "                             nbb_cells[i].set_text(nbb_formatted_code);\n",
       "                        }\n",
       "                        break;\n",
       "                    }\n",
       "                }\n",
       "            }, 500);\n",
       "            "
      ],
      "text/plain": [
       "<IPython.core.display.Javascript object>"
      ]
     },
     "metadata": {},
     "output_type": "display_data"
    }
   ],
   "source": [
    "x_space, lambda_space = stats.boxcox(sale_df[\"livingSpace\"])\n",
    "x_price, lambda_price = stats.boxcox(sale_df[\"purchasePrice\"])\n",
    "X_sale = pd.DataFrame({\"livingSpace\": x_space, \"purchasePrice\": x_price})\n",
    "X_sale.hist(bins=50, figsize=(8, 2))\n",
    "print(\n",
    "    f\"Boxcox parameters\\nlivingSpace: lambda = {lambda_space:.2f}\\npurchasePrice: lambda = {lambda_price:.2f}\"\n",
    ")"
   ]
  },
  {
   "cell_type": "markdown",
   "metadata": {},
   "source": [
    "#### Assumed ratio of outliers:"
   ]
  },
  {
   "cell_type": "code",
   "execution_count": 11,
   "metadata": {},
   "outputs": [
    {
     "data": {
      "application/javascript": [
       "\n",
       "            setTimeout(function() {\n",
       "                var nbb_cell_id = 11;\n",
       "                var nbb_unformatted_code = \"contamination = 0.005\";\n",
       "                var nbb_formatted_code = \"contamination = 0.005\";\n",
       "                var nbb_cells = Jupyter.notebook.get_cells();\n",
       "                for (var i = 0; i < nbb_cells.length; ++i) {\n",
       "                    if (nbb_cells[i].input_prompt_number == nbb_cell_id) {\n",
       "                        if (nbb_cells[i].get_text() == nbb_unformatted_code) {\n",
       "                             nbb_cells[i].set_text(nbb_formatted_code);\n",
       "                        }\n",
       "                        break;\n",
       "                    }\n",
       "                }\n",
       "            }, 500);\n",
       "            "
      ],
      "text/plain": [
       "<IPython.core.display.Javascript object>"
      ]
     },
     "metadata": {},
     "output_type": "display_data"
    }
   ],
   "source": [
    "contamination = 0.005"
   ]
  },
  {
   "cell_type": "markdown",
   "metadata": {},
   "source": [
    "### 2.2) Gaussian Elliptic Envelope"
   ]
  },
  {
   "cell_type": "code",
   "execution_count": 12,
   "metadata": {},
   "outputs": [
    {
     "name": "stdout",
     "output_type": "stream",
     "text": [
      "Elapsed time: 8.51s\n"
     ]
    },
    {
     "data": {
      "application/javascript": [
       "\n",
       "            setTimeout(function() {\n",
       "                var nbb_cell_id = 12;\n",
       "                var nbb_unformatted_code = \"start = timer()\\n\\nsale_outlier = EllipticEnvelope(\\n    contamination=contamination, random_state=42\\n).fit_predict(X_sale)\\nsale_inlier_df = sale_df[(sale_outlier == 1)]\\nsale_outlier_df = sale_df[(sale_outlier == -1)]\\n\\nend = timer()\\nprint(f\\\"Elapsed time: {np.round(end - start,2)}s\\\")\";\n",
       "                var nbb_formatted_code = \"start = timer()\\n\\nsale_outlier = EllipticEnvelope(\\n    contamination=contamination, random_state=42\\n).fit_predict(X_sale)\\nsale_inlier_df = sale_df[(sale_outlier == 1)]\\nsale_outlier_df = sale_df[(sale_outlier == -1)]\\n\\nend = timer()\\nprint(f\\\"Elapsed time: {np.round(end - start,2)}s\\\")\";\n",
       "                var nbb_cells = Jupyter.notebook.get_cells();\n",
       "                for (var i = 0; i < nbb_cells.length; ++i) {\n",
       "                    if (nbb_cells[i].input_prompt_number == nbb_cell_id) {\n",
       "                        if (nbb_cells[i].get_text() == nbb_unformatted_code) {\n",
       "                             nbb_cells[i].set_text(nbb_formatted_code);\n",
       "                        }\n",
       "                        break;\n",
       "                    }\n",
       "                }\n",
       "            }, 500);\n",
       "            "
      ],
      "text/plain": [
       "<IPython.core.display.Javascript object>"
      ]
     },
     "metadata": {},
     "output_type": "display_data"
    }
   ],
   "source": [
    "start = timer()\n",
    "\n",
    "sale_outlier = EllipticEnvelope(\n",
    "    contamination=contamination, random_state=42\n",
    ").fit_predict(X_sale)\n",
    "sale_inlier_df = sale_df[(sale_outlier == 1)]\n",
    "sale_outlier_df = sale_df[(sale_outlier == -1)]\n",
    "\n",
    "end = timer()\n",
    "print(f\"Elapsed time: {np.round(end - start,2)}s\")"
   ]
  },
  {
   "cell_type": "code",
   "execution_count": 13,
   "metadata": {},
   "outputs": [
    {
     "data": {
      "image/png": "[encoded data removed]",
      "text/plain": [
       "<Figure size 780x520 with 1 Axes>"
      ]
     },
     "metadata": {
      "needs_background": "light"
     },
     "output_type": "display_data"
    },
    {
     "data": {
      "application/javascript": [
       "\n",
       "            setTimeout(function() {\n",
       "                var nbb_cell_id = 13;\n",
       "                var nbb_unformatted_code = \"fig, ax = plt.subplots()\\nsale_outlier_df.plot.scatter(\\n    x=\\\"livingSpace\\\",\\n    y=\\\"purchasePrice\\\",\\n    loglog=True,\\n    title=\\\"Outlier detection sale\\\",\\n    color=\\\"C1\\\",\\n    label=\\\"Outlier\\\",\\n    s=10,\\n    ax=ax,\\n)\\nsale_inlier_df.plot.scatter(\\n    x=\\\"livingSpace\\\", y=\\\"purchasePrice\\\", color=\\\"C0\\\", label=\\\"Inlier\\\", s=10, ax=ax\\n)\\nfig.savefig(\\\"sale_outlier.png\\\")\";\n",
       "                var nbb_formatted_code = \"fig, ax = plt.subplots()\\nsale_outlier_df.plot.scatter(\\n    x=\\\"livingSpace\\\",\\n    y=\\\"purchasePrice\\\",\\n    loglog=True,\\n    title=\\\"Outlier detection sale\\\",\\n    color=\\\"C1\\\",\\n    label=\\\"Outlier\\\",\\n    s=10,\\n    ax=ax,\\n)\\nsale_inlier_df.plot.scatter(\\n    x=\\\"livingSpace\\\", y=\\\"purchasePrice\\\", color=\\\"C0\\\", label=\\\"Inlier\\\", s=10, ax=ax\\n)\\nfig.savefig(\\\"sale_outlier.png\\\")\";\n",
       "                var nbb_cells = Jupyter.notebook.get_cells();\n",
       "                for (var i = 0; i < nbb_cells.length; ++i) {\n",
       "                    if (nbb_cells[i].input_prompt_number == nbb_cell_id) {\n",
       "                        if (nbb_cells[i].get_text() == nbb_unformatted_code) {\n",
       "                             nbb_cells[i].set_text(nbb_formatted_code);\n",
       "                        }\n",
       "                        break;\n",
       "                    }\n",
       "                }\n",
       "            }, 500);\n",
       "            "
      ],
      "text/plain": [
       "<IPython.core.display.Javascript object>"
      ]
     },
     "metadata": {},
     "output_type": "display_data"
    }
   ],
   "source": [
    "fig, ax = plt.subplots()\n",
    "sale_outlier_df.plot.scatter(\n",
    "    x=\"livingSpace\",\n",
    "    y=\"purchasePrice\",\n",
    "    loglog=True,\n",
    "    title=\"Outlier detection sale\",\n",
    "    color=\"C1\",\n",
    "    label=\"Outlier\",\n",
    "    s=10,\n",
    "    ax=ax,\n",
    ")\n",
    "sale_inlier_df.plot.scatter(\n",
    "    x=\"livingSpace\", y=\"purchasePrice\", color=\"C0\", label=\"Inlier\", s=10, ax=ax\n",
    ")\n",
    "fig.savefig(\"sale_outlier.png\")"
   ]
  },
  {
   "cell_type": "markdown",
   "metadata": {},
   "source": [
    "## 3) Finding foreclosures with clustering - to be implemented"
   ]
  },
  {
   "cell_type": "markdown",
   "metadata": {},
   "source": [
    "https://scikit-learn.org/stable/modules/clustering.html"
   ]
  },
  {
   "cell_type": "code",
   "execution_count": 14,
   "metadata": {},
   "outputs": [
    {
     "data": {
      "image/png": "[encoded data removed]",
      "text/plain": [
       "<Figure size 780x520 with 1 Axes>"
      ]
     },
     "metadata": {
      "needs_background": "light"
     },
     "output_type": "display_data"
    },
    {
     "data": {
      "application/javascript": [
       "\n",
       "            setTimeout(function() {\n",
       "                var nbb_cell_id = 14;\n",
       "                var nbb_unformatted_code = \"sale_inlier_df.plot.scatter(\\n    x=\\\"rent_m2_zC\\\", y=\\\"price_m2\\\", title=\\\"Inlier sale\\\", loglog=False, s=1\\n)\\npass\";\n",
       "                var nbb_formatted_code = \"sale_inlier_df.plot.scatter(\\n    x=\\\"rent_m2_zC\\\", y=\\\"price_m2\\\", title=\\\"Inlier sale\\\", loglog=False, s=1\\n)\\npass\";\n",
       "                var nbb_cells = Jupyter.notebook.get_cells();\n",
       "                for (var i = 0; i < nbb_cells.length; ++i) {\n",
       "                    if (nbb_cells[i].input_prompt_number == nbb_cell_id) {\n",
       "                        if (nbb_cells[i].get_text() == nbb_unformatted_code) {\n",
       "                             nbb_cells[i].set_text(nbb_formatted_code);\n",
       "                        }\n",
       "                        break;\n",
       "                    }\n",
       "                }\n",
       "            }, 500);\n",
       "            "
      ],
      "text/plain": [
       "<IPython.core.display.Javascript object>"
      ]
     },
     "metadata": {},
     "output_type": "display_data"
    }
   ],
   "source": [
    "sale_inlier_df.plot.scatter(\n",
    "    x=\"rent_m2_zC\", y=\"price_m2\", title=\"Inlier sale\", loglog=False, s=1\n",
    ")\n",
    "pass"
   ]
  },
  {
   "cell_type": "markdown",
   "metadata": {},
   "source": [
    "## 4) Results"
   ]
  },
  {
   "cell_type": "markdown",
   "metadata": {},
   "source": [
    "### 4.1) Best roi nationally"
   ]
  },
  {
   "cell_type": "markdown",
   "metadata": {},
   "source": [
    "#### Outlier:"
   ]
  },
  {
   "cell_type": "code",
   "execution_count": 15,
   "metadata": {
    "scrolled": false
   },
   "outputs": [
    {
     "data": {
      "text/html": [
       "<style  type=\"text/css\" >\n",
       "</style><table id=\"T_8dd6da1e_d1bc_11ea_9870_a820662273d6\" ><thead>    <tr>        <th class=\"blank level0\" ></th>        <th class=\"col_heading level0 col0\" >yearly_roi</th>        <th class=\"col_heading level0 col1\" >price_m2</th>        <th class=\"col_heading level0 col2\" >purchasePrice</th>        <th class=\"col_heading level0 col3\" >livingSpace</th>        <th class=\"col_heading level0 col4\" >noRooms</th>        <th class=\"col_heading level0 col5\" >zipCode</th>        <th class=\"col_heading level0 col6\" >rent_m2_zC</th>        <th class=\"col_heading level0 col7\" >regio2</th>        <th class=\"col_heading level0 col8\" >link</th>    </tr></thead><tbody>\n",
       "                <tr>\n",
       "                        <th id=\"T_8dd6da1e_d1bc_11ea_9870_a820662273d6level0_row0\" class=\"row_heading level0 row0\" >30512</th>\n",
       "                        <td id=\"T_8dd6da1e_d1bc_11ea_9870_a820662273d6row0_col0\" class=\"data row0 col0\" >13721.54</td>\n",
       "                        <td id=\"T_8dd6da1e_d1bc_11ea_9870_a820662273d6row0_col1\" class=\"data row0 col1\" >0.01</td>\n",
       "                        <td id=\"T_8dd6da1e_d1bc_11ea_9870_a820662273d6row0_col2\" class=\"data row0 col2\" >1.00</td>\n",
       "                        <td id=\"T_8dd6da1e_d1bc_11ea_9870_a820662273d6row0_col3\" class=\"data row0 col3\" >133.00</td>\n",
       "                        <td id=\"T_8dd6da1e_d1bc_11ea_9870_a820662273d6row0_col4\" class=\"data row0 col4\" >3.00</td>\n",
       "                        <td id=\"T_8dd6da1e_d1bc_11ea_9870_a820662273d6row0_col5\" class=\"data row0 col5\" >27793</td>\n",
       "                        <td id=\"T_8dd6da1e_d1bc_11ea_9870_a820662273d6row0_col6\" class=\"data row0 col6\" >8.60</td>\n",
       "                        <td id=\"T_8dd6da1e_d1bc_11ea_9870_a820662273d6row0_col7\" class=\"data row0 col7\" >Oldenburg_Kreis</td>\n",
       "                        <td id=\"T_8dd6da1e_d1bc_11ea_9870_a820662273d6row0_col8\" class=\"data row0 col8\" ><a target=\"_blank\" href=\"https://www.immobilienscout24.de/expose/116978696\">https://www.immobilienscout24.de/expose/116978696</a></td>\n",
       "            </tr>\n",
       "            <tr>\n",
       "                        <th id=\"T_8dd6da1e_d1bc_11ea_9870_a820662273d6level0_row1\" class=\"row_heading level0 row1\" >20211</th>\n",
       "                        <td id=\"T_8dd6da1e_d1bc_11ea_9870_a820662273d6row1_col0\" class=\"data row1 col0\" >9216.00</td>\n",
       "                        <td id=\"T_8dd6da1e_d1bc_11ea_9870_a820662273d6row1_col1\" class=\"data row1 col1\" >0.01</td>\n",
       "                        <td id=\"T_8dd6da1e_d1bc_11ea_9870_a820662273d6row1_col2\" class=\"data row1 col2\" >1.00</td>\n",
       "                        <td id=\"T_8dd6da1e_d1bc_11ea_9870_a820662273d6row1_col3\" class=\"data row1 col3\" >96.00</td>\n",
       "                        <td id=\"T_8dd6da1e_d1bc_11ea_9870_a820662273d6row1_col4\" class=\"data row1 col4\" >2.50</td>\n",
       "                        <td id=\"T_8dd6da1e_d1bc_11ea_9870_a820662273d6row1_col5\" class=\"data row1 col5\" >94086</td>\n",
       "                        <td id=\"T_8dd6da1e_d1bc_11ea_9870_a820662273d6row1_col6\" class=\"data row1 col6\" >8.00</td>\n",
       "                        <td id=\"T_8dd6da1e_d1bc_11ea_9870_a820662273d6row1_col7\" class=\"data row1 col7\" >Passau_Kreis</td>\n",
       "                        <td id=\"T_8dd6da1e_d1bc_11ea_9870_a820662273d6row1_col8\" class=\"data row1 col8\" ><a target=\"_blank\" href=\"https://www.immobilienscout24.de/expose/113604599\">https://www.immobilienscout24.de/expose/113604599</a></td>\n",
       "            </tr>\n",
       "            <tr>\n",
       "                        <th id=\"T_8dd6da1e_d1bc_11ea_9870_a820662273d6level0_row2\" class=\"row_heading level0 row2\" >23147</th>\n",
       "                        <td id=\"T_8dd6da1e_d1bc_11ea_9870_a820662273d6row2_col0\" class=\"data row2 col0\" >58.18</td>\n",
       "                        <td id=\"T_8dd6da1e_d1bc_11ea_9870_a820662273d6row2_col1\" class=\"data row2 col1\" >1.19</td>\n",
       "                        <td id=\"T_8dd6da1e_d1bc_11ea_9870_a820662273d6row2_col2\" class=\"data row2 col2\" >51.00</td>\n",
       "                        <td id=\"T_8dd6da1e_d1bc_11ea_9870_a820662273d6row2_col3\" class=\"data row2 col3\" >43.00</td>\n",
       "                        <td id=\"T_8dd6da1e_d1bc_11ea_9870_a820662273d6row2_col4\" class=\"data row2 col4\" >2.00</td>\n",
       "                        <td id=\"T_8dd6da1e_d1bc_11ea_9870_a820662273d6row2_col5\" class=\"data row2 col5\" >42899</td>\n",
       "                        <td id=\"T_8dd6da1e_d1bc_11ea_9870_a820662273d6row2_col6\" class=\"data row2 col6\" >5.75</td>\n",
       "                        <td id=\"T_8dd6da1e_d1bc_11ea_9870_a820662273d6row2_col7\" class=\"data row2 col7\" >Remscheid</td>\n",
       "                        <td id=\"T_8dd6da1e_d1bc_11ea_9870_a820662273d6row2_col8\" class=\"data row2 col8\" ><a target=\"_blank\" href=\"https://www.immobilienscout24.de/expose/120736748\">https://www.immobilienscout24.de/expose/120736748</a></td>\n",
       "            </tr>\n",
       "            <tr>\n",
       "                        <th id=\"T_8dd6da1e_d1bc_11ea_9870_a820662273d6level0_row3\" class=\"row_heading level0 row3\" >35198</th>\n",
       "                        <td id=\"T_8dd6da1e_d1bc_11ea_9870_a820662273d6row3_col0\" class=\"data row3 col0\" >4.07</td>\n",
       "                        <td id=\"T_8dd6da1e_d1bc_11ea_9870_a820662273d6row3_col1\" class=\"data row3 col1\" >26.67</td>\n",
       "                        <td id=\"T_8dd6da1e_d1bc_11ea_9870_a820662273d6row3_col2\" class=\"data row3 col2\" >800.00</td>\n",
       "                        <td id=\"T_8dd6da1e_d1bc_11ea_9870_a820662273d6row3_col3\" class=\"data row3 col3\" >30.00</td>\n",
       "                        <td id=\"T_8dd6da1e_d1bc_11ea_9870_a820662273d6row3_col4\" class=\"data row3 col4\" >1.00</td>\n",
       "                        <td id=\"T_8dd6da1e_d1bc_11ea_9870_a820662273d6row3_col5\" class=\"data row3 col5\" >49152</td>\n",
       "                        <td id=\"T_8dd6da1e_d1bc_11ea_9870_a820662273d6row3_col6\" class=\"data row3 col6\" >9.03</td>\n",
       "                        <td id=\"T_8dd6da1e_d1bc_11ea_9870_a820662273d6row3_col7\" class=\"data row3 col7\" >Osnabrück_Kreis</td>\n",
       "                        <td id=\"T_8dd6da1e_d1bc_11ea_9870_a820662273d6row3_col8\" class=\"data row3 col8\" ><a target=\"_blank\" href=\"https://www.immobilienscout24.de/expose/105011041\">https://www.immobilienscout24.de/expose/105011041</a></td>\n",
       "            </tr>\n",
       "            <tr>\n",
       "                        <th id=\"T_8dd6da1e_d1bc_11ea_9870_a820662273d6level0_row4\" class=\"row_heading level0 row4\" >35233</th>\n",
       "                        <td id=\"T_8dd6da1e_d1bc_11ea_9870_a820662273d6row4_col0\" class=\"data row4 col0\" >3.21</td>\n",
       "                        <td id=\"T_8dd6da1e_d1bc_11ea_9870_a820662273d6row4_col1\" class=\"data row4 col1\" >18.68</td>\n",
       "                        <td id=\"T_8dd6da1e_d1bc_11ea_9870_a820662273d6row4_col2\" class=\"data row4 col2\" >1850000.00</td>\n",
       "                        <td id=\"T_8dd6da1e_d1bc_11ea_9870_a820662273d6row4_col3\" class=\"data row4 col3\" >99015.00</td>\n",
       "                        <td id=\"T_8dd6da1e_d1bc_11ea_9870_a820662273d6row4_col4\" class=\"data row4 col4\" >1.00</td>\n",
       "                        <td id=\"T_8dd6da1e_d1bc_11ea_9870_a820662273d6row4_col5\" class=\"data row4 col5\" >6385</td>\n",
       "                        <td id=\"T_8dd6da1e_d1bc_11ea_9870_a820662273d6row4_col6\" class=\"data row4 col6\" >5.00</td>\n",
       "                        <td id=\"T_8dd6da1e_d1bc_11ea_9870_a820662273d6row4_col7\" class=\"data row4 col7\" >Anhalt_Bitterfeld_Kreis</td>\n",
       "                        <td id=\"T_8dd6da1e_d1bc_11ea_9870_a820662273d6row4_col8\" class=\"data row4 col8\" ><a target=\"_blank\" href=\"https://www.immobilienscout24.de/expose/104440723\">https://www.immobilienscout24.de/expose/104440723</a></td>\n",
       "            </tr>\n",
       "    </tbody></table>"
      ],
      "text/plain": [
       "<pandas.io.formats.style.Styler at 0x12f4c0d30>"
      ]
     },
     "execution_count": 15,
     "metadata": {},
     "output_type": "execute_result"
    },
    {
     "data": {
      "application/javascript": [
       "\n",
       "            setTimeout(function() {\n",
       "                var nbb_cell_id = 15;\n",
       "                var nbb_unformatted_code = \"df_show = sale_outlier_df.sort_values(\\\"yearly_roi\\\", ascending=False).head(5)\\ndf_show.style.format({\\\"link\\\": dproc.make_clickable})\";\n",
       "                var nbb_formatted_code = \"df_show = sale_outlier_df.sort_values(\\\"yearly_roi\\\", ascending=False).head(5)\\ndf_show.style.format({\\\"link\\\": dproc.make_clickable})\";\n",
       "                var nbb_cells = Jupyter.notebook.get_cells();\n",
       "                for (var i = 0; i < nbb_cells.length; ++i) {\n",
       "                    if (nbb_cells[i].input_prompt_number == nbb_cell_id) {\n",
       "                        if (nbb_cells[i].get_text() == nbb_unformatted_code) {\n",
       "                             nbb_cells[i].set_text(nbb_formatted_code);\n",
       "                        }\n",
       "                        break;\n",
       "                    }\n",
       "                }\n",
       "            }, 500);\n",
       "            "
      ],
      "text/plain": [
       "<IPython.core.display.Javascript object>"
      ]
     },
     "metadata": {},
     "output_type": "display_data"
    }
   ],
   "source": [
    "df_show = sale_outlier_df.sort_values(\"yearly_roi\", ascending=False).head(5)\n",
    "df_show.style.format({\"link\": dproc.make_clickable})"
   ]
  },
  {
   "cell_type": "markdown",
   "metadata": {},
   "source": [
    "#### Inlier:"
   ]
  },
  {
   "cell_type": "code",
   "execution_count": 16,
   "metadata": {},
   "outputs": [
    {
     "data": {
      "text/html": [
       "<style  type=\"text/css\" >\n",
       "</style><table id=\"T_8ddb2196_d1bc_11ea_9870_a820662273d6\" ><thead>    <tr>        <th class=\"blank level0\" ></th>        <th class=\"col_heading level0 col0\" >yearly_roi</th>        <th class=\"col_heading level0 col1\" >price_m2</th>        <th class=\"col_heading level0 col2\" >purchasePrice</th>        <th class=\"col_heading level0 col3\" >livingSpace</th>        <th class=\"col_heading level0 col4\" >noRooms</th>        <th class=\"col_heading level0 col5\" >zipCode</th>        <th class=\"col_heading level0 col6\" >rent_m2_zC</th>        <th class=\"col_heading level0 col7\" >regio2</th>        <th class=\"col_heading level0 col8\" >link</th>    </tr></thead><tbody>\n",
       "                <tr>\n",
       "                        <th id=\"T_8ddb2196_d1bc_11ea_9870_a820662273d6level0_row0\" class=\"row_heading level0 row0\" >21707</th>\n",
       "                        <td id=\"T_8ddb2196_d1bc_11ea_9870_a820662273d6row0_col0\" class=\"data row0 col0\" >0.44</td>\n",
       "                        <td id=\"T_8ddb2196_d1bc_11ea_9870_a820662273d6row0_col1\" class=\"data row0 col1\" >247.34</td>\n",
       "                        <td id=\"T_8ddb2196_d1bc_11ea_9870_a820662273d6row0_col2\" class=\"data row0 col2\" >13000.00</td>\n",
       "                        <td id=\"T_8ddb2196_d1bc_11ea_9870_a820662273d6row0_col3\" class=\"data row0 col3\" >52.56</td>\n",
       "                        <td id=\"T_8ddb2196_d1bc_11ea_9870_a820662273d6row0_col4\" class=\"data row0 col4\" >3.00</td>\n",
       "                        <td id=\"T_8ddb2196_d1bc_11ea_9870_a820662273d6row0_col5\" class=\"data row0 col5\" >25813</td>\n",
       "                        <td id=\"T_8ddb2196_d1bc_11ea_9870_a820662273d6row0_col6\" class=\"data row0 col6\" >9.03</td>\n",
       "                        <td id=\"T_8ddb2196_d1bc_11ea_9870_a820662273d6row0_col7\" class=\"data row0 col7\" >Nordfriesland_Kreis</td>\n",
       "                        <td id=\"T_8ddb2196_d1bc_11ea_9870_a820662273d6row0_col8\" class=\"data row0 col8\" ><a target=\"_blank\" href=\"https://www.immobilienscout24.de/expose/120939272\">https://www.immobilienscout24.de/expose/120939272</a></td>\n",
       "            </tr>\n",
       "            <tr>\n",
       "                        <th id=\"T_8ddb2196_d1bc_11ea_9870_a820662273d6level0_row1\" class=\"row_heading level0 row1\" >21711</th>\n",
       "                        <td id=\"T_8ddb2196_d1bc_11ea_9870_a820662273d6row1_col0\" class=\"data row1 col0\" >0.41</td>\n",
       "                        <td id=\"T_8ddb2196_d1bc_11ea_9870_a820662273d6row1_col1\" class=\"data row1 col1\" >262.32</td>\n",
       "                        <td id=\"T_8ddb2196_d1bc_11ea_9870_a820662273d6row1_col2\" class=\"data row1 col2\" >14000.00</td>\n",
       "                        <td id=\"T_8ddb2196_d1bc_11ea_9870_a820662273d6row1_col3\" class=\"data row1 col3\" >53.37</td>\n",
       "                        <td id=\"T_8ddb2196_d1bc_11ea_9870_a820662273d6row1_col4\" class=\"data row1 col4\" >3.00</td>\n",
       "                        <td id=\"T_8ddb2196_d1bc_11ea_9870_a820662273d6row1_col5\" class=\"data row1 col5\" >25813</td>\n",
       "                        <td id=\"T_8ddb2196_d1bc_11ea_9870_a820662273d6row1_col6\" class=\"data row1 col6\" >9.03</td>\n",
       "                        <td id=\"T_8ddb2196_d1bc_11ea_9870_a820662273d6row1_col7\" class=\"data row1 col7\" >Nordfriesland_Kreis</td>\n",
       "                        <td id=\"T_8ddb2196_d1bc_11ea_9870_a820662273d6row1_col8\" class=\"data row1 col8\" ><a target=\"_blank\" href=\"https://www.immobilienscout24.de/expose/120939273\">https://www.immobilienscout24.de/expose/120939273</a></td>\n",
       "            </tr>\n",
       "            <tr>\n",
       "                        <th id=\"T_8ddb2196_d1bc_11ea_9870_a820662273d6level0_row2\" class=\"row_heading level0 row2\" >21703</th>\n",
       "                        <td id=\"T_8ddb2196_d1bc_11ea_9870_a820662273d6row2_col0\" class=\"data row2 col0\" >0.41</td>\n",
       "                        <td id=\"T_8ddb2196_d1bc_11ea_9870_a820662273d6row2_col1\" class=\"data row2 col1\" >264.75</td>\n",
       "                        <td id=\"T_8ddb2196_d1bc_11ea_9870_a820662273d6row2_col2\" class=\"data row2 col2\" >14000.00</td>\n",
       "                        <td id=\"T_8ddb2196_d1bc_11ea_9870_a820662273d6row2_col3\" class=\"data row2 col3\" >52.88</td>\n",
       "                        <td id=\"T_8ddb2196_d1bc_11ea_9870_a820662273d6row2_col4\" class=\"data row2 col4\" >3.00</td>\n",
       "                        <td id=\"T_8ddb2196_d1bc_11ea_9870_a820662273d6row2_col5\" class=\"data row2 col5\" >25813</td>\n",
       "                        <td id=\"T_8ddb2196_d1bc_11ea_9870_a820662273d6row2_col6\" class=\"data row2 col6\" >9.03</td>\n",
       "                        <td id=\"T_8ddb2196_d1bc_11ea_9870_a820662273d6row2_col7\" class=\"data row2 col7\" >Nordfriesland_Kreis</td>\n",
       "                        <td id=\"T_8ddb2196_d1bc_11ea_9870_a820662273d6row2_col8\" class=\"data row2 col8\" ><a target=\"_blank\" href=\"https://www.immobilienscout24.de/expose/120939274\">https://www.immobilienscout24.de/expose/120939274</a></td>\n",
       "            </tr>\n",
       "            <tr>\n",
       "                        <th id=\"T_8ddb2196_d1bc_11ea_9870_a820662273d6level0_row3\" class=\"row_heading level0 row3\" >15250</th>\n",
       "                        <td id=\"T_8ddb2196_d1bc_11ea_9870_a820662273d6row3_col0\" class=\"data row3 col0\" >0.31</td>\n",
       "                        <td id=\"T_8ddb2196_d1bc_11ea_9870_a820662273d6row3_col1\" class=\"data row3 col1\" >752.65</td>\n",
       "                        <td id=\"T_8ddb2196_d1bc_11ea_9870_a820662273d6row3_col2\" class=\"data row3 col2\" >44000.00</td>\n",
       "                        <td id=\"T_8ddb2196_d1bc_11ea_9870_a820662273d6row3_col3\" class=\"data row3 col3\" >58.46</td>\n",
       "                        <td id=\"T_8ddb2196_d1bc_11ea_9870_a820662273d6row3_col4\" class=\"data row3 col4\" >3.00</td>\n",
       "                        <td id=\"T_8ddb2196_d1bc_11ea_9870_a820662273d6row3_col5\" class=\"data row3 col5\" >15295</td>\n",
       "                        <td id=\"T_8ddb2196_d1bc_11ea_9870_a820662273d6row3_col6\" class=\"data row3 col6\" >19.71</td>\n",
       "                        <td id=\"T_8ddb2196_d1bc_11ea_9870_a820662273d6row3_col7\" class=\"data row3 col7\" >Oder_Spree_Kreis</td>\n",
       "                        <td id=\"T_8ddb2196_d1bc_11ea_9870_a820662273d6row3_col8\" class=\"data row3 col8\" ><a target=\"_blank\" href=\"https://www.immobilienscout24.de/expose/120190369\">https://www.immobilienscout24.de/expose/120190369</a></td>\n",
       "            </tr>\n",
       "            <tr>\n",
       "                        <th id=\"T_8ddb2196_d1bc_11ea_9870_a820662273d6level0_row4\" class=\"row_heading level0 row4\" >35469</th>\n",
       "                        <td id=\"T_8ddb2196_d1bc_11ea_9870_a820662273d6row4_col0\" class=\"data row4 col0\" >0.29</td>\n",
       "                        <td id=\"T_8ddb2196_d1bc_11ea_9870_a820662273d6row4_col1\" class=\"data row4 col1\" >533.63</td>\n",
       "                        <td id=\"T_8ddb2196_d1bc_11ea_9870_a820662273d6row4_col2\" class=\"data row4 col2\" >119000.00</td>\n",
       "                        <td id=\"T_8ddb2196_d1bc_11ea_9870_a820662273d6row4_col3\" class=\"data row4 col3\" >223.00</td>\n",
       "                        <td id=\"T_8ddb2196_d1bc_11ea_9870_a820662273d6row4_col4\" class=\"data row4 col4\" >6.00</td>\n",
       "                        <td id=\"T_8ddb2196_d1bc_11ea_9870_a820662273d6row4_col5\" class=\"data row4 col5\" >90429</td>\n",
       "                        <td id=\"T_8ddb2196_d1bc_11ea_9870_a820662273d6row4_col6\" class=\"data row4 col6\" >13.11</td>\n",
       "                        <td id=\"T_8ddb2196_d1bc_11ea_9870_a820662273d6row4_col7\" class=\"data row4 col7\" >Nürnberg</td>\n",
       "                        <td id=\"T_8ddb2196_d1bc_11ea_9870_a820662273d6row4_col8\" class=\"data row4 col8\" ><a target=\"_blank\" href=\"https://www.immobilienscout24.de/expose/91497244\">https://www.immobilienscout24.de/expose/91497244</a></td>\n",
       "            </tr>\n",
       "    </tbody></table>"
      ],
      "text/plain": [
       "<pandas.io.formats.style.Styler at 0x11808e340>"
      ]
     },
     "execution_count": 16,
     "metadata": {},
     "output_type": "execute_result"
    },
    {
     "data": {
      "application/javascript": [
       "\n",
       "            setTimeout(function() {\n",
       "                var nbb_cell_id = 16;\n",
       "                var nbb_unformatted_code = \"df_show = sale_inlier_df.sort_values(\\\"yearly_roi\\\", ascending=False).head(5)\\ndf_show.style.format({\\\"link\\\": dproc.make_clickable})\";\n",
       "                var nbb_formatted_code = \"df_show = sale_inlier_df.sort_values(\\\"yearly_roi\\\", ascending=False).head(5)\\ndf_show.style.format({\\\"link\\\": dproc.make_clickable})\";\n",
       "                var nbb_cells = Jupyter.notebook.get_cells();\n",
       "                for (var i = 0; i < nbb_cells.length; ++i) {\n",
       "                    if (nbb_cells[i].input_prompt_number == nbb_cell_id) {\n",
       "                        if (nbb_cells[i].get_text() == nbb_unformatted_code) {\n",
       "                             nbb_cells[i].set_text(nbb_formatted_code);\n",
       "                        }\n",
       "                        break;\n",
       "                    }\n",
       "                }\n",
       "            }, 500);\n",
       "            "
      ],
      "text/plain": [
       "<IPython.core.display.Javascript object>"
      ]
     },
     "metadata": {},
     "output_type": "display_data"
    }
   ],
   "source": [
    "df_show = sale_inlier_df.sort_values(\"yearly_roi\", ascending=False).head(5)\n",
    "df_show.style.format({\"link\": dproc.make_clickable})"
   ]
  },
  {
   "cell_type": "markdown",
   "metadata": {},
   "source": [
    "### 4.2) Apartments by region"
   ]
  },
  {
   "cell_type": "markdown",
   "metadata": {},
   "source": [
    "#### regions overview:"
   ]
  },
  {
   "cell_type": "code",
   "execution_count": 17,
   "metadata": {
    "scrolled": false
   },
   "outputs": [
    {
     "data": {
      "text/html": [
       "<div>\n",
       "<style scoped>\n",
       "    .dataframe tbody tr th:only-of-type {\n",
       "        vertical-align: middle;\n",
       "    }\n",
       "\n",
       "    .dataframe tbody tr th {\n",
       "        vertical-align: top;\n",
       "    }\n",
       "\n",
       "    .dataframe thead th {\n",
       "        text-align: right;\n",
       "    }\n",
       "</style>\n",
       "<table border=\"1\" class=\"dataframe\">\n",
       "  <thead>\n",
       "    <tr style=\"text-align: right;\">\n",
       "      <th></th>\n",
       "      <th>median_rent_m2</th>\n",
       "      <th>num_rent</th>\n",
       "      <th>median_price_m2</th>\n",
       "      <th>num_sale</th>\n",
       "      <th>median_yearly_roi</th>\n",
       "    </tr>\n",
       "    <tr>\n",
       "      <th>zipCode</th>\n",
       "      <th></th>\n",
       "      <th></th>\n",
       "      <th></th>\n",
       "      <th></th>\n",
       "      <th></th>\n",
       "    </tr>\n",
       "  </thead>\n",
       "  <tbody>\n",
       "    <tr>\n",
       "      <th>47169</th>\n",
       "      <td>6.05</td>\n",
       "      <td>54.0</td>\n",
       "      <td>124.66</td>\n",
       "      <td>15.0</td>\n",
       "      <td>0.58</td>\n",
       "    </tr>\n",
       "    <tr>\n",
       "      <th>93449</th>\n",
       "      <td>6.53</td>\n",
       "      <td>4.0</td>\n",
       "      <td>386.36</td>\n",
       "      <td>5.0</td>\n",
       "      <td>0.20</td>\n",
       "    </tr>\n",
       "    <tr>\n",
       "      <th>2827</th>\n",
       "      <td>4.90</td>\n",
       "      <td>60.0</td>\n",
       "      <td>306.21</td>\n",
       "      <td>4.0</td>\n",
       "      <td>0.19</td>\n",
       "    </tr>\n",
       "    <tr>\n",
       "      <th>4613</th>\n",
       "      <td>4.93</td>\n",
       "      <td>7.0</td>\n",
       "      <td>401.68</td>\n",
       "      <td>4.0</td>\n",
       "      <td>0.15</td>\n",
       "    </tr>\n",
       "    <tr>\n",
       "      <th>47229</th>\n",
       "      <td>6.55</td>\n",
       "      <td>28.0</td>\n",
       "      <td>570.55</td>\n",
       "      <td>10.0</td>\n",
       "      <td>0.14</td>\n",
       "    </tr>\n",
       "    <tr>\n",
       "      <th>...</th>\n",
       "      <td>...</td>\n",
       "      <td>...</td>\n",
       "      <td>...</td>\n",
       "      <td>...</td>\n",
       "      <td>...</td>\n",
       "    </tr>\n",
       "    <tr>\n",
       "      <th>83700</th>\n",
       "      <td>16.99</td>\n",
       "      <td>5.0</td>\n",
       "      <td>12692.31</td>\n",
       "      <td>25.0</td>\n",
       "      <td>0.02</td>\n",
       "    </tr>\n",
       "    <tr>\n",
       "      <th>7589</th>\n",
       "      <td>5.06</td>\n",
       "      <td>8.0</td>\n",
       "      <td>3968.10</td>\n",
       "      <td>11.0</td>\n",
       "      <td>0.02</td>\n",
       "    </tr>\n",
       "    <tr>\n",
       "      <th>4328</th>\n",
       "      <td>6.21</td>\n",
       "      <td>35.0</td>\n",
       "      <td>4881.60</td>\n",
       "      <td>41.0</td>\n",
       "      <td>0.02</td>\n",
       "    </tr>\n",
       "    <tr>\n",
       "      <th>23570</th>\n",
       "      <td>9.23</td>\n",
       "      <td>6.0</td>\n",
       "      <td>7475.49</td>\n",
       "      <td>20.0</td>\n",
       "      <td>0.01</td>\n",
       "    </tr>\n",
       "    <tr>\n",
       "      <th>20354</th>\n",
       "      <td>16.49</td>\n",
       "      <td>5.0</td>\n",
       "      <td>14215.39</td>\n",
       "      <td>4.0</td>\n",
       "      <td>0.01</td>\n",
       "    </tr>\n",
       "  </tbody>\n",
       "</table>\n",
       "<p>2158 rows × 5 columns</p>\n",
       "</div>"
      ],
      "text/plain": [
       "         median_rent_m2  num_rent  median_price_m2  num_sale  \\\n",
       "zipCode                                                        \n",
       "47169              6.05      54.0           124.66      15.0   \n",
       "93449              6.53       4.0           386.36       5.0   \n",
       "2827               4.90      60.0           306.21       4.0   \n",
       "4613               4.93       7.0           401.68       4.0   \n",
       "47229              6.55      28.0           570.55      10.0   \n",
       "...                 ...       ...              ...       ...   \n",
       "83700             16.99       5.0         12692.31      25.0   \n",
       "7589               5.06       8.0          3968.10      11.0   \n",
       "4328               6.21      35.0          4881.60      41.0   \n",
       "23570              9.23       6.0          7475.49      20.0   \n",
       "20354             16.49       5.0         14215.39       4.0   \n",
       "\n",
       "         median_yearly_roi  \n",
       "zipCode                     \n",
       "47169                 0.58  \n",
       "93449                 0.20  \n",
       "2827                  0.19  \n",
       "4613                  0.15  \n",
       "47229                 0.14  \n",
       "...                    ...  \n",
       "83700                 0.02  \n",
       "7589                  0.02  \n",
       "4328                  0.02  \n",
       "23570                 0.01  \n",
       "20354                 0.01  \n",
       "\n",
       "[2158 rows x 5 columns]"
      ]
     },
     "execution_count": 17,
     "metadata": {},
     "output_type": "execute_result"
    },
    {
     "data": {
      "application/javascript": [
       "\n",
       "            setTimeout(function() {\n",
       "                var nbb_cell_id = 17;\n",
       "                var nbb_unformatted_code = \"min_num = 3\\n\\ncombined_filt = (combined_df[\\\"num_rent\\\"] > min_num) & (\\n    combined_df[\\\"num_sale\\\"] > min_num\\n)\\ncombined_df[combined_filt].sort_values(\\\"median_yearly_roi\\\", ascending=False)\";\n",
       "                var nbb_formatted_code = \"min_num = 3\\n\\ncombined_filt = (combined_df[\\\"num_rent\\\"] > min_num) & (\\n    combined_df[\\\"num_sale\\\"] > min_num\\n)\\ncombined_df[combined_filt].sort_values(\\\"median_yearly_roi\\\", ascending=False)\";\n",
       "                var nbb_cells = Jupyter.notebook.get_cells();\n",
       "                for (var i = 0; i < nbb_cells.length; ++i) {\n",
       "                    if (nbb_cells[i].input_prompt_number == nbb_cell_id) {\n",
       "                        if (nbb_cells[i].get_text() == nbb_unformatted_code) {\n",
       "                             nbb_cells[i].set_text(nbb_formatted_code);\n",
       "                        }\n",
       "                        break;\n",
       "                    }\n",
       "                }\n",
       "            }, 500);\n",
       "            "
      ],
      "text/plain": [
       "<IPython.core.display.Javascript object>"
      ]
     },
     "metadata": {},
     "output_type": "display_data"
    }
   ],
   "source": [
    "min_num = 3\n",
    "\n",
    "combined_filt = (combined_df[\"num_rent\"] > min_num) & (\n",
    "    combined_df[\"num_sale\"] > min_num\n",
    ")\n",
    "combined_df[combined_filt].sort_values(\"median_yearly_roi\", ascending=False)"
   ]
  },
  {
   "cell_type": "markdown",
   "metadata": {},
   "source": [
    "#### select regions to further inspect:"
   ]
  },
  {
   "cell_type": "code",
   "execution_count": 21,
   "metadata": {},
   "outputs": [
    {
     "data": {
      "text/html": [
       "<div>\n",
       "<style scoped>\n",
       "    .dataframe tbody tr th:only-of-type {\n",
       "        vertical-align: middle;\n",
       "    }\n",
       "\n",
       "    .dataframe tbody tr th {\n",
       "        vertical-align: top;\n",
       "    }\n",
       "\n",
       "    .dataframe thead th {\n",
       "        text-align: right;\n",
       "    }\n",
       "</style>\n",
       "<table border=\"1\" class=\"dataframe\">\n",
       "  <thead>\n",
       "    <tr style=\"text-align: right;\">\n",
       "      <th></th>\n",
       "      <th>median_rent_m2</th>\n",
       "      <th>num_rent</th>\n",
       "      <th>median_price_m2</th>\n",
       "      <th>num_sale</th>\n",
       "      <th>median_yearly_roi</th>\n",
       "    </tr>\n",
       "    <tr>\n",
       "      <th>zipCode</th>\n",
       "      <th></th>\n",
       "      <th></th>\n",
       "      <th></th>\n",
       "      <th></th>\n",
       "      <th></th>\n",
       "    </tr>\n",
       "  </thead>\n",
       "  <tbody>\n",
       "    <tr>\n",
       "      <th>72074</th>\n",
       "      <td>16.67</td>\n",
       "      <td>17.0</td>\n",
       "      <td>4954.84</td>\n",
       "      <td>5.0</td>\n",
       "      <td>0.04</td>\n",
       "    </tr>\n",
       "  </tbody>\n",
       "</table>\n",
       "</div>"
      ],
      "text/plain": [
       "         median_rent_m2  num_rent  median_price_m2  num_sale  \\\n",
       "zipCode                                                        \n",
       "72074             16.67      17.0          4954.84       5.0   \n",
       "\n",
       "         median_yearly_roi  \n",
       "zipCode                     \n",
       "72074                 0.04  "
      ]
     },
     "execution_count": 21,
     "metadata": {},
     "output_type": "execute_result"
    },
    {
     "data": {
      "application/javascript": [
       "\n",
       "            setTimeout(function() {\n",
       "                var nbb_cell_id = 21;\n",
       "                var nbb_unformatted_code = \"regiontype = \\\"zipCode\\\"\\nregions = [72074]\\ncombined_df.loc[regions]\";\n",
       "                var nbb_formatted_code = \"regiontype = \\\"zipCode\\\"\\nregions = [72074]\\ncombined_df.loc[regions]\";\n",
       "                var nbb_cells = Jupyter.notebook.get_cells();\n",
       "                for (var i = 0; i < nbb_cells.length; ++i) {\n",
       "                    if (nbb_cells[i].input_prompt_number == nbb_cell_id) {\n",
       "                        if (nbb_cells[i].get_text() == nbb_unformatted_code) {\n",
       "                             nbb_cells[i].set_text(nbb_formatted_code);\n",
       "                        }\n",
       "                        break;\n",
       "                    }\n",
       "                }\n",
       "            }, 500);\n",
       "            "
      ],
      "text/plain": [
       "<IPython.core.display.Javascript object>"
      ]
     },
     "metadata": {},
     "output_type": "display_data"
    }
   ],
   "source": [
    "regiontype = \"zipCode\"\n",
    "regions = [72074]\n",
    "combined_df.loc[regions]"
   ]
  },
  {
   "cell_type": "markdown",
   "metadata": {},
   "source": [
    "### 4.3) Apartments for rent"
   ]
  },
  {
   "cell_type": "code",
   "execution_count": 22,
   "metadata": {},
   "outputs": [
    {
     "data": {
      "text/html": [
       "<style  type=\"text/css\" >\n",
       "</style><table id=\"T_f2cb9d0a_d1bd_11ea_9870_a820662273d6\" ><thead>    <tr>        <th class=\"blank level0\" ></th>        <th class=\"col_heading level0 col0\" >rent_m2</th>        <th class=\"col_heading level0 col1\" >baseRent</th>        <th class=\"col_heading level0 col2\" >livingSpace</th>        <th class=\"col_heading level0 col3\" >noRooms</th>        <th class=\"col_heading level0 col4\" >zipCode</th>        <th class=\"col_heading level0 col5\" >regio2</th>        <th class=\"col_heading level0 col6\" >link</th>    </tr></thead><tbody>\n",
       "                <tr>\n",
       "                        <th id=\"T_f2cb9d0a_d1bd_11ea_9870_a820662273d6level0_row0\" class=\"row_heading level0 row0\" >2180</th>\n",
       "                        <td id=\"T_f2cb9d0a_d1bd_11ea_9870_a820662273d6row0_col0\" class=\"data row0 col0\" >11.67</td>\n",
       "                        <td id=\"T_f2cb9d0a_d1bd_11ea_9870_a820662273d6row0_col1\" class=\"data row0 col1\" >700.00</td>\n",
       "                        <td id=\"T_f2cb9d0a_d1bd_11ea_9870_a820662273d6row0_col2\" class=\"data row0 col2\" >60.00</td>\n",
       "                        <td id=\"T_f2cb9d0a_d1bd_11ea_9870_a820662273d6row0_col3\" class=\"data row0 col3\" >2.50</td>\n",
       "                        <td id=\"T_f2cb9d0a_d1bd_11ea_9870_a820662273d6row0_col4\" class=\"data row0 col4\" >72074</td>\n",
       "                        <td id=\"T_f2cb9d0a_d1bd_11ea_9870_a820662273d6row0_col5\" class=\"data row0 col5\" >Tübingen_Kreis</td>\n",
       "                        <td id=\"T_f2cb9d0a_d1bd_11ea_9870_a820662273d6row0_col6\" class=\"data row0 col6\" ><a target=\"_blank\" href=\"https://www.immobilienscout24.de/expose/120267922\">https://www.immobilienscout24.de/expose/120267922</a></td>\n",
       "            </tr>\n",
       "            <tr>\n",
       "                        <th id=\"T_f2cb9d0a_d1bd_11ea_9870_a820662273d6level0_row1\" class=\"row_heading level0 row1\" >24441</th>\n",
       "                        <td id=\"T_f2cb9d0a_d1bd_11ea_9870_a820662273d6row1_col0\" class=\"data row1 col0\" >12.80</td>\n",
       "                        <td id=\"T_f2cb9d0a_d1bd_11ea_9870_a820662273d6row1_col1\" class=\"data row1 col1\" >1050.00</td>\n",
       "                        <td id=\"T_f2cb9d0a_d1bd_11ea_9870_a820662273d6row1_col2\" class=\"data row1 col2\" >82.00</td>\n",
       "                        <td id=\"T_f2cb9d0a_d1bd_11ea_9870_a820662273d6row1_col3\" class=\"data row1 col3\" >3.00</td>\n",
       "                        <td id=\"T_f2cb9d0a_d1bd_11ea_9870_a820662273d6row1_col4\" class=\"data row1 col4\" >72074</td>\n",
       "                        <td id=\"T_f2cb9d0a_d1bd_11ea_9870_a820662273d6row1_col5\" class=\"data row1 col5\" >Tübingen_Kreis</td>\n",
       "                        <td id=\"T_f2cb9d0a_d1bd_11ea_9870_a820662273d6row1_col6\" class=\"data row1 col6\" ><a target=\"_blank\" href=\"https://www.immobilienscout24.de/expose/120799925\">https://www.immobilienscout24.de/expose/120799925</a></td>\n",
       "            </tr>\n",
       "            <tr>\n",
       "                        <th id=\"T_f2cb9d0a_d1bd_11ea_9870_a820662273d6level0_row2\" class=\"row_heading level0 row2\" >45576</th>\n",
       "                        <td id=\"T_f2cb9d0a_d1bd_11ea_9870_a820662273d6row2_col0\" class=\"data row2 col0\" >13.33</td>\n",
       "                        <td id=\"T_f2cb9d0a_d1bd_11ea_9870_a820662273d6row2_col1\" class=\"data row2 col1\" >800.00</td>\n",
       "                        <td id=\"T_f2cb9d0a_d1bd_11ea_9870_a820662273d6row2_col2\" class=\"data row2 col2\" >60.00</td>\n",
       "                        <td id=\"T_f2cb9d0a_d1bd_11ea_9870_a820662273d6row2_col3\" class=\"data row2 col3\" >2.00</td>\n",
       "                        <td id=\"T_f2cb9d0a_d1bd_11ea_9870_a820662273d6row2_col4\" class=\"data row2 col4\" >72074</td>\n",
       "                        <td id=\"T_f2cb9d0a_d1bd_11ea_9870_a820662273d6row2_col5\" class=\"data row2 col5\" >Tübingen_Kreis</td>\n",
       "                        <td id=\"T_f2cb9d0a_d1bd_11ea_9870_a820662273d6row2_col6\" class=\"data row2 col6\" ><a target=\"_blank\" href=\"https://www.immobilienscout24.de/expose/120711458\">https://www.immobilienscout24.de/expose/120711458</a></td>\n",
       "            </tr>\n",
       "            <tr>\n",
       "                        <th id=\"T_f2cb9d0a_d1bd_11ea_9870_a820662273d6level0_row3\" class=\"row_heading level0 row3\" >37860</th>\n",
       "                        <td id=\"T_f2cb9d0a_d1bd_11ea_9870_a820662273d6row3_col0\" class=\"data row3 col0\" >13.60</td>\n",
       "                        <td id=\"T_f2cb9d0a_d1bd_11ea_9870_a820662273d6row3_col1\" class=\"data row3 col1\" >680.00</td>\n",
       "                        <td id=\"T_f2cb9d0a_d1bd_11ea_9870_a820662273d6row3_col2\" class=\"data row3 col2\" >50.00</td>\n",
       "                        <td id=\"T_f2cb9d0a_d1bd_11ea_9870_a820662273d6row3_col3\" class=\"data row3 col3\" >2.00</td>\n",
       "                        <td id=\"T_f2cb9d0a_d1bd_11ea_9870_a820662273d6row3_col4\" class=\"data row3 col4\" >72074</td>\n",
       "                        <td id=\"T_f2cb9d0a_d1bd_11ea_9870_a820662273d6row3_col5\" class=\"data row3 col5\" >Tübingen_Kreis</td>\n",
       "                        <td id=\"T_f2cb9d0a_d1bd_11ea_9870_a820662273d6row3_col6\" class=\"data row3 col6\" ><a target=\"_blank\" href=\"https://www.immobilienscout24.de/expose/120928054\">https://www.immobilienscout24.de/expose/120928054</a></td>\n",
       "            </tr>\n",
       "            <tr>\n",
       "                        <th id=\"T_f2cb9d0a_d1bd_11ea_9870_a820662273d6level0_row4\" class=\"row_heading level0 row4\" >97829</th>\n",
       "                        <td id=\"T_f2cb9d0a_d1bd_11ea_9870_a820662273d6row4_col0\" class=\"data row4 col0\" >13.64</td>\n",
       "                        <td id=\"T_f2cb9d0a_d1bd_11ea_9870_a820662273d6row4_col1\" class=\"data row4 col1\" >300.00</td>\n",
       "                        <td id=\"T_f2cb9d0a_d1bd_11ea_9870_a820662273d6row4_col2\" class=\"data row4 col2\" >22.00</td>\n",
       "                        <td id=\"T_f2cb9d0a_d1bd_11ea_9870_a820662273d6row4_col3\" class=\"data row4 col3\" >1.00</td>\n",
       "                        <td id=\"T_f2cb9d0a_d1bd_11ea_9870_a820662273d6row4_col4\" class=\"data row4 col4\" >72074</td>\n",
       "                        <td id=\"T_f2cb9d0a_d1bd_11ea_9870_a820662273d6row4_col5\" class=\"data row4 col5\" >Tübingen_Kreis</td>\n",
       "                        <td id=\"T_f2cb9d0a_d1bd_11ea_9870_a820662273d6row4_col6\" class=\"data row4 col6\" ><a target=\"_blank\" href=\"https://www.immobilienscout24.de/expose/65446426\">https://www.immobilienscout24.de/expose/65446426</a></td>\n",
       "            </tr>\n",
       "            <tr>\n",
       "                        <th id=\"T_f2cb9d0a_d1bd_11ea_9870_a820662273d6level0_row5\" class=\"row_heading level0 row5\" >12632</th>\n",
       "                        <td id=\"T_f2cb9d0a_d1bd_11ea_9870_a820662273d6row5_col0\" class=\"data row5 col0\" >14.00</td>\n",
       "                        <td id=\"T_f2cb9d0a_d1bd_11ea_9870_a820662273d6row5_col1\" class=\"data row5 col1\" >1470.00</td>\n",
       "                        <td id=\"T_f2cb9d0a_d1bd_11ea_9870_a820662273d6row5_col2\" class=\"data row5 col2\" >105.00</td>\n",
       "                        <td id=\"T_f2cb9d0a_d1bd_11ea_9870_a820662273d6row5_col3\" class=\"data row5 col3\" >3.00</td>\n",
       "                        <td id=\"T_f2cb9d0a_d1bd_11ea_9870_a820662273d6row5_col4\" class=\"data row5 col4\" >72074</td>\n",
       "                        <td id=\"T_f2cb9d0a_d1bd_11ea_9870_a820662273d6row5_col5\" class=\"data row5 col5\" >Tübingen_Kreis</td>\n",
       "                        <td id=\"T_f2cb9d0a_d1bd_11ea_9870_a820662273d6row5_col6\" class=\"data row5 col6\" ><a target=\"_blank\" href=\"https://www.immobilienscout24.de/expose/117551317\">https://www.immobilienscout24.de/expose/117551317</a></td>\n",
       "            </tr>\n",
       "            <tr>\n",
       "                        <th id=\"T_f2cb9d0a_d1bd_11ea_9870_a820662273d6level0_row6\" class=\"row_heading level0 row6\" >42422</th>\n",
       "                        <td id=\"T_f2cb9d0a_d1bd_11ea_9870_a820662273d6row6_col0\" class=\"data row6 col0\" >15.56</td>\n",
       "                        <td id=\"T_f2cb9d0a_d1bd_11ea_9870_a820662273d6row6_col1\" class=\"data row6 col1\" >700.00</td>\n",
       "                        <td id=\"T_f2cb9d0a_d1bd_11ea_9870_a820662273d6row6_col2\" class=\"data row6 col2\" >45.00</td>\n",
       "                        <td id=\"T_f2cb9d0a_d1bd_11ea_9870_a820662273d6row6_col3\" class=\"data row6 col3\" >2.00</td>\n",
       "                        <td id=\"T_f2cb9d0a_d1bd_11ea_9870_a820662273d6row6_col4\" class=\"data row6 col4\" >72074</td>\n",
       "                        <td id=\"T_f2cb9d0a_d1bd_11ea_9870_a820662273d6row6_col5\" class=\"data row6 col5\" >Tübingen_Kreis</td>\n",
       "                        <td id=\"T_f2cb9d0a_d1bd_11ea_9870_a820662273d6row6_col6\" class=\"data row6 col6\" ><a target=\"_blank\" href=\"https://www.immobilienscout24.de/expose/120797441\">https://www.immobilienscout24.de/expose/120797441</a></td>\n",
       "            </tr>\n",
       "            <tr>\n",
       "                        <th id=\"T_f2cb9d0a_d1bd_11ea_9870_a820662273d6level0_row7\" class=\"row_heading level0 row7\" >6743</th>\n",
       "                        <td id=\"T_f2cb9d0a_d1bd_11ea_9870_a820662273d6row7_col0\" class=\"data row7 col0\" >15.57</td>\n",
       "                        <td id=\"T_f2cb9d0a_d1bd_11ea_9870_a820662273d6row7_col1\" class=\"data row7 col1\" >475.00</td>\n",
       "                        <td id=\"T_f2cb9d0a_d1bd_11ea_9870_a820662273d6row7_col2\" class=\"data row7 col2\" >30.50</td>\n",
       "                        <td id=\"T_f2cb9d0a_d1bd_11ea_9870_a820662273d6row7_col3\" class=\"data row7 col3\" >1.50</td>\n",
       "                        <td id=\"T_f2cb9d0a_d1bd_11ea_9870_a820662273d6row7_col4\" class=\"data row7 col4\" >72074</td>\n",
       "                        <td id=\"T_f2cb9d0a_d1bd_11ea_9870_a820662273d6row7_col5\" class=\"data row7 col5\" >Tübingen_Kreis</td>\n",
       "                        <td id=\"T_f2cb9d0a_d1bd_11ea_9870_a820662273d6row7_col6\" class=\"data row7 col6\" ><a target=\"_blank\" href=\"https://www.immobilienscout24.de/expose/94758279\">https://www.immobilienscout24.de/expose/94758279</a></td>\n",
       "            </tr>\n",
       "            <tr>\n",
       "                        <th id=\"T_f2cb9d0a_d1bd_11ea_9870_a820662273d6level0_row8\" class=\"row_heading level0 row8\" >99019</th>\n",
       "                        <td id=\"T_f2cb9d0a_d1bd_11ea_9870_a820662273d6row8_col0\" class=\"data row8 col0\" >16.67</td>\n",
       "                        <td id=\"T_f2cb9d0a_d1bd_11ea_9870_a820662273d6row8_col1\" class=\"data row8 col1\" >550.00</td>\n",
       "                        <td id=\"T_f2cb9d0a_d1bd_11ea_9870_a820662273d6row8_col2\" class=\"data row8 col2\" >33.00</td>\n",
       "                        <td id=\"T_f2cb9d0a_d1bd_11ea_9870_a820662273d6row8_col3\" class=\"data row8 col3\" >1.00</td>\n",
       "                        <td id=\"T_f2cb9d0a_d1bd_11ea_9870_a820662273d6row8_col4\" class=\"data row8 col4\" >72074</td>\n",
       "                        <td id=\"T_f2cb9d0a_d1bd_11ea_9870_a820662273d6row8_col5\" class=\"data row8 col5\" >Tübingen_Kreis</td>\n",
       "                        <td id=\"T_f2cb9d0a_d1bd_11ea_9870_a820662273d6row8_col6\" class=\"data row8 col6\" ><a target=\"_blank\" href=\"https://www.immobilienscout24.de/expose/41076959\">https://www.immobilienscout24.de/expose/41076959</a></td>\n",
       "            </tr>\n",
       "            <tr>\n",
       "                        <th id=\"T_f2cb9d0a_d1bd_11ea_9870_a820662273d6level0_row9\" class=\"row_heading level0 row9\" >35969</th>\n",
       "                        <td id=\"T_f2cb9d0a_d1bd_11ea_9870_a820662273d6row9_col0\" class=\"data row9 col0\" >17.69</td>\n",
       "                        <td id=\"T_f2cb9d0a_d1bd_11ea_9870_a820662273d6row9_col1\" class=\"data row9 col1\" >1380.00</td>\n",
       "                        <td id=\"T_f2cb9d0a_d1bd_11ea_9870_a820662273d6row9_col2\" class=\"data row9 col2\" >78.00</td>\n",
       "                        <td id=\"T_f2cb9d0a_d1bd_11ea_9870_a820662273d6row9_col3\" class=\"data row9 col3\" >3.00</td>\n",
       "                        <td id=\"T_f2cb9d0a_d1bd_11ea_9870_a820662273d6row9_col4\" class=\"data row9 col4\" >72074</td>\n",
       "                        <td id=\"T_f2cb9d0a_d1bd_11ea_9870_a820662273d6row9_col5\" class=\"data row9 col5\" >Tübingen_Kreis</td>\n",
       "                        <td id=\"T_f2cb9d0a_d1bd_11ea_9870_a820662273d6row9_col6\" class=\"data row9 col6\" ><a target=\"_blank\" href=\"https://www.immobilienscout24.de/expose/120190154\">https://www.immobilienscout24.de/expose/120190154</a></td>\n",
       "            </tr>\n",
       "            <tr>\n",
       "                        <th id=\"T_f2cb9d0a_d1bd_11ea_9870_a820662273d6level0_row10\" class=\"row_heading level0 row10\" >99090</th>\n",
       "                        <td id=\"T_f2cb9d0a_d1bd_11ea_9870_a820662273d6row10_col0\" class=\"data row10 col0\" >19.33</td>\n",
       "                        <td id=\"T_f2cb9d0a_d1bd_11ea_9870_a820662273d6row10_col1\" class=\"data row10 col1\" >290.00</td>\n",
       "                        <td id=\"T_f2cb9d0a_d1bd_11ea_9870_a820662273d6row10_col2\" class=\"data row10 col2\" >15.00</td>\n",
       "                        <td id=\"T_f2cb9d0a_d1bd_11ea_9870_a820662273d6row10_col3\" class=\"data row10 col3\" >1.00</td>\n",
       "                        <td id=\"T_f2cb9d0a_d1bd_11ea_9870_a820662273d6row10_col4\" class=\"data row10 col4\" >72074</td>\n",
       "                        <td id=\"T_f2cb9d0a_d1bd_11ea_9870_a820662273d6row10_col5\" class=\"data row10 col5\" >Tübingen_Kreis</td>\n",
       "                        <td id=\"T_f2cb9d0a_d1bd_11ea_9870_a820662273d6row10_col6\" class=\"data row10 col6\" ><a target=\"_blank\" href=\"https://www.immobilienscout24.de/expose/40484866\">https://www.immobilienscout24.de/expose/40484866</a></td>\n",
       "            </tr>\n",
       "            <tr>\n",
       "                        <th id=\"T_f2cb9d0a_d1bd_11ea_9870_a820662273d6level0_row11\" class=\"row_heading level0 row11\" >45837</th>\n",
       "                        <td id=\"T_f2cb9d0a_d1bd_11ea_9870_a820662273d6row11_col0\" class=\"data row11 col0\" >19.41</td>\n",
       "                        <td id=\"T_f2cb9d0a_d1bd_11ea_9870_a820662273d6row11_col1\" class=\"data row11 col1\" >330.00</td>\n",
       "                        <td id=\"T_f2cb9d0a_d1bd_11ea_9870_a820662273d6row11_col2\" class=\"data row11 col2\" >17.00</td>\n",
       "                        <td id=\"T_f2cb9d0a_d1bd_11ea_9870_a820662273d6row11_col3\" class=\"data row11 col3\" >1.00</td>\n",
       "                        <td id=\"T_f2cb9d0a_d1bd_11ea_9870_a820662273d6row11_col4\" class=\"data row11 col4\" >72074</td>\n",
       "                        <td id=\"T_f2cb9d0a_d1bd_11ea_9870_a820662273d6row11_col5\" class=\"data row11 col5\" >Tübingen_Kreis</td>\n",
       "                        <td id=\"T_f2cb9d0a_d1bd_11ea_9870_a820662273d6row11_col6\" class=\"data row11 col6\" ><a target=\"_blank\" href=\"https://www.immobilienscout24.de/expose/120706550\">https://www.immobilienscout24.de/expose/120706550</a></td>\n",
       "            </tr>\n",
       "            <tr>\n",
       "                        <th id=\"T_f2cb9d0a_d1bd_11ea_9870_a820662273d6level0_row12\" class=\"row_heading level0 row12\" >56653</th>\n",
       "                        <td id=\"T_f2cb9d0a_d1bd_11ea_9870_a820662273d6row12_col0\" class=\"data row12 col0\" >21.30</td>\n",
       "                        <td id=\"T_f2cb9d0a_d1bd_11ea_9870_a820662273d6row12_col1\" class=\"data row12 col1\" >980.00</td>\n",
       "                        <td id=\"T_f2cb9d0a_d1bd_11ea_9870_a820662273d6row12_col2\" class=\"data row12 col2\" >46.00</td>\n",
       "                        <td id=\"T_f2cb9d0a_d1bd_11ea_9870_a820662273d6row12_col3\" class=\"data row12 col3\" >2.00</td>\n",
       "                        <td id=\"T_f2cb9d0a_d1bd_11ea_9870_a820662273d6row12_col4\" class=\"data row12 col4\" >72074</td>\n",
       "                        <td id=\"T_f2cb9d0a_d1bd_11ea_9870_a820662273d6row12_col5\" class=\"data row12 col5\" >Tübingen_Kreis</td>\n",
       "                        <td id=\"T_f2cb9d0a_d1bd_11ea_9870_a820662273d6row12_col6\" class=\"data row12 col6\" ><a target=\"_blank\" href=\"https://www.immobilienscout24.de/expose/120098486\">https://www.immobilienscout24.de/expose/120098486</a></td>\n",
       "            </tr>\n",
       "            <tr>\n",
       "                        <th id=\"T_f2cb9d0a_d1bd_11ea_9870_a820662273d6level0_row13\" class=\"row_heading level0 row13\" >38218</th>\n",
       "                        <td id=\"T_f2cb9d0a_d1bd_11ea_9870_a820662273d6row13_col0\" class=\"data row13 col0\" >23.57</td>\n",
       "                        <td id=\"T_f2cb9d0a_d1bd_11ea_9870_a820662273d6row13_col1\" class=\"data row13 col1\" >330.00</td>\n",
       "                        <td id=\"T_f2cb9d0a_d1bd_11ea_9870_a820662273d6row13_col2\" class=\"data row13 col2\" >14.00</td>\n",
       "                        <td id=\"T_f2cb9d0a_d1bd_11ea_9870_a820662273d6row13_col3\" class=\"data row13 col3\" >1.00</td>\n",
       "                        <td id=\"T_f2cb9d0a_d1bd_11ea_9870_a820662273d6row13_col4\" class=\"data row13 col4\" >72074</td>\n",
       "                        <td id=\"T_f2cb9d0a_d1bd_11ea_9870_a820662273d6row13_col5\" class=\"data row13 col5\" >Tübingen_Kreis</td>\n",
       "                        <td id=\"T_f2cb9d0a_d1bd_11ea_9870_a820662273d6row13_col6\" class=\"data row13 col6\" ><a target=\"_blank\" href=\"https://www.immobilienscout24.de/expose/120908294\">https://www.immobilienscout24.de/expose/120908294</a></td>\n",
       "            </tr>\n",
       "            <tr>\n",
       "                        <th id=\"T_f2cb9d0a_d1bd_11ea_9870_a820662273d6level0_row14\" class=\"row_heading level0 row14\" >42461</th>\n",
       "                        <td id=\"T_f2cb9d0a_d1bd_11ea_9870_a820662273d6row14_col0\" class=\"data row14 col0\" >26.36</td>\n",
       "                        <td id=\"T_f2cb9d0a_d1bd_11ea_9870_a820662273d6row14_col1\" class=\"data row14 col1\" >580.00</td>\n",
       "                        <td id=\"T_f2cb9d0a_d1bd_11ea_9870_a820662273d6row14_col2\" class=\"data row14 col2\" >22.00</td>\n",
       "                        <td id=\"T_f2cb9d0a_d1bd_11ea_9870_a820662273d6row14_col3\" class=\"data row14 col3\" >1.00</td>\n",
       "                        <td id=\"T_f2cb9d0a_d1bd_11ea_9870_a820662273d6row14_col4\" class=\"data row14 col4\" >72074</td>\n",
       "                        <td id=\"T_f2cb9d0a_d1bd_11ea_9870_a820662273d6row14_col5\" class=\"data row14 col5\" >Tübingen_Kreis</td>\n",
       "                        <td id=\"T_f2cb9d0a_d1bd_11ea_9870_a820662273d6row14_col6\" class=\"data row14 col6\" ><a target=\"_blank\" href=\"https://www.immobilienscout24.de/expose/120796631\">https://www.immobilienscout24.de/expose/120796631</a></td>\n",
       "            </tr>\n",
       "            <tr>\n",
       "                        <th id=\"T_f2cb9d0a_d1bd_11ea_9870_a820662273d6level0_row15\" class=\"row_heading level0 row15\" >59513</th>\n",
       "                        <td id=\"T_f2cb9d0a_d1bd_11ea_9870_a820662273d6row15_col0\" class=\"data row15 col0\" >27.27</td>\n",
       "                        <td id=\"T_f2cb9d0a_d1bd_11ea_9870_a820662273d6row15_col1\" class=\"data row15 col1\" >600.00</td>\n",
       "                        <td id=\"T_f2cb9d0a_d1bd_11ea_9870_a820662273d6row15_col2\" class=\"data row15 col2\" >22.00</td>\n",
       "                        <td id=\"T_f2cb9d0a_d1bd_11ea_9870_a820662273d6row15_col3\" class=\"data row15 col3\" >1.00</td>\n",
       "                        <td id=\"T_f2cb9d0a_d1bd_11ea_9870_a820662273d6row15_col4\" class=\"data row15 col4\" >72074</td>\n",
       "                        <td id=\"T_f2cb9d0a_d1bd_11ea_9870_a820662273d6row15_col5\" class=\"data row15 col5\" >Tübingen_Kreis</td>\n",
       "                        <td id=\"T_f2cb9d0a_d1bd_11ea_9870_a820662273d6row15_col6\" class=\"data row15 col6\" ><a target=\"_blank\" href=\"https://www.immobilienscout24.de/expose/119870070\">https://www.immobilienscout24.de/expose/119870070</a></td>\n",
       "            </tr>\n",
       "            <tr>\n",
       "                        <th id=\"T_f2cb9d0a_d1bd_11ea_9870_a820662273d6level0_row16\" class=\"row_heading level0 row16\" >45528</th>\n",
       "                        <td id=\"T_f2cb9d0a_d1bd_11ea_9870_a820662273d6row16_col0\" class=\"data row16 col0\" >29.38</td>\n",
       "                        <td id=\"T_f2cb9d0a_d1bd_11ea_9870_a820662273d6row16_col1\" class=\"data row16 col1\" >470.00</td>\n",
       "                        <td id=\"T_f2cb9d0a_d1bd_11ea_9870_a820662273d6row16_col2\" class=\"data row16 col2\" >16.00</td>\n",
       "                        <td id=\"T_f2cb9d0a_d1bd_11ea_9870_a820662273d6row16_col3\" class=\"data row16 col3\" >1.00</td>\n",
       "                        <td id=\"T_f2cb9d0a_d1bd_11ea_9870_a820662273d6row16_col4\" class=\"data row16 col4\" >72074</td>\n",
       "                        <td id=\"T_f2cb9d0a_d1bd_11ea_9870_a820662273d6row16_col5\" class=\"data row16 col5\" >Tübingen_Kreis</td>\n",
       "                        <td id=\"T_f2cb9d0a_d1bd_11ea_9870_a820662273d6row16_col6\" class=\"data row16 col6\" ><a target=\"_blank\" href=\"https://www.immobilienscout24.de/expose/120712748\">https://www.immobilienscout24.de/expose/120712748</a></td>\n",
       "            </tr>\n",
       "    </tbody></table>"
      ],
      "text/plain": [
       "<pandas.io.formats.style.Styler at 0x12e0baa30>"
      ]
     },
     "execution_count": 22,
     "metadata": {},
     "output_type": "execute_result"
    },
    {
     "data": {
      "application/javascript": [
       "\n",
       "            setTimeout(function() {\n",
       "                var nbb_cell_id = 22;\n",
       "                var nbb_unformatted_code = \"rent_filt = rent_df[regiontype].isin(regions)\\ndf_show = rent_df[rent_filt].sort_values(\\\"rent_m2\\\")\\n\\ndf_show.style.format({\\\"link\\\": dproc.make_clickable})\";\n",
       "                var nbb_formatted_code = \"rent_filt = rent_df[regiontype].isin(regions)\\ndf_show = rent_df[rent_filt].sort_values(\\\"rent_m2\\\")\\n\\ndf_show.style.format({\\\"link\\\": dproc.make_clickable})\";\n",
       "                var nbb_cells = Jupyter.notebook.get_cells();\n",
       "                for (var i = 0; i < nbb_cells.length; ++i) {\n",
       "                    if (nbb_cells[i].input_prompt_number == nbb_cell_id) {\n",
       "                        if (nbb_cells[i].get_text() == nbb_unformatted_code) {\n",
       "                             nbb_cells[i].set_text(nbb_formatted_code);\n",
       "                        }\n",
       "                        break;\n",
       "                    }\n",
       "                }\n",
       "            }, 500);\n",
       "            "
      ],
      "text/plain": [
       "<IPython.core.display.Javascript object>"
      ]
     },
     "metadata": {},
     "output_type": "display_data"
    }
   ],
   "source": [
    "rent_filt = rent_df[regiontype].isin(regions)\n",
    "df_show = rent_df[rent_filt].sort_values(\"rent_m2\")\n",
    "\n",
    "df_show.style.format({\"link\": dproc.make_clickable})"
   ]
  },
  {
   "cell_type": "markdown",
   "metadata": {},
   "source": [
    "### 4.4) Apartments for sale"
   ]
  },
  {
   "cell_type": "code",
   "execution_count": 20,
   "metadata": {},
   "outputs": [
    {
     "data": {
      "text/html": [
       "<style  type=\"text/css\" >\n",
       "</style><table id=\"T_8deb4a3a_d1bc_11ea_9870_a820662273d6\" ><thead>    <tr>        <th class=\"blank level0\" ></th>        <th class=\"col_heading level0 col0\" >yearly_roi</th>        <th class=\"col_heading level0 col1\" >price_m2</th>        <th class=\"col_heading level0 col2\" >purchasePrice</th>        <th class=\"col_heading level0 col3\" >livingSpace</th>        <th class=\"col_heading level0 col4\" >noRooms</th>        <th class=\"col_heading level0 col5\" >zipCode</th>        <th class=\"col_heading level0 col6\" >rent_m2_zC</th>        <th class=\"col_heading level0 col7\" >regio2</th>        <th class=\"col_heading level0 col8\" >link</th>    </tr></thead><tbody>\n",
       "                <tr>\n",
       "                        <th id=\"T_8deb4a3a_d1bc_11ea_9870_a820662273d6level0_row0\" class=\"row_heading level0 row0\" >21812</th>\n",
       "                        <td id=\"T_8deb4a3a_d1bc_11ea_9870_a820662273d6row0_col0\" class=\"data row0 col0\" >0.17</td>\n",
       "                        <td id=\"T_8deb4a3a_d1bc_11ea_9870_a820662273d6row0_col1\" class=\"data row0 col1\" >461.76</td>\n",
       "                        <td id=\"T_8deb4a3a_d1bc_11ea_9870_a820662273d6row0_col2\" class=\"data row0 col2\" >15700.00</td>\n",
       "                        <td id=\"T_8deb4a3a_d1bc_11ea_9870_a820662273d6row0_col3\" class=\"data row0 col3\" >34.00</td>\n",
       "                        <td id=\"T_8deb4a3a_d1bc_11ea_9870_a820662273d6row0_col4\" class=\"data row0 col4\" >1.00</td>\n",
       "                        <td id=\"T_8deb4a3a_d1bc_11ea_9870_a820662273d6row0_col5\" class=\"data row0 col5\" >47229</td>\n",
       "                        <td id=\"T_8deb4a3a_d1bc_11ea_9870_a820662273d6row0_col6\" class=\"data row0 col6\" >6.55</td>\n",
       "                        <td id=\"T_8deb4a3a_d1bc_11ea_9870_a820662273d6row0_col7\" class=\"data row0 col7\" >Duisburg</td>\n",
       "                        <td id=\"T_8deb4a3a_d1bc_11ea_9870_a820662273d6row0_col8\" class=\"data row0 col8\" ><a target=\"_blank\" href=\"https://www.immobilienscout24.de/expose/120939134\">https://www.immobilienscout24.de/expose/120939134</a></td>\n",
       "            </tr>\n",
       "            <tr>\n",
       "                        <th id=\"T_8deb4a3a_d1bc_11ea_9870_a820662273d6level0_row1\" class=\"row_heading level0 row1\" >21815</th>\n",
       "                        <td id=\"T_8deb4a3a_d1bc_11ea_9870_a820662273d6row1_col0\" class=\"data row1 col0\" >0.16</td>\n",
       "                        <td id=\"T_8deb4a3a_d1bc_11ea_9870_a820662273d6row1_col1\" class=\"data row1 col1\" >480.00</td>\n",
       "                        <td id=\"T_8deb4a3a_d1bc_11ea_9870_a820662273d6row1_col2\" class=\"data row1 col2\" >19200.00</td>\n",
       "                        <td id=\"T_8deb4a3a_d1bc_11ea_9870_a820662273d6row1_col3\" class=\"data row1 col3\" >40.00</td>\n",
       "                        <td id=\"T_8deb4a3a_d1bc_11ea_9870_a820662273d6row1_col4\" class=\"data row1 col4\" >2.00</td>\n",
       "                        <td id=\"T_8deb4a3a_d1bc_11ea_9870_a820662273d6row1_col5\" class=\"data row1 col5\" >47229</td>\n",
       "                        <td id=\"T_8deb4a3a_d1bc_11ea_9870_a820662273d6row1_col6\" class=\"data row1 col6\" >6.55</td>\n",
       "                        <td id=\"T_8deb4a3a_d1bc_11ea_9870_a820662273d6row1_col7\" class=\"data row1 col7\" >Duisburg</td>\n",
       "                        <td id=\"T_8deb4a3a_d1bc_11ea_9870_a820662273d6row1_col8\" class=\"data row1 col8\" ><a target=\"_blank\" href=\"https://www.immobilienscout24.de/expose/120939131\">https://www.immobilienscout24.de/expose/120939131</a></td>\n",
       "            </tr>\n",
       "            <tr>\n",
       "                        <th id=\"T_8deb4a3a_d1bc_11ea_9870_a820662273d6level0_row2\" class=\"row_heading level0 row2\" >3273</th>\n",
       "                        <td id=\"T_8deb4a3a_d1bc_11ea_9870_a820662273d6row2_col0\" class=\"data row2 col0\" >0.15</td>\n",
       "                        <td id=\"T_8deb4a3a_d1bc_11ea_9870_a820662273d6row2_col1\" class=\"data row2 col1\" >540.32</td>\n",
       "                        <td id=\"T_8deb4a3a_d1bc_11ea_9870_a820662273d6row2_col2\" class=\"data row2 col2\" >33500.00</td>\n",
       "                        <td id=\"T_8deb4a3a_d1bc_11ea_9870_a820662273d6row2_col3\" class=\"data row2 col3\" >62.00</td>\n",
       "                        <td id=\"T_8deb4a3a_d1bc_11ea_9870_a820662273d6row2_col4\" class=\"data row2 col4\" >3.00</td>\n",
       "                        <td id=\"T_8deb4a3a_d1bc_11ea_9870_a820662273d6row2_col5\" class=\"data row2 col5\" >47229</td>\n",
       "                        <td id=\"T_8deb4a3a_d1bc_11ea_9870_a820662273d6row2_col6\" class=\"data row2 col6\" >6.55</td>\n",
       "                        <td id=\"T_8deb4a3a_d1bc_11ea_9870_a820662273d6row2_col7\" class=\"data row2 col7\" >Duisburg</td>\n",
       "                        <td id=\"T_8deb4a3a_d1bc_11ea_9870_a820662273d6row2_col8\" class=\"data row2 col8\" ><a target=\"_blank\" href=\"https://www.immobilienscout24.de/expose/114795926\">https://www.immobilienscout24.de/expose/114795926</a></td>\n",
       "            </tr>\n",
       "            <tr>\n",
       "                        <th id=\"T_8deb4a3a_d1bc_11ea_9870_a820662273d6level0_row3\" class=\"row_heading level0 row3\" >21819</th>\n",
       "                        <td id=\"T_8deb4a3a_d1bc_11ea_9870_a820662273d6row3_col0\" class=\"data row3 col0\" >0.15</td>\n",
       "                        <td id=\"T_8deb4a3a_d1bc_11ea_9870_a820662273d6row3_col1\" class=\"data row3 col1\" >540.32</td>\n",
       "                        <td id=\"T_8deb4a3a_d1bc_11ea_9870_a820662273d6row3_col2\" class=\"data row3 col2\" >33500.00</td>\n",
       "                        <td id=\"T_8deb4a3a_d1bc_11ea_9870_a820662273d6row3_col3\" class=\"data row3 col3\" >62.00</td>\n",
       "                        <td id=\"T_8deb4a3a_d1bc_11ea_9870_a820662273d6row3_col4\" class=\"data row3 col4\" >3.00</td>\n",
       "                        <td id=\"T_8deb4a3a_d1bc_11ea_9870_a820662273d6row3_col5\" class=\"data row3 col5\" >47229</td>\n",
       "                        <td id=\"T_8deb4a3a_d1bc_11ea_9870_a820662273d6row3_col6\" class=\"data row3 col6\" >6.55</td>\n",
       "                        <td id=\"T_8deb4a3a_d1bc_11ea_9870_a820662273d6row3_col7\" class=\"data row3 col7\" >Duisburg</td>\n",
       "                        <td id=\"T_8deb4a3a_d1bc_11ea_9870_a820662273d6row3_col8\" class=\"data row3 col8\" ><a target=\"_blank\" href=\"https://www.immobilienscout24.de/expose/120939104\">https://www.immobilienscout24.de/expose/120939104</a></td>\n",
       "            </tr>\n",
       "            <tr>\n",
       "                        <th id=\"T_8deb4a3a_d1bc_11ea_9870_a820662273d6level0_row4\" class=\"row_heading level0 row4\" >21802</th>\n",
       "                        <td id=\"T_8deb4a3a_d1bc_11ea_9870_a820662273d6row4_col0\" class=\"data row4 col0\" >0.14</td>\n",
       "                        <td id=\"T_8deb4a3a_d1bc_11ea_9870_a820662273d6row4_col1\" class=\"data row4 col1\" >564.18</td>\n",
       "                        <td id=\"T_8deb4a3a_d1bc_11ea_9870_a820662273d6row4_col2\" class=\"data row4 col2\" >37800.00</td>\n",
       "                        <td id=\"T_8deb4a3a_d1bc_11ea_9870_a820662273d6row4_col3\" class=\"data row4 col3\" >67.00</td>\n",
       "                        <td id=\"T_8deb4a3a_d1bc_11ea_9870_a820662273d6row4_col4\" class=\"data row4 col4\" >2.00</td>\n",
       "                        <td id=\"T_8deb4a3a_d1bc_11ea_9870_a820662273d6row4_col5\" class=\"data row4 col5\" >47229</td>\n",
       "                        <td id=\"T_8deb4a3a_d1bc_11ea_9870_a820662273d6row4_col6\" class=\"data row4 col6\" >6.55</td>\n",
       "                        <td id=\"T_8deb4a3a_d1bc_11ea_9870_a820662273d6row4_col7\" class=\"data row4 col7\" >Duisburg</td>\n",
       "                        <td id=\"T_8deb4a3a_d1bc_11ea_9870_a820662273d6row4_col8\" class=\"data row4 col8\" ><a target=\"_blank\" href=\"https://www.immobilienscout24.de/expose/120939129\">https://www.immobilienscout24.de/expose/120939129</a></td>\n",
       "            </tr>\n",
       "            <tr>\n",
       "                        <th id=\"T_8deb4a3a_d1bc_11ea_9870_a820662273d6level0_row5\" class=\"row_heading level0 row5\" >21818</th>\n",
       "                        <td id=\"T_8deb4a3a_d1bc_11ea_9870_a820662273d6row5_col0\" class=\"data row5 col0\" >0.14</td>\n",
       "                        <td id=\"T_8deb4a3a_d1bc_11ea_9870_a820662273d6row5_col1\" class=\"data row5 col1\" >576.92</td>\n",
       "                        <td id=\"T_8deb4a3a_d1bc_11ea_9870_a820662273d6row5_col2\" class=\"data row5 col2\" >45000.00</td>\n",
       "                        <td id=\"T_8deb4a3a_d1bc_11ea_9870_a820662273d6row5_col3\" class=\"data row5 col3\" >78.00</td>\n",
       "                        <td id=\"T_8deb4a3a_d1bc_11ea_9870_a820662273d6row5_col4\" class=\"data row5 col4\" >3.00</td>\n",
       "                        <td id=\"T_8deb4a3a_d1bc_11ea_9870_a820662273d6row5_col5\" class=\"data row5 col5\" >47229</td>\n",
       "                        <td id=\"T_8deb4a3a_d1bc_11ea_9870_a820662273d6row5_col6\" class=\"data row5 col6\" >6.55</td>\n",
       "                        <td id=\"T_8deb4a3a_d1bc_11ea_9870_a820662273d6row5_col7\" class=\"data row5 col7\" >Duisburg</td>\n",
       "                        <td id=\"T_8deb4a3a_d1bc_11ea_9870_a820662273d6row5_col8\" class=\"data row5 col8\" ><a target=\"_blank\" href=\"https://www.immobilienscout24.de/expose/120939128\">https://www.immobilienscout24.de/expose/120939128</a></td>\n",
       "            </tr>\n",
       "            <tr>\n",
       "                        <th id=\"T_8deb4a3a_d1bc_11ea_9870_a820662273d6level0_row6\" class=\"row_heading level0 row6\" >6642</th>\n",
       "                        <td id=\"T_8deb4a3a_d1bc_11ea_9870_a820662273d6row6_col0\" class=\"data row6 col0\" >0.12</td>\n",
       "                        <td id=\"T_8deb4a3a_d1bc_11ea_9870_a820662273d6row6_col1\" class=\"data row6 col1\" >678.95</td>\n",
       "                        <td id=\"T_8deb4a3a_d1bc_11ea_9870_a820662273d6row6_col2\" class=\"data row6 col2\" >1290000.00</td>\n",
       "                        <td id=\"T_8deb4a3a_d1bc_11ea_9870_a820662273d6row6_col3\" class=\"data row6 col3\" >1900.00</td>\n",
       "                        <td id=\"T_8deb4a3a_d1bc_11ea_9870_a820662273d6row6_col4\" class=\"data row6 col4\" >8.00</td>\n",
       "                        <td id=\"T_8deb4a3a_d1bc_11ea_9870_a820662273d6row6_col5\" class=\"data row6 col5\" >47229</td>\n",
       "                        <td id=\"T_8deb4a3a_d1bc_11ea_9870_a820662273d6row6_col6\" class=\"data row6 col6\" >6.55</td>\n",
       "                        <td id=\"T_8deb4a3a_d1bc_11ea_9870_a820662273d6row6_col7\" class=\"data row6 col7\" >Duisburg</td>\n",
       "                        <td id=\"T_8deb4a3a_d1bc_11ea_9870_a820662273d6row6_col8\" class=\"data row6 col8\" ><a target=\"_blank\" href=\"https://www.immobilienscout24.de/expose/115312215\">https://www.immobilienscout24.de/expose/115312215</a></td>\n",
       "            </tr>\n",
       "            <tr>\n",
       "                        <th id=\"T_8deb4a3a_d1bc_11ea_9870_a820662273d6level0_row7\" class=\"row_heading level0 row7\" >6230</th>\n",
       "                        <td id=\"T_8deb4a3a_d1bc_11ea_9870_a820662273d6row7_col0\" class=\"data row7 col0\" >0.07</td>\n",
       "                        <td id=\"T_8deb4a3a_d1bc_11ea_9870_a820662273d6row7_col1\" class=\"data row7 col1\" >1078.31</td>\n",
       "                        <td id=\"T_8deb4a3a_d1bc_11ea_9870_a820662273d6row7_col2\" class=\"data row7 col2\" >89500.00</td>\n",
       "                        <td id=\"T_8deb4a3a_d1bc_11ea_9870_a820662273d6row7_col3\" class=\"data row7 col3\" >83.00</td>\n",
       "                        <td id=\"T_8deb4a3a_d1bc_11ea_9870_a820662273d6row7_col4\" class=\"data row7 col4\" >3.00</td>\n",
       "                        <td id=\"T_8deb4a3a_d1bc_11ea_9870_a820662273d6row7_col5\" class=\"data row7 col5\" >47229</td>\n",
       "                        <td id=\"T_8deb4a3a_d1bc_11ea_9870_a820662273d6row7_col6\" class=\"data row7 col6\" >6.55</td>\n",
       "                        <td id=\"T_8deb4a3a_d1bc_11ea_9870_a820662273d6row7_col7\" class=\"data row7 col7\" >Duisburg</td>\n",
       "                        <td id=\"T_8deb4a3a_d1bc_11ea_9870_a820662273d6row7_col8\" class=\"data row7 col8\" ><a target=\"_blank\" href=\"https://www.immobilienscout24.de/expose/102054871\">https://www.immobilienscout24.de/expose/102054871</a></td>\n",
       "            </tr>\n",
       "            <tr>\n",
       "                        <th id=\"T_8deb4a3a_d1bc_11ea_9870_a820662273d6level0_row8\" class=\"row_heading level0 row8\" >24334</th>\n",
       "                        <td id=\"T_8deb4a3a_d1bc_11ea_9870_a820662273d6row8_col0\" class=\"data row8 col0\" >0.05</td>\n",
       "                        <td id=\"T_8deb4a3a_d1bc_11ea_9870_a820662273d6row8_col1\" class=\"data row8 col1\" >1444.44</td>\n",
       "                        <td id=\"T_8deb4a3a_d1bc_11ea_9870_a820662273d6row8_col2\" class=\"data row8 col2\" >65000.00</td>\n",
       "                        <td id=\"T_8deb4a3a_d1bc_11ea_9870_a820662273d6row8_col3\" class=\"data row8 col3\" >45.00</td>\n",
       "                        <td id=\"T_8deb4a3a_d1bc_11ea_9870_a820662273d6row8_col4\" class=\"data row8 col4\" >2.00</td>\n",
       "                        <td id=\"T_8deb4a3a_d1bc_11ea_9870_a820662273d6row8_col5\" class=\"data row8 col5\" >47229</td>\n",
       "                        <td id=\"T_8deb4a3a_d1bc_11ea_9870_a820662273d6row8_col6\" class=\"data row8 col6\" >6.55</td>\n",
       "                        <td id=\"T_8deb4a3a_d1bc_11ea_9870_a820662273d6row8_col7\" class=\"data row8 col7\" >Duisburg</td>\n",
       "                        <td id=\"T_8deb4a3a_d1bc_11ea_9870_a820662273d6row8_col8\" class=\"data row8 col8\" ><a target=\"_blank\" href=\"https://www.immobilienscout24.de/expose/120485244\">https://www.immobilienscout24.de/expose/120485244</a></td>\n",
       "            </tr>\n",
       "            <tr>\n",
       "                        <th id=\"T_8deb4a3a_d1bc_11ea_9870_a820662273d6level0_row9\" class=\"row_heading level0 row9\" >7091</th>\n",
       "                        <td id=\"T_8deb4a3a_d1bc_11ea_9870_a820662273d6row9_col0\" class=\"data row9 col0\" >0.02</td>\n",
       "                        <td id=\"T_8deb4a3a_d1bc_11ea_9870_a820662273d6row9_col1\" class=\"data row9 col1\" >3247.50</td>\n",
       "                        <td id=\"T_8deb4a3a_d1bc_11ea_9870_a820662273d6row9_col2\" class=\"data row9 col2\" >1299000.00</td>\n",
       "                        <td id=\"T_8deb4a3a_d1bc_11ea_9870_a820662273d6row9_col3\" class=\"data row9 col3\" >400.00</td>\n",
       "                        <td id=\"T_8deb4a3a_d1bc_11ea_9870_a820662273d6row9_col4\" class=\"data row9 col4\" >8.00</td>\n",
       "                        <td id=\"T_8deb4a3a_d1bc_11ea_9870_a820662273d6row9_col5\" class=\"data row9 col5\" >47229</td>\n",
       "                        <td id=\"T_8deb4a3a_d1bc_11ea_9870_a820662273d6row9_col6\" class=\"data row9 col6\" >6.55</td>\n",
       "                        <td id=\"T_8deb4a3a_d1bc_11ea_9870_a820662273d6row9_col7\" class=\"data row9 col7\" >Duisburg</td>\n",
       "                        <td id=\"T_8deb4a3a_d1bc_11ea_9870_a820662273d6row9_col8\" class=\"data row9 col8\" ><a target=\"_blank\" href=\"https://www.immobilienscout24.de/expose/120198673\">https://www.immobilienscout24.de/expose/120198673</a></td>\n",
       "            </tr>\n",
       "    </tbody></table>"
      ],
      "text/plain": [
       "<pandas.io.formats.style.Styler at 0x10fdcfa30>"
      ]
     },
     "execution_count": 20,
     "metadata": {},
     "output_type": "execute_result"
    },
    {
     "data": {
      "application/javascript": [
       "\n",
       "            setTimeout(function() {\n",
       "                var nbb_cell_id = 20;\n",
       "                var nbb_unformatted_code = \"sale_filt = sale_df[regiontype].isin(regions)\\ndf_show = sale_df[sale_filt].sort_values(\\\"yearly_roi\\\", ascending=False)\\n\\ndf_show.style.format({\\\"link\\\": dproc.make_clickable})\";\n",
       "                var nbb_formatted_code = \"sale_filt = sale_df[regiontype].isin(regions)\\ndf_show = sale_df[sale_filt].sort_values(\\\"yearly_roi\\\", ascending=False)\\n\\ndf_show.style.format({\\\"link\\\": dproc.make_clickable})\";\n",
       "                var nbb_cells = Jupyter.notebook.get_cells();\n",
       "                for (var i = 0; i < nbb_cells.length; ++i) {\n",
       "                    if (nbb_cells[i].input_prompt_number == nbb_cell_id) {\n",
       "                        if (nbb_cells[i].get_text() == nbb_unformatted_code) {\n",
       "                             nbb_cells[i].set_text(nbb_formatted_code);\n",
       "                        }\n",
       "                        break;\n",
       "                    }\n",
       "                }\n",
       "            }, 500);\n",
       "            "
      ],
      "text/plain": [
       "<IPython.core.display.Javascript object>"
      ]
     },
     "metadata": {},
     "output_type": "display_data"
    }
   ],
   "source": [
    "sale_filt = sale_df[regiontype].isin(regions)\n",
    "df_show = sale_df[sale_filt].sort_values(\"yearly_roi\", ascending=False)\n",
    "\n",
    "df_show.style.format({\"link\": dproc.make_clickable})"
   ]
  }
 ],
 "metadata": {
  "file_extension": ".py",
  "kernelspec": {
   "display_name": "Python 3",
   "language": "python",
   "name": "python3"
  },
  "language_info": {
   "codemirror_mode": {
    "name": "ipython",
    "version": 3
   },
   "file_extension": ".py",
   "mimetype": "text/x-python",
   "name": "python",
   "nbconvert_exporter": "python",
   "pygments_lexer": "ipython3",
   "version": "3.8.2"
  },
  "mimetype": "text/x-python",
  "name": "python",
  "npconvert_exporter": "python",
  "pygments_lexer": "ipython3",
  "version": 3
 },
 "nbformat": 4,
 "nbformat_minor": 2
}
