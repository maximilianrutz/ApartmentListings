{
 "cells": [
  {
   "cell_type": "markdown",
   "metadata": {},
   "source": [
    "# <center>German apartment listings</center>"
   ]
  },
  {
   "cell_type": "markdown",
   "metadata": {},
   "source": [
    "## 0) Imports"
   ]
  },
  {
   "cell_type": "code",
   "execution_count": 1,
   "metadata": {},
   "outputs": [
    {
     "data": {
      "application/javascript": [
       "\n",
       "            setTimeout(function() {\n",
       "                var nbb_cell_id = 1;\n",
       "                var nbb_unformatted_code = \"import numpy as np\\nfrom matplotlib import pyplot as plt\\nimport pandas as pd\\nfrom timeit import default_timer as timer\\n\\n\\nimport glob\\nfrom sklearn.covariance import EllipticEnvelope\\nfrom sklearn.neighbors import LocalOutlierFactor\\nfrom sklearn.ensemble import IsolationForest\\nfrom sklearn.model_selection import train_test_split\\n\\nimport dataprocessing as dproc\\n\\n%load_ext nb_black\\n%matplotlib inline\\n\\nplt.rcParams[\\\"figure.dpi\\\"] = 130\\npd.set_option(\\\"display.precision\\\", 2)\\npd.set_option(\\\"display.max_columns\\\", None)\";\n",
       "                var nbb_formatted_code = \"import numpy as np\\nfrom matplotlib import pyplot as plt\\nimport pandas as pd\\nfrom timeit import default_timer as timer\\n\\n\\nimport glob\\nfrom sklearn.covariance import EllipticEnvelope\\nfrom sklearn.neighbors import LocalOutlierFactor\\nfrom sklearn.ensemble import IsolationForest\\nfrom sklearn.model_selection import train_test_split\\n\\nimport dataprocessing as dproc\\n\\n%load_ext nb_black\\n%matplotlib inline\\n\\nplt.rcParams[\\\"figure.dpi\\\"] = 130\\npd.set_option(\\\"display.precision\\\", 2)\\npd.set_option(\\\"display.max_columns\\\", None)\";\n",
       "                var nbb_cells = Jupyter.notebook.get_cells();\n",
       "                for (var i = 0; i < nbb_cells.length; ++i) {\n",
       "                    if (nbb_cells[i].input_prompt_number == nbb_cell_id) {\n",
       "                        if (nbb_cells[i].get_text() == nbb_unformatted_code) {\n",
       "                             nbb_cells[i].set_text(nbb_formatted_code);\n",
       "                        }\n",
       "                        break;\n",
       "                    }\n",
       "                }\n",
       "            }, 500);\n",
       "            "
      ],
      "text/plain": [
       "<IPython.core.display.Javascript object>"
      ]
     },
     "metadata": {},
     "output_type": "display_data"
    }
   ],
   "source": [
    "import numpy as np\n",
    "from matplotlib import pyplot as plt\n",
    "import pandas as pd\n",
    "from timeit import default_timer as timer\n",
    "\n",
    "\n",
    "import glob\n",
    "from sklearn.covariance import EllipticEnvelope\n",
    "from sklearn.neighbors import LocalOutlierFactor\n",
    "from sklearn.ensemble import IsolationForest\n",
    "from sklearn.model_selection import train_test_split\n",
    "\n",
    "import dataprocessing as dproc\n",
    "\n",
    "%load_ext nb_black\n",
    "%matplotlib inline\n",
    "\n",
    "plt.rcParams[\"figure.dpi\"] = 130\n",
    "pd.set_option(\"display.precision\", 2)\n",
    "pd.set_option(\"display.max_columns\", None)"
   ]
  },
  {
   "cell_type": "markdown",
   "metadata": {},
   "source": [
    "## 1) Data Processing"
   ]
  },
  {
   "cell_type": "markdown",
   "metadata": {},
   "source": [
    "#### find dates:"
   ]
  },
  {
   "cell_type": "code",
   "execution_count": 2,
   "metadata": {},
   "outputs": [
    {
     "data": {
      "application/javascript": [
       "\n",
       "            setTimeout(function() {\n",
       "                var nbb_cell_id = 2;\n",
       "                var nbb_unformatted_code = \"dates = sorted(\\n    [\\n        s[s.find(\\\"mieten\\\") + len(\\\"mieten\\\") : s.rfind(\\\".csv\\\")]\\n        for s in glob.glob(\\\"../data/mieten*\\\")\\n    ]\\n)\";\n",
       "                var nbb_formatted_code = \"dates = sorted(\\n    [\\n        s[s.find(\\\"mieten\\\") + len(\\\"mieten\\\") : s.rfind(\\\".csv\\\")]\\n        for s in glob.glob(\\\"../data/mieten*\\\")\\n    ]\\n)\";\n",
       "                var nbb_cells = Jupyter.notebook.get_cells();\n",
       "                for (var i = 0; i < nbb_cells.length; ++i) {\n",
       "                    if (nbb_cells[i].input_prompt_number == nbb_cell_id) {\n",
       "                        if (nbb_cells[i].get_text() == nbb_unformatted_code) {\n",
       "                             nbb_cells[i].set_text(nbb_formatted_code);\n",
       "                        }\n",
       "                        break;\n",
       "                    }\n",
       "                }\n",
       "            }, 500);\n",
       "            "
      ],
      "text/plain": [
       "<IPython.core.display.Javascript object>"
      ]
     },
     "metadata": {},
     "output_type": "display_data"
    }
   ],
   "source": [
    "dates = sorted(\n",
    "    [\n",
    "        s[s.find(\"mieten\") + len(\"mieten\") : s.rfind(\".csv\")]\n",
    "        for s in glob.glob(\"../data/mieten*\")\n",
    "    ]\n",
    ")"
   ]
  },
  {
   "cell_type": "markdown",
   "metadata": {},
   "source": [
    "#### load data:"
   ]
  },
  {
   "cell_type": "code",
   "execution_count": 3,
   "metadata": {},
   "outputs": [
    {
     "data": {
      "application/javascript": [
       "\n",
       "            setTimeout(function() {\n",
       "                var nbb_cell_id = 3;\n",
       "                var nbb_unformatted_code = \"rent_df = dproc.create_rent_df(dates[-1])\\nsale_df = dproc.create_sale_df(dates[-1])\";\n",
       "                var nbb_formatted_code = \"rent_df = dproc.create_rent_df(dates[-1])\\nsale_df = dproc.create_sale_df(dates[-1])\";\n",
       "                var nbb_cells = Jupyter.notebook.get_cells();\n",
       "                for (var i = 0; i < nbb_cells.length; ++i) {\n",
       "                    if (nbb_cells[i].input_prompt_number == nbb_cell_id) {\n",
       "                        if (nbb_cells[i].get_text() == nbb_unformatted_code) {\n",
       "                             nbb_cells[i].set_text(nbb_formatted_code);\n",
       "                        }\n",
       "                        break;\n",
       "                    }\n",
       "                }\n",
       "            }, 500);\n",
       "            "
      ],
      "text/plain": [
       "<IPython.core.display.Javascript object>"
      ]
     },
     "metadata": {},
     "output_type": "display_data"
    }
   ],
   "source": [
    "rent_df = dproc.create_rent_df(dates[-1])\n",
    "sale_df = dproc.create_sale_df(dates[-1])"
   ]
  },
  {
   "cell_type": "markdown",
   "metadata": {},
   "source": [
    "#### add links:"
   ]
  },
  {
   "cell_type": "code",
   "execution_count": 4,
   "metadata": {},
   "outputs": [
    {
     "data": {
      "application/javascript": [
       "\n",
       "            setTimeout(function() {\n",
       "                var nbb_cell_id = 4;\n",
       "                var nbb_unformatted_code = \"rent_df[\\\"link\\\"] = \\\"https://www.immobilienscout24.de/expose/\\\" + rent_df[\\n    \\\"scoutId\\\"\\n].astype(str)\\nsale_df[\\\"link\\\"] = \\\"https://www.immobilienscout24.de/expose/\\\" + sale_df[\\n    \\\"scoutId\\\"\\n].astype(str)\";\n",
       "                var nbb_formatted_code = \"rent_df[\\\"link\\\"] = \\\"https://www.immobilienscout24.de/expose/\\\" + rent_df[\\n    \\\"scoutId\\\"\\n].astype(str)\\nsale_df[\\\"link\\\"] = \\\"https://www.immobilienscout24.de/expose/\\\" + sale_df[\\n    \\\"scoutId\\\"\\n].astype(str)\";\n",
       "                var nbb_cells = Jupyter.notebook.get_cells();\n",
       "                for (var i = 0; i < nbb_cells.length; ++i) {\n",
       "                    if (nbb_cells[i].input_prompt_number == nbb_cell_id) {\n",
       "                        if (nbb_cells[i].get_text() == nbb_unformatted_code) {\n",
       "                             nbb_cells[i].set_text(nbb_formatted_code);\n",
       "                        }\n",
       "                        break;\n",
       "                    }\n",
       "                }\n",
       "            }, 500);\n",
       "            "
      ],
      "text/plain": [
       "<IPython.core.display.Javascript object>"
      ]
     },
     "metadata": {},
     "output_type": "display_data"
    }
   ],
   "source": [
    "rent_df[\"link\"] = \"https://www.immobilienscout24.de/expose/\" + rent_df[\n",
    "    \"scoutId\"\n",
    "].astype(str)\n",
    "sale_df[\"link\"] = \"https://www.immobilienscout24.de/expose/\" + sale_df[\n",
    "    \"scoutId\"\n",
    "].astype(str)"
   ]
  },
  {
   "cell_type": "markdown",
   "metadata": {},
   "source": [
    "#### select features:"
   ]
  },
  {
   "cell_type": "code",
   "execution_count": 5,
   "metadata": {},
   "outputs": [
    {
     "data": {
      "application/javascript": [
       "\n",
       "            setTimeout(function() {\n",
       "                var nbb_cell_id = 5;\n",
       "                var nbb_unformatted_code = \"rent_select_columns = [\\n    \\\"rent_m2\\\",\\n    \\\"baseRent\\\",\\n    \\\"livingSpace\\\",\\n    \\\"noRooms\\\",\\n    \\\"zipCode\\\",\\n    \\\"regio2\\\",\\n    \\\"link\\\",\\n]\\nrent_select_df = rent_df[rent_select_columns].copy()\\n\\nsale_select_columns = [\\n    \\\"price_m2\\\",\\n    \\\"purchasePrice\\\",\\n    \\\"livingSpace\\\",\\n    \\\"noRooms\\\",\\n    \\\"zipCode\\\",\\n    \\\"regio2\\\",\\n    \\\"link\\\",\\n]\\nsale_select_df = sale_df[sale_select_columns].copy()\";\n",
       "                var nbb_formatted_code = \"rent_select_columns = [\\n    \\\"rent_m2\\\",\\n    \\\"baseRent\\\",\\n    \\\"livingSpace\\\",\\n    \\\"noRooms\\\",\\n    \\\"zipCode\\\",\\n    \\\"regio2\\\",\\n    \\\"link\\\",\\n]\\nrent_select_df = rent_df[rent_select_columns].copy()\\n\\nsale_select_columns = [\\n    \\\"price_m2\\\",\\n    \\\"purchasePrice\\\",\\n    \\\"livingSpace\\\",\\n    \\\"noRooms\\\",\\n    \\\"zipCode\\\",\\n    \\\"regio2\\\",\\n    \\\"link\\\",\\n]\\nsale_select_df = sale_df[sale_select_columns].copy()\";\n",
       "                var nbb_cells = Jupyter.notebook.get_cells();\n",
       "                for (var i = 0; i < nbb_cells.length; ++i) {\n",
       "                    if (nbb_cells[i].input_prompt_number == nbb_cell_id) {\n",
       "                        if (nbb_cells[i].get_text() == nbb_unformatted_code) {\n",
       "                             nbb_cells[i].set_text(nbb_formatted_code);\n",
       "                        }\n",
       "                        break;\n",
       "                    }\n",
       "                }\n",
       "            }, 500);\n",
       "            "
      ],
      "text/plain": [
       "<IPython.core.display.Javascript object>"
      ]
     },
     "metadata": {},
     "output_type": "display_data"
    }
   ],
   "source": [
    "rent_select_columns = [\n",
    "    \"rent_m2\",\n",
    "    \"baseRent\",\n",
    "    \"livingSpace\",\n",
    "    \"noRooms\",\n",
    "    \"zipCode\",\n",
    "    \"regio2\",\n",
    "    \"link\",\n",
    "]\n",
    "rent_select_df = rent_df[rent_select_columns].copy()\n",
    "\n",
    "sale_select_columns = [\n",
    "    \"price_m2\",\n",
    "    \"purchasePrice\",\n",
    "    \"livingSpace\",\n",
    "    \"noRooms\",\n",
    "    \"zipCode\",\n",
    "    \"regio2\",\n",
    "    \"link\",\n",
    "]\n",
    "sale_select_df = sale_df[sale_select_columns].copy()"
   ]
  },
  {
   "cell_type": "markdown",
   "metadata": {},
   "source": [
    "#### add return of investment based on median rents for zipCode"
   ]
  },
  {
   "cell_type": "code",
   "execution_count": 6,
   "metadata": {},
   "outputs": [
    {
     "data": {
      "application/javascript": [
       "\n",
       "            setTimeout(function() {\n",
       "                var nbb_cell_id = 6;\n",
       "                var nbb_unformatted_code = \"g = rent_select_df.groupby(\\\"zipCode\\\")[\\\"rent_m2\\\"].median()\\ng.name = \\\"rent_m2_zC\\\"\\nrent_m2_zipCode = sale_select_df.join(g, on=\\\"zipCode\\\").copy()[\\\"rent_m2_zC\\\"]\\nsale_select_df.insert(\\n    loc=sale_select_df.columns.get_loc(\\\"zipCode\\\") + 1,\\n    column=\\\"rent_m2_zC\\\",\\n    value=rent_m2_zipCode,\\n)\\n\\nyearly_ROI = sale_select_df[\\\"rent_m2_zC\\\"] * 12 / sale_select_df[\\\"price_m2\\\"]\\nsale_select_df.insert(loc=0, column=\\\"yearly_ROI\\\", value=yearly_ROI)\";\n",
       "                var nbb_formatted_code = \"g = rent_select_df.groupby(\\\"zipCode\\\")[\\\"rent_m2\\\"].median()\\ng.name = \\\"rent_m2_zC\\\"\\nrent_m2_zipCode = sale_select_df.join(g, on=\\\"zipCode\\\").copy()[\\\"rent_m2_zC\\\"]\\nsale_select_df.insert(\\n    loc=sale_select_df.columns.get_loc(\\\"zipCode\\\") + 1,\\n    column=\\\"rent_m2_zC\\\",\\n    value=rent_m2_zipCode,\\n)\\n\\nyearly_ROI = sale_select_df[\\\"rent_m2_zC\\\"] * 12 / sale_select_df[\\\"price_m2\\\"]\\nsale_select_df.insert(loc=0, column=\\\"yearly_ROI\\\", value=yearly_ROI)\";\n",
       "                var nbb_cells = Jupyter.notebook.get_cells();\n",
       "                for (var i = 0; i < nbb_cells.length; ++i) {\n",
       "                    if (nbb_cells[i].input_prompt_number == nbb_cell_id) {\n",
       "                        if (nbb_cells[i].get_text() == nbb_unformatted_code) {\n",
       "                             nbb_cells[i].set_text(nbb_formatted_code);\n",
       "                        }\n",
       "                        break;\n",
       "                    }\n",
       "                }\n",
       "            }, 500);\n",
       "            "
      ],
      "text/plain": [
       "<IPython.core.display.Javascript object>"
      ]
     },
     "metadata": {},
     "output_type": "display_data"
    }
   ],
   "source": [
    "g = rent_select_df.groupby(\"zipCode\")[\"rent_m2\"].median()\n",
    "g.name = \"rent_m2_zC\"\n",
    "rent_m2_zipCode = sale_select_df.join(g, on=\"zipCode\").copy()[\"rent_m2_zC\"]\n",
    "sale_select_df.insert(\n",
    "    loc=sale_select_df.columns.get_loc(\"zipCode\") + 1,\n",
    "    column=\"rent_m2_zC\",\n",
    "    value=rent_m2_zipCode,\n",
    ")\n",
    "\n",
    "yearly_ROI = sale_select_df[\"rent_m2_zC\"] * 12 / sale_select_df[\"price_m2\"]\n",
    "sale_select_df.insert(loc=0, column=\"yearly_ROI\", value=yearly_ROI)"
   ]
  },
  {
   "cell_type": "markdown",
   "metadata": {},
   "source": [
    "#### remove nans, infs and zeros:"
   ]
  },
  {
   "cell_type": "code",
   "execution_count": 7,
   "metadata": {},
   "outputs": [
    {
     "data": {
      "application/javascript": [
       "\n",
       "            setTimeout(function() {\n",
       "                var nbb_cell_id = 7;\n",
       "                var nbb_unformatted_code = \"allowed_nan_percentage_cols = 1\\n\\nrent_select_df = dproc.remove_nan_inf(rent_select_df, allowed_nan_percentage_cols)\\nsale_select_df = dproc.remove_nan_inf(sale_select_df, allowed_nan_percentage_cols)\\n\\nrent_select_df = rent_select_df[(rent_select_df[\\\"baseRent\\\"] != 0)]\\nsale_select_df = sale_select_df[(sale_select_df[\\\"purchasePrice\\\"] != 0)]\";\n",
       "                var nbb_formatted_code = \"allowed_nan_percentage_cols = 1\\n\\nrent_select_df = dproc.remove_nan_inf(rent_select_df, allowed_nan_percentage_cols)\\nsale_select_df = dproc.remove_nan_inf(sale_select_df, allowed_nan_percentage_cols)\\n\\nrent_select_df = rent_select_df[(rent_select_df[\\\"baseRent\\\"] != 0)]\\nsale_select_df = sale_select_df[(sale_select_df[\\\"purchasePrice\\\"] != 0)]\";\n",
       "                var nbb_cells = Jupyter.notebook.get_cells();\n",
       "                for (var i = 0; i < nbb_cells.length; ++i) {\n",
       "                    if (nbb_cells[i].input_prompt_number == nbb_cell_id) {\n",
       "                        if (nbb_cells[i].get_text() == nbb_unformatted_code) {\n",
       "                             nbb_cells[i].set_text(nbb_formatted_code);\n",
       "                        }\n",
       "                        break;\n",
       "                    }\n",
       "                }\n",
       "            }, 500);\n",
       "            "
      ],
      "text/plain": [
       "<IPython.core.display.Javascript object>"
      ]
     },
     "metadata": {},
     "output_type": "display_data"
    }
   ],
   "source": [
    "allowed_nan_percentage_cols = 1\n",
    "\n",
    "rent_select_df = dproc.remove_nan_inf(rent_select_df, allowed_nan_percentage_cols)\n",
    "sale_select_df = dproc.remove_nan_inf(sale_select_df, allowed_nan_percentage_cols)\n",
    "\n",
    "rent_select_df = rent_select_df[(rent_select_df[\"baseRent\"] != 0)]\n",
    "sale_select_df = sale_select_df[(sale_select_df[\"purchasePrice\"] != 0)]"
   ]
  },
  {
   "cell_type": "markdown",
   "metadata": {},
   "source": [
    "#### add combined dataframe with median rents and prices:"
   ]
  },
  {
   "cell_type": "code",
   "execution_count": 8,
   "metadata": {},
   "outputs": [
    {
     "data": {
      "application/javascript": [
       "\n",
       "            setTimeout(function() {\n",
       "                var nbb_cell_id = 8;\n",
       "                var nbb_unformatted_code = \"group = \\\"zipCode\\\"\\n\\ncombined_df = pd.concat(\\n    [\\n        rent_select_df.groupby(group)[\\\"rent_m2\\\"].median(),\\n        rent_select_df.groupby(group)[\\\"rent_m2\\\"].size(),\\n        sale_select_df.groupby(group)[\\\"price_m2\\\"].median(),\\n        sale_select_df.groupby(group)[\\\"price_m2\\\"].size(),\\n        sale_select_df.groupby(group)[\\\"yearly_ROI\\\"].median(),\\n    ],\\n    axis=1,\\n    keys=[\\n        \\\"median_rent_m2\\\",\\n        \\\"num_rent\\\",\\n        \\\"median_price_m2\\\",\\n        \\\"num_sale\\\",\\n        \\\"median_yearly_ROI\\\",\\n    ],\\n).copy()\\n\\ncombined_df = combined_df.replace([np.inf, -np.inf], np.nan)\\ncombined_df = combined_df.dropna()\";\n",
       "                var nbb_formatted_code = \"group = \\\"zipCode\\\"\\n\\ncombined_df = pd.concat(\\n    [\\n        rent_select_df.groupby(group)[\\\"rent_m2\\\"].median(),\\n        rent_select_df.groupby(group)[\\\"rent_m2\\\"].size(),\\n        sale_select_df.groupby(group)[\\\"price_m2\\\"].median(),\\n        sale_select_df.groupby(group)[\\\"price_m2\\\"].size(),\\n        sale_select_df.groupby(group)[\\\"yearly_ROI\\\"].median(),\\n    ],\\n    axis=1,\\n    keys=[\\n        \\\"median_rent_m2\\\",\\n        \\\"num_rent\\\",\\n        \\\"median_price_m2\\\",\\n        \\\"num_sale\\\",\\n        \\\"median_yearly_ROI\\\",\\n    ],\\n).copy()\\n\\ncombined_df = combined_df.replace([np.inf, -np.inf], np.nan)\\ncombined_df = combined_df.dropna()\";\n",
       "                var nbb_cells = Jupyter.notebook.get_cells();\n",
       "                for (var i = 0; i < nbb_cells.length; ++i) {\n",
       "                    if (nbb_cells[i].input_prompt_number == nbb_cell_id) {\n",
       "                        if (nbb_cells[i].get_text() == nbb_unformatted_code) {\n",
       "                             nbb_cells[i].set_text(nbb_formatted_code);\n",
       "                        }\n",
       "                        break;\n",
       "                    }\n",
       "                }\n",
       "            }, 500);\n",
       "            "
      ],
      "text/plain": [
       "<IPython.core.display.Javascript object>"
      ]
     },
     "metadata": {},
     "output_type": "display_data"
    }
   ],
   "source": [
    "group = \"zipCode\"\n",
    "\n",
    "combined_df = pd.concat(\n",
    "    [\n",
    "        rent_select_df.groupby(group)[\"rent_m2\"].median(),\n",
    "        rent_select_df.groupby(group)[\"rent_m2\"].size(),\n",
    "        sale_select_df.groupby(group)[\"price_m2\"].median(),\n",
    "        sale_select_df.groupby(group)[\"price_m2\"].size(),\n",
    "        sale_select_df.groupby(group)[\"yearly_ROI\"].median(),\n",
    "    ],\n",
    "    axis=1,\n",
    "    keys=[\n",
    "        \"median_rent_m2\",\n",
    "        \"num_rent\",\n",
    "        \"median_price_m2\",\n",
    "        \"num_sale\",\n",
    "        \"median_yearly_ROI\",\n",
    "    ],\n",
    ").copy()\n",
    "\n",
    "combined_df = combined_df.replace([np.inf, -np.inf], np.nan)\n",
    "combined_df = combined_df.dropna()"
   ]
  },
  {
   "cell_type": "markdown",
   "metadata": {},
   "source": [
    "## 2) Gaussian outlier detection"
   ]
  },
  {
   "cell_type": "markdown",
   "metadata": {},
   "source": [
    "#### Use logs of rent/price and living space:"
   ]
  },
  {
   "cell_type": "code",
   "execution_count": 9,
   "metadata": {},
   "outputs": [
    {
     "data": {
      "application/javascript": [
       "\n",
       "            setTimeout(function() {\n",
       "                var nbb_cell_id = 9;\n",
       "                var nbb_unformatted_code = \"X_rent = rent_select_df[[\\\"livingSpace\\\", \\\"baseRent\\\"]].applymap(np.log)\\nX_sale = sale_select_df[[\\\"livingSpace\\\", \\\"purchasePrice\\\"]].applymap(np.log)\";\n",
       "                var nbb_formatted_code = \"X_rent = rent_select_df[[\\\"livingSpace\\\", \\\"baseRent\\\"]].applymap(np.log)\\nX_sale = sale_select_df[[\\\"livingSpace\\\", \\\"purchasePrice\\\"]].applymap(np.log)\";\n",
       "                var nbb_cells = Jupyter.notebook.get_cells();\n",
       "                for (var i = 0; i < nbb_cells.length; ++i) {\n",
       "                    if (nbb_cells[i].input_prompt_number == nbb_cell_id) {\n",
       "                        if (nbb_cells[i].get_text() == nbb_unformatted_code) {\n",
       "                             nbb_cells[i].set_text(nbb_formatted_code);\n",
       "                        }\n",
       "                        break;\n",
       "                    }\n",
       "                }\n",
       "            }, 500);\n",
       "            "
      ],
      "text/plain": [
       "<IPython.core.display.Javascript object>"
      ]
     },
     "metadata": {},
     "output_type": "display_data"
    }
   ],
   "source": [
    "X_rent = rent_select_df[[\"livingSpace\", \"baseRent\"]].applymap(np.log)\n",
    "X_sale = sale_select_df[[\"livingSpace\", \"purchasePrice\"]].applymap(np.log)"
   ]
  },
  {
   "cell_type": "markdown",
   "metadata": {},
   "source": [
    "#### Assumed ratio of outliers:"
   ]
  },
  {
   "cell_type": "code",
   "execution_count": 10,
   "metadata": {},
   "outputs": [
    {
     "data": {
      "application/javascript": [
       "\n",
       "            setTimeout(function() {\n",
       "                var nbb_cell_id = 10;\n",
       "                var nbb_unformatted_code = \"contamination = 0.005\";\n",
       "                var nbb_formatted_code = \"contamination = 0.005\";\n",
       "                var nbb_cells = Jupyter.notebook.get_cells();\n",
       "                for (var i = 0; i < nbb_cells.length; ++i) {\n",
       "                    if (nbb_cells[i].input_prompt_number == nbb_cell_id) {\n",
       "                        if (nbb_cells[i].get_text() == nbb_unformatted_code) {\n",
       "                             nbb_cells[i].set_text(nbb_formatted_code);\n",
       "                        }\n",
       "                        break;\n",
       "                    }\n",
       "                }\n",
       "            }, 500);\n",
       "            "
      ],
      "text/plain": [
       "<IPython.core.display.Javascript object>"
      ]
     },
     "metadata": {},
     "output_type": "display_data"
    }
   ],
   "source": [
    "contamination = 0.005"
   ]
  },
  {
   "cell_type": "markdown",
   "metadata": {},
   "source": [
    "### 2.1) Apartments for rent"
   ]
  },
  {
   "cell_type": "code",
   "execution_count": 11,
   "metadata": {},
   "outputs": [
    {
     "name": "stdout",
     "output_type": "stream",
     "text": [
      "Elapsed time: 29.38s\n"
     ]
    },
    {
     "data": {
      "application/javascript": [
       "\n",
       "            setTimeout(function() {\n",
       "                var nbb_cell_id = 11;\n",
       "                var nbb_unformatted_code = \"start = timer()\\n\\nrent_outlier = EllipticEnvelope(\\n    contamination=contamination, random_state=42\\n).fit_predict(X_rent)\\nrent_inlier_df = rent_select_df[(rent_outlier == 1)]\\nrent_outlier_df = rent_select_df[(rent_outlier == -1)]\\n\\nend = timer()\\nprint(f\\\"Elapsed time: {np.round(end - start,2)}s\\\")\";\n",
       "                var nbb_formatted_code = \"start = timer()\\n\\nrent_outlier = EllipticEnvelope(\\n    contamination=contamination, random_state=42\\n).fit_predict(X_rent)\\nrent_inlier_df = rent_select_df[(rent_outlier == 1)]\\nrent_outlier_df = rent_select_df[(rent_outlier == -1)]\\n\\nend = timer()\\nprint(f\\\"Elapsed time: {np.round(end - start,2)}s\\\")\";\n",
       "                var nbb_cells = Jupyter.notebook.get_cells();\n",
       "                for (var i = 0; i < nbb_cells.length; ++i) {\n",
       "                    if (nbb_cells[i].input_prompt_number == nbb_cell_id) {\n",
       "                        if (nbb_cells[i].get_text() == nbb_unformatted_code) {\n",
       "                             nbb_cells[i].set_text(nbb_formatted_code);\n",
       "                        }\n",
       "                        break;\n",
       "                    }\n",
       "                }\n",
       "            }, 500);\n",
       "            "
      ],
      "text/plain": [
       "<IPython.core.display.Javascript object>"
      ]
     },
     "metadata": {},
     "output_type": "display_data"
    }
   ],
   "source": [
    "start = timer()\n",
    "\n",
    "rent_outlier = EllipticEnvelope(\n",
    "    contamination=contamination, random_state=42\n",
    ").fit_predict(X_rent)\n",
    "rent_inlier_df = rent_select_df[(rent_outlier == 1)]\n",
    "rent_outlier_df = rent_select_df[(rent_outlier == -1)]\n",
    "\n",
    "end = timer()\n",
    "print(f\"Elapsed time: {np.round(end - start,2)}s\")"
   ]
  },
  {
   "cell_type": "code",
   "execution_count": 12,
   "metadata": {},
   "outputs": [
    {
     "data": {
      "image/png": "[encoded data removed]",
      "text/plain": [
       "<Figure size 780x520 with 1 Axes>"
      ]
     },
     "metadata": {
      "needs_background": "light"
     },
     "output_type": "display_data"
    },
    {
     "data": {
      "application/javascript": [
       "\n",
       "            setTimeout(function() {\n",
       "                var nbb_cell_id = 12;\n",
       "                var nbb_unformatted_code = \"fig, ax = plt.subplots()\\nrent_outlier_df.plot.scatter(\\n    x=\\\"livingSpace\\\",\\n    y=\\\"baseRent\\\",\\n    loglog=True,\\n    title=\\\"Outlier detection rent\\\",\\n    color=\\\"C1\\\",\\n    label=\\\"Outlier\\\",\\n    s=10,\\n    ax=ax,\\n)\\nrent_inlier_df.plot.scatter(\\n    x=\\\"livingSpace\\\", y=\\\"baseRent\\\", color=\\\"C0\\\", label=\\\"Inlier\\\", s=10, ax=ax\\n)\\nfig.savefig(\\\"rent_outlier.pdf\\\")\";\n",
       "                var nbb_formatted_code = \"fig, ax = plt.subplots()\\nrent_outlier_df.plot.scatter(\\n    x=\\\"livingSpace\\\",\\n    y=\\\"baseRent\\\",\\n    loglog=True,\\n    title=\\\"Outlier detection rent\\\",\\n    color=\\\"C1\\\",\\n    label=\\\"Outlier\\\",\\n    s=10,\\n    ax=ax,\\n)\\nrent_inlier_df.plot.scatter(\\n    x=\\\"livingSpace\\\", y=\\\"baseRent\\\", color=\\\"C0\\\", label=\\\"Inlier\\\", s=10, ax=ax\\n)\\nfig.savefig(\\\"rent_outlier.pdf\\\")\";\n",
       "                var nbb_cells = Jupyter.notebook.get_cells();\n",
       "                for (var i = 0; i < nbb_cells.length; ++i) {\n",
       "                    if (nbb_cells[i].input_prompt_number == nbb_cell_id) {\n",
       "                        if (nbb_cells[i].get_text() == nbb_unformatted_code) {\n",
       "                             nbb_cells[i].set_text(nbb_formatted_code);\n",
       "                        }\n",
       "                        break;\n",
       "                    }\n",
       "                }\n",
       "            }, 500);\n",
       "            "
      ],
      "text/plain": [
       "<IPython.core.display.Javascript object>"
      ]
     },
     "metadata": {},
     "output_type": "display_data"
    }
   ],
   "source": [
    "fig, ax = plt.subplots()\n",
    "rent_outlier_df.plot.scatter(\n",
    "    x=\"livingSpace\",\n",
    "    y=\"baseRent\",\n",
    "    loglog=True,\n",
    "    title=\"Outlier detection rent\",\n",
    "    color=\"C1\",\n",
    "    label=\"Outlier\",\n",
    "    s=10,\n",
    "    ax=ax,\n",
    ")\n",
    "rent_inlier_df.plot.scatter(\n",
    "    x=\"livingSpace\", y=\"baseRent\", color=\"C0\", label=\"Inlier\", s=10, ax=ax\n",
    ")\n",
    "fig.savefig(\"rent_outlier.pdf\")"
   ]
  },
  {
   "cell_type": "markdown",
   "metadata": {},
   "source": [
    "### 2.2) Apartments for sale"
   ]
  },
  {
   "cell_type": "code",
   "execution_count": 13,
   "metadata": {},
   "outputs": [
    {
     "name": "stdout",
     "output_type": "stream",
     "text": [
      "Elapsed time: 8.19s\n"
     ]
    },
    {
     "data": {
      "application/javascript": [
       "\n",
       "            setTimeout(function() {\n",
       "                var nbb_cell_id = 13;\n",
       "                var nbb_unformatted_code = \"start = timer()\\n\\nsale_outlier = EllipticEnvelope(\\n    contamination=contamination, random_state=42\\n).fit_predict(X_sale)\\nsale_inlier_df = sale_select_df[(sale_outlier == 1)]\\nsale_outlier_df = sale_select_df[(sale_outlier == -1)]\\n\\nend = timer()\\nprint(f\\\"Elapsed time: {np.round(end - start,2)}s\\\")\";\n",
       "                var nbb_formatted_code = \"start = timer()\\n\\nsale_outlier = EllipticEnvelope(\\n    contamination=contamination, random_state=42\\n).fit_predict(X_sale)\\nsale_inlier_df = sale_select_df[(sale_outlier == 1)]\\nsale_outlier_df = sale_select_df[(sale_outlier == -1)]\\n\\nend = timer()\\nprint(f\\\"Elapsed time: {np.round(end - start,2)}s\\\")\";\n",
       "                var nbb_cells = Jupyter.notebook.get_cells();\n",
       "                for (var i = 0; i < nbb_cells.length; ++i) {\n",
       "                    if (nbb_cells[i].input_prompt_number == nbb_cell_id) {\n",
       "                        if (nbb_cells[i].get_text() == nbb_unformatted_code) {\n",
       "                             nbb_cells[i].set_text(nbb_formatted_code);\n",
       "                        }\n",
       "                        break;\n",
       "                    }\n",
       "                }\n",
       "            }, 500);\n",
       "            "
      ],
      "text/plain": [
       "<IPython.core.display.Javascript object>"
      ]
     },
     "metadata": {},
     "output_type": "display_data"
    }
   ],
   "source": [
    "start = timer()\n",
    "\n",
    "sale_outlier = EllipticEnvelope(\n",
    "    contamination=contamination, random_state=42\n",
    ").fit_predict(X_sale)\n",
    "sale_inlier_df = sale_select_df[(sale_outlier == 1)]\n",
    "sale_outlier_df = sale_select_df[(sale_outlier == -1)]\n",
    "\n",
    "end = timer()\n",
    "print(f\"Elapsed time: {np.round(end - start,2)}s\")"
   ]
  },
  {
   "cell_type": "code",
   "execution_count": 14,
   "metadata": {},
   "outputs": [
    {
     "data": {
      "text/plain": [
       "<matplotlib.axes._subplots.AxesSubplot at 0x121399040>"
      ]
     },
     "execution_count": 14,
     "metadata": {},
     "output_type": "execute_result"
    },
    {
     "data": {
      "image/png": "[encoded data removed]",
      "text/plain": [
       "<Figure size 780x520 with 1 Axes>"
      ]
     },
     "metadata": {
      "needs_background": "light"
     },
     "output_type": "display_data"
    },
    {
     "data": {
      "application/javascript": [
       "\n",
       "            setTimeout(function() {\n",
       "                var nbb_cell_id = 14;\n",
       "                var nbb_unformatted_code = \"fig, ax = plt.subplots()\\nsale_outlier_df.plot.scatter(\\n    x=\\\"livingSpace\\\",\\n    y=\\\"purchasePrice\\\",\\n    loglog=True,\\n    title=\\\"Outlier detection sale\\\",\\n    color=\\\"C1\\\",\\n    label=\\\"Outlier\\\",\\n    s=10,\\n    ax=ax,\\n)\\nsale_inlier_df.plot.scatter(\\n    x=\\\"livingSpace\\\", y=\\\"purchasePrice\\\", color=\\\"C0\\\", label=\\\"Inlier\\\", s=10, ax=ax\\n)\";\n",
       "                var nbb_formatted_code = \"fig, ax = plt.subplots()\\nsale_outlier_df.plot.scatter(\\n    x=\\\"livingSpace\\\",\\n    y=\\\"purchasePrice\\\",\\n    loglog=True,\\n    title=\\\"Outlier detection sale\\\",\\n    color=\\\"C1\\\",\\n    label=\\\"Outlier\\\",\\n    s=10,\\n    ax=ax,\\n)\\nsale_inlier_df.plot.scatter(\\n    x=\\\"livingSpace\\\", y=\\\"purchasePrice\\\", color=\\\"C0\\\", label=\\\"Inlier\\\", s=10, ax=ax\\n)\";\n",
       "                var nbb_cells = Jupyter.notebook.get_cells();\n",
       "                for (var i = 0; i < nbb_cells.length; ++i) {\n",
       "                    if (nbb_cells[i].input_prompt_number == nbb_cell_id) {\n",
       "                        if (nbb_cells[i].get_text() == nbb_unformatted_code) {\n",
       "                             nbb_cells[i].set_text(nbb_formatted_code);\n",
       "                        }\n",
       "                        break;\n",
       "                    }\n",
       "                }\n",
       "            }, 500);\n",
       "            "
      ],
      "text/plain": [
       "<IPython.core.display.Javascript object>"
      ]
     },
     "metadata": {},
     "output_type": "display_data"
    }
   ],
   "source": [
    "fig, ax = plt.subplots()\n",
    "sale_outlier_df.plot.scatter(\n",
    "    x=\"livingSpace\",\n",
    "    y=\"purchasePrice\",\n",
    "    loglog=True,\n",
    "    title=\"Outlier detection sale\",\n",
    "    color=\"C1\",\n",
    "    label=\"Outlier\",\n",
    "    s=10,\n",
    "    ax=ax,\n",
    ")\n",
    "sale_inlier_df.plot.scatter(\n",
    "    x=\"livingSpace\", y=\"purchasePrice\", color=\"C0\", label=\"Inlier\", s=10, ax=ax\n",
    ")"
   ]
  },
  {
   "cell_type": "markdown",
   "metadata": {},
   "source": [
    "## 3) Results"
   ]
  },
  {
   "cell_type": "markdown",
   "metadata": {},
   "source": [
    "### 3.1) Best ROI nationally"
   ]
  },
  {
   "cell_type": "markdown",
   "metadata": {},
   "source": [
    "#### Outlier:"
   ]
  },
  {
   "cell_type": "code",
   "execution_count": 15,
   "metadata": {
    "scrolled": false
   },
   "outputs": [
    {
     "data": {
      "text/html": [
       "<div>\n",
       "<style scoped>\n",
       "    .dataframe tbody tr th:only-of-type {\n",
       "        vertical-align: middle;\n",
       "    }\n",
       "\n",
       "    .dataframe tbody tr th {\n",
       "        vertical-align: top;\n",
       "    }\n",
       "\n",
       "    .dataframe thead th {\n",
       "        text-align: right;\n",
       "    }\n",
       "</style>\n",
       "<table border=\"1\" class=\"dataframe\">\n",
       "  <thead>\n",
       "    <tr style=\"text-align: right;\">\n",
       "      <th></th>\n",
       "      <th>yearly_ROI</th>\n",
       "      <th>price_m2</th>\n",
       "      <th>purchasePrice</th>\n",
       "      <th>livingSpace</th>\n",
       "      <th>noRooms</th>\n",
       "      <th>zipCode</th>\n",
       "      <th>rent_m2_zC</th>\n",
       "      <th>regio2</th>\n",
       "      <th>link</th>\n",
       "    </tr>\n",
       "  </thead>\n",
       "  <tbody>\n",
       "    <tr>\n",
       "      <th>30460</th>\n",
       "      <td>13875.43</td>\n",
       "      <td>7.52e-03</td>\n",
       "      <td>1.00e+00</td>\n",
       "      <td>133.00</td>\n",
       "      <td>3.0</td>\n",
       "      <td>27793</td>\n",
       "      <td>8.69</td>\n",
       "      <td>Oldenburg_Kreis</td>\n",
       "      <td>https://www.immobilienscout24.de/expose/116978696</td>\n",
       "    </tr>\n",
       "    <tr>\n",
       "      <th>31308</th>\n",
       "      <td>10.44</td>\n",
       "      <td>7.98e+00</td>\n",
       "      <td>5.00e+02</td>\n",
       "      <td>62.66</td>\n",
       "      <td>3.0</td>\n",
       "      <td>31698</td>\n",
       "      <td>6.94</td>\n",
       "      <td>Schaumburg_Kreis</td>\n",
       "      <td>https://www.immobilienscout24.de/expose/116556571</td>\n",
       "    </tr>\n",
       "    <tr>\n",
       "      <th>32917</th>\n",
       "      <td>4.73</td>\n",
       "      <td>1.26e+01</td>\n",
       "      <td>4.00e+03</td>\n",
       "      <td>318.00</td>\n",
       "      <td>10.0</td>\n",
       "      <td>4639</td>\n",
       "      <td>4.96</td>\n",
       "      <td>Altenburger_Land_Kreis</td>\n",
       "      <td>https://www.immobilienscout24.de/expose/115369915</td>\n",
       "    </tr>\n",
       "    <tr>\n",
       "      <th>36060</th>\n",
       "      <td>3.89</td>\n",
       "      <td>2.67e+01</td>\n",
       "      <td>8.00e+02</td>\n",
       "      <td>30.00</td>\n",
       "      <td>1.0</td>\n",
       "      <td>49152</td>\n",
       "      <td>8.64</td>\n",
       "      <td>Osnabrück_Kreis</td>\n",
       "      <td>https://www.immobilienscout24.de/expose/105011041</td>\n",
       "    </tr>\n",
       "    <tr>\n",
       "      <th>36074</th>\n",
       "      <td>3.21</td>\n",
       "      <td>1.87e+01</td>\n",
       "      <td>1.85e+06</td>\n",
       "      <td>99015.00</td>\n",
       "      <td>1.0</td>\n",
       "      <td>6385</td>\n",
       "      <td>5.00</td>\n",
       "      <td>Anhalt_Bitterfeld_Kreis</td>\n",
       "      <td>https://www.immobilienscout24.de/expose/104440723</td>\n",
       "    </tr>\n",
       "    <tr>\n",
       "      <th>22058</th>\n",
       "      <td>2.87</td>\n",
       "      <td>4.24e+01</td>\n",
       "      <td>3.00e+03</td>\n",
       "      <td>70.76</td>\n",
       "      <td>3.0</td>\n",
       "      <td>17489</td>\n",
       "      <td>10.16</td>\n",
       "      <td>Greifswald</td>\n",
       "      <td>https://www.immobilienscout24.de/expose/120144748</td>\n",
       "    </tr>\n",
       "    <tr>\n",
       "      <th>25562</th>\n",
       "      <td>2.50</td>\n",
       "      <td>5.70e+01</td>\n",
       "      <td>5.35e+05</td>\n",
       "      <td>9377.00</td>\n",
       "      <td>4.0</td>\n",
       "      <td>90766</td>\n",
       "      <td>11.87</td>\n",
       "      <td>Fürth</td>\n",
       "      <td>https://www.immobilienscout24.de/expose/119423700</td>\n",
       "    </tr>\n",
       "    <tr>\n",
       "      <th>22074</th>\n",
       "      <td>2.42</td>\n",
       "      <td>2.46e+01</td>\n",
       "      <td>1.50e+03</td>\n",
       "      <td>61.00</td>\n",
       "      <td>2.0</td>\n",
       "      <td>4639</td>\n",
       "      <td>4.96</td>\n",
       "      <td>Altenburger_Land_Kreis</td>\n",
       "      <td>https://www.immobilienscout24.de/expose/120144160</td>\n",
       "    </tr>\n",
       "    <tr>\n",
       "      <th>22072</th>\n",
       "      <td>2.42</td>\n",
       "      <td>2.46e+01</td>\n",
       "      <td>1.70e+03</td>\n",
       "      <td>69.00</td>\n",
       "      <td>2.0</td>\n",
       "      <td>4639</td>\n",
       "      <td>4.96</td>\n",
       "      <td>Altenburger_Land_Kreis</td>\n",
       "      <td>https://www.immobilienscout24.de/expose/120144152</td>\n",
       "    </tr>\n",
       "    <tr>\n",
       "      <th>22073</th>\n",
       "      <td>2.35</td>\n",
       "      <td>2.54e+01</td>\n",
       "      <td>1.70e+03</td>\n",
       "      <td>67.00</td>\n",
       "      <td>2.0</td>\n",
       "      <td>4639</td>\n",
       "      <td>4.96</td>\n",
       "      <td>Altenburger_Land_Kreis</td>\n",
       "      <td>https://www.immobilienscout24.de/expose/120144153</td>\n",
       "    </tr>\n",
       "  </tbody>\n",
       "</table>\n",
       "</div>"
      ],
      "text/plain": [
       "       yearly_ROI  price_m2  purchasePrice  livingSpace  noRooms  zipCode  \\\n",
       "30460    13875.43  7.52e-03       1.00e+00       133.00      3.0    27793   \n",
       "31308       10.44  7.98e+00       5.00e+02        62.66      3.0    31698   \n",
       "32917        4.73  1.26e+01       4.00e+03       318.00     10.0     4639   \n",
       "36060        3.89  2.67e+01       8.00e+02        30.00      1.0    49152   \n",
       "36074        3.21  1.87e+01       1.85e+06     99015.00      1.0     6385   \n",
       "22058        2.87  4.24e+01       3.00e+03        70.76      3.0    17489   \n",
       "25562        2.50  5.70e+01       5.35e+05      9377.00      4.0    90766   \n",
       "22074        2.42  2.46e+01       1.50e+03        61.00      2.0     4639   \n",
       "22072        2.42  2.46e+01       1.70e+03        69.00      2.0     4639   \n",
       "22073        2.35  2.54e+01       1.70e+03        67.00      2.0     4639   \n",
       "\n",
       "       rent_m2_zC                   regio2  \\\n",
       "30460        8.69          Oldenburg_Kreis   \n",
       "31308        6.94         Schaumburg_Kreis   \n",
       "32917        4.96   Altenburger_Land_Kreis   \n",
       "36060        8.64          Osnabrück_Kreis   \n",
       "36074        5.00  Anhalt_Bitterfeld_Kreis   \n",
       "22058       10.16               Greifswald   \n",
       "25562       11.87                    Fürth   \n",
       "22074        4.96   Altenburger_Land_Kreis   \n",
       "22072        4.96   Altenburger_Land_Kreis   \n",
       "22073        4.96   Altenburger_Land_Kreis   \n",
       "\n",
       "                                                    link  \n",
       "30460  https://www.immobilienscout24.de/expose/116978696  \n",
       "31308  https://www.immobilienscout24.de/expose/116556571  \n",
       "32917  https://www.immobilienscout24.de/expose/115369915  \n",
       "36060  https://www.immobilienscout24.de/expose/105011041  \n",
       "36074  https://www.immobilienscout24.de/expose/104440723  \n",
       "22058  https://www.immobilienscout24.de/expose/120144748  \n",
       "25562  https://www.immobilienscout24.de/expose/119423700  \n",
       "22074  https://www.immobilienscout24.de/expose/120144160  \n",
       "22072  https://www.immobilienscout24.de/expose/120144152  \n",
       "22073  https://www.immobilienscout24.de/expose/120144153  "
      ]
     },
     "execution_count": 15,
     "metadata": {},
     "output_type": "execute_result"
    },
    {
     "data": {
      "application/javascript": [
       "\n",
       "            setTimeout(function() {\n",
       "                var nbb_cell_id = 15;\n",
       "                var nbb_unformatted_code = \"sale_outlier_df.sort_values(\\\"yearly_ROI\\\", ascending=False).head(10)\";\n",
       "                var nbb_formatted_code = \"sale_outlier_df.sort_values(\\\"yearly_ROI\\\", ascending=False).head(10)\";\n",
       "                var nbb_cells = Jupyter.notebook.get_cells();\n",
       "                for (var i = 0; i < nbb_cells.length; ++i) {\n",
       "                    if (nbb_cells[i].input_prompt_number == nbb_cell_id) {\n",
       "                        if (nbb_cells[i].get_text() == nbb_unformatted_code) {\n",
       "                             nbb_cells[i].set_text(nbb_formatted_code);\n",
       "                        }\n",
       "                        break;\n",
       "                    }\n",
       "                }\n",
       "            }, 500);\n",
       "            "
      ],
      "text/plain": [
       "<IPython.core.display.Javascript object>"
      ]
     },
     "metadata": {},
     "output_type": "display_data"
    }
   ],
   "source": [
    "sale_outlier_df.sort_values(\"yearly_ROI\", ascending=False).head(10)"
   ]
  },
  {
   "cell_type": "markdown",
   "metadata": {},
   "source": [
    "#### Inlier:"
   ]
  },
  {
   "cell_type": "code",
   "execution_count": 16,
   "metadata": {},
   "outputs": [
    {
     "data": {
      "text/html": [
       "<div>\n",
       "<style scoped>\n",
       "    .dataframe tbody tr th:only-of-type {\n",
       "        vertical-align: middle;\n",
       "    }\n",
       "\n",
       "    .dataframe tbody tr th {\n",
       "        vertical-align: top;\n",
       "    }\n",
       "\n",
       "    .dataframe thead th {\n",
       "        text-align: right;\n",
       "    }\n",
       "</style>\n",
       "<table border=\"1\" class=\"dataframe\">\n",
       "  <thead>\n",
       "    <tr style=\"text-align: right;\">\n",
       "      <th></th>\n",
       "      <th>yearly_ROI</th>\n",
       "      <th>price_m2</th>\n",
       "      <th>purchasePrice</th>\n",
       "      <th>livingSpace</th>\n",
       "      <th>noRooms</th>\n",
       "      <th>zipCode</th>\n",
       "      <th>rent_m2_zC</th>\n",
       "      <th>regio2</th>\n",
       "      <th>link</th>\n",
       "    </tr>\n",
       "  </thead>\n",
       "  <tbody>\n",
       "    <tr>\n",
       "      <th>29261</th>\n",
       "      <td>0.51</td>\n",
       "      <td>1242.75</td>\n",
       "      <td>45000.0</td>\n",
       "      <td>36.21</td>\n",
       "      <td>1.0</td>\n",
       "      <td>77740</td>\n",
       "      <td>52.42</td>\n",
       "      <td>Ortenaukreis</td>\n",
       "      <td>https://www.immobilienscout24.de/expose/117749320</td>\n",
       "    </tr>\n",
       "    <tr>\n",
       "      <th>35538</th>\n",
       "      <td>0.47</td>\n",
       "      <td>1345.46</td>\n",
       "      <td>145000.0</td>\n",
       "      <td>107.77</td>\n",
       "      <td>4.0</td>\n",
       "      <td>77740</td>\n",
       "      <td>52.42</td>\n",
       "      <td>Ortenaukreis</td>\n",
       "      <td>https://www.immobilienscout24.de/expose/110436432</td>\n",
       "    </tr>\n",
       "    <tr>\n",
       "      <th>6495</th>\n",
       "      <td>0.40</td>\n",
       "      <td>323.53</td>\n",
       "      <td>33000.0</td>\n",
       "      <td>102.00</td>\n",
       "      <td>4.0</td>\n",
       "      <td>38315</td>\n",
       "      <td>10.80</td>\n",
       "      <td>Wolfenbüttel_Kreis</td>\n",
       "      <td>https://www.immobilienscout24.de/expose/120144341</td>\n",
       "    </tr>\n",
       "    <tr>\n",
       "      <th>12261</th>\n",
       "      <td>0.34</td>\n",
       "      <td>1864.04</td>\n",
       "      <td>170000.0</td>\n",
       "      <td>91.20</td>\n",
       "      <td>3.0</td>\n",
       "      <td>77740</td>\n",
       "      <td>52.42</td>\n",
       "      <td>Ortenaukreis</td>\n",
       "      <td>https://www.immobilienscout24.de/expose/111534392</td>\n",
       "    </tr>\n",
       "    <tr>\n",
       "      <th>36346</th>\n",
       "      <td>0.32</td>\n",
       "      <td>533.63</td>\n",
       "      <td>119000.0</td>\n",
       "      <td>223.00</td>\n",
       "      <td>6.0</td>\n",
       "      <td>90429</td>\n",
       "      <td>14.44</td>\n",
       "      <td>Nürnberg</td>\n",
       "      <td>https://www.immobilienscout24.de/expose/91497244</td>\n",
       "    </tr>\n",
       "    <tr>\n",
       "      <th>6498</th>\n",
       "      <td>0.29</td>\n",
       "      <td>335.07</td>\n",
       "      <td>36000.0</td>\n",
       "      <td>107.44</td>\n",
       "      <td>4.0</td>\n",
       "      <td>50127</td>\n",
       "      <td>8.00</td>\n",
       "      <td>Rhein_Erft_Kreis</td>\n",
       "      <td>https://www.immobilienscout24.de/expose/120144593</td>\n",
       "    </tr>\n",
       "    <tr>\n",
       "      <th>6428</th>\n",
       "      <td>0.27</td>\n",
       "      <td>395.01</td>\n",
       "      <td>19000.0</td>\n",
       "      <td>48.10</td>\n",
       "      <td>2.0</td>\n",
       "      <td>33611</td>\n",
       "      <td>8.84</td>\n",
       "      <td>Bielefeld</td>\n",
       "      <td>https://www.immobilienscout24.de/expose/120144844</td>\n",
       "    </tr>\n",
       "    <tr>\n",
       "      <th>6450</th>\n",
       "      <td>0.24</td>\n",
       "      <td>289.86</td>\n",
       "      <td>20000.0</td>\n",
       "      <td>69.00</td>\n",
       "      <td>3.0</td>\n",
       "      <td>27729</td>\n",
       "      <td>5.75</td>\n",
       "      <td>Osterholz_Kreis</td>\n",
       "      <td>https://www.immobilienscout24.de/expose/120144450</td>\n",
       "    </tr>\n",
       "    <tr>\n",
       "      <th>32280</th>\n",
       "      <td>0.23</td>\n",
       "      <td>575.00</td>\n",
       "      <td>69000.0</td>\n",
       "      <td>120.00</td>\n",
       "      <td>6.0</td>\n",
       "      <td>38315</td>\n",
       "      <td>10.80</td>\n",
       "      <td>Wolfenbüttel_Kreis</td>\n",
       "      <td>https://www.immobilienscout24.de/expose/115749410</td>\n",
       "    </tr>\n",
       "    <tr>\n",
       "      <th>6432</th>\n",
       "      <td>0.22</td>\n",
       "      <td>338.00</td>\n",
       "      <td>16900.0</td>\n",
       "      <td>50.00</td>\n",
       "      <td>2.0</td>\n",
       "      <td>47198</td>\n",
       "      <td>6.30</td>\n",
       "      <td>Duisburg</td>\n",
       "      <td>https://www.immobilienscout24.de/expose/120144313</td>\n",
       "    </tr>\n",
       "  </tbody>\n",
       "</table>\n",
       "</div>"
      ],
      "text/plain": [
       "       yearly_ROI  price_m2  purchasePrice  livingSpace  noRooms  zipCode  \\\n",
       "29261        0.51   1242.75        45000.0        36.21      1.0    77740   \n",
       "35538        0.47   1345.46       145000.0       107.77      4.0    77740   \n",
       "6495         0.40    323.53        33000.0       102.00      4.0    38315   \n",
       "12261        0.34   1864.04       170000.0        91.20      3.0    77740   \n",
       "36346        0.32    533.63       119000.0       223.00      6.0    90429   \n",
       "6498         0.29    335.07        36000.0       107.44      4.0    50127   \n",
       "6428         0.27    395.01        19000.0        48.10      2.0    33611   \n",
       "6450         0.24    289.86        20000.0        69.00      3.0    27729   \n",
       "32280        0.23    575.00        69000.0       120.00      6.0    38315   \n",
       "6432         0.22    338.00        16900.0        50.00      2.0    47198   \n",
       "\n",
       "       rent_m2_zC              regio2  \\\n",
       "29261       52.42        Ortenaukreis   \n",
       "35538       52.42        Ortenaukreis   \n",
       "6495        10.80  Wolfenbüttel_Kreis   \n",
       "12261       52.42        Ortenaukreis   \n",
       "36346       14.44            Nürnberg   \n",
       "6498         8.00    Rhein_Erft_Kreis   \n",
       "6428         8.84           Bielefeld   \n",
       "6450         5.75     Osterholz_Kreis   \n",
       "32280       10.80  Wolfenbüttel_Kreis   \n",
       "6432         6.30            Duisburg   \n",
       "\n",
       "                                                    link  \n",
       "29261  https://www.immobilienscout24.de/expose/117749320  \n",
       "35538  https://www.immobilienscout24.de/expose/110436432  \n",
       "6495   https://www.immobilienscout24.de/expose/120144341  \n",
       "12261  https://www.immobilienscout24.de/expose/111534392  \n",
       "36346   https://www.immobilienscout24.de/expose/91497244  \n",
       "6498   https://www.immobilienscout24.de/expose/120144593  \n",
       "6428   https://www.immobilienscout24.de/expose/120144844  \n",
       "6450   https://www.immobilienscout24.de/expose/120144450  \n",
       "32280  https://www.immobilienscout24.de/expose/115749410  \n",
       "6432   https://www.immobilienscout24.de/expose/120144313  "
      ]
     },
     "execution_count": 16,
     "metadata": {},
     "output_type": "execute_result"
    },
    {
     "data": {
      "application/javascript": [
       "\n",
       "            setTimeout(function() {\n",
       "                var nbb_cell_id = 16;\n",
       "                var nbb_unformatted_code = \"sale_inlier_df.sort_values(\\\"yearly_ROI\\\", ascending=False).head(10)\";\n",
       "                var nbb_formatted_code = \"sale_inlier_df.sort_values(\\\"yearly_ROI\\\", ascending=False).head(10)\";\n",
       "                var nbb_cells = Jupyter.notebook.get_cells();\n",
       "                for (var i = 0; i < nbb_cells.length; ++i) {\n",
       "                    if (nbb_cells[i].input_prompt_number == nbb_cell_id) {\n",
       "                        if (nbb_cells[i].get_text() == nbb_unformatted_code) {\n",
       "                             nbb_cells[i].set_text(nbb_formatted_code);\n",
       "                        }\n",
       "                        break;\n",
       "                    }\n",
       "                }\n",
       "            }, 500);\n",
       "            "
      ],
      "text/plain": [
       "<IPython.core.display.Javascript object>"
      ]
     },
     "metadata": {},
     "output_type": "display_data"
    }
   ],
   "source": [
    "sale_inlier_df.sort_values(\"yearly_ROI\", ascending=False).head(10)"
   ]
  },
  {
   "cell_type": "markdown",
   "metadata": {},
   "source": [
    "### 3.2) Apartments by region"
   ]
  },
  {
   "cell_type": "markdown",
   "metadata": {},
   "source": [
    "#### regions overview:"
   ]
  },
  {
   "cell_type": "code",
   "execution_count": 17,
   "metadata": {},
   "outputs": [
    {
     "data": {
      "text/html": [
       "<div>\n",
       "<style scoped>\n",
       "    .dataframe tbody tr th:only-of-type {\n",
       "        vertical-align: middle;\n",
       "    }\n",
       "\n",
       "    .dataframe tbody tr th {\n",
       "        vertical-align: top;\n",
       "    }\n",
       "\n",
       "    .dataframe thead th {\n",
       "        text-align: right;\n",
       "    }\n",
       "</style>\n",
       "<table border=\"1\" class=\"dataframe\">\n",
       "  <thead>\n",
       "    <tr style=\"text-align: right;\">\n",
       "      <th></th>\n",
       "      <th>median_rent_m2</th>\n",
       "      <th>num_rent</th>\n",
       "      <th>median_price_m2</th>\n",
       "      <th>num_sale</th>\n",
       "      <th>median_yearly_ROI</th>\n",
       "    </tr>\n",
       "    <tr>\n",
       "      <th>zipCode</th>\n",
       "      <th></th>\n",
       "      <th></th>\n",
       "      <th></th>\n",
       "      <th></th>\n",
       "      <th></th>\n",
       "    </tr>\n",
       "  </thead>\n",
       "  <tbody>\n",
       "    <tr>\n",
       "      <th>4639</th>\n",
       "      <td>4.96</td>\n",
       "      <td>8</td>\n",
       "      <td>25.37</td>\n",
       "      <td>7.0</td>\n",
       "      <td>2.35</td>\n",
       "    </tr>\n",
       "    <tr>\n",
       "      <th>47169</th>\n",
       "      <td>6.16</td>\n",
       "      <td>58</td>\n",
       "      <td>142.25</td>\n",
       "      <td>22.0</td>\n",
       "      <td>0.52</td>\n",
       "    </tr>\n",
       "    <tr>\n",
       "      <th>17139</th>\n",
       "      <td>5.11</td>\n",
       "      <td>19</td>\n",
       "      <td>391.11</td>\n",
       "      <td>6.0</td>\n",
       "      <td>0.16</td>\n",
       "    </tr>\n",
       "    <tr>\n",
       "      <th>47229</th>\n",
       "      <td>6.57</td>\n",
       "      <td>30</td>\n",
       "      <td>570.55</td>\n",
       "      <td>8.0</td>\n",
       "      <td>0.14</td>\n",
       "    </tr>\n",
       "    <tr>\n",
       "      <th>8412</th>\n",
       "      <td>4.89</td>\n",
       "      <td>249</td>\n",
       "      <td>439.31</td>\n",
       "      <td>21.0</td>\n",
       "      <td>0.13</td>\n",
       "    </tr>\n",
       "    <tr>\n",
       "      <th>...</th>\n",
       "      <td>...</td>\n",
       "      <td>...</td>\n",
       "      <td>...</td>\n",
       "      <td>...</td>\n",
       "      <td>...</td>\n",
       "    </tr>\n",
       "    <tr>\n",
       "      <th>80333</th>\n",
       "      <td>28.77</td>\n",
       "      <td>38</td>\n",
       "      <td>20115.54</td>\n",
       "      <td>24.0</td>\n",
       "      <td>0.02</td>\n",
       "    </tr>\n",
       "    <tr>\n",
       "      <th>83700</th>\n",
       "      <td>17.24</td>\n",
       "      <td>10</td>\n",
       "      <td>12895.17</td>\n",
       "      <td>28.0</td>\n",
       "      <td>0.02</td>\n",
       "    </tr>\n",
       "    <tr>\n",
       "      <th>4328</th>\n",
       "      <td>6.50</td>\n",
       "      <td>41</td>\n",
       "      <td>4881.28</td>\n",
       "      <td>42.0</td>\n",
       "      <td>0.02</td>\n",
       "    </tr>\n",
       "    <tr>\n",
       "      <th>7589</th>\n",
       "      <td>5.00</td>\n",
       "      <td>7</td>\n",
       "      <td>4068.67</td>\n",
       "      <td>10.0</td>\n",
       "      <td>0.01</td>\n",
       "    </tr>\n",
       "    <tr>\n",
       "      <th>28757</th>\n",
       "      <td>5.29</td>\n",
       "      <td>30</td>\n",
       "      <td>4405.45</td>\n",
       "      <td>9.0</td>\n",
       "      <td>0.01</td>\n",
       "    </tr>\n",
       "  </tbody>\n",
       "</table>\n",
       "<p>1629 rows × 5 columns</p>\n",
       "</div>"
      ],
      "text/plain": [
       "         median_rent_m2  num_rent  median_price_m2  num_sale  \\\n",
       "zipCode                                                        \n",
       "4639               4.96         8            25.37       7.0   \n",
       "47169              6.16        58           142.25      22.0   \n",
       "17139              5.11        19           391.11       6.0   \n",
       "47229              6.57        30           570.55       8.0   \n",
       "8412               4.89       249           439.31      21.0   \n",
       "...                 ...       ...              ...       ...   \n",
       "80333             28.77        38         20115.54      24.0   \n",
       "83700             17.24        10         12895.17      28.0   \n",
       "4328               6.50        41          4881.28      42.0   \n",
       "7589               5.00         7          4068.67      10.0   \n",
       "28757              5.29        30          4405.45       9.0   \n",
       "\n",
       "         median_yearly_ROI  \n",
       "zipCode                     \n",
       "4639                  2.35  \n",
       "47169                 0.52  \n",
       "17139                 0.16  \n",
       "47229                 0.14  \n",
       "8412                  0.13  \n",
       "...                    ...  \n",
       "80333                 0.02  \n",
       "83700                 0.02  \n",
       "4328                  0.02  \n",
       "7589                  0.01  \n",
       "28757                 0.01  \n",
       "\n",
       "[1629 rows x 5 columns]"
      ]
     },
     "execution_count": 17,
     "metadata": {},
     "output_type": "execute_result"
    },
    {
     "data": {
      "application/javascript": [
       "\n",
       "            setTimeout(function() {\n",
       "                var nbb_cell_id = 17;\n",
       "                var nbb_unformatted_code = \"min_num = 5\\ncombined_filt_ord = \\\"median_yearly_ROI\\\"\\n\\ncombined_filt = (combined_df[\\\"num_rent\\\"] > min_num) & (\\n    combined_df[\\\"num_sale\\\"] > min_num\\n)\\ncombined_df[combined_filt].sort_values(combined_filt_ord, ascending=False)\";\n",
       "                var nbb_formatted_code = \"min_num = 5\\ncombined_filt_ord = \\\"median_yearly_ROI\\\"\\n\\ncombined_filt = (combined_df[\\\"num_rent\\\"] > min_num) & (\\n    combined_df[\\\"num_sale\\\"] > min_num\\n)\\ncombined_df[combined_filt].sort_values(combined_filt_ord, ascending=False)\";\n",
       "                var nbb_cells = Jupyter.notebook.get_cells();\n",
       "                for (var i = 0; i < nbb_cells.length; ++i) {\n",
       "                    if (nbb_cells[i].input_prompt_number == nbb_cell_id) {\n",
       "                        if (nbb_cells[i].get_text() == nbb_unformatted_code) {\n",
       "                             nbb_cells[i].set_text(nbb_formatted_code);\n",
       "                        }\n",
       "                        break;\n",
       "                    }\n",
       "                }\n",
       "            }, 500);\n",
       "            "
      ],
      "text/plain": [
       "<IPython.core.display.Javascript object>"
      ]
     },
     "metadata": {},
     "output_type": "display_data"
    }
   ],
   "source": [
    "min_num = 5\n",
    "combined_filt_ord = \"median_yearly_ROI\"\n",
    "\n",
    "combined_filt = (combined_df[\"num_rent\"] > min_num) & (\n",
    "    combined_df[\"num_sale\"] > min_num\n",
    ")\n",
    "combined_df[combined_filt].sort_values(combined_filt_ord, ascending=False)"
   ]
  },
  {
   "cell_type": "markdown",
   "metadata": {},
   "source": [
    "#### pick regions to further inspect:"
   ]
  },
  {
   "cell_type": "code",
   "execution_count": 18,
   "metadata": {},
   "outputs": [
    {
     "data": {
      "text/html": [
       "<div>\n",
       "<style scoped>\n",
       "    .dataframe tbody tr th:only-of-type {\n",
       "        vertical-align: middle;\n",
       "    }\n",
       "\n",
       "    .dataframe tbody tr th {\n",
       "        vertical-align: top;\n",
       "    }\n",
       "\n",
       "    .dataframe thead th {\n",
       "        text-align: right;\n",
       "    }\n",
       "</style>\n",
       "<table border=\"1\" class=\"dataframe\">\n",
       "  <thead>\n",
       "    <tr style=\"text-align: right;\">\n",
       "      <th></th>\n",
       "      <th>median_rent_m2</th>\n",
       "      <th>num_rent</th>\n",
       "      <th>median_price_m2</th>\n",
       "      <th>num_sale</th>\n",
       "      <th>median_yearly_ROI</th>\n",
       "    </tr>\n",
       "    <tr>\n",
       "      <th>zipCode</th>\n",
       "      <th></th>\n",
       "      <th></th>\n",
       "      <th></th>\n",
       "      <th></th>\n",
       "      <th></th>\n",
       "    </tr>\n",
       "  </thead>\n",
       "  <tbody>\n",
       "    <tr>\n",
       "      <th>72074</th>\n",
       "      <td>13.82</td>\n",
       "      <td>8</td>\n",
       "      <td>4954.84</td>\n",
       "      <td>3.0</td>\n",
       "      <td>0.03</td>\n",
       "    </tr>\n",
       "  </tbody>\n",
       "</table>\n",
       "</div>"
      ],
      "text/plain": [
       "         median_rent_m2  num_rent  median_price_m2  num_sale  \\\n",
       "zipCode                                                        \n",
       "72074             13.82         8          4954.84       3.0   \n",
       "\n",
       "         median_yearly_ROI  \n",
       "zipCode                     \n",
       "72074                 0.03  "
      ]
     },
     "execution_count": 18,
     "metadata": {},
     "output_type": "execute_result"
    },
    {
     "data": {
      "application/javascript": [
       "\n",
       "            setTimeout(function() {\n",
       "                var nbb_cell_id = 18;\n",
       "                var nbb_unformatted_code = \"regions = [72074]\\ncombined_df.loc[regions]\";\n",
       "                var nbb_formatted_code = \"regions = [72074]\\ncombined_df.loc[regions]\";\n",
       "                var nbb_cells = Jupyter.notebook.get_cells();\n",
       "                for (var i = 0; i < nbb_cells.length; ++i) {\n",
       "                    if (nbb_cells[i].input_prompt_number == nbb_cell_id) {\n",
       "                        if (nbb_cells[i].get_text() == nbb_unformatted_code) {\n",
       "                             nbb_cells[i].set_text(nbb_formatted_code);\n",
       "                        }\n",
       "                        break;\n",
       "                    }\n",
       "                }\n",
       "            }, 500);\n",
       "            "
      ],
      "text/plain": [
       "<IPython.core.display.Javascript object>"
      ]
     },
     "metadata": {},
     "output_type": "display_data"
    }
   ],
   "source": [
    "regions = [72074]\n",
    "combined_df.loc[regions]"
   ]
  },
  {
   "cell_type": "markdown",
   "metadata": {},
   "source": [
    "### 3.3) Apartments for rent"
   ]
  },
  {
   "cell_type": "code",
   "execution_count": 19,
   "metadata": {},
   "outputs": [
    {
     "data": {
      "text/html": [
       "<div>\n",
       "<style scoped>\n",
       "    .dataframe tbody tr th:only-of-type {\n",
       "        vertical-align: middle;\n",
       "    }\n",
       "\n",
       "    .dataframe tbody tr th {\n",
       "        vertical-align: top;\n",
       "    }\n",
       "\n",
       "    .dataframe thead th {\n",
       "        text-align: right;\n",
       "    }\n",
       "</style>\n",
       "<table border=\"1\" class=\"dataframe\">\n",
       "  <thead>\n",
       "    <tr style=\"text-align: right;\">\n",
       "      <th></th>\n",
       "      <th>rent_m2</th>\n",
       "      <th>baseRent</th>\n",
       "      <th>livingSpace</th>\n",
       "      <th>noRooms</th>\n",
       "      <th>zipCode</th>\n",
       "      <th>regio2</th>\n",
       "      <th>link</th>\n",
       "    </tr>\n",
       "  </thead>\n",
       "  <tbody>\n",
       "    <tr>\n",
       "      <th>36911</th>\n",
       "      <td>9.51</td>\n",
       "      <td>371.0</td>\n",
       "      <td>39.0</td>\n",
       "      <td>1.0</td>\n",
       "      <td>72074</td>\n",
       "      <td>Tübingen_Kreis</td>\n",
       "      <td>https://www.immobilienscout24.de/expose/120137026</td>\n",
       "    </tr>\n",
       "    <tr>\n",
       "      <th>63296</th>\n",
       "      <td>10.00</td>\n",
       "      <td>1500.0</td>\n",
       "      <td>150.0</td>\n",
       "      <td>5.0</td>\n",
       "      <td>72074</td>\n",
       "      <td>Tübingen_Kreis</td>\n",
       "      <td>https://www.immobilienscout24.de/expose/118496278</td>\n",
       "    </tr>\n",
       "    <tr>\n",
       "      <th>36992</th>\n",
       "      <td>11.00</td>\n",
       "      <td>924.0</td>\n",
       "      <td>84.0</td>\n",
       "      <td>3.0</td>\n",
       "      <td>72074</td>\n",
       "      <td>Tübingen_Kreis</td>\n",
       "      <td>https://www.immobilienscout24.de/expose/120135517</td>\n",
       "    </tr>\n",
       "    <tr>\n",
       "      <th>98430</th>\n",
       "      <td>13.64</td>\n",
       "      <td>300.0</td>\n",
       "      <td>22.0</td>\n",
       "      <td>1.0</td>\n",
       "      <td>72074</td>\n",
       "      <td>Tübingen_Kreis</td>\n",
       "      <td>https://www.immobilienscout24.de/expose/65446426</td>\n",
       "    </tr>\n",
       "    <tr>\n",
       "      <th>12624</th>\n",
       "      <td>14.00</td>\n",
       "      <td>1470.0</td>\n",
       "      <td>105.0</td>\n",
       "      <td>3.0</td>\n",
       "      <td>72074</td>\n",
       "      <td>Tübingen_Kreis</td>\n",
       "      <td>https://www.immobilienscout24.de/expose/117551317</td>\n",
       "    </tr>\n",
       "    <tr>\n",
       "      <th>976</th>\n",
       "      <td>14.80</td>\n",
       "      <td>1850.0</td>\n",
       "      <td>125.0</td>\n",
       "      <td>4.0</td>\n",
       "      <td>72074</td>\n",
       "      <td>Tübingen_Kreis</td>\n",
       "      <td>https://www.immobilienscout24.de/expose/119837191</td>\n",
       "    </tr>\n",
       "    <tr>\n",
       "      <th>34821</th>\n",
       "      <td>15.57</td>\n",
       "      <td>475.0</td>\n",
       "      <td>30.5</td>\n",
       "      <td>1.5</td>\n",
       "      <td>72074</td>\n",
       "      <td>Tübingen_Kreis</td>\n",
       "      <td>https://www.immobilienscout24.de/expose/94758279</td>\n",
       "    </tr>\n",
       "    <tr>\n",
       "      <th>37949</th>\n",
       "      <td>21.30</td>\n",
       "      <td>980.0</td>\n",
       "      <td>46.0</td>\n",
       "      <td>2.0</td>\n",
       "      <td>72074</td>\n",
       "      <td>Tübingen_Kreis</td>\n",
       "      <td>https://www.immobilienscout24.de/expose/120098486</td>\n",
       "    </tr>\n",
       "  </tbody>\n",
       "</table>\n",
       "</div>"
      ],
      "text/plain": [
       "       rent_m2  baseRent  livingSpace  noRooms  zipCode          regio2  \\\n",
       "36911     9.51     371.0         39.0      1.0    72074  Tübingen_Kreis   \n",
       "63296    10.00    1500.0        150.0      5.0    72074  Tübingen_Kreis   \n",
       "36992    11.00     924.0         84.0      3.0    72074  Tübingen_Kreis   \n",
       "98430    13.64     300.0         22.0      1.0    72074  Tübingen_Kreis   \n",
       "12624    14.00    1470.0        105.0      3.0    72074  Tübingen_Kreis   \n",
       "976      14.80    1850.0        125.0      4.0    72074  Tübingen_Kreis   \n",
       "34821    15.57     475.0         30.5      1.5    72074  Tübingen_Kreis   \n",
       "37949    21.30     980.0         46.0      2.0    72074  Tübingen_Kreis   \n",
       "\n",
       "                                                    link  \n",
       "36911  https://www.immobilienscout24.de/expose/120137026  \n",
       "63296  https://www.immobilienscout24.de/expose/118496278  \n",
       "36992  https://www.immobilienscout24.de/expose/120135517  \n",
       "98430   https://www.immobilienscout24.de/expose/65446426  \n",
       "12624  https://www.immobilienscout24.de/expose/117551317  \n",
       "976    https://www.immobilienscout24.de/expose/119837191  \n",
       "34821   https://www.immobilienscout24.de/expose/94758279  \n",
       "37949  https://www.immobilienscout24.de/expose/120098486  "
      ]
     },
     "execution_count": 19,
     "metadata": {},
     "output_type": "execute_result"
    },
    {
     "data": {
      "application/javascript": [
       "\n",
       "            setTimeout(function() {\n",
       "                var nbb_cell_id = 19;\n",
       "                var nbb_unformatted_code = \"rent_filt_col = \\\"zipCode\\\"\\nrent_filt_arg = regions\\nrent_ord = \\\"rent_m2\\\"\\n\\nrent_filt = rent_select_df[rent_filt_col].isin(rent_filt_arg)\\nrent_select_df[rent_filt].sort_values(rent_ord).head(20)\";\n",
       "                var nbb_formatted_code = \"rent_filt_col = \\\"zipCode\\\"\\nrent_filt_arg = regions\\nrent_ord = \\\"rent_m2\\\"\\n\\nrent_filt = rent_select_df[rent_filt_col].isin(rent_filt_arg)\\nrent_select_df[rent_filt].sort_values(rent_ord).head(20)\";\n",
       "                var nbb_cells = Jupyter.notebook.get_cells();\n",
       "                for (var i = 0; i < nbb_cells.length; ++i) {\n",
       "                    if (nbb_cells[i].input_prompt_number == nbb_cell_id) {\n",
       "                        if (nbb_cells[i].get_text() == nbb_unformatted_code) {\n",
       "                             nbb_cells[i].set_text(nbb_formatted_code);\n",
       "                        }\n",
       "                        break;\n",
       "                    }\n",
       "                }\n",
       "            }, 500);\n",
       "            "
      ],
      "text/plain": [
       "<IPython.core.display.Javascript object>"
      ]
     },
     "metadata": {},
     "output_type": "display_data"
    }
   ],
   "source": [
    "rent_filt_col = \"zipCode\"\n",
    "rent_filt_arg = regions\n",
    "rent_ord = \"rent_m2\"\n",
    "\n",
    "rent_filt = rent_select_df[rent_filt_col].isin(rent_filt_arg)\n",
    "rent_select_df[rent_filt].sort_values(rent_ord).head(20)"
   ]
  },
  {
   "cell_type": "markdown",
   "metadata": {},
   "source": [
    "### 3.4) Apartments for sale"
   ]
  },
  {
   "cell_type": "code",
   "execution_count": 20,
   "metadata": {},
   "outputs": [
    {
     "data": {
      "text/html": [
       "<div>\n",
       "<style scoped>\n",
       "    .dataframe tbody tr th:only-of-type {\n",
       "        vertical-align: middle;\n",
       "    }\n",
       "\n",
       "    .dataframe tbody tr th {\n",
       "        vertical-align: top;\n",
       "    }\n",
       "\n",
       "    .dataframe thead th {\n",
       "        text-align: right;\n",
       "    }\n",
       "</style>\n",
       "<table border=\"1\" class=\"dataframe\">\n",
       "  <thead>\n",
       "    <tr style=\"text-align: right;\">\n",
       "      <th></th>\n",
       "      <th>yearly_ROI</th>\n",
       "      <th>price_m2</th>\n",
       "      <th>purchasePrice</th>\n",
       "      <th>livingSpace</th>\n",
       "      <th>noRooms</th>\n",
       "      <th>zipCode</th>\n",
       "      <th>rent_m2_zC</th>\n",
       "      <th>regio2</th>\n",
       "      <th>link</th>\n",
       "    </tr>\n",
       "  </thead>\n",
       "  <tbody>\n",
       "    <tr>\n",
       "      <th>11735</th>\n",
       "      <td>0.04</td>\n",
       "      <td>4736.84</td>\n",
       "      <td>360000.0</td>\n",
       "      <td>76.0</td>\n",
       "      <td>3.0</td>\n",
       "      <td>72074</td>\n",
       "      <td>13.82</td>\n",
       "      <td>Tübingen_Kreis</td>\n",
       "      <td>https://www.immobilienscout24.de/expose/116571440</td>\n",
       "    </tr>\n",
       "    <tr>\n",
       "      <th>17229</th>\n",
       "      <td>0.03</td>\n",
       "      <td>4954.84</td>\n",
       "      <td>768000.0</td>\n",
       "      <td>155.0</td>\n",
       "      <td>4.0</td>\n",
       "      <td>72074</td>\n",
       "      <td>13.82</td>\n",
       "      <td>Tübingen_Kreis</td>\n",
       "      <td>https://www.immobilienscout24.de/expose/117501062</td>\n",
       "    </tr>\n",
       "    <tr>\n",
       "      <th>20158</th>\n",
       "      <td>0.03</td>\n",
       "      <td>5572.73</td>\n",
       "      <td>613000.0</td>\n",
       "      <td>110.0</td>\n",
       "      <td>4.5</td>\n",
       "      <td>72074</td>\n",
       "      <td>13.82</td>\n",
       "      <td>Tübingen_Kreis</td>\n",
       "      <td>https://www.immobilienscout24.de/expose/117071241</td>\n",
       "    </tr>\n",
       "  </tbody>\n",
       "</table>\n",
       "</div>"
      ],
      "text/plain": [
       "       yearly_ROI  price_m2  purchasePrice  livingSpace  noRooms  zipCode  \\\n",
       "11735        0.04   4736.84       360000.0         76.0      3.0    72074   \n",
       "17229        0.03   4954.84       768000.0        155.0      4.0    72074   \n",
       "20158        0.03   5572.73       613000.0        110.0      4.5    72074   \n",
       "\n",
       "       rent_m2_zC          regio2  \\\n",
       "11735       13.82  Tübingen_Kreis   \n",
       "17229       13.82  Tübingen_Kreis   \n",
       "20158       13.82  Tübingen_Kreis   \n",
       "\n",
       "                                                    link  \n",
       "11735  https://www.immobilienscout24.de/expose/116571440  \n",
       "17229  https://www.immobilienscout24.de/expose/117501062  \n",
       "20158  https://www.immobilienscout24.de/expose/117071241  "
      ]
     },
     "execution_count": 20,
     "metadata": {},
     "output_type": "execute_result"
    },
    {
     "data": {
      "application/javascript": [
       "\n",
       "            setTimeout(function() {\n",
       "                var nbb_cell_id = 20;\n",
       "                var nbb_unformatted_code = \"sale_filt_col = \\\"zipCode\\\"\\nsale_filt_arg = regions\\nsale_ord = \\\"yearly_ROI\\\"\\n\\nsale_filt = sale_select_df[sale_filt_col].isin(sale_filt_arg)\\nsale_select_df[sale_filt].sort_values(sale_ord, ascending=False)\";\n",
       "                var nbb_formatted_code = \"sale_filt_col = \\\"zipCode\\\"\\nsale_filt_arg = regions\\nsale_ord = \\\"yearly_ROI\\\"\\n\\nsale_filt = sale_select_df[sale_filt_col].isin(sale_filt_arg)\\nsale_select_df[sale_filt].sort_values(sale_ord, ascending=False)\";\n",
       "                var nbb_cells = Jupyter.notebook.get_cells();\n",
       "                for (var i = 0; i < nbb_cells.length; ++i) {\n",
       "                    if (nbb_cells[i].input_prompt_number == nbb_cell_id) {\n",
       "                        if (nbb_cells[i].get_text() == nbb_unformatted_code) {\n",
       "                             nbb_cells[i].set_text(nbb_formatted_code);\n",
       "                        }\n",
       "                        break;\n",
       "                    }\n",
       "                }\n",
       "            }, 500);\n",
       "            "
      ],
      "text/plain": [
       "<IPython.core.display.Javascript object>"
      ]
     },
     "metadata": {},
     "output_type": "display_data"
    }
   ],
   "source": [
    "sale_filt_col = \"zipCode\"\n",
    "sale_filt_arg = regions\n",
    "sale_ord = \"yearly_ROI\"\n",
    "\n",
    "sale_filt = sale_select_df[sale_filt_col].isin(sale_filt_arg)\n",
    "sale_select_df[sale_filt].sort_values(sale_ord, ascending=False)"
   ]
  }
 ],
 "metadata": {
  "file_extension": ".py",
  "kernelspec": {
   "display_name": "Python 3",
   "language": "python",
   "name": "python3"
  },
  "language_info": {
   "codemirror_mode": {
    "name": "ipython",
    "version": 3
   },
   "file_extension": ".py",
   "mimetype": "text/x-python",
   "name": "python",
   "nbconvert_exporter": "python",
   "pygments_lexer": "ipython3",
   "version": "3.8.2"
  },
  "mimetype": "text/x-python",
  "name": "python",
  "npconvert_exporter": "python",
  "pygments_lexer": "ipython3",
  "version": 3
 },
 "nbformat": 4,
 "nbformat_minor": 2
}
