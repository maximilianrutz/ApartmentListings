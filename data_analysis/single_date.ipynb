{
 "cells": [
  {
   "cell_type": "markdown",
   "metadata": {},
   "source": [
    "# <center>German apartment listings</center>"
   ]
  },
  {
   "cell_type": "markdown",
   "metadata": {},
   "source": [
    "## 0) Imports"
   ]
  },
  {
   "cell_type": "code",
   "execution_count": 1,
   "metadata": {},
   "outputs": [
    {
     "data": {
      "application/javascript": [
       "\n",
       "            setTimeout(function() {\n",
       "                var nbb_cell_id = 1;\n",
       "                var nbb_unformatted_code = \"import numpy as np\\nfrom matplotlib import pyplot as plt\\nimport pandas as pd\\nfrom timeit import default_timer as timer\\n\\nimport glob\\nfrom scipy import stats\\nfrom sklearn.model_selection import train_test_split\\nfrom sklearn.covariance import EllipticEnvelope\\nfrom sklearn.neighbors import LocalOutlierFactor\\nfrom sklearn.ensemble import IsolationForest\\n\\nimport dataprocessing as dproc\\n\\n%load_ext nb_black\\n%matplotlib inline\\n\\nplt.rcParams[\\\"figure.dpi\\\"] = 130\\npd.set_option(\\\"display.precision\\\", 2)\\npd.set_option(\\\"display.max_columns\\\", None)\";\n",
       "                var nbb_formatted_code = \"import numpy as np\\nfrom matplotlib import pyplot as plt\\nimport pandas as pd\\nfrom timeit import default_timer as timer\\n\\nimport glob\\nfrom scipy import stats\\nfrom sklearn.model_selection import train_test_split\\nfrom sklearn.covariance import EllipticEnvelope\\nfrom sklearn.neighbors import LocalOutlierFactor\\nfrom sklearn.ensemble import IsolationForest\\n\\nimport dataprocessing as dproc\\n\\n%load_ext nb_black\\n%matplotlib inline\\n\\nplt.rcParams[\\\"figure.dpi\\\"] = 130\\npd.set_option(\\\"display.precision\\\", 2)\\npd.set_option(\\\"display.max_columns\\\", None)\";\n",
       "                var nbb_cells = Jupyter.notebook.get_cells();\n",
       "                for (var i = 0; i < nbb_cells.length; ++i) {\n",
       "                    if (nbb_cells[i].input_prompt_number == nbb_cell_id) {\n",
       "                        if (nbb_cells[i].get_text() == nbb_unformatted_code) {\n",
       "                             nbb_cells[i].set_text(nbb_formatted_code);\n",
       "                        }\n",
       "                        break;\n",
       "                    }\n",
       "                }\n",
       "            }, 500);\n",
       "            "
      ],
      "text/plain": [
       "<IPython.core.display.Javascript object>"
      ]
     },
     "metadata": {},
     "output_type": "display_data"
    }
   ],
   "source": [
    "import numpy as np\n",
    "from matplotlib import pyplot as plt\n",
    "import pandas as pd\n",
    "from timeit import default_timer as timer\n",
    "\n",
    "import glob\n",
    "from scipy import stats\n",
    "from sklearn.model_selection import train_test_split\n",
    "from sklearn.covariance import EllipticEnvelope\n",
    "from sklearn.neighbors import LocalOutlierFactor\n",
    "from sklearn.ensemble import IsolationForest\n",
    "\n",
    "import dataprocessing as dproc\n",
    "\n",
    "%load_ext nb_black\n",
    "%matplotlib inline\n",
    "\n",
    "plt.rcParams[\"figure.dpi\"] = 130\n",
    "pd.set_option(\"display.precision\", 2)\n",
    "pd.set_option(\"display.max_columns\", None)"
   ]
  },
  {
   "cell_type": "markdown",
   "metadata": {},
   "source": [
    "## 1) Data Preprocessing"
   ]
  },
  {
   "cell_type": "markdown",
   "metadata": {},
   "source": [
    "#### find dates:"
   ]
  },
  {
   "cell_type": "code",
   "execution_count": 2,
   "metadata": {},
   "outputs": [
    {
     "data": {
      "application/javascript": [
       "\n",
       "            setTimeout(function() {\n",
       "                var nbb_cell_id = 2;\n",
       "                var nbb_unformatted_code = \"dates = sorted(\\n    [\\n        s[s.find(\\\"mieten\\\") + len(\\\"mieten\\\") : s.rfind(\\\".csv\\\")]\\n        for s in glob.glob(\\\"../data/mieten*\\\")\\n    ]\\n)\";\n",
       "                var nbb_formatted_code = \"dates = sorted(\\n    [\\n        s[s.find(\\\"mieten\\\") + len(\\\"mieten\\\") : s.rfind(\\\".csv\\\")]\\n        for s in glob.glob(\\\"../data/mieten*\\\")\\n    ]\\n)\";\n",
       "                var nbb_cells = Jupyter.notebook.get_cells();\n",
       "                for (var i = 0; i < nbb_cells.length; ++i) {\n",
       "                    if (nbb_cells[i].input_prompt_number == nbb_cell_id) {\n",
       "                        if (nbb_cells[i].get_text() == nbb_unformatted_code) {\n",
       "                             nbb_cells[i].set_text(nbb_formatted_code);\n",
       "                        }\n",
       "                        break;\n",
       "                    }\n",
       "                }\n",
       "            }, 500);\n",
       "            "
      ],
      "text/plain": [
       "<IPython.core.display.Javascript object>"
      ]
     },
     "metadata": {},
     "output_type": "display_data"
    }
   ],
   "source": [
    "dates = sorted(\n",
    "    [\n",
    "        s[s.find(\"mieten\") + len(\"mieten\") : s.rfind(\".csv\")]\n",
    "        for s in glob.glob(\"../data/mieten*\")\n",
    "    ]\n",
    ")"
   ]
  },
  {
   "cell_type": "markdown",
   "metadata": {},
   "source": [
    "#### load data:"
   ]
  },
  {
   "cell_type": "code",
   "execution_count": 3,
   "metadata": {},
   "outputs": [
    {
     "data": {
      "application/javascript": [
       "\n",
       "            setTimeout(function() {\n",
       "                var nbb_cell_id = 3;\n",
       "                var nbb_unformatted_code = \"rent_df = dproc.create_rent_df(dates[-1])\\nsale_df = dproc.create_sale_df(dates[-1])\";\n",
       "                var nbb_formatted_code = \"rent_df = dproc.create_rent_df(dates[-1])\\nsale_df = dproc.create_sale_df(dates[-1])\";\n",
       "                var nbb_cells = Jupyter.notebook.get_cells();\n",
       "                for (var i = 0; i < nbb_cells.length; ++i) {\n",
       "                    if (nbb_cells[i].input_prompt_number == nbb_cell_id) {\n",
       "                        if (nbb_cells[i].get_text() == nbb_unformatted_code) {\n",
       "                             nbb_cells[i].set_text(nbb_formatted_code);\n",
       "                        }\n",
       "                        break;\n",
       "                    }\n",
       "                }\n",
       "            }, 500);\n",
       "            "
      ],
      "text/plain": [
       "<IPython.core.display.Javascript object>"
      ]
     },
     "metadata": {},
     "output_type": "display_data"
    }
   ],
   "source": [
    "rent_df = dproc.create_rent_df(dates[-1])\n",
    "sale_df = dproc.create_sale_df(dates[-1])"
   ]
  },
  {
   "cell_type": "markdown",
   "metadata": {},
   "source": [
    "#### add links:"
   ]
  },
  {
   "cell_type": "code",
   "execution_count": 4,
   "metadata": {},
   "outputs": [
    {
     "data": {
      "application/javascript": [
       "\n",
       "            setTimeout(function() {\n",
       "                var nbb_cell_id = 4;\n",
       "                var nbb_unformatted_code = \"rent_df[\\\"link\\\"] = \\\"https://www.immobilienscout24.de/expose/\\\" + rent_df[\\n    \\\"scoutId\\\"\\n].astype(str)\\nsale_df[\\\"link\\\"] = \\\"https://www.immobilienscout24.de/expose/\\\" + sale_df[\\n    \\\"scoutId\\\"\\n].astype(str)\";\n",
       "                var nbb_formatted_code = \"rent_df[\\\"link\\\"] = \\\"https://www.immobilienscout24.de/expose/\\\" + rent_df[\\n    \\\"scoutId\\\"\\n].astype(str)\\nsale_df[\\\"link\\\"] = \\\"https://www.immobilienscout24.de/expose/\\\" + sale_df[\\n    \\\"scoutId\\\"\\n].astype(str)\";\n",
       "                var nbb_cells = Jupyter.notebook.get_cells();\n",
       "                for (var i = 0; i < nbb_cells.length; ++i) {\n",
       "                    if (nbb_cells[i].input_prompt_number == nbb_cell_id) {\n",
       "                        if (nbb_cells[i].get_text() == nbb_unformatted_code) {\n",
       "                             nbb_cells[i].set_text(nbb_formatted_code);\n",
       "                        }\n",
       "                        break;\n",
       "                    }\n",
       "                }\n",
       "            }, 500);\n",
       "            "
      ],
      "text/plain": [
       "<IPython.core.display.Javascript object>"
      ]
     },
     "metadata": {},
     "output_type": "display_data"
    }
   ],
   "source": [
    "rent_df[\"link\"] = \"https://www.immobilienscout24.de/expose/\" + rent_df[\n",
    "    \"scoutId\"\n",
    "].astype(str)\n",
    "sale_df[\"link\"] = \"https://www.immobilienscout24.de/expose/\" + sale_df[\n",
    "    \"scoutId\"\n",
    "].astype(str)"
   ]
  },
  {
   "cell_type": "markdown",
   "metadata": {},
   "source": [
    "#### select features:"
   ]
  },
  {
   "cell_type": "code",
   "execution_count": 5,
   "metadata": {},
   "outputs": [
    {
     "data": {
      "application/javascript": [
       "\n",
       "            setTimeout(function() {\n",
       "                var nbb_cell_id = 5;\n",
       "                var nbb_unformatted_code = \"rent_columns = [\\n    \\\"rent_m2\\\",\\n    \\\"baseRent\\\",\\n    \\\"livingSpace\\\",\\n    \\\"noRooms\\\",\\n    \\\"zipCode\\\",\\n    \\\"regio2\\\",\\n    \\\"link\\\",\\n]\\nrent_df = rent_df[rent_columns].copy()\\n\\nsale_columns = [\\n    \\\"price_m2\\\",\\n    \\\"purchasePrice\\\",\\n    \\\"livingSpace\\\",\\n    \\\"noRooms\\\",\\n    \\\"zipCode\\\",\\n    \\\"regio2\\\",\\n    \\\"link\\\",\\n]\\nsale_df = sale_df[sale_columns].copy()\";\n",
       "                var nbb_formatted_code = \"rent_columns = [\\n    \\\"rent_m2\\\",\\n    \\\"baseRent\\\",\\n    \\\"livingSpace\\\",\\n    \\\"noRooms\\\",\\n    \\\"zipCode\\\",\\n    \\\"regio2\\\",\\n    \\\"link\\\",\\n]\\nrent_df = rent_df[rent_columns].copy()\\n\\nsale_columns = [\\n    \\\"price_m2\\\",\\n    \\\"purchasePrice\\\",\\n    \\\"livingSpace\\\",\\n    \\\"noRooms\\\",\\n    \\\"zipCode\\\",\\n    \\\"regio2\\\",\\n    \\\"link\\\",\\n]\\nsale_df = sale_df[sale_columns].copy()\";\n",
       "                var nbb_cells = Jupyter.notebook.get_cells();\n",
       "                for (var i = 0; i < nbb_cells.length; ++i) {\n",
       "                    if (nbb_cells[i].input_prompt_number == nbb_cell_id) {\n",
       "                        if (nbb_cells[i].get_text() == nbb_unformatted_code) {\n",
       "                             nbb_cells[i].set_text(nbb_formatted_code);\n",
       "                        }\n",
       "                        break;\n",
       "                    }\n",
       "                }\n",
       "            }, 500);\n",
       "            "
      ],
      "text/plain": [
       "<IPython.core.display.Javascript object>"
      ]
     },
     "metadata": {},
     "output_type": "display_data"
    }
   ],
   "source": [
    "rent_columns = [\n",
    "    \"rent_m2\",\n",
    "    \"baseRent\",\n",
    "    \"livingSpace\",\n",
    "    \"noRooms\",\n",
    "    \"zipCode\",\n",
    "    \"regio2\",\n",
    "    \"link\",\n",
    "]\n",
    "rent_df = rent_df[rent_columns].copy()\n",
    "\n",
    "sale_columns = [\n",
    "    \"price_m2\",\n",
    "    \"purchasePrice\",\n",
    "    \"livingSpace\",\n",
    "    \"noRooms\",\n",
    "    \"zipCode\",\n",
    "    \"regio2\",\n",
    "    \"link\",\n",
    "]\n",
    "sale_df = sale_df[sale_columns].copy()"
   ]
  },
  {
   "cell_type": "markdown",
   "metadata": {},
   "source": [
    "#### add return of investment based on median rents for zipCode"
   ]
  },
  {
   "cell_type": "code",
   "execution_count": 6,
   "metadata": {},
   "outputs": [
    {
     "data": {
      "application/javascript": [
       "\n",
       "            setTimeout(function() {\n",
       "                var nbb_cell_id = 6;\n",
       "                var nbb_unformatted_code = \"g = rent_df.groupby(\\\"zipCode\\\")[\\\"rent_m2\\\"].median()\\ng.name = \\\"rent_m2_zC\\\"\\nrent_m2_zipCode = sale_df.join(g, on=\\\"zipCode\\\").copy()[\\\"rent_m2_zC\\\"]\\nsale_df.insert(\\n    loc=sale_df.columns.get_loc(\\\"zipCode\\\") + 1,\\n    column=\\\"rent_m2_zC\\\",\\n    value=rent_m2_zipCode,\\n)\\n\\nyearly_ROI = sale_df[\\\"rent_m2_zC\\\"] * 12 / sale_df[\\\"price_m2\\\"]\\nsale_df.insert(loc=0, column=\\\"yearly_roi\\\", value=yearly_ROI)\";\n",
       "                var nbb_formatted_code = \"g = rent_df.groupby(\\\"zipCode\\\")[\\\"rent_m2\\\"].median()\\ng.name = \\\"rent_m2_zC\\\"\\nrent_m2_zipCode = sale_df.join(g, on=\\\"zipCode\\\").copy()[\\\"rent_m2_zC\\\"]\\nsale_df.insert(\\n    loc=sale_df.columns.get_loc(\\\"zipCode\\\") + 1,\\n    column=\\\"rent_m2_zC\\\",\\n    value=rent_m2_zipCode,\\n)\\n\\nyearly_ROI = sale_df[\\\"rent_m2_zC\\\"] * 12 / sale_df[\\\"price_m2\\\"]\\nsale_df.insert(loc=0, column=\\\"yearly_roi\\\", value=yearly_ROI)\";\n",
       "                var nbb_cells = Jupyter.notebook.get_cells();\n",
       "                for (var i = 0; i < nbb_cells.length; ++i) {\n",
       "                    if (nbb_cells[i].input_prompt_number == nbb_cell_id) {\n",
       "                        if (nbb_cells[i].get_text() == nbb_unformatted_code) {\n",
       "                             nbb_cells[i].set_text(nbb_formatted_code);\n",
       "                        }\n",
       "                        break;\n",
       "                    }\n",
       "                }\n",
       "            }, 500);\n",
       "            "
      ],
      "text/plain": [
       "<IPython.core.display.Javascript object>"
      ]
     },
     "metadata": {},
     "output_type": "display_data"
    }
   ],
   "source": [
    "g = rent_df.groupby(\"zipCode\")[\"rent_m2\"].median()\n",
    "g.name = \"rent_m2_zC\"\n",
    "rent_m2_zipCode = sale_df.join(g, on=\"zipCode\").copy()[\"rent_m2_zC\"]\n",
    "sale_df.insert(\n",
    "    loc=sale_df.columns.get_loc(\"zipCode\") + 1,\n",
    "    column=\"rent_m2_zC\",\n",
    "    value=rent_m2_zipCode,\n",
    ")\n",
    "\n",
    "yearly_ROI = sale_df[\"rent_m2_zC\"] * 12 / sale_df[\"price_m2\"]\n",
    "sale_df.insert(loc=0, column=\"yearly_roi\", value=yearly_ROI)"
   ]
  },
  {
   "cell_type": "markdown",
   "metadata": {},
   "source": [
    "#### remove nans, infs and zeros:"
   ]
  },
  {
   "cell_type": "code",
   "execution_count": 7,
   "metadata": {},
   "outputs": [
    {
     "data": {
      "application/javascript": [
       "\n",
       "            setTimeout(function() {\n",
       "                var nbb_cell_id = 7;\n",
       "                var nbb_unformatted_code = \"allowed_nan_percentage_cols = 1\\n\\nrent_df = dproc.remove_nan_inf(rent_df, allowed_nan_percentage_cols)\\nsale_df = dproc.remove_nan_inf(sale_df, allowed_nan_percentage_cols)\\n\\nrent_df = rent_df[(rent_df[\\\"baseRent\\\"] != 0)]\\nsale_df = sale_df[(sale_df[\\\"purchasePrice\\\"] != 0)]\";\n",
       "                var nbb_formatted_code = \"allowed_nan_percentage_cols = 1\\n\\nrent_df = dproc.remove_nan_inf(rent_df, allowed_nan_percentage_cols)\\nsale_df = dproc.remove_nan_inf(sale_df, allowed_nan_percentage_cols)\\n\\nrent_df = rent_df[(rent_df[\\\"baseRent\\\"] != 0)]\\nsale_df = sale_df[(sale_df[\\\"purchasePrice\\\"] != 0)]\";\n",
       "                var nbb_cells = Jupyter.notebook.get_cells();\n",
       "                for (var i = 0; i < nbb_cells.length; ++i) {\n",
       "                    if (nbb_cells[i].input_prompt_number == nbb_cell_id) {\n",
       "                        if (nbb_cells[i].get_text() == nbb_unformatted_code) {\n",
       "                             nbb_cells[i].set_text(nbb_formatted_code);\n",
       "                        }\n",
       "                        break;\n",
       "                    }\n",
       "                }\n",
       "            }, 500);\n",
       "            "
      ],
      "text/plain": [
       "<IPython.core.display.Javascript object>"
      ]
     },
     "metadata": {},
     "output_type": "display_data"
    }
   ],
   "source": [
    "allowed_nan_percentage_cols = 1\n",
    "\n",
    "rent_df = dproc.remove_nan_inf(rent_df, allowed_nan_percentage_cols)\n",
    "sale_df = dproc.remove_nan_inf(sale_df, allowed_nan_percentage_cols)\n",
    "\n",
    "rent_df = rent_df[(rent_df[\"baseRent\"] != 0)]\n",
    "sale_df = sale_df[(sale_df[\"purchasePrice\"] != 0)]"
   ]
  },
  {
   "cell_type": "markdown",
   "metadata": {},
   "source": [
    "#### add combined dataframe with median rents and prices:"
   ]
  },
  {
   "cell_type": "code",
   "execution_count": 8,
   "metadata": {},
   "outputs": [
    {
     "data": {
      "application/javascript": [
       "\n",
       "            setTimeout(function() {\n",
       "                var nbb_cell_id = 8;\n",
       "                var nbb_unformatted_code = \"group = \\\"zipCode\\\"\\n\\ncombined_df = pd.concat(\\n    [\\n        rent_df.groupby(group)[\\\"rent_m2\\\"].median(),\\n        rent_df.groupby(group)[\\\"rent_m2\\\"].size(),\\n        sale_df.groupby(group)[\\\"price_m2\\\"].median(),\\n        sale_df.groupby(group)[\\\"price_m2\\\"].size(),\\n        sale_df.groupby(group)[\\\"yearly_roi\\\"].median(),\\n    ],\\n    axis=1,\\n    keys=[\\n        \\\"median_rent_m2\\\",\\n        \\\"num_rent\\\",\\n        \\\"median_price_m2\\\",\\n        \\\"num_sale\\\",\\n        \\\"median_yearly_roi\\\",\\n    ],\\n).copy()\\n\\ncombined_df = combined_df.replace([np.inf, -np.inf], np.nan)\\ncombined_df = combined_df.dropna()\";\n",
       "                var nbb_formatted_code = \"group = \\\"zipCode\\\"\\n\\ncombined_df = pd.concat(\\n    [\\n        rent_df.groupby(group)[\\\"rent_m2\\\"].median(),\\n        rent_df.groupby(group)[\\\"rent_m2\\\"].size(),\\n        sale_df.groupby(group)[\\\"price_m2\\\"].median(),\\n        sale_df.groupby(group)[\\\"price_m2\\\"].size(),\\n        sale_df.groupby(group)[\\\"yearly_roi\\\"].median(),\\n    ],\\n    axis=1,\\n    keys=[\\n        \\\"median_rent_m2\\\",\\n        \\\"num_rent\\\",\\n        \\\"median_price_m2\\\",\\n        \\\"num_sale\\\",\\n        \\\"median_yearly_roi\\\",\\n    ],\\n).copy()\\n\\ncombined_df = combined_df.replace([np.inf, -np.inf], np.nan)\\ncombined_df = combined_df.dropna()\";\n",
       "                var nbb_cells = Jupyter.notebook.get_cells();\n",
       "                for (var i = 0; i < nbb_cells.length; ++i) {\n",
       "                    if (nbb_cells[i].input_prompt_number == nbb_cell_id) {\n",
       "                        if (nbb_cells[i].get_text() == nbb_unformatted_code) {\n",
       "                             nbb_cells[i].set_text(nbb_formatted_code);\n",
       "                        }\n",
       "                        break;\n",
       "                    }\n",
       "                }\n",
       "            }, 500);\n",
       "            "
      ],
      "text/plain": [
       "<IPython.core.display.Javascript object>"
      ]
     },
     "metadata": {},
     "output_type": "display_data"
    }
   ],
   "source": [
    "group = \"zipCode\"\n",
    "\n",
    "combined_df = pd.concat(\n",
    "    [\n",
    "        rent_df.groupby(group)[\"rent_m2\"].median(),\n",
    "        rent_df.groupby(group)[\"rent_m2\"].size(),\n",
    "        sale_df.groupby(group)[\"price_m2\"].median(),\n",
    "        sale_df.groupby(group)[\"price_m2\"].size(),\n",
    "        sale_df.groupby(group)[\"yearly_roi\"].median(),\n",
    "    ],\n",
    "    axis=1,\n",
    "    keys=[\n",
    "        \"median_rent_m2\",\n",
    "        \"num_rent\",\n",
    "        \"median_price_m2\",\n",
    "        \"num_sale\",\n",
    "        \"median_yearly_roi\",\n",
    "    ],\n",
    ").copy()\n",
    "\n",
    "combined_df = combined_df.replace([np.inf, -np.inf], np.nan)\n",
    "combined_df = combined_df.dropna()"
   ]
  },
  {
   "cell_type": "markdown",
   "metadata": {},
   "source": [
    "## 2) Outlier detection apartments for sale"
   ]
  },
  {
   "cell_type": "markdown",
   "metadata": {},
   "source": [
    "### 2.1) Normalize the data"
   ]
  },
  {
   "cell_type": "markdown",
   "metadata": {},
   "source": [
    "#### Distribution of living space and prices:"
   ]
  },
  {
   "cell_type": "code",
   "execution_count": 9,
   "metadata": {},
   "outputs": [
    {
     "data": {
      "image/png": "[encoded data removed]",
      "text/plain": [
       "<Figure size 910x325 with 2 Axes>"
      ]
     },
     "metadata": {
      "needs_background": "light"
     },
     "output_type": "display_data"
    },
    {
     "data": {
      "application/javascript": [
       "\n",
       "            setTimeout(function() {\n",
       "                var nbb_cell_id = 9;\n",
       "                var nbb_unformatted_code = \"sale_df[[\\\"livingSpace\\\", \\\"purchasePrice\\\"]][\\n    (sale_df[\\\"purchasePrice\\\"] < 1e6) & (sale_df[\\\"livingSpace\\\"] < 500)\\n].hist(bins=100, figsize=(7, 2.5))\\npass\";\n",
       "                var nbb_formatted_code = \"sale_df[[\\\"livingSpace\\\", \\\"purchasePrice\\\"]][\\n    (sale_df[\\\"purchasePrice\\\"] < 1e6) & (sale_df[\\\"livingSpace\\\"] < 500)\\n].hist(bins=100, figsize=(7, 2.5))\\npass\";\n",
       "                var nbb_cells = Jupyter.notebook.get_cells();\n",
       "                for (var i = 0; i < nbb_cells.length; ++i) {\n",
       "                    if (nbb_cells[i].input_prompt_number == nbb_cell_id) {\n",
       "                        if (nbb_cells[i].get_text() == nbb_unformatted_code) {\n",
       "                             nbb_cells[i].set_text(nbb_formatted_code);\n",
       "                        }\n",
       "                        break;\n",
       "                    }\n",
       "                }\n",
       "            }, 500);\n",
       "            "
      ],
      "text/plain": [
       "<IPython.core.display.Javascript object>"
      ]
     },
     "metadata": {},
     "output_type": "display_data"
    }
   ],
   "source": [
    "sale_df[[\"livingSpace\", \"purchasePrice\"]][\n",
    "    (sale_df[\"purchasePrice\"] < 1e6) & (sale_df[\"livingSpace\"] < 500)\n",
    "].hist(bins=100, figsize=(7, 2.5))\n",
    "pass"
   ]
  },
  {
   "cell_type": "markdown",
   "metadata": {},
   "source": [
    "#### Boxcox transformation:"
   ]
  },
  {
   "cell_type": "code",
   "execution_count": 10,
   "metadata": {
    "scrolled": true
   },
   "outputs": [
    {
     "name": "stdout",
     "output_type": "stream",
     "text": [
      "Boxcox parameters\n",
      "livingSpace: lambda = -0.12\n",
      "purchasePrice: lambda = 0.08\n"
     ]
    },
    {
     "data": {
      "image/png": "[encoded data removed]",
      "text/plain": [
       "<Figure size 1040x260 with 2 Axes>"
      ]
     },
     "metadata": {
      "needs_background": "light"
     },
     "output_type": "display_data"
    },
    {
     "data": {
      "application/javascript": [
       "\n",
       "            setTimeout(function() {\n",
       "                var nbb_cell_id = 10;\n",
       "                var nbb_unformatted_code = \"x_space, lambda_space = stats.boxcox(sale_df[\\\"livingSpace\\\"])\\nx_price, lambda_price = stats.boxcox(sale_df[\\\"purchasePrice\\\"])\\nX_sale = pd.DataFrame({\\\"livingSpace\\\": x_space, \\\"purchasePrice\\\": x_price})\\nX_sale.hist(bins=50, figsize=(8, 2))\\nprint(\\n    f\\\"Boxcox parameters\\\\nlivingSpace: lambda = {lambda_space:.2f}\\\\npurchasePrice: lambda = {lambda_price:.2f}\\\"\\n)\";\n",
       "                var nbb_formatted_code = \"x_space, lambda_space = stats.boxcox(sale_df[\\\"livingSpace\\\"])\\nx_price, lambda_price = stats.boxcox(sale_df[\\\"purchasePrice\\\"])\\nX_sale = pd.DataFrame({\\\"livingSpace\\\": x_space, \\\"purchasePrice\\\": x_price})\\nX_sale.hist(bins=50, figsize=(8, 2))\\nprint(\\n    f\\\"Boxcox parameters\\\\nlivingSpace: lambda = {lambda_space:.2f}\\\\npurchasePrice: lambda = {lambda_price:.2f}\\\"\\n)\";\n",
       "                var nbb_cells = Jupyter.notebook.get_cells();\n",
       "                for (var i = 0; i < nbb_cells.length; ++i) {\n",
       "                    if (nbb_cells[i].input_prompt_number == nbb_cell_id) {\n",
       "                        if (nbb_cells[i].get_text() == nbb_unformatted_code) {\n",
       "                             nbb_cells[i].set_text(nbb_formatted_code);\n",
       "                        }\n",
       "                        break;\n",
       "                    }\n",
       "                }\n",
       "            }, 500);\n",
       "            "
      ],
      "text/plain": [
       "<IPython.core.display.Javascript object>"
      ]
     },
     "metadata": {},
     "output_type": "display_data"
    }
   ],
   "source": [
    "x_space, lambda_space = stats.boxcox(sale_df[\"livingSpace\"])\n",
    "x_price, lambda_price = stats.boxcox(sale_df[\"purchasePrice\"])\n",
    "X_sale = pd.DataFrame({\"livingSpace\": x_space, \"purchasePrice\": x_price})\n",
    "X_sale.hist(bins=50, figsize=(8, 2))\n",
    "print(\n",
    "    f\"Boxcox parameters\\nlivingSpace: lambda = {lambda_space:.2f}\\npurchasePrice: lambda = {lambda_price:.2f}\"\n",
    ")"
   ]
  },
  {
   "cell_type": "markdown",
   "metadata": {},
   "source": [
    "#### Assumed ratio of outliers:"
   ]
  },
  {
   "cell_type": "code",
   "execution_count": 11,
   "metadata": {},
   "outputs": [
    {
     "data": {
      "application/javascript": [
       "\n",
       "            setTimeout(function() {\n",
       "                var nbb_cell_id = 11;\n",
       "                var nbb_unformatted_code = \"contamination = 0.005\";\n",
       "                var nbb_formatted_code = \"contamination = 0.005\";\n",
       "                var nbb_cells = Jupyter.notebook.get_cells();\n",
       "                for (var i = 0; i < nbb_cells.length; ++i) {\n",
       "                    if (nbb_cells[i].input_prompt_number == nbb_cell_id) {\n",
       "                        if (nbb_cells[i].get_text() == nbb_unformatted_code) {\n",
       "                             nbb_cells[i].set_text(nbb_formatted_code);\n",
       "                        }\n",
       "                        break;\n",
       "                    }\n",
       "                }\n",
       "            }, 500);\n",
       "            "
      ],
      "text/plain": [
       "<IPython.core.display.Javascript object>"
      ]
     },
     "metadata": {},
     "output_type": "display_data"
    }
   ],
   "source": [
    "contamination = 0.005"
   ]
  },
  {
   "cell_type": "markdown",
   "metadata": {},
   "source": [
    "### 2.2) Gaussian Elliptic Envelope"
   ]
  },
  {
   "cell_type": "code",
   "execution_count": 12,
   "metadata": {},
   "outputs": [
    {
     "name": "stdout",
     "output_type": "stream",
     "text": [
      "Elapsed time: 9.06s\n"
     ]
    },
    {
     "data": {
      "application/javascript": [
       "\n",
       "            setTimeout(function() {\n",
       "                var nbb_cell_id = 12;\n",
       "                var nbb_unformatted_code = \"start = timer()\\n\\nsale_outlier = EllipticEnvelope(\\n    contamination=contamination, random_state=42\\n).fit_predict(X_sale)\\nsale_inlier_df = sale_df[(sale_outlier == 1)]\\nsale_outlier_df = sale_df[(sale_outlier == -1)]\\n\\nend = timer()\\nprint(f\\\"Elapsed time: {np.round(end - start,2)}s\\\")\";\n",
       "                var nbb_formatted_code = \"start = timer()\\n\\nsale_outlier = EllipticEnvelope(\\n    contamination=contamination, random_state=42\\n).fit_predict(X_sale)\\nsale_inlier_df = sale_df[(sale_outlier == 1)]\\nsale_outlier_df = sale_df[(sale_outlier == -1)]\\n\\nend = timer()\\nprint(f\\\"Elapsed time: {np.round(end - start,2)}s\\\")\";\n",
       "                var nbb_cells = Jupyter.notebook.get_cells();\n",
       "                for (var i = 0; i < nbb_cells.length; ++i) {\n",
       "                    if (nbb_cells[i].input_prompt_number == nbb_cell_id) {\n",
       "                        if (nbb_cells[i].get_text() == nbb_unformatted_code) {\n",
       "                             nbb_cells[i].set_text(nbb_formatted_code);\n",
       "                        }\n",
       "                        break;\n",
       "                    }\n",
       "                }\n",
       "            }, 500);\n",
       "            "
      ],
      "text/plain": [
       "<IPython.core.display.Javascript object>"
      ]
     },
     "metadata": {},
     "output_type": "display_data"
    }
   ],
   "source": [
    "start = timer()\n",
    "\n",
    "sale_outlier = EllipticEnvelope(\n",
    "    contamination=contamination, random_state=42\n",
    ").fit_predict(X_sale)\n",
    "sale_inlier_df = sale_df[(sale_outlier == 1)]\n",
    "sale_outlier_df = sale_df[(sale_outlier == -1)]\n",
    "\n",
    "end = timer()\n",
    "print(f\"Elapsed time: {np.round(end - start,2)}s\")"
   ]
  },
  {
   "cell_type": "code",
   "execution_count": 13,
   "metadata": {},
   "outputs": [
    {
     "data": {
      "image/png": "[encoded data removed]",
      "text/plain": [
       "<Figure size 780x520 with 1 Axes>"
      ]
     },
     "metadata": {
      "needs_background": "light"
     },
     "output_type": "display_data"
    },
    {
     "data": {
      "application/javascript": [
       "\n",
       "            setTimeout(function() {\n",
       "                var nbb_cell_id = 13;\n",
       "                var nbb_unformatted_code = \"fig, ax = plt.subplots()\\nsale_outlier_df.plot.scatter(\\n    x=\\\"livingSpace\\\",\\n    y=\\\"purchasePrice\\\",\\n    loglog=True,\\n    title=\\\"Outlier detection sale\\\",\\n    color=\\\"C1\\\",\\n    label=\\\"Outlier\\\",\\n    s=10,\\n    ax=ax,\\n)\\nsale_inlier_df.plot.scatter(\\n    x=\\\"livingSpace\\\", y=\\\"purchasePrice\\\", color=\\\"C0\\\", label=\\\"Inlier\\\", s=10, ax=ax\\n)\\nfig.savefig(\\\"sale_outlier.png\\\")\";\n",
       "                var nbb_formatted_code = \"fig, ax = plt.subplots()\\nsale_outlier_df.plot.scatter(\\n    x=\\\"livingSpace\\\",\\n    y=\\\"purchasePrice\\\",\\n    loglog=True,\\n    title=\\\"Outlier detection sale\\\",\\n    color=\\\"C1\\\",\\n    label=\\\"Outlier\\\",\\n    s=10,\\n    ax=ax,\\n)\\nsale_inlier_df.plot.scatter(\\n    x=\\\"livingSpace\\\", y=\\\"purchasePrice\\\", color=\\\"C0\\\", label=\\\"Inlier\\\", s=10, ax=ax\\n)\\nfig.savefig(\\\"sale_outlier.png\\\")\";\n",
       "                var nbb_cells = Jupyter.notebook.get_cells();\n",
       "                for (var i = 0; i < nbb_cells.length; ++i) {\n",
       "                    if (nbb_cells[i].input_prompt_number == nbb_cell_id) {\n",
       "                        if (nbb_cells[i].get_text() == nbb_unformatted_code) {\n",
       "                             nbb_cells[i].set_text(nbb_formatted_code);\n",
       "                        }\n",
       "                        break;\n",
       "                    }\n",
       "                }\n",
       "            }, 500);\n",
       "            "
      ],
      "text/plain": [
       "<IPython.core.display.Javascript object>"
      ]
     },
     "metadata": {},
     "output_type": "display_data"
    }
   ],
   "source": [
    "fig, ax = plt.subplots()\n",
    "sale_outlier_df.plot.scatter(\n",
    "    x=\"livingSpace\",\n",
    "    y=\"purchasePrice\",\n",
    "    loglog=True,\n",
    "    title=\"Outlier detection sale\",\n",
    "    color=\"C1\",\n",
    "    label=\"Outlier\",\n",
    "    s=10,\n",
    "    ax=ax,\n",
    ")\n",
    "sale_inlier_df.plot.scatter(\n",
    "    x=\"livingSpace\", y=\"purchasePrice\", color=\"C0\", label=\"Inlier\", s=10, ax=ax\n",
    ")\n",
    "fig.savefig(\"sale_outlier.png\")"
   ]
  },
  {
   "cell_type": "markdown",
   "metadata": {},
   "source": [
    "## 3) Finding foreclosures with clustering - to be implemented"
   ]
  },
  {
   "cell_type": "markdown",
   "metadata": {},
   "source": [
    "https://scikit-learn.org/stable/modules/clustering.html"
   ]
  },
  {
   "cell_type": "code",
   "execution_count": 14,
   "metadata": {},
   "outputs": [
    {
     "data": {
      "image/png": "[encoded data removed]",
      "text/plain": [
       "<Figure size 780x520 with 1 Axes>"
      ]
     },
     "metadata": {
      "needs_background": "light"
     },
     "output_type": "display_data"
    },
    {
     "data": {
      "application/javascript": [
       "\n",
       "            setTimeout(function() {\n",
       "                var nbb_cell_id = 14;\n",
       "                var nbb_unformatted_code = \"sale_inlier_df.plot.scatter(\\n    x=\\\"rent_m2_zC\\\", y=\\\"price_m2\\\", title=\\\"Inlier sale\\\", loglog=False, s=1\\n)\\npass\";\n",
       "                var nbb_formatted_code = \"sale_inlier_df.plot.scatter(\\n    x=\\\"rent_m2_zC\\\", y=\\\"price_m2\\\", title=\\\"Inlier sale\\\", loglog=False, s=1\\n)\\npass\";\n",
       "                var nbb_cells = Jupyter.notebook.get_cells();\n",
       "                for (var i = 0; i < nbb_cells.length; ++i) {\n",
       "                    if (nbb_cells[i].input_prompt_number == nbb_cell_id) {\n",
       "                        if (nbb_cells[i].get_text() == nbb_unformatted_code) {\n",
       "                             nbb_cells[i].set_text(nbb_formatted_code);\n",
       "                        }\n",
       "                        break;\n",
       "                    }\n",
       "                }\n",
       "            }, 500);\n",
       "            "
      ],
      "text/plain": [
       "<IPython.core.display.Javascript object>"
      ]
     },
     "metadata": {},
     "output_type": "display_data"
    }
   ],
   "source": [
    "sale_inlier_df.plot.scatter(\n",
    "    x=\"rent_m2_zC\", y=\"price_m2\", title=\"Inlier sale\", loglog=False, s=1\n",
    ")\n",
    "pass"
   ]
  },
  {
   "cell_type": "markdown",
   "metadata": {},
   "source": [
    "## 4) Results"
   ]
  },
  {
   "cell_type": "markdown",
   "metadata": {},
   "source": [
    "### 4.1) Best roi nationally"
   ]
  },
  {
   "cell_type": "markdown",
   "metadata": {},
   "source": [
    "#### Outlier:"
   ]
  },
  {
   "cell_type": "code",
   "execution_count": 15,
   "metadata": {
    "scrolled": false
   },
   "outputs": [
    {
     "data": {
      "text/html": [
       "<style  type=\"text/css\" >\n",
       "</style><table id=\"T_b729855c_c7a2_11ea_adb7_a820662273d6\" ><thead>    <tr>        <th class=\"blank level0\" ></th>        <th class=\"col_heading level0 col0\" >yearly_roi</th>        <th class=\"col_heading level0 col1\" >price_m2</th>        <th class=\"col_heading level0 col2\" >purchasePrice</th>        <th class=\"col_heading level0 col3\" >livingSpace</th>        <th class=\"col_heading level0 col4\" >noRooms</th>        <th class=\"col_heading level0 col5\" >zipCode</th>        <th class=\"col_heading level0 col6\" >rent_m2_zC</th>        <th class=\"col_heading level0 col7\" >regio2</th>        <th class=\"col_heading level0 col8\" >link</th>    </tr></thead><tbody>\n",
       "                <tr>\n",
       "                        <th id=\"T_b729855c_c7a2_11ea_adb7_a820662273d6level0_row0\" class=\"row_heading level0 row0\" >30571</th>\n",
       "                        <td id=\"T_b729855c_c7a2_11ea_adb7_a820662273d6row0_col0\" class=\"data row0 col0\" >13651.61</td>\n",
       "                        <td id=\"T_b729855c_c7a2_11ea_adb7_a820662273d6row0_col1\" class=\"data row0 col1\" >0.01</td>\n",
       "                        <td id=\"T_b729855c_c7a2_11ea_adb7_a820662273d6row0_col2\" class=\"data row0 col2\" >1.00</td>\n",
       "                        <td id=\"T_b729855c_c7a2_11ea_adb7_a820662273d6row0_col3\" class=\"data row0 col3\" >133.00</td>\n",
       "                        <td id=\"T_b729855c_c7a2_11ea_adb7_a820662273d6row0_col4\" class=\"data row0 col4\" >3.00</td>\n",
       "                        <td id=\"T_b729855c_c7a2_11ea_adb7_a820662273d6row0_col5\" class=\"data row0 col5\" >27793</td>\n",
       "                        <td id=\"T_b729855c_c7a2_11ea_adb7_a820662273d6row0_col6\" class=\"data row0 col6\" >8.55</td>\n",
       "                        <td id=\"T_b729855c_c7a2_11ea_adb7_a820662273d6row0_col7\" class=\"data row0 col7\" >Oldenburg_Kreis</td>\n",
       "                        <td id=\"T_b729855c_c7a2_11ea_adb7_a820662273d6row0_col8\" class=\"data row0 col8\" ><a target=\"_blank\" href=\"https://www.immobilienscout24.de/expose/116978696\">https://www.immobilienscout24.de/expose/116978696</a></td>\n",
       "            </tr>\n",
       "            <tr>\n",
       "                        <th id=\"T_b729855c_c7a2_11ea_adb7_a820662273d6level0_row1\" class=\"row_heading level0 row1\" >31318</th>\n",
       "                        <td id=\"T_b729855c_c7a2_11ea_adb7_a820662273d6row1_col0\" class=\"data row1 col0\" >10.44</td>\n",
       "                        <td id=\"T_b729855c_c7a2_11ea_adb7_a820662273d6row1_col1\" class=\"data row1 col1\" >7.98</td>\n",
       "                        <td id=\"T_b729855c_c7a2_11ea_adb7_a820662273d6row1_col2\" class=\"data row1 col2\" >500.00</td>\n",
       "                        <td id=\"T_b729855c_c7a2_11ea_adb7_a820662273d6row1_col3\" class=\"data row1 col3\" >62.66</td>\n",
       "                        <td id=\"T_b729855c_c7a2_11ea_adb7_a820662273d6row1_col4\" class=\"data row1 col4\" >3.00</td>\n",
       "                        <td id=\"T_b729855c_c7a2_11ea_adb7_a820662273d6row1_col5\" class=\"data row1 col5\" >31698</td>\n",
       "                        <td id=\"T_b729855c_c7a2_11ea_adb7_a820662273d6row1_col6\" class=\"data row1 col6\" >6.94</td>\n",
       "                        <td id=\"T_b729855c_c7a2_11ea_adb7_a820662273d6row1_col7\" class=\"data row1 col7\" >Schaumburg_Kreis</td>\n",
       "                        <td id=\"T_b729855c_c7a2_11ea_adb7_a820662273d6row1_col8\" class=\"data row1 col8\" ><a target=\"_blank\" href=\"https://www.immobilienscout24.de/expose/116556571\">https://www.immobilienscout24.de/expose/116556571</a></td>\n",
       "            </tr>\n",
       "            <tr>\n",
       "                        <th id=\"T_b729855c_c7a2_11ea_adb7_a820662273d6level0_row2\" class=\"row_heading level0 row2\" >23273</th>\n",
       "                        <td id=\"T_b729855c_c7a2_11ea_adb7_a820662273d6row2_col0\" class=\"data row2 col0\" >10.02</td>\n",
       "                        <td id=\"T_b729855c_c7a2_11ea_adb7_a820662273d6row2_col1\" class=\"data row2 col1\" >7.40</td>\n",
       "                        <td id=\"T_b729855c_c7a2_11ea_adb7_a820662273d6row2_col2\" class=\"data row2 col2\" >423.00</td>\n",
       "                        <td id=\"T_b729855c_c7a2_11ea_adb7_a820662273d6row2_col3\" class=\"data row2 col3\" >57.19</td>\n",
       "                        <td id=\"T_b729855c_c7a2_11ea_adb7_a820662273d6row2_col4\" class=\"data row2 col4\" >3.00</td>\n",
       "                        <td id=\"T_b729855c_c7a2_11ea_adb7_a820662273d6row2_col5\" class=\"data row2 col5\" >99834</td>\n",
       "                        <td id=\"T_b729855c_c7a2_11ea_adb7_a820662273d6row2_col6\" class=\"data row2 col6\" >6.17</td>\n",
       "                        <td id=\"T_b729855c_c7a2_11ea_adb7_a820662273d6row2_col7\" class=\"data row2 col7\" >Wartburgkreis</td>\n",
       "                        <td id=\"T_b729855c_c7a2_11ea_adb7_a820662273d6row2_col8\" class=\"data row2 col8\" ><a target=\"_blank\" href=\"https://www.immobilienscout24.de/expose/120477893\">https://www.immobilienscout24.de/expose/120477893</a></td>\n",
       "            </tr>\n",
       "            <tr>\n",
       "                        <th id=\"T_b729855c_c7a2_11ea_adb7_a820662273d6level0_row3\" class=\"row_heading level0 row3\" >23284</th>\n",
       "                        <td id=\"T_b729855c_c7a2_11ea_adb7_a820662273d6row3_col0\" class=\"data row3 col0\" >10.01</td>\n",
       "                        <td id=\"T_b729855c_c7a2_11ea_adb7_a820662273d6row3_col1\" class=\"data row3 col1\" >7.40</td>\n",
       "                        <td id=\"T_b729855c_c7a2_11ea_adb7_a820662273d6row3_col2\" class=\"data row3 col2\" >667.00</td>\n",
       "                        <td id=\"T_b729855c_c7a2_11ea_adb7_a820662273d6row3_col3\" class=\"data row3 col3\" >90.16</td>\n",
       "                        <td id=\"T_b729855c_c7a2_11ea_adb7_a820662273d6row3_col4\" class=\"data row3 col4\" >4.00</td>\n",
       "                        <td id=\"T_b729855c_c7a2_11ea_adb7_a820662273d6row3_col5\" class=\"data row3 col5\" >99834</td>\n",
       "                        <td id=\"T_b729855c_c7a2_11ea_adb7_a820662273d6row3_col6\" class=\"data row3 col6\" >6.17</td>\n",
       "                        <td id=\"T_b729855c_c7a2_11ea_adb7_a820662273d6row3_col7\" class=\"data row3 col7\" >Wartburgkreis</td>\n",
       "                        <td id=\"T_b729855c_c7a2_11ea_adb7_a820662273d6row3_col8\" class=\"data row3 col8\" ><a target=\"_blank\" href=\"https://www.immobilienscout24.de/expose/120477915\">https://www.immobilienscout24.de/expose/120477915</a></td>\n",
       "            </tr>\n",
       "            <tr>\n",
       "                        <th id=\"T_b729855c_c7a2_11ea_adb7_a820662273d6level0_row4\" class=\"row_heading level0 row4\" >35505</th>\n",
       "                        <td id=\"T_b729855c_c7a2_11ea_adb7_a820662273d6row4_col0\" class=\"data row4 col0\" >4.07</td>\n",
       "                        <td id=\"T_b729855c_c7a2_11ea_adb7_a820662273d6row4_col1\" class=\"data row4 col1\" >26.67</td>\n",
       "                        <td id=\"T_b729855c_c7a2_11ea_adb7_a820662273d6row4_col2\" class=\"data row4 col2\" >800.00</td>\n",
       "                        <td id=\"T_b729855c_c7a2_11ea_adb7_a820662273d6row4_col3\" class=\"data row4 col3\" >30.00</td>\n",
       "                        <td id=\"T_b729855c_c7a2_11ea_adb7_a820662273d6row4_col4\" class=\"data row4 col4\" >1.00</td>\n",
       "                        <td id=\"T_b729855c_c7a2_11ea_adb7_a820662273d6row4_col5\" class=\"data row4 col5\" >49152</td>\n",
       "                        <td id=\"T_b729855c_c7a2_11ea_adb7_a820662273d6row4_col6\" class=\"data row4 col6\" >9.03</td>\n",
       "                        <td id=\"T_b729855c_c7a2_11ea_adb7_a820662273d6row4_col7\" class=\"data row4 col7\" >Osnabrück_Kreis</td>\n",
       "                        <td id=\"T_b729855c_c7a2_11ea_adb7_a820662273d6row4_col8\" class=\"data row4 col8\" ><a target=\"_blank\" href=\"https://www.immobilienscout24.de/expose/105011041\">https://www.immobilienscout24.de/expose/105011041</a></td>\n",
       "            </tr>\n",
       "    </tbody></table>"
      ],
      "text/plain": [
       "<pandas.io.formats.style.Styler at 0x128cd6070>"
      ]
     },
     "execution_count": 15,
     "metadata": {},
     "output_type": "execute_result"
    },
    {
     "data": {
      "application/javascript": [
       "\n",
       "            setTimeout(function() {\n",
       "                var nbb_cell_id = 15;\n",
       "                var nbb_unformatted_code = \"df_show = sale_outlier_df.sort_values(\\\"yearly_roi\\\", ascending=False).head(5)\\ndf_show.style.format({\\\"link\\\": dproc.make_clickable})\";\n",
       "                var nbb_formatted_code = \"df_show = sale_outlier_df.sort_values(\\\"yearly_roi\\\", ascending=False).head(5)\\ndf_show.style.format({\\\"link\\\": dproc.make_clickable})\";\n",
       "                var nbb_cells = Jupyter.notebook.get_cells();\n",
       "                for (var i = 0; i < nbb_cells.length; ++i) {\n",
       "                    if (nbb_cells[i].input_prompt_number == nbb_cell_id) {\n",
       "                        if (nbb_cells[i].get_text() == nbb_unformatted_code) {\n",
       "                             nbb_cells[i].set_text(nbb_formatted_code);\n",
       "                        }\n",
       "                        break;\n",
       "                    }\n",
       "                }\n",
       "            }, 500);\n",
       "            "
      ],
      "text/plain": [
       "<IPython.core.display.Javascript object>"
      ]
     },
     "metadata": {},
     "output_type": "display_data"
    }
   ],
   "source": [
    "df_show = sale_outlier_df.sort_values(\"yearly_roi\", ascending=False).head(5)\n",
    "df_show.style.format({\"link\": dproc.make_clickable})"
   ]
  },
  {
   "cell_type": "markdown",
   "metadata": {},
   "source": [
    "#### Inlier:"
   ]
  },
  {
   "cell_type": "code",
   "execution_count": 16,
   "metadata": {},
   "outputs": [
    {
     "data": {
      "text/html": [
       "<style  type=\"text/css\" >\n",
       "</style><table id=\"T_b72e50e6_c7a2_11ea_adb7_a820662273d6\" ><thead>    <tr>        <th class=\"blank level0\" ></th>        <th class=\"col_heading level0 col0\" >yearly_roi</th>        <th class=\"col_heading level0 col1\" >price_m2</th>        <th class=\"col_heading level0 col2\" >purchasePrice</th>        <th class=\"col_heading level0 col3\" >livingSpace</th>        <th class=\"col_heading level0 col4\" >noRooms</th>        <th class=\"col_heading level0 col5\" >zipCode</th>        <th class=\"col_heading level0 col6\" >rent_m2_zC</th>        <th class=\"col_heading level0 col7\" >regio2</th>        <th class=\"col_heading level0 col8\" >link</th>    </tr></thead><tbody>\n",
       "                <tr>\n",
       "                        <th id=\"T_b72e50e6_c7a2_11ea_adb7_a820662273d6level0_row0\" class=\"row_heading level0 row0\" >21766</th>\n",
       "                        <td id=\"T_b72e50e6_c7a2_11ea_adb7_a820662273d6row0_col0\" class=\"data row0 col0\" >0.42</td>\n",
       "                        <td id=\"T_b72e50e6_c7a2_11ea_adb7_a820662273d6row0_col1\" class=\"data row0 col1\" >247.34</td>\n",
       "                        <td id=\"T_b72e50e6_c7a2_11ea_adb7_a820662273d6row0_col2\" class=\"data row0 col2\" >13000.00</td>\n",
       "                        <td id=\"T_b72e50e6_c7a2_11ea_adb7_a820662273d6row0_col3\" class=\"data row0 col3\" >52.56</td>\n",
       "                        <td id=\"T_b72e50e6_c7a2_11ea_adb7_a820662273d6row0_col4\" class=\"data row0 col4\" >3.00</td>\n",
       "                        <td id=\"T_b72e50e6_c7a2_11ea_adb7_a820662273d6row0_col5\" class=\"data row0 col5\" >25813</td>\n",
       "                        <td id=\"T_b72e50e6_c7a2_11ea_adb7_a820662273d6row0_col6\" class=\"data row0 col6\" >8.74</td>\n",
       "                        <td id=\"T_b72e50e6_c7a2_11ea_adb7_a820662273d6row0_col7\" class=\"data row0 col7\" >Nordfriesland_Kreis</td>\n",
       "                        <td id=\"T_b72e50e6_c7a2_11ea_adb7_a820662273d6row0_col8\" class=\"data row0 col8\" ><a target=\"_blank\" href=\"https://www.immobilienscout24.de/expose/120678823\">https://www.immobilienscout24.de/expose/120678823</a></td>\n",
       "            </tr>\n",
       "            <tr>\n",
       "                        <th id=\"T_b72e50e6_c7a2_11ea_adb7_a820662273d6level0_row1\" class=\"row_heading level0 row1\" >21768</th>\n",
       "                        <td id=\"T_b72e50e6_c7a2_11ea_adb7_a820662273d6row1_col0\" class=\"data row1 col0\" >0.40</td>\n",
       "                        <td id=\"T_b72e50e6_c7a2_11ea_adb7_a820662273d6row1_col1\" class=\"data row1 col1\" >262.32</td>\n",
       "                        <td id=\"T_b72e50e6_c7a2_11ea_adb7_a820662273d6row1_col2\" class=\"data row1 col2\" >14000.00</td>\n",
       "                        <td id=\"T_b72e50e6_c7a2_11ea_adb7_a820662273d6row1_col3\" class=\"data row1 col3\" >53.37</td>\n",
       "                        <td id=\"T_b72e50e6_c7a2_11ea_adb7_a820662273d6row1_col4\" class=\"data row1 col4\" >3.00</td>\n",
       "                        <td id=\"T_b72e50e6_c7a2_11ea_adb7_a820662273d6row1_col5\" class=\"data row1 col5\" >25813</td>\n",
       "                        <td id=\"T_b72e50e6_c7a2_11ea_adb7_a820662273d6row1_col6\" class=\"data row1 col6\" >8.74</td>\n",
       "                        <td id=\"T_b72e50e6_c7a2_11ea_adb7_a820662273d6row1_col7\" class=\"data row1 col7\" >Nordfriesland_Kreis</td>\n",
       "                        <td id=\"T_b72e50e6_c7a2_11ea_adb7_a820662273d6row1_col8\" class=\"data row1 col8\" ><a target=\"_blank\" href=\"https://www.immobilienscout24.de/expose/120678825\">https://www.immobilienscout24.de/expose/120678825</a></td>\n",
       "            </tr>\n",
       "            <tr>\n",
       "                        <th id=\"T_b72e50e6_c7a2_11ea_adb7_a820662273d6level0_row2\" class=\"row_heading level0 row2\" >21763</th>\n",
       "                        <td id=\"T_b72e50e6_c7a2_11ea_adb7_a820662273d6row2_col0\" class=\"data row2 col0\" >0.40</td>\n",
       "                        <td id=\"T_b72e50e6_c7a2_11ea_adb7_a820662273d6row2_col1\" class=\"data row2 col1\" >264.75</td>\n",
       "                        <td id=\"T_b72e50e6_c7a2_11ea_adb7_a820662273d6row2_col2\" class=\"data row2 col2\" >14000.00</td>\n",
       "                        <td id=\"T_b72e50e6_c7a2_11ea_adb7_a820662273d6row2_col3\" class=\"data row2 col3\" >52.88</td>\n",
       "                        <td id=\"T_b72e50e6_c7a2_11ea_adb7_a820662273d6row2_col4\" class=\"data row2 col4\" >3.00</td>\n",
       "                        <td id=\"T_b72e50e6_c7a2_11ea_adb7_a820662273d6row2_col5\" class=\"data row2 col5\" >25813</td>\n",
       "                        <td id=\"T_b72e50e6_c7a2_11ea_adb7_a820662273d6row2_col6\" class=\"data row2 col6\" >8.74</td>\n",
       "                        <td id=\"T_b72e50e6_c7a2_11ea_adb7_a820662273d6row2_col7\" class=\"data row2 col7\" >Nordfriesland_Kreis</td>\n",
       "                        <td id=\"T_b72e50e6_c7a2_11ea_adb7_a820662273d6row2_col8\" class=\"data row2 col8\" ><a target=\"_blank\" href=\"https://www.immobilienscout24.de/expose/120678826\">https://www.immobilienscout24.de/expose/120678826</a></td>\n",
       "            </tr>\n",
       "            <tr>\n",
       "                        <th id=\"T_b72e50e6_c7a2_11ea_adb7_a820662273d6level0_row3\" class=\"row_heading level0 row3\" >15238</th>\n",
       "                        <td id=\"T_b72e50e6_c7a2_11ea_adb7_a820662273d6row3_col0\" class=\"data row3 col0\" >0.31</td>\n",
       "                        <td id=\"T_b72e50e6_c7a2_11ea_adb7_a820662273d6row3_col1\" class=\"data row3 col1\" >752.65</td>\n",
       "                        <td id=\"T_b72e50e6_c7a2_11ea_adb7_a820662273d6row3_col2\" class=\"data row3 col2\" >44000.00</td>\n",
       "                        <td id=\"T_b72e50e6_c7a2_11ea_adb7_a820662273d6row3_col3\" class=\"data row3 col3\" >58.46</td>\n",
       "                        <td id=\"T_b72e50e6_c7a2_11ea_adb7_a820662273d6row3_col4\" class=\"data row3 col4\" >3.00</td>\n",
       "                        <td id=\"T_b72e50e6_c7a2_11ea_adb7_a820662273d6row3_col5\" class=\"data row3 col5\" >15295</td>\n",
       "                        <td id=\"T_b72e50e6_c7a2_11ea_adb7_a820662273d6row3_col6\" class=\"data row3 col6\" >19.71</td>\n",
       "                        <td id=\"T_b72e50e6_c7a2_11ea_adb7_a820662273d6row3_col7\" class=\"data row3 col7\" >Oder_Spree_Kreis</td>\n",
       "                        <td id=\"T_b72e50e6_c7a2_11ea_adb7_a820662273d6row3_col8\" class=\"data row3 col8\" ><a target=\"_blank\" href=\"https://www.immobilienscout24.de/expose/120190369\">https://www.immobilienscout24.de/expose/120190369</a></td>\n",
       "            </tr>\n",
       "            <tr>\n",
       "                        <th id=\"T_b72e50e6_c7a2_11ea_adb7_a820662273d6level0_row4\" class=\"row_heading level0 row4\" >21680</th>\n",
       "                        <td id=\"T_b72e50e6_c7a2_11ea_adb7_a820662273d6row4_col0\" class=\"data row4 col0\" >0.31</td>\n",
       "                        <td id=\"T_b72e50e6_c7a2_11ea_adb7_a820662273d6row4_col1\" class=\"data row4 col1\" >272.73</td>\n",
       "                        <td id=\"T_b72e50e6_c7a2_11ea_adb7_a820662273d6row4_col2\" class=\"data row4 col2\" >18000.00</td>\n",
       "                        <td id=\"T_b72e50e6_c7a2_11ea_adb7_a820662273d6row4_col3\" class=\"data row4 col3\" >66.00</td>\n",
       "                        <td id=\"T_b72e50e6_c7a2_11ea_adb7_a820662273d6row4_col4\" class=\"data row4 col4\" >3.00</td>\n",
       "                        <td id=\"T_b72e50e6_c7a2_11ea_adb7_a820662273d6row4_col5\" class=\"data row4 col5\" >42107</td>\n",
       "                        <td id=\"T_b72e50e6_c7a2_11ea_adb7_a820662273d6row4_col6\" class=\"data row4 col6\" >7.00</td>\n",
       "                        <td id=\"T_b72e50e6_c7a2_11ea_adb7_a820662273d6row4_col7\" class=\"data row4 col7\" >Wuppertal</td>\n",
       "                        <td id=\"T_b72e50e6_c7a2_11ea_adb7_a820662273d6row4_col8\" class=\"data row4 col8\" ><a target=\"_blank\" href=\"https://www.immobilienscout24.de/expose/120678934\">https://www.immobilienscout24.de/expose/120678934</a></td>\n",
       "            </tr>\n",
       "    </tbody></table>"
      ],
      "text/plain": [
       "<pandas.io.formats.style.Styler at 0x130b61fd0>"
      ]
     },
     "execution_count": 16,
     "metadata": {},
     "output_type": "execute_result"
    },
    {
     "data": {
      "application/javascript": [
       "\n",
       "            setTimeout(function() {\n",
       "                var nbb_cell_id = 16;\n",
       "                var nbb_unformatted_code = \"df_show = sale_inlier_df.sort_values(\\\"yearly_roi\\\", ascending=False).head(5)\\ndf_show.style.format({\\\"link\\\": dproc.make_clickable})\";\n",
       "                var nbb_formatted_code = \"df_show = sale_inlier_df.sort_values(\\\"yearly_roi\\\", ascending=False).head(5)\\ndf_show.style.format({\\\"link\\\": dproc.make_clickable})\";\n",
       "                var nbb_cells = Jupyter.notebook.get_cells();\n",
       "                for (var i = 0; i < nbb_cells.length; ++i) {\n",
       "                    if (nbb_cells[i].input_prompt_number == nbb_cell_id) {\n",
       "                        if (nbb_cells[i].get_text() == nbb_unformatted_code) {\n",
       "                             nbb_cells[i].set_text(nbb_formatted_code);\n",
       "                        }\n",
       "                        break;\n",
       "                    }\n",
       "                }\n",
       "            }, 500);\n",
       "            "
      ],
      "text/plain": [
       "<IPython.core.display.Javascript object>"
      ]
     },
     "metadata": {},
     "output_type": "display_data"
    }
   ],
   "source": [
    "df_show = sale_inlier_df.sort_values(\"yearly_roi\", ascending=False).head(5)\n",
    "df_show.style.format({\"link\": dproc.make_clickable})"
   ]
  },
  {
   "cell_type": "markdown",
   "metadata": {},
   "source": [
    "### 4.2) Apartments by region"
   ]
  },
  {
   "cell_type": "markdown",
   "metadata": {},
   "source": [
    "#### regions overview:"
   ]
  },
  {
   "cell_type": "code",
   "execution_count": 17,
   "metadata": {
    "scrolled": false
   },
   "outputs": [
    {
     "data": {
      "text/html": [
       "<div>\n",
       "<style scoped>\n",
       "    .dataframe tbody tr th:only-of-type {\n",
       "        vertical-align: middle;\n",
       "    }\n",
       "\n",
       "    .dataframe tbody tr th {\n",
       "        vertical-align: top;\n",
       "    }\n",
       "\n",
       "    .dataframe thead th {\n",
       "        text-align: right;\n",
       "    }\n",
       "</style>\n",
       "<table border=\"1\" class=\"dataframe\">\n",
       "  <thead>\n",
       "    <tr style=\"text-align: right;\">\n",
       "      <th></th>\n",
       "      <th>median_rent_m2</th>\n",
       "      <th>num_rent</th>\n",
       "      <th>median_price_m2</th>\n",
       "      <th>num_sale</th>\n",
       "      <th>median_yearly_roi</th>\n",
       "    </tr>\n",
       "    <tr>\n",
       "      <th>zipCode</th>\n",
       "      <th></th>\n",
       "      <th></th>\n",
       "      <th></th>\n",
       "      <th></th>\n",
       "      <th></th>\n",
       "    </tr>\n",
       "  </thead>\n",
       "  <tbody>\n",
       "    <tr>\n",
       "      <th>99834</th>\n",
       "      <td>6.17</td>\n",
       "      <td>5.0</td>\n",
       "      <td>302.81</td>\n",
       "      <td>4.0</td>\n",
       "      <td>5.07</td>\n",
       "    </tr>\n",
       "    <tr>\n",
       "      <th>47169</th>\n",
       "      <td>6.10</td>\n",
       "      <td>61.0</td>\n",
       "      <td>278.90</td>\n",
       "      <td>18.0</td>\n",
       "      <td>0.28</td>\n",
       "    </tr>\n",
       "    <tr>\n",
       "      <th>2827</th>\n",
       "      <td>4.90</td>\n",
       "      <td>58.0</td>\n",
       "      <td>318.97</td>\n",
       "      <td>6.0</td>\n",
       "      <td>0.18</td>\n",
       "    </tr>\n",
       "    <tr>\n",
       "      <th>93449</th>\n",
       "      <td>5.84</td>\n",
       "      <td>4.0</td>\n",
       "      <td>386.36</td>\n",
       "      <td>5.0</td>\n",
       "      <td>0.18</td>\n",
       "    </tr>\n",
       "    <tr>\n",
       "      <th>38700</th>\n",
       "      <td>6.36</td>\n",
       "      <td>16.0</td>\n",
       "      <td>546.30</td>\n",
       "      <td>22.0</td>\n",
       "      <td>0.14</td>\n",
       "    </tr>\n",
       "    <tr>\n",
       "      <th>...</th>\n",
       "      <td>...</td>\n",
       "      <td>...</td>\n",
       "      <td>...</td>\n",
       "      <td>...</td>\n",
       "      <td>...</td>\n",
       "    </tr>\n",
       "    <tr>\n",
       "      <th>83700</th>\n",
       "      <td>16.74</td>\n",
       "      <td>7.0</td>\n",
       "      <td>12610.52</td>\n",
       "      <td>24.0</td>\n",
       "      <td>0.02</td>\n",
       "    </tr>\n",
       "    <tr>\n",
       "      <th>80333</th>\n",
       "      <td>25.82</td>\n",
       "      <td>46.0</td>\n",
       "      <td>19894.20</td>\n",
       "      <td>20.0</td>\n",
       "      <td>0.02</td>\n",
       "    </tr>\n",
       "    <tr>\n",
       "      <th>7589</th>\n",
       "      <td>5.06</td>\n",
       "      <td>8.0</td>\n",
       "      <td>3968.10</td>\n",
       "      <td>11.0</td>\n",
       "      <td>0.02</td>\n",
       "    </tr>\n",
       "    <tr>\n",
       "      <th>20354</th>\n",
       "      <td>15.60</td>\n",
       "      <td>4.0</td>\n",
       "      <td>12929.29</td>\n",
       "      <td>5.0</td>\n",
       "      <td>0.01</td>\n",
       "    </tr>\n",
       "    <tr>\n",
       "      <th>28757</th>\n",
       "      <td>5.17</td>\n",
       "      <td>38.0</td>\n",
       "      <td>4472.42</td>\n",
       "      <td>6.0</td>\n",
       "      <td>0.01</td>\n",
       "    </tr>\n",
       "  </tbody>\n",
       "</table>\n",
       "<p>2207 rows × 5 columns</p>\n",
       "</div>"
      ],
      "text/plain": [
       "         median_rent_m2  num_rent  median_price_m2  num_sale  \\\n",
       "zipCode                                                        \n",
       "99834              6.17       5.0           302.81       4.0   \n",
       "47169              6.10      61.0           278.90      18.0   \n",
       "2827               4.90      58.0           318.97       6.0   \n",
       "93449              5.84       4.0           386.36       5.0   \n",
       "38700              6.36      16.0           546.30      22.0   \n",
       "...                 ...       ...              ...       ...   \n",
       "83700             16.74       7.0         12610.52      24.0   \n",
       "80333             25.82      46.0         19894.20      20.0   \n",
       "7589               5.06       8.0          3968.10      11.0   \n",
       "20354             15.60       4.0         12929.29       5.0   \n",
       "28757              5.17      38.0          4472.42       6.0   \n",
       "\n",
       "         median_yearly_roi  \n",
       "zipCode                     \n",
       "99834                 5.07  \n",
       "47169                 0.28  \n",
       "2827                  0.18  \n",
       "93449                 0.18  \n",
       "38700                 0.14  \n",
       "...                    ...  \n",
       "83700                 0.02  \n",
       "80333                 0.02  \n",
       "7589                  0.02  \n",
       "20354                 0.01  \n",
       "28757                 0.01  \n",
       "\n",
       "[2207 rows x 5 columns]"
      ]
     },
     "execution_count": 17,
     "metadata": {},
     "output_type": "execute_result"
    },
    {
     "data": {
      "application/javascript": [
       "\n",
       "            setTimeout(function() {\n",
       "                var nbb_cell_id = 17;\n",
       "                var nbb_unformatted_code = \"min_num = 3\\n\\ncombined_filt = (combined_df[\\\"num_rent\\\"] > min_num) & (\\n    combined_df[\\\"num_sale\\\"] > min_num\\n)\\ncombined_df[combined_filt].sort_values(\\\"median_yearly_roi\\\", ascending=False)\";\n",
       "                var nbb_formatted_code = \"min_num = 3\\n\\ncombined_filt = (combined_df[\\\"num_rent\\\"] > min_num) & (\\n    combined_df[\\\"num_sale\\\"] > min_num\\n)\\ncombined_df[combined_filt].sort_values(\\\"median_yearly_roi\\\", ascending=False)\";\n",
       "                var nbb_cells = Jupyter.notebook.get_cells();\n",
       "                for (var i = 0; i < nbb_cells.length; ++i) {\n",
       "                    if (nbb_cells[i].input_prompt_number == nbb_cell_id) {\n",
       "                        if (nbb_cells[i].get_text() == nbb_unformatted_code) {\n",
       "                             nbb_cells[i].set_text(nbb_formatted_code);\n",
       "                        }\n",
       "                        break;\n",
       "                    }\n",
       "                }\n",
       "            }, 500);\n",
       "            "
      ],
      "text/plain": [
       "<IPython.core.display.Javascript object>"
      ]
     },
     "metadata": {},
     "output_type": "display_data"
    }
   ],
   "source": [
    "min_num = 3\n",
    "\n",
    "combined_filt = (combined_df[\"num_rent\"] > min_num) & (\n",
    "    combined_df[\"num_sale\"] > min_num\n",
    ")\n",
    "combined_df[combined_filt].sort_values(\"median_yearly_roi\", ascending=False)"
   ]
  },
  {
   "cell_type": "markdown",
   "metadata": {},
   "source": [
    "#### select regions to further inspect:"
   ]
  },
  {
   "cell_type": "code",
   "execution_count": 18,
   "metadata": {},
   "outputs": [
    {
     "data": {
      "text/html": [
       "<div>\n",
       "<style scoped>\n",
       "    .dataframe tbody tr th:only-of-type {\n",
       "        vertical-align: middle;\n",
       "    }\n",
       "\n",
       "    .dataframe tbody tr th {\n",
       "        vertical-align: top;\n",
       "    }\n",
       "\n",
       "    .dataframe thead th {\n",
       "        text-align: right;\n",
       "    }\n",
       "</style>\n",
       "<table border=\"1\" class=\"dataframe\">\n",
       "  <thead>\n",
       "    <tr style=\"text-align: right;\">\n",
       "      <th></th>\n",
       "      <th>median_rent_m2</th>\n",
       "      <th>num_rent</th>\n",
       "      <th>median_price_m2</th>\n",
       "      <th>num_sale</th>\n",
       "      <th>median_yearly_roi</th>\n",
       "    </tr>\n",
       "    <tr>\n",
       "      <th>zipCode</th>\n",
       "      <th></th>\n",
       "      <th></th>\n",
       "      <th></th>\n",
       "      <th></th>\n",
       "      <th></th>\n",
       "    </tr>\n",
       "  </thead>\n",
       "  <tbody>\n",
       "    <tr>\n",
       "      <th>47229</th>\n",
       "      <td>6.61</td>\n",
       "      <td>28.0</td>\n",
       "      <td>570.55</td>\n",
       "      <td>10.0</td>\n",
       "      <td>0.14</td>\n",
       "    </tr>\n",
       "  </tbody>\n",
       "</table>\n",
       "</div>"
      ],
      "text/plain": [
       "         median_rent_m2  num_rent  median_price_m2  num_sale  \\\n",
       "zipCode                                                        \n",
       "47229              6.61      28.0           570.55      10.0   \n",
       "\n",
       "         median_yearly_roi  \n",
       "zipCode                     \n",
       "47229                 0.14  "
      ]
     },
     "execution_count": 18,
     "metadata": {},
     "output_type": "execute_result"
    },
    {
     "data": {
      "application/javascript": [
       "\n",
       "            setTimeout(function() {\n",
       "                var nbb_cell_id = 18;\n",
       "                var nbb_unformatted_code = \"regiontype = \\\"zipCode\\\"\\nregions = [47229]\\ncombined_df.loc[regions]\";\n",
       "                var nbb_formatted_code = \"regiontype = \\\"zipCode\\\"\\nregions = [47229]\\ncombined_df.loc[regions]\";\n",
       "                var nbb_cells = Jupyter.notebook.get_cells();\n",
       "                for (var i = 0; i < nbb_cells.length; ++i) {\n",
       "                    if (nbb_cells[i].input_prompt_number == nbb_cell_id) {\n",
       "                        if (nbb_cells[i].get_text() == nbb_unformatted_code) {\n",
       "                             nbb_cells[i].set_text(nbb_formatted_code);\n",
       "                        }\n",
       "                        break;\n",
       "                    }\n",
       "                }\n",
       "            }, 500);\n",
       "            "
      ],
      "text/plain": [
       "<IPython.core.display.Javascript object>"
      ]
     },
     "metadata": {},
     "output_type": "display_data"
    }
   ],
   "source": [
    "regiontype = \"zipCode\"\n",
    "regions = [47229]\n",
    "combined_df.loc[regions]"
   ]
  },
  {
   "cell_type": "markdown",
   "metadata": {},
   "source": [
    "### 4.3) Apartments for rent"
   ]
  },
  {
   "cell_type": "code",
   "execution_count": 19,
   "metadata": {},
   "outputs": [
    {
     "data": {
      "text/html": [
       "<style  type=\"text/css\" >\n",
       "</style><table id=\"T_b73cbed8_c7a2_11ea_adb7_a820662273d6\" ><thead>    <tr>        <th class=\"blank level0\" ></th>        <th class=\"col_heading level0 col0\" >rent_m2</th>        <th class=\"col_heading level0 col1\" >baseRent</th>        <th class=\"col_heading level0 col2\" >livingSpace</th>        <th class=\"col_heading level0 col3\" >noRooms</th>        <th class=\"col_heading level0 col4\" >zipCode</th>        <th class=\"col_heading level0 col5\" >regio2</th>        <th class=\"col_heading level0 col6\" >link</th>    </tr></thead><tbody>\n",
       "                <tr>\n",
       "                        <th id=\"T_b73cbed8_c7a2_11ea_adb7_a820662273d6level0_row0\" class=\"row_heading level0 row0\" >78939</th>\n",
       "                        <td id=\"T_b73cbed8_c7a2_11ea_adb7_a820662273d6row0_col0\" class=\"data row0 col0\" >3.88</td>\n",
       "                        <td id=\"T_b73cbed8_c7a2_11ea_adb7_a820662273d6row0_col1\" class=\"data row0 col1\" >349.00</td>\n",
       "                        <td id=\"T_b73cbed8_c7a2_11ea_adb7_a820662273d6row0_col2\" class=\"data row0 col2\" >90.00</td>\n",
       "                        <td id=\"T_b73cbed8_c7a2_11ea_adb7_a820662273d6row0_col3\" class=\"data row0 col3\" >1.00</td>\n",
       "                        <td id=\"T_b73cbed8_c7a2_11ea_adb7_a820662273d6row0_col4\" class=\"data row0 col4\" >47229</td>\n",
       "                        <td id=\"T_b73cbed8_c7a2_11ea_adb7_a820662273d6row0_col5\" class=\"data row0 col5\" >Duisburg</td>\n",
       "                        <td id=\"T_b73cbed8_c7a2_11ea_adb7_a820662273d6row0_col6\" class=\"data row0 col6\" ><a target=\"_blank\" href=\"https://www.immobilienscout24.de/expose/116138687\">https://www.immobilienscout24.de/expose/116138687</a></td>\n",
       "            </tr>\n",
       "            <tr>\n",
       "                        <th id=\"T_b73cbed8_c7a2_11ea_adb7_a820662273d6level0_row1\" class=\"row_heading level0 row1\" >83732</th>\n",
       "                        <td id=\"T_b73cbed8_c7a2_11ea_adb7_a820662273d6row1_col0\" class=\"data row1 col0\" >5.14</td>\n",
       "                        <td id=\"T_b73cbed8_c7a2_11ea_adb7_a820662273d6row1_col1\" class=\"data row1 col1\" >334.00</td>\n",
       "                        <td id=\"T_b73cbed8_c7a2_11ea_adb7_a820662273d6row1_col2\" class=\"data row1 col2\" >65.00</td>\n",
       "                        <td id=\"T_b73cbed8_c7a2_11ea_adb7_a820662273d6row1_col3\" class=\"data row1 col3\" >3.00</td>\n",
       "                        <td id=\"T_b73cbed8_c7a2_11ea_adb7_a820662273d6row1_col4\" class=\"data row1 col4\" >47229</td>\n",
       "                        <td id=\"T_b73cbed8_c7a2_11ea_adb7_a820662273d6row1_col5\" class=\"data row1 col5\" >Duisburg</td>\n",
       "                        <td id=\"T_b73cbed8_c7a2_11ea_adb7_a820662273d6row1_col6\" class=\"data row1 col6\" ><a target=\"_blank\" href=\"https://www.immobilienscout24.de/expose/114637869\">https://www.immobilienscout24.de/expose/114637869</a></td>\n",
       "            </tr>\n",
       "            <tr>\n",
       "                        <th id=\"T_b73cbed8_c7a2_11ea_adb7_a820662273d6level0_row2\" class=\"row_heading level0 row2\" >41912</th>\n",
       "                        <td id=\"T_b73cbed8_c7a2_11ea_adb7_a820662273d6row2_col0\" class=\"data row2 col0\" >5.36</td>\n",
       "                        <td id=\"T_b73cbed8_c7a2_11ea_adb7_a820662273d6row2_col1\" class=\"data row2 col1\" >337.00</td>\n",
       "                        <td id=\"T_b73cbed8_c7a2_11ea_adb7_a820662273d6row2_col2\" class=\"data row2 col2\" >62.84</td>\n",
       "                        <td id=\"T_b73cbed8_c7a2_11ea_adb7_a820662273d6row2_col3\" class=\"data row2 col3\" >2.00</td>\n",
       "                        <td id=\"T_b73cbed8_c7a2_11ea_adb7_a820662273d6row2_col4\" class=\"data row2 col4\" >47229</td>\n",
       "                        <td id=\"T_b73cbed8_c7a2_11ea_adb7_a820662273d6row2_col5\" class=\"data row2 col5\" >Duisburg</td>\n",
       "                        <td id=\"T_b73cbed8_c7a2_11ea_adb7_a820662273d6row2_col6\" class=\"data row2 col6\" ><a target=\"_blank\" href=\"https://www.immobilienscout24.de/expose/120598052\">https://www.immobilienscout24.de/expose/120598052</a></td>\n",
       "            </tr>\n",
       "            <tr>\n",
       "                        <th id=\"T_b73cbed8_c7a2_11ea_adb7_a820662273d6level0_row3\" class=\"row_heading level0 row3\" >44699</th>\n",
       "                        <td id=\"T_b73cbed8_c7a2_11ea_adb7_a820662273d6row3_col0\" class=\"data row3 col0\" >5.41</td>\n",
       "                        <td id=\"T_b73cbed8_c7a2_11ea_adb7_a820662273d6row3_col1\" class=\"data row3 col1\" >265.03</td>\n",
       "                        <td id=\"T_b73cbed8_c7a2_11ea_adb7_a820662273d6row3_col2\" class=\"data row3 col2\" >49.00</td>\n",
       "                        <td id=\"T_b73cbed8_c7a2_11ea_adb7_a820662273d6row3_col3\" class=\"data row3 col3\" >2.00</td>\n",
       "                        <td id=\"T_b73cbed8_c7a2_11ea_adb7_a820662273d6row3_col4\" class=\"data row3 col4\" >47229</td>\n",
       "                        <td id=\"T_b73cbed8_c7a2_11ea_adb7_a820662273d6row3_col5\" class=\"data row3 col5\" >Duisburg</td>\n",
       "                        <td id=\"T_b73cbed8_c7a2_11ea_adb7_a820662273d6row3_col6\" class=\"data row3 col6\" ><a target=\"_blank\" href=\"https://www.immobilienscout24.de/expose/120524825\">https://www.immobilienscout24.de/expose/120524825</a></td>\n",
       "            </tr>\n",
       "            <tr>\n",
       "                        <th id=\"T_b73cbed8_c7a2_11ea_adb7_a820662273d6level0_row4\" class=\"row_heading level0 row4\" >96088</th>\n",
       "                        <td id=\"T_b73cbed8_c7a2_11ea_adb7_a820662273d6row4_col0\" class=\"data row4 col0\" >5.43</td>\n",
       "                        <td id=\"T_b73cbed8_c7a2_11ea_adb7_a820662273d6row4_col1\" class=\"data row4 col1\" >250.00</td>\n",
       "                        <td id=\"T_b73cbed8_c7a2_11ea_adb7_a820662273d6row4_col2\" class=\"data row4 col2\" >46.00</td>\n",
       "                        <td id=\"T_b73cbed8_c7a2_11ea_adb7_a820662273d6row4_col3\" class=\"data row4 col3\" >2.00</td>\n",
       "                        <td id=\"T_b73cbed8_c7a2_11ea_adb7_a820662273d6row4_col4\" class=\"data row4 col4\" >47229</td>\n",
       "                        <td id=\"T_b73cbed8_c7a2_11ea_adb7_a820662273d6row4_col5\" class=\"data row4 col5\" >Duisburg</td>\n",
       "                        <td id=\"T_b73cbed8_c7a2_11ea_adb7_a820662273d6row4_col6\" class=\"data row4 col6\" ><a target=\"_blank\" href=\"https://www.immobilienscout24.de/expose/87751423\">https://www.immobilienscout24.de/expose/87751423</a></td>\n",
       "            </tr>\n",
       "            <tr>\n",
       "                        <th id=\"T_b73cbed8_c7a2_11ea_adb7_a820662273d6level0_row5\" class=\"row_heading level0 row5\" >77078</th>\n",
       "                        <td id=\"T_b73cbed8_c7a2_11ea_adb7_a820662273d6row5_col0\" class=\"data row5 col0\" >5.56</td>\n",
       "                        <td id=\"T_b73cbed8_c7a2_11ea_adb7_a820662273d6row5_col1\" class=\"data row5 col1\" >344.00</td>\n",
       "                        <td id=\"T_b73cbed8_c7a2_11ea_adb7_a820662273d6row5_col2\" class=\"data row5 col2\" >61.87</td>\n",
       "                        <td id=\"T_b73cbed8_c7a2_11ea_adb7_a820662273d6row5_col3\" class=\"data row5 col3\" >3.00</td>\n",
       "                        <td id=\"T_b73cbed8_c7a2_11ea_adb7_a820662273d6row5_col4\" class=\"data row5 col4\" >47229</td>\n",
       "                        <td id=\"T_b73cbed8_c7a2_11ea_adb7_a820662273d6row5_col5\" class=\"data row5 col5\" >Duisburg</td>\n",
       "                        <td id=\"T_b73cbed8_c7a2_11ea_adb7_a820662273d6row5_col6\" class=\"data row5 col6\" ><a target=\"_blank\" href=\"https://www.immobilienscout24.de/expose/116647404\">https://www.immobilienscout24.de/expose/116647404</a></td>\n",
       "            </tr>\n",
       "            <tr>\n",
       "                        <th id=\"T_b73cbed8_c7a2_11ea_adb7_a820662273d6level0_row6\" class=\"row_heading level0 row6\" >38675</th>\n",
       "                        <td id=\"T_b73cbed8_c7a2_11ea_adb7_a820662273d6row6_col0\" class=\"data row6 col0\" >5.62</td>\n",
       "                        <td id=\"T_b73cbed8_c7a2_11ea_adb7_a820662273d6row6_col1\" class=\"data row6 col1\" >450.00</td>\n",
       "                        <td id=\"T_b73cbed8_c7a2_11ea_adb7_a820662273d6row6_col2\" class=\"data row6 col2\" >80.00</td>\n",
       "                        <td id=\"T_b73cbed8_c7a2_11ea_adb7_a820662273d6row6_col3\" class=\"data row6 col3\" >3.00</td>\n",
       "                        <td id=\"T_b73cbed8_c7a2_11ea_adb7_a820662273d6row6_col4\" class=\"data row6 col4\" >47229</td>\n",
       "                        <td id=\"T_b73cbed8_c7a2_11ea_adb7_a820662273d6row6_col5\" class=\"data row6 col5\" >Duisburg</td>\n",
       "                        <td id=\"T_b73cbed8_c7a2_11ea_adb7_a820662273d6row6_col6\" class=\"data row6 col6\" ><a target=\"_blank\" href=\"https://www.immobilienscout24.de/expose/64750017\">https://www.immobilienscout24.de/expose/64750017</a></td>\n",
       "            </tr>\n",
       "            <tr>\n",
       "                        <th id=\"T_b73cbed8_c7a2_11ea_adb7_a820662273d6level0_row7\" class=\"row_heading level0 row7\" >94781</th>\n",
       "                        <td id=\"T_b73cbed8_c7a2_11ea_adb7_a820662273d6row7_col0\" class=\"data row7 col0\" >5.65</td>\n",
       "                        <td id=\"T_b73cbed8_c7a2_11ea_adb7_a820662273d6row7_col1\" class=\"data row7 col1\" >355.00</td>\n",
       "                        <td id=\"T_b73cbed8_c7a2_11ea_adb7_a820662273d6row7_col2\" class=\"data row7 col2\" >62.85</td>\n",
       "                        <td id=\"T_b73cbed8_c7a2_11ea_adb7_a820662273d6row7_col3\" class=\"data row7 col3\" >2.00</td>\n",
       "                        <td id=\"T_b73cbed8_c7a2_11ea_adb7_a820662273d6row7_col4\" class=\"data row7 col4\" >47229</td>\n",
       "                        <td id=\"T_b73cbed8_c7a2_11ea_adb7_a820662273d6row7_col5\" class=\"data row7 col5\" >Duisburg</td>\n",
       "                        <td id=\"T_b73cbed8_c7a2_11ea_adb7_a820662273d6row7_col6\" class=\"data row7 col6\" ><a target=\"_blank\" href=\"https://www.immobilienscout24.de/expose/93276843\">https://www.immobilienscout24.de/expose/93276843</a></td>\n",
       "            </tr>\n",
       "            <tr>\n",
       "                        <th id=\"T_b73cbed8_c7a2_11ea_adb7_a820662273d6level0_row8\" class=\"row_heading level0 row8\" >71842</th>\n",
       "                        <td id=\"T_b73cbed8_c7a2_11ea_adb7_a820662273d6row8_col0\" class=\"data row8 col0\" >6.00</td>\n",
       "                        <td id=\"T_b73cbed8_c7a2_11ea_adb7_a820662273d6row8_col1\" class=\"data row8 col1\" >372.00</td>\n",
       "                        <td id=\"T_b73cbed8_c7a2_11ea_adb7_a820662273d6row8_col2\" class=\"data row8 col2\" >62.00</td>\n",
       "                        <td id=\"T_b73cbed8_c7a2_11ea_adb7_a820662273d6row8_col3\" class=\"data row8 col3\" >2.00</td>\n",
       "                        <td id=\"T_b73cbed8_c7a2_11ea_adb7_a820662273d6row8_col4\" class=\"data row8 col4\" >47229</td>\n",
       "                        <td id=\"T_b73cbed8_c7a2_11ea_adb7_a820662273d6row8_col5\" class=\"data row8 col5\" >Duisburg</td>\n",
       "                        <td id=\"T_b73cbed8_c7a2_11ea_adb7_a820662273d6row8_col6\" class=\"data row8 col6\" ><a target=\"_blank\" href=\"https://www.immobilienscout24.de/expose/117864121\">https://www.immobilienscout24.de/expose/117864121</a></td>\n",
       "            </tr>\n",
       "            <tr>\n",
       "                        <th id=\"T_b73cbed8_c7a2_11ea_adb7_a820662273d6level0_row9\" class=\"row_heading level0 row9\" >60152</th>\n",
       "                        <td id=\"T_b73cbed8_c7a2_11ea_adb7_a820662273d6row9_col0\" class=\"data row9 col0\" >6.00</td>\n",
       "                        <td id=\"T_b73cbed8_c7a2_11ea_adb7_a820662273d6row9_col1\" class=\"data row9 col1\" >372.00</td>\n",
       "                        <td id=\"T_b73cbed8_c7a2_11ea_adb7_a820662273d6row9_col2\" class=\"data row9 col2\" >62.00</td>\n",
       "                        <td id=\"T_b73cbed8_c7a2_11ea_adb7_a820662273d6row9_col3\" class=\"data row9 col3\" >2.00</td>\n",
       "                        <td id=\"T_b73cbed8_c7a2_11ea_adb7_a820662273d6row9_col4\" class=\"data row9 col4\" >47229</td>\n",
       "                        <td id=\"T_b73cbed8_c7a2_11ea_adb7_a820662273d6row9_col5\" class=\"data row9 col5\" >Duisburg</td>\n",
       "                        <td id=\"T_b73cbed8_c7a2_11ea_adb7_a820662273d6row9_col6\" class=\"data row9 col6\" ><a target=\"_blank\" href=\"https://www.immobilienscout24.de/expose/119712843\">https://www.immobilienscout24.de/expose/119712843</a></td>\n",
       "            </tr>\n",
       "            <tr>\n",
       "                        <th id=\"T_b73cbed8_c7a2_11ea_adb7_a820662273d6level0_row10\" class=\"row_heading level0 row10\" >42839</th>\n",
       "                        <td id=\"T_b73cbed8_c7a2_11ea_adb7_a820662273d6row10_col0\" class=\"data row10 col0\" >6.07</td>\n",
       "                        <td id=\"T_b73cbed8_c7a2_11ea_adb7_a820662273d6row10_col1\" class=\"data row10 col1\" >320.00</td>\n",
       "                        <td id=\"T_b73cbed8_c7a2_11ea_adb7_a820662273d6row10_col2\" class=\"data row10 col2\" >52.74</td>\n",
       "                        <td id=\"T_b73cbed8_c7a2_11ea_adb7_a820662273d6row10_col3\" class=\"data row10 col3\" >2.00</td>\n",
       "                        <td id=\"T_b73cbed8_c7a2_11ea_adb7_a820662273d6row10_col4\" class=\"data row10 col4\" >47229</td>\n",
       "                        <td id=\"T_b73cbed8_c7a2_11ea_adb7_a820662273d6row10_col5\" class=\"data row10 col5\" >Duisburg</td>\n",
       "                        <td id=\"T_b73cbed8_c7a2_11ea_adb7_a820662273d6row10_col6\" class=\"data row10 col6\" ><a target=\"_blank\" href=\"https://www.immobilienscout24.de/expose/120569554\">https://www.immobilienscout24.de/expose/120569554</a></td>\n",
       "            </tr>\n",
       "            <tr>\n",
       "                        <th id=\"T_b73cbed8_c7a2_11ea_adb7_a820662273d6level0_row11\" class=\"row_heading level0 row11\" >57621</th>\n",
       "                        <td id=\"T_b73cbed8_c7a2_11ea_adb7_a820662273d6row11_col0\" class=\"data row11 col0\" >6.43</td>\n",
       "                        <td id=\"T_b73cbed8_c7a2_11ea_adb7_a820662273d6row11_col1\" class=\"data row11 col1\" >299.00</td>\n",
       "                        <td id=\"T_b73cbed8_c7a2_11ea_adb7_a820662273d6row11_col2\" class=\"data row11 col2\" >46.52</td>\n",
       "                        <td id=\"T_b73cbed8_c7a2_11ea_adb7_a820662273d6row11_col3\" class=\"data row11 col3\" >2.00</td>\n",
       "                        <td id=\"T_b73cbed8_c7a2_11ea_adb7_a820662273d6row11_col4\" class=\"data row11 col4\" >47229</td>\n",
       "                        <td id=\"T_b73cbed8_c7a2_11ea_adb7_a820662273d6row11_col5\" class=\"data row11 col5\" >Duisburg</td>\n",
       "                        <td id=\"T_b73cbed8_c7a2_11ea_adb7_a820662273d6row11_col6\" class=\"data row11 col6\" ><a target=\"_blank\" href=\"https://www.immobilienscout24.de/expose/119943700\">https://www.immobilienscout24.de/expose/119943700</a></td>\n",
       "            </tr>\n",
       "            <tr>\n",
       "                        <th id=\"T_b73cbed8_c7a2_11ea_adb7_a820662273d6level0_row12\" class=\"row_heading level0 row12\" >1852</th>\n",
       "                        <td id=\"T_b73cbed8_c7a2_11ea_adb7_a820662273d6row12_col0\" class=\"data row12 col0\" >6.53</td>\n",
       "                        <td id=\"T_b73cbed8_c7a2_11ea_adb7_a820662273d6row12_col1\" class=\"data row12 col1\" >305.00</td>\n",
       "                        <td id=\"T_b73cbed8_c7a2_11ea_adb7_a820662273d6row12_col2\" class=\"data row12 col2\" >46.72</td>\n",
       "                        <td id=\"T_b73cbed8_c7a2_11ea_adb7_a820662273d6row12_col3\" class=\"data row12 col3\" >2.00</td>\n",
       "                        <td id=\"T_b73cbed8_c7a2_11ea_adb7_a820662273d6row12_col4\" class=\"data row12 col4\" >47229</td>\n",
       "                        <td id=\"T_b73cbed8_c7a2_11ea_adb7_a820662273d6row12_col5\" class=\"data row12 col5\" >Duisburg</td>\n",
       "                        <td id=\"T_b73cbed8_c7a2_11ea_adb7_a820662273d6row12_col6\" class=\"data row12 col6\" ><a target=\"_blank\" href=\"https://www.immobilienscout24.de/expose/89469163\">https://www.immobilienscout24.de/expose/89469163</a></td>\n",
       "            </tr>\n",
       "            <tr>\n",
       "                        <th id=\"T_b73cbed8_c7a2_11ea_adb7_a820662273d6level0_row13\" class=\"row_heading level0 row13\" >74331</th>\n",
       "                        <td id=\"T_b73cbed8_c7a2_11ea_adb7_a820662273d6row13_col0\" class=\"data row13 col0\" >6.58</td>\n",
       "                        <td id=\"T_b73cbed8_c7a2_11ea_adb7_a820662273d6row13_col1\" class=\"data row13 col1\" >345.00</td>\n",
       "                        <td id=\"T_b73cbed8_c7a2_11ea_adb7_a820662273d6row13_col2\" class=\"data row13 col2\" >52.41</td>\n",
       "                        <td id=\"T_b73cbed8_c7a2_11ea_adb7_a820662273d6row13_col3\" class=\"data row13 col3\" >2.00</td>\n",
       "                        <td id=\"T_b73cbed8_c7a2_11ea_adb7_a820662273d6row13_col4\" class=\"data row13 col4\" >47229</td>\n",
       "                        <td id=\"T_b73cbed8_c7a2_11ea_adb7_a820662273d6row13_col5\" class=\"data row13 col5\" >Duisburg</td>\n",
       "                        <td id=\"T_b73cbed8_c7a2_11ea_adb7_a820662273d6row13_col6\" class=\"data row13 col6\" ><a target=\"_blank\" href=\"https://www.immobilienscout24.de/expose/117179468\">https://www.immobilienscout24.de/expose/117179468</a></td>\n",
       "            </tr>\n",
       "            <tr>\n",
       "                        <th id=\"T_b73cbed8_c7a2_11ea_adb7_a820662273d6level0_row14\" class=\"row_heading level0 row14\" >52266</th>\n",
       "                        <td id=\"T_b73cbed8_c7a2_11ea_adb7_a820662273d6row14_col0\" class=\"data row14 col0\" >6.63</td>\n",
       "                        <td id=\"T_b73cbed8_c7a2_11ea_adb7_a820662273d6row14_col1\" class=\"data row14 col1\" >350.00</td>\n",
       "                        <td id=\"T_b73cbed8_c7a2_11ea_adb7_a820662273d6row14_col2\" class=\"data row14 col2\" >52.78</td>\n",
       "                        <td id=\"T_b73cbed8_c7a2_11ea_adb7_a820662273d6row14_col3\" class=\"data row14 col3\" >2.00</td>\n",
       "                        <td id=\"T_b73cbed8_c7a2_11ea_adb7_a820662273d6row14_col4\" class=\"data row14 col4\" >47229</td>\n",
       "                        <td id=\"T_b73cbed8_c7a2_11ea_adb7_a820662273d6row14_col5\" class=\"data row14 col5\" >Duisburg</td>\n",
       "                        <td id=\"T_b73cbed8_c7a2_11ea_adb7_a820662273d6row14_col6\" class=\"data row14 col6\" ><a target=\"_blank\" href=\"https://www.immobilienscout24.de/expose/120261701\">https://www.immobilienscout24.de/expose/120261701</a></td>\n",
       "            </tr>\n",
       "            <tr>\n",
       "                        <th id=\"T_b73cbed8_c7a2_11ea_adb7_a820662273d6level0_row15\" class=\"row_heading level0 row15\" >33394</th>\n",
       "                        <td id=\"T_b73cbed8_c7a2_11ea_adb7_a820662273d6row15_col0\" class=\"data row15 col0\" >6.74</td>\n",
       "                        <td id=\"T_b73cbed8_c7a2_11ea_adb7_a820662273d6row15_col1\" class=\"data row15 col1\" >345.00</td>\n",
       "                        <td id=\"T_b73cbed8_c7a2_11ea_adb7_a820662273d6row15_col2\" class=\"data row15 col2\" >51.15</td>\n",
       "                        <td id=\"T_b73cbed8_c7a2_11ea_adb7_a820662273d6row15_col3\" class=\"data row15 col3\" >2.00</td>\n",
       "                        <td id=\"T_b73cbed8_c7a2_11ea_adb7_a820662273d6row15_col4\" class=\"data row15 col4\" >47229</td>\n",
       "                        <td id=\"T_b73cbed8_c7a2_11ea_adb7_a820662273d6row15_col5\" class=\"data row15 col5\" >Duisburg</td>\n",
       "                        <td id=\"T_b73cbed8_c7a2_11ea_adb7_a820662273d6row15_col6\" class=\"data row15 col6\" ><a target=\"_blank\" href=\"https://www.immobilienscout24.de/expose/119669230\">https://www.immobilienscout24.de/expose/119669230</a></td>\n",
       "            </tr>\n",
       "            <tr>\n",
       "                        <th id=\"T_b73cbed8_c7a2_11ea_adb7_a820662273d6level0_row16\" class=\"row_heading level0 row16\" >68648</th>\n",
       "                        <td id=\"T_b73cbed8_c7a2_11ea_adb7_a820662273d6row16_col0\" class=\"data row16 col0\" >6.80</td>\n",
       "                        <td id=\"T_b73cbed8_c7a2_11ea_adb7_a820662273d6row16_col1\" class=\"data row16 col1\" >340.00</td>\n",
       "                        <td id=\"T_b73cbed8_c7a2_11ea_adb7_a820662273d6row16_col2\" class=\"data row16 col2\" >50.00</td>\n",
       "                        <td id=\"T_b73cbed8_c7a2_11ea_adb7_a820662273d6row16_col3\" class=\"data row16 col3\" >2.00</td>\n",
       "                        <td id=\"T_b73cbed8_c7a2_11ea_adb7_a820662273d6row16_col4\" class=\"data row16 col4\" >47229</td>\n",
       "                        <td id=\"T_b73cbed8_c7a2_11ea_adb7_a820662273d6row16_col5\" class=\"data row16 col5\" >Duisburg</td>\n",
       "                        <td id=\"T_b73cbed8_c7a2_11ea_adb7_a820662273d6row16_col6\" class=\"data row16 col6\" ><a target=\"_blank\" href=\"https://www.immobilienscout24.de/expose/118439560\">https://www.immobilienscout24.de/expose/118439560</a></td>\n",
       "            </tr>\n",
       "            <tr>\n",
       "                        <th id=\"T_b73cbed8_c7a2_11ea_adb7_a820662273d6level0_row17\" class=\"row_heading level0 row17\" >59260</th>\n",
       "                        <td id=\"T_b73cbed8_c7a2_11ea_adb7_a820662273d6row17_col0\" class=\"data row17 col0\" >6.86</td>\n",
       "                        <td id=\"T_b73cbed8_c7a2_11ea_adb7_a820662273d6row17_col1\" class=\"data row17 col1\" >319.00</td>\n",
       "                        <td id=\"T_b73cbed8_c7a2_11ea_adb7_a820662273d6row17_col2\" class=\"data row17 col2\" >46.52</td>\n",
       "                        <td id=\"T_b73cbed8_c7a2_11ea_adb7_a820662273d6row17_col3\" class=\"data row17 col3\" >2.00</td>\n",
       "                        <td id=\"T_b73cbed8_c7a2_11ea_adb7_a820662273d6row17_col4\" class=\"data row17 col4\" >47229</td>\n",
       "                        <td id=\"T_b73cbed8_c7a2_11ea_adb7_a820662273d6row17_col5\" class=\"data row17 col5\" >Duisburg</td>\n",
       "                        <td id=\"T_b73cbed8_c7a2_11ea_adb7_a820662273d6row17_col6\" class=\"data row17 col6\" ><a target=\"_blank\" href=\"https://www.immobilienscout24.de/expose/119790181\">https://www.immobilienscout24.de/expose/119790181</a></td>\n",
       "            </tr>\n",
       "            <tr>\n",
       "                        <th id=\"T_b73cbed8_c7a2_11ea_adb7_a820662273d6level0_row18\" class=\"row_heading level0 row18\" >79398</th>\n",
       "                        <td id=\"T_b73cbed8_c7a2_11ea_adb7_a820662273d6row18_col0\" class=\"data row18 col0\" >6.86</td>\n",
       "                        <td id=\"T_b73cbed8_c7a2_11ea_adb7_a820662273d6row18_col1\" class=\"data row18 col1\" >319.00</td>\n",
       "                        <td id=\"T_b73cbed8_c7a2_11ea_adb7_a820662273d6row18_col2\" class=\"data row18 col2\" >46.52</td>\n",
       "                        <td id=\"T_b73cbed8_c7a2_11ea_adb7_a820662273d6row18_col3\" class=\"data row18 col3\" >2.00</td>\n",
       "                        <td id=\"T_b73cbed8_c7a2_11ea_adb7_a820662273d6row18_col4\" class=\"data row18 col4\" >47229</td>\n",
       "                        <td id=\"T_b73cbed8_c7a2_11ea_adb7_a820662273d6row18_col5\" class=\"data row18 col5\" >Duisburg</td>\n",
       "                        <td id=\"T_b73cbed8_c7a2_11ea_adb7_a820662273d6row18_col6\" class=\"data row18 col6\" ><a target=\"_blank\" href=\"https://www.immobilienscout24.de/expose/115983618\">https://www.immobilienscout24.de/expose/115983618</a></td>\n",
       "            </tr>\n",
       "            <tr>\n",
       "                        <th id=\"T_b73cbed8_c7a2_11ea_adb7_a820662273d6level0_row19\" class=\"row_heading level0 row19\" >34206</th>\n",
       "                        <td id=\"T_b73cbed8_c7a2_11ea_adb7_a820662273d6row19_col0\" class=\"data row19 col0\" >7.12</td>\n",
       "                        <td id=\"T_b73cbed8_c7a2_11ea_adb7_a820662273d6row19_col1\" class=\"data row19 col1\" >520.00</td>\n",
       "                        <td id=\"T_b73cbed8_c7a2_11ea_adb7_a820662273d6row19_col2\" class=\"data row19 col2\" >73.00</td>\n",
       "                        <td id=\"T_b73cbed8_c7a2_11ea_adb7_a820662273d6row19_col3\" class=\"data row19 col3\" >2.00</td>\n",
       "                        <td id=\"T_b73cbed8_c7a2_11ea_adb7_a820662273d6row19_col4\" class=\"data row19 col4\" >47229</td>\n",
       "                        <td id=\"T_b73cbed8_c7a2_11ea_adb7_a820662273d6row19_col5\" class=\"data row19 col5\" >Duisburg</td>\n",
       "                        <td id=\"T_b73cbed8_c7a2_11ea_adb7_a820662273d6row19_col6\" class=\"data row19 col6\" ><a target=\"_blank\" href=\"https://www.immobilienscout24.de/expose/119947254\">https://www.immobilienscout24.de/expose/119947254</a></td>\n",
       "            </tr>\n",
       "            <tr>\n",
       "                        <th id=\"T_b73cbed8_c7a2_11ea_adb7_a820662273d6level0_row20\" class=\"row_heading level0 row20\" >13006</th>\n",
       "                        <td id=\"T_b73cbed8_c7a2_11ea_adb7_a820662273d6row20_col0\" class=\"data row20 col0\" >7.14</td>\n",
       "                        <td id=\"T_b73cbed8_c7a2_11ea_adb7_a820662273d6row20_col1\" class=\"data row20 col1\" >500.00</td>\n",
       "                        <td id=\"T_b73cbed8_c7a2_11ea_adb7_a820662273d6row20_col2\" class=\"data row20 col2\" >70.00</td>\n",
       "                        <td id=\"T_b73cbed8_c7a2_11ea_adb7_a820662273d6row20_col3\" class=\"data row20 col3\" >3.50</td>\n",
       "                        <td id=\"T_b73cbed8_c7a2_11ea_adb7_a820662273d6row20_col4\" class=\"data row20 col4\" >47229</td>\n",
       "                        <td id=\"T_b73cbed8_c7a2_11ea_adb7_a820662273d6row20_col5\" class=\"data row20 col5\" >Duisburg</td>\n",
       "                        <td id=\"T_b73cbed8_c7a2_11ea_adb7_a820662273d6row20_col6\" class=\"data row20 col6\" ><a target=\"_blank\" href=\"https://www.immobilienscout24.de/expose/120566772\">https://www.immobilienscout24.de/expose/120566772</a></td>\n",
       "            </tr>\n",
       "            <tr>\n",
       "                        <th id=\"T_b73cbed8_c7a2_11ea_adb7_a820662273d6level0_row21\" class=\"row_heading level0 row21\" >63193</th>\n",
       "                        <td id=\"T_b73cbed8_c7a2_11ea_adb7_a820662273d6row21_col0\" class=\"data row21 col0\" >7.45</td>\n",
       "                        <td id=\"T_b73cbed8_c7a2_11ea_adb7_a820662273d6row21_col1\" class=\"data row21 col1\" >350.00</td>\n",
       "                        <td id=\"T_b73cbed8_c7a2_11ea_adb7_a820662273d6row21_col2\" class=\"data row21 col2\" >47.00</td>\n",
       "                        <td id=\"T_b73cbed8_c7a2_11ea_adb7_a820662273d6row21_col3\" class=\"data row21 col3\" >1.00</td>\n",
       "                        <td id=\"T_b73cbed8_c7a2_11ea_adb7_a820662273d6row21_col4\" class=\"data row21 col4\" >47229</td>\n",
       "                        <td id=\"T_b73cbed8_c7a2_11ea_adb7_a820662273d6row21_col5\" class=\"data row21 col5\" >Duisburg</td>\n",
       "                        <td id=\"T_b73cbed8_c7a2_11ea_adb7_a820662273d6row21_col6\" class=\"data row21 col6\" ><a target=\"_blank\" href=\"https://www.immobilienscout24.de/expose/119364243\">https://www.immobilienscout24.de/expose/119364243</a></td>\n",
       "            </tr>\n",
       "            <tr>\n",
       "                        <th id=\"T_b73cbed8_c7a2_11ea_adb7_a820662273d6level0_row22\" class=\"row_heading level0 row22\" >40837</th>\n",
       "                        <td id=\"T_b73cbed8_c7a2_11ea_adb7_a820662273d6row22_col0\" class=\"data row22 col0\" >7.50</td>\n",
       "                        <td id=\"T_b73cbed8_c7a2_11ea_adb7_a820662273d6row22_col1\" class=\"data row22 col1\" >585.00</td>\n",
       "                        <td id=\"T_b73cbed8_c7a2_11ea_adb7_a820662273d6row22_col2\" class=\"data row22 col2\" >78.00</td>\n",
       "                        <td id=\"T_b73cbed8_c7a2_11ea_adb7_a820662273d6row22_col3\" class=\"data row22 col3\" >2.50</td>\n",
       "                        <td id=\"T_b73cbed8_c7a2_11ea_adb7_a820662273d6row22_col4\" class=\"data row22 col4\" >47229</td>\n",
       "                        <td id=\"T_b73cbed8_c7a2_11ea_adb7_a820662273d6row22_col5\" class=\"data row22 col5\" >Duisburg</td>\n",
       "                        <td id=\"T_b73cbed8_c7a2_11ea_adb7_a820662273d6row22_col6\" class=\"data row22 col6\" ><a target=\"_blank\" href=\"https://www.immobilienscout24.de/expose/120611733\">https://www.immobilienscout24.de/expose/120611733</a></td>\n",
       "            </tr>\n",
       "            <tr>\n",
       "                        <th id=\"T_b73cbed8_c7a2_11ea_adb7_a820662273d6level0_row23\" class=\"row_heading level0 row23\" >96287</th>\n",
       "                        <td id=\"T_b73cbed8_c7a2_11ea_adb7_a820662273d6row23_col0\" class=\"data row23 col0\" >7.51</td>\n",
       "                        <td id=\"T_b73cbed8_c7a2_11ea_adb7_a820662273d6row23_col1\" class=\"data row23 col1\" >735.00</td>\n",
       "                        <td id=\"T_b73cbed8_c7a2_11ea_adb7_a820662273d6row23_col2\" class=\"data row23 col2\" >97.90</td>\n",
       "                        <td id=\"T_b73cbed8_c7a2_11ea_adb7_a820662273d6row23_col3\" class=\"data row23 col3\" >2.00</td>\n",
       "                        <td id=\"T_b73cbed8_c7a2_11ea_adb7_a820662273d6row23_col4\" class=\"data row23 col4\" >47229</td>\n",
       "                        <td id=\"T_b73cbed8_c7a2_11ea_adb7_a820662273d6row23_col5\" class=\"data row23 col5\" >Duisburg</td>\n",
       "                        <td id=\"T_b73cbed8_c7a2_11ea_adb7_a820662273d6row23_col6\" class=\"data row23 col6\" ><a target=\"_blank\" href=\"https://www.immobilienscout24.de/expose/86962159\">https://www.immobilienscout24.de/expose/86962159</a></td>\n",
       "            </tr>\n",
       "            <tr>\n",
       "                        <th id=\"T_b73cbed8_c7a2_11ea_adb7_a820662273d6level0_row24\" class=\"row_heading level0 row24\" >40851</th>\n",
       "                        <td id=\"T_b73cbed8_c7a2_11ea_adb7_a820662273d6row24_col0\" class=\"data row24 col0\" >7.79</td>\n",
       "                        <td id=\"T_b73cbed8_c7a2_11ea_adb7_a820662273d6row24_col1\" class=\"data row24 col1\" >405.00</td>\n",
       "                        <td id=\"T_b73cbed8_c7a2_11ea_adb7_a820662273d6row24_col2\" class=\"data row24 col2\" >52.00</td>\n",
       "                        <td id=\"T_b73cbed8_c7a2_11ea_adb7_a820662273d6row24_col3\" class=\"data row24 col3\" >2.50</td>\n",
       "                        <td id=\"T_b73cbed8_c7a2_11ea_adb7_a820662273d6row24_col4\" class=\"data row24 col4\" >47229</td>\n",
       "                        <td id=\"T_b73cbed8_c7a2_11ea_adb7_a820662273d6row24_col5\" class=\"data row24 col5\" >Duisburg</td>\n",
       "                        <td id=\"T_b73cbed8_c7a2_11ea_adb7_a820662273d6row24_col6\" class=\"data row24 col6\" ><a target=\"_blank\" href=\"https://www.immobilienscout24.de/expose/120611781\">https://www.immobilienscout24.de/expose/120611781</a></td>\n",
       "            </tr>\n",
       "            <tr>\n",
       "                        <th id=\"T_b73cbed8_c7a2_11ea_adb7_a820662273d6level0_row25\" class=\"row_heading level0 row25\" >40873</th>\n",
       "                        <td id=\"T_b73cbed8_c7a2_11ea_adb7_a820662273d6row25_col0\" class=\"data row25 col0\" >7.79</td>\n",
       "                        <td id=\"T_b73cbed8_c7a2_11ea_adb7_a820662273d6row25_col1\" class=\"data row25 col1\" >405.00</td>\n",
       "                        <td id=\"T_b73cbed8_c7a2_11ea_adb7_a820662273d6row25_col2\" class=\"data row25 col2\" >52.00</td>\n",
       "                        <td id=\"T_b73cbed8_c7a2_11ea_adb7_a820662273d6row25_col3\" class=\"data row25 col3\" >2.50</td>\n",
       "                        <td id=\"T_b73cbed8_c7a2_11ea_adb7_a820662273d6row25_col4\" class=\"data row25 col4\" >47229</td>\n",
       "                        <td id=\"T_b73cbed8_c7a2_11ea_adb7_a820662273d6row25_col5\" class=\"data row25 col5\" >Duisburg</td>\n",
       "                        <td id=\"T_b73cbed8_c7a2_11ea_adb7_a820662273d6row25_col6\" class=\"data row25 col6\" ><a target=\"_blank\" href=\"https://www.immobilienscout24.de/expose/120611723\">https://www.immobilienscout24.de/expose/120611723</a></td>\n",
       "            </tr>\n",
       "            <tr>\n",
       "                        <th id=\"T_b73cbed8_c7a2_11ea_adb7_a820662273d6level0_row26\" class=\"row_heading level0 row26\" >5678</th>\n",
       "                        <td id=\"T_b73cbed8_c7a2_11ea_adb7_a820662273d6row26_col0\" class=\"data row26 col0\" >8.11</td>\n",
       "                        <td id=\"T_b73cbed8_c7a2_11ea_adb7_a820662273d6row26_col1\" class=\"data row26 col1\" >365.00</td>\n",
       "                        <td id=\"T_b73cbed8_c7a2_11ea_adb7_a820662273d6row26_col2\" class=\"data row26 col2\" >45.00</td>\n",
       "                        <td id=\"T_b73cbed8_c7a2_11ea_adb7_a820662273d6row26_col3\" class=\"data row26 col3\" >2.00</td>\n",
       "                        <td id=\"T_b73cbed8_c7a2_11ea_adb7_a820662273d6row26_col4\" class=\"data row26 col4\" >47229</td>\n",
       "                        <td id=\"T_b73cbed8_c7a2_11ea_adb7_a820662273d6row26_col5\" class=\"data row26 col5\" >Duisburg</td>\n",
       "                        <td id=\"T_b73cbed8_c7a2_11ea_adb7_a820662273d6row26_col6\" class=\"data row26 col6\" ><a target=\"_blank\" href=\"https://www.immobilienscout24.de/expose/118237145\">https://www.immobilienscout24.de/expose/118237145</a></td>\n",
       "            </tr>\n",
       "            <tr>\n",
       "                        <th id=\"T_b73cbed8_c7a2_11ea_adb7_a820662273d6level0_row27\" class=\"row_heading level0 row27\" >11247</th>\n",
       "                        <td id=\"T_b73cbed8_c7a2_11ea_adb7_a820662273d6row27_col0\" class=\"data row27 col0\" >8.71</td>\n",
       "                        <td id=\"T_b73cbed8_c7a2_11ea_adb7_a820662273d6row27_col1\" class=\"data row27 col1\" >540.00</td>\n",
       "                        <td id=\"T_b73cbed8_c7a2_11ea_adb7_a820662273d6row27_col2\" class=\"data row27 col2\" >62.00</td>\n",
       "                        <td id=\"T_b73cbed8_c7a2_11ea_adb7_a820662273d6row27_col3\" class=\"data row27 col3\" >2.00</td>\n",
       "                        <td id=\"T_b73cbed8_c7a2_11ea_adb7_a820662273d6row27_col4\" class=\"data row27 col4\" >47229</td>\n",
       "                        <td id=\"T_b73cbed8_c7a2_11ea_adb7_a820662273d6row27_col5\" class=\"data row27 col5\" >Duisburg</td>\n",
       "                        <td id=\"T_b73cbed8_c7a2_11ea_adb7_a820662273d6row27_col6\" class=\"data row27 col6\" ><a target=\"_blank\" href=\"https://www.immobilienscout24.de/expose/120632604\">https://www.immobilienscout24.de/expose/120632604</a></td>\n",
       "            </tr>\n",
       "    </tbody></table>"
      ],
      "text/plain": [
       "<pandas.io.formats.style.Styler at 0x128cd6460>"
      ]
     },
     "execution_count": 19,
     "metadata": {},
     "output_type": "execute_result"
    },
    {
     "data": {
      "application/javascript": [
       "\n",
       "            setTimeout(function() {\n",
       "                var nbb_cell_id = 19;\n",
       "                var nbb_unformatted_code = \"rent_filt = rent_df[regiontype].isin(regions)\\ndf_show = rent_df[rent_filt].sort_values(\\\"rent_m2\\\")\\n\\ndf_show.style.format({\\\"link\\\": dproc.make_clickable})\";\n",
       "                var nbb_formatted_code = \"rent_filt = rent_df[regiontype].isin(regions)\\ndf_show = rent_df[rent_filt].sort_values(\\\"rent_m2\\\")\\n\\ndf_show.style.format({\\\"link\\\": dproc.make_clickable})\";\n",
       "                var nbb_cells = Jupyter.notebook.get_cells();\n",
       "                for (var i = 0; i < nbb_cells.length; ++i) {\n",
       "                    if (nbb_cells[i].input_prompt_number == nbb_cell_id) {\n",
       "                        if (nbb_cells[i].get_text() == nbb_unformatted_code) {\n",
       "                             nbb_cells[i].set_text(nbb_formatted_code);\n",
       "                        }\n",
       "                        break;\n",
       "                    }\n",
       "                }\n",
       "            }, 500);\n",
       "            "
      ],
      "text/plain": [
       "<IPython.core.display.Javascript object>"
      ]
     },
     "metadata": {},
     "output_type": "display_data"
    }
   ],
   "source": [
    "rent_filt = rent_df[regiontype].isin(regions)\n",
    "df_show = rent_df[rent_filt].sort_values(\"rent_m2\")\n",
    "\n",
    "df_show.style.format({\"link\": dproc.make_clickable})"
   ]
  },
  {
   "cell_type": "markdown",
   "metadata": {},
   "source": [
    "### 4.4) Apartments for sale"
   ]
  },
  {
   "cell_type": "code",
   "execution_count": 20,
   "metadata": {},
   "outputs": [
    {
     "data": {
      "text/html": [
       "<style  type=\"text/css\" >\n",
       "</style><table id=\"T_b743def2_c7a2_11ea_adb7_a820662273d6\" ><thead>    <tr>        <th class=\"blank level0\" ></th>        <th class=\"col_heading level0 col0\" >yearly_roi</th>        <th class=\"col_heading level0 col1\" >price_m2</th>        <th class=\"col_heading level0 col2\" >purchasePrice</th>        <th class=\"col_heading level0 col3\" >livingSpace</th>        <th class=\"col_heading level0 col4\" >noRooms</th>        <th class=\"col_heading level0 col5\" >zipCode</th>        <th class=\"col_heading level0 col6\" >rent_m2_zC</th>        <th class=\"col_heading level0 col7\" >regio2</th>        <th class=\"col_heading level0 col8\" >link</th>    </tr></thead><tbody>\n",
       "                <tr>\n",
       "                        <th id=\"T_b743def2_c7a2_11ea_adb7_a820662273d6level0_row0\" class=\"row_heading level0 row0\" >21883</th>\n",
       "                        <td id=\"T_b743def2_c7a2_11ea_adb7_a820662273d6row0_col0\" class=\"data row0 col0\" >0.17</td>\n",
       "                        <td id=\"T_b743def2_c7a2_11ea_adb7_a820662273d6row0_col1\" class=\"data row0 col1\" >461.76</td>\n",
       "                        <td id=\"T_b743def2_c7a2_11ea_adb7_a820662273d6row0_col2\" class=\"data row0 col2\" >15700.00</td>\n",
       "                        <td id=\"T_b743def2_c7a2_11ea_adb7_a820662273d6row0_col3\" class=\"data row0 col3\" >34.00</td>\n",
       "                        <td id=\"T_b743def2_c7a2_11ea_adb7_a820662273d6row0_col4\" class=\"data row0 col4\" >1.00</td>\n",
       "                        <td id=\"T_b743def2_c7a2_11ea_adb7_a820662273d6row0_col5\" class=\"data row0 col5\" >47229</td>\n",
       "                        <td id=\"T_b743def2_c7a2_11ea_adb7_a820662273d6row0_col6\" class=\"data row0 col6\" >6.61</td>\n",
       "                        <td id=\"T_b743def2_c7a2_11ea_adb7_a820662273d6row0_col7\" class=\"data row0 col7\" >Duisburg</td>\n",
       "                        <td id=\"T_b743def2_c7a2_11ea_adb7_a820662273d6row0_col8\" class=\"data row0 col8\" ><a target=\"_blank\" href=\"https://www.immobilienscout24.de/expose/120678613\">https://www.immobilienscout24.de/expose/120678613</a></td>\n",
       "            </tr>\n",
       "            <tr>\n",
       "                        <th id=\"T_b743def2_c7a2_11ea_adb7_a820662273d6level0_row1\" class=\"row_heading level0 row1\" >21873</th>\n",
       "                        <td id=\"T_b743def2_c7a2_11ea_adb7_a820662273d6row1_col0\" class=\"data row1 col0\" >0.17</td>\n",
       "                        <td id=\"T_b743def2_c7a2_11ea_adb7_a820662273d6row1_col1\" class=\"data row1 col1\" >480.00</td>\n",
       "                        <td id=\"T_b743def2_c7a2_11ea_adb7_a820662273d6row1_col2\" class=\"data row1 col2\" >19200.00</td>\n",
       "                        <td id=\"T_b743def2_c7a2_11ea_adb7_a820662273d6row1_col3\" class=\"data row1 col3\" >40.00</td>\n",
       "                        <td id=\"T_b743def2_c7a2_11ea_adb7_a820662273d6row1_col4\" class=\"data row1 col4\" >2.00</td>\n",
       "                        <td id=\"T_b743def2_c7a2_11ea_adb7_a820662273d6row1_col5\" class=\"data row1 col5\" >47229</td>\n",
       "                        <td id=\"T_b743def2_c7a2_11ea_adb7_a820662273d6row1_col6\" class=\"data row1 col6\" >6.61</td>\n",
       "                        <td id=\"T_b743def2_c7a2_11ea_adb7_a820662273d6row1_col7\" class=\"data row1 col7\" >Duisburg</td>\n",
       "                        <td id=\"T_b743def2_c7a2_11ea_adb7_a820662273d6row1_col8\" class=\"data row1 col8\" ><a target=\"_blank\" href=\"https://www.immobilienscout24.de/expose/120678612\">https://www.immobilienscout24.de/expose/120678612</a></td>\n",
       "            </tr>\n",
       "            <tr>\n",
       "                        <th id=\"T_b743def2_c7a2_11ea_adb7_a820662273d6level0_row2\" class=\"row_heading level0 row2\" >3293</th>\n",
       "                        <td id=\"T_b743def2_c7a2_11ea_adb7_a820662273d6row2_col0\" class=\"data row2 col0\" >0.15</td>\n",
       "                        <td id=\"T_b743def2_c7a2_11ea_adb7_a820662273d6row2_col1\" class=\"data row2 col1\" >540.32</td>\n",
       "                        <td id=\"T_b743def2_c7a2_11ea_adb7_a820662273d6row2_col2\" class=\"data row2 col2\" >33500.00</td>\n",
       "                        <td id=\"T_b743def2_c7a2_11ea_adb7_a820662273d6row2_col3\" class=\"data row2 col3\" >62.00</td>\n",
       "                        <td id=\"T_b743def2_c7a2_11ea_adb7_a820662273d6row2_col4\" class=\"data row2 col4\" >3.00</td>\n",
       "                        <td id=\"T_b743def2_c7a2_11ea_adb7_a820662273d6row2_col5\" class=\"data row2 col5\" >47229</td>\n",
       "                        <td id=\"T_b743def2_c7a2_11ea_adb7_a820662273d6row2_col6\" class=\"data row2 col6\" >6.61</td>\n",
       "                        <td id=\"T_b743def2_c7a2_11ea_adb7_a820662273d6row2_col7\" class=\"data row2 col7\" >Duisburg</td>\n",
       "                        <td id=\"T_b743def2_c7a2_11ea_adb7_a820662273d6row2_col8\" class=\"data row2 col8\" ><a target=\"_blank\" href=\"https://www.immobilienscout24.de/expose/114795926\">https://www.immobilienscout24.de/expose/114795926</a></td>\n",
       "            </tr>\n",
       "            <tr>\n",
       "                        <th id=\"T_b743def2_c7a2_11ea_adb7_a820662273d6level0_row3\" class=\"row_heading level0 row3\" >21900</th>\n",
       "                        <td id=\"T_b743def2_c7a2_11ea_adb7_a820662273d6row3_col0\" class=\"data row3 col0\" >0.15</td>\n",
       "                        <td id=\"T_b743def2_c7a2_11ea_adb7_a820662273d6row3_col1\" class=\"data row3 col1\" >540.32</td>\n",
       "                        <td id=\"T_b743def2_c7a2_11ea_adb7_a820662273d6row3_col2\" class=\"data row3 col2\" >33500.00</td>\n",
       "                        <td id=\"T_b743def2_c7a2_11ea_adb7_a820662273d6row3_col3\" class=\"data row3 col3\" >62.00</td>\n",
       "                        <td id=\"T_b743def2_c7a2_11ea_adb7_a820662273d6row3_col4\" class=\"data row3 col4\" >3.00</td>\n",
       "                        <td id=\"T_b743def2_c7a2_11ea_adb7_a820662273d6row3_col5\" class=\"data row3 col5\" >47229</td>\n",
       "                        <td id=\"T_b743def2_c7a2_11ea_adb7_a820662273d6row3_col6\" class=\"data row3 col6\" >6.61</td>\n",
       "                        <td id=\"T_b743def2_c7a2_11ea_adb7_a820662273d6row3_col7\" class=\"data row3 col7\" >Duisburg</td>\n",
       "                        <td id=\"T_b743def2_c7a2_11ea_adb7_a820662273d6row3_col8\" class=\"data row3 col8\" ><a target=\"_blank\" href=\"https://www.immobilienscout24.de/expose/120678563\">https://www.immobilienscout24.de/expose/120678563</a></td>\n",
       "            </tr>\n",
       "            <tr>\n",
       "                        <th id=\"T_b743def2_c7a2_11ea_adb7_a820662273d6level0_row4\" class=\"row_heading level0 row4\" >21878</th>\n",
       "                        <td id=\"T_b743def2_c7a2_11ea_adb7_a820662273d6row4_col0\" class=\"data row4 col0\" >0.14</td>\n",
       "                        <td id=\"T_b743def2_c7a2_11ea_adb7_a820662273d6row4_col1\" class=\"data row4 col1\" >564.18</td>\n",
       "                        <td id=\"T_b743def2_c7a2_11ea_adb7_a820662273d6row4_col2\" class=\"data row4 col2\" >37800.00</td>\n",
       "                        <td id=\"T_b743def2_c7a2_11ea_adb7_a820662273d6row4_col3\" class=\"data row4 col3\" >67.00</td>\n",
       "                        <td id=\"T_b743def2_c7a2_11ea_adb7_a820662273d6row4_col4\" class=\"data row4 col4\" >2.00</td>\n",
       "                        <td id=\"T_b743def2_c7a2_11ea_adb7_a820662273d6row4_col5\" class=\"data row4 col5\" >47229</td>\n",
       "                        <td id=\"T_b743def2_c7a2_11ea_adb7_a820662273d6row4_col6\" class=\"data row4 col6\" >6.61</td>\n",
       "                        <td id=\"T_b743def2_c7a2_11ea_adb7_a820662273d6row4_col7\" class=\"data row4 col7\" >Duisburg</td>\n",
       "                        <td id=\"T_b743def2_c7a2_11ea_adb7_a820662273d6row4_col8\" class=\"data row4 col8\" ><a target=\"_blank\" href=\"https://www.immobilienscout24.de/expose/120678610\">https://www.immobilienscout24.de/expose/120678610</a></td>\n",
       "            </tr>\n",
       "            <tr>\n",
       "                        <th id=\"T_b743def2_c7a2_11ea_adb7_a820662273d6level0_row5\" class=\"row_heading level0 row5\" >21887</th>\n",
       "                        <td id=\"T_b743def2_c7a2_11ea_adb7_a820662273d6row5_col0\" class=\"data row5 col0\" >0.14</td>\n",
       "                        <td id=\"T_b743def2_c7a2_11ea_adb7_a820662273d6row5_col1\" class=\"data row5 col1\" >576.92</td>\n",
       "                        <td id=\"T_b743def2_c7a2_11ea_adb7_a820662273d6row5_col2\" class=\"data row5 col2\" >45000.00</td>\n",
       "                        <td id=\"T_b743def2_c7a2_11ea_adb7_a820662273d6row5_col3\" class=\"data row5 col3\" >78.00</td>\n",
       "                        <td id=\"T_b743def2_c7a2_11ea_adb7_a820662273d6row5_col4\" class=\"data row5 col4\" >3.00</td>\n",
       "                        <td id=\"T_b743def2_c7a2_11ea_adb7_a820662273d6row5_col5\" class=\"data row5 col5\" >47229</td>\n",
       "                        <td id=\"T_b743def2_c7a2_11ea_adb7_a820662273d6row5_col6\" class=\"data row5 col6\" >6.61</td>\n",
       "                        <td id=\"T_b743def2_c7a2_11ea_adb7_a820662273d6row5_col7\" class=\"data row5 col7\" >Duisburg</td>\n",
       "                        <td id=\"T_b743def2_c7a2_11ea_adb7_a820662273d6row5_col8\" class=\"data row5 col8\" ><a target=\"_blank\" href=\"https://www.immobilienscout24.de/expose/120678609\">https://www.immobilienscout24.de/expose/120678609</a></td>\n",
       "            </tr>\n",
       "            <tr>\n",
       "                        <th id=\"T_b743def2_c7a2_11ea_adb7_a820662273d6level0_row6\" class=\"row_heading level0 row6\" >6646</th>\n",
       "                        <td id=\"T_b743def2_c7a2_11ea_adb7_a820662273d6row6_col0\" class=\"data row6 col0\" >0.12</td>\n",
       "                        <td id=\"T_b743def2_c7a2_11ea_adb7_a820662273d6row6_col1\" class=\"data row6 col1\" >678.95</td>\n",
       "                        <td id=\"T_b743def2_c7a2_11ea_adb7_a820662273d6row6_col2\" class=\"data row6 col2\" >1290000.00</td>\n",
       "                        <td id=\"T_b743def2_c7a2_11ea_adb7_a820662273d6row6_col3\" class=\"data row6 col3\" >1900.00</td>\n",
       "                        <td id=\"T_b743def2_c7a2_11ea_adb7_a820662273d6row6_col4\" class=\"data row6 col4\" >8.00</td>\n",
       "                        <td id=\"T_b743def2_c7a2_11ea_adb7_a820662273d6row6_col5\" class=\"data row6 col5\" >47229</td>\n",
       "                        <td id=\"T_b743def2_c7a2_11ea_adb7_a820662273d6row6_col6\" class=\"data row6 col6\" >6.61</td>\n",
       "                        <td id=\"T_b743def2_c7a2_11ea_adb7_a820662273d6row6_col7\" class=\"data row6 col7\" >Duisburg</td>\n",
       "                        <td id=\"T_b743def2_c7a2_11ea_adb7_a820662273d6row6_col8\" class=\"data row6 col8\" ><a target=\"_blank\" href=\"https://www.immobilienscout24.de/expose/115312215\">https://www.immobilienscout24.de/expose/115312215</a></td>\n",
       "            </tr>\n",
       "            <tr>\n",
       "                        <th id=\"T_b743def2_c7a2_11ea_adb7_a820662273d6level0_row7\" class=\"row_heading level0 row7\" >6275</th>\n",
       "                        <td id=\"T_b743def2_c7a2_11ea_adb7_a820662273d6row7_col0\" class=\"data row7 col0\" >0.07</td>\n",
       "                        <td id=\"T_b743def2_c7a2_11ea_adb7_a820662273d6row7_col1\" class=\"data row7 col1\" >1078.31</td>\n",
       "                        <td id=\"T_b743def2_c7a2_11ea_adb7_a820662273d6row7_col2\" class=\"data row7 col2\" >89500.00</td>\n",
       "                        <td id=\"T_b743def2_c7a2_11ea_adb7_a820662273d6row7_col3\" class=\"data row7 col3\" >83.00</td>\n",
       "                        <td id=\"T_b743def2_c7a2_11ea_adb7_a820662273d6row7_col4\" class=\"data row7 col4\" >3.00</td>\n",
       "                        <td id=\"T_b743def2_c7a2_11ea_adb7_a820662273d6row7_col5\" class=\"data row7 col5\" >47229</td>\n",
       "                        <td id=\"T_b743def2_c7a2_11ea_adb7_a820662273d6row7_col6\" class=\"data row7 col6\" >6.61</td>\n",
       "                        <td id=\"T_b743def2_c7a2_11ea_adb7_a820662273d6row7_col7\" class=\"data row7 col7\" >Duisburg</td>\n",
       "                        <td id=\"T_b743def2_c7a2_11ea_adb7_a820662273d6row7_col8\" class=\"data row7 col8\" ><a target=\"_blank\" href=\"https://www.immobilienscout24.de/expose/102054871\">https://www.immobilienscout24.de/expose/102054871</a></td>\n",
       "            </tr>\n",
       "            <tr>\n",
       "                        <th id=\"T_b743def2_c7a2_11ea_adb7_a820662273d6level0_row8\" class=\"row_heading level0 row8\" >23190</th>\n",
       "                        <td id=\"T_b743def2_c7a2_11ea_adb7_a820662273d6row8_col0\" class=\"data row8 col0\" >0.05</td>\n",
       "                        <td id=\"T_b743def2_c7a2_11ea_adb7_a820662273d6row8_col1\" class=\"data row8 col1\" >1444.44</td>\n",
       "                        <td id=\"T_b743def2_c7a2_11ea_adb7_a820662273d6row8_col2\" class=\"data row8 col2\" >65000.00</td>\n",
       "                        <td id=\"T_b743def2_c7a2_11ea_adb7_a820662273d6row8_col3\" class=\"data row8 col3\" >45.00</td>\n",
       "                        <td id=\"T_b743def2_c7a2_11ea_adb7_a820662273d6row8_col4\" class=\"data row8 col4\" >2.00</td>\n",
       "                        <td id=\"T_b743def2_c7a2_11ea_adb7_a820662273d6row8_col5\" class=\"data row8 col5\" >47229</td>\n",
       "                        <td id=\"T_b743def2_c7a2_11ea_adb7_a820662273d6row8_col6\" class=\"data row8 col6\" >6.61</td>\n",
       "                        <td id=\"T_b743def2_c7a2_11ea_adb7_a820662273d6row8_col7\" class=\"data row8 col7\" >Duisburg</td>\n",
       "                        <td id=\"T_b743def2_c7a2_11ea_adb7_a820662273d6row8_col8\" class=\"data row8 col8\" ><a target=\"_blank\" href=\"https://www.immobilienscout24.de/expose/120485244\">https://www.immobilienscout24.de/expose/120485244</a></td>\n",
       "            </tr>\n",
       "            <tr>\n",
       "                        <th id=\"T_b743def2_c7a2_11ea_adb7_a820662273d6level0_row9\" class=\"row_heading level0 row9\" >7005</th>\n",
       "                        <td id=\"T_b743def2_c7a2_11ea_adb7_a820662273d6row9_col0\" class=\"data row9 col0\" >0.02</td>\n",
       "                        <td id=\"T_b743def2_c7a2_11ea_adb7_a820662273d6row9_col1\" class=\"data row9 col1\" >3247.50</td>\n",
       "                        <td id=\"T_b743def2_c7a2_11ea_adb7_a820662273d6row9_col2\" class=\"data row9 col2\" >1299000.00</td>\n",
       "                        <td id=\"T_b743def2_c7a2_11ea_adb7_a820662273d6row9_col3\" class=\"data row9 col3\" >400.00</td>\n",
       "                        <td id=\"T_b743def2_c7a2_11ea_adb7_a820662273d6row9_col4\" class=\"data row9 col4\" >8.00</td>\n",
       "                        <td id=\"T_b743def2_c7a2_11ea_adb7_a820662273d6row9_col5\" class=\"data row9 col5\" >47229</td>\n",
       "                        <td id=\"T_b743def2_c7a2_11ea_adb7_a820662273d6row9_col6\" class=\"data row9 col6\" >6.61</td>\n",
       "                        <td id=\"T_b743def2_c7a2_11ea_adb7_a820662273d6row9_col7\" class=\"data row9 col7\" >Duisburg</td>\n",
       "                        <td id=\"T_b743def2_c7a2_11ea_adb7_a820662273d6row9_col8\" class=\"data row9 col8\" ><a target=\"_blank\" href=\"https://www.immobilienscout24.de/expose/120198673\">https://www.immobilienscout24.de/expose/120198673</a></td>\n",
       "            </tr>\n",
       "    </tbody></table>"
      ],
      "text/plain": [
       "<pandas.io.formats.style.Styler at 0x131d2c700>"
      ]
     },
     "execution_count": 20,
     "metadata": {},
     "output_type": "execute_result"
    },
    {
     "data": {
      "application/javascript": [
       "\n",
       "            setTimeout(function() {\n",
       "                var nbb_cell_id = 20;\n",
       "                var nbb_unformatted_code = \"sale_filt = sale_df[regiontype].isin(regions)\\ndf_show = sale_df[sale_filt].sort_values(\\\"yearly_roi\\\", ascending=False)\\n\\ndf_show.style.format({\\\"link\\\": dproc.make_clickable})\";\n",
       "                var nbb_formatted_code = \"sale_filt = sale_df[regiontype].isin(regions)\\ndf_show = sale_df[sale_filt].sort_values(\\\"yearly_roi\\\", ascending=False)\\n\\ndf_show.style.format({\\\"link\\\": dproc.make_clickable})\";\n",
       "                var nbb_cells = Jupyter.notebook.get_cells();\n",
       "                for (var i = 0; i < nbb_cells.length; ++i) {\n",
       "                    if (nbb_cells[i].input_prompt_number == nbb_cell_id) {\n",
       "                        if (nbb_cells[i].get_text() == nbb_unformatted_code) {\n",
       "                             nbb_cells[i].set_text(nbb_formatted_code);\n",
       "                        }\n",
       "                        break;\n",
       "                    }\n",
       "                }\n",
       "            }, 500);\n",
       "            "
      ],
      "text/plain": [
       "<IPython.core.display.Javascript object>"
      ]
     },
     "metadata": {},
     "output_type": "display_data"
    }
   ],
   "source": [
    "sale_filt = sale_df[regiontype].isin(regions)\n",
    "df_show = sale_df[sale_filt].sort_values(\"yearly_roi\", ascending=False)\n",
    "\n",
    "df_show.style.format({\"link\": dproc.make_clickable})"
   ]
  }
 ],
 "metadata": {
  "file_extension": ".py",
  "kernelspec": {
   "display_name": "Python 3",
   "language": "python",
   "name": "python3"
  },
  "language_info": {
   "codemirror_mode": {
    "name": "ipython",
    "version": 3
   },
   "file_extension": ".py",
   "mimetype": "text/x-python",
   "name": "python",
   "nbconvert_exporter": "python",
   "pygments_lexer": "ipython3",
   "version": "3.8.2"
  },
  "mimetype": "text/x-python",
  "name": "python",
  "npconvert_exporter": "python",
  "pygments_lexer": "ipython3",
  "version": 3
 },
 "nbformat": 4,
 "nbformat_minor": 2
}
