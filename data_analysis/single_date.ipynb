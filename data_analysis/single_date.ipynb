{
 "cells": [
  {
   "cell_type": "markdown",
   "metadata": {},
   "source": [
    "# <center>Comparison of rent and sale prices</center>"
   ]
  },
  {
   "cell_type": "markdown",
   "metadata": {},
   "source": [
    "## 0) Imports"
   ]
  },
  {
   "cell_type": "code",
   "execution_count": 1,
   "metadata": {},
   "outputs": [
    {
     "data": {
      "application/javascript": [
       "\n",
       "            setTimeout(function() {\n",
       "                var nbb_cell_id = 1;\n",
       "                var nbb_unformatted_code = \"import numpy as np\\nfrom matplotlib import pyplot as plt\\nimport pandas as pd\\nfrom sklearn.cluster import KMeans\\nimport glob\\n\\n%load_ext nb_black\\n%matplotlib inline\\n\\nplt.rcParams[\\\"figure.figsize\\\"] = (15, 10)\\npd.set_option(\\\"display.precision\\\", 2)\";\n",
       "                var nbb_formatted_code = \"import numpy as np\\nfrom matplotlib import pyplot as plt\\nimport pandas as pd\\nfrom sklearn.cluster import KMeans\\nimport glob\\n\\n%load_ext nb_black\\n%matplotlib inline\\n\\nplt.rcParams[\\\"figure.figsize\\\"] = (15, 10)\\npd.set_option(\\\"display.precision\\\", 2)\";\n",
       "                var nbb_cells = Jupyter.notebook.get_cells();\n",
       "                for (var i = 0; i < nbb_cells.length; ++i) {\n",
       "                    if (nbb_cells[i].input_prompt_number == nbb_cell_id) {\n",
       "                        if (nbb_cells[i].get_text() == nbb_unformatted_code) {\n",
       "                             nbb_cells[i].set_text(nbb_formatted_code);\n",
       "                        }\n",
       "                        break;\n",
       "                    }\n",
       "                }\n",
       "            }, 500);\n",
       "            "
      ],
      "text/plain": [
       "<IPython.core.display.Javascript object>"
      ]
     },
     "metadata": {},
     "output_type": "display_data"
    }
   ],
   "source": [
    "import numpy as np\n",
    "from matplotlib import pyplot as plt\n",
    "import pandas as pd\n",
    "from sklearn.cluster import KMeans\n",
    "import glob\n",
    "\n",
    "%load_ext nb_black\n",
    "%matplotlib inline\n",
    "\n",
    "plt.rcParams[\"figure.figsize\"] = (15, 10)\n",
    "pd.set_option(\"display.precision\", 2)"
   ]
  },
  {
   "cell_type": "markdown",
   "metadata": {},
   "source": [
    "## 1) Data Engineering"
   ]
  },
  {
   "cell_type": "markdown",
   "metadata": {},
   "source": [
    "### 1.0) Data cleaning"
   ]
  },
  {
   "cell_type": "markdown",
   "metadata": {},
   "source": [
    "#### load data:"
   ]
  },
  {
   "cell_type": "code",
   "execution_count": 2,
   "metadata": {},
   "outputs": [
    {
     "data": {
      "application/javascript": [
       "\n",
       "            setTimeout(function() {\n",
       "                var nbb_cell_id = 2;\n",
       "                var nbb_unformatted_code = \"rent_filepath = sorted(glob.glob(\\\"../data/mieten*\\\"))[-1]\\nsale_filepath = sorted(glob.glob(\\\"../data/kaufen*\\\"))[-1]\\nrent_df = pd.read_csv(rent_filepath, sep=\\\";\\\", low_memory=False)\\nsale_df = pd.read_csv(sale_filepath, sep=\\\";\\\", low_memory=False)\";\n",
       "                var nbb_formatted_code = \"rent_filepath = sorted(glob.glob(\\\"../data/mieten*\\\"))[-1]\\nsale_filepath = sorted(glob.glob(\\\"../data/kaufen*\\\"))[-1]\\nrent_df = pd.read_csv(rent_filepath, sep=\\\";\\\", low_memory=False)\\nsale_df = pd.read_csv(sale_filepath, sep=\\\";\\\", low_memory=False)\";\n",
       "                var nbb_cells = Jupyter.notebook.get_cells();\n",
       "                for (var i = 0; i < nbb_cells.length; ++i) {\n",
       "                    if (nbb_cells[i].input_prompt_number == nbb_cell_id) {\n",
       "                        if (nbb_cells[i].get_text() == nbb_unformatted_code) {\n",
       "                             nbb_cells[i].set_text(nbb_formatted_code);\n",
       "                        }\n",
       "                        break;\n",
       "                    }\n",
       "                }\n",
       "            }, 500);\n",
       "            "
      ],
      "text/plain": [
       "<IPython.core.display.Javascript object>"
      ]
     },
     "metadata": {},
     "output_type": "display_data"
    }
   ],
   "source": [
    "rent_filepath = sorted(glob.glob(\"../data/mieten*\"))[-1]\n",
    "sale_filepath = sorted(glob.glob(\"../data/kaufen*\"))[-1]\n",
    "rent_df = pd.read_csv(rent_filepath, sep=\";\", low_memory=False)\n",
    "sale_df = pd.read_csv(sale_filepath, sep=\";\", low_memory=False)"
   ]
  },
  {
   "cell_type": "markdown",
   "metadata": {},
   "source": [
    "#### remove unnecessary prefixes:"
   ]
  },
  {
   "cell_type": "code",
   "execution_count": 3,
   "metadata": {},
   "outputs": [
    {
     "data": {
      "application/javascript": [
       "\n",
       "            setTimeout(function() {\n",
       "                var nbb_cell_id = 3;\n",
       "                var nbb_unformatted_code = \"rent_df.columns = [\\n    x.replace(\\\"obj_\\\", \\\"\\\").replace(\\\"ga_\\\", \\\"\\\").replace(\\\"geo_\\\", \\\"\\\")\\n    for x in rent_df.columns\\n]\\nsale_df.columns = [\\n    x.replace(\\\"obj_\\\", \\\"\\\").replace(\\\"ga_\\\", \\\"\\\").replace(\\\"geo_\\\", \\\"\\\")\\n    for x in sale_df.columns\\n]\";\n",
       "                var nbb_formatted_code = \"rent_df.columns = [\\n    x.replace(\\\"obj_\\\", \\\"\\\").replace(\\\"ga_\\\", \\\"\\\").replace(\\\"geo_\\\", \\\"\\\")\\n    for x in rent_df.columns\\n]\\nsale_df.columns = [\\n    x.replace(\\\"obj_\\\", \\\"\\\").replace(\\\"ga_\\\", \\\"\\\").replace(\\\"geo_\\\", \\\"\\\")\\n    for x in sale_df.columns\\n]\";\n",
       "                var nbb_cells = Jupyter.notebook.get_cells();\n",
       "                for (var i = 0; i < nbb_cells.length; ++i) {\n",
       "                    if (nbb_cells[i].input_prompt_number == nbb_cell_id) {\n",
       "                        if (nbb_cells[i].get_text() == nbb_unformatted_code) {\n",
       "                             nbb_cells[i].set_text(nbb_formatted_code);\n",
       "                        }\n",
       "                        break;\n",
       "                    }\n",
       "                }\n",
       "            }, 500);\n",
       "            "
      ],
      "text/plain": [
       "<IPython.core.display.Javascript object>"
      ]
     },
     "metadata": {},
     "output_type": "display_data"
    }
   ],
   "source": [
    "rent_df.columns = [\n",
    "    x.replace(\"obj_\", \"\").replace(\"ga_\", \"\").replace(\"geo_\", \"\")\n",
    "    for x in rent_df.columns\n",
    "]\n",
    "sale_df.columns = [\n",
    "    x.replace(\"obj_\", \"\").replace(\"ga_\", \"\").replace(\"geo_\", \"\")\n",
    "    for x in sale_df.columns\n",
    "]"
   ]
  },
  {
   "cell_type": "markdown",
   "metadata": {},
   "source": [
    "#### remove duplicates:"
   ]
  },
  {
   "cell_type": "code",
   "execution_count": 4,
   "metadata": {},
   "outputs": [
    {
     "data": {
      "application/javascript": [
       "\n",
       "            setTimeout(function() {\n",
       "                var nbb_cell_id = 4;\n",
       "                var nbb_unformatted_code = \"rent_df = rent_df.drop_duplicates(subset=\\\"scoutId\\\")\\nsale_df = sale_df.drop_duplicates(subset=\\\"scoutId\\\")\";\n",
       "                var nbb_formatted_code = \"rent_df = rent_df.drop_duplicates(subset=\\\"scoutId\\\")\\nsale_df = sale_df.drop_duplicates(subset=\\\"scoutId\\\")\";\n",
       "                var nbb_cells = Jupyter.notebook.get_cells();\n",
       "                for (var i = 0; i < nbb_cells.length; ++i) {\n",
       "                    if (nbb_cells[i].input_prompt_number == nbb_cell_id) {\n",
       "                        if (nbb_cells[i].get_text() == nbb_unformatted_code) {\n",
       "                             nbb_cells[i].set_text(nbb_formatted_code);\n",
       "                        }\n",
       "                        break;\n",
       "                    }\n",
       "                }\n",
       "            }, 500);\n",
       "            "
      ],
      "text/plain": [
       "<IPython.core.display.Javascript object>"
      ]
     },
     "metadata": {},
     "output_type": "display_data"
    }
   ],
   "source": [
    "rent_df = rent_df.drop_duplicates(subset=\"scoutId\")\n",
    "sale_df = sale_df.drop_duplicates(subset=\"scoutId\")"
   ]
  },
  {
   "cell_type": "markdown",
   "metadata": {},
   "source": [
    "#### remove columns with missing values:"
   ]
  },
  {
   "cell_type": "code",
   "execution_count": 5,
   "metadata": {},
   "outputs": [
    {
     "data": {
      "application/javascript": [
       "\n",
       "            setTimeout(function() {\n",
       "                var nbb_cell_id = 5;\n",
       "                var nbb_unformatted_code = \"rent_df = rent_df[rent_df.columns[~rent_df.isnull().any()]]\\nsale_df = sale_df[sale_df.columns[~sale_df.isnull().any()]]\";\n",
       "                var nbb_formatted_code = \"rent_df = rent_df[rent_df.columns[~rent_df.isnull().any()]]\\nsale_df = sale_df[sale_df.columns[~sale_df.isnull().any()]]\";\n",
       "                var nbb_cells = Jupyter.notebook.get_cells();\n",
       "                for (var i = 0; i < nbb_cells.length; ++i) {\n",
       "                    if (nbb_cells[i].input_prompt_number == nbb_cell_id) {\n",
       "                        if (nbb_cells[i].get_text() == nbb_unformatted_code) {\n",
       "                             nbb_cells[i].set_text(nbb_formatted_code);\n",
       "                        }\n",
       "                        break;\n",
       "                    }\n",
       "                }\n",
       "            }, 500);\n",
       "            "
      ],
      "text/plain": [
       "<IPython.core.display.Javascript object>"
      ]
     },
     "metadata": {},
     "output_type": "display_data"
    }
   ],
   "source": [
    "rent_df = rent_df[rent_df.columns[~rent_df.isnull().any()]]\n",
    "sale_df = sale_df[sale_df.columns[~sale_df.isnull().any()]]"
   ]
  },
  {
   "cell_type": "markdown",
   "metadata": {},
   "source": [
    "### 1.1) Feature engineering"
   ]
  },
  {
   "cell_type": "markdown",
   "metadata": {},
   "source": [
    "#### add links:"
   ]
  },
  {
   "cell_type": "code",
   "execution_count": 6,
   "metadata": {},
   "outputs": [
    {
     "data": {
      "application/javascript": [
       "\n",
       "            setTimeout(function() {\n",
       "                var nbb_cell_id = 6;\n",
       "                var nbb_unformatted_code = \"rent_df[\\\"link\\\"] = \\\"https://www.immobilienscout24.de/expose/\\\" + rent_df[\\n    \\\"scoutId\\\"\\n].astype(str)\\nsale_df[\\\"link\\\"] = \\\"https://www.immobilienscout24.de/expose/\\\" + sale_df[\\n    \\\"scoutId\\\"\\n].astype(str)\";\n",
       "                var nbb_formatted_code = \"rent_df[\\\"link\\\"] = \\\"https://www.immobilienscout24.de/expose/\\\" + rent_df[\\n    \\\"scoutId\\\"\\n].astype(str)\\nsale_df[\\\"link\\\"] = \\\"https://www.immobilienscout24.de/expose/\\\" + sale_df[\\n    \\\"scoutId\\\"\\n].astype(str)\";\n",
       "                var nbb_cells = Jupyter.notebook.get_cells();\n",
       "                for (var i = 0; i < nbb_cells.length; ++i) {\n",
       "                    if (nbb_cells[i].input_prompt_number == nbb_cell_id) {\n",
       "                        if (nbb_cells[i].get_text() == nbb_unformatted_code) {\n",
       "                             nbb_cells[i].set_text(nbb_formatted_code);\n",
       "                        }\n",
       "                        break;\n",
       "                    }\n",
       "                }\n",
       "            }, 500);\n",
       "            "
      ],
      "text/plain": [
       "<IPython.core.display.Javascript object>"
      ]
     },
     "metadata": {},
     "output_type": "display_data"
    }
   ],
   "source": [
    "rent_df[\"link\"] = \"https://www.immobilienscout24.de/expose/\" + rent_df[\n",
    "    \"scoutId\"\n",
    "].astype(str)\n",
    "sale_df[\"link\"] = \"https://www.immobilienscout24.de/expose/\" + sale_df[\n",
    "    \"scoutId\"\n",
    "].astype(str)"
   ]
  },
  {
   "cell_type": "markdown",
   "metadata": {},
   "source": [
    "#### add relative prices:"
   ]
  },
  {
   "cell_type": "code",
   "execution_count": 7,
   "metadata": {
    "scrolled": true
   },
   "outputs": [
    {
     "data": {
      "application/javascript": [
       "\n",
       "            setTimeout(function() {\n",
       "                var nbb_cell_id = 7;\n",
       "                var nbb_unformatted_code = \"rent_df[\\\"rent_m2\\\"] = rent_df[\\\"baseRent\\\"] / rent_df[\\\"livingSpace\\\"]\\nsale_df[\\\"price_m2\\\"] = sale_df[\\\"purchasePrice\\\"] / sale_df[\\\"livingSpace\\\"]\";\n",
       "                var nbb_formatted_code = \"rent_df[\\\"rent_m2\\\"] = rent_df[\\\"baseRent\\\"] / rent_df[\\\"livingSpace\\\"]\\nsale_df[\\\"price_m2\\\"] = sale_df[\\\"purchasePrice\\\"] / sale_df[\\\"livingSpace\\\"]\";\n",
       "                var nbb_cells = Jupyter.notebook.get_cells();\n",
       "                for (var i = 0; i < nbb_cells.length; ++i) {\n",
       "                    if (nbb_cells[i].input_prompt_number == nbb_cell_id) {\n",
       "                        if (nbb_cells[i].get_text() == nbb_unformatted_code) {\n",
       "                             nbb_cells[i].set_text(nbb_formatted_code);\n",
       "                        }\n",
       "                        break;\n",
       "                    }\n",
       "                }\n",
       "            }, 500);\n",
       "            "
      ],
      "text/plain": [
       "<IPython.core.display.Javascript object>"
      ]
     },
     "metadata": {},
     "output_type": "display_data"
    }
   ],
   "source": [
    "rent_df[\"rent_m2\"] = rent_df[\"baseRent\"] / rent_df[\"livingSpace\"]\n",
    "sale_df[\"price_m2\"] = sale_df[\"purchasePrice\"] / sale_df[\"livingSpace\"]"
   ]
  },
  {
   "cell_type": "markdown",
   "metadata": {},
   "source": [
    "#### add return of investment based on median rents for zipCode"
   ]
  },
  {
   "cell_type": "code",
   "execution_count": 8,
   "metadata": {},
   "outputs": [
    {
     "data": {
      "application/javascript": [
       "\n",
       "            setTimeout(function() {\n",
       "                var nbb_cell_id = 8;\n",
       "                var nbb_unformatted_code = \"g = rent_df.groupby(\\\"zipCode\\\")[\\\"rent_m2\\\"].median()\\ng.name = \\\"rent_m2_zipCode\\\"\\nsale_df = sale_df.join(g, on=\\\"zipCode\\\").copy()\\n\\nsale_df[\\\"yearly_ROI\\\"] = sale_df[\\\"rent_m2_zipCode\\\"] * 12 / sale_df[\\\"price_m2\\\"]\";\n",
       "                var nbb_formatted_code = \"g = rent_df.groupby(\\\"zipCode\\\")[\\\"rent_m2\\\"].median()\\ng.name = \\\"rent_m2_zipCode\\\"\\nsale_df = sale_df.join(g, on=\\\"zipCode\\\").copy()\\n\\nsale_df[\\\"yearly_ROI\\\"] = sale_df[\\\"rent_m2_zipCode\\\"] * 12 / sale_df[\\\"price_m2\\\"]\";\n",
       "                var nbb_cells = Jupyter.notebook.get_cells();\n",
       "                for (var i = 0; i < nbb_cells.length; ++i) {\n",
       "                    if (nbb_cells[i].input_prompt_number == nbb_cell_id) {\n",
       "                        if (nbb_cells[i].get_text() == nbb_unformatted_code) {\n",
       "                             nbb_cells[i].set_text(nbb_formatted_code);\n",
       "                        }\n",
       "                        break;\n",
       "                    }\n",
       "                }\n",
       "            }, 500);\n",
       "            "
      ],
      "text/plain": [
       "<IPython.core.display.Javascript object>"
      ]
     },
     "metadata": {},
     "output_type": "display_data"
    }
   ],
   "source": [
    "g = rent_df.groupby(\"zipCode\")[\"rent_m2\"].median()\n",
    "g.name = \"rent_m2_zipCode\"\n",
    "sale_df = sale_df.join(g, on=\"zipCode\").copy()\n",
    "\n",
    "sale_df[\"yearly_ROI\"] = sale_df[\"rent_m2_zipCode\"] * 12 / sale_df[\"price_m2\"]"
   ]
  },
  {
   "cell_type": "markdown",
   "metadata": {},
   "source": [
    "#### add combined dataframe with median rents and prices:"
   ]
  },
  {
   "cell_type": "code",
   "execution_count": 9,
   "metadata": {},
   "outputs": [
    {
     "data": {
      "application/javascript": [
       "\n",
       "            setTimeout(function() {\n",
       "                var nbb_cell_id = 9;\n",
       "                var nbb_unformatted_code = \"group = \\\"zipCode\\\"\\n\\ncombined_df = pd.concat(\\n    [\\n        rent_df.groupby(group)[\\\"rent_m2\\\"].median(),\\n        rent_df.groupby(group)[\\\"rent_m2\\\"].size(),\\n        sale_df.groupby(group)[\\\"price_m2\\\"].median(),\\n        sale_df.groupby(group)[\\\"price_m2\\\"].size(),\\n        sale_df.groupby(group)[\\\"yearly_ROI\\\"].median(),\\n    ],\\n    axis=1,\\n    keys=[\\n        \\\"median_rent_m2\\\",\\n        \\\"num_rent\\\",\\n        \\\"median_price_m2\\\",\\n        \\\"num_sale\\\",\\n        \\\"median_yearly_ROI\\\",\\n    ],\\n).copy()\\n\\ncombined_df = combined_df.replace([np.inf, -np.inf], np.nan)\\ncombined_df = combined_df.dropna()\";\n",
       "                var nbb_formatted_code = \"group = \\\"zipCode\\\"\\n\\ncombined_df = pd.concat(\\n    [\\n        rent_df.groupby(group)[\\\"rent_m2\\\"].median(),\\n        rent_df.groupby(group)[\\\"rent_m2\\\"].size(),\\n        sale_df.groupby(group)[\\\"price_m2\\\"].median(),\\n        sale_df.groupby(group)[\\\"price_m2\\\"].size(),\\n        sale_df.groupby(group)[\\\"yearly_ROI\\\"].median(),\\n    ],\\n    axis=1,\\n    keys=[\\n        \\\"median_rent_m2\\\",\\n        \\\"num_rent\\\",\\n        \\\"median_price_m2\\\",\\n        \\\"num_sale\\\",\\n        \\\"median_yearly_ROI\\\",\\n    ],\\n).copy()\\n\\ncombined_df = combined_df.replace([np.inf, -np.inf], np.nan)\\ncombined_df = combined_df.dropna()\";\n",
       "                var nbb_cells = Jupyter.notebook.get_cells();\n",
       "                for (var i = 0; i < nbb_cells.length; ++i) {\n",
       "                    if (nbb_cells[i].input_prompt_number == nbb_cell_id) {\n",
       "                        if (nbb_cells[i].get_text() == nbb_unformatted_code) {\n",
       "                             nbb_cells[i].set_text(nbb_formatted_code);\n",
       "                        }\n",
       "                        break;\n",
       "                    }\n",
       "                }\n",
       "            }, 500);\n",
       "            "
      ],
      "text/plain": [
       "<IPython.core.display.Javascript object>"
      ]
     },
     "metadata": {},
     "output_type": "display_data"
    }
   ],
   "source": [
    "group = \"zipCode\"\n",
    "\n",
    "combined_df = pd.concat(\n",
    "    [\n",
    "        rent_df.groupby(group)[\"rent_m2\"].median(),\n",
    "        rent_df.groupby(group)[\"rent_m2\"].size(),\n",
    "        sale_df.groupby(group)[\"price_m2\"].median(),\n",
    "        sale_df.groupby(group)[\"price_m2\"].size(),\n",
    "        sale_df.groupby(group)[\"yearly_ROI\"].median(),\n",
    "    ],\n",
    "    axis=1,\n",
    "    keys=[\n",
    "        \"median_rent_m2\",\n",
    "        \"num_rent\",\n",
    "        \"median_price_m2\",\n",
    "        \"num_sale\",\n",
    "        \"median_yearly_ROI\",\n",
    "    ],\n",
    ").copy()\n",
    "\n",
    "combined_df = combined_df.replace([np.inf, -np.inf], np.nan)\n",
    "combined_df = combined_df.dropna()"
   ]
  },
  {
   "cell_type": "markdown",
   "metadata": {},
   "source": [
    "#### select features:"
   ]
  },
  {
   "cell_type": "code",
   "execution_count": 10,
   "metadata": {},
   "outputs": [
    {
     "data": {
      "application/javascript": [
       "\n",
       "            setTimeout(function() {\n",
       "                var nbb_cell_id = 10;\n",
       "                var nbb_unformatted_code = \"rent_select_columns = [\\n    \\\"rent_m2\\\",\\n    \\\"baseRent\\\",\\n    \\\"livingSpace\\\",\\n    \\\"noRooms\\\",\\n    \\\"zipCode\\\",\\n    \\\"regio2\\\",\\n    \\\"link\\\",\\n]\\nrent_select_df = rent_df[rent_select_columns].copy()\\n\\nsale_select_columns = [\\n    \\\"yearly_ROI\\\",\\n    \\\"price_m2\\\",\\n    \\\"purchasePrice\\\",\\n    \\\"livingSpace\\\",\\n    \\\"noRooms\\\",\\n    \\\"zipCode\\\",\\n    \\\"regio2\\\",\\n    \\\"link\\\",\\n]\\nsale_select_df = sale_df[sale_select_columns].copy()\";\n",
       "                var nbb_formatted_code = \"rent_select_columns = [\\n    \\\"rent_m2\\\",\\n    \\\"baseRent\\\",\\n    \\\"livingSpace\\\",\\n    \\\"noRooms\\\",\\n    \\\"zipCode\\\",\\n    \\\"regio2\\\",\\n    \\\"link\\\",\\n]\\nrent_select_df = rent_df[rent_select_columns].copy()\\n\\nsale_select_columns = [\\n    \\\"yearly_ROI\\\",\\n    \\\"price_m2\\\",\\n    \\\"purchasePrice\\\",\\n    \\\"livingSpace\\\",\\n    \\\"noRooms\\\",\\n    \\\"zipCode\\\",\\n    \\\"regio2\\\",\\n    \\\"link\\\",\\n]\\nsale_select_df = sale_df[sale_select_columns].copy()\";\n",
       "                var nbb_cells = Jupyter.notebook.get_cells();\n",
       "                for (var i = 0; i < nbb_cells.length; ++i) {\n",
       "                    if (nbb_cells[i].input_prompt_number == nbb_cell_id) {\n",
       "                        if (nbb_cells[i].get_text() == nbb_unformatted_code) {\n",
       "                             nbb_cells[i].set_text(nbb_formatted_code);\n",
       "                        }\n",
       "                        break;\n",
       "                    }\n",
       "                }\n",
       "            }, 500);\n",
       "            "
      ],
      "text/plain": [
       "<IPython.core.display.Javascript object>"
      ]
     },
     "metadata": {},
     "output_type": "display_data"
    }
   ],
   "source": [
    "rent_select_columns = [\n",
    "    \"rent_m2\",\n",
    "    \"baseRent\",\n",
    "    \"livingSpace\",\n",
    "    \"noRooms\",\n",
    "    \"zipCode\",\n",
    "    \"regio2\",\n",
    "    \"link\",\n",
    "]\n",
    "rent_select_df = rent_df[rent_select_columns].copy()\n",
    "\n",
    "sale_select_columns = [\n",
    "    \"yearly_ROI\",\n",
    "    \"price_m2\",\n",
    "    \"purchasePrice\",\n",
    "    \"livingSpace\",\n",
    "    \"noRooms\",\n",
    "    \"zipCode\",\n",
    "    \"regio2\",\n",
    "    \"link\",\n",
    "]\n",
    "sale_select_df = sale_df[sale_select_columns].copy()"
   ]
  },
  {
   "cell_type": "markdown",
   "metadata": {},
   "source": [
    "## 2) Results"
   ]
  },
  {
   "cell_type": "markdown",
   "metadata": {},
   "source": [
    "### 2.0) Apartments by region"
   ]
  },
  {
   "cell_type": "markdown",
   "metadata": {},
   "source": [
    "#### regions overview:"
   ]
  },
  {
   "cell_type": "code",
   "execution_count": 11,
   "metadata": {},
   "outputs": [
    {
     "data": {
      "text/html": [
       "<div>\n",
       "<style scoped>\n",
       "    .dataframe tbody tr th:only-of-type {\n",
       "        vertical-align: middle;\n",
       "    }\n",
       "\n",
       "    .dataframe tbody tr th {\n",
       "        vertical-align: top;\n",
       "    }\n",
       "\n",
       "    .dataframe thead th {\n",
       "        text-align: right;\n",
       "    }\n",
       "</style>\n",
       "<table border=\"1\" class=\"dataframe\">\n",
       "  <thead>\n",
       "    <tr style=\"text-align: right;\">\n",
       "      <th></th>\n",
       "      <th>median_rent_m2</th>\n",
       "      <th>num_rent</th>\n",
       "      <th>median_price_m2</th>\n",
       "      <th>num_sale</th>\n",
       "      <th>median_yearly_ROI</th>\n",
       "    </tr>\n",
       "    <tr>\n",
       "      <th>zipCode</th>\n",
       "      <th></th>\n",
       "      <th></th>\n",
       "      <th></th>\n",
       "      <th></th>\n",
       "      <th></th>\n",
       "    </tr>\n",
       "  </thead>\n",
       "  <tbody>\n",
       "    <tr>\n",
       "      <th>4639</th>\n",
       "      <td>4.94</td>\n",
       "      <td>12.0</td>\n",
       "      <td>25.37</td>\n",
       "      <td>7.0</td>\n",
       "      <td>2.34</td>\n",
       "    </tr>\n",
       "    <tr>\n",
       "      <th>47169</th>\n",
       "      <td>6.25</td>\n",
       "      <td>63.0</td>\n",
       "      <td>142.25</td>\n",
       "      <td>22.0</td>\n",
       "      <td>0.53</td>\n",
       "    </tr>\n",
       "    <tr>\n",
       "      <th>6231</th>\n",
       "      <td>5.32</td>\n",
       "      <td>101.0</td>\n",
       "      <td>421.70</td>\n",
       "      <td>6.0</td>\n",
       "      <td>0.15</td>\n",
       "    </tr>\n",
       "    <tr>\n",
       "      <th>6369</th>\n",
       "      <td>4.50</td>\n",
       "      <td>10.0</td>\n",
       "      <td>385.59</td>\n",
       "      <td>8.0</td>\n",
       "      <td>0.14</td>\n",
       "    </tr>\n",
       "    <tr>\n",
       "      <th>47229</th>\n",
       "      <td>6.40</td>\n",
       "      <td>24.0</td>\n",
       "      <td>576.92</td>\n",
       "      <td>9.0</td>\n",
       "      <td>0.13</td>\n",
       "    </tr>\n",
       "    <tr>\n",
       "      <th>...</th>\n",
       "      <td>...</td>\n",
       "      <td>...</td>\n",
       "      <td>...</td>\n",
       "      <td>...</td>\n",
       "      <td>...</td>\n",
       "    </tr>\n",
       "    <tr>\n",
       "      <th>27472</th>\n",
       "      <td>6.45</td>\n",
       "      <td>21.0</td>\n",
       "      <td>4320.45</td>\n",
       "      <td>10.0</td>\n",
       "      <td>0.02</td>\n",
       "    </tr>\n",
       "    <tr>\n",
       "      <th>13053</th>\n",
       "      <td>6.25</td>\n",
       "      <td>7.0</td>\n",
       "      <td>4600.00</td>\n",
       "      <td>6.0</td>\n",
       "      <td>0.02</td>\n",
       "    </tr>\n",
       "    <tr>\n",
       "      <th>20148</th>\n",
       "      <td>18.66</td>\n",
       "      <td>16.0</td>\n",
       "      <td>13950.00</td>\n",
       "      <td>9.0</td>\n",
       "      <td>0.02</td>\n",
       "    </tr>\n",
       "    <tr>\n",
       "      <th>83700</th>\n",
       "      <td>16.74</td>\n",
       "      <td>11.0</td>\n",
       "      <td>12895.17</td>\n",
       "      <td>32.0</td>\n",
       "      <td>0.02</td>\n",
       "    </tr>\n",
       "    <tr>\n",
       "      <th>20149</th>\n",
       "      <td>18.00</td>\n",
       "      <td>9.0</td>\n",
       "      <td>13911.75</td>\n",
       "      <td>17.0</td>\n",
       "      <td>0.02</td>\n",
       "    </tr>\n",
       "  </tbody>\n",
       "</table>\n",
       "<p>1621 rows × 5 columns</p>\n",
       "</div>"
      ],
      "text/plain": [
       "         median_rent_m2  num_rent  median_price_m2  num_sale  \\\n",
       "zipCode                                                        \n",
       "4639               4.94      12.0            25.37       7.0   \n",
       "47169              6.25      63.0           142.25      22.0   \n",
       "6231               5.32     101.0           421.70       6.0   \n",
       "6369               4.50      10.0           385.59       8.0   \n",
       "47229              6.40      24.0           576.92       9.0   \n",
       "...                 ...       ...              ...       ...   \n",
       "27472              6.45      21.0          4320.45      10.0   \n",
       "13053              6.25       7.0          4600.00       6.0   \n",
       "20148             18.66      16.0         13950.00       9.0   \n",
       "83700             16.74      11.0         12895.17      32.0   \n",
       "20149             18.00       9.0         13911.75      17.0   \n",
       "\n",
       "         median_yearly_ROI  \n",
       "zipCode                     \n",
       "4639                  2.34  \n",
       "47169                 0.53  \n",
       "6231                  0.15  \n",
       "6369                  0.14  \n",
       "47229                 0.13  \n",
       "...                    ...  \n",
       "27472                 0.02  \n",
       "13053                 0.02  \n",
       "20148                 0.02  \n",
       "83700                 0.02  \n",
       "20149                 0.02  \n",
       "\n",
       "[1621 rows x 5 columns]"
      ]
     },
     "execution_count": 11,
     "metadata": {},
     "output_type": "execute_result"
    },
    {
     "data": {
      "application/javascript": [
       "\n",
       "            setTimeout(function() {\n",
       "                var nbb_cell_id = 11;\n",
       "                var nbb_unformatted_code = \"min_num = 5\\ncombined_filt_ord = \\\"median_yearly_ROI\\\"\\n\\ncombined_filt = (combined_df[\\\"num_rent\\\"] > min_num) & (\\n    combined_df[\\\"num_sale\\\"] > min_num\\n)\\ncombined_df[combined_filt].sort_values(combined_filt_ord, ascending=False)\";\n",
       "                var nbb_formatted_code = \"min_num = 5\\ncombined_filt_ord = \\\"median_yearly_ROI\\\"\\n\\ncombined_filt = (combined_df[\\\"num_rent\\\"] > min_num) & (\\n    combined_df[\\\"num_sale\\\"] > min_num\\n)\\ncombined_df[combined_filt].sort_values(combined_filt_ord, ascending=False)\";\n",
       "                var nbb_cells = Jupyter.notebook.get_cells();\n",
       "                for (var i = 0; i < nbb_cells.length; ++i) {\n",
       "                    if (nbb_cells[i].input_prompt_number == nbb_cell_id) {\n",
       "                        if (nbb_cells[i].get_text() == nbb_unformatted_code) {\n",
       "                             nbb_cells[i].set_text(nbb_formatted_code);\n",
       "                        }\n",
       "                        break;\n",
       "                    }\n",
       "                }\n",
       "            }, 500);\n",
       "            "
      ],
      "text/plain": [
       "<IPython.core.display.Javascript object>"
      ]
     },
     "metadata": {},
     "output_type": "display_data"
    }
   ],
   "source": [
    "min_num = 5\n",
    "combined_filt_ord = \"median_yearly_ROI\"\n",
    "\n",
    "combined_filt = (combined_df[\"num_rent\"] > min_num) & (\n",
    "    combined_df[\"num_sale\"] > min_num\n",
    ")\n",
    "combined_df[combined_filt].sort_values(combined_filt_ord, ascending=False)"
   ]
  },
  {
   "cell_type": "markdown",
   "metadata": {},
   "source": [
    "#### single region:"
   ]
  },
  {
   "cell_type": "code",
   "execution_count": 12,
   "metadata": {},
   "outputs": [
    {
     "data": {
      "text/plain": [
       "median_rent_m2         12.51\n",
       "num_rent               13.00\n",
       "median_price_m2      3212.61\n",
       "num_sale               18.00\n",
       "median_yearly_ROI       0.05\n",
       "Name: 12489, dtype: float64"
      ]
     },
     "execution_count": 12,
     "metadata": {},
     "output_type": "execute_result"
    },
    {
     "data": {
      "application/javascript": [
       "\n",
       "            setTimeout(function() {\n",
       "                var nbb_cell_id = 12;\n",
       "                var nbb_unformatted_code = \"combined_arg = 12489\\ncombined_df.loc[combined_arg]\";\n",
       "                var nbb_formatted_code = \"combined_arg = 12489\\ncombined_df.loc[combined_arg]\";\n",
       "                var nbb_cells = Jupyter.notebook.get_cells();\n",
       "                for (var i = 0; i < nbb_cells.length; ++i) {\n",
       "                    if (nbb_cells[i].input_prompt_number == nbb_cell_id) {\n",
       "                        if (nbb_cells[i].get_text() == nbb_unformatted_code) {\n",
       "                             nbb_cells[i].set_text(nbb_formatted_code);\n",
       "                        }\n",
       "                        break;\n",
       "                    }\n",
       "                }\n",
       "            }, 500);\n",
       "            "
      ],
      "text/plain": [
       "<IPython.core.display.Javascript object>"
      ]
     },
     "metadata": {},
     "output_type": "display_data"
    }
   ],
   "source": [
    "combined_arg = 12489\n",
    "combined_df.loc[combined_arg]"
   ]
  },
  {
   "cell_type": "markdown",
   "metadata": {},
   "source": [
    "### 2.1) Apartments for rent"
   ]
  },
  {
   "cell_type": "code",
   "execution_count": 13,
   "metadata": {},
   "outputs": [
    {
     "data": {
      "text/html": [
       "<div>\n",
       "<style scoped>\n",
       "    .dataframe tbody tr th:only-of-type {\n",
       "        vertical-align: middle;\n",
       "    }\n",
       "\n",
       "    .dataframe tbody tr th {\n",
       "        vertical-align: top;\n",
       "    }\n",
       "\n",
       "    .dataframe thead th {\n",
       "        text-align: right;\n",
       "    }\n",
       "</style>\n",
       "<table border=\"1\" class=\"dataframe\">\n",
       "  <thead>\n",
       "    <tr style=\"text-align: right;\">\n",
       "      <th></th>\n",
       "      <th>rent_m2</th>\n",
       "      <th>baseRent</th>\n",
       "      <th>livingSpace</th>\n",
       "      <th>noRooms</th>\n",
       "      <th>zipCode</th>\n",
       "      <th>regio2</th>\n",
       "      <th>link</th>\n",
       "    </tr>\n",
       "  </thead>\n",
       "  <tbody>\n",
       "    <tr>\n",
       "      <th>14842</th>\n",
       "      <td>7.63</td>\n",
       "      <td>648.95</td>\n",
       "      <td>85.00</td>\n",
       "      <td>3.0</td>\n",
       "      <td>12489</td>\n",
       "      <td>Berlin</td>\n",
       "      <td>https://www.immobilienscout24.de/expose/118535004</td>\n",
       "    </tr>\n",
       "    <tr>\n",
       "      <th>24615</th>\n",
       "      <td>8.02</td>\n",
       "      <td>836.00</td>\n",
       "      <td>104.27</td>\n",
       "      <td>3.0</td>\n",
       "      <td>12489</td>\n",
       "      <td>Berlin</td>\n",
       "      <td>https://www.immobilienscout24.de/expose/72903352</td>\n",
       "    </tr>\n",
       "    <tr>\n",
       "      <th>45998</th>\n",
       "      <td>9.58</td>\n",
       "      <td>602.58</td>\n",
       "      <td>62.90</td>\n",
       "      <td>2.0</td>\n",
       "      <td>12489</td>\n",
       "      <td>Berlin</td>\n",
       "      <td>https://www.immobilienscout24.de/expose/118525653</td>\n",
       "    </tr>\n",
       "    <tr>\n",
       "      <th>95210</th>\n",
       "      <td>10.80</td>\n",
       "      <td>545.94</td>\n",
       "      <td>50.55</td>\n",
       "      <td>1.0</td>\n",
       "      <td>12489</td>\n",
       "      <td>Berlin</td>\n",
       "      <td>https://www.immobilienscout24.de/expose/76766337</td>\n",
       "    </tr>\n",
       "    <tr>\n",
       "      <th>53256</th>\n",
       "      <td>11.76</td>\n",
       "      <td>1800.00</td>\n",
       "      <td>153.00</td>\n",
       "      <td>5.0</td>\n",
       "      <td>12489</td>\n",
       "      <td>Berlin</td>\n",
       "      <td>https://www.immobilienscout24.de/expose/118192255</td>\n",
       "    </tr>\n",
       "    <tr>\n",
       "      <th>14817</th>\n",
       "      <td>12.00</td>\n",
       "      <td>756.00</td>\n",
       "      <td>63.00</td>\n",
       "      <td>2.0</td>\n",
       "      <td>12489</td>\n",
       "      <td>Berlin</td>\n",
       "      <td>https://www.immobilienscout24.de/expose/118536816</td>\n",
       "    </tr>\n",
       "    <tr>\n",
       "      <th>55518</th>\n",
       "      <td>12.51</td>\n",
       "      <td>950.50</td>\n",
       "      <td>76.00</td>\n",
       "      <td>1.0</td>\n",
       "      <td>12489</td>\n",
       "      <td>Berlin</td>\n",
       "      <td>https://www.immobilienscout24.de/expose/118050095</td>\n",
       "    </tr>\n",
       "    <tr>\n",
       "      <th>82185</th>\n",
       "      <td>12.51</td>\n",
       "      <td>825.00</td>\n",
       "      <td>65.96</td>\n",
       "      <td>2.0</td>\n",
       "      <td>12489</td>\n",
       "      <td>Berlin</td>\n",
       "      <td>https://www.immobilienscout24.de/expose/113471229</td>\n",
       "    </tr>\n",
       "    <tr>\n",
       "      <th>84720</th>\n",
       "      <td>13.50</td>\n",
       "      <td>1699.00</td>\n",
       "      <td>125.86</td>\n",
       "      <td>4.0</td>\n",
       "      <td>12489</td>\n",
       "      <td>Berlin</td>\n",
       "      <td>https://www.immobilienscout24.de/expose/111513335</td>\n",
       "    </tr>\n",
       "    <tr>\n",
       "      <th>14790</th>\n",
       "      <td>16.94</td>\n",
       "      <td>1246.78</td>\n",
       "      <td>73.60</td>\n",
       "      <td>2.0</td>\n",
       "      <td>12489</td>\n",
       "      <td>Berlin</td>\n",
       "      <td>https://www.immobilienscout24.de/expose/118542152</td>\n",
       "    </tr>\n",
       "    <tr>\n",
       "      <th>73062</th>\n",
       "      <td>19.00</td>\n",
       "      <td>1278.70</td>\n",
       "      <td>67.30</td>\n",
       "      <td>2.0</td>\n",
       "      <td>12489</td>\n",
       "      <td>Berlin</td>\n",
       "      <td>https://www.immobilienscout24.de/expose/115919073</td>\n",
       "    </tr>\n",
       "    <tr>\n",
       "      <th>76274</th>\n",
       "      <td>19.00</td>\n",
       "      <td>912.00</td>\n",
       "      <td>48.00</td>\n",
       "      <td>2.0</td>\n",
       "      <td>12489</td>\n",
       "      <td>Berlin</td>\n",
       "      <td>https://www.immobilienscout24.de/expose/115400920</td>\n",
       "    </tr>\n",
       "    <tr>\n",
       "      <th>87263</th>\n",
       "      <td>20.50</td>\n",
       "      <td>492.00</td>\n",
       "      <td>24.00</td>\n",
       "      <td>1.0</td>\n",
       "      <td>12489</td>\n",
       "      <td>Berlin</td>\n",
       "      <td>https://www.immobilienscout24.de/expose/108659735</td>\n",
       "    </tr>\n",
       "  </tbody>\n",
       "</table>\n",
       "</div>"
      ],
      "text/plain": [
       "       rent_m2  baseRent  livingSpace  noRooms  zipCode  regio2  \\\n",
       "14842     7.63    648.95        85.00      3.0    12489  Berlin   \n",
       "24615     8.02    836.00       104.27      3.0    12489  Berlin   \n",
       "45998     9.58    602.58        62.90      2.0    12489  Berlin   \n",
       "95210    10.80    545.94        50.55      1.0    12489  Berlin   \n",
       "53256    11.76   1800.00       153.00      5.0    12489  Berlin   \n",
       "14817    12.00    756.00        63.00      2.0    12489  Berlin   \n",
       "55518    12.51    950.50        76.00      1.0    12489  Berlin   \n",
       "82185    12.51    825.00        65.96      2.0    12489  Berlin   \n",
       "84720    13.50   1699.00       125.86      4.0    12489  Berlin   \n",
       "14790    16.94   1246.78        73.60      2.0    12489  Berlin   \n",
       "73062    19.00   1278.70        67.30      2.0    12489  Berlin   \n",
       "76274    19.00    912.00        48.00      2.0    12489  Berlin   \n",
       "87263    20.50    492.00        24.00      1.0    12489  Berlin   \n",
       "\n",
       "                                                    link  \n",
       "14842  https://www.immobilienscout24.de/expose/118535004  \n",
       "24615   https://www.immobilienscout24.de/expose/72903352  \n",
       "45998  https://www.immobilienscout24.de/expose/118525653  \n",
       "95210   https://www.immobilienscout24.de/expose/76766337  \n",
       "53256  https://www.immobilienscout24.de/expose/118192255  \n",
       "14817  https://www.immobilienscout24.de/expose/118536816  \n",
       "55518  https://www.immobilienscout24.de/expose/118050095  \n",
       "82185  https://www.immobilienscout24.de/expose/113471229  \n",
       "84720  https://www.immobilienscout24.de/expose/111513335  \n",
       "14790  https://www.immobilienscout24.de/expose/118542152  \n",
       "73062  https://www.immobilienscout24.de/expose/115919073  \n",
       "76274  https://www.immobilienscout24.de/expose/115400920  \n",
       "87263  https://www.immobilienscout24.de/expose/108659735  "
      ]
     },
     "execution_count": 13,
     "metadata": {},
     "output_type": "execute_result"
    },
    {
     "data": {
      "application/javascript": [
       "\n",
       "            setTimeout(function() {\n",
       "                var nbb_cell_id = 13;\n",
       "                var nbb_unformatted_code = \"rent_filt_col = \\\"zipCode\\\"\\nrent_filt_arg = [12489]\\nrent_ord = \\\"rent_m2\\\"\\n\\nrent_filt = rent_select_df[rent_filt_col].isin(rent_filt_arg)\\nrent_select_df[rent_filt].sort_values(rent_ord).head(20)\";\n",
       "                var nbb_formatted_code = \"rent_filt_col = \\\"zipCode\\\"\\nrent_filt_arg = [12489]\\nrent_ord = \\\"rent_m2\\\"\\n\\nrent_filt = rent_select_df[rent_filt_col].isin(rent_filt_arg)\\nrent_select_df[rent_filt].sort_values(rent_ord).head(20)\";\n",
       "                var nbb_cells = Jupyter.notebook.get_cells();\n",
       "                for (var i = 0; i < nbb_cells.length; ++i) {\n",
       "                    if (nbb_cells[i].input_prompt_number == nbb_cell_id) {\n",
       "                        if (nbb_cells[i].get_text() == nbb_unformatted_code) {\n",
       "                             nbb_cells[i].set_text(nbb_formatted_code);\n",
       "                        }\n",
       "                        break;\n",
       "                    }\n",
       "                }\n",
       "            }, 500);\n",
       "            "
      ],
      "text/plain": [
       "<IPython.core.display.Javascript object>"
      ]
     },
     "metadata": {},
     "output_type": "display_data"
    }
   ],
   "source": [
    "rent_filt_col = \"zipCode\"\n",
    "rent_filt_arg = [12489]\n",
    "rent_ord = \"rent_m2\"\n",
    "\n",
    "rent_filt = rent_select_df[rent_filt_col].isin(rent_filt_arg)\n",
    "rent_select_df[rent_filt].sort_values(rent_ord).head(20)"
   ]
  },
  {
   "cell_type": "markdown",
   "metadata": {},
   "source": [
    "### 2.2) Apartments for sale"
   ]
  },
  {
   "cell_type": "code",
   "execution_count": 14,
   "metadata": {
    "scrolled": false
   },
   "outputs": [
    {
     "data": {
      "text/html": [
       "<div>\n",
       "<style scoped>\n",
       "    .dataframe tbody tr th:only-of-type {\n",
       "        vertical-align: middle;\n",
       "    }\n",
       "\n",
       "    .dataframe tbody tr th {\n",
       "        vertical-align: top;\n",
       "    }\n",
       "\n",
       "    .dataframe thead th {\n",
       "        text-align: right;\n",
       "    }\n",
       "</style>\n",
       "<table border=\"1\" class=\"dataframe\">\n",
       "  <thead>\n",
       "    <tr style=\"text-align: right;\">\n",
       "      <th></th>\n",
       "      <th>yearly_ROI</th>\n",
       "      <th>price_m2</th>\n",
       "      <th>purchasePrice</th>\n",
       "      <th>livingSpace</th>\n",
       "      <th>noRooms</th>\n",
       "      <th>zipCode</th>\n",
       "      <th>regio2</th>\n",
       "      <th>link</th>\n",
       "    </tr>\n",
       "  </thead>\n",
       "  <tbody>\n",
       "    <tr>\n",
       "      <th>12189</th>\n",
       "      <td>0.06</td>\n",
       "      <td>2369.34</td>\n",
       "      <td>170000.0</td>\n",
       "      <td>71.75</td>\n",
       "      <td>3.0</td>\n",
       "      <td>12489</td>\n",
       "      <td>Berlin</td>\n",
       "      <td>https://www.immobilienscout24.de/expose/114960018</td>\n",
       "    </tr>\n",
       "    <tr>\n",
       "      <th>24158</th>\n",
       "      <td>0.06</td>\n",
       "      <td>2405.89</td>\n",
       "      <td>170000.0</td>\n",
       "      <td>70.66</td>\n",
       "      <td>2.5</td>\n",
       "      <td>12489</td>\n",
       "      <td>Berlin</td>\n",
       "      <td>https://www.immobilienscout24.de/expose/118637931</td>\n",
       "    </tr>\n",
       "    <tr>\n",
       "      <th>22949</th>\n",
       "      <td>0.06</td>\n",
       "      <td>2481.73</td>\n",
       "      <td>180000.0</td>\n",
       "      <td>72.53</td>\n",
       "      <td>3.0</td>\n",
       "      <td>12489</td>\n",
       "      <td>Berlin</td>\n",
       "      <td>https://www.immobilienscout24.de/expose/118866628</td>\n",
       "    </tr>\n",
       "    <tr>\n",
       "      <th>29412</th>\n",
       "      <td>0.06</td>\n",
       "      <td>2638.52</td>\n",
       "      <td>150000.0</td>\n",
       "      <td>56.85</td>\n",
       "      <td>2.0</td>\n",
       "      <td>12489</td>\n",
       "      <td>Berlin</td>\n",
       "      <td>https://www.immobilienscout24.de/expose/116870264</td>\n",
       "    </tr>\n",
       "    <tr>\n",
       "      <th>1251</th>\n",
       "      <td>0.05</td>\n",
       "      <td>2860.50</td>\n",
       "      <td>195000.0</td>\n",
       "      <td>68.17</td>\n",
       "      <td>3.0</td>\n",
       "      <td>12489</td>\n",
       "      <td>Berlin</td>\n",
       "      <td>https://www.immobilienscout24.de/expose/113564857</td>\n",
       "    </tr>\n",
       "    <tr>\n",
       "      <th>26739</th>\n",
       "      <td>0.05</td>\n",
       "      <td>2866.36</td>\n",
       "      <td>160000.0</td>\n",
       "      <td>55.82</td>\n",
       "      <td>2.0</td>\n",
       "      <td>12489</td>\n",
       "      <td>Berlin</td>\n",
       "      <td>https://www.immobilienscout24.de/expose/117863760</td>\n",
       "    </tr>\n",
       "    <tr>\n",
       "      <th>12177</th>\n",
       "      <td>0.05</td>\n",
       "      <td>3000.00</td>\n",
       "      <td>130500.0</td>\n",
       "      <td>43.50</td>\n",
       "      <td>2.0</td>\n",
       "      <td>12489</td>\n",
       "      <td>Berlin</td>\n",
       "      <td>https://www.immobilienscout24.de/expose/114954791</td>\n",
       "    </tr>\n",
       "    <tr>\n",
       "      <th>29428</th>\n",
       "      <td>0.05</td>\n",
       "      <td>3014.18</td>\n",
       "      <td>170000.0</td>\n",
       "      <td>56.40</td>\n",
       "      <td>2.0</td>\n",
       "      <td>12489</td>\n",
       "      <td>Berlin</td>\n",
       "      <td>https://www.immobilienscout24.de/expose/116870259</td>\n",
       "    </tr>\n",
       "    <tr>\n",
       "      <th>26184</th>\n",
       "      <td>0.05</td>\n",
       "      <td>3042.11</td>\n",
       "      <td>289000.0</td>\n",
       "      <td>95.00</td>\n",
       "      <td>3.0</td>\n",
       "      <td>12489</td>\n",
       "      <td>Berlin</td>\n",
       "      <td>https://www.immobilienscout24.de/expose/118089849</td>\n",
       "    </tr>\n",
       "    <tr>\n",
       "      <th>8932</th>\n",
       "      <td>0.04</td>\n",
       "      <td>3383.12</td>\n",
       "      <td>265000.0</td>\n",
       "      <td>78.33</td>\n",
       "      <td>3.0</td>\n",
       "      <td>12489</td>\n",
       "      <td>Berlin</td>\n",
       "      <td>https://www.immobilienscout24.de/expose/116924411</td>\n",
       "    </tr>\n",
       "    <tr>\n",
       "      <th>27351</th>\n",
       "      <td>0.04</td>\n",
       "      <td>4090.91</td>\n",
       "      <td>225000.0</td>\n",
       "      <td>55.00</td>\n",
       "      <td>2.0</td>\n",
       "      <td>12489</td>\n",
       "      <td>Berlin</td>\n",
       "      <td>https://www.immobilienscout24.de/expose/117614342</td>\n",
       "    </tr>\n",
       "    <tr>\n",
       "      <th>34217</th>\n",
       "      <td>0.04</td>\n",
       "      <td>4098.15</td>\n",
       "      <td>157000.0</td>\n",
       "      <td>38.31</td>\n",
       "      <td>2.0</td>\n",
       "      <td>12489</td>\n",
       "      <td>Berlin</td>\n",
       "      <td>https://www.immobilienscout24.de/expose/113864679</td>\n",
       "    </tr>\n",
       "    <tr>\n",
       "      <th>13170</th>\n",
       "      <td>0.03</td>\n",
       "      <td>5355.00</td>\n",
       "      <td>518578.0</td>\n",
       "      <td>96.84</td>\n",
       "      <td>4.0</td>\n",
       "      <td>12489</td>\n",
       "      <td>Berlin</td>\n",
       "      <td>https://www.immobilienscout24.de/expose/117099907</td>\n",
       "    </tr>\n",
       "    <tr>\n",
       "      <th>777</th>\n",
       "      <td>0.03</td>\n",
       "      <td>5673.21</td>\n",
       "      <td>367000.0</td>\n",
       "      <td>64.69</td>\n",
       "      <td>3.0</td>\n",
       "      <td>12489</td>\n",
       "      <td>Berlin</td>\n",
       "      <td>https://www.immobilienscout24.de/expose/114934358</td>\n",
       "    </tr>\n",
       "    <tr>\n",
       "      <th>13149</th>\n",
       "      <td>0.03</td>\n",
       "      <td>5775.00</td>\n",
       "      <td>407946.0</td>\n",
       "      <td>70.64</td>\n",
       "      <td>3.0</td>\n",
       "      <td>12489</td>\n",
       "      <td>Berlin</td>\n",
       "      <td>https://www.immobilienscout24.de/expose/117100231</td>\n",
       "    </tr>\n",
       "    <tr>\n",
       "      <th>546</th>\n",
       "      <td>0.03</td>\n",
       "      <td>5814.29</td>\n",
       "      <td>139950.0</td>\n",
       "      <td>24.07</td>\n",
       "      <td>1.0</td>\n",
       "      <td>12489</td>\n",
       "      <td>Berlin</td>\n",
       "      <td>https://www.immobilienscout24.de/expose/116023048</td>\n",
       "    </tr>\n",
       "    <tr>\n",
       "      <th>787</th>\n",
       "      <td>0.03</td>\n",
       "      <td>5858.71</td>\n",
       "      <td>379000.0</td>\n",
       "      <td>64.69</td>\n",
       "      <td>3.0</td>\n",
       "      <td>12489</td>\n",
       "      <td>Berlin</td>\n",
       "      <td>https://www.immobilienscout24.de/expose/114934221</td>\n",
       "    </tr>\n",
       "    <tr>\n",
       "      <th>514</th>\n",
       "      <td>0.02</td>\n",
       "      <td>6056.97</td>\n",
       "      <td>176500.0</td>\n",
       "      <td>29.14</td>\n",
       "      <td>1.0</td>\n",
       "      <td>12489</td>\n",
       "      <td>Berlin</td>\n",
       "      <td>https://www.immobilienscout24.de/expose/116023051</td>\n",
       "    </tr>\n",
       "  </tbody>\n",
       "</table>\n",
       "</div>"
      ],
      "text/plain": [
       "       yearly_ROI  price_m2  purchasePrice  livingSpace  noRooms  zipCode  \\\n",
       "12189        0.06   2369.34       170000.0        71.75      3.0    12489   \n",
       "24158        0.06   2405.89       170000.0        70.66      2.5    12489   \n",
       "22949        0.06   2481.73       180000.0        72.53      3.0    12489   \n",
       "29412        0.06   2638.52       150000.0        56.85      2.0    12489   \n",
       "1251         0.05   2860.50       195000.0        68.17      3.0    12489   \n",
       "26739        0.05   2866.36       160000.0        55.82      2.0    12489   \n",
       "12177        0.05   3000.00       130500.0        43.50      2.0    12489   \n",
       "29428        0.05   3014.18       170000.0        56.40      2.0    12489   \n",
       "26184        0.05   3042.11       289000.0        95.00      3.0    12489   \n",
       "8932         0.04   3383.12       265000.0        78.33      3.0    12489   \n",
       "27351        0.04   4090.91       225000.0        55.00      2.0    12489   \n",
       "34217        0.04   4098.15       157000.0        38.31      2.0    12489   \n",
       "13170        0.03   5355.00       518578.0        96.84      4.0    12489   \n",
       "777          0.03   5673.21       367000.0        64.69      3.0    12489   \n",
       "13149        0.03   5775.00       407946.0        70.64      3.0    12489   \n",
       "546          0.03   5814.29       139950.0        24.07      1.0    12489   \n",
       "787          0.03   5858.71       379000.0        64.69      3.0    12489   \n",
       "514          0.02   6056.97       176500.0        29.14      1.0    12489   \n",
       "\n",
       "       regio2                                               link  \n",
       "12189  Berlin  https://www.immobilienscout24.de/expose/114960018  \n",
       "24158  Berlin  https://www.immobilienscout24.de/expose/118637931  \n",
       "22949  Berlin  https://www.immobilienscout24.de/expose/118866628  \n",
       "29412  Berlin  https://www.immobilienscout24.de/expose/116870264  \n",
       "1251   Berlin  https://www.immobilienscout24.de/expose/113564857  \n",
       "26739  Berlin  https://www.immobilienscout24.de/expose/117863760  \n",
       "12177  Berlin  https://www.immobilienscout24.de/expose/114954791  \n",
       "29428  Berlin  https://www.immobilienscout24.de/expose/116870259  \n",
       "26184  Berlin  https://www.immobilienscout24.de/expose/118089849  \n",
       "8932   Berlin  https://www.immobilienscout24.de/expose/116924411  \n",
       "27351  Berlin  https://www.immobilienscout24.de/expose/117614342  \n",
       "34217  Berlin  https://www.immobilienscout24.de/expose/113864679  \n",
       "13170  Berlin  https://www.immobilienscout24.de/expose/117099907  \n",
       "777    Berlin  https://www.immobilienscout24.de/expose/114934358  \n",
       "13149  Berlin  https://www.immobilienscout24.de/expose/117100231  \n",
       "546    Berlin  https://www.immobilienscout24.de/expose/116023048  \n",
       "787    Berlin  https://www.immobilienscout24.de/expose/114934221  \n",
       "514    Berlin  https://www.immobilienscout24.de/expose/116023051  "
      ]
     },
     "execution_count": 14,
     "metadata": {},
     "output_type": "execute_result"
    },
    {
     "data": {
      "application/javascript": [
       "\n",
       "            setTimeout(function() {\n",
       "                var nbb_cell_id = 14;\n",
       "                var nbb_unformatted_code = \"sale_filt_col = \\\"zipCode\\\"\\nsale_filt_arg = [12489]\\nsale_ord = \\\"yearly_ROI\\\"\\n\\nsale_filt = sale_select_df[sale_filt_col].isin(sale_filt_arg)\\nsale_select_df[sale_filt].sort_values(sale_ord, ascending=False).head(50)\";\n",
       "                var nbb_formatted_code = \"sale_filt_col = \\\"zipCode\\\"\\nsale_filt_arg = [12489]\\nsale_ord = \\\"yearly_ROI\\\"\\n\\nsale_filt = sale_select_df[sale_filt_col].isin(sale_filt_arg)\\nsale_select_df[sale_filt].sort_values(sale_ord, ascending=False).head(50)\";\n",
       "                var nbb_cells = Jupyter.notebook.get_cells();\n",
       "                for (var i = 0; i < nbb_cells.length; ++i) {\n",
       "                    if (nbb_cells[i].input_prompt_number == nbb_cell_id) {\n",
       "                        if (nbb_cells[i].get_text() == nbb_unformatted_code) {\n",
       "                             nbb_cells[i].set_text(nbb_formatted_code);\n",
       "                        }\n",
       "                        break;\n",
       "                    }\n",
       "                }\n",
       "            }, 500);\n",
       "            "
      ],
      "text/plain": [
       "<IPython.core.display.Javascript object>"
      ]
     },
     "metadata": {},
     "output_type": "display_data"
    }
   ],
   "source": [
    "sale_filt_col = \"zipCode\"\n",
    "sale_filt_arg = [12489]\n",
    "sale_ord = \"yearly_ROI\"\n",
    "\n",
    "sale_filt = sale_select_df[sale_filt_col].isin(sale_filt_arg)\n",
    "sale_select_df[sale_filt].sort_values(sale_ord, ascending=False).head(50)"
   ]
  }
 ],
 "metadata": {
  "file_extension": ".py",
  "kernelspec": {
   "display_name": "Python 3",
   "language": "python",
   "name": "python3"
  },
  "language_info": {
   "codemirror_mode": {
    "name": "ipython",
    "version": 3
   },
   "file_extension": ".py",
   "mimetype": "text/x-python",
   "name": "python",
   "nbconvert_exporter": "python",
   "pygments_lexer": "ipython3",
   "version": "3.7.4"
  },
  "mimetype": "text/x-python",
  "name": "python",
  "npconvert_exporter": "python",
  "pygments_lexer": "ipython3",
  "version": 3
 },
 "nbformat": 4,
 "nbformat_minor": 2
}
