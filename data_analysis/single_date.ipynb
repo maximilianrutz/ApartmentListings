{
 "cells": [
  {
   "cell_type": "markdown",
   "metadata": {},
   "source": [
    "# <center>German apartment listings</center>"
   ]
  },
  {
   "cell_type": "markdown",
   "metadata": {},
   "source": [
    "## 0) Imports"
   ]
  },
  {
   "cell_type": "code",
   "execution_count": 1,
   "metadata": {},
   "outputs": [
    {
     "data": {
      "application/javascript": [
       "\n",
       "            setTimeout(function() {\n",
       "                var nbb_cell_id = 1;\n",
       "                var nbb_unformatted_code = \"import numpy as np\\nfrom matplotlib import pyplot as plt\\nimport pandas as pd\\nfrom timeit import default_timer as timer\\n\\nimport glob\\nfrom scipy import stats\\nfrom sklearn.model_selection import train_test_split\\nfrom sklearn.covariance import EllipticEnvelope\\nfrom sklearn.neighbors import LocalOutlierFactor\\nfrom sklearn.ensemble import IsolationForest\\n\\nimport dataprocessing as dproc\\n\\n%load_ext nb_black\\n%matplotlib inline\\n\\nplt.rcParams[\\\"figure.dpi\\\"] = 130\\npd.set_option(\\\"display.precision\\\", 2)\\npd.set_option(\\\"display.max_columns\\\", None)\";\n",
       "                var nbb_formatted_code = \"import numpy as np\\nfrom matplotlib import pyplot as plt\\nimport pandas as pd\\nfrom timeit import default_timer as timer\\n\\nimport glob\\nfrom scipy import stats\\nfrom sklearn.model_selection import train_test_split\\nfrom sklearn.covariance import EllipticEnvelope\\nfrom sklearn.neighbors import LocalOutlierFactor\\nfrom sklearn.ensemble import IsolationForest\\n\\nimport dataprocessing as dproc\\n\\n%load_ext nb_black\\n%matplotlib inline\\n\\nplt.rcParams[\\\"figure.dpi\\\"] = 130\\npd.set_option(\\\"display.precision\\\", 2)\\npd.set_option(\\\"display.max_columns\\\", None)\";\n",
       "                var nbb_cells = Jupyter.notebook.get_cells();\n",
       "                for (var i = 0; i < nbb_cells.length; ++i) {\n",
       "                    if (nbb_cells[i].input_prompt_number == nbb_cell_id) {\n",
       "                        if (nbb_cells[i].get_text() == nbb_unformatted_code) {\n",
       "                             nbb_cells[i].set_text(nbb_formatted_code);\n",
       "                        }\n",
       "                        break;\n",
       "                    }\n",
       "                }\n",
       "            }, 500);\n",
       "            "
      ],
      "text/plain": [
       "<IPython.core.display.Javascript object>"
      ]
     },
     "metadata": {},
     "output_type": "display_data"
    }
   ],
   "source": [
    "import numpy as np\n",
    "from matplotlib import pyplot as plt\n",
    "import pandas as pd\n",
    "from timeit import default_timer as timer\n",
    "\n",
    "import glob\n",
    "from scipy import stats\n",
    "from sklearn.model_selection import train_test_split\n",
    "from sklearn.covariance import EllipticEnvelope\n",
    "from sklearn.neighbors import LocalOutlierFactor\n",
    "from sklearn.ensemble import IsolationForest\n",
    "\n",
    "import dataprocessing as dproc\n",
    "\n",
    "%load_ext nb_black\n",
    "%matplotlib inline\n",
    "\n",
    "plt.rcParams[\"figure.dpi\"] = 130\n",
    "pd.set_option(\"display.precision\", 2)\n",
    "pd.set_option(\"display.max_columns\", None)"
   ]
  },
  {
   "cell_type": "markdown",
   "metadata": {},
   "source": [
    "## 1) Data Processing"
   ]
  },
  {
   "cell_type": "markdown",
   "metadata": {},
   "source": [
    "#### find dates:"
   ]
  },
  {
   "cell_type": "code",
   "execution_count": 2,
   "metadata": {},
   "outputs": [
    {
     "data": {
      "application/javascript": [
       "\n",
       "            setTimeout(function() {\n",
       "                var nbb_cell_id = 2;\n",
       "                var nbb_unformatted_code = \"dates = sorted(\\n    [\\n        s[s.find(\\\"mieten\\\") + len(\\\"mieten\\\") : s.rfind(\\\".csv\\\")]\\n        for s in glob.glob(\\\"../data/mieten*\\\")\\n    ]\\n)\";\n",
       "                var nbb_formatted_code = \"dates = sorted(\\n    [\\n        s[s.find(\\\"mieten\\\") + len(\\\"mieten\\\") : s.rfind(\\\".csv\\\")]\\n        for s in glob.glob(\\\"../data/mieten*\\\")\\n    ]\\n)\";\n",
       "                var nbb_cells = Jupyter.notebook.get_cells();\n",
       "                for (var i = 0; i < nbb_cells.length; ++i) {\n",
       "                    if (nbb_cells[i].input_prompt_number == nbb_cell_id) {\n",
       "                        if (nbb_cells[i].get_text() == nbb_unformatted_code) {\n",
       "                             nbb_cells[i].set_text(nbb_formatted_code);\n",
       "                        }\n",
       "                        break;\n",
       "                    }\n",
       "                }\n",
       "            }, 500);\n",
       "            "
      ],
      "text/plain": [
       "<IPython.core.display.Javascript object>"
      ]
     },
     "metadata": {},
     "output_type": "display_data"
    }
   ],
   "source": [
    "dates = sorted(\n",
    "    [\n",
    "        s[s.find(\"mieten\") + len(\"mieten\") : s.rfind(\".csv\")]\n",
    "        for s in glob.glob(\"../data/mieten*\")\n",
    "    ]\n",
    ")"
   ]
  },
  {
   "cell_type": "markdown",
   "metadata": {},
   "source": [
    "#### load data:"
   ]
  },
  {
   "cell_type": "code",
   "execution_count": 3,
   "metadata": {},
   "outputs": [
    {
     "data": {
      "application/javascript": [
       "\n",
       "            setTimeout(function() {\n",
       "                var nbb_cell_id = 3;\n",
       "                var nbb_unformatted_code = \"rent_df = dproc.create_rent_df(dates[-1])\\nsale_df = dproc.create_sale_df(dates[-1])\";\n",
       "                var nbb_formatted_code = \"rent_df = dproc.create_rent_df(dates[-1])\\nsale_df = dproc.create_sale_df(dates[-1])\";\n",
       "                var nbb_cells = Jupyter.notebook.get_cells();\n",
       "                for (var i = 0; i < nbb_cells.length; ++i) {\n",
       "                    if (nbb_cells[i].input_prompt_number == nbb_cell_id) {\n",
       "                        if (nbb_cells[i].get_text() == nbb_unformatted_code) {\n",
       "                             nbb_cells[i].set_text(nbb_formatted_code);\n",
       "                        }\n",
       "                        break;\n",
       "                    }\n",
       "                }\n",
       "            }, 500);\n",
       "            "
      ],
      "text/plain": [
       "<IPython.core.display.Javascript object>"
      ]
     },
     "metadata": {},
     "output_type": "display_data"
    }
   ],
   "source": [
    "rent_df = dproc.create_rent_df(dates[-1])\n",
    "sale_df = dproc.create_sale_df(dates[-1])"
   ]
  },
  {
   "cell_type": "markdown",
   "metadata": {},
   "source": [
    "#### add links:"
   ]
  },
  {
   "cell_type": "code",
   "execution_count": 4,
   "metadata": {},
   "outputs": [
    {
     "data": {
      "application/javascript": [
       "\n",
       "            setTimeout(function() {\n",
       "                var nbb_cell_id = 4;\n",
       "                var nbb_unformatted_code = \"rent_df[\\\"link\\\"] = \\\"https://www.immobilienscout24.de/expose/\\\" + rent_df[\\n    \\\"scoutId\\\"\\n].astype(str)\\nsale_df[\\\"link\\\"] = \\\"https://www.immobilienscout24.de/expose/\\\" + sale_df[\\n    \\\"scoutId\\\"\\n].astype(str)\";\n",
       "                var nbb_formatted_code = \"rent_df[\\\"link\\\"] = \\\"https://www.immobilienscout24.de/expose/\\\" + rent_df[\\n    \\\"scoutId\\\"\\n].astype(str)\\nsale_df[\\\"link\\\"] = \\\"https://www.immobilienscout24.de/expose/\\\" + sale_df[\\n    \\\"scoutId\\\"\\n].astype(str)\";\n",
       "                var nbb_cells = Jupyter.notebook.get_cells();\n",
       "                for (var i = 0; i < nbb_cells.length; ++i) {\n",
       "                    if (nbb_cells[i].input_prompt_number == nbb_cell_id) {\n",
       "                        if (nbb_cells[i].get_text() == nbb_unformatted_code) {\n",
       "                             nbb_cells[i].set_text(nbb_formatted_code);\n",
       "                        }\n",
       "                        break;\n",
       "                    }\n",
       "                }\n",
       "            }, 500);\n",
       "            "
      ],
      "text/plain": [
       "<IPython.core.display.Javascript object>"
      ]
     },
     "metadata": {},
     "output_type": "display_data"
    }
   ],
   "source": [
    "rent_df[\"link\"] = \"https://www.immobilienscout24.de/expose/\" + rent_df[\n",
    "    \"scoutId\"\n",
    "].astype(str)\n",
    "sale_df[\"link\"] = \"https://www.immobilienscout24.de/expose/\" + sale_df[\n",
    "    \"scoutId\"\n",
    "].astype(str)"
   ]
  },
  {
   "cell_type": "markdown",
   "metadata": {},
   "source": [
    "#### select features:"
   ]
  },
  {
   "cell_type": "code",
   "execution_count": 5,
   "metadata": {},
   "outputs": [
    {
     "data": {
      "application/javascript": [
       "\n",
       "            setTimeout(function() {\n",
       "                var nbb_cell_id = 5;\n",
       "                var nbb_unformatted_code = \"rent_select_columns = [\\n    \\\"rent_m2\\\",\\n    \\\"baseRent\\\",\\n    \\\"livingSpace\\\",\\n    \\\"noRooms\\\",\\n    \\\"zipCode\\\",\\n    \\\"regio2\\\",\\n    \\\"link\\\",\\n]\\nrent_select_df = rent_df[rent_select_columns].copy()\\n\\nsale_select_columns = [\\n    \\\"price_m2\\\",\\n    \\\"purchasePrice\\\",\\n    \\\"livingSpace\\\",\\n    \\\"noRooms\\\",\\n    \\\"zipCode\\\",\\n    \\\"regio2\\\",\\n    \\\"link\\\",\\n]\\nsale_select_df = sale_df[sale_select_columns].copy()\";\n",
       "                var nbb_formatted_code = \"rent_select_columns = [\\n    \\\"rent_m2\\\",\\n    \\\"baseRent\\\",\\n    \\\"livingSpace\\\",\\n    \\\"noRooms\\\",\\n    \\\"zipCode\\\",\\n    \\\"regio2\\\",\\n    \\\"link\\\",\\n]\\nrent_select_df = rent_df[rent_select_columns].copy()\\n\\nsale_select_columns = [\\n    \\\"price_m2\\\",\\n    \\\"purchasePrice\\\",\\n    \\\"livingSpace\\\",\\n    \\\"noRooms\\\",\\n    \\\"zipCode\\\",\\n    \\\"regio2\\\",\\n    \\\"link\\\",\\n]\\nsale_select_df = sale_df[sale_select_columns].copy()\";\n",
       "                var nbb_cells = Jupyter.notebook.get_cells();\n",
       "                for (var i = 0; i < nbb_cells.length; ++i) {\n",
       "                    if (nbb_cells[i].input_prompt_number == nbb_cell_id) {\n",
       "                        if (nbb_cells[i].get_text() == nbb_unformatted_code) {\n",
       "                             nbb_cells[i].set_text(nbb_formatted_code);\n",
       "                        }\n",
       "                        break;\n",
       "                    }\n",
       "                }\n",
       "            }, 500);\n",
       "            "
      ],
      "text/plain": [
       "<IPython.core.display.Javascript object>"
      ]
     },
     "metadata": {},
     "output_type": "display_data"
    }
   ],
   "source": [
    "rent_select_columns = [\n",
    "    \"rent_m2\",\n",
    "    \"baseRent\",\n",
    "    \"livingSpace\",\n",
    "    \"noRooms\",\n",
    "    \"zipCode\",\n",
    "    \"regio2\",\n",
    "    \"link\",\n",
    "]\n",
    "rent_select_df = rent_df[rent_select_columns].copy()\n",
    "\n",
    "sale_select_columns = [\n",
    "    \"price_m2\",\n",
    "    \"purchasePrice\",\n",
    "    \"livingSpace\",\n",
    "    \"noRooms\",\n",
    "    \"zipCode\",\n",
    "    \"regio2\",\n",
    "    \"link\",\n",
    "]\n",
    "sale_select_df = sale_df[sale_select_columns].copy()"
   ]
  },
  {
   "cell_type": "markdown",
   "metadata": {},
   "source": [
    "#### add return of investment based on median rents for zipCode"
   ]
  },
  {
   "cell_type": "code",
   "execution_count": 6,
   "metadata": {},
   "outputs": [
    {
     "data": {
      "application/javascript": [
       "\n",
       "            setTimeout(function() {\n",
       "                var nbb_cell_id = 6;\n",
       "                var nbb_unformatted_code = \"g = rent_select_df.groupby(\\\"zipCode\\\")[\\\"rent_m2\\\"].median()\\ng.name = \\\"rent_m2_zC\\\"\\nrent_m2_zipCode = sale_select_df.join(g, on=\\\"zipCode\\\").copy()[\\\"rent_m2_zC\\\"]\\nsale_select_df.insert(\\n    loc=sale_select_df.columns.get_loc(\\\"zipCode\\\") + 1,\\n    column=\\\"rent_m2_zC\\\",\\n    value=rent_m2_zipCode,\\n)\\n\\nyearly_ROI = sale_select_df[\\\"rent_m2_zC\\\"] * 12 / sale_select_df[\\\"price_m2\\\"]\\nsale_select_df.insert(loc=0, column=\\\"yearly_ROI\\\", value=yearly_ROI)\";\n",
       "                var nbb_formatted_code = \"g = rent_select_df.groupby(\\\"zipCode\\\")[\\\"rent_m2\\\"].median()\\ng.name = \\\"rent_m2_zC\\\"\\nrent_m2_zipCode = sale_select_df.join(g, on=\\\"zipCode\\\").copy()[\\\"rent_m2_zC\\\"]\\nsale_select_df.insert(\\n    loc=sale_select_df.columns.get_loc(\\\"zipCode\\\") + 1,\\n    column=\\\"rent_m2_zC\\\",\\n    value=rent_m2_zipCode,\\n)\\n\\nyearly_ROI = sale_select_df[\\\"rent_m2_zC\\\"] * 12 / sale_select_df[\\\"price_m2\\\"]\\nsale_select_df.insert(loc=0, column=\\\"yearly_ROI\\\", value=yearly_ROI)\";\n",
       "                var nbb_cells = Jupyter.notebook.get_cells();\n",
       "                for (var i = 0; i < nbb_cells.length; ++i) {\n",
       "                    if (nbb_cells[i].input_prompt_number == nbb_cell_id) {\n",
       "                        if (nbb_cells[i].get_text() == nbb_unformatted_code) {\n",
       "                             nbb_cells[i].set_text(nbb_formatted_code);\n",
       "                        }\n",
       "                        break;\n",
       "                    }\n",
       "                }\n",
       "            }, 500);\n",
       "            "
      ],
      "text/plain": [
       "<IPython.core.display.Javascript object>"
      ]
     },
     "metadata": {},
     "output_type": "display_data"
    }
   ],
   "source": [
    "g = rent_select_df.groupby(\"zipCode\")[\"rent_m2\"].median()\n",
    "g.name = \"rent_m2_zC\"\n",
    "rent_m2_zipCode = sale_select_df.join(g, on=\"zipCode\").copy()[\"rent_m2_zC\"]\n",
    "sale_select_df.insert(\n",
    "    loc=sale_select_df.columns.get_loc(\"zipCode\") + 1,\n",
    "    column=\"rent_m2_zC\",\n",
    "    value=rent_m2_zipCode,\n",
    ")\n",
    "\n",
    "yearly_ROI = sale_select_df[\"rent_m2_zC\"] * 12 / sale_select_df[\"price_m2\"]\n",
    "sale_select_df.insert(loc=0, column=\"yearly_ROI\", value=yearly_ROI)"
   ]
  },
  {
   "cell_type": "markdown",
   "metadata": {},
   "source": [
    "#### remove nans, infs and zeros:"
   ]
  },
  {
   "cell_type": "code",
   "execution_count": 7,
   "metadata": {},
   "outputs": [
    {
     "data": {
      "application/javascript": [
       "\n",
       "            setTimeout(function() {\n",
       "                var nbb_cell_id = 7;\n",
       "                var nbb_unformatted_code = \"allowed_nan_percentage_cols = 1\\n\\nrent_select_df = dproc.remove_nan_inf(rent_select_df, allowed_nan_percentage_cols)\\nsale_select_df = dproc.remove_nan_inf(sale_select_df, allowed_nan_percentage_cols)\\n\\nrent_select_df = rent_select_df[(rent_select_df[\\\"baseRent\\\"] != 0)]\\nsale_select_df = sale_select_df[(sale_select_df[\\\"purchasePrice\\\"] != 0)]\";\n",
       "                var nbb_formatted_code = \"allowed_nan_percentage_cols = 1\\n\\nrent_select_df = dproc.remove_nan_inf(rent_select_df, allowed_nan_percentage_cols)\\nsale_select_df = dproc.remove_nan_inf(sale_select_df, allowed_nan_percentage_cols)\\n\\nrent_select_df = rent_select_df[(rent_select_df[\\\"baseRent\\\"] != 0)]\\nsale_select_df = sale_select_df[(sale_select_df[\\\"purchasePrice\\\"] != 0)]\";\n",
       "                var nbb_cells = Jupyter.notebook.get_cells();\n",
       "                for (var i = 0; i < nbb_cells.length; ++i) {\n",
       "                    if (nbb_cells[i].input_prompt_number == nbb_cell_id) {\n",
       "                        if (nbb_cells[i].get_text() == nbb_unformatted_code) {\n",
       "                             nbb_cells[i].set_text(nbb_formatted_code);\n",
       "                        }\n",
       "                        break;\n",
       "                    }\n",
       "                }\n",
       "            }, 500);\n",
       "            "
      ],
      "text/plain": [
       "<IPython.core.display.Javascript object>"
      ]
     },
     "metadata": {},
     "output_type": "display_data"
    }
   ],
   "source": [
    "allowed_nan_percentage_cols = 1\n",
    "\n",
    "rent_select_df = dproc.remove_nan_inf(rent_select_df, allowed_nan_percentage_cols)\n",
    "sale_select_df = dproc.remove_nan_inf(sale_select_df, allowed_nan_percentage_cols)\n",
    "\n",
    "rent_select_df = rent_select_df[(rent_select_df[\"baseRent\"] != 0)]\n",
    "sale_select_df = sale_select_df[(sale_select_df[\"purchasePrice\"] != 0)]"
   ]
  },
  {
   "cell_type": "markdown",
   "metadata": {},
   "source": [
    "#### add combined dataframe with median rents and prices:"
   ]
  },
  {
   "cell_type": "code",
   "execution_count": 8,
   "metadata": {},
   "outputs": [
    {
     "data": {
      "application/javascript": [
       "\n",
       "            setTimeout(function() {\n",
       "                var nbb_cell_id = 8;\n",
       "                var nbb_unformatted_code = \"group = \\\"zipCode\\\"\\n\\ncombined_df = pd.concat(\\n    [\\n        rent_select_df.groupby(group)[\\\"rent_m2\\\"].median(),\\n        rent_select_df.groupby(group)[\\\"rent_m2\\\"].size(),\\n        sale_select_df.groupby(group)[\\\"price_m2\\\"].median(),\\n        sale_select_df.groupby(group)[\\\"price_m2\\\"].size(),\\n        sale_select_df.groupby(group)[\\\"yearly_ROI\\\"].median(),\\n    ],\\n    axis=1,\\n    keys=[\\n        \\\"median_rent_m2\\\",\\n        \\\"num_rent\\\",\\n        \\\"median_price_m2\\\",\\n        \\\"num_sale\\\",\\n        \\\"median_yearly_ROI\\\",\\n    ],\\n).copy()\\n\\ncombined_df = combined_df.replace([np.inf, -np.inf], np.nan)\\ncombined_df = combined_df.dropna()\";\n",
       "                var nbb_formatted_code = \"group = \\\"zipCode\\\"\\n\\ncombined_df = pd.concat(\\n    [\\n        rent_select_df.groupby(group)[\\\"rent_m2\\\"].median(),\\n        rent_select_df.groupby(group)[\\\"rent_m2\\\"].size(),\\n        sale_select_df.groupby(group)[\\\"price_m2\\\"].median(),\\n        sale_select_df.groupby(group)[\\\"price_m2\\\"].size(),\\n        sale_select_df.groupby(group)[\\\"yearly_ROI\\\"].median(),\\n    ],\\n    axis=1,\\n    keys=[\\n        \\\"median_rent_m2\\\",\\n        \\\"num_rent\\\",\\n        \\\"median_price_m2\\\",\\n        \\\"num_sale\\\",\\n        \\\"median_yearly_ROI\\\",\\n    ],\\n).copy()\\n\\ncombined_df = combined_df.replace([np.inf, -np.inf], np.nan)\\ncombined_df = combined_df.dropna()\";\n",
       "                var nbb_cells = Jupyter.notebook.get_cells();\n",
       "                for (var i = 0; i < nbb_cells.length; ++i) {\n",
       "                    if (nbb_cells[i].input_prompt_number == nbb_cell_id) {\n",
       "                        if (nbb_cells[i].get_text() == nbb_unformatted_code) {\n",
       "                             nbb_cells[i].set_text(nbb_formatted_code);\n",
       "                        }\n",
       "                        break;\n",
       "                    }\n",
       "                }\n",
       "            }, 500);\n",
       "            "
      ],
      "text/plain": [
       "<IPython.core.display.Javascript object>"
      ]
     },
     "metadata": {},
     "output_type": "display_data"
    }
   ],
   "source": [
    "group = \"zipCode\"\n",
    "\n",
    "combined_df = pd.concat(\n",
    "    [\n",
    "        rent_select_df.groupby(group)[\"rent_m2\"].median(),\n",
    "        rent_select_df.groupby(group)[\"rent_m2\"].size(),\n",
    "        sale_select_df.groupby(group)[\"price_m2\"].median(),\n",
    "        sale_select_df.groupby(group)[\"price_m2\"].size(),\n",
    "        sale_select_df.groupby(group)[\"yearly_ROI\"].median(),\n",
    "    ],\n",
    "    axis=1,\n",
    "    keys=[\n",
    "        \"median_rent_m2\",\n",
    "        \"num_rent\",\n",
    "        \"median_price_m2\",\n",
    "        \"num_sale\",\n",
    "        \"median_yearly_ROI\",\n",
    "    ],\n",
    ").copy()\n",
    "\n",
    "combined_df = combined_df.replace([np.inf, -np.inf], np.nan)\n",
    "combined_df = combined_df.dropna()"
   ]
  },
  {
   "cell_type": "markdown",
   "metadata": {},
   "source": [
    "## 2) Outlier detection apartments for sale"
   ]
  },
  {
   "cell_type": "markdown",
   "metadata": {},
   "source": [
    "### 2.1) Normalize the data"
   ]
  },
  {
   "cell_type": "markdown",
   "metadata": {},
   "source": [
    "#### Distribution of living space and prices:"
   ]
  },
  {
   "cell_type": "code",
   "execution_count": 9,
   "metadata": {},
   "outputs": [
    {
     "data": {
      "image/png": "[encoded data removed]",
      "text/plain": [
       "<Figure size 910x325 with 2 Axes>"
      ]
     },
     "metadata": {
      "needs_background": "light"
     },
     "output_type": "display_data"
    },
    {
     "data": {
      "application/javascript": [
       "\n",
       "            setTimeout(function() {\n",
       "                var nbb_cell_id = 9;\n",
       "                var nbb_unformatted_code = \"sale_select_df[[\\\"livingSpace\\\", \\\"purchasePrice\\\"]][\\n    (sale_select_df[\\\"purchasePrice\\\"] < 1e6) & (sale_select_df[\\\"livingSpace\\\"] < 500)\\n].hist(bins=100, figsize=(7, 2.5))\\npass\";\n",
       "                var nbb_formatted_code = \"sale_select_df[[\\\"livingSpace\\\", \\\"purchasePrice\\\"]][\\n    (sale_select_df[\\\"purchasePrice\\\"] < 1e6) & (sale_select_df[\\\"livingSpace\\\"] < 500)\\n].hist(bins=100, figsize=(7, 2.5))\\npass\";\n",
       "                var nbb_cells = Jupyter.notebook.get_cells();\n",
       "                for (var i = 0; i < nbb_cells.length; ++i) {\n",
       "                    if (nbb_cells[i].input_prompt_number == nbb_cell_id) {\n",
       "                        if (nbb_cells[i].get_text() == nbb_unformatted_code) {\n",
       "                             nbb_cells[i].set_text(nbb_formatted_code);\n",
       "                        }\n",
       "                        break;\n",
       "                    }\n",
       "                }\n",
       "            }, 500);\n",
       "            "
      ],
      "text/plain": [
       "<IPython.core.display.Javascript object>"
      ]
     },
     "metadata": {},
     "output_type": "display_data"
    }
   ],
   "source": [
    "sale_select_df[[\"livingSpace\", \"purchasePrice\"]][\n",
    "    (sale_select_df[\"purchasePrice\"] < 1e6) & (sale_select_df[\"livingSpace\"] < 500)\n",
    "].hist(bins=100, figsize=(7, 2.5))\n",
    "pass"
   ]
  },
  {
   "cell_type": "markdown",
   "metadata": {},
   "source": [
    "#### Boxcox transformation:"
   ]
  },
  {
   "cell_type": "code",
   "execution_count": 10,
   "metadata": {
    "scrolled": true
   },
   "outputs": [
    {
     "name": "stdout",
     "output_type": "stream",
     "text": [
      "Boxcox parameters\n",
      "livingSpace: lambda = -0.13\n",
      "purchasePrice: lambda = 0.08\n"
     ]
    },
    {
     "data": {
      "image/png": "[encoded data removed]",
      "text/plain": [
       "<Figure size 1040x260 with 2 Axes>"
      ]
     },
     "metadata": {
      "needs_background": "light"
     },
     "output_type": "display_data"
    },
    {
     "data": {
      "application/javascript": [
       "\n",
       "            setTimeout(function() {\n",
       "                var nbb_cell_id = 10;\n",
       "                var nbb_unformatted_code = \"x_space, lambda_space = stats.boxcox(sale_select_df[\\\"livingSpace\\\"])\\nx_price, lambda_price = stats.boxcox(sale_select_df[\\\"purchasePrice\\\"])\\nX_sale = pd.DataFrame({\\\"livingSpace\\\": x_space, \\\"purchasePrice\\\": x_price})\\nX_sale.hist(bins=50, figsize=(8, 2))\\nprint(\\n    f\\\"Boxcox parameters\\\\nlivingSpace: lambda = {lambda_space:.2f}\\\\npurchasePrice: lambda = {lambda_price:.2f}\\\"\\n)\";\n",
       "                var nbb_formatted_code = \"x_space, lambda_space = stats.boxcox(sale_select_df[\\\"livingSpace\\\"])\\nx_price, lambda_price = stats.boxcox(sale_select_df[\\\"purchasePrice\\\"])\\nX_sale = pd.DataFrame({\\\"livingSpace\\\": x_space, \\\"purchasePrice\\\": x_price})\\nX_sale.hist(bins=50, figsize=(8, 2))\\nprint(\\n    f\\\"Boxcox parameters\\\\nlivingSpace: lambda = {lambda_space:.2f}\\\\npurchasePrice: lambda = {lambda_price:.2f}\\\"\\n)\";\n",
       "                var nbb_cells = Jupyter.notebook.get_cells();\n",
       "                for (var i = 0; i < nbb_cells.length; ++i) {\n",
       "                    if (nbb_cells[i].input_prompt_number == nbb_cell_id) {\n",
       "                        if (nbb_cells[i].get_text() == nbb_unformatted_code) {\n",
       "                             nbb_cells[i].set_text(nbb_formatted_code);\n",
       "                        }\n",
       "                        break;\n",
       "                    }\n",
       "                }\n",
       "            }, 500);\n",
       "            "
      ],
      "text/plain": [
       "<IPython.core.display.Javascript object>"
      ]
     },
     "metadata": {},
     "output_type": "display_data"
    }
   ],
   "source": [
    "x_space, lambda_space = stats.boxcox(sale_select_df[\"livingSpace\"])\n",
    "x_price, lambda_price = stats.boxcox(sale_select_df[\"purchasePrice\"])\n",
    "X_sale = pd.DataFrame({\"livingSpace\": x_space, \"purchasePrice\": x_price})\n",
    "X_sale.hist(bins=50, figsize=(8, 2))\n",
    "print(\n",
    "    f\"Boxcox parameters\\nlivingSpace: lambda = {lambda_space:.2f}\\npurchasePrice: lambda = {lambda_price:.2f}\"\n",
    ")"
   ]
  },
  {
   "cell_type": "markdown",
   "metadata": {},
   "source": [
    "#### Assumed ratio of outliers:"
   ]
  },
  {
   "cell_type": "code",
   "execution_count": 11,
   "metadata": {},
   "outputs": [
    {
     "data": {
      "application/javascript": [
       "\n",
       "            setTimeout(function() {\n",
       "                var nbb_cell_id = 11;\n",
       "                var nbb_unformatted_code = \"contamination = 0.002\";\n",
       "                var nbb_formatted_code = \"contamination = 0.002\";\n",
       "                var nbb_cells = Jupyter.notebook.get_cells();\n",
       "                for (var i = 0; i < nbb_cells.length; ++i) {\n",
       "                    if (nbb_cells[i].input_prompt_number == nbb_cell_id) {\n",
       "                        if (nbb_cells[i].get_text() == nbb_unformatted_code) {\n",
       "                             nbb_cells[i].set_text(nbb_formatted_code);\n",
       "                        }\n",
       "                        break;\n",
       "                    }\n",
       "                }\n",
       "            }, 500);\n",
       "            "
      ],
      "text/plain": [
       "<IPython.core.display.Javascript object>"
      ]
     },
     "metadata": {},
     "output_type": "display_data"
    }
   ],
   "source": [
    "contamination = 0.002"
   ]
  },
  {
   "cell_type": "markdown",
   "metadata": {},
   "source": [
    "### 2.2) Gaussian Elliptic Envelope"
   ]
  },
  {
   "cell_type": "code",
   "execution_count": 12,
   "metadata": {},
   "outputs": [
    {
     "name": "stdout",
     "output_type": "stream",
     "text": [
      "Elapsed time: 10.63s\n"
     ]
    },
    {
     "data": {
      "application/javascript": [
       "\n",
       "            setTimeout(function() {\n",
       "                var nbb_cell_id = 12;\n",
       "                var nbb_unformatted_code = \"start = timer()\\n\\nsale_outlier = EllipticEnvelope(\\n    contamination=contamination, random_state=42\\n).fit_predict(X_sale)\\nsale_inlier_df = sale_select_df[(sale_outlier == 1)]\\nsale_outlier_df = sale_select_df[(sale_outlier == -1)]\\n\\nend = timer()\\nprint(f\\\"Elapsed time: {np.round(end - start,2)}s\\\")\";\n",
       "                var nbb_formatted_code = \"start = timer()\\n\\nsale_outlier = EllipticEnvelope(\\n    contamination=contamination, random_state=42\\n).fit_predict(X_sale)\\nsale_inlier_df = sale_select_df[(sale_outlier == 1)]\\nsale_outlier_df = sale_select_df[(sale_outlier == -1)]\\n\\nend = timer()\\nprint(f\\\"Elapsed time: {np.round(end - start,2)}s\\\")\";\n",
       "                var nbb_cells = Jupyter.notebook.get_cells();\n",
       "                for (var i = 0; i < nbb_cells.length; ++i) {\n",
       "                    if (nbb_cells[i].input_prompt_number == nbb_cell_id) {\n",
       "                        if (nbb_cells[i].get_text() == nbb_unformatted_code) {\n",
       "                             nbb_cells[i].set_text(nbb_formatted_code);\n",
       "                        }\n",
       "                        break;\n",
       "                    }\n",
       "                }\n",
       "            }, 500);\n",
       "            "
      ],
      "text/plain": [
       "<IPython.core.display.Javascript object>"
      ]
     },
     "metadata": {},
     "output_type": "display_data"
    }
   ],
   "source": [
    "start = timer()\n",
    "\n",
    "sale_outlier = EllipticEnvelope(\n",
    "    contamination=contamination, random_state=42\n",
    ").fit_predict(X_sale)\n",
    "sale_inlier_df = sale_select_df[(sale_outlier == 1)]\n",
    "sale_outlier_df = sale_select_df[(sale_outlier == -1)]\n",
    "\n",
    "end = timer()\n",
    "print(f\"Elapsed time: {np.round(end - start,2)}s\")"
   ]
  },
  {
   "cell_type": "code",
   "execution_count": 13,
   "metadata": {},
   "outputs": [
    {
     "data": {
      "image/png": "[encoded data removed]",
      "text/plain": [
       "<Figure size 780x520 with 1 Axes>"
      ]
     },
     "metadata": {
      "needs_background": "light"
     },
     "output_type": "display_data"
    },
    {
     "data": {
      "application/javascript": [
       "\n",
       "            setTimeout(function() {\n",
       "                var nbb_cell_id = 13;\n",
       "                var nbb_unformatted_code = \"fig, ax = plt.subplots()\\nsale_outlier_df.plot.scatter(\\n    x=\\\"livingSpace\\\",\\n    y=\\\"purchasePrice\\\",\\n    loglog=True,\\n    title=\\\"Outlier detection sale\\\",\\n    color=\\\"C1\\\",\\n    label=\\\"Outlier\\\",\\n    s=10,\\n    ax=ax,\\n)\\nsale_inlier_df.plot.scatter(\\n    x=\\\"livingSpace\\\", y=\\\"purchasePrice\\\", color=\\\"C0\\\", label=\\\"Inlier\\\", s=10, ax=ax\\n)\\nfig.savefig(\\\"sale_outlier.png\\\")\";\n",
       "                var nbb_formatted_code = \"fig, ax = plt.subplots()\\nsale_outlier_df.plot.scatter(\\n    x=\\\"livingSpace\\\",\\n    y=\\\"purchasePrice\\\",\\n    loglog=True,\\n    title=\\\"Outlier detection sale\\\",\\n    color=\\\"C1\\\",\\n    label=\\\"Outlier\\\",\\n    s=10,\\n    ax=ax,\\n)\\nsale_inlier_df.plot.scatter(\\n    x=\\\"livingSpace\\\", y=\\\"purchasePrice\\\", color=\\\"C0\\\", label=\\\"Inlier\\\", s=10, ax=ax\\n)\\nfig.savefig(\\\"sale_outlier.png\\\")\";\n",
       "                var nbb_cells = Jupyter.notebook.get_cells();\n",
       "                for (var i = 0; i < nbb_cells.length; ++i) {\n",
       "                    if (nbb_cells[i].input_prompt_number == nbb_cell_id) {\n",
       "                        if (nbb_cells[i].get_text() == nbb_unformatted_code) {\n",
       "                             nbb_cells[i].set_text(nbb_formatted_code);\n",
       "                        }\n",
       "                        break;\n",
       "                    }\n",
       "                }\n",
       "            }, 500);\n",
       "            "
      ],
      "text/plain": [
       "<IPython.core.display.Javascript object>"
      ]
     },
     "metadata": {},
     "output_type": "display_data"
    }
   ],
   "source": [
    "fig, ax = plt.subplots()\n",
    "sale_outlier_df.plot.scatter(\n",
    "    x=\"livingSpace\",\n",
    "    y=\"purchasePrice\",\n",
    "    loglog=True,\n",
    "    title=\"Outlier detection sale\",\n",
    "    color=\"C1\",\n",
    "    label=\"Outlier\",\n",
    "    s=10,\n",
    "    ax=ax,\n",
    ")\n",
    "sale_inlier_df.plot.scatter(\n",
    "    x=\"livingSpace\", y=\"purchasePrice\", color=\"C0\", label=\"Inlier\", s=10, ax=ax\n",
    ")\n",
    "fig.savefig(\"sale_outlier.png\")"
   ]
  },
  {
   "cell_type": "markdown",
   "metadata": {},
   "source": [
    "## 3) Results"
   ]
  },
  {
   "cell_type": "markdown",
   "metadata": {},
   "source": [
    "### 3.1) Best ROI nationally"
   ]
  },
  {
   "cell_type": "markdown",
   "metadata": {},
   "source": [
    "#### Outlier:"
   ]
  },
  {
   "cell_type": "code",
   "execution_count": 14,
   "metadata": {
    "scrolled": false
   },
   "outputs": [
    {
     "data": {
      "text/html": [
       "<style  type=\"text/css\" >\n",
       "</style><table id=\"T_b5ab5264_c45a_11ea_96ba_a820662273d6\" ><thead>    <tr>        <th class=\"blank level0\" ></th>        <th class=\"col_heading level0 col0\" >yearly_ROI</th>        <th class=\"col_heading level0 col1\" >price_m2</th>        <th class=\"col_heading level0 col2\" >purchasePrice</th>        <th class=\"col_heading level0 col3\" >livingSpace</th>        <th class=\"col_heading level0 col4\" >noRooms</th>        <th class=\"col_heading level0 col5\" >zipCode</th>        <th class=\"col_heading level0 col6\" >rent_m2_zC</th>        <th class=\"col_heading level0 col7\" >regio2</th>        <th class=\"col_heading level0 col8\" >link</th>    </tr></thead><tbody>\n",
       "                <tr>\n",
       "                        <th id=\"T_b5ab5264_c45a_11ea_96ba_a820662273d6level0_row0\" class=\"row_heading level0 row0\" >30455</th>\n",
       "                        <td id=\"T_b5ab5264_c45a_11ea_96ba_a820662273d6row0_col0\" class=\"data row0 col0\" >13721.54</td>\n",
       "                        <td id=\"T_b5ab5264_c45a_11ea_96ba_a820662273d6row0_col1\" class=\"data row0 col1\" >0.01</td>\n",
       "                        <td id=\"T_b5ab5264_c45a_11ea_96ba_a820662273d6row0_col2\" class=\"data row0 col2\" >1.00</td>\n",
       "                        <td id=\"T_b5ab5264_c45a_11ea_96ba_a820662273d6row0_col3\" class=\"data row0 col3\" >133.00</td>\n",
       "                        <td id=\"T_b5ab5264_c45a_11ea_96ba_a820662273d6row0_col4\" class=\"data row0 col4\" >3.00</td>\n",
       "                        <td id=\"T_b5ab5264_c45a_11ea_96ba_a820662273d6row0_col5\" class=\"data row0 col5\" >27793</td>\n",
       "                        <td id=\"T_b5ab5264_c45a_11ea_96ba_a820662273d6row0_col6\" class=\"data row0 col6\" >8.60</td>\n",
       "                        <td id=\"T_b5ab5264_c45a_11ea_96ba_a820662273d6row0_col7\" class=\"data row0 col7\" >Oldenburg_Kreis</td>\n",
       "                        <td id=\"T_b5ab5264_c45a_11ea_96ba_a820662273d6row0_col8\" class=\"data row0 col8\" ><a target=\"_blank\" href=\"https://www.immobilienscout24.de/expose/116978696\">https://www.immobilienscout24.de/expose/116978696</a></td>\n",
       "            </tr>\n",
       "            <tr>\n",
       "                        <th id=\"T_b5ab5264_c45a_11ea_96ba_a820662273d6level0_row1\" class=\"row_heading level0 row1\" >3899</th>\n",
       "                        <td id=\"T_b5ab5264_c45a_11ea_96ba_a820662273d6row1_col0\" class=\"data row1 col0\" >20.40</td>\n",
       "                        <td id=\"T_b5ab5264_c45a_11ea_96ba_a820662273d6row1_col1\" class=\"data row1 col1\" >4.57</td>\n",
       "                        <td id=\"T_b5ab5264_c45a_11ea_96ba_a820662273d6row1_col2\" class=\"data row1 col2\" >599000.00</td>\n",
       "                        <td id=\"T_b5ab5264_c45a_11ea_96ba_a820662273d6row1_col3\" class=\"data row1 col3\" >131000.00</td>\n",
       "                        <td id=\"T_b5ab5264_c45a_11ea_96ba_a820662273d6row1_col4\" class=\"data row1 col4\" >3.00</td>\n",
       "                        <td id=\"T_b5ab5264_c45a_11ea_96ba_a820662273d6row1_col5\" class=\"data row1 col5\" >19055</td>\n",
       "                        <td id=\"T_b5ab5264_c45a_11ea_96ba_a820662273d6row1_col6\" class=\"data row1 col6\" >7.77</td>\n",
       "                        <td id=\"T_b5ab5264_c45a_11ea_96ba_a820662273d6row1_col7\" class=\"data row1 col7\" >Schwerin</td>\n",
       "                        <td id=\"T_b5ab5264_c45a_11ea_96ba_a820662273d6row1_col8\" class=\"data row1 col8\" ><a target=\"_blank\" href=\"https://www.immobilienscout24.de/expose/115364610\">https://www.immobilienscout24.de/expose/115364610</a></td>\n",
       "            </tr>\n",
       "            <tr>\n",
       "                        <th id=\"T_b5ab5264_c45a_11ea_96ba_a820662273d6level0_row2\" class=\"row_heading level0 row2\" >31265</th>\n",
       "                        <td id=\"T_b5ab5264_c45a_11ea_96ba_a820662273d6row2_col0\" class=\"data row2 col0\" >10.44</td>\n",
       "                        <td id=\"T_b5ab5264_c45a_11ea_96ba_a820662273d6row2_col1\" class=\"data row2 col1\" >7.98</td>\n",
       "                        <td id=\"T_b5ab5264_c45a_11ea_96ba_a820662273d6row2_col2\" class=\"data row2 col2\" >500.00</td>\n",
       "                        <td id=\"T_b5ab5264_c45a_11ea_96ba_a820662273d6row2_col3\" class=\"data row2 col3\" >62.66</td>\n",
       "                        <td id=\"T_b5ab5264_c45a_11ea_96ba_a820662273d6row2_col4\" class=\"data row2 col4\" >3.00</td>\n",
       "                        <td id=\"T_b5ab5264_c45a_11ea_96ba_a820662273d6row2_col5\" class=\"data row2 col5\" >31698</td>\n",
       "                        <td id=\"T_b5ab5264_c45a_11ea_96ba_a820662273d6row2_col6\" class=\"data row2 col6\" >6.94</td>\n",
       "                        <td id=\"T_b5ab5264_c45a_11ea_96ba_a820662273d6row2_col7\" class=\"data row2 col7\" >Schaumburg_Kreis</td>\n",
       "                        <td id=\"T_b5ab5264_c45a_11ea_96ba_a820662273d6row2_col8\" class=\"data row2 col8\" ><a target=\"_blank\" href=\"https://www.immobilienscout24.de/expose/116556571\">https://www.immobilienscout24.de/expose/116556571</a></td>\n",
       "            </tr>\n",
       "            <tr>\n",
       "                        <th id=\"T_b5ab5264_c45a_11ea_96ba_a820662273d6level0_row3\" class=\"row_heading level0 row3\" >32748</th>\n",
       "                        <td id=\"T_b5ab5264_c45a_11ea_96ba_a820662273d6row3_col0\" class=\"data row3 col0\" >4.77</td>\n",
       "                        <td id=\"T_b5ab5264_c45a_11ea_96ba_a820662273d6row3_col1\" class=\"data row3 col1\" >12.58</td>\n",
       "                        <td id=\"T_b5ab5264_c45a_11ea_96ba_a820662273d6row3_col2\" class=\"data row3 col2\" >4000.00</td>\n",
       "                        <td id=\"T_b5ab5264_c45a_11ea_96ba_a820662273d6row3_col3\" class=\"data row3 col3\" >318.00</td>\n",
       "                        <td id=\"T_b5ab5264_c45a_11ea_96ba_a820662273d6row3_col4\" class=\"data row3 col4\" >10.00</td>\n",
       "                        <td id=\"T_b5ab5264_c45a_11ea_96ba_a820662273d6row3_col5\" class=\"data row3 col5\" >4639</td>\n",
       "                        <td id=\"T_b5ab5264_c45a_11ea_96ba_a820662273d6row3_col6\" class=\"data row3 col6\" >5.00</td>\n",
       "                        <td id=\"T_b5ab5264_c45a_11ea_96ba_a820662273d6row3_col7\" class=\"data row3 col7\" >Altenburger_Land_Kreis</td>\n",
       "                        <td id=\"T_b5ab5264_c45a_11ea_96ba_a820662273d6row3_col8\" class=\"data row3 col8\" ><a target=\"_blank\" href=\"https://www.immobilienscout24.de/expose/115369915\">https://www.immobilienscout24.de/expose/115369915</a></td>\n",
       "            </tr>\n",
       "            <tr>\n",
       "                        <th id=\"T_b5ab5264_c45a_11ea_96ba_a820662273d6level0_row4\" class=\"row_heading level0 row4\" >35693</th>\n",
       "                        <td id=\"T_b5ab5264_c45a_11ea_96ba_a820662273d6row4_col0\" class=\"data row4 col0\" >3.89</td>\n",
       "                        <td id=\"T_b5ab5264_c45a_11ea_96ba_a820662273d6row4_col1\" class=\"data row4 col1\" >26.67</td>\n",
       "                        <td id=\"T_b5ab5264_c45a_11ea_96ba_a820662273d6row4_col2\" class=\"data row4 col2\" >800.00</td>\n",
       "                        <td id=\"T_b5ab5264_c45a_11ea_96ba_a820662273d6row4_col3\" class=\"data row4 col3\" >30.00</td>\n",
       "                        <td id=\"T_b5ab5264_c45a_11ea_96ba_a820662273d6row4_col4\" class=\"data row4 col4\" >1.00</td>\n",
       "                        <td id=\"T_b5ab5264_c45a_11ea_96ba_a820662273d6row4_col5\" class=\"data row4 col5\" >49152</td>\n",
       "                        <td id=\"T_b5ab5264_c45a_11ea_96ba_a820662273d6row4_col6\" class=\"data row4 col6\" >8.64</td>\n",
       "                        <td id=\"T_b5ab5264_c45a_11ea_96ba_a820662273d6row4_col7\" class=\"data row4 col7\" >Osnabrück_Kreis</td>\n",
       "                        <td id=\"T_b5ab5264_c45a_11ea_96ba_a820662273d6row4_col8\" class=\"data row4 col8\" ><a target=\"_blank\" href=\"https://www.immobilienscout24.de/expose/105011041\">https://www.immobilienscout24.de/expose/105011041</a></td>\n",
       "            </tr>\n",
       "            <tr>\n",
       "                        <th id=\"T_b5ab5264_c45a_11ea_96ba_a820662273d6level0_row5\" class=\"row_heading level0 row5\" >35737</th>\n",
       "                        <td id=\"T_b5ab5264_c45a_11ea_96ba_a820662273d6row5_col0\" class=\"data row5 col0\" >3.21</td>\n",
       "                        <td id=\"T_b5ab5264_c45a_11ea_96ba_a820662273d6row5_col1\" class=\"data row5 col1\" >18.68</td>\n",
       "                        <td id=\"T_b5ab5264_c45a_11ea_96ba_a820662273d6row5_col2\" class=\"data row5 col2\" >1850000.00</td>\n",
       "                        <td id=\"T_b5ab5264_c45a_11ea_96ba_a820662273d6row5_col3\" class=\"data row5 col3\" >99015.00</td>\n",
       "                        <td id=\"T_b5ab5264_c45a_11ea_96ba_a820662273d6row5_col4\" class=\"data row5 col4\" >1.00</td>\n",
       "                        <td id=\"T_b5ab5264_c45a_11ea_96ba_a820662273d6row5_col5\" class=\"data row5 col5\" >6385</td>\n",
       "                        <td id=\"T_b5ab5264_c45a_11ea_96ba_a820662273d6row5_col6\" class=\"data row5 col6\" >5.00</td>\n",
       "                        <td id=\"T_b5ab5264_c45a_11ea_96ba_a820662273d6row5_col7\" class=\"data row5 col7\" >Anhalt_Bitterfeld_Kreis</td>\n",
       "                        <td id=\"T_b5ab5264_c45a_11ea_96ba_a820662273d6row5_col8\" class=\"data row5 col8\" ><a target=\"_blank\" href=\"https://www.immobilienscout24.de/expose/104440723\">https://www.immobilienscout24.de/expose/104440723</a></td>\n",
       "            </tr>\n",
       "            <tr>\n",
       "                        <th id=\"T_b5ab5264_c45a_11ea_96ba_a820662273d6level0_row6\" class=\"row_heading level0 row6\" >6313</th>\n",
       "                        <td id=\"T_b5ab5264_c45a_11ea_96ba_a820662273d6row6_col0\" class=\"data row6 col0\" >2.91</td>\n",
       "                        <td id=\"T_b5ab5264_c45a_11ea_96ba_a820662273d6row6_col1\" class=\"data row6 col1\" >42.40</td>\n",
       "                        <td id=\"T_b5ab5264_c45a_11ea_96ba_a820662273d6row6_col2\" class=\"data row6 col2\" >3000.00</td>\n",
       "                        <td id=\"T_b5ab5264_c45a_11ea_96ba_a820662273d6row6_col3\" class=\"data row6 col3\" >70.76</td>\n",
       "                        <td id=\"T_b5ab5264_c45a_11ea_96ba_a820662273d6row6_col4\" class=\"data row6 col4\" >3.00</td>\n",
       "                        <td id=\"T_b5ab5264_c45a_11ea_96ba_a820662273d6row6_col5\" class=\"data row6 col5\" >17489</td>\n",
       "                        <td id=\"T_b5ab5264_c45a_11ea_96ba_a820662273d6row6_col6\" class=\"data row6 col6\" >10.27</td>\n",
       "                        <td id=\"T_b5ab5264_c45a_11ea_96ba_a820662273d6row6_col7\" class=\"data row6 col7\" >Greifswald</td>\n",
       "                        <td id=\"T_b5ab5264_c45a_11ea_96ba_a820662273d6row6_col8\" class=\"data row6 col8\" ><a target=\"_blank\" href=\"https://www.immobilienscout24.de/expose/120418469\">https://www.immobilienscout24.de/expose/120418469</a></td>\n",
       "            </tr>\n",
       "            <tr>\n",
       "                        <th id=\"T_b5ab5264_c45a_11ea_96ba_a820662273d6level0_row7\" class=\"row_heading level0 row7\" >26130</th>\n",
       "                        <td id=\"T_b5ab5264_c45a_11ea_96ba_a820662273d6row7_col0\" class=\"data row7 col0\" >2.58</td>\n",
       "                        <td id=\"T_b5ab5264_c45a_11ea_96ba_a820662273d6row7_col1\" class=\"data row7 col1\" >57.03</td>\n",
       "                        <td id=\"T_b5ab5264_c45a_11ea_96ba_a820662273d6row7_col2\" class=\"data row7 col2\" >534801.00</td>\n",
       "                        <td id=\"T_b5ab5264_c45a_11ea_96ba_a820662273d6row7_col3\" class=\"data row7 col3\" >9377.00</td>\n",
       "                        <td id=\"T_b5ab5264_c45a_11ea_96ba_a820662273d6row7_col4\" class=\"data row7 col4\" >4.00</td>\n",
       "                        <td id=\"T_b5ab5264_c45a_11ea_96ba_a820662273d6row7_col5\" class=\"data row7 col5\" >90766</td>\n",
       "                        <td id=\"T_b5ab5264_c45a_11ea_96ba_a820662273d6row7_col6\" class=\"data row7 col6\" >12.27</td>\n",
       "                        <td id=\"T_b5ab5264_c45a_11ea_96ba_a820662273d6row7_col7\" class=\"data row7 col7\" >Fürth</td>\n",
       "                        <td id=\"T_b5ab5264_c45a_11ea_96ba_a820662273d6row7_col8\" class=\"data row7 col8\" ><a target=\"_blank\" href=\"https://www.immobilienscout24.de/expose/119423700\">https://www.immobilienscout24.de/expose/119423700</a></td>\n",
       "            </tr>\n",
       "            <tr>\n",
       "                        <th id=\"T_b5ab5264_c45a_11ea_96ba_a820662273d6level0_row8\" class=\"row_heading level0 row8\" >31552</th>\n",
       "                        <td id=\"T_b5ab5264_c45a_11ea_96ba_a820662273d6row8_col0\" class=\"data row8 col0\" >1.35</td>\n",
       "                        <td id=\"T_b5ab5264_c45a_11ea_96ba_a820662273d6row8_col1\" class=\"data row8 col1\" >34.48</td>\n",
       "                        <td id=\"T_b5ab5264_c45a_11ea_96ba_a820662273d6row8_col2\" class=\"data row8 col2\" >2000.00</td>\n",
       "                        <td id=\"T_b5ab5264_c45a_11ea_96ba_a820662273d6row8_col3\" class=\"data row8 col3\" >58.00</td>\n",
       "                        <td id=\"T_b5ab5264_c45a_11ea_96ba_a820662273d6row8_col4\" class=\"data row8 col4\" >3.00</td>\n",
       "                        <td id=\"T_b5ab5264_c45a_11ea_96ba_a820662273d6row8_col5\" class=\"data row8 col5\" >6647</td>\n",
       "                        <td id=\"T_b5ab5264_c45a_11ea_96ba_a820662273d6row8_col6\" class=\"data row8 col6\" >3.87</td>\n",
       "                        <td id=\"T_b5ab5264_c45a_11ea_96ba_a820662273d6row8_col7\" class=\"data row8 col7\" >Burgenlandkreis</td>\n",
       "                        <td id=\"T_b5ab5264_c45a_11ea_96ba_a820662273d6row8_col8\" class=\"data row8 col8\" ><a target=\"_blank\" href=\"https://www.immobilienscout24.de/expose/116330431\">https://www.immobilienscout24.de/expose/116330431</a></td>\n",
       "            </tr>\n",
       "            <tr>\n",
       "                        <th id=\"T_b5ab5264_c45a_11ea_96ba_a820662273d6level0_row9\" class=\"row_heading level0 row9\" >34722</th>\n",
       "                        <td id=\"T_b5ab5264_c45a_11ea_96ba_a820662273d6row9_col0\" class=\"data row9 col0\" >1.15</td>\n",
       "                        <td id=\"T_b5ab5264_c45a_11ea_96ba_a820662273d6row9_col1\" class=\"data row9 col1\" >54.55</td>\n",
       "                        <td id=\"T_b5ab5264_c45a_11ea_96ba_a820662273d6row9_col2\" class=\"data row9 col2\" >3000.00</td>\n",
       "                        <td id=\"T_b5ab5264_c45a_11ea_96ba_a820662273d6row9_col3\" class=\"data row9 col3\" >55.00</td>\n",
       "                        <td id=\"T_b5ab5264_c45a_11ea_96ba_a820662273d6row9_col4\" class=\"data row9 col4\" >2.00</td>\n",
       "                        <td id=\"T_b5ab5264_c45a_11ea_96ba_a820662273d6row9_col5\" class=\"data row9 col5\" >1589</td>\n",
       "                        <td id=\"T_b5ab5264_c45a_11ea_96ba_a820662273d6row9_col6\" class=\"data row9 col6\" >5.24</td>\n",
       "                        <td id=\"T_b5ab5264_c45a_11ea_96ba_a820662273d6row9_col7\" class=\"data row9 col7\" >Meißen_Kreis</td>\n",
       "                        <td id=\"T_b5ab5264_c45a_11ea_96ba_a820662273d6row9_col8\" class=\"data row9 col8\" ><a target=\"_blank\" href=\"https://www.immobilienscout24.de/expose/112390320\">https://www.immobilienscout24.de/expose/112390320</a></td>\n",
       "            </tr>\n",
       "    </tbody></table>"
      ],
      "text/plain": [
       "<pandas.io.formats.style.Styler at 0x12f50c490>"
      ]
     },
     "execution_count": 14,
     "metadata": {},
     "output_type": "execute_result"
    },
    {
     "data": {
      "application/javascript": [
       "\n",
       "            setTimeout(function() {\n",
       "                var nbb_cell_id = 14;\n",
       "                var nbb_unformatted_code = \"df_show = sale_outlier_df.sort_values(\\\"yearly_ROI\\\", ascending=False).head(10)\\ndf_show.style.format({\\\"link\\\": dproc.make_clickable})\";\n",
       "                var nbb_formatted_code = \"df_show = sale_outlier_df.sort_values(\\\"yearly_ROI\\\", ascending=False).head(10)\\ndf_show.style.format({\\\"link\\\": dproc.make_clickable})\";\n",
       "                var nbb_cells = Jupyter.notebook.get_cells();\n",
       "                for (var i = 0; i < nbb_cells.length; ++i) {\n",
       "                    if (nbb_cells[i].input_prompt_number == nbb_cell_id) {\n",
       "                        if (nbb_cells[i].get_text() == nbb_unformatted_code) {\n",
       "                             nbb_cells[i].set_text(nbb_formatted_code);\n",
       "                        }\n",
       "                        break;\n",
       "                    }\n",
       "                }\n",
       "            }, 500);\n",
       "            "
      ],
      "text/plain": [
       "<IPython.core.display.Javascript object>"
      ]
     },
     "metadata": {},
     "output_type": "display_data"
    }
   ],
   "source": [
    "df_show = sale_outlier_df.sort_values(\"yearly_ROI\", ascending=False).head(10)\n",
    "df_show.style.format({\"link\": dproc.make_clickable})"
   ]
  },
  {
   "cell_type": "markdown",
   "metadata": {},
   "source": [
    "#### Inlier:"
   ]
  },
  {
   "cell_type": "code",
   "execution_count": 15,
   "metadata": {},
   "outputs": [
    {
     "data": {
      "text/html": [
       "<style  type=\"text/css\" >\n",
       "</style><table id=\"T_b5afe266_c45a_11ea_96ba_a820662273d6\" ><thead>    <tr>        <th class=\"blank level0\" ></th>        <th class=\"col_heading level0 col0\" >yearly_ROI</th>        <th class=\"col_heading level0 col1\" >price_m2</th>        <th class=\"col_heading level0 col2\" >purchasePrice</th>        <th class=\"col_heading level0 col3\" >livingSpace</th>        <th class=\"col_heading level0 col4\" >noRooms</th>        <th class=\"col_heading level0 col5\" >zipCode</th>        <th class=\"col_heading level0 col6\" >rent_m2_zC</th>        <th class=\"col_heading level0 col7\" >regio2</th>        <th class=\"col_heading level0 col8\" >link</th>    </tr></thead><tbody>\n",
       "                <tr>\n",
       "                        <th id=\"T_b5afe266_c45a_11ea_96ba_a820662273d6level0_row0\" class=\"row_heading level0 row0\" >6314</th>\n",
       "                        <td id=\"T_b5afe266_c45a_11ea_96ba_a820662273d6row0_col0\" class=\"data row0 col0\" >0.52</td>\n",
       "                        <td id=\"T_b5afe266_c45a_11ea_96ba_a820662273d6row0_col1\" class=\"data row0 col1\" >154.05</td>\n",
       "                        <td id=\"T_b5afe266_c45a_11ea_96ba_a820662273d6row0_col2\" class=\"data row0 col2\" >5700.00</td>\n",
       "                        <td id=\"T_b5afe266_c45a_11ea_96ba_a820662273d6row0_col3\" class=\"data row0 col3\" >37.00</td>\n",
       "                        <td id=\"T_b5afe266_c45a_11ea_96ba_a820662273d6row0_col4\" class=\"data row0 col4\" >1.00</td>\n",
       "                        <td id=\"T_b5afe266_c45a_11ea_96ba_a820662273d6row0_col5\" class=\"data row0 col5\" >42107</td>\n",
       "                        <td id=\"T_b5afe266_c45a_11ea_96ba_a820662273d6row0_col6\" class=\"data row0 col6\" >6.67</td>\n",
       "                        <td id=\"T_b5afe266_c45a_11ea_96ba_a820662273d6row0_col7\" class=\"data row0 col7\" >Wuppertal</td>\n",
       "                        <td id=\"T_b5afe266_c45a_11ea_96ba_a820662273d6row0_col8\" class=\"data row0 col8\" ><a target=\"_blank\" href=\"https://www.immobilienscout24.de/expose/120418484\">https://www.immobilienscout24.de/expose/120418484</a></td>\n",
       "            </tr>\n",
       "            <tr>\n",
       "                        <th id=\"T_b5afe266_c45a_11ea_96ba_a820662273d6level0_row1\" class=\"row_heading level0 row1\" >6335</th>\n",
       "                        <td id=\"T_b5afe266_c45a_11ea_96ba_a820662273d6row1_col0\" class=\"data row1 col0\" >0.46</td>\n",
       "                        <td id=\"T_b5afe266_c45a_11ea_96ba_a820662273d6row1_col1\" class=\"data row1 col1\" >247.34</td>\n",
       "                        <td id=\"T_b5afe266_c45a_11ea_96ba_a820662273d6row1_col2\" class=\"data row1 col2\" >13000.00</td>\n",
       "                        <td id=\"T_b5afe266_c45a_11ea_96ba_a820662273d6row1_col3\" class=\"data row1 col3\" >52.56</td>\n",
       "                        <td id=\"T_b5afe266_c45a_11ea_96ba_a820662273d6row1_col4\" class=\"data row1 col4\" >3.00</td>\n",
       "                        <td id=\"T_b5afe266_c45a_11ea_96ba_a820662273d6row1_col5\" class=\"data row1 col5\" >25813</td>\n",
       "                        <td id=\"T_b5afe266_c45a_11ea_96ba_a820662273d6row1_col6\" class=\"data row1 col6\" >9.42</td>\n",
       "                        <td id=\"T_b5afe266_c45a_11ea_96ba_a820662273d6row1_col7\" class=\"data row1 col7\" >Nordfriesland_Kreis</td>\n",
       "                        <td id=\"T_b5afe266_c45a_11ea_96ba_a820662273d6row1_col8\" class=\"data row1 col8\" ><a target=\"_blank\" href=\"https://www.immobilienscout24.de/expose/120418377\">https://www.immobilienscout24.de/expose/120418377</a></td>\n",
       "            </tr>\n",
       "            <tr>\n",
       "                        <th id=\"T_b5afe266_c45a_11ea_96ba_a820662273d6level0_row2\" class=\"row_heading level0 row2\" >15975</th>\n",
       "                        <td id=\"T_b5afe266_c45a_11ea_96ba_a820662273d6row2_col0\" class=\"data row2 col0\" >0.43</td>\n",
       "                        <td id=\"T_b5afe266_c45a_11ea_96ba_a820662273d6row2_col1\" class=\"data row2 col1\" >198.02</td>\n",
       "                        <td id=\"T_b5afe266_c45a_11ea_96ba_a820662273d6row2_col2\" class=\"data row2 col2\" >20000.00</td>\n",
       "                        <td id=\"T_b5afe266_c45a_11ea_96ba_a820662273d6row2_col3\" class=\"data row2 col3\" >101.00</td>\n",
       "                        <td id=\"T_b5afe266_c45a_11ea_96ba_a820662273d6row2_col4\" class=\"data row2 col4\" >4.00</td>\n",
       "                        <td id=\"T_b5afe266_c45a_11ea_96ba_a820662273d6row2_col5\" class=\"data row2 col5\" >34127</td>\n",
       "                        <td id=\"T_b5afe266_c45a_11ea_96ba_a820662273d6row2_col6\" class=\"data row2 col6\" >7.16</td>\n",
       "                        <td id=\"T_b5afe266_c45a_11ea_96ba_a820662273d6row2_col7\" class=\"data row2 col7\" >Kassel</td>\n",
       "                        <td id=\"T_b5afe266_c45a_11ea_96ba_a820662273d6row2_col8\" class=\"data row2 col8\" ><a target=\"_blank\" href=\"https://www.immobilienscout24.de/expose/119360686\">https://www.immobilienscout24.de/expose/119360686</a></td>\n",
       "            </tr>\n",
       "            <tr>\n",
       "                        <th id=\"T_b5afe266_c45a_11ea_96ba_a820662273d6level0_row3\" class=\"row_heading level0 row3\" >6324</th>\n",
       "                        <td id=\"T_b5afe266_c45a_11ea_96ba_a820662273d6row3_col0\" class=\"data row3 col0\" >0.43</td>\n",
       "                        <td id=\"T_b5afe266_c45a_11ea_96ba_a820662273d6row3_col1\" class=\"data row3 col1\" >262.32</td>\n",
       "                        <td id=\"T_b5afe266_c45a_11ea_96ba_a820662273d6row3_col2\" class=\"data row3 col2\" >14000.00</td>\n",
       "                        <td id=\"T_b5afe266_c45a_11ea_96ba_a820662273d6row3_col3\" class=\"data row3 col3\" >53.37</td>\n",
       "                        <td id=\"T_b5afe266_c45a_11ea_96ba_a820662273d6row3_col4\" class=\"data row3 col4\" >3.00</td>\n",
       "                        <td id=\"T_b5afe266_c45a_11ea_96ba_a820662273d6row3_col5\" class=\"data row3 col5\" >25813</td>\n",
       "                        <td id=\"T_b5afe266_c45a_11ea_96ba_a820662273d6row3_col6\" class=\"data row3 col6\" >9.42</td>\n",
       "                        <td id=\"T_b5afe266_c45a_11ea_96ba_a820662273d6row3_col7\" class=\"data row3 col7\" >Nordfriesland_Kreis</td>\n",
       "                        <td id=\"T_b5afe266_c45a_11ea_96ba_a820662273d6row3_col8\" class=\"data row3 col8\" ><a target=\"_blank\" href=\"https://www.immobilienscout24.de/expose/120418378\">https://www.immobilienscout24.de/expose/120418378</a></td>\n",
       "            </tr>\n",
       "            <tr>\n",
       "                        <th id=\"T_b5afe266_c45a_11ea_96ba_a820662273d6level0_row4\" class=\"row_heading level0 row4\" >6330</th>\n",
       "                        <td id=\"T_b5afe266_c45a_11ea_96ba_a820662273d6row4_col0\" class=\"data row4 col0\" >0.43</td>\n",
       "                        <td id=\"T_b5afe266_c45a_11ea_96ba_a820662273d6row4_col1\" class=\"data row4 col1\" >264.75</td>\n",
       "                        <td id=\"T_b5afe266_c45a_11ea_96ba_a820662273d6row4_col2\" class=\"data row4 col2\" >14000.00</td>\n",
       "                        <td id=\"T_b5afe266_c45a_11ea_96ba_a820662273d6row4_col3\" class=\"data row4 col3\" >52.88</td>\n",
       "                        <td id=\"T_b5afe266_c45a_11ea_96ba_a820662273d6row4_col4\" class=\"data row4 col4\" >3.00</td>\n",
       "                        <td id=\"T_b5afe266_c45a_11ea_96ba_a820662273d6row4_col5\" class=\"data row4 col5\" >25813</td>\n",
       "                        <td id=\"T_b5afe266_c45a_11ea_96ba_a820662273d6row4_col6\" class=\"data row4 col6\" >9.42</td>\n",
       "                        <td id=\"T_b5afe266_c45a_11ea_96ba_a820662273d6row4_col7\" class=\"data row4 col7\" >Nordfriesland_Kreis</td>\n",
       "                        <td id=\"T_b5afe266_c45a_11ea_96ba_a820662273d6row4_col8\" class=\"data row4 col8\" ><a target=\"_blank\" href=\"https://www.immobilienscout24.de/expose/120418379\">https://www.immobilienscout24.de/expose/120418379</a></td>\n",
       "            </tr>\n",
       "            <tr>\n",
       "                        <th id=\"T_b5afe266_c45a_11ea_96ba_a820662273d6level0_row5\" class=\"row_heading level0 row5\" >6333</th>\n",
       "                        <td id=\"T_b5afe266_c45a_11ea_96ba_a820662273d6row5_col0\" class=\"data row5 col0\" >0.39</td>\n",
       "                        <td id=\"T_b5afe266_c45a_11ea_96ba_a820662273d6row5_col1\" class=\"data row5 col1\" >195.59</td>\n",
       "                        <td id=\"T_b5afe266_c45a_11ea_96ba_a820662273d6row5_col2\" class=\"data row5 col2\" >13300.00</td>\n",
       "                        <td id=\"T_b5afe266_c45a_11ea_96ba_a820662273d6row5_col3\" class=\"data row5 col3\" >68.00</td>\n",
       "                        <td id=\"T_b5afe266_c45a_11ea_96ba_a820662273d6row5_col4\" class=\"data row5 col4\" >2.00</td>\n",
       "                        <td id=\"T_b5afe266_c45a_11ea_96ba_a820662273d6row5_col5\" class=\"data row5 col5\" >47198</td>\n",
       "                        <td id=\"T_b5afe266_c45a_11ea_96ba_a820662273d6row5_col6\" class=\"data row5 col6\" >6.29</td>\n",
       "                        <td id=\"T_b5afe266_c45a_11ea_96ba_a820662273d6row5_col7\" class=\"data row5 col7\" >Duisburg</td>\n",
       "                        <td id=\"T_b5afe266_c45a_11ea_96ba_a820662273d6row5_col8\" class=\"data row5 col8\" ><a target=\"_blank\" href=\"https://www.immobilienscout24.de/expose/120418131\">https://www.immobilienscout24.de/expose/120418131</a></td>\n",
       "            </tr>\n",
       "            <tr>\n",
       "                        <th id=\"T_b5afe266_c45a_11ea_96ba_a820662273d6level0_row6\" class=\"row_heading level0 row6\" >8862</th>\n",
       "                        <td id=\"T_b5afe266_c45a_11ea_96ba_a820662273d6row6_col0\" class=\"data row6 col0\" >0.37</td>\n",
       "                        <td id=\"T_b5afe266_c45a_11ea_96ba_a820662273d6row6_col1\" class=\"data row6 col1\" >208.33</td>\n",
       "                        <td id=\"T_b5afe266_c45a_11ea_96ba_a820662273d6row6_col2\" class=\"data row6 col2\" >10000.00</td>\n",
       "                        <td id=\"T_b5afe266_c45a_11ea_96ba_a820662273d6row6_col3\" class=\"data row6 col3\" >48.00</td>\n",
       "                        <td id=\"T_b5afe266_c45a_11ea_96ba_a820662273d6row6_col4\" class=\"data row6 col4\" >3.00</td>\n",
       "                        <td id=\"T_b5afe266_c45a_11ea_96ba_a820662273d6row6_col5\" class=\"data row6 col5\" >94253</td>\n",
       "                        <td id=\"T_b5afe266_c45a_11ea_96ba_a820662273d6row6_col6\" class=\"data row6 col6\" >6.50</td>\n",
       "                        <td id=\"T_b5afe266_c45a_11ea_96ba_a820662273d6row6_col7\" class=\"data row6 col7\" >Regen_Kreis</td>\n",
       "                        <td id=\"T_b5afe266_c45a_11ea_96ba_a820662273d6row6_col8\" class=\"data row6 col8\" ><a target=\"_blank\" href=\"https://www.immobilienscout24.de/expose/85896472\">https://www.immobilienscout24.de/expose/85896472</a></td>\n",
       "            </tr>\n",
       "            <tr>\n",
       "                        <th id=\"T_b5afe266_c45a_11ea_96ba_a820662273d6level0_row7\" class=\"row_heading level0 row7\" >14765</th>\n",
       "                        <td id=\"T_b5afe266_c45a_11ea_96ba_a820662273d6row7_col0\" class=\"data row7 col0\" >0.37</td>\n",
       "                        <td id=\"T_b5afe266_c45a_11ea_96ba_a820662273d6row7_col1\" class=\"data row7 col1\" >210.53</td>\n",
       "                        <td id=\"T_b5afe266_c45a_11ea_96ba_a820662273d6row7_col2\" class=\"data row7 col2\" >8000.00</td>\n",
       "                        <td id=\"T_b5afe266_c45a_11ea_96ba_a820662273d6row7_col3\" class=\"data row7 col3\" >38.00</td>\n",
       "                        <td id=\"T_b5afe266_c45a_11ea_96ba_a820662273d6row7_col4\" class=\"data row7 col4\" >2.00</td>\n",
       "                        <td id=\"T_b5afe266_c45a_11ea_96ba_a820662273d6row7_col5\" class=\"data row7 col5\" >94253</td>\n",
       "                        <td id=\"T_b5afe266_c45a_11ea_96ba_a820662273d6row7_col6\" class=\"data row7 col6\" >6.50</td>\n",
       "                        <td id=\"T_b5afe266_c45a_11ea_96ba_a820662273d6row7_col7\" class=\"data row7 col7\" >Regen_Kreis</td>\n",
       "                        <td id=\"T_b5afe266_c45a_11ea_96ba_a820662273d6row7_col8\" class=\"data row7 col8\" ><a target=\"_blank\" href=\"https://www.immobilienscout24.de/expose/113269455\">https://www.immobilienscout24.de/expose/113269455</a></td>\n",
       "            </tr>\n",
       "            <tr>\n",
       "                        <th id=\"T_b5afe266_c45a_11ea_96ba_a820662273d6level0_row8\" class=\"row_heading level0 row8\" >18087</th>\n",
       "                        <td id=\"T_b5afe266_c45a_11ea_96ba_a820662273d6row8_col0\" class=\"data row8 col0\" >0.36</td>\n",
       "                        <td id=\"T_b5afe266_c45a_11ea_96ba_a820662273d6row8_col1\" class=\"data row8 col1\" >235.00</td>\n",
       "                        <td id=\"T_b5afe266_c45a_11ea_96ba_a820662273d6row8_col2\" class=\"data row8 col2\" >23500.00</td>\n",
       "                        <td id=\"T_b5afe266_c45a_11ea_96ba_a820662273d6row8_col3\" class=\"data row8 col3\" >100.00</td>\n",
       "                        <td id=\"T_b5afe266_c45a_11ea_96ba_a820662273d6row8_col4\" class=\"data row8 col4\" >3.00</td>\n",
       "                        <td id=\"T_b5afe266_c45a_11ea_96ba_a820662273d6row8_col5\" class=\"data row8 col5\" >67466</td>\n",
       "                        <td id=\"T_b5afe266_c45a_11ea_96ba_a820662273d6row8_col6\" class=\"data row8 col6\" >7.13</td>\n",
       "                        <td id=\"T_b5afe266_c45a_11ea_96ba_a820662273d6row8_col7\" class=\"data row8 col7\" >Bad_Dürkheim_Kreis</td>\n",
       "                        <td id=\"T_b5afe266_c45a_11ea_96ba_a820662273d6row8_col8\" class=\"data row8 col8\" ><a target=\"_blank\" href=\"https://www.immobilienscout24.de/expose/112930756\">https://www.immobilienscout24.de/expose/112930756</a></td>\n",
       "            </tr>\n",
       "            <tr>\n",
       "                        <th id=\"T_b5afe266_c45a_11ea_96ba_a820662273d6level0_row9\" class=\"row_heading level0 row9\" >5511</th>\n",
       "                        <td id=\"T_b5afe266_c45a_11ea_96ba_a820662273d6row9_col0\" class=\"data row9 col0\" >0.36</td>\n",
       "                        <td id=\"T_b5afe266_c45a_11ea_96ba_a820662273d6row9_col1\" class=\"data row9 col1\" >162.05</td>\n",
       "                        <td id=\"T_b5afe266_c45a_11ea_96ba_a820662273d6row9_col2\" class=\"data row9 col2\" >10000.00</td>\n",
       "                        <td id=\"T_b5afe266_c45a_11ea_96ba_a820662273d6row9_col3\" class=\"data row9 col3\" >61.71</td>\n",
       "                        <td id=\"T_b5afe266_c45a_11ea_96ba_a820662273d6row9_col4\" class=\"data row9 col4\" >3.00</td>\n",
       "                        <td id=\"T_b5afe266_c45a_11ea_96ba_a820662273d6row9_col5\" class=\"data row9 col5\" >8412</td>\n",
       "                        <td id=\"T_b5afe266_c45a_11ea_96ba_a820662273d6row9_col6\" class=\"data row9 col6\" >4.86</td>\n",
       "                        <td id=\"T_b5afe266_c45a_11ea_96ba_a820662273d6row9_col7\" class=\"data row9 col7\" >Zwickau_Kreis</td>\n",
       "                        <td id=\"T_b5afe266_c45a_11ea_96ba_a820662273d6row9_col8\" class=\"data row9 col8\" ><a target=\"_blank\" href=\"https://www.immobilienscout24.de/expose/117081262\">https://www.immobilienscout24.de/expose/117081262</a></td>\n",
       "            </tr>\n",
       "    </tbody></table>"
      ],
      "text/plain": [
       "<pandas.io.formats.style.Styler at 0x134481790>"
      ]
     },
     "execution_count": 15,
     "metadata": {},
     "output_type": "execute_result"
    },
    {
     "data": {
      "application/javascript": [
       "\n",
       "            setTimeout(function() {\n",
       "                var nbb_cell_id = 15;\n",
       "                var nbb_unformatted_code = \"df_show = sale_inlier_df.sort_values(\\\"yearly_ROI\\\", ascending=False).head(10)\\ndf_show.style.format({\\\"link\\\": dproc.make_clickable})\";\n",
       "                var nbb_formatted_code = \"df_show = sale_inlier_df.sort_values(\\\"yearly_ROI\\\", ascending=False).head(10)\\ndf_show.style.format({\\\"link\\\": dproc.make_clickable})\";\n",
       "                var nbb_cells = Jupyter.notebook.get_cells();\n",
       "                for (var i = 0; i < nbb_cells.length; ++i) {\n",
       "                    if (nbb_cells[i].input_prompt_number == nbb_cell_id) {\n",
       "                        if (nbb_cells[i].get_text() == nbb_unformatted_code) {\n",
       "                             nbb_cells[i].set_text(nbb_formatted_code);\n",
       "                        }\n",
       "                        break;\n",
       "                    }\n",
       "                }\n",
       "            }, 500);\n",
       "            "
      ],
      "text/plain": [
       "<IPython.core.display.Javascript object>"
      ]
     },
     "metadata": {},
     "output_type": "display_data"
    }
   ],
   "source": [
    "df_show = sale_inlier_df.sort_values(\"yearly_ROI\", ascending=False).head(10)\n",
    "df_show.style.format({\"link\": dproc.make_clickable})"
   ]
  },
  {
   "cell_type": "markdown",
   "metadata": {},
   "source": [
    "### 3.2) Apartments by region"
   ]
  },
  {
   "cell_type": "markdown",
   "metadata": {},
   "source": [
    "#### regions overview:"
   ]
  },
  {
   "cell_type": "code",
   "execution_count": 16,
   "metadata": {
    "scrolled": false
   },
   "outputs": [
    {
     "data": {
      "text/html": [
       "<div>\n",
       "<style scoped>\n",
       "    .dataframe tbody tr th:only-of-type {\n",
       "        vertical-align: middle;\n",
       "    }\n",
       "\n",
       "    .dataframe tbody tr th {\n",
       "        vertical-align: top;\n",
       "    }\n",
       "\n",
       "    .dataframe thead th {\n",
       "        text-align: right;\n",
       "    }\n",
       "</style>\n",
       "<table border=\"1\" class=\"dataframe\">\n",
       "  <thead>\n",
       "    <tr style=\"text-align: right;\">\n",
       "      <th></th>\n",
       "      <th>median_rent_m2</th>\n",
       "      <th>num_rent</th>\n",
       "      <th>median_price_m2</th>\n",
       "      <th>num_sale</th>\n",
       "      <th>median_yearly_ROI</th>\n",
       "    </tr>\n",
       "    <tr>\n",
       "      <th>zipCode</th>\n",
       "      <th></th>\n",
       "      <th></th>\n",
       "      <th></th>\n",
       "      <th></th>\n",
       "      <th></th>\n",
       "    </tr>\n",
       "  </thead>\n",
       "  <tbody>\n",
       "    <tr>\n",
       "      <th>47169</th>\n",
       "      <td>6.20</td>\n",
       "      <td>57</td>\n",
       "      <td>278.90</td>\n",
       "      <td>18.0</td>\n",
       "      <td>0.28</td>\n",
       "    </tr>\n",
       "    <tr>\n",
       "      <th>17139</th>\n",
       "      <td>4.99</td>\n",
       "      <td>20</td>\n",
       "      <td>391.11</td>\n",
       "      <td>6.0</td>\n",
       "      <td>0.15</td>\n",
       "    </tr>\n",
       "    <tr>\n",
       "      <th>47229</th>\n",
       "      <td>6.57</td>\n",
       "      <td>28</td>\n",
       "      <td>576.92</td>\n",
       "      <td>9.0</td>\n",
       "      <td>0.14</td>\n",
       "    </tr>\n",
       "    <tr>\n",
       "      <th>8412</th>\n",
       "      <td>4.86</td>\n",
       "      <td>253</td>\n",
       "      <td>439.31</td>\n",
       "      <td>21.0</td>\n",
       "      <td>0.13</td>\n",
       "    </tr>\n",
       "    <tr>\n",
       "      <th>38700</th>\n",
       "      <td>6.50</td>\n",
       "      <td>17</td>\n",
       "      <td>636.36</td>\n",
       "      <td>17.0</td>\n",
       "      <td>0.12</td>\n",
       "    </tr>\n",
       "    <tr>\n",
       "      <th>...</th>\n",
       "      <td>...</td>\n",
       "      <td>...</td>\n",
       "      <td>...</td>\n",
       "      <td>...</td>\n",
       "      <td>...</td>\n",
       "    </tr>\n",
       "    <tr>\n",
       "      <th>4328</th>\n",
       "      <td>6.50</td>\n",
       "      <td>41</td>\n",
       "      <td>4881.28</td>\n",
       "      <td>42.0</td>\n",
       "      <td>0.02</td>\n",
       "    </tr>\n",
       "    <tr>\n",
       "      <th>80333</th>\n",
       "      <td>26.67</td>\n",
       "      <td>39</td>\n",
       "      <td>20115.54</td>\n",
       "      <td>18.0</td>\n",
       "      <td>0.02</td>\n",
       "    </tr>\n",
       "    <tr>\n",
       "      <th>83700</th>\n",
       "      <td>16.74</td>\n",
       "      <td>9</td>\n",
       "      <td>12692.31</td>\n",
       "      <td>21.0</td>\n",
       "      <td>0.02</td>\n",
       "    </tr>\n",
       "    <tr>\n",
       "      <th>7589</th>\n",
       "      <td>5.00</td>\n",
       "      <td>8</td>\n",
       "      <td>4169.24</td>\n",
       "      <td>9.0</td>\n",
       "      <td>0.01</td>\n",
       "    </tr>\n",
       "    <tr>\n",
       "      <th>28757</th>\n",
       "      <td>5.17</td>\n",
       "      <td>26</td>\n",
       "      <td>4405.45</td>\n",
       "      <td>7.0</td>\n",
       "      <td>0.01</td>\n",
       "    </tr>\n",
       "  </tbody>\n",
       "</table>\n",
       "<p>1611 rows × 5 columns</p>\n",
       "</div>"
      ],
      "text/plain": [
       "         median_rent_m2  num_rent  median_price_m2  num_sale  \\\n",
       "zipCode                                                        \n",
       "47169              6.20        57           278.90      18.0   \n",
       "17139              4.99        20           391.11       6.0   \n",
       "47229              6.57        28           576.92       9.0   \n",
       "8412               4.86       253           439.31      21.0   \n",
       "38700              6.50        17           636.36      17.0   \n",
       "...                 ...       ...              ...       ...   \n",
       "4328               6.50        41          4881.28      42.0   \n",
       "80333             26.67        39         20115.54      18.0   \n",
       "83700             16.74         9         12692.31      21.0   \n",
       "7589               5.00         8          4169.24       9.0   \n",
       "28757              5.17        26          4405.45       7.0   \n",
       "\n",
       "         median_yearly_ROI  \n",
       "zipCode                     \n",
       "47169                 0.28  \n",
       "17139                 0.15  \n",
       "47229                 0.14  \n",
       "8412                  0.13  \n",
       "38700                 0.12  \n",
       "...                    ...  \n",
       "4328                  0.02  \n",
       "80333                 0.02  \n",
       "83700                 0.02  \n",
       "7589                  0.01  \n",
       "28757                 0.01  \n",
       "\n",
       "[1611 rows x 5 columns]"
      ]
     },
     "execution_count": 16,
     "metadata": {},
     "output_type": "execute_result"
    },
    {
     "data": {
      "application/javascript": [
       "\n",
       "            setTimeout(function() {\n",
       "                var nbb_cell_id = 16;\n",
       "                var nbb_unformatted_code = \"min_num = 5\\ncombined_filt_ord = \\\"median_yearly_ROI\\\"\\n\\ncombined_filt = (combined_df[\\\"num_rent\\\"] > min_num) & (\\n    combined_df[\\\"num_sale\\\"] > min_num\\n)\\ncombined_df[combined_filt].sort_values(combined_filt_ord, ascending=False)\";\n",
       "                var nbb_formatted_code = \"min_num = 5\\ncombined_filt_ord = \\\"median_yearly_ROI\\\"\\n\\ncombined_filt = (combined_df[\\\"num_rent\\\"] > min_num) & (\\n    combined_df[\\\"num_sale\\\"] > min_num\\n)\\ncombined_df[combined_filt].sort_values(combined_filt_ord, ascending=False)\";\n",
       "                var nbb_cells = Jupyter.notebook.get_cells();\n",
       "                for (var i = 0; i < nbb_cells.length; ++i) {\n",
       "                    if (nbb_cells[i].input_prompt_number == nbb_cell_id) {\n",
       "                        if (nbb_cells[i].get_text() == nbb_unformatted_code) {\n",
       "                             nbb_cells[i].set_text(nbb_formatted_code);\n",
       "                        }\n",
       "                        break;\n",
       "                    }\n",
       "                }\n",
       "            }, 500);\n",
       "            "
      ],
      "text/plain": [
       "<IPython.core.display.Javascript object>"
      ]
     },
     "metadata": {},
     "output_type": "display_data"
    }
   ],
   "source": [
    "min_num = 5\n",
    "combined_filt_ord = \"median_yearly_ROI\"\n",
    "\n",
    "combined_filt = (combined_df[\"num_rent\"] > min_num) & (\n",
    "    combined_df[\"num_sale\"] > min_num\n",
    ")\n",
    "combined_df[combined_filt].sort_values(combined_filt_ord, ascending=False)"
   ]
  },
  {
   "cell_type": "markdown",
   "metadata": {},
   "source": [
    "#### pick regions to further inspect:"
   ]
  },
  {
   "cell_type": "code",
   "execution_count": 17,
   "metadata": {},
   "outputs": [
    {
     "data": {
      "text/html": [
       "<div>\n",
       "<style scoped>\n",
       "    .dataframe tbody tr th:only-of-type {\n",
       "        vertical-align: middle;\n",
       "    }\n",
       "\n",
       "    .dataframe tbody tr th {\n",
       "        vertical-align: top;\n",
       "    }\n",
       "\n",
       "    .dataframe thead th {\n",
       "        text-align: right;\n",
       "    }\n",
       "</style>\n",
       "<table border=\"1\" class=\"dataframe\">\n",
       "  <thead>\n",
       "    <tr style=\"text-align: right;\">\n",
       "      <th></th>\n",
       "      <th>median_rent_m2</th>\n",
       "      <th>num_rent</th>\n",
       "      <th>median_price_m2</th>\n",
       "      <th>num_sale</th>\n",
       "      <th>median_yearly_ROI</th>\n",
       "    </tr>\n",
       "    <tr>\n",
       "      <th>zipCode</th>\n",
       "      <th></th>\n",
       "      <th></th>\n",
       "      <th></th>\n",
       "      <th></th>\n",
       "      <th></th>\n",
       "    </tr>\n",
       "  </thead>\n",
       "  <tbody>\n",
       "    <tr>\n",
       "      <th>72074</th>\n",
       "      <td>12.5</td>\n",
       "      <td>15</td>\n",
       "      <td>4954.84</td>\n",
       "      <td>3.0</td>\n",
       "      <td>0.03</td>\n",
       "    </tr>\n",
       "  </tbody>\n",
       "</table>\n",
       "</div>"
      ],
      "text/plain": [
       "         median_rent_m2  num_rent  median_price_m2  num_sale  \\\n",
       "zipCode                                                        \n",
       "72074              12.5        15          4954.84       3.0   \n",
       "\n",
       "         median_yearly_ROI  \n",
       "zipCode                     \n",
       "72074                 0.03  "
      ]
     },
     "execution_count": 17,
     "metadata": {},
     "output_type": "execute_result"
    },
    {
     "data": {
      "application/javascript": [
       "\n",
       "            setTimeout(function() {\n",
       "                var nbb_cell_id = 17;\n",
       "                var nbb_unformatted_code = \"regiontype = \\\"zipCode\\\"\\nregions = [72074]\\ncombined_df.loc[regions]\";\n",
       "                var nbb_formatted_code = \"regiontype = \\\"zipCode\\\"\\nregions = [72074]\\ncombined_df.loc[regions]\";\n",
       "                var nbb_cells = Jupyter.notebook.get_cells();\n",
       "                for (var i = 0; i < nbb_cells.length; ++i) {\n",
       "                    if (nbb_cells[i].input_prompt_number == nbb_cell_id) {\n",
       "                        if (nbb_cells[i].get_text() == nbb_unformatted_code) {\n",
       "                             nbb_cells[i].set_text(nbb_formatted_code);\n",
       "                        }\n",
       "                        break;\n",
       "                    }\n",
       "                }\n",
       "            }, 500);\n",
       "            "
      ],
      "text/plain": [
       "<IPython.core.display.Javascript object>"
      ]
     },
     "metadata": {},
     "output_type": "display_data"
    }
   ],
   "source": [
    "regiontype = \"zipCode\"\n",
    "regions = [72074]\n",
    "combined_df.loc[regions]"
   ]
  },
  {
   "cell_type": "markdown",
   "metadata": {},
   "source": [
    "### 3.3) Apartments for rent"
   ]
  },
  {
   "cell_type": "code",
   "execution_count": 18,
   "metadata": {},
   "outputs": [
    {
     "data": {
      "text/html": [
       "<style  type=\"text/css\" >\n",
       "</style><table id=\"T_b5bdd6b4_c45a_11ea_96ba_a820662273d6\" ><thead>    <tr>        <th class=\"blank level0\" ></th>        <th class=\"col_heading level0 col0\" >rent_m2</th>        <th class=\"col_heading level0 col1\" >baseRent</th>        <th class=\"col_heading level0 col2\" >livingSpace</th>        <th class=\"col_heading level0 col3\" >noRooms</th>        <th class=\"col_heading level0 col4\" >zipCode</th>        <th class=\"col_heading level0 col5\" >regio2</th>        <th class=\"col_heading level0 col6\" >link</th>    </tr></thead><tbody>\n",
       "                <tr>\n",
       "                        <th id=\"T_b5bdd6b4_c45a_11ea_96ba_a820662273d6level0_row0\" class=\"row_heading level0 row0\" >67970</th>\n",
       "                        <td id=\"T_b5bdd6b4_c45a_11ea_96ba_a820662273d6row0_col0\" class=\"data row0 col0\" >10.00</td>\n",
       "                        <td id=\"T_b5bdd6b4_c45a_11ea_96ba_a820662273d6row0_col1\" class=\"data row0 col1\" >1500.00</td>\n",
       "                        <td id=\"T_b5bdd6b4_c45a_11ea_96ba_a820662273d6row0_col2\" class=\"data row0 col2\" >150.00</td>\n",
       "                        <td id=\"T_b5bdd6b4_c45a_11ea_96ba_a820662273d6row0_col3\" class=\"data row0 col3\" >5.00</td>\n",
       "                        <td id=\"T_b5bdd6b4_c45a_11ea_96ba_a820662273d6row0_col4\" class=\"data row0 col4\" >72074</td>\n",
       "                        <td id=\"T_b5bdd6b4_c45a_11ea_96ba_a820662273d6row0_col5\" class=\"data row0 col5\" >Tübingen_Kreis</td>\n",
       "                        <td id=\"T_b5bdd6b4_c45a_11ea_96ba_a820662273d6row0_col6\" class=\"data row0 col6\" ><a target=\"_blank\" href=\"https://www.immobilienscout24.de/expose/118496278\">https://www.immobilienscout24.de/expose/118496278</a></td>\n",
       "            </tr>\n",
       "            <tr>\n",
       "                        <th id=\"T_b5bdd6b4_c45a_11ea_96ba_a820662273d6level0_row1\" class=\"row_heading level0 row1\" >41309</th>\n",
       "                        <td id=\"T_b5bdd6b4_c45a_11ea_96ba_a820662273d6row1_col0\" class=\"data row1 col0\" >10.06</td>\n",
       "                        <td id=\"T_b5bdd6b4_c45a_11ea_96ba_a820662273d6row1_col1\" class=\"data row1 col1\" >1150.00</td>\n",
       "                        <td id=\"T_b5bdd6b4_c45a_11ea_96ba_a820662273d6row1_col2\" class=\"data row1 col2\" >114.35</td>\n",
       "                        <td id=\"T_b5bdd6b4_c45a_11ea_96ba_a820662273d6row1_col3\" class=\"data row1 col3\" >4.50</td>\n",
       "                        <td id=\"T_b5bdd6b4_c45a_11ea_96ba_a820662273d6row1_col4\" class=\"data row1 col4\" >72074</td>\n",
       "                        <td id=\"T_b5bdd6b4_c45a_11ea_96ba_a820662273d6row1_col5\" class=\"data row1 col5\" >Tübingen_Kreis</td>\n",
       "                        <td id=\"T_b5bdd6b4_c45a_11ea_96ba_a820662273d6row1_col6\" class=\"data row1 col6\" ><a target=\"_blank\" href=\"https://www.immobilienscout24.de/expose/120380471\">https://www.immobilienscout24.de/expose/120380471</a></td>\n",
       "            </tr>\n",
       "            <tr>\n",
       "                        <th id=\"T_b5bdd6b4_c45a_11ea_96ba_a820662273d6level0_row2\" class=\"row_heading level0 row2\" >43909</th>\n",
       "                        <td id=\"T_b5bdd6b4_c45a_11ea_96ba_a820662273d6row2_col0\" class=\"data row2 col0\" >10.26</td>\n",
       "                        <td id=\"T_b5bdd6b4_c45a_11ea_96ba_a820662273d6row2_col1\" class=\"data row2 col1\" >595.00</td>\n",
       "                        <td id=\"T_b5bdd6b4_c45a_11ea_96ba_a820662273d6row2_col2\" class=\"data row2 col2\" >58.00</td>\n",
       "                        <td id=\"T_b5bdd6b4_c45a_11ea_96ba_a820662273d6row2_col3\" class=\"data row2 col3\" >2.00</td>\n",
       "                        <td id=\"T_b5bdd6b4_c45a_11ea_96ba_a820662273d6row2_col4\" class=\"data row2 col4\" >72074</td>\n",
       "                        <td id=\"T_b5bdd6b4_c45a_11ea_96ba_a820662273d6row2_col5\" class=\"data row2 col5\" >Tübingen_Kreis</td>\n",
       "                        <td id=\"T_b5bdd6b4_c45a_11ea_96ba_a820662273d6row2_col6\" class=\"data row2 col6\" ><a target=\"_blank\" href=\"https://www.immobilienscout24.de/expose/120314110\">https://www.immobilienscout24.de/expose/120314110</a></td>\n",
       "            </tr>\n",
       "            <tr>\n",
       "                        <th id=\"T_b5bdd6b4_c45a_11ea_96ba_a820662273d6level0_row3\" class=\"row_heading level0 row3\" >50368</th>\n",
       "                        <td id=\"T_b5bdd6b4_c45a_11ea_96ba_a820662273d6row3_col0\" class=\"data row3 col0\" >11.00</td>\n",
       "                        <td id=\"T_b5bdd6b4_c45a_11ea_96ba_a820662273d6row3_col1\" class=\"data row3 col1\" >924.00</td>\n",
       "                        <td id=\"T_b5bdd6b4_c45a_11ea_96ba_a820662273d6row3_col2\" class=\"data row3 col2\" >84.00</td>\n",
       "                        <td id=\"T_b5bdd6b4_c45a_11ea_96ba_a820662273d6row3_col3\" class=\"data row3 col3\" >3.00</td>\n",
       "                        <td id=\"T_b5bdd6b4_c45a_11ea_96ba_a820662273d6row3_col4\" class=\"data row3 col4\" >72074</td>\n",
       "                        <td id=\"T_b5bdd6b4_c45a_11ea_96ba_a820662273d6row3_col5\" class=\"data row3 col5\" >Tübingen_Kreis</td>\n",
       "                        <td id=\"T_b5bdd6b4_c45a_11ea_96ba_a820662273d6row3_col6\" class=\"data row3 col6\" ><a target=\"_blank\" href=\"https://www.immobilienscout24.de/expose/120135517\">https://www.immobilienscout24.de/expose/120135517</a></td>\n",
       "            </tr>\n",
       "            <tr>\n",
       "                        <th id=\"T_b5bdd6b4_c45a_11ea_96ba_a820662273d6level0_row4\" class=\"row_heading level0 row4\" >2494</th>\n",
       "                        <td id=\"T_b5bdd6b4_c45a_11ea_96ba_a820662273d6row4_col0\" class=\"data row4 col0\" >11.67</td>\n",
       "                        <td id=\"T_b5bdd6b4_c45a_11ea_96ba_a820662273d6row4_col1\" class=\"data row4 col1\" >700.00</td>\n",
       "                        <td id=\"T_b5bdd6b4_c45a_11ea_96ba_a820662273d6row4_col2\" class=\"data row4 col2\" >60.00</td>\n",
       "                        <td id=\"T_b5bdd6b4_c45a_11ea_96ba_a820662273d6row4_col3\" class=\"data row4 col3\" >2.50</td>\n",
       "                        <td id=\"T_b5bdd6b4_c45a_11ea_96ba_a820662273d6row4_col4\" class=\"data row4 col4\" >72074</td>\n",
       "                        <td id=\"T_b5bdd6b4_c45a_11ea_96ba_a820662273d6row4_col5\" class=\"data row4 col5\" >Tübingen_Kreis</td>\n",
       "                        <td id=\"T_b5bdd6b4_c45a_11ea_96ba_a820662273d6row4_col6\" class=\"data row4 col6\" ><a target=\"_blank\" href=\"https://www.immobilienscout24.de/expose/120267922\">https://www.immobilienscout24.de/expose/120267922</a></td>\n",
       "            </tr>\n",
       "            <tr>\n",
       "                        <th id=\"T_b5bdd6b4_c45a_11ea_96ba_a820662273d6level0_row5\" class=\"row_heading level0 row5\" >43074</th>\n",
       "                        <td id=\"T_b5bdd6b4_c45a_11ea_96ba_a820662273d6row5_col0\" class=\"data row5 col0\" >12.00</td>\n",
       "                        <td id=\"T_b5bdd6b4_c45a_11ea_96ba_a820662273d6row5_col1\" class=\"data row5 col1\" >1020.00</td>\n",
       "                        <td id=\"T_b5bdd6b4_c45a_11ea_96ba_a820662273d6row5_col2\" class=\"data row5 col2\" >84.98</td>\n",
       "                        <td id=\"T_b5bdd6b4_c45a_11ea_96ba_a820662273d6row5_col3\" class=\"data row5 col3\" >3.00</td>\n",
       "                        <td id=\"T_b5bdd6b4_c45a_11ea_96ba_a820662273d6row5_col4\" class=\"data row5 col4\" >72074</td>\n",
       "                        <td id=\"T_b5bdd6b4_c45a_11ea_96ba_a820662273d6row5_col5\" class=\"data row5 col5\" >Tübingen_Kreis</td>\n",
       "                        <td id=\"T_b5bdd6b4_c45a_11ea_96ba_a820662273d6row5_col6\" class=\"data row5 col6\" ><a target=\"_blank\" href=\"https://www.immobilienscout24.de/expose/120335282\">https://www.immobilienscout24.de/expose/120335282</a></td>\n",
       "            </tr>\n",
       "            <tr>\n",
       "                        <th id=\"T_b5bdd6b4_c45a_11ea_96ba_a820662273d6level0_row6\" class=\"row_heading level0 row6\" >47350</th>\n",
       "                        <td id=\"T_b5bdd6b4_c45a_11ea_96ba_a820662273d6row6_col0\" class=\"data row6 col0\" >12.22</td>\n",
       "                        <td id=\"T_b5bdd6b4_c45a_11ea_96ba_a820662273d6row6_col1\" class=\"data row6 col1\" >1150.00</td>\n",
       "                        <td id=\"T_b5bdd6b4_c45a_11ea_96ba_a820662273d6row6_col2\" class=\"data row6 col2\" >94.10</td>\n",
       "                        <td id=\"T_b5bdd6b4_c45a_11ea_96ba_a820662273d6row6_col3\" class=\"data row6 col3\" >3.50</td>\n",
       "                        <td id=\"T_b5bdd6b4_c45a_11ea_96ba_a820662273d6row6_col4\" class=\"data row6 col4\" >72074</td>\n",
       "                        <td id=\"T_b5bdd6b4_c45a_11ea_96ba_a820662273d6row6_col5\" class=\"data row6 col5\" >Tübingen_Kreis</td>\n",
       "                        <td id=\"T_b5bdd6b4_c45a_11ea_96ba_a820662273d6row6_col6\" class=\"data row6 col6\" ><a target=\"_blank\" href=\"https://www.immobilienscout24.de/expose/120230564\">https://www.immobilienscout24.de/expose/120230564</a></td>\n",
       "            </tr>\n",
       "            <tr>\n",
       "                        <th id=\"T_b5bdd6b4_c45a_11ea_96ba_a820662273d6level0_row7\" class=\"row_heading level0 row7\" >40707</th>\n",
       "                        <td id=\"T_b5bdd6b4_c45a_11ea_96ba_a820662273d6row7_col0\" class=\"data row7 col0\" >12.50</td>\n",
       "                        <td id=\"T_b5bdd6b4_c45a_11ea_96ba_a820662273d6row7_col1\" class=\"data row7 col1\" >450.00</td>\n",
       "                        <td id=\"T_b5bdd6b4_c45a_11ea_96ba_a820662273d6row7_col2\" class=\"data row7 col2\" >36.00</td>\n",
       "                        <td id=\"T_b5bdd6b4_c45a_11ea_96ba_a820662273d6row7_col3\" class=\"data row7 col3\" >1.00</td>\n",
       "                        <td id=\"T_b5bdd6b4_c45a_11ea_96ba_a820662273d6row7_col4\" class=\"data row7 col4\" >72074</td>\n",
       "                        <td id=\"T_b5bdd6b4_c45a_11ea_96ba_a820662273d6row7_col5\" class=\"data row7 col5\" >Tübingen_Kreis</td>\n",
       "                        <td id=\"T_b5bdd6b4_c45a_11ea_96ba_a820662273d6row7_col6\" class=\"data row7 col6\" ><a target=\"_blank\" href=\"https://www.immobilienscout24.de/expose/120408819\">https://www.immobilienscout24.de/expose/120408819</a></td>\n",
       "            </tr>\n",
       "            <tr>\n",
       "                        <th id=\"T_b5bdd6b4_c45a_11ea_96ba_a820662273d6level0_row8\" class=\"row_heading level0 row8\" >94892</th>\n",
       "                        <td id=\"T_b5bdd6b4_c45a_11ea_96ba_a820662273d6row8_col0\" class=\"data row8 col0\" >13.23</td>\n",
       "                        <td id=\"T_b5bdd6b4_c45a_11ea_96ba_a820662273d6row8_col1\" class=\"data row8 col1\" >410.00</td>\n",
       "                        <td id=\"T_b5bdd6b4_c45a_11ea_96ba_a820662273d6row8_col2\" class=\"data row8 col2\" >31.00</td>\n",
       "                        <td id=\"T_b5bdd6b4_c45a_11ea_96ba_a820662273d6row8_col3\" class=\"data row8 col3\" >1.00</td>\n",
       "                        <td id=\"T_b5bdd6b4_c45a_11ea_96ba_a820662273d6row8_col4\" class=\"data row8 col4\" >72074</td>\n",
       "                        <td id=\"T_b5bdd6b4_c45a_11ea_96ba_a820662273d6row8_col5\" class=\"data row8 col5\" >Tübingen_Kreis</td>\n",
       "                        <td id=\"T_b5bdd6b4_c45a_11ea_96ba_a820662273d6row8_col6\" class=\"data row8 col6\" ><a target=\"_blank\" href=\"https://www.immobilienscout24.de/expose/96006808\">https://www.immobilienscout24.de/expose/96006808</a></td>\n",
       "            </tr>\n",
       "            <tr>\n",
       "                        <th id=\"T_b5bdd6b4_c45a_11ea_96ba_a820662273d6level0_row9\" class=\"row_heading level0 row9\" >14255</th>\n",
       "                        <td id=\"T_b5bdd6b4_c45a_11ea_96ba_a820662273d6row9_col0\" class=\"data row9 col0\" >14.00</td>\n",
       "                        <td id=\"T_b5bdd6b4_c45a_11ea_96ba_a820662273d6row9_col1\" class=\"data row9 col1\" >1470.00</td>\n",
       "                        <td id=\"T_b5bdd6b4_c45a_11ea_96ba_a820662273d6row9_col2\" class=\"data row9 col2\" >105.00</td>\n",
       "                        <td id=\"T_b5bdd6b4_c45a_11ea_96ba_a820662273d6row9_col3\" class=\"data row9 col3\" >3.00</td>\n",
       "                        <td id=\"T_b5bdd6b4_c45a_11ea_96ba_a820662273d6row9_col4\" class=\"data row9 col4\" >72074</td>\n",
       "                        <td id=\"T_b5bdd6b4_c45a_11ea_96ba_a820662273d6row9_col5\" class=\"data row9 col5\" >Tübingen_Kreis</td>\n",
       "                        <td id=\"T_b5bdd6b4_c45a_11ea_96ba_a820662273d6row9_col6\" class=\"data row9 col6\" ><a target=\"_blank\" href=\"https://www.immobilienscout24.de/expose/117551317\">https://www.immobilienscout24.de/expose/117551317</a></td>\n",
       "            </tr>\n",
       "            <tr>\n",
       "                        <th id=\"T_b5bdd6b4_c45a_11ea_96ba_a820662273d6level0_row10\" class=\"row_heading level0 row10\" >92829</th>\n",
       "                        <td id=\"T_b5bdd6b4_c45a_11ea_96ba_a820662273d6row10_col0\" class=\"data row10 col0\" >14.47</td>\n",
       "                        <td id=\"T_b5bdd6b4_c45a_11ea_96ba_a820662273d6row10_col1\" class=\"data row10 col1\" >275.00</td>\n",
       "                        <td id=\"T_b5bdd6b4_c45a_11ea_96ba_a820662273d6row10_col2\" class=\"data row10 col2\" >19.00</td>\n",
       "                        <td id=\"T_b5bdd6b4_c45a_11ea_96ba_a820662273d6row10_col3\" class=\"data row10 col3\" >1.00</td>\n",
       "                        <td id=\"T_b5bdd6b4_c45a_11ea_96ba_a820662273d6row10_col4\" class=\"data row10 col4\" >72074</td>\n",
       "                        <td id=\"T_b5bdd6b4_c45a_11ea_96ba_a820662273d6row10_col5\" class=\"data row10 col5\" >Tübingen_Kreis</td>\n",
       "                        <td id=\"T_b5bdd6b4_c45a_11ea_96ba_a820662273d6row10_col6\" class=\"data row10 col6\" ><a target=\"_blank\" href=\"https://www.immobilienscout24.de/expose/104538924\">https://www.immobilienscout24.de/expose/104538924</a></td>\n",
       "            </tr>\n",
       "            <tr>\n",
       "                        <th id=\"T_b5bdd6b4_c45a_11ea_96ba_a820662273d6level0_row11\" class=\"row_heading level0 row11\" >19514</th>\n",
       "                        <td id=\"T_b5bdd6b4_c45a_11ea_96ba_a820662273d6row11_col0\" class=\"data row11 col0\" >15.57</td>\n",
       "                        <td id=\"T_b5bdd6b4_c45a_11ea_96ba_a820662273d6row11_col1\" class=\"data row11 col1\" >475.00</td>\n",
       "                        <td id=\"T_b5bdd6b4_c45a_11ea_96ba_a820662273d6row11_col2\" class=\"data row11 col2\" >30.50</td>\n",
       "                        <td id=\"T_b5bdd6b4_c45a_11ea_96ba_a820662273d6row11_col3\" class=\"data row11 col3\" >1.50</td>\n",
       "                        <td id=\"T_b5bdd6b4_c45a_11ea_96ba_a820662273d6row11_col4\" class=\"data row11 col4\" >72074</td>\n",
       "                        <td id=\"T_b5bdd6b4_c45a_11ea_96ba_a820662273d6row11_col5\" class=\"data row11 col5\" >Tübingen_Kreis</td>\n",
       "                        <td id=\"T_b5bdd6b4_c45a_11ea_96ba_a820662273d6row11_col6\" class=\"data row11 col6\" ><a target=\"_blank\" href=\"https://www.immobilienscout24.de/expose/94758279\">https://www.immobilienscout24.de/expose/94758279</a></td>\n",
       "            </tr>\n",
       "            <tr>\n",
       "                        <th id=\"T_b5bdd6b4_c45a_11ea_96ba_a820662273d6level0_row12\" class=\"row_heading level0 row12\" >98235</th>\n",
       "                        <td id=\"T_b5bdd6b4_c45a_11ea_96ba_a820662273d6row12_col0\" class=\"data row12 col0\" >16.00</td>\n",
       "                        <td id=\"T_b5bdd6b4_c45a_11ea_96ba_a820662273d6row12_col1\" class=\"data row12 col1\" >320.00</td>\n",
       "                        <td id=\"T_b5bdd6b4_c45a_11ea_96ba_a820662273d6row12_col2\" class=\"data row12 col2\" >20.00</td>\n",
       "                        <td id=\"T_b5bdd6b4_c45a_11ea_96ba_a820662273d6row12_col3\" class=\"data row12 col3\" >1.00</td>\n",
       "                        <td id=\"T_b5bdd6b4_c45a_11ea_96ba_a820662273d6row12_col4\" class=\"data row12 col4\" >72074</td>\n",
       "                        <td id=\"T_b5bdd6b4_c45a_11ea_96ba_a820662273d6row12_col5\" class=\"data row12 col5\" >Tübingen_Kreis</td>\n",
       "                        <td id=\"T_b5bdd6b4_c45a_11ea_96ba_a820662273d6row12_col6\" class=\"data row12 col6\" ><a target=\"_blank\" href=\"https://www.immobilienscout24.de/expose/77889676\">https://www.immobilienscout24.de/expose/77889676</a></td>\n",
       "            </tr>\n",
       "            <tr>\n",
       "                        <th id=\"T_b5bdd6b4_c45a_11ea_96ba_a820662273d6level0_row13\" class=\"row_heading level0 row13\" >38628</th>\n",
       "                        <td id=\"T_b5bdd6b4_c45a_11ea_96ba_a820662273d6row13_col0\" class=\"data row13 col0\" >17.69</td>\n",
       "                        <td id=\"T_b5bdd6b4_c45a_11ea_96ba_a820662273d6row13_col1\" class=\"data row13 col1\" >1380.00</td>\n",
       "                        <td id=\"T_b5bdd6b4_c45a_11ea_96ba_a820662273d6row13_col2\" class=\"data row13 col2\" >78.00</td>\n",
       "                        <td id=\"T_b5bdd6b4_c45a_11ea_96ba_a820662273d6row13_col3\" class=\"data row13 col3\" >3.00</td>\n",
       "                        <td id=\"T_b5bdd6b4_c45a_11ea_96ba_a820662273d6row13_col4\" class=\"data row13 col4\" >72074</td>\n",
       "                        <td id=\"T_b5bdd6b4_c45a_11ea_96ba_a820662273d6row13_col5\" class=\"data row13 col5\" >Tübingen_Kreis</td>\n",
       "                        <td id=\"T_b5bdd6b4_c45a_11ea_96ba_a820662273d6row13_col6\" class=\"data row13 col6\" ><a target=\"_blank\" href=\"https://www.immobilienscout24.de/expose/120190154\">https://www.immobilienscout24.de/expose/120190154</a></td>\n",
       "            </tr>\n",
       "            <tr>\n",
       "                        <th id=\"T_b5bdd6b4_c45a_11ea_96ba_a820662273d6level0_row14\" class=\"row_heading level0 row14\" >50930</th>\n",
       "                        <td id=\"T_b5bdd6b4_c45a_11ea_96ba_a820662273d6row14_col0\" class=\"data row14 col0\" >21.30</td>\n",
       "                        <td id=\"T_b5bdd6b4_c45a_11ea_96ba_a820662273d6row14_col1\" class=\"data row14 col1\" >980.00</td>\n",
       "                        <td id=\"T_b5bdd6b4_c45a_11ea_96ba_a820662273d6row14_col2\" class=\"data row14 col2\" >46.00</td>\n",
       "                        <td id=\"T_b5bdd6b4_c45a_11ea_96ba_a820662273d6row14_col3\" class=\"data row14 col3\" >2.00</td>\n",
       "                        <td id=\"T_b5bdd6b4_c45a_11ea_96ba_a820662273d6row14_col4\" class=\"data row14 col4\" >72074</td>\n",
       "                        <td id=\"T_b5bdd6b4_c45a_11ea_96ba_a820662273d6row14_col5\" class=\"data row14 col5\" >Tübingen_Kreis</td>\n",
       "                        <td id=\"T_b5bdd6b4_c45a_11ea_96ba_a820662273d6row14_col6\" class=\"data row14 col6\" ><a target=\"_blank\" href=\"https://www.immobilienscout24.de/expose/120098486\">https://www.immobilienscout24.de/expose/120098486</a></td>\n",
       "            </tr>\n",
       "    </tbody></table>"
      ],
      "text/plain": [
       "<pandas.io.formats.style.Styler at 0x12f50c580>"
      ]
     },
     "execution_count": 18,
     "metadata": {},
     "output_type": "execute_result"
    },
    {
     "data": {
      "application/javascript": [
       "\n",
       "            setTimeout(function() {\n",
       "                var nbb_cell_id = 18;\n",
       "                var nbb_unformatted_code = \"rent_filt = rent_select_df[regiontype].isin(regions)\\ndf_show = rent_select_df[rent_filt].sort_values(\\\"rent_m2\\\")\\n\\ndf_show.style.format({\\\"link\\\": dproc.make_clickable})\";\n",
       "                var nbb_formatted_code = \"rent_filt = rent_select_df[regiontype].isin(regions)\\ndf_show = rent_select_df[rent_filt].sort_values(\\\"rent_m2\\\")\\n\\ndf_show.style.format({\\\"link\\\": dproc.make_clickable})\";\n",
       "                var nbb_cells = Jupyter.notebook.get_cells();\n",
       "                for (var i = 0; i < nbb_cells.length; ++i) {\n",
       "                    if (nbb_cells[i].input_prompt_number == nbb_cell_id) {\n",
       "                        if (nbb_cells[i].get_text() == nbb_unformatted_code) {\n",
       "                             nbb_cells[i].set_text(nbb_formatted_code);\n",
       "                        }\n",
       "                        break;\n",
       "                    }\n",
       "                }\n",
       "            }, 500);\n",
       "            "
      ],
      "text/plain": [
       "<IPython.core.display.Javascript object>"
      ]
     },
     "metadata": {},
     "output_type": "display_data"
    }
   ],
   "source": [
    "rent_filt = rent_select_df[regiontype].isin(regions)\n",
    "df_show = rent_select_df[rent_filt].sort_values(\"rent_m2\")\n",
    "\n",
    "df_show.style.format({\"link\": dproc.make_clickable})"
   ]
  },
  {
   "cell_type": "markdown",
   "metadata": {},
   "source": [
    "### 3.4) Apartments for sale"
   ]
  },
  {
   "cell_type": "code",
   "execution_count": 19,
   "metadata": {},
   "outputs": [
    {
     "data": {
      "text/html": [
       "<style  type=\"text/css\" >\n",
       "</style><table id=\"T_b5c27278_c45a_11ea_96ba_a820662273d6\" ><thead>    <tr>        <th class=\"blank level0\" ></th>        <th class=\"col_heading level0 col0\" >yearly_ROI</th>        <th class=\"col_heading level0 col1\" >price_m2</th>        <th class=\"col_heading level0 col2\" >purchasePrice</th>        <th class=\"col_heading level0 col3\" >livingSpace</th>        <th class=\"col_heading level0 col4\" >noRooms</th>        <th class=\"col_heading level0 col5\" >zipCode</th>        <th class=\"col_heading level0 col6\" >rent_m2_zC</th>        <th class=\"col_heading level0 col7\" >regio2</th>        <th class=\"col_heading level0 col8\" >link</th>    </tr></thead><tbody>\n",
       "                <tr>\n",
       "                        <th id=\"T_b5c27278_c45a_11ea_96ba_a820662273d6level0_row0\" class=\"row_heading level0 row0\" >11463</th>\n",
       "                        <td id=\"T_b5c27278_c45a_11ea_96ba_a820662273d6row0_col0\" class=\"data row0 col0\" >0.03</td>\n",
       "                        <td id=\"T_b5c27278_c45a_11ea_96ba_a820662273d6row0_col1\" class=\"data row0 col1\" >4736.84</td>\n",
       "                        <td id=\"T_b5c27278_c45a_11ea_96ba_a820662273d6row0_col2\" class=\"data row0 col2\" >360000.00</td>\n",
       "                        <td id=\"T_b5c27278_c45a_11ea_96ba_a820662273d6row0_col3\" class=\"data row0 col3\" >76.00</td>\n",
       "                        <td id=\"T_b5c27278_c45a_11ea_96ba_a820662273d6row0_col4\" class=\"data row0 col4\" >3.00</td>\n",
       "                        <td id=\"T_b5c27278_c45a_11ea_96ba_a820662273d6row0_col5\" class=\"data row0 col5\" >72074</td>\n",
       "                        <td id=\"T_b5c27278_c45a_11ea_96ba_a820662273d6row0_col6\" class=\"data row0 col6\" >12.50</td>\n",
       "                        <td id=\"T_b5c27278_c45a_11ea_96ba_a820662273d6row0_col7\" class=\"data row0 col7\" >Tübingen_Kreis</td>\n",
       "                        <td id=\"T_b5c27278_c45a_11ea_96ba_a820662273d6row0_col8\" class=\"data row0 col8\" ><a target=\"_blank\" href=\"https://www.immobilienscout24.de/expose/116571440\">https://www.immobilienscout24.de/expose/116571440</a></td>\n",
       "            </tr>\n",
       "            <tr>\n",
       "                        <th id=\"T_b5c27278_c45a_11ea_96ba_a820662273d6level0_row1\" class=\"row_heading level0 row1\" >3389</th>\n",
       "                        <td id=\"T_b5c27278_c45a_11ea_96ba_a820662273d6row1_col0\" class=\"data row1 col0\" >0.03</td>\n",
       "                        <td id=\"T_b5c27278_c45a_11ea_96ba_a820662273d6row1_col1\" class=\"data row1 col1\" >4954.84</td>\n",
       "                        <td id=\"T_b5c27278_c45a_11ea_96ba_a820662273d6row1_col2\" class=\"data row1 col2\" >768000.00</td>\n",
       "                        <td id=\"T_b5c27278_c45a_11ea_96ba_a820662273d6row1_col3\" class=\"data row1 col3\" >155.00</td>\n",
       "                        <td id=\"T_b5c27278_c45a_11ea_96ba_a820662273d6row1_col4\" class=\"data row1 col4\" >4.00</td>\n",
       "                        <td id=\"T_b5c27278_c45a_11ea_96ba_a820662273d6row1_col5\" class=\"data row1 col5\" >72074</td>\n",
       "                        <td id=\"T_b5c27278_c45a_11ea_96ba_a820662273d6row1_col6\" class=\"data row1 col6\" >12.50</td>\n",
       "                        <td id=\"T_b5c27278_c45a_11ea_96ba_a820662273d6row1_col7\" class=\"data row1 col7\" >Tübingen_Kreis</td>\n",
       "                        <td id=\"T_b5c27278_c45a_11ea_96ba_a820662273d6row1_col8\" class=\"data row1 col8\" ><a target=\"_blank\" href=\"https://www.immobilienscout24.de/expose/117501062\">https://www.immobilienscout24.de/expose/117501062</a></td>\n",
       "            </tr>\n",
       "            <tr>\n",
       "                        <th id=\"T_b5c27278_c45a_11ea_96ba_a820662273d6level0_row2\" class=\"row_heading level0 row2\" >20160</th>\n",
       "                        <td id=\"T_b5c27278_c45a_11ea_96ba_a820662273d6row2_col0\" class=\"data row2 col0\" >0.03</td>\n",
       "                        <td id=\"T_b5c27278_c45a_11ea_96ba_a820662273d6row2_col1\" class=\"data row2 col1\" >5572.73</td>\n",
       "                        <td id=\"T_b5c27278_c45a_11ea_96ba_a820662273d6row2_col2\" class=\"data row2 col2\" >613000.00</td>\n",
       "                        <td id=\"T_b5c27278_c45a_11ea_96ba_a820662273d6row2_col3\" class=\"data row2 col3\" >110.00</td>\n",
       "                        <td id=\"T_b5c27278_c45a_11ea_96ba_a820662273d6row2_col4\" class=\"data row2 col4\" >4.50</td>\n",
       "                        <td id=\"T_b5c27278_c45a_11ea_96ba_a820662273d6row2_col5\" class=\"data row2 col5\" >72074</td>\n",
       "                        <td id=\"T_b5c27278_c45a_11ea_96ba_a820662273d6row2_col6\" class=\"data row2 col6\" >12.50</td>\n",
       "                        <td id=\"T_b5c27278_c45a_11ea_96ba_a820662273d6row2_col7\" class=\"data row2 col7\" >Tübingen_Kreis</td>\n",
       "                        <td id=\"T_b5c27278_c45a_11ea_96ba_a820662273d6row2_col8\" class=\"data row2 col8\" ><a target=\"_blank\" href=\"https://www.immobilienscout24.de/expose/117071241\">https://www.immobilienscout24.de/expose/117071241</a></td>\n",
       "            </tr>\n",
       "    </tbody></table>"
      ],
      "text/plain": [
       "<pandas.io.formats.style.Styler at 0x134481b20>"
      ]
     },
     "execution_count": 19,
     "metadata": {},
     "output_type": "execute_result"
    },
    {
     "data": {
      "application/javascript": [
       "\n",
       "            setTimeout(function() {\n",
       "                var nbb_cell_id = 19;\n",
       "                var nbb_unformatted_code = \"sale_filt = sale_select_df[regiontype].isin(regions)\\ndf_show = sale_select_df[sale_filt].sort_values(\\\"yearly_ROI\\\", ascending=False)\\n\\ndf_show.style.format({\\\"link\\\": dproc.make_clickable})\";\n",
       "                var nbb_formatted_code = \"sale_filt = sale_select_df[regiontype].isin(regions)\\ndf_show = sale_select_df[sale_filt].sort_values(\\\"yearly_ROI\\\", ascending=False)\\n\\ndf_show.style.format({\\\"link\\\": dproc.make_clickable})\";\n",
       "                var nbb_cells = Jupyter.notebook.get_cells();\n",
       "                for (var i = 0; i < nbb_cells.length; ++i) {\n",
       "                    if (nbb_cells[i].input_prompt_number == nbb_cell_id) {\n",
       "                        if (nbb_cells[i].get_text() == nbb_unformatted_code) {\n",
       "                             nbb_cells[i].set_text(nbb_formatted_code);\n",
       "                        }\n",
       "                        break;\n",
       "                    }\n",
       "                }\n",
       "            }, 500);\n",
       "            "
      ],
      "text/plain": [
       "<IPython.core.display.Javascript object>"
      ]
     },
     "metadata": {},
     "output_type": "display_data"
    }
   ],
   "source": [
    "sale_filt = sale_select_df[regiontype].isin(regions)\n",
    "df_show = sale_select_df[sale_filt].sort_values(\"yearly_ROI\", ascending=False)\n",
    "\n",
    "df_show.style.format({\"link\": dproc.make_clickable})"
   ]
  }
 ],
 "metadata": {
  "file_extension": ".py",
  "kernelspec": {
   "display_name": "Python 3",
   "language": "python",
   "name": "python3"
  },
  "language_info": {
   "codemirror_mode": {
    "name": "ipython",
    "version": 3
   },
   "file_extension": ".py",
   "mimetype": "text/x-python",
   "name": "python",
   "nbconvert_exporter": "python",
   "pygments_lexer": "ipython3",
   "version": "3.8.2"
  },
  "mimetype": "text/x-python",
  "name": "python",
  "npconvert_exporter": "python",
  "pygments_lexer": "ipython3",
  "version": 3
 },
 "nbformat": 4,
 "nbformat_minor": 2
}
